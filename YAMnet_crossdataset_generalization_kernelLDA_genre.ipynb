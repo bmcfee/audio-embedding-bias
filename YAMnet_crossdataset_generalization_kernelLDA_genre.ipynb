{
 "cells": [
  {
   "cell_type": "code",
   "execution_count": 1,
   "metadata": {},
   "outputs": [],
   "source": [
    "%matplotlib inline\n",
    "import matplotlib.pyplot as plt\n",
    "import seaborn as sns\n",
    "import numpy as np\n",
    "import librosa\n",
    "from tqdm import tqdm_notebook as tqdm\n",
    "import json\n",
    "import pandas as pd\n",
    "import os\n",
    "import h5py\n",
    "import pickle\n",
    "import numpy.linalg as la\n",
    "import warnings\n",
    "warnings.filterwarnings('ignore')\n",
    "\n",
    "from sklearn.linear_model import LogisticRegression\n",
    "from sklearn.model_selection import GridSearchCV\n",
    "from sklearn.discriminant_analysis import LinearDiscriminantAnalysis\n",
    "from sklearn.metrics import classification_report, roc_auc_score, average_precision_score\n",
    "from sklearn.kernel_approximation import RBFSampler"
   ]
  },
  {
   "cell_type": "markdown",
   "metadata": {},
   "source": [
    "# Load embeddings and align classes"
   ]
  },
  {
   "cell_type": "code",
   "execution_count": 2,
   "metadata": {},
   "outputs": [
    {
     "name": "stdout",
     "output_type": "stream",
     "text": [
      "irmas\n",
      "irmas/openl3\n",
      "irmas/openl3/features\n",
      "irmas/openl3/keys\n",
      "irmas/vggish\n",
      "irmas/vggish/features\n",
      "irmas/vggish/keys\n",
      "irmas/yamnet\n",
      "irmas/yamnet/features\n",
      "irmas/yamnet/keys\n",
      "openmic\n",
      "openmic/openl3\n",
      "openmic/openl3/features\n",
      "openmic/openl3/keys\n",
      "openmic/vggish\n",
      "openmic/vggish/features\n",
      "openmic/vggish/keys\n",
      "openmic/yamnet\n",
      "openmic/yamnet/features\n",
      "openmic/yamnet/keys\n"
     ]
    }
   ],
   "source": [
    "embeddings = h5py.File('embeddings.h5', 'r')\n",
    "\n",
    "def printname(name):\n",
    "    print(name)\n",
    "embeddings.visit(printname)"
   ]
  },
  {
   "cell_type": "code",
   "execution_count": 3,
   "metadata": {},
   "outputs": [
    {
     "data": {
      "text/plain": [
       "{'cello': 3,\n",
       " 'clarinet': 4,\n",
       " 'flute': 7,\n",
       " 'guitar': 8,\n",
       " 'organ': 11,\n",
       " 'piano': 12,\n",
       " 'saxophone': 13,\n",
       " 'trumpet': 16,\n",
       " 'violin': 18,\n",
       " 'voice': 19}"
      ]
     },
     "execution_count": 3,
     "metadata": {},
     "output_type": "execute_result"
    }
   ],
   "source": [
    "with open('class-map-10.json', 'r') as f: # only consider 10 classes of Openmic dataset\n",
    "    class_map = json.load(f)\n",
    "    \n",
    "class_map"
   ]
  },
  {
   "cell_type": "code",
   "execution_count": 4,
   "metadata": {},
   "outputs": [],
   "source": [
    "# use a dict to align the classes between Openmic dataset (key) and Irmas dataset (val)\n",
    "class_align = {'cello': 'cel',\n",
    "               'clarinet': 'cla',\n",
    "               'flute': 'flu',\n",
    "               'guitar': ['gac', 'gel'],\n",
    "               'organ': 'org',\n",
    "               'piano': 'pia',\n",
    "               'saxophone': 'sax',\n",
    "               'trumpet': 'tru',\n",
    "               'violin': 'vio',\n",
    "               'voice': 'voi'}"
   ]
  },
  {
   "cell_type": "code",
   "execution_count": 5,
   "metadata": {},
   "outputs": [],
   "source": [
    "# use a Pandas DataFrame to record all results and save into a csv file later\n",
    "result_all = pd.DataFrame({'instrument': [],\n",
    "                          'train_set': [],\n",
    "                          'test_set': [],\n",
    "                          'precision': [],\n",
    "                          'recall': [],\n",
    "                          'f1-score': [],\n",
    "                          'support': [],\n",
    "                          'accuracy': [],\n",
    "                          'roc_auc': [],\n",
    "                          'ap': []\n",
    "                         })"
   ]
  },
  {
   "cell_type": "code",
   "execution_count": 6,
   "metadata": {},
   "outputs": [],
   "source": [
    "embedding_name = 'yamnet'"
   ]
  },
  {
   "cell_type": "markdown",
   "metadata": {},
   "source": [
    "# irmas->irmas"
   ]
  },
  {
   "cell_type": "code",
   "execution_count": 7,
   "metadata": {},
   "outputs": [
    {
     "name": "stdout",
     "output_type": "stream",
     "text": [
      "(33525, 1024) (33525,)\n",
      "(6705,)\n"
     ]
    }
   ],
   "source": [
    "# irmas: Vggish embedding\n",
    "feature = np.array(embeddings['irmas'][embedding_name]['features'])\n",
    "keys_ori = np.array(embeddings['irmas'][embedding_name]['keys'])\n",
    "print(feature.shape, keys_ori.shape)\n",
    "\n",
    "key_clip = np.unique(keys_ori)\n",
    "print(key_clip.shape)"
   ]
  },
  {
   "cell_type": "code",
   "execution_count": 8,
   "metadata": {},
   "outputs": [
    {
     "data": {
      "text/plain": [
       "array(['001__[gel][dru][pop_roc]0829__1',\n",
       "       '001__[gel][dru][pop_roc]0829__2',\n",
       "       '001__[gel][dru][pop_roc]0829__3', ..., '[voi][pop_roc]2548__1',\n",
       "       '[voi][pop_roc]2548__2', '[voi][pop_roc]2548__3'], dtype=object)"
      ]
     },
     "execution_count": 8,
     "metadata": {},
     "output_type": "execute_result"
    }
   ],
   "source": [
    "key_clip"
   ]
  },
  {
   "cell_type": "code",
   "execution_count": 9,
   "metadata": {},
   "outputs": [
    {
     "data": {
      "application/vnd.jupyter.widget-view+json": {
       "model_id": "4db8b34e4787473db58d5252e6483392",
       "version_major": 2,
       "version_minor": 0
      },
      "text/plain": [
       "  0%|          | 0/6705 [00:00<?, ?it/s]"
      ]
     },
     "metadata": {},
     "output_type": "display_data"
    },
    {
     "name": "stdout",
     "output_type": "stream",
     "text": [
      "(6705, 1024) (6705,)\n"
     ]
    }
   ],
   "source": [
    "feature_clip = []\n",
    "\n",
    "for key in tqdm(key_clip):\n",
    "    feature_clip.append(np.mean(feature[keys_ori[:]==key,:],axis=0))\n",
    "    \n",
    "feature_clip = np.array(feature_clip)\n",
    "print(feature_clip.shape, key_clip.shape)"
   ]
  },
  {
   "cell_type": "code",
   "execution_count": 10,
   "metadata": {},
   "outputs": [],
   "source": [
    "key_train = list(pd.read_csv('irmas_train.csv', header=None, squeeze=True))\n",
    "key_test = list(pd.read_csv('irmas_test.csv', header=None, squeeze=True))\n",
    "\n",
    "key_train = np.array([k[2:-1] for k in key_train])\n",
    "key_test = np.array([k[2:-1]  for k in key_test])"
   ]
  },
  {
   "cell_type": "code",
   "execution_count": 11,
   "metadata": {},
   "outputs": [],
   "source": [
    "# these loops go through all sample keys, and save their row numbers to either idx_train or idx_test\n",
    "idx_train, idx_test = [], []\n",
    "\n",
    "for k in range(len(key_clip)):\n",
    "    if str(key_clip[k]) in key_train:\n",
    "        idx_train.append(k)\n",
    "    elif str(key_clip[k]) in key_test:\n",
    "        idx_test.append(k)\n",
    "    else:\n",
    "        # This should never happen, but better safe than sorry.\n",
    "        raise RuntimeError('Unknown sample key={}! Abort!'.format(str(key_clip[k])))\n",
    "        \n",
    "# cast the idx_* arrays to numpy structures\n",
    "idx_train = np.asarray(idx_train)\n",
    "idx_test = np.asarray(idx_test)"
   ]
  },
  {
   "cell_type": "code",
   "execution_count": 12,
   "metadata": {},
   "outputs": [
    {
     "data": {
      "text/plain": [
       "array(['cello', 'clarinet', 'flute', 'guitar', 'organ', 'piano',\n",
       "       'saxophone', 'trumpet', 'violin', 'voice'], dtype='<U9')"
      ]
     },
     "execution_count": 12,
     "metadata": {},
     "output_type": "execute_result"
    }
   ],
   "source": [
    "#keys = np.array([str(k, encoding='utf-8') for k in key_clip])\n",
    "keys = np.array(key_clip)\n",
    "keys = [key[key.index('[')+1:key.index(']')] for key in keys]\n",
    "\n",
    "for key in class_align:\n",
    "    keys = [key if x in class_align[key] else x for x in keys]\n",
    "    \n",
    "keys = np.array(keys)\n",
    "np.unique(keys)"
   ]
  },
  {
   "cell_type": "code",
   "execution_count": 13,
   "metadata": {},
   "outputs": [
    {
     "name": "stdout",
     "output_type": "stream",
     "text": [
      "(5039, 1024)\n",
      "(1666, 1024)\n"
     ]
    }
   ],
   "source": [
    "# use the split indices to partition the features, labels, and masks\n",
    "X_train = feature_clip[idx_train,:]\n",
    "X_test = feature_clip[idx_test]\n",
    "\n",
    "Y_true_train = keys[idx_train]\n",
    "Y_true_test = keys[idx_test]\n",
    "\n",
    "# print out the sliced shapes as a sanity check\n",
    "print(X_train.shape)\n",
    "print(X_test.shape)"
   ]
  },
  {
   "cell_type": "code",
   "execution_count": 14,
   "metadata": {},
   "outputs": [
    {
     "name": "stdout",
     "output_type": "stream",
     "text": [
      "(5, 1024) (5, 5) (5,) (5, 1024) (1024, 1024)\n"
     ]
    }
   ],
   "source": [
    "############################# project the LDA direction #############################\n",
    "file = open('kernelize_LDA_' + embedding_name + '_coef_genre.pickle', 'rb')\n",
    "globals()['LDA_coef_' + embedding_name] = pickle.load(file)\n",
    "file.close()\n",
    "\n",
    "W = globals()['LDA_coef_' + embedding_name]\n",
    "U, s, V = la.svd(W, full_matrices=False)\n",
    "A = np.dot(V.T, V)\n",
    "print(W.shape, U.shape, s.shape, V.shape, A.shape)"
   ]
  },
  {
   "cell_type": "code",
   "execution_count": 15,
   "metadata": {},
   "outputs": [
    {
     "name": "stdout",
     "output_type": "stream",
     "text": [
      "----------------------------------------------------\n",
      "cello\n",
      "\tTEST\n",
      "              precision    recall  f1-score   support\n",
      "\n",
      "       False       0.94      0.85      0.89      1572\n",
      "        True       0.04      0.10      0.05        94\n",
      "\n",
      "    accuracy                           0.80      1666\n",
      "   macro avg       0.49      0.47      0.47      1666\n",
      "weighted avg       0.89      0.80      0.84      1666\n",
      "\n",
      "ROC-AUC = 0.459\t\tAP = 0.050\n",
      "----------------------------------------------------\n",
      "clarinet\n",
      "\tTEST\n",
      "              precision    recall  f1-score   support\n",
      "\n",
      "       False       0.92      0.85      0.88      1539\n",
      "        True       0.06      0.11      0.07       127\n",
      "\n",
      "    accuracy                           0.79      1666\n",
      "   macro avg       0.49      0.48      0.48      1666\n",
      "weighted avg       0.85      0.79      0.82      1666\n",
      "\n",
      "ROC-AUC = 0.433\t\tAP = 0.067\n",
      "----------------------------------------------------\n",
      "flute\n",
      "\tTEST\n",
      "              precision    recall  f1-score   support\n",
      "\n",
      "       False       0.93      0.93      0.93      1545\n",
      "        True       0.06      0.06      0.06       121\n",
      "\n",
      "    accuracy                           0.87      1666\n",
      "   macro avg       0.49      0.49      0.49      1666\n",
      "weighted avg       0.86      0.87      0.87      1666\n",
      "\n",
      "ROC-AUC = 0.515\t\tAP = 0.074\n",
      "----------------------------------------------------\n",
      "guitar\n",
      "\tTEST\n",
      "              precision    recall  f1-score   support\n",
      "\n",
      "       False       0.80      0.91      0.85      1320\n",
      "        True       0.27      0.13      0.17       346\n",
      "\n",
      "    accuracy                           0.75      1666\n",
      "   macro avg       0.53      0.52      0.51      1666\n",
      "weighted avg       0.69      0.75      0.71      1666\n",
      "\n",
      "ROC-AUC = 0.514\t\tAP = 0.224\n",
      "----------------------------------------------------\n",
      "organ\n",
      "\tTEST\n",
      "              precision    recall  f1-score   support\n",
      "\n",
      "       False       0.89      0.92      0.91      1492\n",
      "        True       0.09      0.07      0.08       174\n",
      "\n",
      "    accuracy                           0.83      1666\n",
      "   macro avg       0.49      0.50      0.49      1666\n",
      "weighted avg       0.81      0.83      0.82      1666\n",
      "\n",
      "ROC-AUC = 0.514\t\tAP = 0.102\n",
      "----------------------------------------------------\n",
      "piano\n",
      "\tTEST\n",
      "              precision    recall  f1-score   support\n",
      "\n",
      "       False       0.90      0.96      0.93      1496\n",
      "        True       0.12      0.05      0.07       170\n",
      "\n",
      "    accuracy                           0.87      1666\n",
      "   macro avg       0.51      0.50      0.50      1666\n",
      "weighted avg       0.82      0.87      0.84      1666\n",
      "\n",
      "ROC-AUC = 0.526\t\tAP = 0.113\n",
      "----------------------------------------------------\n",
      "saxophone\n",
      "\tTEST\n",
      "              precision    recall  f1-score   support\n",
      "\n",
      "       False       0.89      0.21      0.34      1516\n",
      "        True       0.09      0.75      0.15       150\n",
      "\n",
      "    accuracy                           0.26      1666\n",
      "   macro avg       0.49      0.48      0.24      1666\n",
      "weighted avg       0.82      0.26      0.32      1666\n",
      "\n",
      "ROC-AUC = 0.477\t\tAP = 0.088\n",
      "----------------------------------------------------\n",
      "trumpet\n",
      "\tTEST\n",
      "              precision    recall  f1-score   support\n",
      "\n",
      "       False       0.91      0.84      0.88      1516\n",
      "        True       0.11      0.21      0.15       150\n",
      "\n",
      "    accuracy                           0.78      1666\n",
      "   macro avg       0.51      0.52      0.51      1666\n",
      "weighted avg       0.84      0.78      0.81      1666\n",
      "\n",
      "ROC-AUC = 0.547\t\tAP = 0.102\n",
      "----------------------------------------------------\n",
      "violin\n",
      "\tTEST\n",
      "              precision    recall  f1-score   support\n",
      "\n",
      "       False       1.00      0.00      0.00      1523\n",
      "        True       0.09      1.00      0.16       143\n",
      "\n",
      "    accuracy                           0.09      1666\n",
      "   macro avg       0.54      0.50      0.08      1666\n",
      "weighted avg       0.92      0.09      0.01      1666\n",
      "\n",
      "ROC-AUC = 0.513\t\tAP = 0.089\n",
      "----------------------------------------------------\n",
      "voice\n",
      "\tTEST\n",
      "              precision    recall  f1-score   support\n",
      "\n",
      "       False       0.89      0.37      0.53      1475\n",
      "        True       0.12      0.65      0.20       191\n",
      "\n",
      "    accuracy                           0.41      1666\n",
      "   macro avg       0.50      0.51      0.36      1666\n",
      "weighted avg       0.80      0.41      0.49      1666\n",
      "\n",
      "ROC-AUC = 0.503\t\tAP = 0.116\n"
     ]
    }
   ],
   "source": [
    "train_set_name, test_set_name = 'irmas', 'irmas'\n",
    "\n",
    "# use a dictionary to include the classifier for each instrument trained on the dataset based on the embedding\n",
    "globals()['models_'+train_set_name] = dict()  \n",
    "\n",
    "X_train_inst = X_train\n",
    "X_test_inst = X_test\n",
    "\n",
    "# iterate over all istrument classes, and fit a model for each one\n",
    "for instrument in class_align:\n",
    "    \n",
    "    # get the training and testing labels for each instrument\n",
    "    Y_true_train_inst = Y_true_train==instrument\n",
    "    Y_true_test_inst = Y_true_test==instrument\n",
    "    \n",
    "    ######## kernelize embedding ############\n",
    "    feature_map_fourier = RBFSampler(gamma=1, n_components=X_train_inst.shape[1], random_state=0)\n",
    "    X_train_inst = feature_map_fourier.fit_transform(X_train_inst, Y_true_train_inst)\n",
    "    X_test_inst = feature_map_fourier.transform(X_test_inst)\n",
    "    \n",
    "    X_train_inst = X_train_inst.dot(np.eye(len(A)) - A)\n",
    "    X_test_inst = X_test_inst.dot(np.eye(len(A)) - A)\n",
    "    \n",
    "    # initialize and a logistic regression model\n",
    "    LRmodel = LogisticRegression(random_state=0, penalty='l2', solver='liblinear', class_weight='balanced')\n",
    "    \n",
    "    # hyperparameter tunning for logistic regression model\n",
    "    param_grid = {'C': [0.001, 0.01, 0.1, 1, 10, 100] }  \n",
    "    scoring = 'f1'; cv = 3\n",
    "    clf =  GridSearchCV(LRmodel, param_grid=param_grid, cv=cv, scoring=scoring)  \n",
    "    \n",
    "    # fit the model\n",
    "    clf.fit(X_train, Y_true_train_inst)\n",
    "    \n",
    "    # predict\n",
    "    Y_pred_test_inst = clf.predict(X_test_inst)\n",
    "    \n",
    "    # Get prediction scores for the positive class\n",
    "    Y_pred_test_scores = clf.predict_proba(X_test_inst)[:, 1]\n",
    "    \n",
    "    # print result for each instrument\n",
    "    print('-' * 52); print(instrument); print('\\tTEST')\n",
    "    print(classification_report(Y_true_test_inst, Y_pred_test_inst))\n",
    "    \n",
    "    model_auc = roc_auc_score(Y_true_test_inst, Y_pred_test_scores)\n",
    "    model_ap = average_precision_score(Y_true_test_inst, Y_pred_test_scores)\n",
    "    print(f'ROC-AUC = {model_auc:.3f}\\t\\tAP = {model_ap:.3f}')\n",
    "    \n",
    "    # store the classifier in the model dictionary\n",
    "    globals()['models_'+train_set_name][instrument] = clf\n",
    "    \n",
    "    # record the result for each instrument\n",
    "    report = pd.DataFrame(classification_report(Y_true_test_inst, Y_pred_test_inst, output_dict=True))['True']\n",
    "    report['roc_auc'] = model_auc\n",
    "    report['ap'] = model_ap\n",
    "    \n",
    "    report_accuracy = pd.DataFrame(classification_report(Y_true_test_inst, Y_pred_test_inst, output_dict=True))['accuracy'][-2]\n",
    "    result_inst = [instrument, train_set_name, test_set_name, report['precision'], report['recall'],\n",
    "                   report['f1-score'], report['support'], report_accuracy, model_auc, model_ap]\n",
    "    result_all = result_all.append(pd.DataFrame(np.expand_dims(np.array(result_inst), axis=0), \n",
    "                                                columns=result_all.columns), ignore_index=True)"
   ]
  },
  {
   "cell_type": "markdown",
   "metadata": {},
   "source": [
    "# openmic->openmic"
   ]
  },
  {
   "cell_type": "code",
   "execution_count": 16,
   "metadata": {},
   "outputs": [
    {
     "name": "stdout",
     "output_type": "stream",
     "text": [
      "(380000, 1024) (380000,)\n"
     ]
    },
    {
     "data": {
      "text/plain": [
       "(20000,)"
      ]
     },
     "execution_count": 16,
     "metadata": {},
     "output_type": "execute_result"
    }
   ],
   "source": [
    "# openmic: vggish embedding\n",
    "feature = np.array(embeddings['openmic'][embedding_name]['features'])\n",
    "keys = np.array(embeddings['openmic'][embedding_name]['keys'])\n",
    "print(feature.shape, keys.shape)\n",
    "\n",
    "key_clip = np.unique(keys)\n",
    "key_clip.shape"
   ]
  },
  {
   "cell_type": "code",
   "execution_count": 17,
   "metadata": {},
   "outputs": [
    {
     "data": {
      "application/vnd.jupyter.widget-view+json": {
       "model_id": "60a11d8a9ba1442981d28e840d0fba10",
       "version_major": 2,
       "version_minor": 0
      },
      "text/plain": [
       "  0%|          | 0/20000 [00:00<?, ?it/s]"
      ]
     },
     "metadata": {},
     "output_type": "display_data"
    },
    {
     "name": "stdout",
     "output_type": "stream",
     "text": [
      "(20000, 1024) (20000,)\n"
     ]
    },
    {
     "data": {
      "text/plain": [
       "array(['000046_3840', '000135_483840', '000139_119040', ...,\n",
       "       '155307_211200', '155310_372480', '155311_453120'], dtype=object)"
      ]
     },
     "execution_count": 17,
     "metadata": {},
     "output_type": "execute_result"
    }
   ],
   "source": [
    "feature_clip = []\n",
    "\n",
    "for key in tqdm(key_clip):\n",
    "    feature_clip.append(np.mean(feature[keys[:]==key,:],axis=0))\n",
    "    \n",
    "feature_clip = np.array(feature_clip)\n",
    "print(feature_clip.shape, key_clip.shape)\n",
    "\n",
    "#key_clip = np.array([str(k, 'utf-8') for k in key_clip])\n",
    "key_clip = np.array(key_clip)\n",
    "key_clip"
   ]
  },
  {
   "cell_type": "code",
   "execution_count": 18,
   "metadata": {},
   "outputs": [
    {
     "name": "stdout",
     "output_type": "stream",
     "text": [
      "(20000, 20) (20000, 20) (20000,)\n"
     ]
    }
   ],
   "source": [
    "# key-label map using the information from the dataset source\n",
    "data_root = '/import/c4dm-datasets/openmic-2018/openmic-2018/'\n",
    "# Replaced the above by a local symbolic link within the github repo\n",
    "# data_root = 'openmic-2018/'\n",
    "\n",
    "np_load_old = np.load   # save np.load\n",
    "np.load = lambda *a,**k: np_load_old(*a, allow_pickle=True,**k)   # modify the default parameters of np.load\n",
    "\n",
    "Ytrue = np.load(os.path.join(data_root, 'openmic-2018.npz'))['Y_true']\n",
    "Ymask = np.load(os.path.join(data_root, 'openmic-2018.npz'))['Y_mask']\n",
    "sample_key = np.load(os.path.join(data_root, 'openmic-2018.npz'))['sample_key']\n",
    "\n",
    "np.load = np_load_old   # restore np.load for future normal usage\n",
    "del(np_load_old)\n",
    "\n",
    "print(Ytrue.shape, Ymask.shape, sample_key.shape)"
   ]
  },
  {
   "cell_type": "code",
   "execution_count": 19,
   "metadata": {},
   "outputs": [
    {
     "data": {
      "application/vnd.jupyter.widget-view+json": {
       "model_id": "7076df73e3a7471ea01a97e2cad1280f",
       "version_major": 2,
       "version_minor": 0
      },
      "text/plain": [
       "  0%|          | 0/20000 [00:00<?, ?it/s]"
      ]
     },
     "metadata": {},
     "output_type": "display_data"
    },
    {
     "name": "stdout",
     "output_type": "stream",
     "text": [
      "(20000, 1024) (20000, 20) (20000, 20)\n"
     ]
    }
   ],
   "source": [
    "Y_true = []\n",
    "Y_mask = []\n",
    "\n",
    "for key in tqdm(key_clip):\n",
    "    Y_true.append(Ytrue[sample_key==key])\n",
    "    Y_mask.append(Ymask[sample_key==key])\n",
    "    \n",
    "Y_true = np.squeeze(np.array(Y_true))\n",
    "Y_mask = np.squeeze(np.array(Y_mask))\n",
    "\n",
    "X = feature_clip\n",
    "del(feature_clip)\n",
    "\n",
    "print(X.shape, Y_true.shape, Y_mask.shape)"
   ]
  },
  {
   "cell_type": "code",
   "execution_count": 20,
   "metadata": {},
   "outputs": [
    {
     "name": "stdout",
     "output_type": "stream",
     "text": [
      "# Train: 14915,  # Test: 5085\n"
     ]
    }
   ],
   "source": [
    "# train-test split\n",
    "split_train = pd.read_csv('openmic2018_train.csv', header=None, squeeze=True)\n",
    "split_test = pd.read_csv('openmic2018_test.csv', header=None, squeeze=True)\n",
    "\n",
    "print('# Train: {},  # Test: {}'.format(len(split_train), len(split_test)))\n",
    "\n",
    "train_set = set(split_train)\n",
    "test_set = set(split_test)"
   ]
  },
  {
   "cell_type": "code",
   "execution_count": 21,
   "metadata": {},
   "outputs": [],
   "source": [
    "idx_train, idx_test = [], []\n",
    "\n",
    "for idx, n in enumerate(key_clip):\n",
    "    if n in train_set:\n",
    "        idx_train.append(idx)\n",
    "    elif n in test_set:\n",
    "        idx_test.append(idx)\n",
    "    else:\n",
    "        raise RuntimeError('Unknown sample key={}! Abort!'.format(key_clip[n]))\n",
    "        \n",
    "idx_train = np.asarray(idx_train)\n",
    "idx_test = np.asarray(idx_test)"
   ]
  },
  {
   "cell_type": "code",
   "execution_count": 22,
   "metadata": {},
   "outputs": [
    {
     "name": "stdout",
     "output_type": "stream",
     "text": [
      "(14915, 1024)\n",
      "(5085, 1024)\n"
     ]
    }
   ],
   "source": [
    "X_train = X[idx_train]\n",
    "X_test = X[idx_test]\n",
    "\n",
    "Y_true_train = Y_true[idx_train]\n",
    "Y_true_test = Y_true[idx_test]\n",
    "\n",
    "Y_mask_train = Y_mask[idx_train]\n",
    "Y_mask_test = Y_mask[idx_test]\n",
    "\n",
    "print(X_train.shape); print(X_test.shape)"
   ]
  },
  {
   "cell_type": "code",
   "execution_count": 23,
   "metadata": {},
   "outputs": [
    {
     "name": "stdout",
     "output_type": "stream",
     "text": [
      "(14915, 1024) (5085, 1024)\n"
     ]
    }
   ],
   "source": [
    "X_train = X_train.dot(np.eye(len(A)) - A)\n",
    "X_test = X_test.dot(np.eye(len(A)) - A)\n",
    "\n",
    "print(X_train.shape, X_test.shape)"
   ]
  },
  {
   "cell_type": "code",
   "execution_count": 24,
   "metadata": {},
   "outputs": [
    {
     "name": "stdout",
     "output_type": "stream",
     "text": [
      "----------------------------------------------------\n",
      "cello\n",
      "\tTEST\n",
      "              precision    recall  f1-score   support\n",
      "\n",
      "       False       0.57      0.56      0.56       259\n",
      "        True       0.50      0.52      0.51       226\n",
      "\n",
      "    accuracy                           0.54       485\n",
      "   macro avg       0.54      0.54      0.54       485\n",
      "weighted avg       0.54      0.54      0.54       485\n",
      "\n",
      "ROC-AUC = 0.543\t\tAP = 0.506\n",
      "----------------------------------------------------\n",
      "clarinet\n",
      "\tTEST\n",
      "              precision    recall  f1-score   support\n",
      "\n",
      "       False       0.79      0.59      0.68       503\n",
      "        True       0.22      0.42      0.29       137\n",
      "\n",
      "    accuracy                           0.55       640\n",
      "   macro avg       0.50      0.51      0.48       640\n",
      "weighted avg       0.67      0.55      0.59       640\n",
      "\n",
      "ROC-AUC = 0.500\t\tAP = 0.208\n",
      "----------------------------------------------------\n",
      "flute\n",
      "\tTEST\n",
      "              precision    recall  f1-score   support\n",
      "\n",
      "       False       0.68      0.55      0.61       387\n",
      "        True       0.30      0.42      0.35       175\n",
      "\n",
      "    accuracy                           0.51       562\n",
      "   macro avg       0.49      0.49      0.48       562\n",
      "weighted avg       0.56      0.51      0.53       562\n",
      "\n",
      "ROC-AUC = 0.492\t\tAP = 0.319\n",
      "----------------------------------------------------\n",
      "guitar\n",
      "\tTEST\n",
      "              precision    recall  f1-score   support\n",
      "\n",
      "       False       0.36      0.39      0.37       150\n",
      "        True       0.66      0.64      0.65       286\n",
      "\n",
      "    accuracy                           0.55       436\n",
      "   macro avg       0.51      0.51      0.51       436\n",
      "weighted avg       0.56      0.55      0.55       436\n",
      "\n",
      "ROC-AUC = 0.522\t\tAP = 0.668\n",
      "----------------------------------------------------\n",
      "organ\n",
      "\tTEST\n",
      "              precision    recall  f1-score   support\n",
      "\n",
      "       False       0.76      0.58      0.66       310\n",
      "        True       0.33      0.53      0.41       121\n",
      "\n",
      "    accuracy                           0.57       431\n",
      "   macro avg       0.54      0.55      0.53       431\n",
      "weighted avg       0.64      0.57      0.59       431\n",
      "\n",
      "ROC-AUC = 0.546\t\tAP = 0.306\n",
      "----------------------------------------------------\n",
      "piano\n",
      "\tTEST\n",
      "              precision    recall  f1-score   support\n",
      "\n",
      "       False       0.34      0.38      0.36       130\n",
      "        True       0.70      0.65      0.68       285\n",
      "\n",
      "    accuracy                           0.57       415\n",
      "   macro avg       0.52      0.52      0.52       415\n",
      "weighted avg       0.59      0.57      0.58       415\n",
      "\n",
      "ROC-AUC = 0.515\t\tAP = 0.699\n",
      "----------------------------------------------------\n",
      "saxophone\n",
      "\tTEST\n",
      "              precision    recall  f1-score   support\n",
      "\n",
      "       False       0.52      0.49      0.50       324\n",
      "        True       0.49      0.52      0.50       305\n",
      "\n",
      "    accuracy                           0.50       629\n",
      "   macro avg       0.50      0.50      0.50       629\n",
      "weighted avg       0.50      0.50      0.50       629\n",
      "\n",
      "ROC-AUC = 0.514\t\tAP = 0.512\n",
      "----------------------------------------------------\n",
      "trumpet\n",
      "\tTEST\n",
      "              precision    recall  f1-score   support\n",
      "\n",
      "       False       0.58      0.53      0.55       467\n",
      "        True       0.39      0.44      0.41       318\n",
      "\n",
      "    accuracy                           0.49       785\n",
      "   macro avg       0.49      0.49      0.48       785\n",
      "weighted avg       0.50      0.49      0.50       785\n",
      "\n",
      "ROC-AUC = 0.479\t\tAP = 0.384\n",
      "----------------------------------------------------\n",
      "violin\n",
      "\tTEST\n",
      "              precision    recall  f1-score   support\n",
      "\n",
      "       False       0.36      0.44      0.40       237\n",
      "        True       0.61      0.52      0.56       394\n",
      "\n",
      "    accuracy                           0.49       631\n",
      "   macro avg       0.48      0.48      0.48       631\n",
      "weighted avg       0.52      0.49      0.50       631\n",
      "\n",
      "ROC-AUC = 0.485\t\tAP = 0.626\n",
      "----------------------------------------------------\n",
      "voice\n",
      "\tTEST\n",
      "              precision    recall  f1-score   support\n",
      "\n",
      "       False       0.39      0.39      0.39       150\n",
      "        True       0.59      0.60      0.60       224\n",
      "\n",
      "    accuracy                           0.52       374\n",
      "   macro avg       0.49      0.49      0.49       374\n",
      "weighted avg       0.51      0.52      0.52       374\n",
      "\n",
      "ROC-AUC = 0.449\t\tAP = 0.554\n"
     ]
    }
   ],
   "source": [
    "# This part of the code follows the baseline model for instrument recognition on the openmic dataset:\n",
    "# https://github.com/cosmir/openmic-2018/blob/master/examples/modeling-baseline.ipynb\n",
    "train_set_name, test_set_name = 'openmic', 'openmic'\n",
    "\n",
    "# use a dictionary to include the classifier for each instrument trained on the dataset based on the embedding\n",
    "globals()['models_'+train_set_name] = dict()  \n",
    "\n",
    "# We'll iterate over all istrument classes, and fit a model for each one\n",
    "# After training, we'll print a classification report for each instrument\n",
    "for instrument in class_align:\n",
    "    \n",
    "    # Map the instrument name to its column number\n",
    "    inst_num = class_map[instrument]\n",
    "    \n",
    "    # First, sub-sample the data: we need to select down to the data for which we have annotations\n",
    "    # This is what the mask arrays are for\n",
    "    train_inst = Y_mask_train[:, inst_num]\n",
    "    test_inst = Y_mask_test[:, inst_num]\n",
    "    \n",
    "    # Here, we're using the Y_mask_train array to slice out only the training examples\n",
    "    # for which we have annotations for the given class\n",
    "    X_train_inst = X_train[train_inst]\n",
    "    \n",
    "    # Again, we slice the labels to the annotated examples\n",
    "    # We thresold the label likelihoods at 0.5 to get binary labels\n",
    "    Y_true_train_inst = Y_true_train[train_inst, inst_num] >= 0.5\n",
    "    \n",
    "    # Repeat the above slicing and dicing but for the test set\n",
    "    X_test_inst = X_test[test_inst]\n",
    "    Y_true_test_inst = Y_true_test[test_inst, inst_num] >= 0.5\n",
    "    \n",
    "    ######## kernelize embedding ############\n",
    "    feature_map_fourier = RBFSampler(gamma=1, n_components=X_train_inst.shape[1], random_state=0)\n",
    "    X_train_inst = feature_map_fourier.fit_transform(X_train_inst, Y_true_train_inst)\n",
    "    X_test_inst = feature_map_fourier.transform(X_test_inst)\n",
    "    \n",
    "    X_train_inst = X_train_inst.dot(np.eye(len(A)) - A)\n",
    "    X_test_inst = X_test_inst.dot(np.eye(len(A)) - A)\n",
    "\n",
    "    # initialize and a logistic regression model\n",
    "    LRmodel = LogisticRegression(random_state=0, penalty='l2', solver='liblinear', class_weight='balanced')\n",
    "    \n",
    "    # hyperparameter tunning for logistic regression model\n",
    "    param_grid = {'C': [0.001, 0.01, 0.1, 1, 10, 100] }  \n",
    "    scoring = 'f1'; cv = 3\n",
    "    clf =  GridSearchCV(LRmodel, param_grid=param_grid, cv=cv, scoring=scoring)    \n",
    "    \n",
    "    # fit the model\n",
    "    clf.fit(X_train_inst, Y_true_train_inst)\n",
    "\n",
    "    # predict\n",
    "    Y_pred_test_inst = clf.predict(X_test_inst)\n",
    "    # Get prediction scores for the positive class\n",
    "    Y_pred_test_scores = clf.predict_proba(X_test_inst)[:, 1]\n",
    "    \n",
    "    # print result for each instrument\n",
    "    print('-' * 52); print(instrument); print('\\tTEST')\n",
    "    print(classification_report(Y_true_test_inst, Y_pred_test_inst))\n",
    "    \n",
    "    model_auc = roc_auc_score(Y_true_test_inst, Y_pred_test_scores)\n",
    "    model_ap = average_precision_score(Y_true_test_inst, Y_pred_test_scores)\n",
    "    print(f'ROC-AUC = {model_auc:.3f}\\t\\tAP = {model_ap:.3f}')\n",
    "    \n",
    "    # store the classifier in the model dictionary\n",
    "    globals()['models_'+train_set_name][instrument] = clf\n",
    "    \n",
    "    # record the result for each instrument\n",
    "    report = pd.DataFrame(classification_report(Y_true_test_inst, Y_pred_test_inst, output_dict=True))['True']\n",
    "    report['roc_auc'] = model_auc\n",
    "    report['ap'] = model_ap\n",
    "    report_accuracy = pd.DataFrame(classification_report(Y_true_test_inst, Y_pred_test_inst, output_dict=True))['accuracy'][-2]\n",
    "    result_inst = [instrument, train_set_name, test_set_name, report['precision'], report['recall'],\n",
    "                   report['f1-score'], report['support'], report_accuracy, model_auc, model_ap]   \n",
    "    result_all = result_all.append(pd.DataFrame(np.expand_dims(np.array(result_inst), axis=0), \n",
    "                                                columns=result_all.columns), ignore_index=True)"
   ]
  },
  {
   "cell_type": "markdown",
   "metadata": {},
   "source": [
    "# irmas->openmic"
   ]
  },
  {
   "cell_type": "code",
   "execution_count": 25,
   "metadata": {},
   "outputs": [
    {
     "name": "stdout",
     "output_type": "stream",
     "text": [
      "----------------------------------------------------\n",
      "cello\n",
      "\tTEST\n",
      "              precision    recall  f1-score   support\n",
      "\n",
      "       False       0.53      0.84      0.65       259\n",
      "        True       0.43      0.14      0.21       226\n",
      "\n",
      "    accuracy                           0.51       485\n",
      "   macro avg       0.48      0.49      0.43       485\n",
      "weighted avg       0.48      0.51      0.44       485\n",
      "\n",
      "ROC-AUC = 0.506\t\tAP = 0.466\n",
      "----------------------------------------------------\n",
      "clarinet\n",
      "\tTEST\n",
      "              precision    recall  f1-score   support\n",
      "\n",
      "       False       0.80      0.91      0.85       503\n",
      "        True       0.30      0.14      0.19       137\n",
      "\n",
      "    accuracy                           0.75       640\n",
      "   macro avg       0.55      0.53      0.52       640\n",
      "weighted avg       0.69      0.75      0.71       640\n",
      "\n",
      "ROC-AUC = 0.525\t\tAP = 0.236\n",
      "----------------------------------------------------\n",
      "flute\n",
      "\tTEST\n",
      "              precision    recall  f1-score   support\n",
      "\n",
      "       False       0.69      0.79      0.74       387\n",
      "        True       0.31      0.21      0.25       175\n",
      "\n",
      "    accuracy                           0.61       562\n",
      "   macro avg       0.50      0.50      0.49       562\n",
      "weighted avg       0.57      0.61      0.58       562\n",
      "\n",
      "ROC-AUC = 0.509\t\tAP = 0.338\n",
      "----------------------------------------------------\n",
      "guitar\n",
      "\tTEST\n",
      "              precision    recall  f1-score   support\n",
      "\n",
      "       False       0.34      0.87      0.49       150\n",
      "        True       0.65      0.13      0.21       286\n",
      "\n",
      "    accuracy                           0.38       436\n",
      "   macro avg       0.50      0.50      0.35       436\n",
      "weighted avg       0.55      0.38      0.31       436\n",
      "\n",
      "ROC-AUC = 0.499\t\tAP = 0.681\n",
      "----------------------------------------------------\n",
      "organ\n",
      "\tTEST\n",
      "              precision    recall  f1-score   support\n",
      "\n",
      "       False       0.72      0.74      0.73       310\n",
      "        True       0.27      0.26      0.26       121\n",
      "\n",
      "    accuracy                           0.60       431\n",
      "   macro avg       0.50      0.50      0.50       431\n",
      "weighted avg       0.59      0.60      0.60       431\n",
      "\n",
      "ROC-AUC = 0.562\t\tAP = 0.324\n",
      "----------------------------------------------------\n",
      "piano\n",
      "\tTEST\n",
      "              precision    recall  f1-score   support\n",
      "\n",
      "       False       0.31      0.91      0.46       130\n",
      "        True       0.66      0.08      0.14       285\n",
      "\n",
      "    accuracy                           0.34       415\n",
      "   macro avg       0.48      0.49      0.30       415\n",
      "weighted avg       0.55      0.34      0.24       415\n",
      "\n",
      "ROC-AUC = 0.479\t\tAP = 0.684\n",
      "----------------------------------------------------\n",
      "saxophone\n",
      "\tTEST\n",
      "              precision    recall  f1-score   support\n",
      "\n",
      "       False       0.55      0.15      0.23       324\n",
      "        True       0.49      0.87      0.63       305\n",
      "\n",
      "    accuracy                           0.50       629\n",
      "   macro avg       0.52      0.51      0.43       629\n",
      "weighted avg       0.52      0.50      0.42       629\n",
      "\n",
      "ROC-AUC = 0.511\t\tAP = 0.505\n",
      "----------------------------------------------------\n",
      "trumpet\n",
      "\tTEST\n",
      "              precision    recall  f1-score   support\n",
      "\n",
      "       False       0.60      0.93      0.73       467\n",
      "        True       0.50      0.11      0.18       318\n",
      "\n",
      "    accuracy                           0.59       785\n",
      "   macro avg       0.55      0.52      0.45       785\n",
      "weighted avg       0.56      0.59      0.51       785\n",
      "\n",
      "ROC-AUC = 0.546\t\tAP = 0.440\n",
      "----------------------------------------------------\n",
      "violin\n",
      "\tTEST\n",
      "              precision    recall  f1-score   support\n",
      "\n",
      "       False       0.33      0.01      0.02       237\n",
      "        True       0.62      0.99      0.77       394\n",
      "\n",
      "    accuracy                           0.62       631\n",
      "   macro avg       0.48      0.50      0.39       631\n",
      "weighted avg       0.51      0.62      0.48       631\n",
      "\n",
      "ROC-AUC = 0.476\t\tAP = 0.623\n",
      "----------------------------------------------------\n",
      "voice\n",
      "\tTEST\n",
      "              precision    recall  f1-score   support\n",
      "\n",
      "       False       0.38      0.29      0.33       150\n",
      "        True       0.59      0.68      0.63       224\n",
      "\n",
      "    accuracy                           0.52       374\n",
      "   macro avg       0.48      0.49      0.48       374\n",
      "weighted avg       0.50      0.52      0.51       374\n",
      "\n",
      "ROC-AUC = 0.484\t\tAP = 0.593\n"
     ]
    }
   ],
   "source": [
    "train_set_name, test_set_name = 'irmas', 'openmic' \n",
    "\n",
    "# iterate over all istrument classes, and fit a model for each one\n",
    "for instrument in class_align:\n",
    "    \n",
    "    # Map the instrument name to its column number\n",
    "    inst_num = class_map[instrument]\n",
    "    \n",
    "    # First, sub-sample the data: we need to select down to the data for which we have annotations \n",
    "    # This is what the mask arrays are for\n",
    "    test_inst = Y_mask_test[:, inst_num]\n",
    "\n",
    "    # Repeat the above slicing and dicing but for the test set\n",
    "    X_test_inst = X_test[test_inst]\n",
    "    Y_true_test_inst = Y_true_test[test_inst, inst_num] >= 0.5\n",
    "    \n",
    "    ######## kernelize embedding ############\n",
    "    feature_map_fourier = RBFSampler(gamma=1, n_components=X_train_inst.shape[1], random_state=0)\n",
    "    X_train_inst = feature_map_fourier.fit_transform(X_train_inst, Y_true_train_inst)\n",
    "    X_test_inst = feature_map_fourier.transform(X_test_inst)\n",
    "    \n",
    "    X_train_inst = X_train_inst.dot(np.eye(len(A)) - A)\n",
    "    X_test_inst = X_test_inst.dot(np.eye(len(A)) - A)\n",
    "\n",
    "    # evaluate the classifier \n",
    "    Y_pred_test_inst =  globals()['models_'+train_set_name][instrument].predict(X_test_inst)\n",
    "    Y_pred_test_scores =  globals()['models_'+train_set_name][instrument].predict_proba(X_test_inst)[:, 1]\n",
    "\n",
    "    # print result for each instrument\n",
    "    print('-' * 52); print(instrument); print('\\tTEST')\n",
    "    print(classification_report(Y_true_test_inst, Y_pred_test_inst))\n",
    "    \n",
    "    model_auc = roc_auc_score(Y_true_test_inst, Y_pred_test_scores)\n",
    "    model_ap = average_precision_score(Y_true_test_inst, Y_pred_test_scores)\n",
    "    print(f'ROC-AUC = {model_auc:.3f}\\t\\tAP = {model_ap:.3f}')\n",
    "    \n",
    "    # record the result for each instrument\n",
    "    report = pd.DataFrame(classification_report(Y_true_test_inst, Y_pred_test_inst, output_dict=True))['True']\n",
    "    report['roc_auc'] = model_auc\n",
    "    report['ap'] = model_ap\n",
    "    report_accuracy = pd.DataFrame(classification_report(Y_true_test_inst, Y_pred_test_inst, output_dict=True))['accuracy'][-2]\n",
    "    result_inst = [instrument, train_set_name, test_set_name, report['precision'], report['recall'],\n",
    "                   report['f1-score'], report['support'], report_accuracy, model_auc, model_ap]   \n",
    "    result_all = result_all.append(pd.DataFrame(np.expand_dims(np.array(result_inst), axis=0), \n",
    "                                                columns=result_all.columns), ignore_index=True)"
   ]
  },
  {
   "cell_type": "markdown",
   "metadata": {},
   "source": [
    "# openmic->irmas"
   ]
  },
  {
   "cell_type": "code",
   "execution_count": 26,
   "metadata": {},
   "outputs": [
    {
     "name": "stdout",
     "output_type": "stream",
     "text": [
      "(33525, 1024) (33525,)\n",
      "(6705,)\n"
     ]
    },
    {
     "data": {
      "application/vnd.jupyter.widget-view+json": {
       "model_id": "0fff02f5d0a04f2da2d912df171184e9",
       "version_major": 2,
       "version_minor": 0
      },
      "text/plain": [
       "  0%|          | 0/6705 [00:00<?, ?it/s]"
      ]
     },
     "metadata": {},
     "output_type": "display_data"
    },
    {
     "name": "stdout",
     "output_type": "stream",
     "text": [
      "(6705, 1024) (6705,)\n"
     ]
    }
   ],
   "source": [
    "# irmas: vggish embedding\n",
    "feature = np.array(embeddings['irmas'][embedding_name]['features'])\n",
    "keys_ori = np.array(embeddings['irmas'][embedding_name]['keys'])\n",
    "print(feature.shape, keys_ori.shape)\n",
    "\n",
    "key_clip = np.unique(keys_ori)\n",
    "print(key_clip.shape)\n",
    "\n",
    "feature_clip = []\n",
    "\n",
    "for key in tqdm(key_clip):\n",
    "    feature_clip.append(np.mean(feature[keys_ori[:]==key,:],axis=0))\n",
    "    \n",
    "feature_clip = np.array(feature_clip)\n",
    "print(feature_clip.shape, key_clip.shape)"
   ]
  },
  {
   "cell_type": "code",
   "execution_count": 27,
   "metadata": {},
   "outputs": [],
   "source": [
    "key_train = list(pd.read_csv('irmas_train.csv', header=None, squeeze=True))\n",
    "key_test = list(pd.read_csv('irmas_test.csv', header=None, squeeze=True))\n",
    "\n",
    "key_train = np.array([k[2:-1] for k in key_train])\n",
    "key_test = np.array([k[2:-1]  for k in key_test])\n",
    "\n",
    "idx_train, idx_test = [], []\n",
    "\n",
    "for k in range(len(key_clip)):\n",
    "    if str(key_clip[k]) in key_train:\n",
    "        idx_train.append(k)\n",
    "    elif str(key_clip[k]) in key_test:\n",
    "        idx_test.append(k)\n",
    "    else:\n",
    "        raise RuntimeError('Unknown sample key={}! Abort!'.format(key_clip[k]))\n",
    "        \n",
    "idx_train = np.asarray(idx_train)\n",
    "idx_test = np.asarray(idx_test)"
   ]
  },
  {
   "cell_type": "code",
   "execution_count": 28,
   "metadata": {},
   "outputs": [
    {
     "data": {
      "text/plain": [
       "array(['cello', 'clarinet', 'flute', 'guitar', 'organ', 'piano',\n",
       "       'saxophone', 'trumpet', 'violin', 'voice'], dtype='<U9')"
      ]
     },
     "execution_count": 28,
     "metadata": {},
     "output_type": "execute_result"
    }
   ],
   "source": [
    "#keys = np.array([str(k, 'utf-8') for k in key_clip])\n",
    "keys = np.array(key_clip)\n",
    "keys = [key[key.index('[')+1:key.index(']')] for key in keys]\n",
    "\n",
    "for key in class_align:\n",
    "    keys = [key if x in class_align[key] else x for x in keys]\n",
    "    \n",
    "keys = np.array(keys)\n",
    "np.unique(keys)"
   ]
  },
  {
   "cell_type": "code",
   "execution_count": 29,
   "metadata": {},
   "outputs": [
    {
     "name": "stdout",
     "output_type": "stream",
     "text": [
      "(5039, 1024)\n",
      "(1666, 1024)\n"
     ]
    }
   ],
   "source": [
    "X_train = feature_clip[idx_train,:]\n",
    "X_test = feature_clip[idx_test]\n",
    "\n",
    "Y_true_train = keys[idx_train]\n",
    "Y_true_test = keys[idx_test]\n",
    "\n",
    "print(X_train.shape)\n",
    "print(X_test.shape)"
   ]
  },
  {
   "cell_type": "code",
   "execution_count": 30,
   "metadata": {},
   "outputs": [
    {
     "name": "stdout",
     "output_type": "stream",
     "text": [
      "(5039, 1024) (1666, 1024)\n"
     ]
    }
   ],
   "source": [
    "X_train = X_train.dot(np.eye(len(A)) - A)\n",
    "X_test = X_test.dot(np.eye(len(A)) - A)\n",
    "\n",
    "print(X_train.shape, X_test.shape)"
   ]
  },
  {
   "cell_type": "code",
   "execution_count": 31,
   "metadata": {},
   "outputs": [
    {
     "name": "stdout",
     "output_type": "stream",
     "text": [
      "----------------------------------------------------\n",
      "cello\n",
      "\tTEST\n",
      "              precision    recall  f1-score   support\n",
      "\n",
      "       False       0.95      0.53      0.68      1572\n",
      "        True       0.06      0.49      0.11        94\n",
      "\n",
      "    accuracy                           0.53      1666\n",
      "   macro avg       0.50      0.51      0.39      1666\n",
      "weighted avg       0.90      0.53      0.65      1666\n",
      "\n",
      "ROC-AUC = 0.528\t\tAP = 0.066\n",
      "----------------------------------------------------\n",
      "clarinet\n",
      "\tTEST\n",
      "              precision    recall  f1-score   support\n",
      "\n",
      "       False       0.91      0.47      0.62      1539\n",
      "        True       0.07      0.46      0.12       127\n",
      "\n",
      "    accuracy                           0.47      1666\n",
      "   macro avg       0.49      0.47      0.37      1666\n",
      "weighted avg       0.85      0.47      0.58      1666\n",
      "\n",
      "ROC-AUC = 0.441\t\tAP = 0.067\n",
      "----------------------------------------------------\n",
      "flute\n",
      "\tTEST\n",
      "              precision    recall  f1-score   support\n",
      "\n",
      "       False       0.93      0.46      0.61      1545\n",
      "        True       0.08      0.57      0.13       121\n",
      "\n",
      "    accuracy                           0.47      1666\n",
      "   macro avg       0.50      0.51      0.37      1666\n",
      "weighted avg       0.87      0.47      0.58      1666\n",
      "\n",
      "ROC-AUC = 0.523\t\tAP = 0.079\n",
      "----------------------------------------------------\n",
      "guitar\n",
      "\tTEST\n",
      "              precision    recall  f1-score   support\n",
      "\n",
      "       False       0.81      0.19      0.31      1320\n",
      "        True       0.21      0.82      0.34       346\n",
      "\n",
      "    accuracy                           0.32      1666\n",
      "   macro avg       0.51      0.51      0.32      1666\n",
      "weighted avg       0.68      0.32      0.32      1666\n",
      "\n",
      "ROC-AUC = 0.507\t\tAP = 0.207\n",
      "----------------------------------------------------\n",
      "organ\n",
      "\tTEST\n",
      "              precision    recall  f1-score   support\n",
      "\n",
      "       False       0.90      0.68      0.77      1492\n",
      "        True       0.11      0.34      0.17       174\n",
      "\n",
      "    accuracy                           0.64      1666\n",
      "   macro avg       0.50      0.51      0.47      1666\n",
      "weighted avg       0.82      0.64      0.71      1666\n",
      "\n",
      "ROC-AUC = 0.496\t\tAP = 0.105\n",
      "----------------------------------------------------\n",
      "piano\n",
      "\tTEST\n",
      "              precision    recall  f1-score   support\n",
      "\n",
      "       False       0.90      0.36      0.51      1496\n",
      "        True       0.10      0.64      0.17       170\n",
      "\n",
      "    accuracy                           0.39      1666\n",
      "   macro avg       0.50      0.50      0.34      1666\n",
      "weighted avg       0.82      0.39      0.48      1666\n",
      "\n",
      "ROC-AUC = 0.517\t\tAP = 0.119\n",
      "----------------------------------------------------\n",
      "saxophone\n",
      "\tTEST\n",
      "              precision    recall  f1-score   support\n",
      "\n",
      "       False       0.91      0.39      0.54      1516\n",
      "        True       0.09      0.63      0.16       150\n",
      "\n",
      "    accuracy                           0.41      1666\n",
      "   macro avg       0.50      0.51      0.35      1666\n",
      "weighted avg       0.84      0.41      0.51      1666\n",
      "\n",
      "ROC-AUC = 0.524\t\tAP = 0.100\n",
      "----------------------------------------------------\n",
      "trumpet\n",
      "\tTEST\n",
      "              precision    recall  f1-score   support\n",
      "\n",
      "       False       0.89      0.21      0.34      1516\n",
      "        True       0.08      0.74      0.15       150\n",
      "\n",
      "    accuracy                           0.26      1666\n",
      "   macro avg       0.49      0.48      0.25      1666\n",
      "weighted avg       0.82      0.26      0.32      1666\n",
      "\n",
      "ROC-AUC = 0.469\t\tAP = 0.087\n",
      "----------------------------------------------------\n",
      "violin\n",
      "\tTEST\n",
      "              precision    recall  f1-score   support\n",
      "\n",
      "       False       0.90      0.61      0.73      1523\n",
      "        True       0.07      0.29      0.11       143\n",
      "\n",
      "    accuracy                           0.58      1666\n",
      "   macro avg       0.48      0.45      0.42      1666\n",
      "weighted avg       0.83      0.58      0.67      1666\n",
      "\n",
      "ROC-AUC = 0.449\t\tAP = 0.073\n",
      "----------------------------------------------------\n",
      "voice\n",
      "\tTEST\n",
      "              precision    recall  f1-score   support\n",
      "\n",
      "       False       0.90      0.21      0.34      1475\n",
      "        True       0.12      0.82      0.21       191\n",
      "\n",
      "    accuracy                           0.28      1666\n",
      "   macro avg       0.51      0.51      0.27      1666\n",
      "weighted avg       0.81      0.28      0.32      1666\n",
      "\n",
      "ROC-AUC = 0.501\t\tAP = 0.111\n"
     ]
    }
   ],
   "source": [
    "train_set_name, test_set_name = 'openmic', 'irmas' \n",
    "\n",
    "X_train_inst = X_train\n",
    "X_test_inst = X_test\n",
    "\n",
    "# iterate over all istrument classes, and fit a model for each one\n",
    "for instrument in class_align:\n",
    "    \n",
    "    # get the training and testing labels for each instrument\n",
    "    Y_true_test_inst = Y_true_test==instrument\n",
    "    \n",
    "    ######## kernelize embedding ############\n",
    "    feature_map_fourier = RBFSampler(gamma=1, n_components=X_train_inst.shape[1], random_state=0)\n",
    "    X_train_inst = feature_map_fourier.fit_transform(X_train_inst, Y_true_train_inst)\n",
    "    X_test_inst = feature_map_fourier.transform(X_test_inst)\n",
    "    \n",
    "    X_train_inst = X_train_inst.dot(np.eye(len(A)) - A)\n",
    "    X_test_inst = X_test_inst.dot(np.eye(len(A)) - A)\n",
    "\n",
    "    # evaluate the classifier\n",
    "    Y_pred_test_inst =  globals()['models_'+train_set_name][instrument].predict(X_test_inst)\n",
    "    Y_pred_test_scores =  globals()['models_'+train_set_name][instrument].predict_proba(X_test_inst)[:, 1]\n",
    "    \n",
    "    # print result for each instrument\n",
    "    print('-' * 52); print(instrument); print('\\tTEST')\n",
    "    print(classification_report(Y_true_test_inst, Y_pred_test_inst))\n",
    "    \n",
    "    model_auc = roc_auc_score(Y_true_test_inst, Y_pred_test_scores)\n",
    "    model_ap = average_precision_score(Y_true_test_inst, Y_pred_test_scores)\n",
    "    print(f'ROC-AUC = {model_auc:.3f}\\t\\tAP = {model_ap:.3f}')\n",
    "    \n",
    "    # record the result for each instrument\n",
    "    report = pd.DataFrame(classification_report(Y_true_test_inst, Y_pred_test_inst, output_dict=True))['True']\n",
    "    report['roc_auc'] = model_auc\n",
    "    report['ap'] = model_ap\n",
    "    report_accuracy = pd.DataFrame(classification_report(Y_true_test_inst, Y_pred_test_inst, output_dict=True))['accuracy'][-2]\n",
    "    result_inst = [instrument, train_set_name, test_set_name, report['precision'], report['recall'],\n",
    "                   report['f1-score'], report['support'], report_accuracy, model_auc, model_ap]   \n",
    "    result_all = result_all.append(pd.DataFrame(np.expand_dims(np.array(result_inst), axis=0), \n",
    "                                                columns=result_all.columns), ignore_index=True)"
   ]
  },
  {
   "cell_type": "markdown",
   "metadata": {},
   "source": [
    "# Plot result on each instrument"
   ]
  },
  {
   "cell_type": "code",
   "execution_count": 32,
   "metadata": {},
   "outputs": [],
   "source": [
    "# save all result into a csv file\n",
    "result_all.to_csv('YAMnet_crossdataset_result_kernelLDA_genre.csv', index=False)"
   ]
  },
  {
   "cell_type": "code",
   "execution_count": 33,
   "metadata": {},
   "outputs": [
    {
     "name": "stdout",
     "output_type": "stream",
     "text": [
      "PRF and accuracy of Vggish averaged over all instruments for each case:\n",
      "openmic->openmic:[0.48, 0.53, 0.5, 0.53, 0.5, 0.48]\n",
      "irmas->openmic:[0.48, 0.36, 0.35, 0.54, 0.51, 0.49]\n",
      "irmas->irmas:[0.1, 0.31, 0.12, 0.64, 0.5, 0.1]\n",
      "openmic->irmas:[0.1, 0.58, 0.17, 0.43, 0.5, 0.1]\n"
     ]
    }
   ],
   "source": [
    "# check the PRF averaged over all instruments for each case:\n",
    "\n",
    "train_irmas = result_all[result_all['train_set']=='irmas']\n",
    "train_openmic = result_all[result_all['train_set']=='openmic']\n",
    "\n",
    "irmas_irmas = train_irmas[train_irmas['test_set']=='irmas']\n",
    "irmas_openmic = train_irmas[train_irmas['test_set']=='openmic']\n",
    "openmic_openmic = train_openmic[train_openmic['test_set']=='openmic']\n",
    "openmic_irmas = train_openmic[train_openmic['test_set']=='irmas']\n",
    "\n",
    "print('PRF and accuracy of Vggish averaged over all instruments for each case:')\n",
    "print('openmic->openmic:{}'.format(list(openmic_openmic[['precision', 'recall', 'f1-score', 'accuracy', 'roc_auc', 'ap']].astype(float).mean(axis=0).round(2))))\n",
    "print('irmas->openmic:{}'.format(list(irmas_openmic[['precision', 'recall', 'f1-score', 'accuracy', 'roc_auc', 'ap']].astype(float).mean(axis=0).round(2))))\n",
    "print('irmas->irmas:{}'.format(list(irmas_irmas[['precision', 'recall', 'f1-score', 'accuracy', 'roc_auc', 'ap']].astype(float).mean(axis=0).round(2))))\n",
    "print('openmic->irmas:{}'.format(list(openmic_irmas[['precision', 'recall', 'f1-score', 'accuracy', 'roc_auc', 'ap']].astype(float).mean(axis=0).round(2))))"
   ]
  },
  {
   "cell_type": "code",
   "execution_count": 2,
   "metadata": {},
   "outputs": [],
   "source": [
    "# save the result of VGGish, yamnet, and OpenL3 into one csv file\n",
    "\n",
    "vggish = pd.read_csv('VGGish_crossdataset_result_kernelize.csv')\n",
    "openl3 = pd.read_csv('OpenL3_crossdataset_result_kernelize.csv')\n",
    "yamnet = pd.read_csv('YAMnet_crossdataset_result_kernelize.csv')\n",
    "\n",
    "# add embedding information, concatenate result\n",
    "vggish['embedding'] = ['vggish'] * len(vggish['instrument'])\n",
    "openl3['embedding'] = ['openl3'] * len(openl3['instrument'])\n",
    "yamnet['embedding'] = ['yamnet'] * len(openl3['instrument'])\n",
    "\n",
    "result_all_conca = pd.concat([vggish, openl3, yamnet], ignore_index=True)\n",
    "\n",
    "# move embedding to the first column\n",
    "cols = ['embedding', 'instrument', 'train_set', 'test_set', 'precision', 'recall', 'f1-score', 'support', 'accuracy', 'roc_auc', 'ap']\n",
    "result_all_conca =result_all_conca[cols]\n",
    "\n",
    "result_all_conca.to_csv('crossdataset_generalization_result_kernelize.csv', index=False)"
   ]
  },
  {
   "cell_type": "code",
   "execution_count": 3,
   "metadata": {},
   "outputs": [],
   "source": [
    "# save the result of VGGish, yamnet, and OpenL3 into one csv file\n",
    "\n",
    "vggish = pd.read_csv('VGGish_crossdataset_result_kernelLDA.csv')\n",
    "openl3 = pd.read_csv('OpenL3_crossdataset_result_kernelLDA.csv')\n",
    "yamnet = pd.read_csv('YAMnet_crossdataset_result_kernelLDA.csv')\n",
    "\n",
    "# add embedding information, concatenate result\n",
    "vggish['embedding'] = ['vggish'] * len(vggish['instrument'])\n",
    "openl3['embedding'] = ['openl3'] * len(openl3['instrument'])\n",
    "yamnet['embedding'] = ['yamnet'] * len(openl3['instrument'])\n",
    "\n",
    "result_all_conca = pd.concat([vggish, openl3, yamnet], ignore_index=True)\n",
    "\n",
    "# move embedding to the first column\n",
    "cols = ['embedding', 'instrument', 'train_set', 'test_set', 'precision', 'recall', 'f1-score', 'support', 'accuracy', 'roc_auc', 'ap']\n",
    "result_all_conca =result_all_conca[cols]\n",
    "\n",
    "result_all_conca.to_csv('crossdataset_generalization_result_kernelLDA.csv', index=False)"
   ]
  },
  {
   "cell_type": "code",
   "execution_count": 4,
   "metadata": {},
   "outputs": [],
   "source": [
    "# save the result of VGGish, yamnet, and OpenL3 into one csv file\n",
    "\n",
    "vggish = pd.read_csv('VGGish_crossdataset_result_kernelLDA_genre.csv')\n",
    "openl3 = pd.read_csv('OpenL3_crossdataset_result_kernelLDA_genre.csv')\n",
    "yamnet = pd.read_csv('YAMnet_crossdataset_result_kernelLDA_genre.csv')\n",
    "\n",
    "# add embedding information, concatenate result\n",
    "vggish['embedding'] = ['vggish'] * len(vggish['instrument'])\n",
    "openl3['embedding'] = ['openl3'] * len(openl3['instrument'])\n",
    "yamnet['embedding'] = ['yamnet'] * len(openl3['instrument'])\n",
    "\n",
    "result_all_conca = pd.concat([vggish, openl3, yamnet], ignore_index=True)\n",
    "\n",
    "# move embedding to the first column\n",
    "cols = ['embedding', 'instrument', 'train_set', 'test_set', 'precision', 'recall', 'f1-score', 'support', 'accuracy', 'roc_auc', 'ap']\n",
    "result_all_conca =result_all_conca[cols]\n",
    "\n",
    "result_all_conca.to_csv('crossdataset_generalization_result_kernelLDA_genre.csv', index=False)"
   ]
  },
  {
   "cell_type": "code",
   "execution_count": 5,
   "metadata": {},
   "outputs": [
    {
     "data": {
      "text/html": [
       "<div>\n",
       "<style scoped>\n",
       "    .dataframe tbody tr th:only-of-type {\n",
       "        vertical-align: middle;\n",
       "    }\n",
       "\n",
       "    .dataframe tbody tr th {\n",
       "        vertical-align: top;\n",
       "    }\n",
       "\n",
       "    .dataframe thead th {\n",
       "        text-align: right;\n",
       "    }\n",
       "</style>\n",
       "<table border=\"1\" class=\"dataframe\">\n",
       "  <thead>\n",
       "    <tr style=\"text-align: right;\">\n",
       "      <th></th>\n",
       "      <th>embedding</th>\n",
       "      <th>instrument</th>\n",
       "      <th>train_set</th>\n",
       "      <th>test_set</th>\n",
       "      <th>precision</th>\n",
       "      <th>recall</th>\n",
       "      <th>f1-score</th>\n",
       "      <th>support</th>\n",
       "      <th>accuracy</th>\n",
       "      <th>roc_auc</th>\n",
       "      <th>ap</th>\n",
       "    </tr>\n",
       "  </thead>\n",
       "  <tbody>\n",
       "    <tr>\n",
       "      <th>0</th>\n",
       "      <td>vggish</td>\n",
       "      <td>cello</td>\n",
       "      <td>irmas</td>\n",
       "      <td>irmas</td>\n",
       "      <td>0.068966</td>\n",
       "      <td>0.468085</td>\n",
       "      <td>0.120219</td>\n",
       "      <td>94.0</td>\n",
       "      <td>0.613445</td>\n",
       "      <td>0.552792</td>\n",
       "      <td>0.067386</td>\n",
       "    </tr>\n",
       "    <tr>\n",
       "      <th>1</th>\n",
       "      <td>vggish</td>\n",
       "      <td>clarinet</td>\n",
       "      <td>irmas</td>\n",
       "      <td>irmas</td>\n",
       "      <td>0.080303</td>\n",
       "      <td>0.417323</td>\n",
       "      <td>0.134689</td>\n",
       "      <td>127.0</td>\n",
       "      <td>0.591236</td>\n",
       "      <td>0.518334</td>\n",
       "      <td>0.090597</td>\n",
       "    </tr>\n",
       "    <tr>\n",
       "      <th>2</th>\n",
       "      <td>vggish</td>\n",
       "      <td>flute</td>\n",
       "      <td>irmas</td>\n",
       "      <td>irmas</td>\n",
       "      <td>0.072917</td>\n",
       "      <td>0.404959</td>\n",
       "      <td>0.123581</td>\n",
       "      <td>121.0</td>\n",
       "      <td>0.582833</td>\n",
       "      <td>0.506154</td>\n",
       "      <td>0.073721</td>\n",
       "    </tr>\n",
       "    <tr>\n",
       "      <th>3</th>\n",
       "      <td>vggish</td>\n",
       "      <td>guitar</td>\n",
       "      <td>irmas</td>\n",
       "      <td>irmas</td>\n",
       "      <td>0.206198</td>\n",
       "      <td>0.500000</td>\n",
       "      <td>0.291983</td>\n",
       "      <td>346.0</td>\n",
       "      <td>0.496399</td>\n",
       "      <td>0.503230</td>\n",
       "      <td>0.220680</td>\n",
       "    </tr>\n",
       "    <tr>\n",
       "      <th>4</th>\n",
       "      <td>vggish</td>\n",
       "      <td>organ</td>\n",
       "      <td>irmas</td>\n",
       "      <td>irmas</td>\n",
       "      <td>0.103352</td>\n",
       "      <td>0.425287</td>\n",
       "      <td>0.166292</td>\n",
       "      <td>174.0</td>\n",
       "      <td>0.554622</td>\n",
       "      <td>0.490740</td>\n",
       "      <td>0.105086</td>\n",
       "    </tr>\n",
       "    <tr>\n",
       "      <th>...</th>\n",
       "      <td>...</td>\n",
       "      <td>...</td>\n",
       "      <td>...</td>\n",
       "      <td>...</td>\n",
       "      <td>...</td>\n",
       "      <td>...</td>\n",
       "      <td>...</td>\n",
       "      <td>...</td>\n",
       "      <td>...</td>\n",
       "      <td>...</td>\n",
       "      <td>...</td>\n",
       "    </tr>\n",
       "    <tr>\n",
       "      <th>115</th>\n",
       "      <td>yamnet-lda-genre</td>\n",
       "      <td>piano</td>\n",
       "      <td>openmic</td>\n",
       "      <td>irmas</td>\n",
       "      <td>0.101313</td>\n",
       "      <td>0.635294</td>\n",
       "      <td>0.174757</td>\n",
       "      <td>170.0</td>\n",
       "      <td>0.387755</td>\n",
       "      <td>0.517069</td>\n",
       "      <td>0.119235</td>\n",
       "    </tr>\n",
       "    <tr>\n",
       "      <th>116</th>\n",
       "      <td>yamnet-lda-genre</td>\n",
       "      <td>saxophone</td>\n",
       "      <td>openmic</td>\n",
       "      <td>irmas</td>\n",
       "      <td>0.091977</td>\n",
       "      <td>0.626667</td>\n",
       "      <td>0.160410</td>\n",
       "      <td>150.0</td>\n",
       "      <td>0.409364</td>\n",
       "      <td>0.523813</td>\n",
       "      <td>0.099635</td>\n",
       "    </tr>\n",
       "    <tr>\n",
       "      <th>117</th>\n",
       "      <td>yamnet-lda-genre</td>\n",
       "      <td>trumpet</td>\n",
       "      <td>openmic</td>\n",
       "      <td>irmas</td>\n",
       "      <td>0.084927</td>\n",
       "      <td>0.740000</td>\n",
       "      <td>0.152368</td>\n",
       "      <td>150.0</td>\n",
       "      <td>0.258703</td>\n",
       "      <td>0.469081</td>\n",
       "      <td>0.087481</td>\n",
       "    </tr>\n",
       "    <tr>\n",
       "      <th>118</th>\n",
       "      <td>yamnet-lda-genre</td>\n",
       "      <td>violin</td>\n",
       "      <td>openmic</td>\n",
       "      <td>irmas</td>\n",
       "      <td>0.065728</td>\n",
       "      <td>0.293706</td>\n",
       "      <td>0.107417</td>\n",
       "      <td>143.0</td>\n",
       "      <td>0.581032</td>\n",
       "      <td>0.449155</td>\n",
       "      <td>0.073001</td>\n",
       "    </tr>\n",
       "    <tr>\n",
       "      <th>119</th>\n",
       "      <td>yamnet-lda-genre</td>\n",
       "      <td>voice</td>\n",
       "      <td>openmic</td>\n",
       "      <td>irmas</td>\n",
       "      <td>0.117558</td>\n",
       "      <td>0.816754</td>\n",
       "      <td>0.205534</td>\n",
       "      <td>191.0</td>\n",
       "      <td>0.276110</td>\n",
       "      <td>0.500822</td>\n",
       "      <td>0.110702</td>\n",
       "    </tr>\n",
       "  </tbody>\n",
       "</table>\n",
       "<p>360 rows × 11 columns</p>\n",
       "</div>"
      ],
      "text/plain": [
       "            embedding instrument train_set test_set  precision    recall  \\\n",
       "0              vggish      cello     irmas    irmas   0.068966  0.468085   \n",
       "1              vggish   clarinet     irmas    irmas   0.080303  0.417323   \n",
       "2              vggish      flute     irmas    irmas   0.072917  0.404959   \n",
       "3              vggish     guitar     irmas    irmas   0.206198  0.500000   \n",
       "4              vggish      organ     irmas    irmas   0.103352  0.425287   \n",
       "..                ...        ...       ...      ...        ...       ...   \n",
       "115  yamnet-lda-genre      piano   openmic    irmas   0.101313  0.635294   \n",
       "116  yamnet-lda-genre  saxophone   openmic    irmas   0.091977  0.626667   \n",
       "117  yamnet-lda-genre    trumpet   openmic    irmas   0.084927  0.740000   \n",
       "118  yamnet-lda-genre     violin   openmic    irmas   0.065728  0.293706   \n",
       "119  yamnet-lda-genre      voice   openmic    irmas   0.117558  0.816754   \n",
       "\n",
       "     f1-score  support  accuracy   roc_auc        ap  \n",
       "0    0.120219     94.0  0.613445  0.552792  0.067386  \n",
       "1    0.134689    127.0  0.591236  0.518334  0.090597  \n",
       "2    0.123581    121.0  0.582833  0.506154  0.073721  \n",
       "3    0.291983    346.0  0.496399  0.503230  0.220680  \n",
       "4    0.166292    174.0  0.554622  0.490740  0.105086  \n",
       "..        ...      ...       ...       ...       ...  \n",
       "115  0.174757    170.0  0.387755  0.517069  0.119235  \n",
       "116  0.160410    150.0  0.409364  0.523813  0.099635  \n",
       "117  0.152368    150.0  0.258703  0.469081  0.087481  \n",
       "118  0.107417    143.0  0.581032  0.449155  0.073001  \n",
       "119  0.205534    191.0  0.276110  0.500822  0.110702  \n",
       "\n",
       "[360 rows x 11 columns]"
      ]
     },
     "execution_count": 5,
     "metadata": {},
     "output_type": "execute_result"
    }
   ],
   "source": [
    "df1 = pd.read_csv('crossdataset_generalization_result_kernelize.csv')\n",
    "df2 = pd.read_csv('crossdataset_generalization_result_kernelLDA.csv')\n",
    "df3 = pd.read_csv('crossdataset_generalization_result_kernelLDA_genre.csv')\n",
    "df2['embedding'] = ['vggish-lda'] * 40 + ['openl3-lda'] * 40 + ['yamnet-lda'] * 40 \n",
    "df3['embedding'] = ['vggish-lda-genre'] * 40 + ['openl3-lda-genre'] * 40 + ['yamnet-lda-genre'] * 40\n",
    "\n",
    "df = df1.append(df2).append(df3)\n",
    "df.to_csv('crossdataset_generalization_result_kernelLDA_allcompare.csv')\n",
    "df"
   ]
  },
  {
   "cell_type": "code",
   "execution_count": 6,
   "metadata": {},
   "outputs": [
    {
     "data": {
      "image/png": "[encoded data removed]",
      "text/plain": [
       "<Figure size 858.85x720 with 4 Axes>"
      ]
     },
     "metadata": {},
     "output_type": "display_data"
    }
   ],
   "source": [
    "sns.set_theme(context='notebook', style='whitegrid', palette='deep')\n",
    "diverging_colors = sns.color_palette(\"GnBu\", 3) + sns.color_palette(\"flare\", 3) + \\\n",
    "                   sns.color_palette(\"ch:s=.25,rot=-.25\", 3) \n",
    "hue_order=['vggish', 'vggish-lda', 'vggish-lda-genre', 'openl3', 'openl3-lda', 'openl3-lda-genre',\n",
    "          'yamnet', 'yamnet-lda', 'yamnet-lda-genre']\n",
    "\n",
    "sns.catplot(data=df, row='train_set', col='test_set', y='instrument', x='roc_auc', hue='embedding', kind='bar', \n",
    "            hue_order=hue_order, palette=diverging_colors);\n",
    "\n",
    "plt.savefig('crossdataset_generalization_auc_kernelLDA_genre.png')"
   ]
  },
  {
   "cell_type": "code",
   "execution_count": 7,
   "metadata": {},
   "outputs": [
    {
     "data": {
      "image/png": "[encoded data removed]",
      "text/plain": [
       "<Figure size 858.85x720 with 4 Axes>"
      ]
     },
     "metadata": {},
     "output_type": "display_data"
    }
   ],
   "source": [
    "sns.set_theme(context='notebook', style='whitegrid')\n",
    "diverging_colors = sns.color_palette(\"GnBu\", 3) + sns.color_palette(\"flare\", 3) + \\\n",
    "                   sns.color_palette(\"ch:s=.25,rot=-.25\", 3) \n",
    "hue_order=['vggish', 'vggish-lda', 'vggish-lda-genre', 'openl3', 'openl3-lda', 'openl3-lda-genre',\n",
    "          'yamnet', 'yamnet-lda', 'yamnet-lda-genre']\n",
    "\n",
    "sns.catplot(data=df, row='train_set', col='test_set', y='instrument', x='ap', hue='embedding', kind='bar', \n",
    "            hue_order=hue_order, palette=diverging_colors);\n",
    "\n",
    "plt.savefig('crossdataset_generalization_ap_kernelLDA_genre.png')"
   ]
  },
  {
   "cell_type": "code",
   "execution_count": null,
   "metadata": {},
   "outputs": [],
   "source": []
  }
 ],
 "metadata": {
  "kernelspec": {
   "display_name": "Python 3 (ipykernel)",
   "language": "python",
   "name": "python3"
  },
  "language_info": {
   "codemirror_mode": {
    "name": "ipython",
    "version": 3
   },
   "file_extension": ".py",
   "mimetype": "text/x-python",
   "name": "python",
   "nbconvert_exporter": "python",
   "pygments_lexer": "ipython3",
   "version": "3.7.13"
  },
  "toc": {
   "base_numbering": 1,
   "nav_menu": {},
   "number_sections": true,
   "sideBar": true,
   "skip_h1_title": false,
   "title_cell": "Table of Contents",
   "title_sidebar": "Contents",
   "toc_cell": false,
   "toc_position": {
    "height": "621.778px",
    "left": "21px",
    "top": "111.139px",
    "width": "165px"
   },
   "toc_section_display": true,
   "toc_window_display": true
  }
 },
 "nbformat": 4,
 "nbformat_minor": 4
}
