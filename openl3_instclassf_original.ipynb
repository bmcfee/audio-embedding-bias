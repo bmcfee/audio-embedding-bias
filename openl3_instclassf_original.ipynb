{
 "cells": [
  {
   "cell_type": "code",
   "execution_count": 1,
   "metadata": {},
   "outputs": [],
   "source": [
    "%matplotlib inline\n",
    "import matplotlib.pyplot as plt\n",
    "import seaborn as sns\n",
    "import numpy as np\n",
    "import librosa\n",
    "from tqdm import tqdm_notebook as tqdm\n",
    "import json\n",
    "import pandas as pd\n",
    "import pickle\n",
    "import os\n",
    "import h5py\n",
    "import warnings\n",
    "warnings.filterwarnings('ignore')\n",
    "\n",
    "from sklearn.linear_model import LogisticRegression\n",
    "from sklearn.model_selection import GridSearchCV\n",
    "from sklearn.metrics import classification_report, roc_auc_score, average_precision_score\n",
    "from sklearn.preprocessing import StandardScaler"
   ]
  },
  {
   "cell_type": "code",
   "execution_count": 2,
   "metadata": {},
   "outputs": [],
   "source": [
    "param_grid = {'C': [10**k for k in range(-10, 4, 1)]}  \n",
    "scoring = 'roc_auc'; cv = 3"
   ]
  },
  {
   "cell_type": "markdown",
   "metadata": {},
   "source": [
    "# Load embeddings and align classes"
   ]
  },
  {
   "cell_type": "code",
   "execution_count": 3,
   "metadata": {},
   "outputs": [],
   "source": [
    "embedding = 'openl3'\n",
    "debias_method = ''"
   ]
  },
  {
   "cell_type": "code",
   "execution_count": 4,
   "metadata": {},
   "outputs": [
    {
     "name": "stdout",
     "output_type": "stream",
     "text": [
      "irmas\n",
      "irmas/openl3\n",
      "irmas/openl3/features\n",
      "irmas/openl3/keys\n",
      "irmas/vggish\n",
      "irmas/vggish/features\n",
      "irmas/vggish/keys\n",
      "irmas/yamnet\n",
      "irmas/yamnet/features\n",
      "irmas/yamnet/keys\n",
      "openmic\n",
      "openmic/openl3\n",
      "openmic/openl3/features\n",
      "openmic/openl3/keys\n",
      "openmic/vggish\n",
      "openmic/vggish/features\n",
      "openmic/vggish/keys\n",
      "openmic/yamnet\n",
      "openmic/yamnet/features\n",
      "openmic/yamnet/keys\n"
     ]
    }
   ],
   "source": [
    "# load embeddings\n",
    "embeddings = h5py.File('embeddings.h5', 'r')\n",
    "\n",
    "def printname(name):\n",
    "    print(name)\n",
    "embeddings.visit(printname)"
   ]
  },
  {
   "cell_type": "code",
   "execution_count": 5,
   "metadata": {},
   "outputs": [
    {
     "data": {
      "text/plain": [
       "{'cello': 3,\n",
       " 'clarinet': 4,\n",
       " 'flute': 7,\n",
       " 'guitar': 8,\n",
       " 'organ': 11,\n",
       " 'piano': 12,\n",
       " 'saxophone': 13,\n",
       " 'trumpet': 16,\n",
       " 'violin': 18,\n",
       " 'voice': 19}"
      ]
     },
     "execution_count": 5,
     "metadata": {},
     "output_type": "execute_result"
    }
   ],
   "source": [
    "with open('class-map-10.json', 'r') as f: # only consider 10 classes of Openmic dataset\n",
    "    class_map = json.load(f)\n",
    "    \n",
    "class_map"
   ]
  },
  {
   "cell_type": "code",
   "execution_count": 6,
   "metadata": {},
   "outputs": [],
   "source": [
    "# use a dict to align the classes between Openmic dataset (key) and Irmas dataset (val)\n",
    "class_align = {'cello': 'cel',\n",
    "               'clarinet': 'cla',\n",
    "               'flute': 'flu',\n",
    "               'guitar': ['gac', 'gel'],\n",
    "               'organ': 'org',\n",
    "               'piano': 'pia',\n",
    "               'saxophone': 'sax',\n",
    "               'trumpet': 'tru',\n",
    "               'violin': 'vio',\n",
    "               'voice': 'voi'}"
   ]
  },
  {
   "cell_type": "code",
   "execution_count": 7,
   "metadata": {},
   "outputs": [],
   "source": [
    "# use a Pandas DataFrame to record all results and save into a csv file later\n",
    "result_all = pd.DataFrame({'instrument': [],\n",
    "                          'train_set': [],\n",
    "                          'test_set': [],\n",
    "                          'precision': [],\n",
    "                          'recall': [],\n",
    "                          'f1-score': [],\n",
    "                          'support': [],\n",
    "                          'accuracy': [],\n",
    "                          'roc_auc': [],\n",
    "                          'ap': [],\n",
    "                          'embedding': [],\n",
    "                         })"
   ]
  },
  {
   "cell_type": "markdown",
   "metadata": {},
   "source": [
    "# irmas->irmas"
   ]
  },
  {
   "cell_type": "code",
   "execution_count": 8,
   "metadata": {},
   "outputs": [
    {
     "name": "stdout",
     "output_type": "stream",
     "text": [
      "(167625, 512) (167625,)\n",
      "(6705,)\n"
     ]
    },
    {
     "data": {
      "application/vnd.jupyter.widget-view+json": {
       "model_id": "e15882de5425419295e494a23340e4ad",
       "version_major": 2,
       "version_minor": 0
      },
      "text/plain": [
       "  0%|          | 0/6705 [00:00<?, ?it/s]"
      ]
     },
     "metadata": {},
     "output_type": "display_data"
    },
    {
     "name": "stdout",
     "output_type": "stream",
     "text": [
      "(6705, 512) (6705,)\n"
     ]
    }
   ],
   "source": [
    "# irmas: Vggish embedding\n",
    "feature = np.array(embeddings['irmas'][embedding]['features'])\n",
    "keys_ori = np.array(embeddings['irmas'][embedding]['keys'])\n",
    "print(feature.shape, keys_ori.shape)\n",
    "\n",
    "key_clip = np.unique(keys_ori)\n",
    "print(key_clip.shape)\n",
    "\n",
    "feature_clip = []\n",
    "\n",
    "for key in tqdm(key_clip):\n",
    "    feature_clip.append(np.mean(feature[keys_ori[:]==key,:],axis=0))\n",
    "    \n",
    "feature_clip = np.array(feature_clip)\n",
    "key_clip = np.array([str(k, 'utf-8') for k in key_clip])\n",
    "print(feature_clip.shape, key_clip.shape)"
   ]
  },
  {
   "cell_type": "code",
   "execution_count": 9,
   "metadata": {},
   "outputs": [],
   "source": [
    "key_train = set(pd.read_csv('irmas_train.csv', header=None, squeeze=True))\n",
    "key_test = set(pd.read_csv('irmas_test.csv', header=None, squeeze=True))"
   ]
  },
  {
   "cell_type": "code",
   "execution_count": 10,
   "metadata": {},
   "outputs": [],
   "source": [
    "# these loops go through all sample keys, and save their row numbers to either idx_train or idx_test\n",
    "idx_train, idx_test = [], []\n",
    "\n",
    "for k in range(len(key_clip)):\n",
    "    if str(key_clip[k]) in key_train:\n",
    "        idx_train.append(k)\n",
    "    elif str(key_clip[k]) in key_test:\n",
    "        idx_test.append(k)\n",
    "    else:\n",
    "        # This should never happen, but better safe than sorry.\n",
    "        raise RuntimeError('Unknown sample key={}! Abort!'.format(str(key_clip[k])))\n",
    "        \n",
    "# cast the idx_* arrays to numpy structures\n",
    "idx_train = np.asarray(idx_train)\n",
    "idx_test = np.asarray(idx_test)"
   ]
  },
  {
   "cell_type": "code",
   "execution_count": 11,
   "metadata": {},
   "outputs": [
    {
     "data": {
      "text/plain": [
       "array(['cello', 'clarinet', 'flute', 'guitar', 'organ', 'piano',\n",
       "       'saxophone', 'trumpet', 'violin', 'voice'], dtype='<U9')"
      ]
     },
     "execution_count": 11,
     "metadata": {},
     "output_type": "execute_result"
    }
   ],
   "source": [
    "keys = np.array(key_clip)\n",
    "keys = [key[key.index('[')+1:key.index(']')] for key in keys]\n",
    "\n",
    "for key in class_align:\n",
    "    keys = [key if x in class_align[key] else x for x in keys]\n",
    "    \n",
    "keys = np.array(keys)\n",
    "np.unique(keys)"
   ]
  },
  {
   "cell_type": "code",
   "execution_count": 12,
   "metadata": {},
   "outputs": [
    {
     "name": "stdout",
     "output_type": "stream",
     "text": [
      "(5039, 512)\n",
      "(1666, 512)\n"
     ]
    }
   ],
   "source": [
    "# use the split indices to partition the features, labels, and masks\n",
    "X_train = feature_clip[idx_train,:]\n",
    "X_test = feature_clip[idx_test]\n",
    "\n",
    "Y_true_train = keys[idx_train]\n",
    "Y_true_test = keys[idx_test]\n",
    "\n",
    "# print out the sliced shapes as a sanity check\n",
    "print(X_train.shape)\n",
    "print(X_test.shape)"
   ]
  },
  {
   "cell_type": "code",
   "execution_count": 13,
   "metadata": {},
   "outputs": [],
   "source": [
    "# standardize embedding\n",
    "scaler = StandardScaler()\n",
    "X_train = scaler.fit_transform(X_train)\n",
    "X_test = scaler.transform(X_test)"
   ]
  },
  {
   "cell_type": "code",
   "execution_count": 14,
   "metadata": {},
   "outputs": [
    {
     "name": "stdout",
     "output_type": "stream",
     "text": [
      "----------------------------------------------------\n",
      "cello\n",
      "\tTEST\n",
      "              precision    recall  f1-score   support\n",
      "\n",
      "       False       0.99      0.95      0.97      1572\n",
      "        True       0.49      0.80      0.61        94\n",
      "\n",
      "    accuracy                           0.94      1666\n",
      "   macro avg       0.74      0.87      0.79      1666\n",
      "weighted avg       0.96      0.94      0.95      1666\n",
      "\n",
      "ROC-AUC = 0.955\t\tAP = 0.748\n",
      "----------------------------------------------------\n",
      "clarinet\n",
      "\tTEST\n",
      "              precision    recall  f1-score   support\n",
      "\n",
      "       False       0.98      0.92      0.95      1539\n",
      "        True       0.44      0.75      0.56       127\n",
      "\n",
      "    accuracy                           0.91      1666\n",
      "   macro avg       0.71      0.84      0.75      1666\n",
      "weighted avg       0.94      0.91      0.92      1666\n",
      "\n",
      "ROC-AUC = 0.909\t\tAP = 0.683\n",
      "----------------------------------------------------\n",
      "flute\n",
      "\tTEST\n",
      "              precision    recall  f1-score   support\n",
      "\n",
      "       False       0.97      0.92      0.94      1545\n",
      "        True       0.39      0.67      0.49       121\n",
      "\n",
      "    accuracy                           0.90      1666\n",
      "   macro avg       0.68      0.79      0.72      1666\n",
      "weighted avg       0.93      0.90      0.91      1666\n",
      "\n",
      "ROC-AUC = 0.902\t\tAP = 0.549\n",
      "----------------------------------------------------\n",
      "guitar\n",
      "\tTEST\n",
      "              precision    recall  f1-score   support\n",
      "\n",
      "       False       0.97      0.90      0.94      1320\n",
      "        True       0.71      0.90      0.79       346\n",
      "\n",
      "    accuracy                           0.90      1666\n",
      "   macro avg       0.84      0.90      0.87      1666\n",
      "weighted avg       0.92      0.90      0.91      1666\n",
      "\n",
      "ROC-AUC = 0.964\t\tAP = 0.880\n",
      "----------------------------------------------------\n",
      "organ\n",
      "\tTEST\n",
      "              precision    recall  f1-score   support\n",
      "\n",
      "       False       0.99      0.96      0.98      1492\n",
      "        True       0.75      0.91      0.82       174\n",
      "\n",
      "    accuracy                           0.96      1666\n",
      "   macro avg       0.87      0.94      0.90      1666\n",
      "weighted avg       0.96      0.96      0.96      1666\n",
      "\n",
      "ROC-AUC = 0.988\t\tAP = 0.890\n",
      "----------------------------------------------------\n",
      "piano\n",
      "\tTEST\n",
      "              precision    recall  f1-score   support\n",
      "\n",
      "       False       0.99      0.97      0.98      1496\n",
      "        True       0.79      0.88      0.84       170\n",
      "\n",
      "    accuracy                           0.96      1666\n",
      "   macro avg       0.89      0.93      0.91      1666\n",
      "weighted avg       0.97      0.96      0.97      1666\n",
      "\n",
      "ROC-AUC = 0.976\t\tAP = 0.926\n",
      "----------------------------------------------------\n",
      "saxophone\n",
      "\tTEST\n",
      "              precision    recall  f1-score   support\n",
      "\n",
      "       False       0.97      0.83      0.89      1516\n",
      "        True       0.29      0.73      0.42       150\n",
      "\n",
      "    accuracy                           0.82      1666\n",
      "   macro avg       0.63      0.78      0.66      1666\n",
      "weighted avg       0.91      0.82      0.85      1666\n",
      "\n",
      "ROC-AUC = 0.865\t\tAP = 0.532\n",
      "----------------------------------------------------\n",
      "trumpet\n",
      "\tTEST\n",
      "              precision    recall  f1-score   support\n",
      "\n",
      "       False       0.99      0.91      0.95      1516\n",
      "        True       0.50      0.86      0.63       150\n",
      "\n",
      "    accuracy                           0.91      1666\n",
      "   macro avg       0.74      0.89      0.79      1666\n",
      "weighted avg       0.94      0.91      0.92      1666\n",
      "\n",
      "ROC-AUC = 0.957\t\tAP = 0.780\n",
      "----------------------------------------------------\n",
      "violin\n",
      "\tTEST\n",
      "              precision    recall  f1-score   support\n",
      "\n",
      "       False       0.99      0.58      0.73      1523\n",
      "        True       0.17      0.91      0.29       143\n",
      "\n",
      "    accuracy                           0.61      1666\n",
      "   macro avg       0.58      0.75      0.51      1666\n",
      "weighted avg       0.92      0.61      0.69      1666\n",
      "\n",
      "ROC-AUC = 0.861\t\tAP = 0.466\n",
      "----------------------------------------------------\n",
      "voice\n",
      "\tTEST\n",
      "              precision    recall  f1-score   support\n",
      "\n",
      "       False       0.99      0.97      0.98      1475\n",
      "        True       0.79      0.95      0.86       191\n",
      "\n",
      "    accuracy                           0.96      1666\n",
      "   macro avg       0.89      0.96      0.92      1666\n",
      "weighted avg       0.97      0.96      0.97      1666\n",
      "\n",
      "ROC-AUC = 0.994\t\tAP = 0.955\n"
     ]
    }
   ],
   "source": [
    "train_set_name, test_set_name = 'irmas', 'irmas'\n",
    "\n",
    "# use a dictionary to include the classifier for each instrument trained on the dataset based on the embedding\n",
    "globals()['models_'+train_set_name] = dict()  \n",
    "\n",
    "# iterate over all istrument classes, and fit a model for each one\n",
    "for instrument in class_align:\n",
    "    \n",
    "    # get the training and testing labels for each instrument\n",
    "    Y_true_train_inst = Y_true_train==instrument\n",
    "    Y_true_test_inst = Y_true_test==instrument\n",
    "    \n",
    "    # initialize and a logistic regression model\n",
    "    LRmodel = LogisticRegression(random_state=0, penalty='l2', solver='liblinear', class_weight='balanced')\n",
    "    \n",
    "    # hyperparameter tunning for logistic regression model\n",
    "    clf =  GridSearchCV(LRmodel, param_grid=param_grid, cv=cv, scoring=scoring)  \n",
    "    \n",
    "    # fit the model\n",
    "    clf.fit(X_train, Y_true_train_inst)\n",
    "    \n",
    "    # predict\n",
    "    Y_pred_test_inst = clf.predict(X_test)\n",
    "    \n",
    "    # Get prediction scores for the positive class\n",
    "    Y_pred_test_scores = clf.predict_proba(X_test)[:, 1]\n",
    "    \n",
    "    # print result for each instrument\n",
    "    print('-' * 52); print(instrument); print('\\tTEST')\n",
    "    print(classification_report(Y_true_test_inst, Y_pred_test_inst))\n",
    "    \n",
    "    model_auc = roc_auc_score(Y_true_test_inst, Y_pred_test_scores)\n",
    "    model_ap = average_precision_score(Y_true_test_inst, Y_pred_test_scores)\n",
    "    print(f'ROC-AUC = {model_auc:.3f}\\t\\tAP = {model_ap:.3f}')\n",
    "    \n",
    "    # store the classifier in the model dictionary\n",
    "    globals()['models_'+train_set_name][instrument] = clf\n",
    "    \n",
    "    # record the result for each instrument\n",
    "    report = pd.DataFrame(classification_report(Y_true_test_inst, Y_pred_test_inst, output_dict=True))['True']\n",
    "    report['roc_auc'] = model_auc\n",
    "    report['ap'] = model_ap\n",
    "    \n",
    "    report_accuracy = pd.DataFrame(classification_report(Y_true_test_inst, Y_pred_test_inst, output_dict=True))['accuracy'][-2]\n",
    "    result_inst = [instrument, train_set_name, test_set_name, report['precision'], report['recall'],\n",
    "                   report['f1-score'], report['support'], report_accuracy, model_auc, model_ap, embedding + debias_method]\n",
    "    result_all = result_all.append(pd.DataFrame(np.expand_dims(np.array(result_inst), axis=0), \n",
    "                                                columns=result_all.columns), ignore_index=True)\n",
    "    \n",
    "with open('models/models_' + train_set_name + '_' + embedding + debias_method + '.pickle', 'wb') as fdesc:\n",
    "    pickle.dump(globals()['models_'+train_set_name], fdesc)"
   ]
  },
  {
   "cell_type": "markdown",
   "metadata": {},
   "source": [
    "# openmic->openmic"
   ]
  },
  {
   "cell_type": "code",
   "execution_count": 15,
   "metadata": {},
   "outputs": [
    {
     "name": "stdout",
     "output_type": "stream",
     "text": [
      "(1900000, 512) (1900000,)\n"
     ]
    },
    {
     "data": {
      "application/vnd.jupyter.widget-view+json": {
       "model_id": "4a4cb04e89f1464aa2a6e3f055ecead6",
       "version_major": 2,
       "version_minor": 0
      },
      "text/plain": [
       "  0%|          | 0/20000 [00:00<?, ?it/s]"
      ]
     },
     "metadata": {},
     "output_type": "display_data"
    },
    {
     "name": "stdout",
     "output_type": "stream",
     "text": [
      "(20000, 512) (20000,)\n"
     ]
    }
   ],
   "source": [
    "feature = np.array(embeddings['openmic'][embedding]['features'])\n",
    "keys = np.array(embeddings['openmic'][embedding]['keys'])\n",
    "print(feature.shape, keys.shape)\n",
    "\n",
    "key_clip = np.unique(keys)\n",
    "\n",
    "feature_clip = []\n",
    "\n",
    "for key in tqdm(key_clip):\n",
    "    feature_clip.append(np.mean(feature[keys[:]==key,:],axis=0))\n",
    "    \n",
    "feature_clip = np.array(feature_clip)\n",
    "print(feature_clip.shape, key_clip.shape)\n",
    "\n",
    "key_clip = np.array([str(k, 'utf-8') for k in key_clip])"
   ]
  },
  {
   "cell_type": "code",
   "execution_count": 16,
   "metadata": {},
   "outputs": [
    {
     "name": "stdout",
     "output_type": "stream",
     "text": [
      "(20000, 20) (20000, 20) (20000,)\n"
     ]
    }
   ],
   "source": [
    "# key-label map using the information from the dataset source\n",
    "data_root = 'openmic-2018/'\n",
    "\n",
    "np_load_old = np.load   # save np.load\n",
    "np.load = lambda *a,**k: np_load_old(*a, allow_pickle=True,**k)   # modify the default parameters of np.load\n",
    "\n",
    "Ytrue = np.load(os.path.join(data_root, 'openmic-2018.npz'))['Y_true']\n",
    "Ymask = np.load(os.path.join(data_root, 'openmic-2018.npz'))['Y_mask']\n",
    "sample_key = np.load(os.path.join(data_root, 'openmic-2018.npz'))['sample_key']\n",
    "\n",
    "np.load = np_load_old   # restore np.load for future normal usage\n",
    "del(np_load_old)\n",
    "\n",
    "print(Ytrue.shape, Ymask.shape, sample_key.shape)"
   ]
  },
  {
   "cell_type": "code",
   "execution_count": 17,
   "metadata": {},
   "outputs": [
    {
     "data": {
      "application/vnd.jupyter.widget-view+json": {
       "model_id": "4f07650a8608452bb027746fb391720f",
       "version_major": 2,
       "version_minor": 0
      },
      "text/plain": [
       "  0%|          | 0/20000 [00:00<?, ?it/s]"
      ]
     },
     "metadata": {},
     "output_type": "display_data"
    },
    {
     "name": "stdout",
     "output_type": "stream",
     "text": [
      "(20000, 512) (20000, 20) (20000, 20)\n"
     ]
    }
   ],
   "source": [
    "Y_true = []\n",
    "Y_mask = []\n",
    "\n",
    "for key in tqdm(key_clip):\n",
    "    Y_true.append(Ytrue[sample_key==key])\n",
    "    Y_mask.append(Ymask[sample_key==key])\n",
    "    \n",
    "Y_true = np.squeeze(np.array(Y_true))\n",
    "Y_mask = np.squeeze(np.array(Y_mask))\n",
    "\n",
    "print(feature_clip.shape, Y_true.shape, Y_mask.shape)"
   ]
  },
  {
   "cell_type": "code",
   "execution_count": 18,
   "metadata": {},
   "outputs": [
    {
     "name": "stdout",
     "output_type": "stream",
     "text": [
      "# Train: 14915,  # Test: 5085\n"
     ]
    }
   ],
   "source": [
    "# train-test split\n",
    "train_set = set(pd.read_csv(data_root + 'openmic2018_train.csv', header=None, squeeze=True))\n",
    "test_set = set(pd.read_csv(data_root + 'openmic2018_test.csv', header=None, squeeze=True))\n",
    "print('# Train: {},  # Test: {}'.format(len(train_set), len(test_set)))"
   ]
  },
  {
   "cell_type": "code",
   "execution_count": 19,
   "metadata": {},
   "outputs": [],
   "source": [
    "idx_train, idx_test = [], []\n",
    "\n",
    "for idx, n in enumerate(key_clip):\n",
    "    if n in train_set:\n",
    "        idx_train.append(idx)\n",
    "    elif n in test_set:\n",
    "        idx_test.append(idx)\n",
    "    else:\n",
    "        raise RuntimeError('Unknown sample key={}! Abort!'.format(key_clip[n]))\n",
    "        \n",
    "idx_train = np.asarray(idx_train)\n",
    "idx_test = np.asarray(idx_test)"
   ]
  },
  {
   "cell_type": "code",
   "execution_count": 20,
   "metadata": {},
   "outputs": [
    {
     "name": "stdout",
     "output_type": "stream",
     "text": [
      "(14915, 512)\n",
      "(5085, 512)\n"
     ]
    }
   ],
   "source": [
    "X_train = feature_clip[idx_train]\n",
    "X_test = feature_clip[idx_test]\n",
    "\n",
    "Y_true_train = Y_true[idx_train]\n",
    "Y_true_test = Y_true[idx_test]\n",
    "\n",
    "Y_mask_train = Y_mask[idx_train]\n",
    "Y_mask_test = Y_mask[idx_test]\n",
    "\n",
    "print(X_train.shape); print(X_test.shape)"
   ]
  },
  {
   "cell_type": "code",
   "execution_count": 21,
   "metadata": {},
   "outputs": [],
   "source": [
    "# standardize embedding\n",
    "scaler = StandardScaler()\n",
    "X_train = scaler.fit_transform(X_train)\n",
    "X_test = scaler.transform(X_test)"
   ]
  },
  {
   "cell_type": "code",
   "execution_count": 22,
   "metadata": {},
   "outputs": [
    {
     "name": "stdout",
     "output_type": "stream",
     "text": [
      "----------------------------------------------------\n",
      "cello\n",
      "\tTEST\n",
      "              precision    recall  f1-score   support\n",
      "\n",
      "       False       0.85      0.75      0.80       259\n",
      "        True       0.75      0.85      0.80       226\n",
      "\n",
      "    accuracy                           0.80       485\n",
      "   macro avg       0.80      0.80      0.80       485\n",
      "weighted avg       0.80      0.80      0.80       485\n",
      "\n",
      "ROC-AUC = 0.886\t\tAP = 0.853\n",
      "----------------------------------------------------\n",
      "clarinet\n",
      "\tTEST\n",
      "              precision    recall  f1-score   support\n",
      "\n",
      "       False       0.91      0.59      0.71       503\n",
      "        True       0.34      0.79      0.48       137\n",
      "\n",
      "    accuracy                           0.63       640\n",
      "   macro avg       0.63      0.69      0.60       640\n",
      "weighted avg       0.79      0.63      0.66       640\n",
      "\n",
      "ROC-AUC = 0.756\t\tAP = 0.426\n",
      "----------------------------------------------------\n",
      "flute\n",
      "\tTEST\n",
      "              precision    recall  f1-score   support\n",
      "\n",
      "       False       0.85      0.59      0.70       387\n",
      "        True       0.46      0.78      0.58       175\n",
      "\n",
      "    accuracy                           0.65       562\n",
      "   macro avg       0.66      0.68      0.64       562\n",
      "weighted avg       0.73      0.65      0.66       562\n",
      "\n",
      "ROC-AUC = 0.784\t\tAP = 0.645\n",
      "----------------------------------------------------\n",
      "guitar\n",
      "\tTEST\n",
      "              precision    recall  f1-score   support\n",
      "\n",
      "       False       0.95      0.95      0.95       150\n",
      "        True       0.97      0.98      0.97       286\n",
      "\n",
      "    accuracy                           0.97       436\n",
      "   macro avg       0.96      0.96      0.96       436\n",
      "weighted avg       0.97      0.97      0.97       436\n",
      "\n",
      "ROC-AUC = 0.990\t\tAP = 0.995\n",
      "----------------------------------------------------\n",
      "organ\n",
      "\tTEST\n",
      "              precision    recall  f1-score   support\n",
      "\n",
      "       False       0.94      0.50      0.65       310\n",
      "        True       0.42      0.92      0.57       121\n",
      "\n",
      "    accuracy                           0.62       431\n",
      "   macro avg       0.68      0.71      0.61       431\n",
      "weighted avg       0.79      0.62      0.63       431\n",
      "\n",
      "ROC-AUC = 0.809\t\tAP = 0.579\n",
      "----------------------------------------------------\n",
      "piano\n",
      "\tTEST\n",
      "              precision    recall  f1-score   support\n",
      "\n",
      "       False       0.95      0.87      0.91       130\n",
      "        True       0.94      0.98      0.96       285\n",
      "\n",
      "    accuracy                           0.94       415\n",
      "   macro avg       0.95      0.92      0.93       415\n",
      "weighted avg       0.94      0.94      0.94       415\n",
      "\n",
      "ROC-AUC = 0.976\t\tAP = 0.987\n",
      "----------------------------------------------------\n",
      "saxophone\n",
      "\tTEST\n",
      "              precision    recall  f1-score   support\n",
      "\n",
      "       False       0.87      0.69      0.77       324\n",
      "        True       0.73      0.89      0.80       305\n",
      "\n",
      "    accuracy                           0.79       629\n",
      "   macro avg       0.80      0.79      0.78       629\n",
      "weighted avg       0.80      0.79      0.78       629\n",
      "\n",
      "ROC-AUC = 0.889\t\tAP = 0.880\n",
      "----------------------------------------------------\n",
      "trumpet\n",
      "\tTEST\n",
      "              precision    recall  f1-score   support\n",
      "\n",
      "       False       0.87      0.72      0.79       467\n",
      "        True       0.68      0.84      0.75       318\n",
      "\n",
      "    accuracy                           0.77       785\n",
      "   macro avg       0.77      0.78      0.77       785\n",
      "weighted avg       0.79      0.77      0.77       785\n",
      "\n",
      "ROC-AUC = 0.863\t\tAP = 0.816\n",
      "----------------------------------------------------\n",
      "violin\n",
      "\tTEST\n",
      "              precision    recall  f1-score   support\n",
      "\n",
      "       False       0.89      0.76      0.82       237\n",
      "        True       0.87      0.94      0.90       394\n",
      "\n",
      "    accuracy                           0.87       631\n",
      "   macro avg       0.88      0.85      0.86       631\n",
      "weighted avg       0.88      0.87      0.87       631\n",
      "\n",
      "ROC-AUC = 0.923\t\tAP = 0.941\n",
      "----------------------------------------------------\n",
      "voice\n",
      "\tTEST\n",
      "              precision    recall  f1-score   support\n",
      "\n",
      "       False       0.88      0.85      0.86       150\n",
      "        True       0.90      0.92      0.91       224\n",
      "\n",
      "    accuracy                           0.89       374\n",
      "   macro avg       0.89      0.89      0.89       374\n",
      "weighted avg       0.89      0.89      0.89       374\n",
      "\n",
      "ROC-AUC = 0.969\t\tAP = 0.980\n"
     ]
    }
   ],
   "source": [
    "# This part of the code follows the baseline model for instrument recognition on the openmic dataset:\n",
    "# https://github.com/cosmir/openmic-2018/blob/master/examples/modeling-baseline.ipynb\n",
    "train_set_name, test_set_name = 'openmic', 'openmic'\n",
    "\n",
    "# use a dictionary to include the classifier for each instrument trained on the dataset based on the embedding\n",
    "globals()['models_'+train_set_name] = dict()  \n",
    "\n",
    "# We'll iterate over all istrument classes, and fit a model for each one\n",
    "# After training, we'll print a classification report for each instrument\n",
    "for instrument in class_align:\n",
    "    \n",
    "    # Map the instrument name to its column number\n",
    "    inst_num = class_map[instrument]\n",
    "    \n",
    "    # First, sub-sample the data: we need to select down to the data for which we have annotations\n",
    "    # This is what the mask arrays are for\n",
    "    train_inst = Y_mask_train[:, inst_num]\n",
    "    test_inst = Y_mask_test[:, inst_num]\n",
    "    \n",
    "    # Here, we're using the Y_mask_train array to slice out only the training examples\n",
    "    # for which we have annotations for the given class\n",
    "    X_train_inst = X_train[train_inst]\n",
    "    \n",
    "    # Again, we slice the labels to the annotated examples\n",
    "    # We thresold the label likelihoods at 0.5 to get binary labels\n",
    "    Y_true_train_inst = Y_true_train[train_inst, inst_num] >= 0.5\n",
    "    \n",
    "    # Repeat the above slicing and dicing but for the test set\n",
    "    X_test_inst = X_test[test_inst]\n",
    "    Y_true_test_inst = Y_true_test[test_inst, inst_num] >= 0.5\n",
    "\n",
    "    # initialize and a logistic regression model\n",
    "    LRmodel = LogisticRegression(random_state=0, penalty='l2', solver='liblinear', class_weight='balanced')\n",
    "    \n",
    "    # hyperparameter tunning for logistic regression model\n",
    "    clf =  GridSearchCV(LRmodel, param_grid=param_grid, cv=cv, scoring=scoring)    \n",
    "    \n",
    "    # fit the model\n",
    "    clf.fit(X_train_inst, Y_true_train_inst)\n",
    "\n",
    "    # predict\n",
    "    Y_pred_test_inst = clf.predict(X_test_inst)\n",
    "    # Get prediction scores for the positive class\n",
    "    Y_pred_test_scores = clf.predict_proba(X_test_inst)[:, 1]\n",
    "    \n",
    "    # print result for each instrument\n",
    "    print('-' * 52); print(instrument); print('\\tTEST')\n",
    "    print(classification_report(Y_true_test_inst, Y_pred_test_inst))\n",
    "    \n",
    "    model_auc = roc_auc_score(Y_true_test_inst, Y_pred_test_scores)\n",
    "    model_ap = average_precision_score(Y_true_test_inst, Y_pred_test_scores)\n",
    "    print(f'ROC-AUC = {model_auc:.3f}\\t\\tAP = {model_ap:.3f}')\n",
    "    \n",
    "    # store the classifier in the model dictionary\n",
    "    globals()['models_'+train_set_name][instrument] = clf\n",
    "    \n",
    "    # record the result for each instrument\n",
    "    report = pd.DataFrame(classification_report(Y_true_test_inst, Y_pred_test_inst, output_dict=True))['True']\n",
    "    report['roc_auc'] = model_auc\n",
    "    report['ap'] = model_ap\n",
    "    report_accuracy = pd.DataFrame(classification_report(Y_true_test_inst, Y_pred_test_inst, output_dict=True))['accuracy'][-2]\n",
    "    result_inst = [instrument, train_set_name, test_set_name, report['precision'], report['recall'],\n",
    "                   report['f1-score'], report['support'], report_accuracy, model_auc, model_ap, embedding + debias_method]   \n",
    "    result_all = result_all.append(pd.DataFrame(np.expand_dims(np.array(result_inst), axis=0), \n",
    "                                                columns=result_all.columns), ignore_index=True)\n",
    "    \n",
    "with open('models/models_' + train_set_name + '_' + embedding + debias_method + '.pickle', 'wb') as fdesc:\n",
    "    pickle.dump(globals()['models_'+train_set_name], fdesc)"
   ]
  },
  {
   "cell_type": "markdown",
   "metadata": {},
   "source": [
    "# irmas->openmic"
   ]
  },
  {
   "cell_type": "code",
   "execution_count": 23,
   "metadata": {},
   "outputs": [
    {
     "name": "stdout",
     "output_type": "stream",
     "text": [
      "----------------------------------------------------\n",
      "cello\n",
      "\tTEST\n",
      "              precision    recall  f1-score   support\n",
      "\n",
      "       False       0.59      0.82      0.69       259\n",
      "        True       0.63      0.36      0.46       226\n",
      "\n",
      "    accuracy                           0.60       485\n",
      "   macro avg       0.61      0.59      0.57       485\n",
      "weighted avg       0.61      0.60      0.58       485\n",
      "\n",
      "ROC-AUC = 0.704\t\tAP = 0.623\n",
      "----------------------------------------------------\n",
      "clarinet\n",
      "\tTEST\n",
      "              precision    recall  f1-score   support\n",
      "\n",
      "       False       0.81      0.79      0.80       503\n",
      "        True       0.30      0.33      0.31       137\n",
      "\n",
      "    accuracy                           0.69       640\n",
      "   macro avg       0.56      0.56      0.56       640\n",
      "weighted avg       0.70      0.69      0.70       640\n",
      "\n",
      "ROC-AUC = 0.659\t\tAP = 0.291\n",
      "----------------------------------------------------\n",
      "flute\n",
      "\tTEST\n",
      "              precision    recall  f1-score   support\n",
      "\n",
      "       False       0.76      0.87      0.81       387\n",
      "        True       0.56      0.38      0.46       175\n",
      "\n",
      "    accuracy                           0.72       562\n",
      "   macro avg       0.66      0.62      0.63       562\n",
      "weighted avg       0.70      0.72      0.70       562\n",
      "\n",
      "ROC-AUC = 0.720\t\tAP = 0.525\n",
      "----------------------------------------------------\n",
      "guitar\n",
      "\tTEST\n",
      "              precision    recall  f1-score   support\n",
      "\n",
      "       False       0.81      0.94      0.87       150\n",
      "        True       0.97      0.88      0.92       286\n",
      "\n",
      "    accuracy                           0.90       436\n",
      "   macro avg       0.89      0.91      0.90       436\n",
      "weighted avg       0.91      0.90      0.91       436\n",
      "\n",
      "ROC-AUC = 0.967\t\tAP = 0.984\n",
      "----------------------------------------------------\n",
      "organ\n",
      "\tTEST\n",
      "              precision    recall  f1-score   support\n",
      "\n",
      "       False       0.79      0.82      0.80       310\n",
      "        True       0.49      0.44      0.46       121\n",
      "\n",
      "    accuracy                           0.71       431\n",
      "   macro avg       0.64      0.63      0.63       431\n",
      "weighted avg       0.70      0.71      0.71       431\n",
      "\n",
      "ROC-AUC = 0.699\t\tAP = 0.487\n",
      "----------------------------------------------------\n",
      "piano\n",
      "\tTEST\n",
      "              precision    recall  f1-score   support\n",
      "\n",
      "       False       0.80      0.96      0.87       130\n",
      "        True       0.98      0.89      0.93       285\n",
      "\n",
      "    accuracy                           0.91       415\n",
      "   macro avg       0.89      0.93      0.90       415\n",
      "weighted avg       0.92      0.91      0.92       415\n",
      "\n",
      "ROC-AUC = 0.974\t\tAP = 0.987\n",
      "----------------------------------------------------\n",
      "saxophone\n",
      "\tTEST\n",
      "              precision    recall  f1-score   support\n",
      "\n",
      "       False       0.69      0.72      0.70       324\n",
      "        True       0.69      0.66      0.67       305\n",
      "\n",
      "    accuracy                           0.69       629\n",
      "   macro avg       0.69      0.69      0.69       629\n",
      "weighted avg       0.69      0.69      0.69       629\n",
      "\n",
      "ROC-AUC = 0.758\t\tAP = 0.712\n",
      "----------------------------------------------------\n",
      "trumpet\n",
      "\tTEST\n",
      "              precision    recall  f1-score   support\n",
      "\n",
      "       False       0.71      0.74      0.72       467\n",
      "        True       0.59      0.55      0.57       318\n",
      "\n",
      "    accuracy                           0.66       785\n",
      "   macro avg       0.65      0.64      0.65       785\n",
      "weighted avg       0.66      0.66      0.66       785\n",
      "\n",
      "ROC-AUC = 0.727\t\tAP = 0.643\n",
      "----------------------------------------------------\n",
      "violin\n",
      "\tTEST\n",
      "              precision    recall  f1-score   support\n",
      "\n",
      "       False       0.87      0.54      0.67       237\n",
      "        True       0.77      0.95      0.85       394\n",
      "\n",
      "    accuracy                           0.80       631\n",
      "   macro avg       0.82      0.75      0.76       631\n",
      "weighted avg       0.81      0.80      0.78       631\n",
      "\n",
      "ROC-AUC = 0.869\t\tAP = 0.892\n",
      "----------------------------------------------------\n",
      "voice\n",
      "\tTEST\n",
      "              precision    recall  f1-score   support\n",
      "\n",
      "       False       0.72      0.97      0.83       150\n",
      "        True       0.98      0.75      0.85       224\n",
      "\n",
      "    accuracy                           0.84       374\n",
      "   macro avg       0.85      0.86      0.84       374\n",
      "weighted avg       0.87      0.84      0.84       374\n",
      "\n",
      "ROC-AUC = 0.970\t\tAP = 0.980\n"
     ]
    }
   ],
   "source": [
    "train_set_name, test_set_name = 'irmas', 'openmic' \n",
    "\n",
    "# iterate over all istrument classes, and fit a model for each one\n",
    "for instrument in class_align:\n",
    "    \n",
    "    # Map the instrument name to its column number\n",
    "    inst_num = class_map[instrument]\n",
    "    \n",
    "    # First, sub-sample the data: we need to select down to the data for which we have annotations \n",
    "    # This is what the mask arrays are for\n",
    "    test_inst = Y_mask_test[:, inst_num]\n",
    "\n",
    "    # Repeat the above slicing and dicing but for the test set\n",
    "    X_test_inst = X_test[test_inst]\n",
    "    Y_true_test_inst = Y_true_test[test_inst, inst_num] >= 0.5\n",
    "\n",
    "    # evaluate the classifier \n",
    "    Y_pred_test_inst =  globals()['models_'+train_set_name][instrument].predict(X_test_inst)\n",
    "    Y_pred_test_scores =  globals()['models_'+train_set_name][instrument].predict_proba(X_test_inst)[:, 1]\n",
    "\n",
    "    # print result for each instrument\n",
    "    print('-' * 52); print(instrument); print('\\tTEST')\n",
    "    print(classification_report(Y_true_test_inst, Y_pred_test_inst))\n",
    "    \n",
    "    model_auc = roc_auc_score(Y_true_test_inst, Y_pred_test_scores)\n",
    "    model_ap = average_precision_score(Y_true_test_inst, Y_pred_test_scores)\n",
    "    print(f'ROC-AUC = {model_auc:.3f}\\t\\tAP = {model_ap:.3f}')\n",
    "    \n",
    "    # record the result for each instrument\n",
    "    report = pd.DataFrame(classification_report(Y_true_test_inst, Y_pred_test_inst, output_dict=True))['True']\n",
    "    report['roc_auc'] = model_auc\n",
    "    report['ap'] = model_ap\n",
    "    report_accuracy = pd.DataFrame(classification_report(Y_true_test_inst, Y_pred_test_inst, output_dict=True))['accuracy'][-2]\n",
    "    result_inst = [instrument, train_set_name, test_set_name, report['precision'], report['recall'],\n",
    "                   report['f1-score'], report['support'], report_accuracy, model_auc, model_ap, embedding + debias_method]   \n",
    "    result_all = result_all.append(pd.DataFrame(np.expand_dims(np.array(result_inst), axis=0), \n",
    "                                                columns=result_all.columns), ignore_index=True)"
   ]
  },
  {
   "cell_type": "markdown",
   "metadata": {},
   "source": [
    "# openmic->irmas"
   ]
  },
  {
   "cell_type": "code",
   "execution_count": 24,
   "metadata": {},
   "outputs": [
    {
     "name": "stdout",
     "output_type": "stream",
     "text": [
      "(167625, 512) (167625,)\n",
      "(6705,)\n"
     ]
    },
    {
     "data": {
      "application/vnd.jupyter.widget-view+json": {
       "model_id": "437521d5ffaa4b269947fc4865ff9e66",
       "version_major": 2,
       "version_minor": 0
      },
      "text/plain": [
       "  0%|          | 0/6705 [00:00<?, ?it/s]"
      ]
     },
     "metadata": {},
     "output_type": "display_data"
    },
    {
     "name": "stdout",
     "output_type": "stream",
     "text": [
      "(6705, 512) (6705,)\n"
     ]
    }
   ],
   "source": [
    "# irmas: vggish embedding\n",
    "feature = np.array(embeddings['irmas'][embedding]['features'])\n",
    "keys_ori = np.array(embeddings['irmas'][embedding]['keys'])\n",
    "print(feature.shape, keys_ori.shape)\n",
    "\n",
    "key_clip = np.unique(keys_ori)\n",
    "print(key_clip.shape)\n",
    "\n",
    "feature_clip = []\n",
    "\n",
    "for key in tqdm(key_clip):\n",
    "    feature_clip.append(np.mean(feature[keys_ori[:]==key,:],axis=0))\n",
    "    \n",
    "feature_clip = np.array(feature_clip)\n",
    "key_clip = np.array([str(k, encoding='utf-8') for k in key_clip])\n",
    "print(feature_clip.shape, key_clip.shape)"
   ]
  },
  {
   "cell_type": "code",
   "execution_count": 25,
   "metadata": {},
   "outputs": [],
   "source": [
    "key_train = set(pd.read_csv('irmas_train.csv', header=None, squeeze=True))\n",
    "key_test = set(pd.read_csv('irmas_test.csv', header=None, squeeze=True))\n",
    "\n",
    "idx_train, idx_test = [], []\n",
    "\n",
    "for k in range(len(key_clip)):\n",
    "    if str(key_clip[k]) in key_train:\n",
    "        idx_train.append(k)\n",
    "    elif str(key_clip[k]) in key_test:\n",
    "        idx_test.append(k)\n",
    "    else:\n",
    "        raise RuntimeError('Unknown sample key={}! Abort!'.format(key_clip[k]))\n",
    "        \n",
    "idx_train = np.asarray(idx_train)\n",
    "idx_test = np.asarray(idx_test)"
   ]
  },
  {
   "cell_type": "code",
   "execution_count": 26,
   "metadata": {},
   "outputs": [
    {
     "data": {
      "text/plain": [
       "array(['cello', 'clarinet', 'flute', 'guitar', 'organ', 'piano',\n",
       "       'saxophone', 'trumpet', 'violin', 'voice'], dtype='<U9')"
      ]
     },
     "execution_count": 26,
     "metadata": {},
     "output_type": "execute_result"
    }
   ],
   "source": [
    "keys = np.array(key_clip)\n",
    "keys = [key[key.index('[')+1:key.index(']')] for key in keys]\n",
    "\n",
    "for key in class_align:\n",
    "    keys = [key if x in class_align[key] else x for x in keys]\n",
    "    \n",
    "keys = np.array(keys)\n",
    "np.unique(keys)"
   ]
  },
  {
   "cell_type": "code",
   "execution_count": 27,
   "metadata": {},
   "outputs": [
    {
     "name": "stdout",
     "output_type": "stream",
     "text": [
      "(5039, 512)\n",
      "(1666, 512)\n"
     ]
    }
   ],
   "source": [
    "X_train = feature_clip[idx_train,:]\n",
    "X_test = feature_clip[idx_test]\n",
    "\n",
    "Y_true_train = keys[idx_train]\n",
    "Y_true_test = keys[idx_test]\n",
    "\n",
    "print(X_train.shape)\n",
    "print(X_test.shape)"
   ]
  },
  {
   "cell_type": "code",
   "execution_count": 28,
   "metadata": {},
   "outputs": [],
   "source": [
    "# standardize embedding\n",
    "scaler = StandardScaler()\n",
    "X_train = scaler.fit_transform(X_train)\n",
    "X_test = scaler.transform(X_test)"
   ]
  },
  {
   "cell_type": "code",
   "execution_count": 29,
   "metadata": {},
   "outputs": [
    {
     "name": "stdout",
     "output_type": "stream",
     "text": [
      "----------------------------------------------------\n",
      "cello\n",
      "\tTEST\n",
      "              precision    recall  f1-score   support\n",
      "\n",
      "       False       0.98      0.63      0.77      1572\n",
      "        True       0.12      0.81      0.20        94\n",
      "\n",
      "    accuracy                           0.64      1666\n",
      "   macro avg       0.55      0.72      0.48      1666\n",
      "weighted avg       0.93      0.64      0.73      1666\n",
      "\n",
      "ROC-AUC = 0.796\t\tAP = 0.235\n",
      "----------------------------------------------------\n",
      "clarinet\n",
      "\tTEST\n",
      "              precision    recall  f1-score   support\n",
      "\n",
      "       False       0.98      0.69      0.81      1539\n",
      "        True       0.18      0.82      0.29       127\n",
      "\n",
      "    accuracy                           0.70      1666\n",
      "   macro avg       0.58      0.75      0.55      1666\n",
      "weighted avg       0.92      0.70      0.77      1666\n",
      "\n",
      "ROC-AUC = 0.814\t\tAP = 0.242\n",
      "----------------------------------------------------\n",
      "flute\n",
      "\tTEST\n",
      "              precision    recall  f1-score   support\n",
      "\n",
      "       False       0.97      0.61      0.75      1545\n",
      "        True       0.14      0.78      0.23       121\n",
      "\n",
      "    accuracy                           0.62      1666\n",
      "   macro avg       0.55      0.69      0.49      1666\n",
      "weighted avg       0.91      0.62      0.71      1666\n",
      "\n",
      "ROC-AUC = 0.746\t\tAP = 0.174\n",
      "----------------------------------------------------\n",
      "guitar\n",
      "\tTEST\n",
      "              precision    recall  f1-score   support\n",
      "\n",
      "       False       0.95      0.71      0.81      1320\n",
      "        True       0.43      0.85      0.57       346\n",
      "\n",
      "    accuracy                           0.74      1666\n",
      "   macro avg       0.69      0.78      0.69      1666\n",
      "weighted avg       0.84      0.74      0.76      1666\n",
      "\n",
      "ROC-AUC = 0.877\t\tAP = 0.696\n",
      "----------------------------------------------------\n",
      "organ\n",
      "\tTEST\n",
      "              precision    recall  f1-score   support\n",
      "\n",
      "       False       0.83      0.49      0.62      1492\n",
      "        True       0.04      0.17      0.06       174\n",
      "\n",
      "    accuracy                           0.46      1666\n",
      "   macro avg       0.44      0.33      0.34      1666\n",
      "weighted avg       0.75      0.46      0.56      1666\n",
      "\n",
      "ROC-AUC = 0.235\t\tAP = 0.064\n",
      "----------------------------------------------------\n",
      "piano\n",
      "\tTEST\n",
      "              precision    recall  f1-score   support\n",
      "\n",
      "       False       0.97      0.60      0.74      1496\n",
      "        True       0.19      0.84      0.31       170\n",
      "\n",
      "    accuracy                           0.62      1666\n",
      "   macro avg       0.58      0.72      0.53      1666\n",
      "weighted avg       0.89      0.62      0.70      1666\n",
      "\n",
      "ROC-AUC = 0.842\t\tAP = 0.584\n",
      "----------------------------------------------------\n",
      "saxophone\n",
      "\tTEST\n",
      "              precision    recall  f1-score   support\n",
      "\n",
      "       False       0.96      0.65      0.78      1516\n",
      "        True       0.18      0.75      0.29       150\n",
      "\n",
      "    accuracy                           0.66      1666\n",
      "   macro avg       0.57      0.70      0.53      1666\n",
      "weighted avg       0.89      0.66      0.74      1666\n",
      "\n",
      "ROC-AUC = 0.771\t\tAP = 0.273\n",
      "----------------------------------------------------\n",
      "trumpet\n",
      "\tTEST\n",
      "              precision    recall  f1-score   support\n",
      "\n",
      "       False       0.98      0.78      0.87      1516\n",
      "        True       0.27      0.81      0.41       150\n",
      "\n",
      "    accuracy                           0.79      1666\n",
      "   macro avg       0.62      0.80      0.64      1666\n",
      "weighted avg       0.91      0.79      0.83      1666\n",
      "\n",
      "ROC-AUC = 0.870\t\tAP = 0.508\n",
      "----------------------------------------------------\n",
      "violin\n",
      "\tTEST\n",
      "              precision    recall  f1-score   support\n",
      "\n",
      "       False       0.97      0.66      0.79      1523\n",
      "        True       0.18      0.76      0.28       143\n",
      "\n",
      "    accuracy                           0.67      1666\n",
      "   macro avg       0.57      0.71      0.54      1666\n",
      "weighted avg       0.90      0.67      0.74      1666\n",
      "\n",
      "ROC-AUC = 0.800\t\tAP = 0.329\n",
      "----------------------------------------------------\n",
      "voice\n",
      "\tTEST\n",
      "              precision    recall  f1-score   support\n",
      "\n",
      "       False       1.00      0.77      0.87      1475\n",
      "        True       0.35      0.98      0.52       191\n",
      "\n",
      "    accuracy                           0.79      1666\n",
      "   macro avg       0.68      0.88      0.69      1666\n",
      "weighted avg       0.92      0.79      0.83      1666\n",
      "\n",
      "ROC-AUC = 0.986\t\tAP = 0.941\n"
     ]
    }
   ],
   "source": [
    "train_set_name, test_set_name = 'openmic', 'irmas' \n",
    "\n",
    "# iterate over all istrument classes, and fit a model for each one\n",
    "for instrument in class_align:\n",
    "    \n",
    "    # get the training and testing labels for each instrument\n",
    "    Y_true_test_inst = Y_true_test==instrument\n",
    "\n",
    "    # evaluate the classifier\n",
    "    Y_pred_test_inst =  globals()['models_'+train_set_name][instrument].predict(X_test)\n",
    "    Y_pred_test_scores =  globals()['models_'+train_set_name][instrument].predict_proba(X_test)[:, 1]\n",
    "    \n",
    "    # print result for each instrument\n",
    "    print('-' * 52); print(instrument); print('\\tTEST')\n",
    "    print(classification_report(Y_true_test_inst, Y_pred_test_inst))\n",
    "    \n",
    "    model_auc = roc_auc_score(Y_true_test_inst, Y_pred_test_scores)\n",
    "    model_ap = average_precision_score(Y_true_test_inst, Y_pred_test_scores)\n",
    "    print(f'ROC-AUC = {model_auc:.3f}\\t\\tAP = {model_ap:.3f}')\n",
    "    \n",
    "    # record the result for each instrument\n",
    "    report = pd.DataFrame(classification_report(Y_true_test_inst, Y_pred_test_inst, output_dict=True))['True']\n",
    "    report['roc_auc'] = model_auc\n",
    "    report['ap'] = model_ap\n",
    "    report_accuracy = pd.DataFrame(classification_report(Y_true_test_inst, Y_pred_test_inst, output_dict=True))['accuracy'][-2]\n",
    "    result_inst = [instrument, train_set_name, test_set_name, report['precision'], report['recall'],\n",
    "                   report['f1-score'], report['support'], report_accuracy, model_auc, model_ap, embedding + debias_method]   \n",
    "    result_all = result_all.append(pd.DataFrame(np.expand_dims(np.array(result_inst), axis=0), \n",
    "                                                columns=result_all.columns), ignore_index=True)"
   ]
  },
  {
   "cell_type": "markdown",
   "metadata": {},
   "source": [
    "# save result"
   ]
  },
  {
   "cell_type": "code",
   "execution_count": 30,
   "metadata": {},
   "outputs": [],
   "source": [
    "# save all result into a csv file\n",
    "result_all.to_csv('results/result_' + embedding + debias_method + '.csv', index=False)"
   ]
  },
  {
   "cell_type": "code",
   "execution_count": 31,
   "metadata": {},
   "outputs": [
    {
     "name": "stdout",
     "output_type": "stream",
     "text": [
      "0.1 1e-05\n"
     ]
    }
   ],
   "source": [
    "C_vggish = []\n",
    "\n",
    "for inst in class_align:\n",
    "    C_vggish.append(models_irmas[inst].best_estimator_.C)\n",
    "    C_vggish.append(models_openmic[inst].best_estimator_.C)\n",
    "    \n",
    "print(max(C_vggish), min(C_vggish))"
   ]
  },
  {
   "cell_type": "code",
   "execution_count": null,
   "metadata": {},
   "outputs": [],
   "source": []
  },
  {
   "cell_type": "code",
   "execution_count": null,
   "metadata": {},
   "outputs": [],
   "source": []
  }
 ],
 "metadata": {
  "kernelspec": {
   "display_name": "Python 3 (ipykernel)",
   "language": "python",
   "name": "python3"
  },
  "language_info": {
   "codemirror_mode": {
    "name": "ipython",
    "version": 3
   },
   "file_extension": ".py",
   "mimetype": "text/x-python",
   "name": "python",
   "nbconvert_exporter": "python",
   "pygments_lexer": "ipython3",
   "version": "3.9.7"
  },
  "toc": {
   "base_numbering": 1,
   "nav_menu": {},
   "number_sections": true,
   "sideBar": true,
   "skip_h1_title": false,
   "title_cell": "Table of Contents",
   "title_sidebar": "Contents",
   "toc_cell": false,
   "toc_position": {
    "height": "621.778px",
    "left": "21px",
    "top": "111.139px",
    "width": "165px"
   },
   "toc_section_display": true,
   "toc_window_display": true
  }
 },
 "nbformat": 4,
 "nbformat_minor": 4
}
