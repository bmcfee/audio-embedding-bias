{
 "cells": [
  {
   "attachments": {},
   "cell_type": "markdown",
   "metadata": {},
   "source": [
    "# Nonlinear bias correction\n",
    "\n",
    "Apply nonlinear bias correction methods (below) to each of the pre-trained embeddings (VGGish, OpenL3, YAMNet):\n",
<<<<<<< Updated upstream
    "- `K`: explit nonlinear transformation (kernelization)\n",
    "- `KLDA`: explit nonlinear transformation + linear discriminant analysis (LDA)\n",
    "- `mKLDA`: explit nonlinear transformation + linear discriminant analysis for multiple bias correction "
=======
    "- `K`: transformed embeddings using explicit kernel approximation \n",
    "- `KLDA`: transformed embeddings using explicit kernel approximation + single bias (dataset bias) correction with linear discriminant analysis (LDA)\n",
    "- `mKLDA`: transformed embeddings using explicit kernel approximation + multiple bias (per-genre dataset bias) correction with LDA"
>>>>>>> Stashed changes
   ]
  },
  {
   "cell_type": "code",
   "execution_count": 1,
   "metadata": {},
   "outputs": [],
   "source": [
    "%matplotlib inline\n",
    "\n",
    "import sys \n",
    "# add parental directory to Python path\n",
    "sys.path.insert(0, '..')\n",
    "\n",
    "import matplotlib.pyplot as plt\n",
    "import seaborn as sns\n",
    "import json\n",
    "import pandas as pd\n",
    "\n",
    "import warnings\n",
    "warnings.filterwarnings('ignore')\n",
    "\n",
    "from deem import deem"
   ]
  },
  {
   "cell_type": "code",
   "execution_count": 2,
   "metadata": {},
   "outputs": [],
   "source": [
<<<<<<< Updated upstream
    "param_grid = {'LR_param': {'C':[10**k for k in range(-8, 4, 1)]}, 'scoring': 'roc_auc', 'cv': 3, 'random_state': 42}\n",
    "\n",
    "with open(\"../data/openmic-2018/openmic_classmap_10.json\", \"r\") as f: # only consider 10 classes of Openmic dataset\n",
    "    openmic_class_map = json.load(f)\n",
    "    \n",
    "# use a dict to align the classes between Openmic dataset (key) and Irmas dataset (val)\n",
=======
    "param_grid = {'LR_param': {'C':[10**k for k in range(-8, 4, 1)]}, \n",
    "              'scoring': 'roc_auc', 'cv': 3, 'random_state': 42}\n",
    "\n",
    "# only consider 10 mutual classes between Openmic and IRMAS dataset\n",
    "with open(\"../data/openmic-2018/openmic_classmap_10.json\", \"r\") as f: \n",
    "    openmic_class_map = json.load(f)\n",
    "    \n",
>>>>>>> Stashed changes
    "with open(\"../data/class_align.json\", \"r\") as f: \n",
    "    class_align = json.load(f)\n",
    "\n",
    "with open(\"../data/genre_map.json\", \"r\") as f: \n",
    "    genre_map = json.load(f)\n",
    "\n",
    "with open(\"../data/instrument_map.json\", \"r\") as f: \n",
    "    instrument_map = json.load(f)"
   ]
  },
  {
   "attachments": {},
   "cell_type": "markdown",
   "metadata": {},
   "source": [
    "## VGGish"
   ]
  },
  {
   "cell_type": "code",
   "execution_count": 3,
   "metadata": {},
   "outputs": [
    {
     "name": "stdout",
     "output_type": "stream",
     "text": [
      "Load IRMAS data:\n"
     ]
    },
    {
     "name": "stderr",
     "output_type": "stream",
     "text": [
      "  0%|          | 0/6705 [00:00<?, ?it/s]"
     ]
    },
    {
     "name": "stderr",
     "output_type": "stream",
     "text": [
      "100%|██████████| 6705/6705 [00:01<00:00, 4859.05it/s]\n"
     ]
    },
    {
     "name": "stdout",
     "output_type": "stream",
     "text": [
      "# Train: 4997,  # Test: 1666\n",
      "Load OpenMIC data:\n"
     ]
    },
    {
     "name": "stderr",
     "output_type": "stream",
     "text": [
      "100%|██████████| 20000/20000 [00:44<00:00, 449.74it/s]\n",
      "100%|██████████| 20000/20000 [00:17<00:00, 1159.32it/s]\n",
      "100%|██████████| 14915/14915 [00:00<00:00, 33296.14it/s]\n",
      "100%|██████████| 5085/5085 [00:00<00:00, 30228.52it/s]\n"
     ]
    },
    {
     "name": "stdout",
     "output_type": "stream",
     "text": [
      "# Train: 6838,  # Test: 2491\n",
      "Train on irmas, test on irmas\n"
     ]
    },
    {
     "name": "stderr",
     "output_type": "stream",
     "text": [
      "100%|██████████| 10/10 [00:37<00:00,  3.72s/it]\n"
     ]
    },
    {
     "name": "stdout",
     "output_type": "stream",
     "text": [
      "Train on irmas, test on openmic\n"
     ]
    },
    {
     "name": "stderr",
     "output_type": "stream",
     "text": [
      "100%|██████████| 10/10 [00:38<00:00,  3.86s/it]\n"
     ]
    },
    {
     "name": "stdout",
     "output_type": "stream",
     "text": [
      "Train on openmic, test on openmic\n"
     ]
    },
    {
     "name": "stderr",
     "output_type": "stream",
     "text": [
      "100%|██████████| 10/10 [00:39<00:00,  3.96s/it]\n"
     ]
    },
    {
     "name": "stdout",
     "output_type": "stream",
     "text": [
      "Train on openmic, test on irmas\n"
     ]
    },
    {
     "name": "stderr",
     "output_type": "stream",
     "text": [
      "100%|██████████| 10/10 [00:42<00:00,  4.22s/it]\n"
     ]
    }
   ],
   "source": [
    "embedding = 'vggish'\n",
    "debias_method = '-k'\n",
    "\n",
    "deb = deem(embedding = embedding, debias_method = debias_method, feature_dir='../embeddings.h5', \n",
    "           instrument_map=instrument_map, genre_map=genre_map, param_grid=param_grid, class_align=class_align)\n",
    "\n",
    "irmas_feature = deb.load_irmas()\n",
    "openmic_feature = deb.load_openmic()\n",
    "\n",
    "deb.instrument_classfication(train_set='irmas', test_set='irmas', irmas_feature=irmas_feature, openmic_feature=openmic_feature)\n",
    "deb.instrument_classfication(train_set='irmas', test_set='openmic', irmas_feature=irmas_feature, openmic_feature=openmic_feature)\n",
    "deb.instrument_classfication(train_set='openmic', test_set='openmic', irmas_feature=irmas_feature, openmic_feature=openmic_feature)\n",
    "deb.instrument_classfication(train_set='openmic', test_set='irmas', irmas_feature=irmas_feature, openmic_feature=openmic_feature)"
   ]
  },
  {
   "cell_type": "code",
   "execution_count": 4,
   "metadata": {},
   "outputs": [
    {
     "name": "stdout",
     "output_type": "stream",
     "text": [
      "Train on irmas, test on irmas\n"
     ]
    },
    {
     "name": "stderr",
     "output_type": "stream",
     "text": [
      "  0%|          | 0/10 [00:00<?, ?it/s]"
     ]
    },
    {
     "name": "stderr",
     "output_type": "stream",
     "text": [
      "100%|██████████| 10/10 [00:52<00:00,  5.23s/it]\n"
     ]
    },
    {
     "name": "stdout",
     "output_type": "stream",
     "text": [
      "Train on irmas, test on openmic\n"
     ]
    },
    {
     "name": "stderr",
     "output_type": "stream",
     "text": [
      "100%|██████████| 10/10 [00:52<00:00,  5.28s/it]\n"
     ]
    },
    {
     "name": "stdout",
     "output_type": "stream",
     "text": [
      "Train on openmic, test on openmic\n"
     ]
    },
    {
     "name": "stderr",
     "output_type": "stream",
     "text": [
      "100%|██████████| 10/10 [00:53<00:00,  5.37s/it]\n"
     ]
    },
    {
     "name": "stdout",
     "output_type": "stream",
     "text": [
      "Train on openmic, test on irmas\n"
     ]
    },
    {
     "name": "stderr",
     "output_type": "stream",
     "text": [
      "100%|██████████| 10/10 [00:55<00:00,  5.52s/it]\n"
     ]
    }
   ],
   "source": [
    "debias_method = '-klda'\n",
    "\n",
    "deb.debias_method = debias_method\n",
    "\n",
    "deb.instrument_classfication(train_set='irmas', test_set='irmas', irmas_feature=irmas_feature, openmic_feature=openmic_feature)\n",
    "deb.instrument_classfication(train_set='irmas', test_set='openmic', irmas_feature=irmas_feature, openmic_feature=openmic_feature)\n",
    "deb.instrument_classfication(train_set='openmic', test_set='openmic', irmas_feature=irmas_feature, openmic_feature=openmic_feature)\n",
    "deb.instrument_classfication(train_set='openmic', test_set='irmas', irmas_feature=irmas_feature, openmic_feature=openmic_feature)"
   ]
  },
  {
   "cell_type": "code",
   "execution_count": 5,
   "metadata": {},
   "outputs": [
    {
     "name": "stdout",
     "output_type": "stream",
     "text": [
      "Train on irmas, test on irmas\n"
     ]
    },
    {
     "name": "stderr",
     "output_type": "stream",
     "text": [
      "  0%|          | 0/10 [00:00<?, ?it/s]"
     ]
    },
    {
     "name": "stderr",
     "output_type": "stream",
     "text": [
      "100%|██████████| 10/10 [01:10<00:00,  7.10s/it]\n"
     ]
    },
    {
     "name": "stdout",
     "output_type": "stream",
     "text": [
      "Train on irmas, test on openmic\n"
     ]
    },
    {
     "name": "stderr",
     "output_type": "stream",
     "text": [
      "100%|██████████| 10/10 [01:07<00:00,  6.78s/it]\n"
     ]
    },
    {
     "name": "stdout",
     "output_type": "stream",
     "text": [
      "Train on openmic, test on openmic\n"
     ]
    },
    {
     "name": "stderr",
     "output_type": "stream",
     "text": [
      "100%|██████████| 10/10 [01:08<00:00,  6.86s/it]\n"
     ]
    },
    {
     "name": "stdout",
     "output_type": "stream",
     "text": [
      "Train on openmic, test on irmas\n"
     ]
    },
    {
     "name": "stderr",
     "output_type": "stream",
     "text": [
      "100%|██████████| 10/10 [01:10<00:00,  7.07s/it]\n"
     ]
    }
   ],
   "source": [
    "debias_method = '-mklda'\n",
    "\n",
    "deb.debias_method = debias_method\n",
    "\n",
    "deb.instrument_classfication(train_set='irmas', test_set='irmas', irmas_feature=irmas_feature, openmic_feature=openmic_feature)\n",
    "deb.instrument_classfication(train_set='irmas', test_set='openmic', irmas_feature=irmas_feature, openmic_feature=openmic_feature)\n",
    "deb.instrument_classfication(train_set='openmic', test_set='openmic', irmas_feature=irmas_feature, openmic_feature=openmic_feature)\n",
    "deb.instrument_classfication(train_set='openmic', test_set='irmas', irmas_feature=irmas_feature, openmic_feature=openmic_feature)\n",
    "\n",
    "deb.result_all.to_csv('../results/result_' + embedding + debias_method + '.csv', index=False)\n",
    "result_all = deb.result_all"
   ]
  },
  {
   "cell_type": "code",
   "execution_count": 6,
   "metadata": {},
   "outputs": [
    {
     "data": {
      "image/png": "iVBORw0KGgoAAAANSUhEUgAABEIAAAMQCAYAAAAjI8ALAAAAOXRFWHRTb2Z0d2FyZQBNYXRwbG90bGliIHZlcnNpb24zLjcuMSwgaHR0cHM6Ly9tYXRwbG90bGliLm9yZy/bCgiHAAAACXBIWXMAAA9hAAAPYQGoP6dpAAD5W0lEQVR4nOzdd1gUZ/s24GuRDtJFFEWxgCjFgiJYQLG3qL8YK5ZXBQU0CTY0WKOxgwoaMTZsiSWS2GM0MTGxJEY0KMY3tqhgQarKStv5/vBjXzeAwlKGYa/zOHLEnX125hrY3Xu595kZmSAIAoiIiIiIiIiINICW2AGIiIiIiIiIiCoLGyFEREREREREpDHYCCEiIiIiIiIijcFGCBERERERERFpDDZCiIiIiIiIiEhjsBFCRERERERERBqDjRAiIiIiIiIi0hhshBARERERERGRxmAjhIiIiIiIiIg0BhshJAmXL19GZGQkMjMzK2T9oaGh6Nq1a4WsuzzJ5XJERkbi4sWLomzf0dERkZGRomy7IoSGhsLPz++d427duoXIyEg8fPiwQvMcPnwY27dvr9BtVPUcUnktUtXHuvEa60b5Yt2o2jmqs65duyI0NFTsGETVBhshJAlxcXGIioqqsA+0gYGBiIqKqpB1lye5XI6oqCj89ttvomx/7969GDJkiCjbFtOtW7cQFRWFxMTECt3OkSNHsGPHjgrdRlXPIZXXIlV9rBuvsW6Ig3WDyltUVBQCAwPFjkFUbWiLHYCoIrx69Qr6+volHm9nZ1eBaaqPli1bvnPMq1evoKenB5lMVvGBqNopyWtREARkZ2eX6jVO9C6sGxWDdYOofDRv3lzsCETVCmeEUJUXGRmJFStWAAB8fX3h6OgIR0dH5TTfrl27IiAgACdPnsTAgQPh4uKi/JZu9+7dGDlyJDw9PdGyZUv0798fX3zxBXJzc1W2UdQUZ0dHRyxatAjffPMNevfuDTc3NwwYMAA//vhjqfdhz549GDBgAFq1aoVWrVqhV69eCA8PVxmTnJyMefPmoXPnznB2dkbXrl0RFRWFvLw8AMDDhw/h6ekJ4PW3AgU/h8qcJvnvKc4HDx6Eo6MjfvnlF8yePRvt27eHm5sbcnJy4Ofnh379+iEuLg7Dhg2Dq6srunbtiq+//hoAcObMGQwaNAhubm7o378/fv75Z5Vt/fPPP5g9ezZ69OgBNzc3dOrUCZMmTcLNmzdVxikUCmzYsAE9e/aEq6sr3N3d0b9/f8TExJTLPh88eBAffvghAGD06NHKn/vBgweVY86dO4cxY8agdevWcHNzw7Bhw3D+/HmV9aSmpmLu3Lnw9vaGs7Mz2rdvj2HDhuHcuXMAAD8/P5w5cwaJiYnKbTg6OpY4Z0JCAgICAuDp6QlnZ2d07NgR/v7+ePz4sXKMIAjYvXs33nvvPbi6uqJt27aYOnUqHjx4oBxT1hxl9bbX4pdffonevXvDxcUFsbGxyuff+fPnERYWBg8PD7Ru3RozZ85EVlYWkpOT8eGHH8Ld3R0dO3bE8uXLC732o6KiMGTIELRr1w6tW7fGoEGDsH//fgiCoDLu/Pnz8PPzg4eHB1xdXeHj44MpU6ZALpdX+M+ESo91g3WDdePdqkvdAIADBw5gwIABcHFxQbt27RAUFITbt2+rjAkNDUWrVq3w999/Y8yYMWjZsiXat2+PRYsWFXovL8l+A1A+Z//880+MGDECbm5u8PX1xaZNm6BQKJTjLl68CEdHRxw+fBgrV65Ex44d0apVK0yaNAnPnj3DixcvMHfuXHh4eMDDwwOzZ8/Gy5cvVbZV1KExmZmZWLZsGXx9feHs7AxPT09MnDix0L4TUWGcEUJV3pAhQ5CRkYGdO3ciKioKtWrVAgA0adJEOeb69eu4ffs2Jk+ejHr16sHAwAAAcP/+ffTr1w/16tWDjo4O/vrrL2zcuBF37tzB0qVL37ntM2fOID4+HlOnToWhoSE2b96M4OBgnDhxAvXr1y9R/qNHj2LhwoXw8/PDrFmzoKWlhX/++Qe3bt1SjklOTsaQIUOgpaWFoKAg2NnZIS4uDp9//jkSExOxdOlSWFtbY/PmzZgwYQLef/995VRjCwuLt26/4APxu9SoUUPtb+PmzJkDHx8frFixAnK5HNra2sr9mj17NiZMmAAbGxvs2rULc+bMwaNHj/Ddd99h0qRJMDY2xoYNGxAUFIRTp06hdu3aAICnT5/CzMwM06ZNg4WFBTIyMhAbG4sPPvgAsbGxaNSoEQBg8+bNiIqKwuTJk+Hu7o68vDzcuXMHz58/V2tf/s3HxwchISEIDw/HvHnz0KJFCwD/+zb422+/xaxZs+Dr64vly5dDW1sbe/fuxfjx47FlyxblHyEzZsxAQkICPv74YzRs2BCZmZlISEhAeno6AGD+/PmYO3cuHjx4UOrp9llZWRg3bhzq1auHefPmwcrKCsnJybh48aLKB6l58+YhNjYWfn5+mD59OjIyMrB+/XoMGzYM3377LaysrNTKoVAoVD7wFUcmk6FGjRql2rcCp06dwqVLlxAUFAQrKytYWloiPj4eABAWFoYePXogPDwcCQkJiIiIQH5+Pu7evYvu3btj6NChOHfuHL744gtYW1tj3LhxyvUmJiZi6NChqFu3LgDgypUrWLx4MZ48eYLg4GAAr/+YDAgIgLu7O5YsWQITExM8efIEZ8+eRW5urvL9hqoO1g3WDdaNt6tOdSM6Ohrh4eHo168fpk2bhrS0NERFRWHo0KE4cOAAGjZsqBybm5sLf39/DB06FP7+/srXTFJSEjZu3Fiq/S6QnJyMGTNmYNy4cQgODsb333+P1atXw9raGgMHDlTJGhERAQ8PDyxduhSJiYlYvnw5QkJCoK2tDUdHR5U6ZmRkhLCwsGL3+8WLFxgxYgQSExMxYcIEuLm5ISsrC7///juSk5PRuHHjd/58iTSaQCQBmzdvFhwcHIQHDx4Uuq9Lly6Ck5OTcOfOnbeuIz8/X8jNzRViY2MFJycnIT09XXnfrFmzhC5duqiMd3BwELy8vITnz58rlyUnJwvNmjUToqOjS5x90aJFgru7+1vHzJ07V2jZsqWQmJiosnzLli2Cg4OD8PfffwuCIAgpKSmCg4ODsG7duhJv38HBoUT/ff311yVa15vb/vrrrwUHBwdh5syZhcaOGjVKcHBwEOLj45XL0tLSBCcnJ8HV1VV4/PixcvmNGzcEBwcHYceOHcVuOy8vT8jJyRF69OghfPbZZ8rlAQEBwnvvvffO7EWZNWuWMGrUqHeOO378uODg4CBcuHBBZXlWVpbQrl07ISAgQGV5fn6+MGDAAOH9999XLmvZsqWwZMmSt27H39+/0POwJOLj4wUHBwfh+++/L3ZMXFyc4ODgIGzdulVl+aNHjwRXV1dhxYoVaueYNWtWiZ5jJflZF/dabNOmjcprVhD+9/z79NNPVZYHBgYKDg4OwrZt21SWv/fee8KgQYOK3XbBe0RUVJTQrl07QaFQCIIgCCdOnBAcHByEGzduvDM/VR2sG6wbrBvFqy51IyMjQ3B1dRUmTpyosjwpKUlwdnYWQkJCCm0zJiZGZeznn38uODg4CJcuXSr1fhc8Z69evaoytk+fPsJ//vMf5e0LFy4IDg4OhX7vS5YsKbaOtWvXTmVZly5dhFmzZilvR0VFCQ4ODsKvv/5a9A+HiN6KM0KoWnB0dIS9vX2h5QkJCVi3bh3i4uKU36AUuHfvHtzc3N66Xg8PDxgbGytvF3wTXZqTn7m4uGDXrl0ICQlBnz590Lp160Lfxp05cwYeHh6wtrZW+Sauc+fOWL58OX777TeVbzJL48CBAyUaV69ePbXWDwA9evQocnmtWrXg7OysvG1mZgYLCwvUq1dP+Q0eAOW3dElJScpleXl52Lx5Mw4dOoT79++rTEt/c8qni4sLzpw5gwULFsDX1xetWrVS+Z1VpILn1aBBgwp9g9qpUyds3rwZWVlZMDQ0hKurK2JjY2FmZgYvLy+0aNECOjo65ZKjQYMGMDU1xapVq5CcnIy2bdsWer78+OOPkMlkGDBggEpWKysrNGvWrEwnUgwODsbIkSPfOc7IyEjtbbRv3x6mpqZF3ufj46Nyu3Hjxjh16hS8vb0LLf/ll19Ulp0/fx7R0dGIj4/HixcvVO5LSUmBlZUVnJycoKOjg7lz52LEiBFwd3cv8Tf7VHWxbhSPdaPisG68Vl51Iy4uDq9evcKgQYNUltepUwft27fHhQsXCj2mf//+Krf79euHiIgIXLx4EW3atCn1fteqVQuurq4qyxwdHXHjxo1C2+7SpYvK7YJZG8XVsZcvXxb7Mzh79iwaNmwILy+vIu8nordjI4SqhYJpz29KSkrCyJEjYW9vjzlz5sDW1hZ6enr4888/sWjRIrx69eqd6zUzMyu0TFdXF9nZ2SXONnDgQOTn52P//v2YOnUqFAoFXFxc8NFHH6FDhw4AXv/B9eOPPyqnz/5bWlpaibf3b05OTiUap+4hC0DRP3+g+J/fv/+g1dXVBQCVn+uyZcuwe/duTJw4EW3btoWpqSlkMhnCwsJUxgUEBMDQ0BCHDh3CV199hRo1asDd3R3Tp0+Hi4uL2vtUEs+ePQMATJ06tdgxGRkZMDQ0REREBD7//HMcOHAAa9euhaGhIbp3744ZM2YU+/MrqZo1a2Lnzp3YuHEjIiIikJGRgVq1auGDDz7A5MmToaOjg5SUFAiCUOwHprL8YV+3bl3Y2Ni8c1xZToT4tp/Rv59PBX8oFLU8JydHefvPP//E+PHj0a5dO3z66aewsbGBjo4OTp06hY0bNyrfI+zs7LB9+3Zs3rwZixYtQlZWFurXrw8/Pz+MGTNG7X0icbFuFI91o+KwbrxWXnWjoFlZ1M/D2tpaeT6VAtra2jA3N1dZVvDYgnWVdr9L85ovTb0CXj+/i2uEpKamok6dOkXeR0TvxkYIVQtFFcpTp04hKysLkZGRsLW1VS7/66+/KjMaAOD//u//8H//93/KYzcjIyMREBCA7777Dra2tjA3N4ejoyM++uijIh9vbW2t9raL+5D8b0uXLsXgwYPV2kZFnOn/0KFDGDhwIEJCQlSWp6WlwcTERHlbW1sb48aNw7hx45CZmYlz584hIiICEyZMwJkzZyr0/A0FH6bmzp1b7LfElpaWAF4fk//JJ5/gk08+QVJSEn744QesXr0aKSkp2LJlS5mzODo6IiIiAoIg4ObNmzh48CDWr18PfX19+Pv7w9zcHDKZDLt371b+AfGmopaV1Jw5cxAbG/vOce3atcPOnTvV2kZFPMeOHj0KbW1tREdHQ09PT7n81KlThca6u7vD3d0d+fn5uHbtGnbu3InPPvsMVlZW6Nu3b7lno4rHulE81g3WDanUjYImRHJycqH7nj59WqjpkZeXh7S0NJXlBY8tWFdF7nd5srCwUDmxLRGVDhshJAlFffPzLgUfst4sWIIgYN++feUbrhQMDQ3h7e2N3NxcBAUF4datW7C1tYWPjw9++ukn2NnZFTv9H/jfvpTkW8kClTHFuSLIZLJCU4DPnDmDJ0+eoEGDBkU+xsTEBL169cKTJ0/w2WefITExUe2p4W8q7ufeunVrmJiY4NatWxg1alSJ11e3bl2MGjUK58+fx+XLl1W2U5rfbVFkMhmaNWum/JB5/fp1AK+n3W7atAlPnjxBnz593rqO0uaojENjKkLBSfi0tP53AbVXr17h0KFDxT6mRo0acHNzQ6NGjXD48GFcv36djZAqinXjNdYN1o13kXLdaNWqFfT19XHo0CH07t1bufzx48e4cOECevbsWegxhw8fxujRo5W3jxw5AuB10wUo3X6LqVOnTli3bh3Onz+vPMEuEZUcGyEkCQ4ODgCAmJgYDBo0CNra2rC3t3/rMb1eXl7Q0dFBSEgIJkyYgJycHHz55ZfIzMysrNgAXl/RQl9fH61bt0atWrWQnJyMTZs2oWbNmsopuFOnTsW5c+cwbNgw+Pn5wd7eHjk5OXj48CF+/vlnLFy4EDY2NjA2NoatrS1Onz4NT09PmJqawtzc/K0fRit6mm9F8fHxUZ7l39HREdevX8eWLVsKTaWdNGkSmjZtCmdnZ1hYWCAxMRExMTGwtbUt9oNvaTVt2hQAsG/fPhgZGUFPTw/16tWDubk5wsLCEBoaioyMDPTs2ROWlpZITU3FX3/9hdTUVCxcuBDPnz/H6NGj0a9fPzRq1AhGRkaIj4/H2bNn0b17d+V2HBwccPLkSezZswfOzs6QyWQl+v39+OOP2LNnD7p164b69etDEAScPHkSmZmZymn0bdq0wdChQzFnzhxcu3YNbdu2hYGBAZKTk/HHH3/AwcEBI0aMUCtHvXr1qtwfRCXh7e2Nbdu2Ydq0aRg6dCjS09OxZcuWQt/2ffnll7hw4QJ8fHxQp04dZGdnKy/nyWOzqy7WDdYN1o3iVZe6YWJigsDAQISHh2PmzJno27cv0tPTsX79eujp6Smv/lVAR0cH27ZtQ1ZWFlxcXJRXjencuTPc3d1Lvd9iGjNmDI4fP47AwED4+/vD1dUVr169wu+//w4fHx+0b99e7IhEVRobISQJHh4eCAgIQGxsLPbv3w+FQoEdO3bAw8Oj2Mc0btwYkZGRWLNmDaZMmQIzMzP069cPY8eOxcSJEystu7u7Ow4ePIjjx48jIyMD5ubmaNOmDZYvX648+Z21tTUOHDiADRs2YMuWLXjy5AmMjIxga2uLTp06qUzpXbJkCVasWIHJkycjJycHgwYNwrJlyyptfyrLJ598Am1tbWzatAlZWVlo3rw5IiMjsXbtWpVxHh4e+O6777B//368ePECtWrVgpeXFwIDA8vtpHL169fHnDlzsGPHDowePRr5+fnKKeHvvfce6tati82bN2P+/Pl4+fIlLCws4OTkpDx5m56eHlxdXfHtt98iMTEReXl5qFOnDiZOnIgJEyYotzN69Gj8/fffiIiIwPPnz5XTld+lQYMGMDExwebNm/H06VPo6OjA3t4ey5YtUzmB3KJFi+Dm5oa9e/fiyy+/hEKhgLW1NVq3bq1yojd1c0iNp6cnPvvsM3zxxReYNGkSateujQ8++EA5Hb2Ak5MTfv31V0RGRiI5ORmGhoZwcHDA559/jo4dO4q4B/Q2rBusG6wbxatOdSMgIAAWFhbYuXMnjh07Bn19fbRr1w4hISEql84FXjdCNm7ciMWLF+Pzzz+Hvr4+hgwZgpkzZ6qMK+l+i8nY2Bh79uxBZGQk9u3bh/Xr18PExAQuLi744IMPxI5HVOXJBEEQxA5BRCSG0NBQJCYmqn3eCiIi0iysG9IVGhqK7777DnFxcWJHIaIqQOvdQ4iIiIiIiIiIqgceGkNUBm9eX74oWlpaKidiJCqt/Px8vG3iXsEJP4lIGlg3qKKxbhARvRsbIURqevjwIXx9fd86Jjg4GFOmTKmkRFQdjR07Fr/99lux99va2uKHH36oxEREpC7WDaoMrBtFW7ZsWbU8Nw4RqYfnCCFSU05OzjtPBGZtbY3atWtXUiKqju7cuYOXL18We7+uri4cHR0rMRERqYt1gyoD6wYR0buxEUJEREREREREGoMHoRIRERERERGRxmAjREPdvHmz0q7vTkREmom1hoiIiKoiNkI0VE5ODl68eIHs7Gyxo6glOzsbf/zxhyTzSzk7IO38Us4OML+YpJwdgGi5pVxrqsPvXKr5pZwdYH4xSTk7UD3yE0kFGyEaLj8/X+wIainILcX8Us4OSDu/lLMDzC8mKWcHxM8t9vbVUV1+51LML+XsAPOLScrZgeqTn0gK2AghIiIiIiIiIo3BRogGk8lkkMlkYsdQi0wmg4GBgSTzSzk7IO38Us4OMD9Jk1RrjdSfr1LOL+XsREQkDdpiByDx6OjowMDAQOwYajEwMEDz5s3FjqEWKWcHpJ1fytkB5q9ICoUALS3+0VURpFprqvLztSSknL+is/P1TkREbIRosLTMLMxZe0zsGEREorK1NkXQ8A5ix6i2WGuoKuHrnYiIADZCNFpungL3EtPEjkFERNUYaw0RERFVNTxHCBERERERERFpDDZCiIiIiIiIiEhjsBFCRERERERERBqDjRAiIiIiIiIi0hg8WarIIiMjsXXrVsTFxQEAHj58CF9fX6xduxa9evWq0G3r62rDq2WDCt0GEVFVV8vCWOwI1RprDVUlfL0TERHARohGMzHWR/CItmLHICISnaBQQKbFSZIVgbWGqhq+3omIiI0QDZb7Ih0JMYvEjkFEJCoDyzqw7zdR7BjVFmsNVSV8vRMREcBGSJnFxcUhMjISV65cgSAIaNKkCT766CN06NABOTk5iIqKwuHDh5GcnIz69esjMDAQ/fv3L9U2FAoFNm3ahH379uHp06eoW7cuRowYgbFjx5Ypu5CfB/mT+2VaBxER0duw1hAREVFVw0ZIGfzxxx8YM2YMWrZsicWLF8PExATXrl1DUlISAODDDz/E5cuXERQUhMaNG+Onn37CjBkzYGJiAm9v7xJvZ8WKFYiJiUFAQADc3d3x66+/YunSpXj58iWCgoIqaveIiIiIiIiIqh02Qspg5cqVaNCgAWJiYlCjRg0AQMeOHQEAFy5cwA8//IAtW7Yol3Xo0AFPnjxBZGRkiRshqamp2LVrF8aNG4ePPvpIuY2XL19i8+bNGDt2LIyMjMp/54iIiIiIiIiqIZ4pSk1yuRxXr17FwIEDlU2QN/36668wMzND+/btkZeXp/zP09MTN27cQH5+fom28+effyI3Nxd9+vRRWd63b19kZWXhxo0b5bI/RERERERERJqAM0LUlJmZCYVCAWtr6yLvT0tLQ3p6Olq0aFHk/cnJybCxsXnndjIyMgAAtWrVUlluZWUFAEhPTy9FaiIiIiIiIiLNxkaImmrWrAktLS08ffq0yPtNTU1hYWGBTZs2FXm/hYVFibZjZmYGAHj27Blq166tXP7s2TOV+4mIiIiIiIjo3dgIUZOhoSFatmyJb7/9Fv/5z38KHR7j5eWFzZs3Q0dHB82aNVN7Oy4uLtDR0cHx48dVZpccO3YMhoaGaN68udrr1tLRg6lTO7UfT0RUHWgbGIsdoVpjraGqRM/USuwIRERUBbARUgbTpk3D2LFjMXbsWIwYMQKmpqa4fv06zM3N8f7776NLly6YMGECJkyYAEdHR8jlcty6dQv//PMPlixZUqJtWFhYwM/PD1u3boWuri5at26N8+fPY+/evZgyZQoMDQ3Vzq9tWBON+vur/XgioupAoVBAUCgg0+JpsyoCaw1VVQqFAlp83RMRaSQ2QsrA3d0dO3bswJo1azB79mxoaWmhadOmyqu7rFu3Dps2bcKXX36JxMRE1KxZE02bNsXgwYNLtZ2CS+7u378fmzZtQp06dRAaGoqxY8eWKX9aVgbmH1pZpnUQEUlZXdPaCPAeLXaMao21hqoivvaJiDQbGyFl1Lp1a+zYsaPI+3R1dREcHIzg4OBiHz9lyhRMmTJFebtevXq4efOmyhgtLS1MnjwZkydPLp/Q/19efh7+SXlYruskIiJ6E2sNERERVTWcD0hEREREREREGoONECIiIiIiIiLSGGyEEBEREREREZHGYCOEiIiIiIiIiDQGGyFEREREREREpDF41RgNpl1DGw0s64kdg4hINHVNa4sdodpjraGqiK99IiLNxkaIBjM3NMXCATPEjkFEJCqFQgEtLU6QrCisNVRV8bVPRKS5+O6vwXJzcyGXy8WOoRa5XI6EhARJ5pdydkDa+aWcHWD+isI/hCqWVGtNVX2+lpSU81dWdr72iYg0FyuABhMEAYIgiB1DLYIgQC6XSzK/lLMD0s4v5ewA85M0SbXWSP35KuX8Us5ORETSwEYIEREREREREWkMNkKIiIiIiIiISGOwEaLBZDIZZDKZ2DHUIpPJYGBgIMn8Us4OSDu/lLMDzE/SJNVaw+crERFR9cWrxmgwHR0dGBgYiB1DLQYGBmjevLnYMdQi5eyAtPNLOTtQPfMrFAK0tPiHZnUm1VojtdcbX0tEREQlx0aIBkvLzMKctcfEjkFEGsrW2hRBwzuIHYMqGGtNxeNriYiIqHTYCNFguXkK3EtMEzsGERFVY6w1REREVNXwHCFEREREREREpDHYCCEiIiIiIiIijcFGCBERERERERFpDDZCiIiIiIiIiEhjsBFCRERERERERBqDV40B4OjoiJkzZ2L8+PHlsr6uXbvCx8cH8+bNK5f1venixYuIi4vDpEmTyrwufV1teLVsUA6piIhKr5aFsdgRqBKw1lQ8vpaIiIhKh42QChAVFQUTE5MKWfdvv/2GrVu3lksjxMRYH8Ej2pZDKiIi9QgKBWRanJxYnbHWVA6+loiIiEqOjZBy9OrVK+jr66N58+ZiRymR3BfpSIhZJHYMItJQBpZ1YN9votgxqIKx1lQ8vpaIiIhKR2MaIXFxcYiMjMSVK1cgCAKaNGmCjz76CB06dCg09syZM4iJicFff/2F7OxsNG7cGFOmTEHnzp2VYw4ePIjZs2fjq6++wrp16xAXF4dBgwZh/vz5hQ6NCQ0NxbVr1zB37lwsXboU9+7dQ5MmTbBgwQI4Ozsr1ykIArZu3Yp9+/YhMTERtWvXhp+fH8aOHQsAiIyMRFRUFIDXh/MAQLt27bBz5061fiZCfh7kT+6r9VgiIqKSYK0hIiKiqkYjGiF//PEHxowZg5YtW2Lx4sUwMTHBtWvXkJSUVOT4hw8fokuXLvjPf/4DLS0t/Pzzz/D390dMTAw8PDxUxk6fPh1Dhw5FQEAA9PX1i82QnJyMxYsXw9/fH8bGxli9ejWCg4Px/fffQ0dHBwCwZMkS7N+/H5MmTYKbmxsuX76MVatWQU9PD8OHD8eQIUPw+PFjHDlyBDExMQAAY2MeF0xERERERERUUhrRCFm5ciUaNGiAmJgY1KhRAwDQsWPHYsePGjVK+W+FQgEPDw/cunUL+/btK9QIGT58OCZMmPDODBkZGdi1axeaNm0KANDT08O4ceNw9epVuLu74/79+9i1axcWLlyIoUOHAgC8vLyQlZWF9evXY+jQobCxsYGNjQ20tLTQsmXL0v4YiIiIiIiIiDRetT+rllwux9WrVzFw4EBlE+RdHj9+jFmzZqFTp05o3rw5WrRogV9++QV3794tNNbb27tE67S2tlY2QQCgcePGAIAnT54AAM6dOwcA6NGjB/Ly8pT/eXp6Ijk5GY8ePSrRdoiIiIiIiIioeNV+RkhmZiYUCgWsra1LNF6hUGDy5Ml4/vw5pk6digYNGsDAwADr1q0rshlhaWlZovX++yoyBYfDZGdnAwDS0tIgCALat29f5OMfPXoEW1vbEm2LiIiIiIiIiIpW7RshNWvWhJaWFp4+fVqi8f/88w8SEhKwfv16dOvWTbn81atXFRURAGBqagqZTIY9e/YomyRvsre3r9DtExEREREREWmCat8IMTQ0RMuWLfHtt9/iP//5zzsPjymYofFmMyIxMRFxcXFo2LBhheX09PQEAKSnp6Nr167FjtPR0UFOTk65bFNLRw+mTu3KZV1ERKWlZ2oldgSqBKw1FY+vJSIiotKp9o0QAJg2bRrGjh2LsWPHYsSIETA1NcX169dhbm6O999/X2Vso0aNYGNjg9WrV0OhUEAul2PdunUlPrRGXfb29hg5ciRmzpyJ8ePHw83NDbm5ubh37x4uXryIDRs2AHh9bpG8vDzExMSgVatWMDY2RqNGjdTaprZhTTTq71+eu0FEVCoKhQJaWtX+dFUajbWmcvC1REREVHIa0Qhxd3fHjh07sGbNGsyePRtaWlpo2rQpPvroo0JjdXV1ERkZiUWLFuHDDz9EnTp1MHnyZFy4cAHXrl2r0JxhYWGwt7fH3r17sX79ehgaGsLe3h69e/dWjunSpQtGjBiBTZs2ISUlBW3btsXOnTvV2l5aVgbmH1pZXvGJiEqlrmltBHiPFjsGVTDWmorH1xIREVHpyARBEMQOQZUvPj4eyc9TsONmrNhRiEhDNbCsh4UDZogdo0SysrJw48YNODk5wdDQUOw4pZaVlSVKbtaaylHUa0nKz1kpZweYX0xSzg5Uj/xSzE2aiXMoiYiIiIiIiEhjsBFCRERERERERBqDjRAiIiIiIiIi0hhshBARERERERGRxmAjhIiIiIiIiIg0hkZcPpeKpl1DGw0s64kdg4g0VF3T2mJHoErAWlPx+FoiIiIqHTZCNJi5oalkLl1JRNWTQqGAlhYnJ1ZnrDWVg68lIiKikmPF1GC5ubmQy+Vix1CLXC5HQkKCJPNLOTsg7fxSzg5Uz/z8w636k2qtkdrrja8lIiKikmPV1GCCIEAQBLFjqEUQBMjlcknml3J2QNr5pZwdYH6SJqnWGj5fiYiIqi82QoiIiIiIiIhIY7ARQkREREREREQag40QDSaTySCTycSOoRaZTAYDAwNJ5pdydkDa+aWcHage+UnzSLXWVIfXm5TzExERVSReNUaD6ejowMDAQOwYajEwMEDz5s3FjqEWKWcHpJ1fytkB6efX1dODjo6O2DGokkm11kj99SbV/AqFwOYNERFVODZCNFhaZhbmrD0mdgwi0gC21qYIGt4B2tosO5qGtYZKquB9goiIqKLxE6kGy81T4F5imtgxiIioGmOtISIioqqG5wghIiIiIiIiIo3BRggRERERERERaQw2QoiIiIiIiIhIY7ARQkREREREREQag42QcrB9+3b4+PjAyckJgYGBcHR0xIkTJ0q1jocPHyIyMhJPnjypoJRERERERERExKvGlNHt27exdOlS+Pv7o0uXLjA3N8fp06dLvZ7ExERERUXBx8cHtWvXroCkhenrasOrZYNK2RYRabZaFsZiRyCRsNZQSfF9goiIKgsbIWV09+5dAMAHH3yA+vXr4+HDhyInKjkTY30Ej2grdgwi0hCCQgGZTCZ2DKpkrDVUGnyfICKiysBGSBmEhoYiNjYWANCtWzcAwNKlSwuNc3R0xMyZMzF+/Hjlsi1btmDFihW4efMmLl68iNGjRwMA3n//feWYmzdvAgAyMzMRHh6OU6dOIT09HQ4ODggJCUHHjh3LlD/3RToSYhaVaR1ERCVhYFkH9v0mQhAEsaNQJWOtoZLi+wQREVUWNkLKIDAwEPb29ggPD0dUVBRq1aoFLa3Sn3alRYsWmDdvHhYtWoSlS5eiUaNGyvtycnIwbtw4pKSk4KOPPkLt2rVx6NAhBAQE4ODBg3B0dFQ7v5CfB/mT+2o/noiI6F1Ya4iIiKiqYSOkDOzs7NCgwevjnp2cnFCvXj21Do0xNjZGkyZNAABNmzaFi4uL8r7Dhw/jr7/+wrfffqsc06lTJ9y7dw8bNmzA2rVry2FPiIiIiIiIiDQDrxpTxf36669wcHBAw4YNkZeXp/zP09MT8fHxYscjIiIiIiIikhTOCKni0tLSkJCQgBYtWhS6r0aNGiIkIiIiIiIiIpIuNkIqga6uLnJzc1WWZWRklOixpqamcHR0xJIlSyoiGhEREREREZFGYSOkEtjY2OD27dsqy86dO6dyW0dHBwCQnZ2tstzLyws//fQTrK2tUbt27YoNSkRERERERFTNsRFSCXr27ImYmBi4urqiYcOG+Oabb/Ds2TOVMQ0bNkSNGjXw9ddfo0aNGtDW1oaLiwsGDhyIr776CqNHj8Z//vMfNGzYEM+fP0dCQgJyc3Mxbdo0tXNp6ejB1KldWXePiOid9EytxI5AImGtoZLSNjAWOwIREWkINkIqQWBgIFJSUhAVFQUtLS188MEHaNasGVatWqUcY2FhgXnz5mHz5s04dOgQ8vLycPPmTejq6mLHjh2IjIzExo0bkZycDDMzMzRv3hwjRowoUy5tw5po1N+/rLtHRFQiCoUCMplM7BhUyVhrqKQUCgUEhULsGEREpAFkgiAIYoegyhcfH4+0rAycfnJe7ChEpAHqmtZGgPdoJCQkoGHDhjA0NBQ7UqlkZWXhxo0bcHJyklx24HV+MXKz1lBJFbxHANXj9cb84pBydqB65JdibtJMnBGiwfLy8/BPykOxYxARUTXGWkNERERVjZbYAYiIiIiIiIiIKgsbIURERERERESkMdgIISIiIiIiIiKNwUYIEREREREREWkMNkKIiIiIiIiISGPwqjEaTLuGNhpY1hM7BhFpgLqmtcWOQCJhraGS4HsEERFVJjZCNJi5oSkWDpghdgwi0hD5CgXy8vLEjkGVjLWGSkqhUEBLi5OViYio4rHaaLDc3FzI5XKxY6hFLpcjISFBkvmlnB2Qdn4pZweknz8nOxu5ublix6BKJtVaI/XXmxTzswlCRESVhRVHgwmCAEEQxI6hFkEQIJfLJZlfytkBaeeXcnageuQnzSPVWlMdXm9Szk9ERFSR2AghIiIiIiIiIo3BRggRERERERERaQw2QjSYTCaDTCYTO4ZaZDIZDAwMJJlfytkBaeeXcnaA+UmapFprpP58lXJ+KWcHmF9MUs4OSD8/kZTIBB48qpHi4+MBAC4uLiInISKqWAqFAC2tsn2ozMrKwo0bN+Dk5ARDQ8NySlZ5srKyRMnNWkNEVLWUR00sjli1hkgdvHyuBkvLzMKctcfEjkFEVGFsrU0RNLyD2DE0GmsNEVHVwJpI9D9shGiw3DwF7iWmiR2DiIiqMdYaIiIiqmp4jhAiIiIiIiIi0hhshBARERERERGRxmAjhIiIiIiIiIg0BhshRERERERERKQx2AipYA8fPoSjoyNOnDihXLZ9+3b89NNPIqYiIiIiIiIi0ky8akwFs7a2xt69e9GwYUPlsh07dsDHxwfe3t7iBQOgr6sNr5YNRM1ARFSRalkYix1B47HWEBFVDayJRP/DRkgF09XVRcuWLSt0G9nZ2dDT0yv140yM9RE8om0FJCIiqjoEhQIyLU6AFAtrDRFR1cGaSPSaTBAEQewQVdVXX32F6OhopKamomXLlggJCcEHH3yApUuXYvDgwXB0dMTMmTMxfvx45WO2bNmCFStW4ObNmwBeHxrj6+uLtWvXolevXujatSsSExNVtlOwvm+++QZ79+7F7du3IQgCmjVrhhkzZsDV1VU5NjIyElu3bkVMTAyWLFmChIQEfPjhh5gwYUKp9i0+Ph65L9Kh/98fy/ATIiKq2gws68C+38QyrycrKws3btyAk5MTDA0NyyFZ5crKyhIlN2sNEVHVUV41sThi1RoidXBGSDFOnz6N+fPnY8iQIejZsydu3LiBadOmlXm9UVFR8Pf3R+vWrfGf//wHAGBnZwfgddNk4MCBsLOzQ05ODo4cOYKRI0fi0KFDsLe3V64jNzcX06dPx5gxYxASEgJTU1O1sgj5eZA/uV/mfSIiIioOaw0RERFVNWyEFOPzzz9H+/btsXjxYgBAp06dkJ2djaioqDKtt3nz5tDV1YWVlVWhQ2aCg4OV/1YoFOjQoQPi4+MRGxuLkJAQ5X25ubn4+OOP0bt37zJlISIiIiIiItI0PECsCPn5+bhx4wa6du2qstzX17dCt3v79m0EBQXBy8sLTk5OaNGiBe7evYt79+4VGiv2iVaJiIiIiIiIpIgzQoqQmpqKvLw8WFhYqCy3tLSssG2+ePEC//nPf2BhYYHQ0FDUrVsXenp6CAsLQ3Z2tspYAwMDHn9HREREREREpAY2QopgYWEBbW1tpKamqixPSUlRua2rq4vc3FyVZRkZGWpt88qVK3j8+DGio6PRrFkz5fLnz5/DxsZGZaxMJlNrG0RERERERESajofGFKFGjRpwcnLC6dOnVZafOnVK5baNjQ1u376tsuzcuXPvXL+Ojk6hWR6vXr1S3lfg8uXLha4wQ0RERERERETq44yQYkyePBmBgYEICwtDr169kJCQgG+//RYAoPX/r73ds2dPxMTEwNXVFQ0bNsQ333yDZ8+evXPdjRo1woULF/Drr7/CxMQE9erVQ8uWLWFoaIiFCxfC398fT548QVRUFGrXrl1h+6ilowdTp3YVtn4iIrHpmVqJHUHjsdYQEVUNrIlE/8NGSDF8fX2xYMECREdH49ChQ3Bzc8P8+fMxceJEGBsbAwACAwORkpKCqKgoaGlp4YMPPkCzZs2watWqt647JCQECxYswJQpU/Dy5UssXboUgwcPxtq1a7FixQoEBgaiYcOGWLBgATZv3lxh+6htWBON+vtX2PqJiKoChUKhbGBT5WOtISKqWlgXiQCZIAiCOg/8/fff0bx5cxgZGRW67+XLl0hISEDbtm3LHLAq2b9/P8LCwnD69GnUq1dP7DhlEh8fj7SsDJx+cl7sKEREFaauaW0EeI8u83qysrJw48YNODk5SfJk1VlZWaLkZq0hIqpayqsuFkWsWkOkDrVnhIwePRp79+6Fq6trofvu3r2L0aNH48aNG2UKJ6b09HRERUWhffv2MDIyQnx8PDZu3AhfX1/JN0EK5OXn4Z+Uh2LHICKiaoy1hoiIiKoatRshb5tIkpeXJ/npVtra2njw4AGOHj2KzMxMmJub47333sP06dPFjkZEREREREREaipVI+TFixfIzMxU3k5OTkZSUpLKmFevXiE2NhZWVtI+GY+xsTGio6PFjkFERERERERE5ahUjZDt27dj/fr1AACZTIbg4OAixwmCgICAgLKnIyIiIiIiIiIqR6VqhHTo0AGGhoYQBAErV67EqFGjULduXZUxurq6cHBwQLt2vFQeEREREREREVUtpWqEtGrVCq1atQIAyOVyDBkyBLVr166QYFTxtGtoo4Fl9TjxKxFRUeqaskaJjbWGiKjqYF0kek3ty+eStMXHxwMAXFxcRE5CRFSxFApFmU/gzcvnqoe1hoio6imPulgUXj6XpETtq8YAwMOHD3H8+HEkJSXh1atXKvfJZDJ89tlnZQpHFSs3NxdyuRwGBgZiRyk1uVyOu3fvwt7eXnL5pZwdkHZ+KWcHmF9dUr+KmdRJtdbw9SYeKWcHmF9MUs4OVF5+1kWiMjRCzpw5g+DgYCgUClhYWEBXV1flfplMVuZwVLEEQXjrZZCrMkEQIJfLJZlfytkBaeeXcnaA+UmapFprpP58lXJ+KWcHmF9MUs4OSD8/kZSo3QiJiIhA69atERERAUtLy/LMRERERERERERUIdSeF/XPP/9g4sSJbIIQERERERERkWSo3QipW7cusrKyyjMLEREREREREVGFUrsREhAQgK1bt0Iul5dnHqpEMplMsudykclkMDAwkGR+KWcHpJ1fytkB5heTlLOLTaq1Ruq/c6nnJyIiqkhqnyMkPj4eKSkp6N69Ozw8PGBubl5oTFhYWJnCUcXS0dGR5Bm1AcDAwADNmzcXO4ZapJwdkHZ+KWcHmF9MZc2uUAjQ0tLMP0ilWmuk/HwFKje/Jj+/iYhImtRuhOzatUv576NHjxa6XyaTsRFSxaVlZmHO2mNixyAiqtZsrU0RNLyD2DFEw1pTvWn685uIiKRJ7UbIX3/9VZ45SAS5eQrcS0wTOwYREVVjrDVERERU1ah9jhAiIiIiIiIiIqlRe0ZIgbNnz+K3335DWloaAgMDUbduXfz555+oV68eLCwsyiMjEREREREREVG5ULsRIpfLERgYiPPnzyvPSD58+HDUrVsXW7duRZ06dTBr1qxyC0pEREREREREVFZqHxoTERGBa9euITIyEpcuXYIgCMr7OnTogHPnzpVLQCIiIiIiIiKi8qL2jJATJ07gww8/RPfu3ZGfn69yX926dfHo0aMyhyMiIiIiIiIiKk9qN0JSU1PRpEmTIu/T0tLCq1ev1A5FlUNfVxteLRuIHYOIqFqrZWEsdgRRsdZUb5r+/CYiImlSuxFSu3Zt/Pe//0X79u0L3Xfz5k3Uq1evTMGk6tWrV9DX1xc7RomYGOsjeERbsWMQEVV7gkIBmZZmXqiNtab60+TnNxERSZPajZAePXpg48aNcHd3h6OjIwBAJpMhMTER27dvx+DBg8stpJhOnTqFqKgo3L59GyYmJujRowemT58OIyMjXLx4EaNHj0Z0dDQOHjyIX375BW3btkV0dDQeP36M+fPn4/z58zA1NcWYMWOQlJSEM2fO4IcffgAAPH36FBEREfjtt9+QnJwMGxsb9OrVC8HBwdDV1VVmcHR0xPTp0yGXy/HVV18hPz8fXbt2xdy5c2FoaKj2vuW+SEdCzKIy/4yIiKh4BpZ1YN9votgxRMNaU71p+vObiIikSe1GSFBQEM6fP48hQ4agadOmkMlkmD17Nu7fvw97e3v4+/uXZ05RnD59GsHBwejVqxc+/vhjPHz4EKtXr8bdu3exfft25bh58+ZhwIABWL9+PWQyGQRBQGBgIJ49e4ZFixahZs2a2Lx5M5KSklCjRg3l49LS0mBmZobZs2fDxMQE9+7dQ2RkJJKTk7F06VKVLLt370abNm2wbNky3L17FytXroSlpSWmT5+u9v4J+XmQP7mv9uOJiIjehbWGiIiIqhq1GyHGxsb46quvsGPHDpw5cwZ2dnYwMDBAQEAAxowZI5nDQ94mKioKLi4uWLNmjXKZqakppk2bhosXLyqX+fr6qjQkfvrpJ1y/fh27d++Gu7s7AMDDwwOdO3eGmZmZcpyjo6PKJYZbt24NAwMDhIaGYt68eTAwMFDeZ2VlhdWrVwMAOnfujPj4eHz33XdlaoQQERERERERaRq1GyEAoK+vD39//2ox++PfXr58iRs3bmDmzJkqy3v16oVZs2bh0qVLyiaHt7e3ypj4+HiYmJgo7wdeN448PDxw8+ZN5TJBEBATE4N9+/bh4cOHyM7OVt734MEDODg4KG936NBBZRtNmjTBd999V/YdJSIiIiIiItIgZWqEVGfPnz+HIAiwsrJSWa6trQ0zMzNkZGQol1lYWKiMefr0aaFlAGBpaalyOyYmBsuXL8eECRPg4eEBExMTxMfHY9GiRSpNEQAwMTFRua2jo4OcnBy19o2IiIiIiIhIU5WpEXLq1CkcOnQISUlJhf5wl8lkOHToUJnCialmzZqQyWRISUlRWZ6Xl4f09HSYmpoql8lkMpUx1tbWSE1NLbTOf6/rxIkT6Nq1K6ZNm6Zcdvv27fKIT0RERERERERFULsRsnnzZqxatQoWFhbK84NUJ0ZGRnBycsLx48cxbtw45fKTJ08iLy9P5bCXf3NxcUFmZiZ+//13tG37+pKBL168wMWLF1XOEfLq1Svo6OioPPbw4cPluyNvoaWjB1OndpW2PSIiTaRnavXuQdUYa031punPbyIikia1GyF79uzB//3f/2HRokUqV0KpToKDgxEUFISQkBAMHDgQDx48QHh4ODw9PeHh4aFywtQ3de7cGS1atMC0adMQEhICExMTfPHFF8pZJgW8vLywY8cO7Nq1Cw0bNsThw4fxzz//VNbuQduwJhr1r37ndyEiqmoUCgW0tLTEjiEK1hrNocnPcyIikha1GyHp6eno169ftW2CAK+vBhMZGYn169cjMDAQJiYmGDBgwDuv1CKTybBhwwbMmzcP8+bNg4mJCUaPHo2///4bf//9t3JcUFAQ0tLSsG7dOgBAz549ERYWhkmTJlXofhVIy8rA/EMrK2VbRESaqq5pbQR4jxY7hmhYazSDpj/PiYhIWtRuhLRu3Rp37tyBp6dneeapcrp3747u3bsXed+/rwLzJhsbG2zatEl5OycnB71790a7dv+bHmxkZISlS5cWeuy/11nUNsaPH4/x48eXaB+Kk5efh39SHpZpHURERG/DWkNERERVjdqNkDlz5iA4OBg2Njbo1KkTdHV1yzOX5O3duxcKhQL29vbIzMzEl19+iUePHmHEiBFiRyMiIiIiIiLSWGo3Qho0aAAvLy8EBwdDJpNBX19f5X6ZTIY//vijzAGlSk9PD1988QUePnz9LVizZs0QHR0NFxcXkZMRERERERERaS61GyErV67Erl274OTkhEaNGnFGyL8MHDgQAwcOFDsGEREREREREb1B7UZIbGwsJk6ciGnTppVnHiIiIiIiIiKiCqP2Nc7y8/Ph5eVVnlmIiIiIiIiIiCqU2jNCOnTogKtXr1b7q8ZUZ9o1tNHAsp7YMYiIqrW6prXFjiAq1hrNoOnPcyIikha1GyGBgYH4+OOPYWBgAB8fH5iamhYaY2ZmVpZsVMHMDU2xcMAMsWMQEVV7CoUCWlpqT8KUNNYazaHJz3MiIpIWtavVe++9hzt37mDZsmXo1asXPD09C/1HVVtubi7kcrnYMdQil8uRkJAgyfxSzg5IO7+UswPML6ayZtfkPw6lWmuk/HwFxMmvyc9zIiKSFrVnhAQFBUEmk5VnFqpkgiBAEASxY6hFEATI5XJJ5pdydkDa+aWcHWB+MUk5u9ikWmuk/juXen4iIqKKpHYjZMqUKeWZg4iIiIiIiIiownEOIxERERERERFpDLVnhERFRb31fplMhqCgIHVXT0RERERERERU7tgI0WAymUyy53mRyWQwMDCQZH4pZweknV/K2QHmF5OUs4tNqrVG6r9zKeeXcnaA+cUk5eyA9PMTSYlMKMezaKWnp+PUqVOIiYnBpk2bUKdOnfJaNZWz+Ph4AICLi4vISYiIqg+FQoCWVtX7AJuVlQVDQ8NK3y5rDRFR1VAZ9UmsWkOkjnJthBTYtGkTrl69ivXr15f3qqmcxMfHIy0zCycupYgdhYioWrC1NkXQ8A5ixyiSmI0Q1hoiInFVVn1iI4SkRO1DY97GxcUFGzdurIhVUznKzVPgXmKa2DGIiKgaY60hIiKiqqZCrhpz8+ZNdgOJiIiIiIiIqMpRe0bIN998U2hZTk4Obt68ia+//hoDBgwoSy4iIiIiIiIionKndiMkNDS0yOV6enoYMGAAZs6cqXYoIiIiIiIiIqKKoHYj5PTp04WW6enpwcrKqkyBiIiIiIiIiIgqilrnCMnOzsbevXuRlpYGW1tb5X+a3ATx8/NDQECA2DGIiIiIiIiI6C3UmhGip6eH7du3o1OnTuWdR7Lmz58PLa0KOfdshdHX1YZXywZixyAiqhZqWRiLHaFKYq0hIhIX6xNRYWofGtO4cWM8fPgQbdu2Lc88ktWkSROxI5SaibE+gkfw90dEVF4EhQIyiTXFKxprDRGR+FifiFSp3QgJDAzEypUr0aZNG9jZ2ZVnpionNDQU165dw4wZM7By5Ur8888/aNq0KebNm4eWLVsCeH1ojKGhIaKjowEAt2/fRlRUFC5fvoz09HTY2tri/fffx9ixY5UzRx4+fAhfX1+sWLECV69exeHDh6Gnp4f+/ftj2rRp0Nb+36/n0qVLWL16Na5fvw4DAwN07twZs2bNKtPhSLkv0pEQs0j9HwwRESkZWNaBfb+JYseoclhriIjExfpEVJjajZCvv/4acrkcffr0gYODA6ytrVXul8lk+Pzzz8scsKpITk7GwoULMWXKFJiYmOCLL77A+PHjcfLkSVhaWhYa//TpU9jb26N///4wMjLCjRs3EBkZiaysLAQHB6uMXbNmDXx9fbFmzRpcvnwZUVFRsLOzw/DhwwEA165dw9ixY+Hu7o41a9YgIyMDq1evxpgxY3Dw4EHo6emptU9Cfh7kT+6r9VgiIqKSYK0hIiKiqkbtRsh///tf6OjowNraGunp6UhPTy/HWFVPeno61qxZA09PTwBA27Zt4e3tjZiYGISEhBQa7+npqRwrCALatGmDV69eYdeuXYUaIa6urggLCwMAdOjQAefOncN3332nbIRs3LgRlpaW2LRpE3R1dQEADRs2xLBhw3D06FEMHjy4wvabiIiIiIiIqDpRuxHyww8/lGeOKq9mzZrKxgYAmJiYoH379rhy5UqR47OzsxEdHY3Dhw/j0aNHyM3NVd738uVLGBkZKW937NhR5bFNmjTB77//rrx96dIl9O3bV9kEAYBWrVrB1tYWly5dYiOEiIiIiIiIqITUPmPO77//jpcvXxZ5X1ZWlsof8tWBhYVFoWWWlpZITk4ucvzKlSuxZcsWDBkyBJs2bcKBAwcwefJkAK+bJG+qWbOmym0dHR3k5OQob2dmZhZ5LhArKytkZGSUel+IiIiIiIiINJXajZDRo0fj9u3bRd53584djB49Wu1QVVFqamqhZSkpKahVq1aR40+cOIGhQ4fC398fXl5ecHFxUTn5aWmYmpoiJSWl0PJnz57B1NRUrXUSERERERERaSK1D40RBKHY+/Ly8pRXRqkunj9/jvPnzysPj3n+/DkuXLiAUaNGFTk+OzsbOjo6ytv5+fk4evSoWttu06YNTp06hVmzZinXefXqVSQmJsLd3V2tdQKAlo4eTJ3aqf14IiL6Hz1T9a/iVZ2x1hARiYv1iaiwUjVCXrx4gczMTOXt5ORkJCUlqYx59eoVYmNjy3RZ16rIzMwMn3zyCaZOnYqaNWviiy++AACMGTOmyPFeXl7Yv38/mjRpAgsLC+zevVvlcJfSmDRpEoYNGwZ/f3+MHj1aedWYJk2aoG/fvmrvk7ZhTTTq76/244mISJVCoah2XwSUFWsNEZH4WJ+IVJWqEbJ9+3asX78ewOvL4/776icFBEFAQEBA2dNVIbVq1cL06dOxYsUK3L9/H02bNsWWLVuKbfjMnTsX8+fPx6effgoDAwMMGjQI3bt3V14dpjScnZ2xbds2rF69GlOnToWBgQE6d+6MWbNmqX3pXABIy8rA/EMr1X48ERH9T13T2gjwrl6HhZYH1hoiInGxPhEVJhPedozLv8TFxSEuLg6CIGDlypUYNWoU6tatqzJGV1cXDg4OaNeu+kyDDQ0NxbVr13DkyBGxo5Sb+Ph4JD9PwY6bsWJHISKqFhpY1sPCATPEjlGkrKwsGBoaVvp2WWuIiMRXWfVJrFpDpI5SzQhp1aoVWrVqBQCQy+UYMmQIateuXSHBiIiIiIiIiIjKm9oHigUHBxdqgmRnZ+P27dvIz88vczAiIiIiIiIiovKm9lVjdu7ciczMTAQFBQEArl27hgkTJiAjIwO2trbYuXMn6tSpU25BxbRs2TKxIxARERERERFROVB7Rsj+/fthYmKivL1q1SqYmppi9uzZEAQBn3/+ebkEJCIiIiIiIiIqL2rPCHn06BEaNWoE4PVldS9duoTw8HD06NEDJiYmWLduXbmFJCIiIiIiIiIqD2o3QnJycqCt/frhV65cgUKhgJeXFwCgXr16ePbsWfkkpAqjXUMbDSzriR2DiKhaqGvKk4cXhbWGiEhcrE9EhandCKlTpw4uXboEDw8PnD59Gs2aNYOxsTEAIDU1VflvqrrMDU2r7KUeiYikSKFQQEtL7aNOqyXWGiIi8bE+EalS+9UwYMAAbNiwAYMHD8bevXsxYMAA5X3Xrl1Dw4YNyyMfVaDc3FzI5XKxY6hFLpcjISFBkvmlnB2Qdn4pZweYX0wlzc4PmYVJtdZI+fkKSDu/lLMDzC8mKWcHKjY/6xORKrVnhEyePBna2tq4fPkyunXrhtGjRyvv++9//4sePXqUS0CqOIIgQBAEsWOoRRAEyOVySeaXcnZA2vmlnB1gfjFJObvYpFprpP47l3J+KWcHmF9MUs4OSD8/kZSo3QiRyWTw9/cv8r6NGzeqHYiIiIiIiIiIqKJwjhQRERERERERaQy1Z4QAwLfffosjR44gKSkJr169UrlPJpPh1KlTZQpHRERERERERFSe1G6EbNq0CeHh4WjSpAmaNWsGXV3d8sxFlUAmk0Emk4kdQy0ymQwGBgaSzC/l7IC080s5OyD9/KSZpFprpP56k3J+KWcHpJ+fiEgTqN0I2bdvH0aOHIm5c+eWZx6qRDo6OjAwMBA7hloMDAzQvHlzsWOoRcrZAWnnl3J2oOrlVygEaGnxgz69nVRrTVV7vZWWlPNLOTtQvvn5PktEVDHUboQ8e/YM3bp1K88sVMnSMrMwZ+0xsWMQkQTZWpsiaHgHsWOQBLDWEKmH77NERBVH7UZIixYt8ODBA3h6epZnHqpEuXkK3EtMEzsGERFVY6w1REREVNWofdWY0NBQbN26FdeuXSvPPEREREREREREFUbtGSFz5sxBeno6hgwZAisrK5iZmancL5PJcOjQobLmIyIiIiIiIiIqN2o3QszMzAo1P4iIiIiIiIiIqjK1GyE7d+4szxxERERERERERBWuVI2QpKQk1KpVCzo6OkhKSnrn+Lp166odrKoKDQ3FtWvXcOTIEbGjlJm+rja8WjYQOwYRSVAtC2OxI5BEsNYQqYfvs0REFadUjRBfX1/s3bsXrq6u6Nq1K2Syt1/X/MaNG2UKRxXLxFgfwSPaih2DiCRKUCgg01L7nNukIVhriNTH91kioopRqkbIZ599hvr16yv//a5GCFVtuS/SkRCzSOwYRCRBBpZ1YN9votgxSAJYa4jUw/dZIqKKU6pGyKBBg5T/Hjx4cLkE+Pvvv7FixQr8+eefePXqFWxsbPD+++9j4sSJiIuLQ3R0NK5du4YXL16gQYMGGDduHAYOHKh8/JIlS/DNN9/g8OHDsLGxAQBcuXIFI0aMwCeffIKRI0cCAPbu3Yvt27fjwYMHsLKywnvvvYcpU6ZAW/v1j+DgwYOYPXs29u7di/DwcFy9ehWWlpYIDAzE+++/Xyj3xYsXsXTpUty7dw9NmjTBggUL4OzsrLw/OzsbEREROHr0KNLS0mBvbw9/f3/0799fOabgMJu5c+e+dV2CIGDr1q3Yt28fEhMTUbt2bfj5+WHs2LFl+tkL+XmQP7lfpnUQERG9DWsNERERVTVqnyy1vEyePBmWlpZYsmQJjI2Ncf/+fTx+/BjA63OStG7dGsOHD4euri4uX76MsLAwAFA2Q6ZPn45ff/0VoaGh2LZtG+RyOWbOnAlPT09lE2Tnzp1YvHgxRowYgTlz5uD69euIiopCcnIyPvvsM5U8ISEhGDp0KCZOnIhjx47hk08+gbW1NTp37qwck5ycjMWLF8Pf3x/GxsZYvXo1goOD8f3330NHR0eZ66effsJHH32Epk2b4tixY5g+fTry8/NVGjklWdeSJUuwf/9+TJo0CW5ubrh8+TJWrVoFPT09DB8+vEJ+L0RERERERETVkaiNkNTUVDx48ABz5sxB165dAQDt27dX3t+3b1/lvwVBQNu2bfHkyRN89dVXymaCnp4eVqxYgWHDhmHnzp24ffs2MjIylFe1yc/Px/r169GrVy/Mnz8fANCpUyfIZDJERERg8uTJysN9AOC9995DQECActz9+/exYcMGlUZIRkYGdu3ahaZNmyozjBs3DlevXoW7uzv++usvnDx5EvPmzVM2Yzp16oSnT59i3bp1Ko2Qd63r/v372LVrFxYuXIihQ4cCALy8vJCVlYX169dj6NCh0OKxo0REREREREQlIupf0Obm5rC1tUV4eDhiY2OVM0EKZGRkYPHixejSpQtatGiBFi1aYO/evbh7967KOGdnZ0yePBkrVqzAV199hfnz56N27doAgDt37iAtLQ19+vRReUzfvn0hCAL++OMPleXdu3cvdPvatWvIz89XLrO2tlY2LgCgcePGAIAnT54AgHKdRW0zMTERjx49KvG6zp07BwDo0aMH8vLylP95enoiOTlZZV1ERERERERE9HaizgiRyWTYvHkz1qxZg0WLFiErKwstWrTA7Nmz0bZtW4SGhiIuLg5BQUFo0qQJjI2N8eWXX+L48eOF1tW3b19ERkbC2tpapZmRkZEBALCyslIZX6tWLZX7C1haWqrctrCwQG5uLtLS0pTrMDExURlTcAhLdna2cp3a2towNzdXGVfw+IyMDNSpU6dE60pLS4MgCCozZd706NEj2NraFnkfEREREREREakS/RwhjRo1wrp165Cbm4u4uDiEh4dj0qRJ+Pnnn/HTTz9h1qxZ8PPzU47fs2dPoXUoFAp88sknsLe3R1JSEjZs2IAPP/wQAGBmZgYASElJUXlMcnIyAMDU1FRleUpKinI2CfD68B0dHZ1CTY23MTU1RV5eHtLT05XbB4Bnz54Vuc13rUsmk2HPnj3KJsmb7O3tS7wuIiIiIiIiIk0neiOkgI6ODtq1awd/f39MnjwZDx48QH5+vsof/y9evMAPP/xQ6LFbtmzB1atX8fXXX+PixYtYvnw5unTpAldXV9jb28PCwgLHjx9Hjx49lI85duwYZDIZ2rRpo7Ku77//Hs2bN1e53aJFC9SoUaPE+1KwzuPHj6uczPTYsWOwtbVVzgYpCU9PTwBAenq68jwq5UVLRw+mTu3KdZ1EpBn0TK3ePYgIrDVE6uL7LBFRxRG1EfLXX39h+fLl6NOnD+rXr48XL14gOjoatra2aNq0KVxcXPDFF1/AwsIC2tra2LRpE4yNjZGamqpcx82bN7F27VpMnToVjo6OcHBwwA8//IAZM2bg22+/hb6+PoKCgvDpp5/CwsICXbp0QUJCAtatW4fBgwernCgVgPIxzZs3x7Fjx3Dp0iVs2rSpVPvVrFkz9OzZE8uWLcOrV6/QpEkTHD9+HGfPnsXy5ctLtS57e3uMHDkSM2fOxPjx4+Hm5obc3Fzcu3cPFy9exIYNG0q1vjdpG9ZEo/7+aj+eiDSbQqHgyZrpnVhriNTH91kiooohaiOkVq1asLKyQnR0NJ48eYKaNWvC3d0dK1euRI0aNbB69WrMnTsXoaGhMDMzg5+fH7KysrB161YAQE5ODmbMmAFnZ2dMmDABwOvzjixbtgz9+/fHypUrMXfuXIwaNQra2trYvn079u7dC0tLS4wfPx5TpkwplGn16tUIDw/H+vXrYWlpiU8//RTe3t6l3reVK1ciIiICW7ZsQXp6Oho2bIiVK1diwIABpV5XWFgY7O3tsXfvXqxfvx6Ghoawt7dH7969S72uN6VlZWD+oZVlWgcRaaa6prUR4D1a7BgkAaw1ROrh+ywRUcWRCYIgiB2iKjh48CBmz56N8+fPw8LCQuw4FS4+Ph7Jz1Ow42as2FGISIIaWNbDwgEzSvWYrKws3LhxA05OTjA0NKygZBVDytmB1/nFyM1aQ6Q+dd5ny4OU3++knB2oHvmlmJs0E+faEREREREREZHGYCOEiIiIiIiIiDQGGyH/3+DBg3Hz5k2NOCyGiIiIiIiISFOxEUJEREREREREGoONECIiIiIiIiLSGKJePpfEpV1DGw0s64kdg4gkqK5pbbEjkESw1hCph++zREQVh40QDWZuaCrKZdmIqHpQKBTQ0uLEQno71hoi9fF9loioYvCdVYPl5uZCLpeLHUMtcrkcCQkJkswv5eyAtPNLOTtQ9fLzwzmVhFRrTVV7vZWWlPNLOTtQvvn5PktEVDH47qrBBEGAIAhix1CLIAiQy+WSzC/l7IC080s5OyD9/KSZpFprpP56k3J+KWcHpJ+fiEgTsBFCRERERERERBqDjRAiIiIiIiIi0hhshGgwmUwGmUwmdgy1yGQyGBgYSDK/lLMD0s4v5ewA85M0SbXWSP35KuX8Us4OSD8/EZEm4FVjNJiOjg4MDAzEjqEWAwMDNG/eXOwYapFydkDa+aWcHah++RUKAVpa/EOhupNqralurzcpkXJ2QDU/3+eIiKomNkI0WFpmFuasPSZ2DCLSQLbWpgga3kHsGFQJWGtIU/F9joio6mIjRIPl5ilwLzFN7BhERFSNsdYQERFRVcNzhBARERERERGRxmAjhIiIiIiIiIg0BhshRERERERERKQx2AghIiIiIiIiIo3BRggRERERERERaYxqedWYU6dO4cmTJxg5cqTYUcrdxYsXERcXh0mTJpV5Xfq62vBq2aAcUhERlU4tC2OxI1AlYa0hTcX3OSKiqqvaNkKuXbtWLRshv/32G7Zu3VoujRATY30Ej2hbDqmIiEpPUCgg0+LExOqOtYY0Gd/niIiqpmrZCCkJQRCQm5sLXV1dsaOIJvdFOhJiFokdg4g0kIFlHdj3myh2DKoErDWkqfg+R0RUdVW7RkhoaChiY2MBAI6OjgCAQYMGAQCuXbuGGTNmYPXq1bhz5w5WrlwJuVyO2bNn4/z587CwsFCup1+/fnB2dsayZcuU67127RpmzZqFFStW4J9//oGzszOWL1+OmjVrYsGCBfj5559hYWGBkJAQ9OnTR7kuPz8/GBoaonfv3oiKisLTp0/h5uaGhQsXolGjRspxgiBg69at2LdvHxITE1G7dm34+flh7NixAIDIyEhERUWp7Fu7du2wc+dOtX5WQn4e5E/uq/VYIiKikmCtISIioqqm2jVCAgMDkZqaijt37mDVqlUAAAsLC2zYsAFPnz7FkiVLMHnyZNjY2KBOnTq4fPlyidednJyMVatWYfLkydDW1sbixYsxY8YMGBoaok2bNhgyZAj27duHGTNmwM3NDba2tsrHXr9+Hffv38e0adMAAGvWrMGECRNw4sQJ5ayUJUuWYP/+/Zg0aRLc3Nxw+fJlrFq1Cnp6ehg+fDiGDBmCx48f48iRI4iJiQEAGBvz+FMiIiIiIiKikqp2jRA7OztYWFggKSkJLVu2VLkvIyMDmzdvhqurq3JZaRohGRkZ2LNnDxo3bgwAePr0KT799FNMnDgRQUFBAAAXFxd8//33OHXqFMaMGaN8bEpKCnbt2oWGDRsCAJycnNC7d2/ExsZi6NChuH//Pnbt2oWFCxdi6NChAAAvLy9kZWVh/fr1GDp0KGxsbGBjYwMtLa1C+0ZERERERERE76ZRZ28yNzdXaYKUlrW1tbIJAkDZ1PDy8lIuMzExgYWFBR4/fqzy2KZNmyrHFzy2adOmuHLlCgDg3LlzAIAePXogLy9P+Z+npyeSk5Px6NEjtXMTERERERER0WvVbkbI21haWpbp8SYmJiq3dXR0AAA1a9ZUWa6rq4vs7Ox3btvS0hLJyckAgLS0NAiCgPbt2xe57UePHqkcakNEREREREREpadRjRCZTFZomZ6eHgAgNzdXZXl6enq5bjslJaXIZS1atAAAmJqaQiaTYc+ePcoGy5vs7e3LNQ8RERERERGRJqqWjRAdHZ1CMzKKU7t2bQDAnTt3lP/+73//i2fPnpVrpr///hv37t1THh5z7949/P333xgxYgQAwNPTE8DrBkzXrl2LXY+Ojg5ycnLKJZOWjh5MndqVy7qIiEpDz9RK7AhUSVhrSFPxfY6IqOqqlo2Qxo0b4+uvv8aRI0fQoEEDmJubFzvWzc0NderUwWeffYZp06bhxYsX2LRpE0xNTcs1k6WlJSZPnowPP/wQgiBg7dq1qF27tvLSvvb29hg5ciRmzpyJ8ePHw83NDbm5ubh37x4uXryIDRs2KPctLy8PMTExaNWqFYyNjVUuwVsa2oY10ai/f7ntIxFRaSgUCmhpadSpqjQSaw1pOr7XERFVPdWyEfL+++/jzz//xKeffor09HRls6EoOjo6iIqKwoIFC/Dhhx/Czs4Oc+bMwZIlS8o1U4sWLdCjRw+sWLECycnJcHNzw8KFC5WH5gBAWFgY7O3tsXfvXqxfvx6Ghoawt7dH7969lWO6dOmCESNGYNOmTUhJSUHbtm2xc+dOtTKlZWVg/qGVZd43IqLSqmtaGwHeo8WOQZWAtYY0Gd/riIiqJpkgCILYIao7Pz8/GBoaIjo6WuwoSvHx8Uh+noIdN2PFjkJEGqiBZT0sHDBD7BgllpWVhRs3bsDJyQmGhoZixym1rKwsUXKz1pCmk9p7HSDt9zspZweqR34p5ibNxHl6RERERERERKQx2AghIiIiIiIiIo1RLc8RUtWoew4PIiIiIiIiIipfnBFCRERERERERBqDjRAiIiIiIiIi0hg8NEaDadfQRgPLemLHICINVNe0ttgRqJKw1pAm43sdEVHVxEaIBjM3NJXcJd2IqPpQKBTQ0uLExOqOtYY0Hd/riIiqHr4ra7Dc3FzI5XKxY6hFLpcjISFBkvmlnB2Qdn4pZweqX37+YaAZpFprqtvrTUqknB3gex0RkRTwnVmDCYIAQRDEjqEWQRAgl8slmV/K2QFp55dydoD5SZqkWmuk/nyVcn4pZwekn5+ISBOwEUJEREREREREGoONECIiIiIiIiLSGGyEaDCZTAaZTCZ2DLXIZDIYGBhIMr+UswPSzi/l7ERSJdVaI/X3Cynnl3J2gPmJiKSAV43RYDo6OjAwMBA7hloMDAzQvHlzsWOoRcrZAWnnl2p2hUKAlhY/kJI0SbXWSPX9ooCU80s5O8D8pcH6RkRiYSNEg6VlZmHO2mNixyCit7C1NkXQ8A5ixyBSG2sNERWF9Y2IxMRGiAbLzVPgXmKa2DGIiKgaY60hIiKiqobnCCEiIiIiIiIijcFGCBERERERERFpDDZCiIiIiIiIiEhjsBFCRERERERERBqDjZByEhkZiVatWpX6cX5+fggICFDePnjwIBwdHZGamlqe8YiIiIiIiIgIvGpMuRkyZAi8vb3LvB4fHx/s3bsXJiYm5ZDq7fR1teHVskGFb4eI1FfLwljsCERlwlpDREVhfSMiMbERUk5sbGxgY2NT5vVYWFjAwsKiHBK9m4mxPoJHtK2UbRGR+gSFAjItTuAjaWKtIaLisL4RkVjYCCmBgwcPIiwsDD///DOsrKyUy9PT09GxY0fMnj0bqamp2Lp1K+Li4pT3JyUlYdmyZTh37hxyc3Ph5uaGGTNmwMXF5a3bmj17Ns6fPw8LCws8fPgQvr6+WLFiBa5evYrDhw9DT08P/fv3x7Rp06Ctrf6vMPdFOhJiFqn9eCKqeAaWdWDfb6LYMYjUxlpDREVhfSMiMbERUgI9evTAggULcOLECYwaNUq5/OTJkxAEAb1798bu3btVHvPixQvl2Hnz5sHQ0BCbN2/G6NGjceDAATRu3LhUGdasWQNfX1+sWbMGly9fRlRUFOzs7DB8+HC190vIz4P8yX21H09ERPQurDVERERU1XAuWgkYGxvD29sbR44cUVl+5MgRtG/fvshDWQ4ePIikpCRER0djwIAB6NatG7Zs2QJdXV188cUXpc7g6uqKsLAwdOjQAVOmTEHr1q3x3Xffqb1PRERERERERJqIjZAS6tu3L65cuYKkpCQAQHJyMn7//Xf079+/yPGXLl1C06ZN0bRpU+UyIyMjdOnSBZcuXSr19jt27Khyu0mTJnj8+HGp10NERERERESkydgIKaEuXbrAyMgIR48eBQAcO3YMOjo66NatW5HjMzMzVc4nUsDKygoZGRml3n7NmjVVbuvo6CAnJ6fU6yEiIiIiIiLSZGyElJCenh66deuGY8eOAXjdCPHx8YGxcdGX/jI1NcWzZ88KLX/27BlMTU0rNCsRERERERERFY2NkFLo27cvEhIScPbsWVy5cgX9+vUrdmybNm3w999/49atW8plWVlZ+PHHH+Hu7l4ZcYmIiIiIiIjoX3jVmFLw8vKChYUF5syZozyBanEGDx6M7du3IyAgAB999JHyqjHZ2dmYOLFqXCpMS0cPpk7txI5BRG+hZ1r4EDsiKWGtIaKisL4RkZjYCCkFbW1t9OrVC3v27MGgQYOgp6dX7FhjY2Ps2rULy5Ytw4IFC5CXlwdXV1fs2LGj1JfOrSjahjXRqL+/2DGI6B0UCgW0tDiBj6SJtYaIisP6RkRikQmCIIgdgipffHw80rIycPrJebGjENFb1DWtjQDv0QBeH15348YNODk5wdDQUORkpSfl/FLODrzOL0Zu1hoiKs6b9a28VIf3aqnnl2Ju0kycEaLB8vLz8E/KQ7FjEBFRNcZaQ0RERFUN56IRERERERERkcZgI4SIiIiIiIiINAYbIURERERERESkMdgIISIiIiIiIiKNwUYIEREREREREWkMXjVGg2nX0EYDy3pixyCit6hrWlvsCERlwlpDREVhfSMiMbERosHMDU2xcMAMsWMQ0TsoFApoaXECH0kTaw0RFYf1jYjEwnceDZabmwu5XC52DLXI5XIkJCRIMr+UswPSzi/V7PyQSFIm1Voj1feLAlLOL+XsAPOXBusbEYmF7z4aTBAECIIgdgy1CIIAuVwuyfxSzg5IO7+UsxNJlVRrjdTfL6ScX8rZAeYnIpICNkKIiIiIiIiISGOwEUJEREREREREGoONEA0mk8kgk8nEjqEWmUwGAwMDSeaXcnZA2vmlnB1gfjFJObvYpFprpP47l3J+KWcHmF9MUs4OSD8/kZTIBB4AqJHi4+MBAC4uLiInISKi0lIoBGhplfyDclZWFgwNDSswUdFYa4iIqp7S1pCSEqvWEKmDl8/VYGmZWZiz9pjYMYiIqBRsrU0RNLyD2DFKjLWGiKjqkFoNIaoobIRosNw8Be4lpokdg4iIqjHWGiIiIqpqeI4QIiIiIiIiItIYbIQQERERERERkcZgI4SIiIiIiIiINAYbIURERERERESkMdgIqUQPHz6Eo6MjTpw4IXYUIiIiIiIiIo3Eq8ZUImtra+zduxcNGzYUOwoAQF9XG14tG4gdg4iISqGWhbHYEUqFtYaIqOqQWg0hqigyQRAEsUNQ5YuPjwcAuLi4iJyEiIhKS1AoINMq+aTOrKwsGBoaVmCiorHWEBFVPaWtISUlVq0hUgdnhJTAwYMHERYWhp9//hlWVlbK5enp6ejYsSNmz56NkSNH4tSpU4iKisLt27dhYmKCHj16YPr06TAyMgLw+tAYX19frF27Fr169VKu55tvvsH27dtx+/ZtGBoawtXVFQsWLICtrS0A4PHjx1i1ahXOnj0LuVwOFxcXzJ49G87OzmXar9wX6UiIWVSmdRARUeUysKwD+34TxY5RYqw1RERVh9RqCFFFYSOkBHr06IEFCxbgxIkTGDVqlHL5yZMnIQgCevfujdOnTyM4OBi9evXCxx9/jIcPH2L16tW4e/cutm/fXuy6N2/ejJUrV+L999/Hxx9/jNzcXFy4cAGpqamwtbVFRkYGRowYAUNDQ8ydOxc1a9bEzp07MWbMGJw8eRKWlpZq75eQnwf5k/tqP56IiOhdWGuIiIioqmEjpASMjY3h7e2NI0eOqDRCjhw5gvbt28PCwgJRUVFwcXHBmjVrlPebmppi2rRpuHjxIjw8PAqt9/nz54iKisLQoUOxaNH/vi3r1q2b8t8xMTHIzMzE/v37lU0PT09PdO/eHVu2bMHMmTMrYI+JiIiIiIiIqideNaaE+vbtiytXriApKQkAkJycjN9//x39+/fHy5cvcePGDfTu3VvlMb169YK2tjYuXbpU5Drj4uIgl8vx/vvvF7vdX3/9FR4eHjA1NUVeXh7y8vKgpaUFd3d35bHXRERERERERFQynBFSQl26dIGRkRGOHj2KiRMn4tixY9DR0UG3bt3w/PlzCIKgcv4QANDW1oaZmRkyMjKKXGd6ejqA11eTKU5aWhquXLmCFi1aFLrPzs5O/R0iIiIiIiIi0kBshJSQnp4eunXrhmPHjikbIT4+PjA2NoZMJoNMJkNKSorKY/Ly8pCeng5TU9Mi12lmZgYAePr0KWxsbIocY2pqik6dOuHDDz8sdJ+urm7ZdoqIiIiIiIhIw/DQmFLo27cvEhIScPbsWVy5cgX9+vUDABgZGcHJyQnHjx9XGX/y5Enk5eXB3d29yPW1atUKBgYG+Prrr4vdppeXF27fvo3GjRvDxcVF5T9HR8fy2zkiIiIiIiIiDcAZIaXg5eUFCwsLzJkzR3kC1QLBwcEICgpCSEgIBg4ciAcPHiA8PByenp5FnigVAGrWrImgoCCsWrUKCoUC3bp1g0KhwMWLF9G3b1+4uLhg7NixOHz4MEaNGoXRo0ejbt26SE1NxdWrV1G7dm2MHTtW7f3R0tGDqVM7tR9PRESVT8/U6t2DqhDWGiKiqkPbwFjsCERVAhshpaCtrY1evXphz549GDRoEPT09JT3+fr6IjIyEuvXr0dgYCBMTEwwYMAATJ8+/a3rnDhxIiwsLLB9+3bExsbCyMgIrVq1Ul4hxtzcHHv37sWaNWuwatUqpKenw9LSEm5ubujevXvZ9sewJhr19y/TOoiIqPIpFApoaUljUidrDRFR1aFQKCAoFJBJpIYQVRSZIAiC2CGo8sXHxyMtKwOnn5wXOwoREZVCXdPaCPAeXarHZGVlwdDQsIISFY+1hoio6lCnfpSGWLWGSB2cEaLB8vLz8E/KQ7FjEBFRNcZaQ0RERFUN50QRERERERERkcZgI4SIiIiIiIioHDg6OmLRokUVvp2HDx/C0dERBw8efOfY0NBQdO3aVWWZo6MjIiMjKypelcdDY4iIiIiIiIg0yN69e2FjYyN2DNGwEUJERERERESkQVq2bCl2BFGxEaLBtGtoo4FlPbFjEBFRKdQ1rS12hFJhrSEiqhqkVj8qwr179xAZGYlz587h+fPnqF+/PkaNGoWRI0cCAC5evIjRo0dj1apV+Ouvv/Dtt9/i5cuX8PDwwOLFi6Gvr4/ly5fj5MmTAICuXbsiLCwMRkZGhbb11VdfYdu2bUhMTISdnR2CgoLQt29flTHJycmIjIzEmTNnkJqaCmtrawwePBiTJk2Ctvb//lR/8uQJPvvsM/z888/Q0tJCp06dMHbs2CL38eDBg4iOjkZiYiLq16+PgICAIsc5OjoiODgYU6ZMUT5u9uzZiImJwfHjx3HixAkAQNu2bTF37lzUrv2/509OTg7Cw8Nx+PBhvHjxAs7Ozpg9ezamTp2Kdu3aYdmyZSX8jYiHjRANZm5oioUDZogdg4iISkmhUEBLSxqn+WKtISKqOqRUP8rbrVu3MGzYMNSpUwezZs1CrVq18Msvv2Dx4sVIS0tDcHCwcmxERAQ8PDywdOlSJCYmYvny5QgJCYG2tjYcHR0RHh6OhIQEREREwMjICGFhYSrb+uGHH3Dx4kVMnToVBgYG2LNnD0JCQlCjRg306tULwOsmyJAhQ6ClpYWgoCDY2dkhLi4On3/+ORITE7F06VIAwKtXrzBu3Dg8ffoU06ZNQ8OGDXHmzBl8/PHHhfaxoJnh6+uL0NBQPH/+HFFRUcjJySnx7z0sLAw+Pj5YvXo1Hj16hJUrV2LGjBnYsWOHcszs2bNx7NgxTJgwAe3bt8etW7cQHByMFy9elPr3IhY2QjRYbm4u5HI5DAwMxI5SanK5HHfv3oW9vb3k8ks5OyDt/FLODjC/mKpadil9iJVqralqv/PSknJ+KWcHmF9MUs4OVE5+KdWP8rZ06VIYGRnhyy+/hLGxMQCgQ4cOyMnJwaZNm+Dn56cc6+DgoGxEAMCdO3cQExMDPz8/zJo1S/nYK1eu4PDhw4UaIWlpaThw4ACsrKwAAN7e3ujXrx/Cw8OVjZDIyEhkZGTg6NGjqFu3LgDA09NTOetk/PjxaNKkCWJjY3H79m1s2LABvr6+AICOHTsiOzsb+/btU25ToVAgIiICLVq0wPr16yGTyQAAbdq0Qc+ePWFtbV2in1OnTp1U9icjIwMrV65EcnIyatWqhVu3buHIkSOYOHEipk2bpvxZWFlZISQkpETbqAo095VAEAQBgiCIHUMtgiBALpdLMr+UswPSzi/l7ADzi0nK2cUm1Voj9d+5lPNLOTvA/GKScnZA+vmrsuzsbFy4cAHdu3eHvr4+8vLylP917twZ2dnZuHLlinJ8ly5dVB7fuHFjAICPj0+h5enp6Xj58qXKck9PT2UTBABq1KiBPn364J9//sHjx48BAGfOnIGHhwesra0L5QGA3377DcDrw3WMjIyUTZAC/fr1U7l99+5dPH36FP369VM2QQDA1tYWrVq1KumPqsirywBAUlKSSq7evXurjOvZs6fK4TxVnXSSUrnKzc0F8HqK2JsvFKkoKBBSzC/l7IC080s5O8D8YpJyduB1fj09PeWHmcoi5VpTHX7ngDTzSzk7wPxiknJ2oHrkF6PWlER6ejry8vKwc+dO7Ny5s8gxaWlpqFOnDgDA1NRU5T4dHZ23Ls/OzlY5T8ibTZB/L0tPT4eNjQ1SUlLw448/okWLFsXmKRj/tvX9e3xxYxMTE4vczr+ZmZmp3NbV1QXw+hCdgjxFbUdbW7vQY6syNkI0VMGbqxTfZIHXuQtelFIj5eyAtPNLOTvA/GKScnZAvPd6Kdea6vA7l2p+KWcHmF9MUs4OVI/8VZWJiQlq1KiB9957DyNGjChyTL169fDf//63XLb37NmzYpcVNAvMzc3h6OiIjz76qMh1FBzKYmZmhj///POd2zA3N3/ntstDQf5nz56pnEA1Ly9P2SSRAjZCNFRppkcRERGpg7WGiIiqAgMDA3h4eCAhIQGOjo4V3nA6f/48nj17ppw1kZ+fj2PHjsHOzg42NjYAXh9m89NPP8HOzq7QTJM3eXh44Pjx4zh9+rTK4TFHjhxRGWdvb49atWrhyJEjGDdunLIxlZiYiLi4uBKfI+Rd2rZtCwA4duyYymyW7777Dnl5eeWyjcrARggRERERERFVa5988glGjBiBkSNHYvjw4bC1tcXLly9x//59/PDDDypXRSkrc3NzjBkzBoGBgcqrxty5cwcRERHKMVOnTsW5c+cwbNgw+Pn5wd7eHjk5OXj48CF+/vlnLFy4EDY2Nhg4cCC2b9+OWbNm4eOPP0aDBg3w008/4ZdfflHZppaWFj788EOEhYUhKCgIH3zwATIzMxEVFVXk4TLqatq0Kfr164dt27ahRo0aaN++Pf7++29s27YNNWvWrNIzg97ERggRERERERFVa02aNMHBgwexYcMGrFmzBqmpqahZsyYaNGgAb2/vct1W165d0aRJE6xZswaPHj1C/fr1sWrVKvTp00c5xtraGgcOHMCGDRuwZcsWPHnyBEZGRrC1tUWnTp1gYmIC4PVslh07dmDJkiVYtWoVZDIZOnbsiPDwcAwbNkxlu0OGDAEAbN68GcHBwbC1tUVAQAB+//135UlOy8PSpUtRq1YtHDhwANu3b4eTkxPWrFmDCRMmKHNXdTKBpyUmIiIiIiIiIjVdvnwZw4cPx6pVq9C/f3+x47wTGyFEREREREREVCK//vor4uLi4OzsDD09Pdy8eRObNm1CzZo1cejQIejp6Ykd8Z14aAwRERERERERlYixsTF+/fVX7NixAy9fvoS5uTk6d+6MkJAQSTRBAM4IISIiIiIiIiINoiV2ACIiIiIiIiKiysJGCBERERERERFpDDZCiIiIiIiIiEhjsBFCRERERERERBqDjRAiIiIiIiIi0hhshBARERERERGRxmAjhIiIiIiIiKiKcXR0xJYtW0o83s/PDwEBAWptKzQ0FP369VPrsVKkLXYAIiIiIiIi0jwKhQAtLZnGbLe09u7di7p164odo1piI4SIiIiIiIgqnZaWDOu//BWJTzMqbZu21qYIGt6h0rZXFi1bthQ7QrXFQ2OIiIiIiIhIFIlPM3AvMa3S/lO36XLw4EE0b94cz549U1menp4OZ2dn7N69GwDw1VdfoUuXLnBzc8OYMWNw9epVODo64uDBg8rH5OTkYPHixWjXrh3atGmDOXPmIDY2Fo6Ojnj48KFy3L8Pjfnjjz8wcuRItGnTBq1atUL//v0RGxtbKOvx48fRs2dPtGrVCqNHj8b9+/dLvb8KhQLz5s1Du3bt8Oeff5b68VUdGyFU6S5fvozIyEhkZmZWyPpDQ0PRtWvXCll3eZLL5YiMjMTFixfFjlJtXbx4EY6OjuX2Mw4NDYWfn987x926dQuRkZEqhawiHD58GNu3b6/QbVT1HFJ5vVPZsG68xrpR8Vg3KkdVyVGdde3aFaGhoWLHqFZ69OgBbW1tnDhxQmX5yZMnIQgCevfujdOnT2P+/Pno0KEDoqKi0KFDB0ybNq3QulavXo2vvvoKEyZMwJo1awBA+f/ivHjxAgEBATA2NkZ4eDg2bNiADz74oFBtvHHjBrZu3Yrp06dj6dKluHfvHmbMmFGqfc3Ly8OMGTNw+vRp7Ny5E66urqV6vBSwEUKVLi4uDlFRURX2gTYwMBBRUVEVsu7yJJfLERUVhd9++03sKNVWixYtsHfvXrRo0aJSt3vr1i1ERUUhMTGxQrdz5MgR7Nixo0K3UdVzSOX1TmXDuvEa60bFY92oHFUlR3UWFRWFwMBAsWNUK8bGxvD29saRI0dUlh85cgTt27eHhYUFPv/8c7Rv3x6LFy9Gp06d4O/vj/fee09lfHp6Or788ktMnjwZ/v7+6NSpEz777DPY2dm9dft3797F8+fPERISAm9vb3h6esLPzw9jxoxRGff8+XNER0eje/fu6NWrF6ZMmYIrV67g8ePHJdrPnJwcTJ06FX/88Qd2794NR0fHEj1OatgIoSrv1atXpRpvZ2eH5s2bV1AakhJjY2O0bNkSxsbGYkehClKS17sgCKV+HyFpY90gdbFuUHXRvHnzd/5hTaXXt29fXLlyBUlJSQCA5ORk/P777+jfvz/y8/Nx48aNQjMMfX19VW7/97//RXZ2dqHl/779b3Z2djA2NsaCBQtw7NgxpKamFjmuWbNmsLCwUN5u3LgxACgbIfn5+cjLy1P+JwiCcuyrV68QEBCAW7duYc+ePWjYsOFbM0kZGyFUqSIjI7FixQoAr1/sjo6OKlNQu3btioCAAJw8eRIDBw6Ei4uL8lu63bt3Y+TIkfD09ETLli3Rv39/fPHFF8jNzVXZRlFTnB0dHbFo0SJ888036N27N9zc3DBgwAD8+OOPpd6HPXv2YMCAAWjVqhVatWqFXr16ITw8XGVMcnIy5s2bh86dO8PZ2Rldu3ZFVFQU8vLyAAAPHz6Ep6cngNcd+4KfQ2VOYUxPT8eCBQvQqVMnODs7w9fXFxEREcjJyVEZV/Cz++qrr9CzZ084OzujT58+OHr0aKF1vmu/gdf7XnC847Zt29C1a1e0atUKQ4cOxZUrV1TWFxoailatWuH27dsYP348WrZsiY4dO2LTpk0AgCtXrmD48OFo2bIlevbsWegYyeKmOF+9ehWTJk2Ch4cHXFxc0K1bNyxZsqQsP06lgwcP4sMPPwQAjB49Wvm7ffO40HPnzmHMmDFo3bo13NzcMGzYMJw/f15lPampqZg7dy68vb3h7OyM9u3bY9iwYTh37hyA15dHO3PmDBITE5XbKE3HPiEhAQEBAfD09ISzszM6duwIf39/lW8LBEHA7t278d5778HV1RVt27bF1KlT8eDBA+WYsuYoq7e93r/88kv07t0bLi4uiI2NxcGDB+Ho6Ijz588jLCwMHh4eaN26NWbOnImsrCwkJyfjww8/hLu7Ozp27Ijly5cXen+JiorCkCFD0K5dO7Ru3RqDBg3C/v37VT5EAMD58+fh5+cHDw8PuLq6wsfHB1OmTIFcLq/wn0l1w7rBusG6wbpR3g4cOIABAwbAxcUF7dq1Q1BQEG7fvq0ypuC59Pfff2PMmDFo2bIl2rdvj0WLFhV6Ly/JfgOv971fv374888/MWLECLi5ucHX1xebNm2CQqFQjit4Hh4+fBgrV65Ex44d0apVK0yaNAnPnj3DixcvMHfuXHh4eMDDwwOzZ8/Gy5cvVbZV1KExmZmZWLZsGXx9feHs7AxPT09MnDix0L5T8bp06QIjIyPl+9mxY8ego6ODbt26ITU1FXl5eSpNCACwtLRUuZ2cnAwAMDc3V1n+78f9m6mpKbZt2wYjIyPMnDkTHTp0gJ+fH27evKkyzsTEROW2jo4OACA7OxsAMHbsWLRo0UL535uzDFNTU/H777/Dx8en2l+thleNoUo1ZMgQZGRkYOfOnYiKikKtWrUAAE2aNFGOuX79Om7fvo3JkyejXr16MDAwAADcv38f/fr1Q7169aCjo4O//voLGzduxJ07d7B06dJ3bvvMmTOIj4/H1KlTYWhoiM2bNyM4OBgnTpxA/fr1S5T/6NGjWLhwIfz8/DBr1ixoaWnhn3/+wa1bt5RjkpOTMWTIEGhpaSEoKAh2dnaIi4vD559/jsTERCxduhTW1tbYvHkzJkyYgPfffx9DhgwB8O43wDc/GL5NjRo1IJMVf0mw7OxsjB49Gg8ePMCUKVPg6OiIS5cuYdOmTbhx44byA2OBH374ARcvXsTUqVNhYGCAPXv2ICQkBDVq1ECvXr1KvN9v2r17Nxo1aoQ5c+YAANauXQt/f3+cPn0aNWvWVI7Lzc3FlClTMGzYMIwfPx6HDx/G6tWr8eLFC3z33XeYOHEibGxssGvXLoSGhqJp06ZwdnYudt/Pnj2LyZMno1GjRggNDUWdOnWQmJiIX3/9tUQ/23fx8fFBSEgIwsPDMW/ePOX06oJvZb799lvMmjULvr6+WL58ObS1tbF3716MHz8eW7ZsUf6hM2PGDCQkJODjjz9Gw4YNkZmZiYSEBKSnpwMA5s+fj7lz5+LBgwelntKflZWFcePGoV69epg3bx6srKyQnJyMixcvqnyQmjdvHmJjY+Hn54fp06cjIyMD69evx7Bhw/Dtt9/CyspKrRwKhULlA19xZDIZatSoUap9K3Dq1ClcunQJQUFBsLKygqWlJeLj4wEAYWFh6NGjB8LDw5GQkICIiAjk5+fj7t276N69O4YOHYpz587hiy++gLW1NcaNG6dcb2JiIoYOHar8cHDlyhUsXrwYT548QXBwMIDXf7QFBATA3d0dS5YsgYmJCZ48eYKzZ88iNzdX+Z5GJcO6wbpRgHWDdeNdSlI3oqOjER4ejn79+mHatGlIS0tDVFQUhg4digMHDqh8A56bmwt/f38MHToU/v7+yudnUlISNm7cWKr9LpCcnIwZM2Zg3LhxCA4Oxvfff4/Vq1fD2toaAwcOVMkaEREBDw8PLF26FImJiVi+fDlCQkKgra0NR0dHlTpmZGSEsLCwYvf7xYsXGDFiBBITEzFhwgS4ubkhKysLv//+O5KTk5WzBujt9PT00K1bNxw7dgwTJ07EsWPH4OPjA2NjYxgYGEBbW7vQTI2UlBSV2wV1LC0tDbVr11YuL26Gx5tcXV2xefNmvHr1ChcvXsTy5csRFBSEU6dOlXgfFi5cqPK6tbe3V/67bt26CA4ORkhICMzNzTF58uQSr1dq2AihSmVjY4M6deoAAJycnFCvXr1CY1JTU3H06FGVFyUAzJ49W/lvhUIBd3d3mJmZYc6cOQgNDYWpqelbt52dnY1t27Ypp7u2aNECnTp1wvHjx+Hv71+i/JcvX4aJiYlKoSn4AFIgMjISGRkZOHr0qPKPJU9PT+jr62P58uUYP348mjRpovygY2NjU+JLY5X0mOWlS5di8ODBxd4fGxuLmzdvYs2aNejduzcAoEOHDjA0NMSqVavw66+/okOH/11WLC0tDQcOHFAWcm9vb/Tr1w/h4eHKD7Ql3e8CRkZGiI6OVn5gsba2xpAhQ/Dzzz+jb9++ynG5ubn46KOP0KNHDwBAu3btcObMGURHRyM2NlY5nd3Z2RleXl44cuTIWz/QLlq0CHXq1MH+/fuhp6enXP5///d/JfjJvpuFhQUaNGgA4PUfam/+buVyOT777DP4+Phg/fr1yuXe3t4YNGgQwsPDsX//fgCvn2tDhgzBBx98oBzXrVs35b+bNGkCExMT6OrqlvrSanfu3EF6ejqWLFmiss4+ffoo/33lyhXs27cPoaGhKo0Ad3d39OzZE9u2bcOMGTPUylFwZvR3adeuHXbu3FnyHXtDVlYWDh8+rPK+UNAI6dKlC2bNmgXg9fP+ypUrOHLkCGbPno2xY8cCALy8vPDLL7/g8OHDKvv/5h9mCoUC7dq1gyAI2LFjB4KCgiCTyXD9+nVkZ2dj5syZaNasmXJ8//791doXTce6wbpRgHWDdeNd3lU3MjMzsWHDBnh7e2P16tXK5R4eHujRowciIyNVlufm5mLcuHEYPXo0gNfPeW1tbUREROCPP/5AmzZtSrzfBdLT0/HFF18oTz7p5eWF3377DYcPHy7UCHFwcFCpO3fu3EFMTIyysVqQ6cqVKzh8+PBbGyExMTH4+++/sW3bNnh5eSmXF7xOqOT69u2Lb775BmfPnsWVK1cQGRkJ4HVD2cnJCadPn1Y5b8e/mxQODg7Q09PDqVOnVD4nlKaZoa+vD29vb9y/fx9LlixBdna2yvvT2zRq1Oit9/fq1Qs5OTmYNWsW9PX1VZ7X1QkbIVTlODo6FvowC7yekrlu3TrExcUpv90ocO/ePbi5ub11vR4eHirH/BZ8S1yaE5O5uLhg165dCAkJQZ8+fdC6detC38adOXMGHh4esLa2VvkmrnPnzli+fDl+++03lQ92pXHgwIESjSvqD4U3XbhwAYaGhsoPowUGDx6MVatW4fz58yofaD09PVW+zahRowb69OmDqKgoPH78GDY2NqXebx8fH5VvbQoKwb9/HzKZDN7e3srb2traaNCgAWrUqKFyTL+ZmRksLCyUx2wW5e7du7h//z5CQkJKXCzKU8Fzd9CgQYW+pe3UqRM2b96MrKwsGBoawtXVFbGxsTAzM4OXlxdatGihnNpYVg0aNICpqSlWrVqF5ORktG3bttBz8scff4RMJsOAAQNUslpZWaFZs2ZlOlljcHAwRo4c+c5xRkZGam+jffv2xf6R6+Pjo3K7cePGOHXqlMrzrGD5L7/8orLs/PnziI6ORnx8PF68eKFyX0pKCqysrODk5AQdHR3MnTsXI0aMgLu7e4lnD5B6WDeKx7rBulEeqkvdiIuLw6tXrzBo0CCV5XXq1EH79u1x4cKFQo/5dxO7X79+iIiIwMWLF9GmTZtS73etWrUKXYHD0dERN27cKLTtLl26qNwumLVRXB17+fJlsT+Ds2fPomHDhipNEFKPl5cXLCwsMGfOHOUJVAtMnjwZgYGBCAsLQ69evZCQkIBvv/0WAKCl9fqsFGZmZhg+fDg2btwIPT09ODk54dixY8pDqQrG/duZM2dw4MABdOvWDXXr1sWzZ8+wa9cutG7dutzfnwYMGIDs7GzMnTsXurq6JXr9SQ0bIVTlFEwXe1NSUhJGjhwJe3t7zJkzB7a2ttDT08Off/6JRYsWlejEeGZmZoWW6erqKo+XK4mBAwciPz8f+/fvx9SpU6FQKODi4oKPPvpI+QEwJSUFP/74Y7HfwqWlpZV4e//m5ORUonHvmhaanp4OKyurQtOgLS0toa2tXegPhjc/zP57WXp6OmxsbEq93//+fejq6gJAod+HgYFBoTd3HR0dtX6fBVMO35yGWJkKrjs/derUYsdkZGTA0NAQERER+Pzzz3HgwAGsXbsWhoaG6N69O2bMmFHka6Q0atasiZ07d2Ljxo2IiIhARkYGatWqhQ8++ACTJ0+Gjo4OUlJSIAhCsR+YyvKHfd26dWFjY/POcW+bpv8ub/sZ/btBUvCHQlHL3zz3wZ9//onx48ejXbt2+PTTT2FjYwMdHR2cOnUKGzduVL4P2dnZYfv27di8eTMWLVqErKws1K9fv8gzu1P5YN0oHuvGa6wbrBsAlM/Ton4e1tbWyvOpFNDW1i50HoeCxxasq7T7XZrnYWnqFfD6tVBcIyQ1NVU5u66qsbV+++y8qrY9bW1t9OrVC3v27MGgQYNU3m98fX2xYMECREdH49ChQ3Bzc8P8+fMxceJElcb6tGnTkJeXpzw/TPfu3TF+/HgsWbJE5VC/N9nZ2UFLSwtr1qzBs2fPYG5ujo4dOyIkJKRM+1OcIUOGIDs7G59++in09fXLbRZcVcFGCFU5RRWxU6dOISsrC5GRkbC1tVUu/+uvvyozGoDXU2H/7//+T3lcZWRkJAICAvDdd9/B1tYW5ubmcHR0xEcffVTk462trdXednlNcTYzM8PVq1chCILKzzslJQV5eXmFin7BB7GilhUU9Irc7/JS8C3skydPRNl+wc917ty5xX4TXXBCLQsLC3zyySf45JNPkJSUhB9++AGrV69GSkoKtmzZUuYsjo6OiIiIgCAIuHnzJg4ePIj169dDX18f/v7+MDc3h0wmw+7du5V/bLypqGUlVRmHxpSliVKco0ePQltbG9HR0Sofeoqayuru7g53d3fk5+fj2rVr2LlzJz777DNYWVmpTOGn8sG6UTzWjbJh3fif6lA3Cp57BSerfNPTp08LPY/z8vKQlpamsrzgsW8+jytqv8uThYVFiS+fWpkUCgFBwzu8e2AFbFdLS/3PCvPnz8f8+fOLvG/48OEYPny48nbB4WtvHgajq6uLuXPnYu7cucpl06dPh62trUoj5M0ToTZq1Ajr1q17a66inv8uLi6FTqhalGXLlhVaNmrUKIwaNeqdj5UiNkKo0hX3Dc7bFHzoerOYCIKAffv2lW+4UjA0NIS3tzdyc3MRFBSEW7duwdbWFj4+Pvjpp59gZ2f31uPPC/alNJd5LK8pzp6enjh+/DhOnTqF7t27K5d/8803yvvfdP78eTx79kz5bV5+fj6OHTsGOzs75Tc0Jd1vMdnb28POzg5ff/01xo0bV2EfTor73bZu3RomJia4detWqYpK3bp1MWrUKJw/fx6XL19W2U5ZLwsrk8nQrFkz5YfM69evA3j9+9y0aROePHmicgx4UUqbozIOjakIBSfhe3PK6qtXr3Do0KFiH1OjRg24ubmhUaNGOHz4MK5fv85GiBpYN15j3ah8rBuFSblutGrVCvr6+jh06JDyXDfA68uKXrhwAT179iz0mMOHDyvPEQIAR44cAfC66QKUbr/F1KlTJ6xbtw7nz58v9HoVU1maEVVxu+np6YiKikL79u1hZGSE+Ph4bNy4Eb6+virvs7/99hsuX76MFi1aQKFQ4MyZMzhy5EilXglM07ERQpXOwcEBwOuTNg0aNAja2tqwt7dXmS72b15eXtDR0UFISAgmTJiAnJwcfPnll8jMzKys2ABeX21CX18frVu3Rq1atZCcnIxNmzahZs2acHFxAfB6+uq5c+cwbNgw+Pn5wd7eHjk5OXj48CF+/vlnLFy4EDY2NjA2NoatrS1Onz4NT09PmJqawtzc/K0fRgu2UVYDBw7E7t27MWvWLCQmJsLBwQF//PEHoqOj4e3tXWh6p7m5OcaMGYPAwEDl2f/v3LmDiIgI5ZiS7rfY5s2bh8mTJ+ODDz7A2LFjUadOHTx69Ahnz55VOUFaWTRt2hQAsG/fPhgZGUFPTw/16tWDubk5wsLCEBoaioyMDPTs2ROWlpZITU3FX3/9hdTUVCxcuBDPnz/H6NGj0a9fPzRq1EhZSM+ePavyB4iDgwNOnjyJPXv2wNnZGTKZrETPkR9//BF79uxBt27dUL9+fQiCgJMnTyIzM1M5Vb9NmzYYOnQo5syZg2vXrqFt27YwMDBAcnIy/vjjDzg4OGDEiBFq5ahXr947/+iqiry9vbFt2zZMmzYNQ4cORXp6OrZs2VLoD6Mvv/wSFy5cgI+PD+rUqYPs7Gx8/fXXAMBjs9XEusG6ISbWjepTN0xMTBAYGIjw8HDMnDkTffv2RXp6OtavXw89PT3l1b8K6OjoYNu2bcjKyoKLi4vyqjGdO3eGu7t7qfdbTGPGjMHx48cRGBgIf39/uLq64tWrV8pLpbZv317siNWCtrY2Hjx4gKNHjyIzMxPm5uZ47733MH36dJVxhoaGOHPmjPIKMLa2tggNDVWetJ0qHhshVOk8PDwQEBCA2NhY7N+/HwqFAjt27ICHh0exj2ncuDEiI/9fe/cdX/P9////fiJDIhISmyJWGsTeo2aVGh3vaktrdKBGq2+btxotpVaR0FK0RpUOVFUX/Xajwyil2iq1ipCFRNZ5/f7wcz6OBMnJeOWVc7teLi4X53Wer+frfl7i9TgeXiNC8+fP17PPPqtixYqpW7du6t+/vwYMGJBn2Rs1aqQNGzbok08+UVxcnIoXL66GDRvqlVdecZw+W6pUKb3//vtavHixli9frrNnz6pIkSIqX768Wrdu7fRs7+nTp2vWrFkaPHiwkpOT9cADD2R4WlpO8/Hx0apVq/Tqq69q2bJljsd3Pfnkk+m+BEhXn0VfrVo1zZ8/X//++6/uuOMOzZkzx+l/PrLyuc3UunVrrVmzRosWLdK0adOUlJSkMmXKqH379jm2jTvuuEMTJkzQqlWr1LdvX6WlpTlOO7/vvvtUrlw5LVu2TJMnT9bly5cVFBSksLAwx83bfHx8VKdOHX344Yc6deqUUlNTVbZsWQ0YMEBPP/20Yzt9+/bVn3/+qVdffVUXL150nK58O5UqVVJAQICWLVumc+fOycvLSyEhIZo5c6bTDeRefPFF1a1bV+vXr9c777wju92uUqVKqUGDBk43enM1h9U0b95cL7/8st544w0988wzKl26tB5++GHH6ejXhIWF6fvvv1dERISioqLk5+enGjVq6LXXXlOrVq1M/ATWRd2gbpiJulGw6sagQYMUFBSk1atXa+vWrSpcuLCaNGmiESNGOD06V7raCHn99dc1bdo0vfbaaypcuLB69uypMWPGOI3L7Oc2k7+/v9auXauIiAi9++67WrRokQICAhQeHu70pCFkj7+/v5YsWXLbcbVr19a6devyIBFuxmYYhmF2CAD5V2hoqB577DFNmjTJ7CimGzdunE6dOuXyfSsAwB1QN/4PdcO6xo0bp88++0x79uwxOwqAXJDxs3kAAAAAAAAKIC6NAf5/1z/7PSMeHh43fa43kF+kpaXpVif6XbvhJ4Dso26gIKBuAHBHNEIASSdPnlSHDh1uOWbYsGF69tln8yhR/lEQ7/VQkPXv318//vjjTd8vX768vvzyyzxMBBRM1I2bo25YC3UjYzNnzsyT++8AMAf3CAEkJScn3/aLW6lSpVS6dOk8SgS45u+//9bly5dv+r63t7dCQ0PzMBFQMFE3UFBQNwC4IxohAAAAAADAbXDhKgAAAAAAcBs0QtzU4cOHuYYXAJCrqDUAALguNDRUy5cvz/T4Pn36aNCgQS5ta9y4cerWrVu2x0hSt27dNG7cOJdy5BUaIW4qOTlZly5dUlJSktlRXJKUlKRffvnFkvmtnF2ydn4rZ5fIbyYrZ5dkWm4r15qC8Gdu1fxWzi6R30xWzi4VjPxZZdjtuZAk/243q9avX6/u3bubHaNA4qkxbi4tLc3sCC65ltuK+a2cXbJ2fitnl8hvJitnl8zPbfb2XVFQ/sytmN/K2SXym8nK2aWCkz8rbB4eOrrlDSVe+DcXEmXMN7isQroNyLPtZUe9evXMjlBgcUaIG7PZbLLZbGbHcInNZpOvr68l81s5u2Tt/FbODliVVWuN1Y8XVs5v5ewS+YGsSrzwrxLPHs+7Xy42XTZs2KCaNWvq/PnzTstjY2NVu3Ztvf3225KkdevWqV27dqpbt6769eunffv2KTQ0VBs2bHCsk5ycrGnTpqlJkyZq2LChJkyYoI0bNyo0NFQnT550jLvx0phffvlFjz32mBo2bKj69eure/fu2rhxY7qsn3zyie655x7Vr19fffv21fHjx7P8ee12uyZNmqQmTZro119/vem43bt368EHH1R4eLi6deumr7/+Ot2YPXv26JlnnlGrVq1Ur1493Xfffdq0aVOWM+UkzghxY15eXvL19TU7hkt8fX1Vs2ZNs2O4xMrZJWvnt2p2u92QhwdfSGFNVq01Vj1eXGPl/FbOLpE/r1Abkdc6deqkKVOm6NNPP9Xjjz/uWP7555/LMAx16dJF27dv1+TJk9WzZ0/dc889OnTokEaOHJlurrlz52rdunV67rnnFBYWpk8++UTz58+/5fYvXbqkQYMGqWHDhpo3b568vb31119/KT4+3mncoUOHFB0drVGjRiktLU0vv/yyRo8erfXr12f6s6ampmrs2LHauXOnVq9efdNHaEdFRempp55SaGio5s+fr/j4eE2dOjXdI7lPnz6tBg0aqFevXvL29tbu3bs1ceJESdL999+f6Vw5iUaIG4uJT9CEBVvNjgHgFsqXCtTQXi3NjgG4jFoDIKdRG2EGf39/tWnTRlu2bHFqhGzZskXNmjVTUFCQXnvtNTVr1kzTpk2TJLVu3VpJSUmKjIx0jI+NjdU777yjwYMHa+DAgY5xffr00ZkzZ266/aNHj+rixYsaMWKEozHRvHnzdOMuXryoTZs2KSgoyPF64sSJOnPmjMqUKXPbz5mcnKznn39eBw8e1Ntvv63KlSvfdOzKlStls9m0dOlSBQQESJJKliypp556ymlc165dHb83DEONGzfW2bNntW7dOhohyHspqXYdOxVjdgwAQAFGrQEAFBRdu3bV888/r9OnT6tcuXKKiorSTz/9pBkzZigtLU2HDh3SmDFjnNbp0KGDUyPkjz/+UFJSkjp06JBu3I8//njTbVesWFH+/v6aMmWK+vTp42i+3OjOO+90Wl61alVJcjRC0tLSZBiG4/1ChQo5LoW7cuWKBg0apFOnTmnt2rUqV67cLffHvn371LRpU0cTRJJatWolf39/p3FxcXGKiIjQ9u3bdfbsWcf9ZIoVK3bL+XMT9wgBAAAAAOA22rVrpyJFiujjjz+WJG3dulVeXl7q2LGjoqOjlZqamq45ERwc7PQ6KipKklS8eHGn5Rk1Na4XGBioN998U0WKFNGYMWPUsmVL9enTJ91j6q9vSkhXL1GV/u+pPv3791etWrUcv65vvkRHR+unn35S27Ztb9sEufZZbvx8UvrPPG7cOG3ZskVPPvmkli9frvfff1//+c9/lJycfNtt5BbOCAEAAAAA4DZ8fHzUsWNHbd26VQMGDNDWrVvVtm1b+fv7y9fXV56enoqOjnZa58KFC06vS5YsKUmKiYlR6dKlHctvXC8jderU0bJly3TlyhXt2rVLr7zyioYOHapt27Zl+jPceA+PkJAQx+/LlSunYcOGacSIESpevLgGDx58y7lKliyZ7vNJzp85KSlJX3/9tcaOHas+ffo4lq9duzbTmXMDZ4QAAAAAAJAJXbt21cGDB/Xtt99q79696tatm6Srl5iEhYVp+/btTuNvbFLUqFFDPj4+6ZZnpZlRuHBhtWnTRr169dLJkycdZ3tkRpUqVRQeHu74deNlLJ07d9bMmTO1cOFCvfnmm7ecq06dOtq1a5cuXrzoWPbdd9/p0qVLjtfJyclKS0tznJkiXb3x65dffpnpzLmBM0IAAAAAAMiEFi1aKCgoSBMmTHDcQPWawYMHa8iQIZo4caI6d+6sgwcP6sMPP5QkeXhcPQehWLFi6tWrl15//XX5+PgoLCxMW7du1YkTJ5zG3eirr77S+++/r44dO6pcuXI6f/681qxZowYNGsjHxydHP2OPHj2UlJSkF154Qd7e3nrssccyHNevXz+tXbtWAwYM0IABAxQfH6+IiAine38ULVpU4eHheuONNxQUFCRPT08tXbpU/v7+mToLJrfQCDFZRESEVqxYoT179kiSTp48qQ4dOmjBggXq3LmzyekAAAAAIPf4Bpe11PY8PT3VuXNnrV27Vg888IBTE6JDhw6aMmWKlixZos2bN6tu3bqaPHmyBgwY4HTmxciRI5WamqqlS5fKbrfr7rvv1lNPPaXp06eraNGiGW63YsWK8vDw0Pz583X+/HkVL15crVq10ogRI7L1eW6mZ8+eSkpK0ksvvaTChQvrP//5T7oxpUqV0htvvKFp06Zp+PDhqlixoiZNmqQ5c+Y4jZs7d65eeOEFjRs3TsWKFVOfPn2UkJCgFStW5Er2zLAZ198yFnnOrEbI/v37FX/pivYczfxpVADyXskgfz3SuZ4kKSEhQYcOHVJYWJj8/PzMDeYCK+e3cnbpan4zclNrAOSG62vj9QrCsdrq+bOa27DbZbvJGRC5KS+3+95772nixInavn27KlSocNNxo0aN0u7du02/ZMRdcEaIGwvwL6xhvRubHQPAbZj1JQHICdQaALmB2lgwmPVnmFvbjY2NVWRkpJo1a6YiRYpo//79ev3119WhQwenJsiPP/6o3bt3q1atWrLb7frqq6+0ZcsWjRs3LldyIT0aIdm0Z88eRUREaO/evTIMQ9WqVdPzzz+vli1bKjk5WZGRkfroo48UFRWlO+64Q0OGDFH37t2ztA273a6lS5fq3Xff1blz51SuXDn17t1b/fv3z1b2lEuxOrjyxWzNASB3+QaXVUi3AWbHAFxGrQGQ06iNyK88PT114sQJffzxx4qPj1fx4sV13333adSoUU7j/Pz89NVXXzmeAFO+fHmNGzcu2/++Q+bRCMmGX375Rf369VO9evU0bdo0BQQE6MCBAzp9+rQkafjw4dq9e7eGDh2qqlWr6uuvv9bo0aMVEBDgdFOd25k1a5ZWrlypQYMGqVGjRvr+++81Y8YMXb58WUOHDnU5v5GWqsSzx11eHwCA26HWAADchb+/v5YsWXLbcbVr19a6devyIBFuhkZINsyePVuVKlXSypUrVahQIUlSq1atJEk7d+7Ul19+qeXLlzuWtWzZUmfPnlVERESmGyHR0dFas2aNnnjiCT3//POObVy+fFnLli1T//79VaRIkZz/cAAAAAAAFEBcWOeixMRE7du3T/fff7+jCXK977//XsWKFVOzZs2Umprq+NW8eXMdOnRIaWlpmdrOr7/+qpSUFN17771Oy7t27eq4oRIAAAAAAMgczghxUXx8vOx2u0qVKpXh+zExMYqNjVWtWrUyfD8qKkplypS57Xbi4uIkSSVLlnRaXqJECUlXb8gDAAAAAAAyh0aIi4oWLSoPDw+dO3cuw/cDAwMVFBSkpUuXZvh+UFBQprZTrFgxSdL58+dVunRpx/Lz5887vQ8AAAAAAG6PS2Nc5Ofnp3r16unDDz/M8DKXFi1aKDo6Wl5eXgoPD0/3y9vbO1PbCQ8Pl5eXlz755BOn5Vu3bpWfn59q1qyZI58HAAAAAAB3wBkh2TBy5Ej1799f/fv3V+/evRUYGKjffvtNxYsX10MPPaR27drp6aef1tNPP63Q0FAlJibqr7/+0j///KPp06dnahtBQUHq06ePVqxYIW9vbzVo0EA7duzQ+vXr9eyzz8rPz8/l/B5ePgoMa+Ly+gByn6evv9kRgGyh1gDIaT6BJcyOAMDiaIRkQ6NGjbRq1SrNnz9f48ePl4eHh6pXr+54usvChQu1dOlSvfPOOzp16pSKFi2q6tWr68EHH8zSdq49cve9997T0qVLVbZs2Rx5zrSnX1FV6T4wW3MAyF12u12G3S6bByfwwZqoNQByg91ulwe1EQVcaGioxowZo6eeeipT4/v06SM/P79MPcI3J2Vmu5nNVr9+fT355JN69tlnczqmExoh2dSgQQOtWrUqw/e8vb01bNgwDRs27KbrP/vss05/yBUqVNDhw4edxnh4eGjw4MEaPHhwzoT+/8UkxGny5tk5OieAnFMusLQGtelrdgwgW6g1AHIa9RHuYv369SpXrpzZMQokGiFuLDUtVf9cOGl2DABAAUatAQDcjFln9ljljKJ69eqZHaHAohECAAAAAMhzHh4eWvL1Kp2OO5tn23T1jKINGzZo4sSJ+uabb1SixP/dpyY2NlatWrXS+PHj9dhjj2ndunVasmSJoqOjVa9ePY0YMUIPP/ywZsyY4bhFQnJysmbNmqXNmzcrLS1N99xzjxo3bqxx48Zp+/btqlChgqT0l8b88ssvmjdvnn7//XfZ7XZVqFBBTz75pB544AGnrJ988onmz5+vc+fOKTw8XNOmTVPFihVv+fnGjRunAwcOaOzYsZo1a5b++ecf1a5dW6+88oqKFi2qKVOm6JtvvlFQUJBGjBihe++996ZzJSUlafjw4frjjz/05ptvqlKlShmO27Ztm+bMmaNTp04pNDRUkyZNSjfmq6++0sqVK/X7778rKSlJVatW1bPPPqu77rrrlp/ndmiEAAAAAABMcTrurCXOHOzUqZOmTJmiTz/9VI8//rhj+eeffy7DMNSlSxdt375dkydPVs+ePXXPPffo0KFDGjlyZLq55s6dq3Xr1um5555TWFiYo3FxK5cuXdKgQYPUsGFDzZs3T97e3vrrr78UHx/vNO7QoUOKjo7WqFGjlJaWppdfflmjR4/W+vXrb/sZo6KiNGfOHA0ePFienp6aNm2aRo8eLT8/PzVs2FA9e/bUu+++q9GjR6tu3boqX758ujkuX76sIUOG6MyZM3r77bdVtmzZDLd16NAhPffcc7rrrrs0fvx4nThxQs8//7xSUlKcxp08eVLt2rXTk08+KQ8PD33zzTcaOHCgVq5cqaZNm972M90MjRAAAAAAAG7B399fbdq00ZYtW5waIVu2bFGzZs0UFBSk1157Tc2aNdO0adMkSa1bt1ZSUpIiIyMd42NjY/XOO+9o8ODBGjhwoGNcnz59dObMmZtu/+jRo7p48aJGjBih0NBQSVLz5s3Tjbt48aI2bdqkoKAgx+uJEyfqzJkzKlOmzC0/Y1xcnNauXauqVatKks6dO6eXXnpJAwYM0NChQyVJ4eHh+uKLL7Rt2zb169fPaf34+HgNGDBAiYmJWrt2rYKDg2+6rWsPAVm0aJEKFSokSfLy8kp3Vsj1+9put6tp06b666+/9O6772arEZL/L4wCAAAAAMBkXbt21d69e3X69GlJV8+g+Omnn9S9e3elpaXp0KFDat++vdM6HTp0cHr9xx9/KCkpKd3yG1/fqGLFivL399eUKVO0detWRUdHZzjuzjvvdDRBJDmaGteaLGlpaUpNTXX8MgzDMbZUqVKO8ZJUuXJlSVKLFi0cywICAhQUFJSuaRMTE6M+ffrIMAytXr36lk0QSdq3b5/atWvnaIJI0j333JNu3JkzZzR27Fi1bt1aNWvWVK1atfTdd9/p6NGjt5z/dmiEAAAAAABwG+3atVORIkX08ccfS5K2bt0qLy8vdezYUdHR0UpNTXVqQkhK1xCIioqSJBUvXtxp+Y3r3SgwMFBvvvmmihQpojFjxqhly5bq06dPuieOBgQEOL328vKSdPW+HZLUv39/1apVy/Hrxx9/vO26RYsWdVru7e3tmO+aY8eO6ffff1fXrl0VGBh4y88iXd0PN+6bYsWKydPz/y5asdvtGjx4sH755Rc999xzWrVqld5//33dddddSk5Ovu02boVLY9yYZyFPVQquYHYMADdRLrC02RGAbKPWAMhp1EeYxcfHRx07dtTWrVs1YMAAbd26VW3btpW/v798fX3l6emZ7kyNCxcuOL0uWbKkpKtnUJQu/X8/yzc7w+N6derU0bJly3TlyhXt2rVLr7zyioYOHapt27Zl+jNMnTpVly9fdrwOCQnJ9Lq3Ur9+fTVv3lwzZ85UYGCg7r///luOL1myZLp9Exsbq9TUVMfrf/75RwcPHtSiRYvUsWNHx/IrV65kOy+NEDdW3C9QU3uMNjsGgFuwyuPdgJuh1gDIDdRHmKVr167atGmTvv32W+3du1cRERGSpEKFCiksLEzbt293unfGjU2KGjVqyMfHR9u2bdOdd95503G3UrhwYbVp00bHjx/X9OnTlZSUJB8fn0ytW6VKlUxvJ6v69++vpKQkTZgwQd7e3rd8skydOnX0//7f/9P48eMdl8d89tlnTmOunXVy7cwUSTp16pT27NnjuGzHVTRC3FhKSooSExPl6+trdpQsS0xM1NGjRxUSEmK5/FbOLlk7vxWz8yUPVmfVWmPF48X1rJzfytkl8ucV6iPM0qJFCwUFBWnChAmOG6heM3jwYA0ZMkQTJ05U586ddfDgQX344YeS/u9ntlixYurVq5def/11+fj4KCwsTFu3btWJEyecxt3oq6++0vvvv6+OHTuqXLlyOn/+vNasWaMGDRpkugmSFwYNGqQrV65ozJgx8vHxuem9TwYOHKiHHnpIQ4cOVa9evXTy5EktX77cqelRpUoVlSlTRnPnzpXdbldiYqIWLlyoUqVKZTsnjRA3ZhiG081xrMQwDCUmJloyv5WzS9bOb+XsgFVZtdZY/Xhh5fxWzi6RH8iqvL7UKbvb8/T0VOfOnbV27Vo98MADTk2IDh06aMqUKVqyZIk2b96sunXravLkyRowYID8/f0d40aOHKnU1FQtXbpUdrtdd999t5566ilNnz493f04rqlYsaI8PDw0f/58nT9/XsWLF1erVq00YsSIbH2e3DB8+HBduXJFzz//vBYvXqzWrVunG1OzZk0tWLBAc+bM0bBhw1S9enW9+uqr6t+/v2OMt7e3IiIi9OKLL2r48OEqW7asBg8erJ07d+rAgQPZymgzOMq5pf379ys5OVlhYWHy8/MzO06WJSQk6NChQ5bMb+XskrXzWzm7RH4zWTm7dDW/GbmtXGsKwp+5VfNbObtEfjNZObtUMPJnNbdZlzjl5Xbfe+89TZw4Udu3b1eFCje/Z9aoUaO0e/duffnll3mSy91xRggAAAAAIM+ZdYlTbm03NjZWkZGRatasmYoUKaL9+/fr9ddfV4cOHZyaID/++KN2796tWrVqyW6366uvvtKWLVs0bty4XMmF9GiEuDGbzSabzWZ2DJfYbDb5+vpaMr+Vs0vWzm/l7JL188M9WbXWWP3vm9XzA4AVeXp66sSJE/r4448VHx+v4sWL67777tOoUaOcxvn5+emrr75yPAGmfPnyGjdunNNlIchdNELcmJeXV76+Cdat+Pr6qmbNmmbHcImVs0vWzm/l7FLu5bfbDXl48I8l5A6r1hqOFxwbACCr/P39tWTJktuOq127ttatW5cHiXAzNELcWEx8giYs2Gp2DAAmKl8qUEN7tTQ7Bgowao01cWwAABRkNELcWEqqXcdOxZgdAwBQgFFrAABAfsMDuAEAAAAAgNugEQIAAAAAANwGjRAAAAAAAOA2aIQAAAAAAAC3QSNEUmhoqJYvX55j87Vv314vvvhijs13vV27dun111/PlbkBAAAAACjoeGpMLoiMjFRAQECuzP3jjz9qxYoVeuaZZ7I9V2FvT7WoVykHUgGwqpJB/mZHQAFHrbEmjg0AgIKMRkgOunLligoXLqyaNWuaHSVTAvwLa1jvxmbHAGAyw26XzYMTBJE7qDXWxbEBAFBQuU0jZM+ePYqIiNDevXtlGIaqVaum559/Xi1btkw39quvvtLKlSv1+++/KykpSVWrVtWzzz6ru+66yzFmw4YNGj9+vNatW6eFCxdqz549euCBBzR58mS1b99ebdu21aRJkyRJ48aN04EDB/TCCy9oxowZOnbsmKpVq6YpU6aodu3ajjkNw9CKFSv07rvv6tSpUypdurT69Omj/v37S5IiIiIUGRkp6erlPJLUpEkTrV692qV9knIpVgdX5s4lPACswTe4rEK6DTA7Bgowao01cWwAABRkbtEI+eWXX9SvXz/Vq1dP06ZNU0BAgA4cOKDTp09nOP7kyZNq166dnnzySXl4eOibb77RwIEDtXLlSjVt2tRp7KhRo/TII49o0KBBKly48E0zREVFadq0aRo4cKD8/f01d+5cDRs2TF988YW8vLwkSdOnT9d7772nZ555RnXr1tXu3bs1Z84c+fj4qFevXurZs6fOnDmjLVu2aOXKlZIkf3/XT1010lKVePa4y+sDAHA71BoAAJDfuEUjZPbs2apUqZJWrlypQoUKSZJatWp10/GPP/644/d2u11NmzbVX3/9pXfffTddI6RXr156+umnb5shLi5Oa9asUfXq1SVJPj4+euKJJ7Rv3z41atRIx48f15o1azR16lQ98sgjkqQWLVooISFBixYt0iOPPKIyZcqoTJky8vDwUL169bK6GwAAAAAAcHsF/sLPxMRE7du3T/fff7+jCXI7Z86c0dixY9W6dWvVrFlTtWrV0nfffaejR4+mG9umTZtMzVmqVClHE0SSqlatKkk6e/asJOmHH36QJHXq1EmpqamOX82bN1dUVJT+/fffTG0HAAAAAADcXIE/IyQ+Pl52u12lSpXK1Hi73a7Bgwfr4sWLeu6551SpUiX5+vpq4cKFGTYjgoODMzXvjU+RuXY5TFJSkiQpJiZGhmGoWbNmGa7/77//qnz58pnaFgAAAAAAyFiBb4QULVpUHh4eOnfuXKbG//PPPzp48KAWLVqkjh07OpZfuXIltyJKkgIDA2Wz2bR27VpHk+R6ISEhubp9AAAAAADcQYFvhPj5+alevXr68MMP9eSTT9728phrZ2hc34w4deqU9uzZo8qVK+dazubNm0uSYmNj1b59+5uO8/LyUnJycq7lAAAAAACgICvwjRBJGjlypPr376/+/furd+/eCgwM1G+//abixYvroYcechpbpUoVlSlTRnPnzpXdbldiYqIWLlyY6UtrXBUSEqLHHntMY8aM0VNPPaW6desqJSVFx44d065du7R48WJJV+8tkpqaqpUrV6p+/fry9/dXlSpVXNqmh5ePAsOa5OTHAGAxPoElzI6AAo5aY02evq4/lQ4AgPzOLRohjRo10qpVqzR//nyNHz9eHh4eql69up5//vl0Y729vRUREaEXX3xRw4cPV9myZTV48GDt3LlTBw4cyNWcEydOVEhIiNavX69FixbJz89PISEh6tKli2NMu3bt1Lt3by1dulQXLlxQ48aNtXr1ape25+lXVFW6D8yp+AAszG63y8OjwN8/Gyag1liT3W6XYbfLxnEBAFAA2QzDMMwOgby3f/9+xSTEafvZHWZHAWCycoGlNahN31zfTkJCgg4dOqSwsDD5+fnl+vZykpWzS1fzm5GbWmNNeXVMuJmC8PeN/OawcnapYOS3Ym64J7c4IwQZS01L1T8XTpodAwBQgFFrAABAfsP5jgAAAAAAwG3QCAEAAAAAAG6DRggAAAAAAHAbNEIAAAAAAIDb4GapbsyzkKcqBVcwOwYAk5ULLG12BBRg1Brr4ZgAACjoaIS4seJ+gZraY7TZMQDkA3a7XR4enCSInEetsSaOCQCAgowK58ZSUlKUmJhodgyXJCYm6uDBg5bMb+XskrXzWzm7lLv5+QcPcotVa427Hy84JgAACjKqnBszDEOGYZgdwyWGYSgxMdGS+a2cXbJ2fitnl6yfH+7JqrXG6n/frJ4fAIDcRCMEAAAAAAC4DRohAAAAAADAbdAIAQAAAAAAboNGiBuz2Wyy2Wxmx3CJzWaTr6+vJfNbObtk7fxWzi5ZPz/ck1VrjdX/vlk5v5WzAwCsgcfnujEvLy/5+vqaHcMlvr6+qlmzptkxXGLl7JK181s5u5T9/Ha7IQ8P/mGBvGXVWuPuxwsz5UV2jocA4N5ohLixmPgETViw1ewYAPJA+VKBGtqrpdkx4IaoNchvOB4CAGiEuLGUVLuOnYoxOwYAoACj1gAAgPyGe4QAAAAAAAC3QSMEAAAAAAC4DRohAAAAAADAbdAIAQAAAAAAboNGSA5466231LZtW4WFhWnIkCEKDQ3Vp59+mqU5Tp48qYiICJ09ezaXUgIAAAAAAJ4ak01HjhzRjBkzNHDgQLVr107FixfX9u3bszzPqVOnFBkZqbZt26p06dK5kDS9wt6ealGvUp5sC4C5Sgb5mx0Bbopag/yG4yEAgEZINh09elSS9PDDD+uOO+7QyZMnTU6UeQH+hTWsd2OzYwDII4bdLpsHJwIib1FrkB9xPAQA90YjJBvGjRunjRs3SpI6duwoSZoxY0a6caGhoRozZoyeeuopx7Lly5dr1qxZOnz4sHbt2qW+fftKkh566CHHmMOHD0uS4uPjNW/ePG3btk2xsbGqUaOGRowYoVatWmUrf8qlWB1c+WK25gBgDb7BZRXSbYDZMeCGqDXIbzgeAgBohGTDkCFDFBISonnz5ikyMlIlS5aUhwv/u1CrVi1NmjRJL774ombMmKEqVao43ktOTtYTTzyhCxcu6Pnnn1fp0qW1efNmDRo0SBs2bFBoaKjL+Y20VCWePe7y+gAA3A61BgAA5Dc0QrKhYsWKqlTp6nXPYWFhqlChgkuXxvj7+6tatWqSpOrVqys8PNzx3kcffaTff/9dH374oWNM69atdezYMS1evFgLFizIgU8CAAAAAIB74OLIfO77779XjRo1VLlyZaWmpjp+NW/eXPv37zc7HgAAAAAAlsIZIflcTEyMDh48qFq1aqV7r1ChQiYkAgAAAADAumiE5AFvb2+lpKQ4LYuLi8vUuoGBgQoNDdX06dNzIxoAAAAAAG6FRkgeKFOmjI4cOeK07IcffnB67eXlJUlKSkpyWt6iRQt9/fXXKlWqlEqXLp2juTy8fBQY1iRH5wSQP/kEljA7AtwUtQb5DcdDAACNkDxwzz33aOXKlapTp44qV66sTZs26fz5805jKleurEKFCumDDz5QoUKF5OnpqfDwcN1///1at26d+vbtqyeffFKVK1fWxYsXdfDgQaWkpGjkyJEu5/L0K6oq3Qdm9+MBsBC73e7S060AV1FrkF9xPAQA90UjJA8MGTJEFy5cUGRkpDw8PPTwww/rzjvv1Jw5cxxjgoKCNGnSJC1btkybN29WamqqDh8+LG9vb61atUoRERF6/fXXFRUVpWLFiqlmzZrq3bt3tnLFJMRp8ubZ2f14ACyiXGBpDWrT1+wYcDPUGuRHHA8BwL3RCMmmzp076/Dhw47XFSpUcHotSX5+fpoxY0a6dQcMGOD0+tFHH9Wjjz6abpy/v7/Gjx+v8ePH51Dqq1LTUvXPhaw/7hcAgMyi1gAAgPyG8wEBAAAAAIDboBECAAAAAADcBo0QAAAAAADgNmiEAAAAAAAAt0EjBAAAAAAAuA2eGuPGPAt5qlJwBbNjAMgj5QJLmx0Bbohag/yI4yEAuDcaIW6suF+gpvYYbXYMAHnIbrfLw4OTAZF3qDXIrzgeAoD74ujvxlJSUpSYmGh2DJckJibq4MGDlsxv5eyStfNbObuUM/n50o+8ZtVaw/HCPHmVneMhALgvKoAbMwxDhmGYHcMlhmEoMTHRkvmtnF2ydn4rZ5esnx/uyaq1xup/36yc38rZAQDWQCMEAAAAAAC4DRohAAAAAADAbdAIAQAAAAAAboNGiBuz2Wyy2Wxmx3CJzWaTr6+vJfNbObtk7fxWzi5ZPz/ck1VrjdX/vlk5v5WzS+Q3k5WzS9bPD1iJzeBOVG5p//79kqTw8HCTkwDIS3a7IQ8Pc75gJSQk6NChQwoLC5Ofn58pGVxl5ezS1fxm5KbWAEDBcqvvEWbVGsAVnmYHgHli4hM0YcFWs2MAyCPlSwVqaK+WZseAm6HWAEDBwPcIFCQ0QtxYSqpdx07FmB0DAFCAUWsAAEB+wz1CAAAAAACA26ARAgAAAAAA3AaNEAAAAAAA4DZohAAAAAAAALfBzVJz2cmTJ9WhQwctWLBAnTt3liS99dZbCgkJUZs2bUzNVtjbUy3qVTI1A4C8UzLI3+wIcEPUGgAoGPgegYKERkguK1WqlNavX6/KlSs7lq1atUpt27Y1vRES4F9Yw3o3NjUDgLxl2O2yeXAyIPIOtQYACg6+R6CgoBGSy7y9vVWvXr1c3UZSUpJ8fHyyvF7KpVgdXPliLiQCkB/5BpdVSLcBZseAm6HWAEDBwPcIFCQ0Qm5h3bp1WrJkiaKjo1WvXj2NGDFCDz/8sGbMmKEHH3xQoaGhGjNmjJ566inHOsuXL9esWbN0+PBhSekvjWnfvr1OnTqlt99+W2+//bYkOebbtGmT1q9fryNHjsgwDN15550aPXq06tSp45g/IiJCK1as0MqVKzV9+nQdPHhQw4cP19NPP53lz2ekpSrx7PFs7iUAAG6OWgMAAPIbGiE3sX37dk2ePFk9e/bUPffco0OHDmnkyJHZnjcyMlIDBw5UgwYN9OSTT0qSKlasKOlq0+T+++9XxYoVlZycrC1btuixxx7T5s2bFRIS4pgjJSVFo0aNUr9+/TRixAgFBgZmOxcAAAAAAO6ARshNvPbaa2rWrJmmTZsmSWrdurWSkpIUGRmZrXlr1qwpb29vlShRIt0lM8OGDXP83m63q2XLltq/f782btyoESNGON5LSUnRf//7X3Xp0iVbWQAAAAAAcDfc6SYDaWlpOnTokNq3b++0vEOHDrm63SNHjmjo0KFq0aKFwsLCVKtWLR09elTHjh1LN9bsG60CAAAAAGBFnBGSgejoaKWmpiooKMhpeXBwcK5t89KlS3ryyScVFBSkcePGqVy5cvLx8dHEiROVlJTkNNbX11d+fn65lgUAAAAAgIKKRkgGgoKC5OnpqejoaKflFy5ccHrt7e2tlJQUp2VxcXEubXPv3r06c+aMlixZojvvvNOx/OLFiypTpozTWJvN5tI2AAAAAABwdzRCMlCoUCGFhYVp+/bt6tevn2P5tm3bnMaVKVNGR44ccVr2ww8/3HZ+Ly+vdGd5XLlyxfHeNbt379apU6dUvXr1LH+GzPDw8lFgWJNcmRtA/uPp6292BLghag0AFAw+gSXMjgDkGBohNzF48GANGTJEEydOVOfOnXXw4EF9+OGHkiQPj6u3Vrnnnnu0cuVK1alTR5UrV9amTZt0/vz5285dpUoV7dy5U99//70CAgJUoUIF1atXT35+fpo6daoGDhyos2fPKjIyUqVLl861z+jpV1RVug/MtfkB5C92u12G3S6bB7eHQt6h1gBAwWK32x3/HgKsikbITXTo0EFTpkzRkiVLtHnzZtWtW1eTJ0/WgAED5O9/9X9VhwwZogsXLigyMlIeHh56+OGHdeedd2rOnDm3nHvEiBGaMmWKnn32WV2+fFkzZszQgw8+qAULFmjWrFkaMmSIKleurClTpmjZsmW59hljEuI0efPsXJsfQP5RLrC0BrXpa3YMuCFqDQAUHHyfQEFhMwzDcGXFn376STVr1lSRIkXSvXf58mUdPHhQjRs3znbA/OS9997TxIkTtX37dlWoUMHsONmyf/9+RV28oFWHN5odBUAeqBRcQVN7jDY1Q0JCgg4dOqSwsDDL3fDZytmlq/nNyE2tAYCC5VbfJ8yqNYArXD4jpG/fvlq/fr3q1KmT7r2jR4+qb9++OnToULbCmSk2NlaRkZFq1qyZihQpov379+v1119Xhw4dLN8EAQAAAADAXbncCLnViSSpqamWv27M09NTJ06c0Mcff6z4+HgVL15c9913n0aNGmV2NAAAAAAA4KIsNUIuXbqk+Ph4x+uoqCidPn3aacyVK1e0ceNGlShh7bsK+/v7a8mSJWbHAAAAAAAAOShLjZC33npLixYtkiTZbDYNGzYsw3GGYWjQoEHZTwcAAAAAAJCDstQIadmypfz8/GQYhmbPnq3HH39c5cqVcxrj7e2tGjVqqEmTJjkaFAAAAAAAILuy1AipX7++6tevL0lKTExUz549Vbp06VwJhtznWchTlYK58SvgDsoFcqyGOag1AFBw8H0CBYXLN0u92WUxsI7ifoGmP04TQN6x2+2Wv5E1rIdaAwAFC98nUBC43AiRpJMnT+qTTz7R6dOndeXKFaf3bDabXn755WyFQ+5KSUlRYmKifH19zY6SZYmJiTp69KhCQkIsl9/K2SVr57dydin7+fnSAjNYtda4+/HCTFbOLpHfTFbOLlknP98nUBC43Aj56quvNGzYMNntdgUFBcnb29vpfZvNlu1wyF2GYdzyMcj5mWEYSkxMtGR+K2eXrJ3fytkl6+eHe7JqrbH63zcr57dydon8ZrJydsn6+QErcbkR8uqrr6pBgwZ69dVXFRwcnJOZAAAAAAAAcoXL5zX9888/GjBgAE0QAAAAAABgGS43QsqVK6eEhISczAIAAAAAAJCrXG6EDBo0SCtWrFBiYmJO5gEAAAWIzWaz5H3DbDabfH19LZldsnZ+K2eXrJ8fANyBy/cI2b9/vy5cuKC7775bTZs2VfHixdONmThxYrbCAQAAa/Py8srXTz+4GV9fX9WsWdPsGC6zcn4rZ5dcy2+3G/LwoHECAHnF5UbImjVrHL//+OOP071vs9lohAAA4OZi4hM0YcFWs2MA+Vb5UoEa2qul2TEAwK243Aj5/fffczIHAAAogFJS7Tp2KsbsGAAAAA4u3yMEAAAAAADAalw+I+Sab7/9Vj/++KNiYmI0ZMgQlStXTr/++qsqVKigoKCgnMgIAAAAAACQI1xuhCQmJmrIkCHasWOH467YvXr1Urly5bRixQqVLVtWY8eOzbGgAAAAAAAA2eXypTGvvvqqDhw4oIiICP38888yDMPxXsuWLfXDDz/kSEAAAAAAAICc4vIZIZ9++qmGDx+uu+++W2lpaU7vlStXTv/++2+2wwEAAGsr7O2pFvUqmR0DyLdKBvmbHQEA3I7LjZDo6GhVq1Ytw/c8PDx05coVl0MBAICCIcC/sIb1bmx2DCBfM+x22Tx4hgEA5BWXGyGlS5fWH3/8oWbNmqV77/Dhw6pQoUK2glnVlStXVLhwYbNjAACQL6RcitXBlS+aHQPIt3yDyyqk2wCzYwCAW3G5EdKpUye9/vrratSokUJDQyVJNptNp06d0ltvvaUHH3wwx0Kaadu2bYqMjNSRI0cUEBCgTp06adSoUSpSpIh27dqlvn37asmSJdqwYYO+++47NW7cWEuWLNGZM2c0efJk7dixQ4GBgerXr59Onz6tr776Sl9++aUk6dy5c3r11Vf1448/KioqSmXKlFHnzp01bNgweXt7OzKEhoZq1KhRSkxM1Lp165SWlqb27dvrhRdekJ+fn1m7BgCA2zLSUpV49rjZMQAAABxcboQMHTpUO3bsUM+ePVW9enXZbDaNHz9ex48fV0hIiAYOHJiTOU2xfft2DRs2TJ07d9Z///tfnTx5UnPnztXRo0f11ltvOcZNmjRJPXr00KJFi2Sz2WQYhoYMGaLz58/rxRdfVNGiRbVs2TKdPn1ahQoVcqwXExOjYsWKafz48QoICNCxY8cUERGhqKgozZgxwynL22+/rYYNG2rmzJk6evSoZs+ereDgYI0aNSqvdgcAAAAAAJbnciPE399f69at06pVq/TVV1+pYsWK8vX11aBBg9SvX78CcXlIZGSkwsPDNX/+fMeywMBAjRw5Urt27XIs69Chg1ND4uuvv9Zvv/2mt99+W40aNZIkNW3aVHfddZeKFSvmGBcaGur0iOEGDRrI19dX48aN06RJk+Tr6+t4r0SJEpo7d64k6a677tL+/fv12Wef0QgBAAAAACALXG6ESFLhwoU1cODAAnH2x40uX76sQ4cOacyYMU7LO3furLFjx+rnn392NDnatGnjNGb//v0KCAhwvC9dbRw1bdpUhw8fdiwzDEMrV67Uu+++q5MnTyopKcnx3okTJ1SjRg3H65YtWzpto1q1avrss8+y/0EBAAAAAHAj2WqEFGQXL16UYRgqUaKE03JPT08VK1ZMcXFxjmVBQUFOY86dO5dumSQFBwc7vV65cqVeeeUVPf3002ratKkCAgK0f/9+vfjii05NEUkKCAhweu3l5aXk5GSXPhsAAAAAAO4qW42Qbdu2afPmzTp9+nS6f7jbbDZt3rw5W+HMVLRoUdlsNl24cMFpeWpqqmJjYxUYGOhYZrPZnMaUKlVK0dHR6ea8ca5PP/1U7du318iRIx3Ljhw5khPxAQAAAABABlxuhCxbtkxz5sxRUFCQ4/4gBUmRIkUUFhamTz75RE888YRj+eeff67U1FSny15uFB4ervj4eP30009q3LixJOnSpUvatWuX0z1Crly5Ii8vL6d1P/roo5z9IAAAmMjDy0eBYU3MjgHkWz6BJW4/CACQo1xuhKxdu1b/+c9/9OKLLzo9CaUgGTZsmIYOHaoRI0bo/vvv14kTJzRv3jw1b95cTZs2dbph6vXuuusu1apVSyNHjtSIESMUEBCgN954w3GWyTUtWrTQqlWrtGbNGlWuXFkfffSR/vnnn7z6eAAA5DpPv6Kq0r3g3UsMyGl2u10eHh5mxwAAt+ByIyQ2NlbdunUrsE0Q6erTYCIiIrRo0SINGTJEAQEB6tGjx22f1GKz2bR48WJNmjRJkyZNUkBAgPr27as///xTf/75p2Pc0KFDFRMTo4ULF0qS7rnnHk2cOFHPPPNMrn4uAADySkxCnCZvnm12DCBfKxdYWoPa9DU7BgC4DZcbIQ0aNNDff/+t5s2b52SefOfuu+/W3XffneF7Nz4F5nplypTR0qVLHa+Tk5PVpUsXNWnyf6cHFylSRDNmzEi37o1zZrSNp556Sk899VSmPgMAAGZJTUvVPxdOmh0DAADAweVGyIQJEzRs2DCVKVNGrVu3lre3d07msrz169fLbrcrJCRE8fHxeuedd/Tvv/+qd+/eZkcDAAAAAMBtudwIqVSpklq0aKFhw4bJZrOpcOHCTu/bbDb98ssv2Q5oVT4+PnrjjTd08uTV/wW78847tWTJEoWHh5ucDAAAAAAA9+VyI2T27Nlas2aNwsLCVKVKFc4IucH999+v+++/3+wYAAAAAADgOi43QjZu3KgBAwZo5MiROZkHAAAAAAAg17j8jK60tDS1aNEiJ7MAAAAAAADkKpfPCGnZsqX27dtX4J8aAwAAXOdZyFOVgiuYHQPI18oFljY7AgC4FZcbIUOGDNF///tf+fr6qm3btgoMDEw3plixYtnJBgAALK64X6Cm9hhtdgwg37Pb7fLwcPlkbQBAFrjcCLnvvvskSTNnztTMmTMzHHPo0CFXpwcAAAVASkqKEhMT5evra3aULElMTNTRo0cVEhJiueyStfNbObvken6aIACQd1xuhAwdOlQ2my0nswAAgALGMAwZhmF2jCwzDEOJiYmWzC5ZO7+Vs0vWzw8A7sDlRsizzz6bkzkAAAAAAAByHefgAQAAAAAAt+HyGSGRkZG3fN9ms2no0KGuTo88YLPZLHt5k81mk6+vryXzWzm7ZO38Vs4uWT8/3JNVa43V/75ZOb+Vs0vkN5OVs0vWzw9Yic1w8QLGO++889YT22zcLDUf279/vyQpPDzc5CQAcovdbsjDI/98mUpISNChQ4cUFhYmPz8/s+NkiZWzS1fzm5GbWgMA+U9ufT8wq9YArnD5jJDff/893bLY2Fht27ZNK1eu1NKlS7MVDLkvJj5BExZsNTsGgFxQvlSghvZqaXYMgFoDAPkI3w+Aq1xuhGSkWLFieuihhxQdHa1p06Zp0aJFOTk9clhKql3HTsWYHQMAUIBRawAAQH6TKzdLDQ8P144dO3JjagAAAAAAAJflSiPk8OHDXB8GAAAAAADyHZcvjdm0aVO6ZcnJyTp8+LA++OAD9ejRIzu5AAAAAAAAcpzLjZBx48ZluNzHx0c9evTQmDFjXA4FAAAAAACQG1xuhGzfvj3dMh8fH5UoUSJbgQAAAAAAAHKLS42QpKQkrV+/Xp06dVLt2rVzOpMl9enTR35+flqyZInZUTKtsLenWtSrZHYMALmgZJC/2REASdQaAMhP+H4AXOVSI8THx0dvvfWWWrdundN5LGvy5Mny8MiVe8/mmgD/whrWu7HZMQDkEsNul81ixyUUPNQaAMhf+H4AZOPSmKpVq+rkyZNq3JgvN5JUrVo1syNkWcqlWB1c+aLZMQDkAt/gsgrpNsDsGAC1BgDyEb4fAFe53AgZMmSIZs+erYYNG6pixYo5mSnfGTdunA4cOKDRo0dr9uzZ+ueff1S9enVNmjRJ9erVk5T+0pgjR44oMjJSu3fvVmxsrMqXL6+HHnpI/fv3d5w5cvLkSXXo0EGzZs3Svn379NFHH8nHx0fdu3fXyJEj5en5f388P//8s+bOnavffvtNvr6+uuuuuzR27Nhs3ZPFSEtV4tnjru8YAABug1oDAADyG5cbIR988IESExN17733qkaNGipVqpTT+zabTa+99lq2A+YXUVFRmjp1qp599lkFBATojTfe0FNPPaXPP/9cwcHB6cafO3dOISEh6t69u4oUKaJDhw4pIiJCCQkJGjZsmNPY+fPnq0OHDpo/f752796tyMhIVaxYUb169ZIkHThwQP3791ejRo00f/58xcXFae7cuerXr582bNggHx+fPNkHAAAAAABYncuNkD/++ENeXl4qVaqUYmNjFRsbm4Ox8p/Y2FjNnz9fzZs3lyQ1btxYbdq00cqVKzVixIh045s3b+4YaxiGGjZsqCtXrmjNmjXpGiF16tTRxIkTJUktW7bUDz/8oM8++8zRCHn99dcVHByspUuXytvbW5JUuXJlPfroo/r444/14IMP5trnBgAAAACgIHG5EfLll1/mZI58r2jRoo7GhiQFBASoWbNm2rt3b4bjk5KStGTJEn300Uf6999/lZKS4njv8uXLKlKkiON1q1atnNatVq2afvrpJ8frn3/+WV27dnU0QSSpfv36Kl++vH7++WcaIQAAAAAAZJLLtwv+6aefdPny5QzfS0hIcPqHfEEQFBSUbllwcLCioqIyHD979mwtX75cPXv21NKlS/X+++9r8ODBkq42Sa5XtGhRp9deXl5KTk52vI6Pj8/wXiAlSpRQXFxclj8LAAAAAADuyuVGSN++fXXkyJEM3/v777/Vt29fl0PlR9HR0emWXbhwQSVLlsxw/KeffqpHHnlEAwcOVIsWLRQeHu5089OsCAwM1IULF9ItP3/+vAIDA12aEwAAAAAAd+TypTGGYdz0vdTUVMeTUQqKixcvaseOHY7LYy5evKidO3fq8ccfz3B8UlKSvLy8HK/T0tL08ccfu7Tthg0batu2bRo7dqxjzn379unUqVNq1KiRS3NKkoeXjwLDmri8PoD8y9PX3+wIgCRqDQDkJz6Brj9xEihIstQIuXTpkuLj4x2vo6KidPr0aacxV65c0caNG7P1WNf8qFixYvrf//6n5557TkWLFtUbb7whSerXr1+G41u0aKH33ntP1apVU1BQkN5++22ny12y4plnntGjjz6qgQMHqm/fvo6nxlSrVk1du3Z1+TN5+hVVle4DXV4fQP5lt9tl2O2yFbCmNKyHWgMA+Yvdbi9w/2kNZFWWGiFvvfWWFi1aJOnq43FvfPrJNYZhaNCgQdlPl4+ULFlSo0aN0qxZs3T8+HFVr15dy5cvv2nD54UXXtDkyZP10ksvydfXVw888IDuvvtux9NhsqJ27dp68803NXfuXD333HPy9fXVXXfdpbFjx2br0bkxCXGavHm2y+sDyJ/KBZbWoDYF6/JEWBe1BgDyD74jAFdlqRHSsmVL+fn5yTAMzZ49W48//rjKlSvnNMbb21s1atRQkyYF7zTYtm3bqm3bthm+t3r1aqfXJUqUcDSNrtezZ0/H7ytUqKDDhw+nGzNp0iRNmjTJaVnjxo21bt06F1LfXGpaqv65cDJH5wQA4HrUGgAAkN9kqRFSv3591a9fX5KUmJionj17qnTp0rkSDAAAAAAAIKe5fHHYsGHD0jVBkpKSdOTIEaWlpWU7GAAAAAAAQE5z+akxq1evVnx8vIYOHSpJOnDggJ5++mnFxcWpfPnyWr16tcqWLZtjQc00c+ZMsyMAAAAAAIAc4PIZIe+9954CAgIcr+fMmaPAwECNHz9ehmHotddey5GAAAAAAAAAOcXlM0L+/fdfValSRdLVx+r+/PPPmjdvnjp16qSAgAAtXLgwx0ICAAAAAADkBJcbIcnJyfL0vLr63r17Zbfb1aJFC0lXn4Zy/vz5nEmIXONZyFOVgiuYHQNADisXyE2skX9QawAg/+A7AnCVy42QsmXL6ueff1bTpk21fft23XnnnfL395ckRUdHO36P/Ku4X6Cm9hhtdgwAucBut8vDw+WrH4EcQ60BgPyF7whANu4R0qNHDy1evFgPPvig1q9frx49ejjeO3DggCpXrpwT+ZCLUlJSlJiYaHYMlyQmJurgwYOWzG/l7JK181s5u5S1/HzBQX5h1VrjTseL/MbK2SXym8nK2aW8y893BCAbZ4QMHjxYnp6e2r17tzp27Ki+ffs63vvjjz/UqVOnHAmI3GMYhgzDMDuGSwzDUGJioiXzWzm7ZO38Vs4uWT8/3JNVa43V/75ZOb+Vs0vkN5OVs0vWzw9YicuNEJvNpoEDB2b43uuvv+5yIAAAAAAAgNzCeVEAAAAAAMBtuHxGiCR9+OGH2rJli06fPq0rV644vWez2bRt27ZshUPustlsstlsZsdwic1mk6+vryXzWzm7ZO38Vs4OWJVVa43VjxdWzm/l7BL5zWTl7ADylsuNkKVLl2revHmqVq2a7rzzTnl7e+dkLuQBLy8v+fr6mh3DJb6+vqpZs6bZMVxi5eyStfNnlN1uN+ThwRcmILdYtdZY+VgnWTu/lbNL5DfTtexpdrvZUQDkcy43Qt5991099thjeuGFF3IyD/JQTHyCJizYanYMwDTlSwVqaK+WZscACjRqDYC8RG0HkBkuN0LOnz+vjh075mQW5LGUVLuOnYoxOwYAoACj1gAAgPzG5Zul1qpVSydOnMjJLAAAAAAAALnK5UbIuHHjtGLFCh04cCAn8wAAAAAAAOQaly+NmTBhgmJjY9WzZ0+VKFFCxYoVc3rfZrNp8+bN2c0HAAAAAACQY1xuhBQrVixd8wMAAAAAACA/c7kRsnr16pzMYRnjxo3TgQMHtGXLFrOjAAAAAACALMpSI+T06dMqWbKkvLy8dPr06duOL1eunMvBkPsKe3uqRb1KZscATFMyyN/sCECBR60BkJeKFvExOwIAC8hSI6RDhw5av3696tSpo/bt28tms91y/KFDh7IVDrkrwL+whvVubHYMwHSG3S6bh8v3jgZwC9QaAHnJsNuVZrerEHUdwC1kqRHy8ssv64477nD8/naNkMz4888/NWvWLP3666+6cuWKypQpo4ceekgDBgzQnj17tGTJEh04cECXLl1SpUqV9MQTT+j+++93rD99+nRt2rRJH330kcqUKSNJ2rt3r3r37q3//e9/euyxxyRJ69ev11tvvaUTJ06oRIkSuu+++/Tss8/K0/PqLtiwYYPGjx+v9evXa968edq3b5+Cg4M1ZMgQPfTQQ+ly79q1SzNmzNCxY8dUrVo1TZkyRbVr13a8n5SUpFdffVUff/yxYmJiFBISooEDB6p79+6OMdcus3nhhRduOZdhGFqxYoXeffddnTp1SqVLl1afPn3Uv3//bO37lEuxOrjyxWzNAVidb3BZhXQbYHYMoMCi1gDIK9dqesqVKypUuLDZcQDkY1lqhDzwwAOO3z/44IM5EmDw4MEKDg7W9OnT5e/vr+PHj+vMmTOSrl6K06BBA/Xq1Uve3t7avXu3Jk6cKEmOZsioUaP0/fffa9y4cXrzzTeVmJioMWPGqHnz5o4myOrVqzVt2jT17t1bEyZM0G+//abIyEhFRUXp5ZdfdsozYsQIPfLIIxowYIC2bt2q//3vfypVqpTuuusux5ioqChNmzZNAwcOlL+/v+bOnathw4bpiy++kJeXlyPX119/reeff17Vq1fX1q1bNWrUKKWlpTk1cjIz1/Tp0/Xee+/pmWeeUd26dbV7927NmTNHPj4+6tWrl8v73khLVeLZ4y6vDwDA7VBrAOQ1wzDMjgAgn3P5Zqk5ITo6WidOnNCECRPUvn17SVKzZs0c73ft2tXxe8Mw1LhxY509e1br1q1zNBN8fHw0a9YsPfroo1q9erWOHDmiuLg4x81c09LStGjRInXu3FmTJ0+WJLVu3Vo2m02vvvqqBg8e7DjLRZLuu+8+DRo0yDHu+PHjWrx4sVMjJC4uTmvWrFH16tUdGZ544gnt27dPjRo10u+//67PP/9ckyZNcjRjWrdurXPnzmnhwoVOjZDbzXX8+HGtWbNGU6dO1SOPPCJJatGihRISErRo0SI98sgj8uDUPwAAAAAAMsXUf0EXL15c5cuX17x587Rx40bHmSDXxMXFadq0aWrXrp1q1aqlWrVqaf369Tp69KjTuNq1a2vw4MGaNWuW1q1bp8mTJ6t06dKSpL///lsxMTG69957ndbp2rWrDMPQL7/84rT87rvvTvf6wIEDSktLcywrVaqUo3EhSVWrVpUknT17VpIcc2a0zVOnTunff//N9Fw//PCDJKlTp05KTU11/GrevLmioqKc5gIAAAAAALdm6hkhNptNy5Yt0/z58/Xiiy8qISFBtWrV0vjx49W4cWONGzdOe/bs0dChQ1WtWjX5+/vrnXfe0SeffJJurq5duyoiIkKlSpVyambExcVJkkqUKOE0vmTJkk7vXxMcHOz0OigoSCkpKYqJiXHMERAQ4DTm2iUsSUlJjjk9PT1VvHhxp3HX1o+Li1PZsmUzNVdMTIwMw3A6U+Z6//77r8qXL5/hewAAAAAAwJmpjRBJqlKlihYuXKiUlBTt2bNH8+bN0zPPPKNvvvlGX3/9tcaOHas+ffo4xq9duzbdHHa7Xf/73/8UEhKi06dPa/HixRo+fLgkqVixYpKkCxcuOK0TFRUlSQoMDHRafuHCBcfZJNLVy3e8vLzSNTVuJTAwUKmpqYqNjXVsX5LOnz+f4TZvN5fNZtPatWsdTZLrhYSEZHouAAAAAADcXb65uYSXl5eaNGmigQMH6tKlSzpx4oTS0tKc/vF/6dIlffnll+nWXb58ufbt26f58+dr5MiRWrp0qX799VdJVxsFQUFB6c4i2bp1q2w2mxo2bOi0/Isvvkj3ulatWipUqFCmP8u1OTPaZvny5R1ng2RG8+bNJUmxsbEKDw9P98vf3z/TcwEAAAAA4O5MPSPk999/1yuvvKJ7771Xd9xxhy5duqQlS5aofPnyql69usLDw/XGG28oKChInp6eWrp0qfz9/RUdHe2Y4/Dhw1qwYIGee+45hYaGqkaNGvryyy81evRoffjhhypcuLCGDh2ql156SUFBQWrXrp0OHjyohQsX6sEHH3S6Uaokxzo1a9bU1q1b9fPPP2vp0qVZ+lx33nmn7rnnHs2cOVNXrlxRtWrV9Mknn+jbb7/VK6+8kqW5QkJC9Nhjj2nMmDF66qmnVLduXaWkpOjYsWPatWuXFi9enKX5rufh5aPAsCYurw8UBJ6+NBOB3EStAZBXfAKvXoZus9lMTgIgvzO1EVKyZEmVKFFCS5Ys0dmzZ1W0aFE1atRIs2fPVqFChTR37ly98MILGjdunIoVK6Y+ffooISFBK1askCQlJydr9OjRql27tp5++mlJVw98M2fOVPfu3TV79my98MILevzxx+Xp6am33npL69evV3BwsJ566ik9++yz6TLNnTtX8+bN06JFixQcHKyXXnpJbdq0yfJnmz17tl599VUtX75csbGxqly5smbPnq0ePXpkea6JEycqJCRE69ev16JFi+Tn56eQkBB16dIly3Ndz9OvqKp0H5itOQCrs9vtMux22Xj6EpArqDUA8pqXt7fZEQDkczaDB21LkjZs2KDx48drx44dCgoKMjtOrtu/f79iEuK0/ewOs6MApikXWFqD2vQ1O0amJSQk6NChQwoLC5Ofn5/ZcbLMyvmtnF26mt+M3NQaAHnNarX9etQaIO+YfrNUmCc1LVX/XDhpdgwAQAFGrQEAAPkN54IDAAAAAAC3QSPk//fggw/q8OHDbnFZDAAAAAAA7opGCAAAAAAAcBs0QgAAAAAAgNvgZqluzLOQpyoFVzA7BmCacoGlzY4AFHjUGgB5idoOIDNohLix4n6BmtpjtNkxAFPZ7XZ5eHByHJBbqDUA8lqa3a5C1HYAt8ARwo2lpKQoMTHR7BguSUxM1MGDBy2Z38rZJWvnzyg7TRAgd1m11lj5WCdZO7+Vs0vkN9O17MlJSWZHAZDP8S8AN2YYhgzDMDuGSwzDUGJioiXzWzm7ZO38Vs4OWJVVa43VjxdWzm/l7BL5zWTl7ADyFo0QAAAAAADgNmiEAAAAAAAAt0EjBAAAAAAAuA0aIW7MZrPJZrOZHcMlNptNvr6+lsxv5eyStfNbOTtgVVatNVY/Xlg5v5WzS+QHACvg8bluzMvLS76+vmbHcImvr69q1qxpdgyXWDm7ZO38Vsxutxvy8ODLKKzLqrXGiseL61k5v5WzSwU/P3UJQEFAI8SNxcQnaMKCrWbHAHAT5UsFamivlmbHALKFWgMUHNQlAAUFjRA3lpJq17FTMWbHAAAUYNQaAACQ33CPEAAAAAAA4DZohAAAAAAAALdBIwQAAAAAALgNGiEAAAAAAMBtFMhGyLZt2/T222+bHSNX7Nq1S6+//rrZMQAAAAAAsKQC+dSYbdu26cCBA3rsscfMjpLjfvzxR61YsULPPPNMtucq7O2pFvUq5UAqALmhZJC/2RGAbKPWAAUHdQlAQVEgGyGZYRiGUlJS5O3tbXYU0wT4F9aw3o3NjgHgFgy7XTaPAnnyHtwEtQYoWKhLAAqCAtcIGTdunDZu3ChJCg0NlSQ98MADkqQDBw5o9OjRmjt3rv7++2/Nnj1biYmJGj9+vHbs2KGgoCDHPN26dVPt2rU1c+ZMx7wHDhzQ2LFjNWvWLP3zzz+qXbu2XnnlFRUtWlRTpkzRN998o6CgII0YMUL33nuvY64+ffrIz89PXbp0UWRkpM6dO6e6detq6tSpqlKlimOcYRhasWKF3n33XZ06dUqlS5dWnz591L9/f0lSRESEIiMjnT5bkyZNtHr1apf2VcqlWB1c+aJL6wLIfb7BZRXSbYDZMYBsodYABQd1CUBBUeAaIUOGDFF0dLT+/vtvzZkzR5IUFBSkxYsX69y5c5o+fboGDx6sMmXKqGzZstq9e3em546KitKcOXM0ePBgeXp6atq0aRo9erT8/PzUsGFD9ezZU++++65Gjx6tunXrqnz58o51f/vtNx0/flwjR46UJM2fP19PP/20Pv30U8dZKdOnT9d7772nZ555RnXr1tXu3bs1Z84c+fj4qFevXurZs6fOnDmjLVu2aOXKlZIkf3/XT1E00lKVePa4y+sDAHA71BoAAJDfFLhGSMWKFRUUFKTTp0+rXr16Tu/FxcVp2bJlqlOnjmNZVhohcXFxWrt2rapWrSpJOnfunF566SUNGDBAQ4cOlSSFh4friy++0LZt29SvXz/HuhcuXNCaNWtUuXJlSVJYWJi6dOmijRs36pFHHtHx48e1Zs0aTZ06VY888ogkqUWLFkpISNCiRYv0yCOPqEyZMipTpow8PDzSfTYAAAAAAHB7bnWBX/HixZ2aIFlVqlQpRxNEkqOp0aJFC8eygIAABQUF6cyZM07rVq9e3TH+2rrVq1fX3r17JUk//PCDJKlTp05KTU11/GrevLmioqL077//upwbAAAAAABcVeDOCLmV4ODgbK0fEBDg9NrLy0uSVLRoUafl3t7eSkpKuu22g4ODFRUVJUmKiYmRYRhq1qxZhtv+999/nS61AQAAAAAAWedWjRCbzZZumY+PjyQpJSXFaXlsbGyObvvChQsZLqtVq5YkKTAwUDabTWvXrnU0WK4XEhKSo3kAAAAAAHBHBbIR4uXlle6MjJspXbq0JOnvv/92/P6PP/7Q+fPnczTTn3/+qWPHjjkujzl27Jj+/PNP9e7dW5LUvHlzSVcbMO3bt7/pPF5eXkpOTs7RbAAAAAAAuIsC2QipWrWqPvjgA23ZskWVKlVS8eLFbzq2bt26Klu2rF5++WWNHDlSly5d0tKlSxUYGJijmYKDgzV48GANHz5chmFowYIFKl26tOPRviEhIXrsscc0ZswYPfXUU6pbt65SUlJ07Ngx7dq1S4sXL3Z8ttTUVK1cuVL169eXv7+/0yN4s8LDy0eBYU1y7DMCyFmevq4/FQrIL6g1QMHhE1jC7AgAkCMKZCPkoYce0q+//qqXXnpJsbGxjmZDRry8vBQZGakpU6Zo+PDhqlixoiZMmKDp06fnaKZatWqpU6dOmjVrlqKiolS3bl1NnTrVcWmOJE2cOFEhISFav369Fi1aJD8/P4WEhKhLly6OMe3atVPv3r21dOlSXbhwQY0bN9bq1atdyuTpV1RVug/M9mcDkDvsdrsMu102D7e6rzUKGGoN4B7sdrs8qFcALMJmGIZhdoiCrk+fPvLz89OSJUvMjuKwf/9+xSTEafvZHWZHAZCBcoGlNahNX6dlCQkJOnTokMLCwuTn52dSMtdZOb+Vs0tX85uRm1oDuIeMapYZCsKx2ur5rZgb7qlAnhGCzElNS9U/F06aHQMAUIBRawAAQH7D+WsAAAAAAMBtcEZIHnD1Hh4AAAAAACBncUYIAAAAAABwGzRCAAAAAACA2+DSGDfmWchTlYIrmB0DQAbKBZY2OwKQI6g1QMFHzQJgNTRC3Fhxv0BN7THa7BgAbsJut8vDgxP3YG3UGsA9ULMAWAlHKzeWkpKixMREs2O4JDExUQcPHrRkfitnl6yd32rZ+UKJgsCqtcZqx4sbWTm/lbNL7pufmgXASjhiuTHDMGQYhtkxXGIYhhITEy2Z38rZJWvnt3J2wKqsWmusfrywcn4rZ5fIDwBWQCMEAAAAAAC4DRohAAAAAADAbdAIAQAAAAAAboNGiBuz2Wyy2Wxmx3CJzWaTr6+vJfNbObtk7fxWzg5YlVVrjdWPF1bOb+XsEvnNZOXsAPIWj891Y15eXvL19TU7hkt8fX1Vs2ZNs2O4xMrZJWvnz83sdrshDw++eAE3smqtsfKxTrJ2fitnl8hvpuxkp44D7oVGiBuLiU/QhAVbzY4BWF75UoEa2qul2TGAfIlaAyC/o44D7odGiBtLSbXr2KkYs2MAAAowag0AAMhvuEcIAAAAAABwGzRCAAAAAACA26ARAgAAAAAA3AaNEAAAAAAA4DZohOSQiIgI1a9fP8vr9enTR4MGDXK83rBhg0JDQxUdHZ2T8QAAAAAAgHhqTI7p2bOn2rRpk+152rZtq/Xr1ysgICAHUt1aYW9PtahXKde3AxR0JYP8zY4A5FvUGgD5HXUccD80QnJImTJlVKZMmWzPExQUpKCgoBxIdHsB/oU1rHfjPNkWUNAZdrtsHpxkB9yIWgPACqjjgHuhEZIJGzZs0MSJE/XNN9+oRIkSjuWxsbFq1aqVxo8fr+joaK1YsUJ79uxxvH/69GnNnDlTP/zwg1JSUlS3bl2NHj1a4eHht9zW+PHjtWPHDgUFBenkyZPq0KGDZs2apX379umjjz6Sj4+PunfvrpEjR8rT0/U/wpRLsTq48kWX1wdwlW9wWYV0G2B2DCBfotYAyO+o44D7oRGSCZ06ddKUKVP06aef6vHHH3cs//zzz2UYhrp06aK3337baZ1Lly45xk6aNEl+fn5atmyZ+vbtq/fff19Vq1bNUob58+erQ4cOmj9/vnbv3q3IyEhVrFhRvXr1cvlzGWmpSjx73OX1AQC4HWoNAADIbzj/KxP8/f3Vpk0bbdmyxWn5li1b1KxZswwvZdmwYYNOnz6tJUuWqEePHurYsaOWL18ub29vvfHGG1nOUKdOHU2cOFEtW7bUs88+qwYNGuizzz5z+TMBAAAAAOCOaIRkUteuXbV3716dPn1akhQVFaWffvpJ3bt3z3D8zz//rOrVq6t69eqOZUWKFFG7du30888/Z3n7rVq1cnpdrVo1nTlzJsvzAAAAAADgzmiEZFK7du1UpEgRffzxx5KkrVu3ysvLSx07dsxwfHx8vNP9RK4pUaKE4uLisrz9okWLOr328vJScnJylucBAAAAAMCd0QjJJB8fH3Xs2FFbt26VdLUR0rZtW/n7Z/y4rcDAQJ0/fz7d8vPnzyswMDBXswIAAAAAgIxxs9Qs6Nq1qzZt2qRvv/1We/fuVURExE3HNmzYUJ999pn++usvVatWTZKUkJCg//f//p/atWuXV5FvycPLR4FhTcyOAVieT2D6s78AXEWtAZDfUccB90MjJAtatGihoKAgTZgwwXED1Zt58MEH9dZbb2nQoEF6/vnnHU+NSUpK0oAB+ePxXJ5+RVWl+0CzYwAFgt1ul4cHJ9kBN6LWALAC6jjgXmiEZIGnp6c6d+6stWvX6oEHHpCPj89Nx/r7+2vNmjWaOXOmpkyZotTUVNWpU0erVq3K8qNzc0tMQpwmb55tdgzA8soFltagNn3NjgHkS9QaAPkddRxwPzbDMAyzQyDv7d+/X1EXL2jV4Y1mRwEsr1JwBU3tMTrXt5OQkKBDhw4pLCxMfn5+ub69nGbl/FbOLl3Nb0Zuag0AK8irOn471Bog73D+FwAAAAAAcBs0QgAAAAAAgNugEQIAAAAAANwGjRAAAAAAAOA2aIQAAAAAAAC3weNz3ZhnIU9VCq5gdgzA8soFljY7ApBvUWsA5HfUccD90AhxY8X9AvPFo8KAgsBut8vDg5PsgBtRawBYAXUccC/8bXdjKSkpSkxMNDuGSxITE3Xw4EFL5rdydsna+XMzO1+egIxZtdZY+VgnWTu/lbNL5DdTdrJTxwH3wt94N2YYhgzDMDuGSwzDUGJioiXzWzm7ZO38Vs4OWJVVa43VjxdWzm/l7BL5zWTl7ADyFo0QAAAAAADgNmiEAAAAAAAAt0EjBAAAAAAAuA0aIW7MZrPJZrOZHcMlNptNvr6+lsxv5eyStfNbObtEfjNZObvZrFprrP5nbuX8Vs4ukd9MVs4uWT8/YCU2g7sJuaX9+/dLksLDw01OAgDuyW435OGRN192ExIS5Ofnlyfbuh61BgDyXl7Wl+uZVWsAV3iaHQDmiYlP0IQFW82OAQBup3ypQA3t1dLsGHmCWgMAeced6guQHTRC3FhKql3HTsWYHQMAUIBRawAAQH7DPUIAAAAAAIDboBECAAAAAADcBo0QAAAAAADgNmiEAAAAAAAAt8HNUvPQyZMn1aFDBy1YsECdO3c2O44Ke3uqRb1KZscAALdTMsjf7Ah5hloDAHnHneoLkB02wzAMs0O4i+TkZB08eFCVK1dWsWLFTM2yf/9+SVJ4eLipOQDAXRl2u2weeXNiZkJCgvz8/PJkW9ej1gBA3svL+nI9s2oN4AoaIW5q//79SrkUq8J//D+zowCA2/ENLquQbgPybHtmNkKoNQCQd/K6vlyPRgishEtjMmHDhg2aOHGivvnmG5UoUcKxPDY2Vq1atdL48eP12GOPadu2bYqMjNSRI0cUEBCgTp06adSoUSpSpIikm18as2nTJr311ls6cuSI/Pz8VKdOHU2ZMkXly5eXJJ05c0Zz5szRt99+q8TERIWHh2v8+PGqXbt2tj6XkZaqxLPHszUHAAC3Qq0BAAD5DTdLzYROnTrJ09NTn376qdPyzz//XIZhqEuXLtq+fbuGDRumypUrKzIyUkOGDNGHH36ooUOH3nLuZcuWaezYsapVq5YiIyM1ffp0VapUSdHR0ZKkuLg49e7dW7///rteeOEFRUREyNfXV/369dOFCxdy7TMDAAAAAFAQcUZIJvj7+6tNmzbasmWLHn/8ccfyLVu2qFmzZgoKClJkZKTCw8M1f/58x/uBgYEaOXKkdu3apaZNm6ab9+LFi4qMjNQjjzyiF1980bG8Y8eOjt+vXLlS8fHxeu+99xQcHCxJat68ue6++24tX75cY8aMyYVPDAAAAABAwcQZIZnUtWtX7d27V6dPn5YkRUVF6aefflL37t11+fJlHTp0SF26dHFap3PnzvL09NTPP/+c4Zx79uxRYmKiHnrooZtu9/vvv1fTpk0VGBio1NRUpaamysPDQ40aNXLchA4AAAAAAGQOZ4RkUrt27VSkSBF9/PHHGjBggLZu3SovLy917NhRFy9elGEYTvcPkSRPT08VK1ZMcXFxGc4ZGxsrSSpVqtRNtxsTE6O9e/eqVq1a6d6rWLGi6x8IAAAAAAA3RCMkk3x8fNSxY0dt3brV0Qhp27at/P39ZbPZZLPZ0t2zIzU1VbGxsQoMDMxwzmuP0D137pzKlCmT4ZjAwEC1bt1aw4cPT/eet7d39j4UAAAAAABuhkZIFnTt2lWbNm3St99+q7179yoiIkKSVKRIEYWFhemTTz7RE0884Rj/+eefKzU1VY0aNcpwvvr168vX11cffPCB6tSpk+GYFi1aaPPmzapatWqOP47Kw8tHgWFNcnROAMDtefr6mx0hz1BrACDv+ASWuP0gADRCsqJFixYKCgrShAkTHDdQvWbYsGEaOnSoRowYofvvv18nTpzQvHnz1Lx58wxvlCpJRYsW1dChQzVnzhzZ7XZ17NhRdrtdu3btUteuXRUeHq7+/fvro48+0uOPP66+ffuqXLlyio6O1r59+1S6dGn179/f5c/j6VdUVboPdHl9AIBr7Ha7DLtdNo+Cf6suag0A5C273S4PN6gvQHbQCMkCT09Pde7cWWvXrtUDDzwgHx8fx3sdOnRQRESEFi1apCFDhiggIEA9evTQqFGjbjnngAEDFBQUpLfeeksbN25UkSJFVL9+fccTYooXL67169dr/vz5mjNnjmJjYxUcHKy6devq7rvvztbniUmI0+TNs7M1BwAga8oFltagNn3NjpFnqDUAkHfcrcYArrIZhmGYHQJ5b//+/Yq6eEGrDm80OwoAuJVKwRU0tcfoPN1mQkJCjl9emRnUGgDIW2bUmGvMqjWAKzhnCgAAAAAAuA0aIQAAAAAAwG3QCAEAAAAAAG6DRggAAAAAAHAbNEIAAAAAAIDb4PG5bsyzkKcqBVcwOwYAuJVygaXNjpCnqDUAkHfcrcYAruLxuW5q//79kqTw8HCTkwCA+7Hb7fLwyLuTMs18fK5ErQGAvJTXNeYaHp8LK+HSGDeWkpKixMREs2O4JDExUQcPHrRkfitnl6yd38rZJfKbKaezm/EF1SxWrTVW/nmVrJ3fytkl8pvJytmlnMvvTjUGcBVnhLip3bt3yzAMeXl5yWazmR0nywzDUEpKiiXzWzm7ZO38Vs4ukd9MVs4uXc3v4+Oj0NDQPN2ulWtNQfgzt2p+K2eXyG8mK2eXCkZ+M2oN4AruEeKmrh1crXiQla7m9vb2NjuGS6ycXbJ2fitnl8hvJitnl8w71lu51hSEP3Or5rdydon8ZrJydqlg5AesgjNCAAAAAACA2+ACMgAAAAAA4DZohAAAAAAAALdBIwQAAAAAALgNGiEAAAAAAMBt0AgBAAAAAABug0YIAAAAAABwGzRCAAAAAACA26ARAgAAAAAA3AaNEAAAAAAA4DZohAAAAAAAALdBIwQAAAAAALgNT7MDIHuOHj2qadOm6ZdffpGvr6+6du2qUaNGqXDhwrddNzY2VvPnz9e2bdsUFxencuXK6YknntCjjz7qGJOSkqKFCxdq48aNunjxourUqaP//e9/uvPOO/N99tDQ0HTrlShRQt9//322s7ua/+TJk+rQoUOG73l5eenAgQOO17m57/Mif27uf1d/dhISErR48WJ9+umnioqKUunSpdW9e3cNGjRI3t7ejnH5cd9nJX9+/NmXpOTkZC1YsEAffvih4uPjVaNGDY0cOVLNmzd3GpcfjzuZzZ7b+/6ff/7R8uXLtW/fPv3555+qUqWKtmzZkql1N27cqCVLlujUqVOqVKmShg4dqi5dujiNyWjf9+/fX2vXrrVknZGoNTfKy1pj5TojUWvMrDVWrjN5kT83970ZdSYn9z2QWTRCLCw+Pl79+vVTuXLltHDhQkVHR2vGjBmKjY3VnDlzbrnu5cuX1adPH/n4+GjChAkKDg7WP//8o5SUFKdxM2bM0KZNmzRu3DiVL19ey5YtU//+/fXRRx+pZMmS+Tq7JPXp00fdunVzvPby8nI5c07kL1WqlNavX++0zDAMDRgwQE2bNnVanlv7Pq/yS7mz/7PzszNlyhRt27ZN//3vf1W9enX9+uuvWrhwoeLi4jRx4kTHuPy477OSX8p/P/uS9PLLL+vDDz/U888/rypVqmjDhg0aMGCA1q9fr1q1ajnG5cfjTmazS7m37yXpzz//1Ndff626devKbrfLMIxMrffpp59q3LhxGjhwoFq2bOn4OSpatKhatWrlGHfjvn/99dc1dOhQ1a5d23J1RqLWXC+va42V60x28kvUmuyycp3Jq/xS7v3s53Wdycl9D2SJActasmSJUbduXePChQuOZZs3bzZq1Khh/PXXX7dcd+7cuUbHjh2NxMTEm445c+aMERYWZqxZs8ax7OLFi0aTJk2M2bNn5+vshmEYNWrUMJYtW5atnDeTnfw32rlzp1GjRg1j69atjmW5ue/zIr9h5N7+dzV7SkqKER4ebixYsMBp+eTJk43mzZs7XufXfZ/Z/IaRP3/2r+3XVatWOZbZ7XajW7duxjPPPJNuXH467mQ2u2Hk7r43DMNIS0tz/H7s2LFG165dM7Ve586djeeee85p2ZNPPmn07NnT8TqjfR8REWHUqFHDeOmllxzLrFJnDINac728rjVWrjOGQa0xs9ZYuc7kRX7DyN2f/byuMzm574Gs4B4hFvbNN9+oefPmCgoKciy755575O3tra+//vqW637wwQd66KGHbnmK3nfffae0tDR17drVsczf31/t27e/7fxmZ89t2cl/oy1btjj26zW5ue/zIn9ucjW7YRhKS0tT0aJFnZYHBAQ4/W9Hft33mc2f21zN//vvvystLc3pf4VsNptatWql7777TsnJyZLy53Ens9nzgodH1sv2iRMn9Pfffzv9z6EkdevWTb/++quio6MlZbzvd+7cqbJly2rXrl2OZVapMxK15np5XWusXGckao2ZtcbKdSYv8ue2vK4zObnvgaygEWJhR44cUdWqVZ2WeXt7q2LFijpy5MhN1ztx4oTOnz+vgIAADRo0SLVr11bTpk01depUXblyxWn+EiVKqFixYk7rV61aVUePHpXdbs+32a9ZunSpatWqpUaNGun555/X6dOnXc6cE/lvlJKSos8//1x33323fHx8nObPrX2fF/mvyY3972p2Ly8vPfjgg1q9erX27duny5cva+fOnXr33Xf12GOPOc2fH/d9ZvNfk99+9q99gbvx1F1vb28lJyfr5MmTjvnz23Ens9mvya1976q///5bklSlShWn5VWrVpVhGI73M9r3R44c0R133OG0761SZ67NT60xp9ZYuc5I1Boza42V60xe5L8mP9Wa7NSZa+NyYt8DWcE9QiwsPj5eAQEB6ZYHBAQoLi7upuudP39ekjRr1ix17txZb7zxhv766y/NmzdPKSkpmjZtmmP+G/9HQJICAwOVkpKihIQE+fv758vsknT//ferbdu2KlGihP744w+99tpr6t27tz788EMFBga6lDu7+W/0zTffKDY2Nl0HPTf3/bX5czO/lHv7PzvZp0yZosmTJ+vhhx92LOvTp4+GDRvmNH9+3feZyS/lz5/9ypUrS5J+/fVXVahQwbF87969kuRYNz8edzKbXcrdfe+qa/lu/OzX8txq38fHx2e4761QZ67NT60xp9ZYuc5kNz+1xpw6nx/qTF7kl/JfrclOnbk2Lif2PZAVNEIKIMMwZLPZbvr+tW5r1apVNWPGDElS8+bNlZqaqlmzZmn48OGOmxVlNE9unhqZk9lfeeUVx3qNGzdWw4YN9eCDD+rdd9/VgAEDTMl/o48++kglSpRIdzdwKe/3/bX5cyp/Xu//zGSfM2eOvvrqK7300ksKCQnRb7/9poULFyogIEDPPfecY1x+3feZzZ8ff/arV6+uJk2aaM6cOSpTpoxCQkK0YcMG/fTTT5KcT8XNb8edrGQ3Y99n1o2f8do+vX55Zv/+W7nOXJufWnNVfvv7dqP8VGckao2ZtcbKdeba/AW91rhaZ/LyEl/gGi6NsbCAgADFx8enW37x4sUMO9HXXDsdrVmzZk7LmzVrJrvd7jht72bzx8fHy8vLS35+fvk2e0buvPNOR0HPLlfzX+/y5cv66quv1KVLFxUqVChT8+fEvr/V/DmVPyM5tf9dzf7HH39oxYoVmjp1qh5++GE1btxY/fv31/Dhw7VkyRJduHDhlvObve8zmz8j+eVnf+bMmQoKClKvXr3UrFkzvf322xoyZIikq4/9u9X8Zh53Mps9Izm571114//IXXNtX1z77Bntn2v/g3njvrdCnbnV/NSaW89v9t+3a8yqMxK1xsxaY+U6kxf5M2J2rclOnbk2Lif2PZAVNEIsrGrVqum+jCUnJ+v48ePprk283h133JHhI7audWOvdZyrVq2qCxcuKDY21mnckSNHFBIS4tLNlPIq+83kVMfZ1fzX++KLL5SYmKju3btnOH9u7ftr8+dm/pvJif3vava//vpLkhQWFua0PCwsTKmpqTp16pRj/vy47zOb/2byw89++fLl9f7772v79u36+OOP9cUXX6hw4cIqWbKkypcv75g/vx13Mpv9Zsz+n65r12xfu0b7miNHjshmsznez2jfV61aVSdOnHDa91apM9fmp9aYU2usXGckao2ZtcbKdSYv8t+MmbUmO3Xm2ric2PdAVvDTZmF33XWXdu7cqZiYGMeyL774QsnJyWrTps1N1/P29lbLli21Y8cOp+U7duyQp6enqlWrJklq1aqVPDw89MknnzjGXL58WV9++eUt588P2TNy6NAhHTt2TOHh4dnKnp3819uyZYsqVqyounXrpnsvN/d9XuTPSE7tf1ezX/sCceP/lhw4cECSHNfj5td9n9n8GclvP/sVKlRQtWrVlJKSovfff189e/Z0vJcfjzuZzZ6RnNz3rrrjjjtUpUoVbd261Wn5li1bVKdOHceTDTLa982bN9e///6rpk2bOpZZpc5I1BrJvFpj5TojUWvMrDVWrjN5kT8jZtea7NSZnNz3QJbk+AN5kWfi4uKM1q1bG48++qjxzTffGBs3bjSaNm1qjBw50mnc+PHjjbCwMKdl+/btM2rVqmWMHj3a+Pbbb40333zTqFu3rjF9+nSncVOnTjUaNGhgvPvuu8Z3331nPPnkk0aTJk2Mc+fO5evsy5YtMyZPnmx8/PHHxo4dO4xVq1YZLVq0MNq1a2fExcVlK3t28xuGYVy4cMGoWbOm8eqrr950G7m17/Mif27uf1ezp6amGg899JDRvHlzY+3atcaOHTuMpUuXGvXq1TOef/55p3Xz477PbP78/LO/evVqY+PGjcbOnTuNDz74wOjWrZvRo0cP4/Lly07j8uNxJzPZc3vfG4ZhJCQkGJ988onxySefGI8//rjRpk0bx+sLFy7cNP/WrVuN0NBQY968ecbOnTuN6dOnG6Ghoca3337rNO7Gfd+3b18jNDTU+M9//mO5OmMY1Boza42V60x28lNrzKvzhmF+ncmL/Ln9s5/XdSYn9z2QFTRCLO7vv/82nnzySaNu3bpG06ZNjZdeeslITEx0GjN27FijRo0a6db97rvvjAceeMCoVauW0bJlS2P27NlGcnKy05ikpCRj9uzZRosWLYzw8HDj8ccfNw4dOpTvs2/fvt14+OGHjcaNGxs1a9Y0WrZsaYwfP944e/ZsjmTPbv41a9YYNWrUMP7666+bzp+b+z638+f2/nc1+/nz540XXnjBaNeunREeHm506tTJmDNnjnHp0iWncfl132cmf37+2V++fLnRoUMHx9/bqVOnGrGxsenmz4/Hncxkz4t9f+LECaNGjRoZ/tq5c+dN8xuGYWzYsMHo1KmTUatWLePee+81tm7dmm5MRvt+27Ztlq0zhkGtMbPWWLnOZCc/tca87PmhzuR2/tze92bUmZzc90Bm2QyD2/QCAAAAAAD3wD1CAAAAAACA26ARAgAAAAAA3AaNEAAAAAAA4DZohAAAAAAAALdBIwQAAAAAALgNGiEAAAAAAMBt0AgBAAAAAABug0YIAAAAAABwGzRCAAAAAACA26ARAiDfSExMNDsCAKCAo9YAAGiEADBFRESEQkND9dtvv+m5555T48aNdffddyspKUlz585V+/btVbt2bbVu3VpTp05VfHx8ujk++ugjPfLII6pfv77q16+v++67T++9916mM0RHR2vKlCm69957Vb9+fTVv3lx9+/bVzz//7DRu165dCg0N1a5du5yWnzx5UqGhodqwYYPT8n379umZZ55R06ZNFR4ero4dO2r69OlZ2DsAgJxArQEAZMTT7AAA3Nuzzz6re++9V48++qgSEhI0ZMgQ7dy5UwMHDlSjRo10+PBhRUREaO/evVq/fr28vb0lSQsWLNDixYvVqVMnPfHEEypatKj+/PNPnT59OtPbjo2NlSQNGzZMJUqUUEJCgr744gv16dNHb731lpo2bZrlz/Ptt99q8ODBqlKlisaNG6eyZcvq1KlT+v7777M8FwAgZ1BrAADXoxECwFT333+/nnvuOUlXv9h99913Gj16tJ5++mlJUsuWLVWmTBn997//1aZNm/Twww/rxIkTWrJkibp37645c+Y45mrZsmWWtl2lShVNmTLF8TotLU2tWrXSqVOntHr1ape+nL744osqW7as3nvvPfn4+DiW/+c//8nyXACAnEGtAQBcj0tjAJiqU6dOjt/v3LlTkvTggw86jenSpYv8/Py0Y8cOSdIPP/ygtLQ0PfbYY9ne/jvvvKMHHnhA4eHhqlmzpmrVqqUdO3boyJEjWZ7r6NGjOn78uB566CGnL6YAAHNRawAA1+OMEACmKlWqlOP3sbGx8vT0VFBQkNMYm82mEiVKOE4vjo6OliSVKVMmW9t+8803NXPmTD366KMaPny4ihcvLg8PDy1YsEB///13lue7lqt06dLZygUAyFnUGgDA9WiEAMg3ihUrptTUVEVHRzt9QTUMQ+fPn1d4eLgkOd47c+aMypYt6/L2Nm/erCZNmmjq1KlOyy9fvuz0+tr/uCUnJzstj4mJcXp9LdfZs2ddzgQAyF3UGgAAl8YAyDeaN28u6eqXxut99tlnSkhIcLzfsmVLFSpUSO+88062tmez2Rw3xLvm999/1969e52WlS9fXpJ0+PBhp+Vffvml0+uQkBBVrFhRH3zwQbovsgCA/IFaAwDgjBAA+UbLli3VqlUrzZkzR5cuXVKDBg10+PBhLVy4UDVr1tR9990nSapQoYIGDRqkxYsX68qVK+rWrZuKFi2qv/76SzExMY4b4t1O27ZttXjxYi1cuFCNGzfW0aNHtXjxYlWoUEFpaWmOcSVLllSLFi20dOlSBQYGqly5ctqxY4e++OKLdHNOmjRJgwcP1sMPP6z+/furbNmy+vfff/Xtt99q7ty5ObOjAAAuo9YAAGyGYRhmhwDgfiIiIhQZGakdO3Y4nZqclJSkiIgIbd26VefOnVOxYsXUsWNHjRgxQgEBAU5zbNq0SWvWrNEff/yhQoUKqXLlyurTp0+6G+DdTHJysl599VV9/PHHio2NVbVq1TRkyBBt27ZNP/74o9P/wkVFRemll17Srl27lJaWpnbt2qlfv376z3/+oxkzZjhtc+/evVq0aJH27NmjpKQklSlTRu3bt9f48eOzudcAAFlBrQEAZIRGCAAAAAAAcBvcIwQAAAAAALgN7hECoMAxDMPpuuuMFCpUSDabLY8SAQAKGmoNAFgXjRAABc7GjRtve430qlWr1LRp0zxKBAAoaKg1AGBd3CMEQIETExOjkydP3nJMSEiI/P398ygRAKCgodYAgHXRCAEAAAAAAG6Dm6UCAAAAAAC3QSMEAAAAAAC4DRohAAAAAADAbdAIAQAAAAAAboNGCAAAAAAAcBs0QgAAAAAAgNugEQIAAAAAANwGjRAAAAAAAOA2/j9LNFI0tfYBtQAAAABJRU5ErkJggg==",
      "text/plain": [
       "<Figure size 1118.25x800 with 4 Axes>"
      ]
     },
     "metadata": {},
     "output_type": "display_data"
    }
   ],
   "source": [
    "debias_method = '-mklda'\n",
    "embedding = 'vggish'\n",
    "df = pd.read_csv('../results/result_' + embedding + debias_method + '.csv')\n",
    "\n",
    "sns.set_theme(context='notebook', style='whitegrid', palette='deep')\n",
    "\n",
    "sns.catplot(data=df, row='train_set', col='test_set', y='instrument', x='roc_auc', hue='embedding', kind='bar', \n",
    "            height=4, aspect=1.2, ci=None)\n",
    "plt.xlim([0.6,1])\n",
    "plt.savefig('../results/' + embedding  + debias_method + '.pdf', bbox_inches='tight')"
   ]
  },
  {
   "attachments": {},
   "cell_type": "markdown",
   "metadata": {},
   "source": [
    "## OpenL3"
   ]
  },
  {
   "cell_type": "code",
   "execution_count": 7,
   "metadata": {},
   "outputs": [
    {
     "name": "stdout",
     "output_type": "stream",
     "text": [
      "Load IRMAS data:\n"
     ]
    },
    {
     "name": "stderr",
     "output_type": "stream",
     "text": [
      "100%|██████████| 6705/6705 [00:18<00:00, 368.05it/s]\n"
     ]
    },
    {
     "name": "stdout",
     "output_type": "stream",
     "text": [
      "# Train: 4997,  # Test: 1666\n",
      "Load OpenMIC data:\n"
     ]
    },
    {
     "name": "stderr",
     "output_type": "stream",
     "text": [
      "100%|██████████| 20000/20000 [07:57<00:00, 41.89it/s]\n",
      "100%|██████████| 20000/20000 [00:18<00:00, 1085.25it/s]\n",
      "100%|██████████| 14915/14915 [00:00<00:00, 29146.73it/s]\n",
      "100%|██████████| 5085/5085 [00:00<00:00, 26753.82it/s]\n"
     ]
    },
    {
     "name": "stdout",
     "output_type": "stream",
     "text": [
      "# Train: 6838,  # Test: 2491\n",
      "Train on irmas, test on irmas\n"
     ]
    },
    {
     "name": "stderr",
     "output_type": "stream",
     "text": [
      "100%|██████████| 10/10 [01:56<00:00, 11.65s/it]\n"
     ]
    },
    {
     "name": "stdout",
     "output_type": "stream",
     "text": [
      "Train on irmas, test on openmic\n"
     ]
    },
    {
     "name": "stderr",
     "output_type": "stream",
     "text": [
      "100%|██████████| 10/10 [01:54<00:00, 11.44s/it]\n"
     ]
    },
    {
     "name": "stdout",
     "output_type": "stream",
     "text": [
      "Train on openmic, test on openmic\n"
     ]
    },
    {
     "name": "stderr",
     "output_type": "stream",
     "text": [
      "100%|██████████| 10/10 [01:57<00:00, 11.72s/it]\n"
     ]
    },
    {
     "name": "stdout",
     "output_type": "stream",
     "text": [
      "Train on openmic, test on irmas\n"
     ]
    },
    {
     "name": "stderr",
     "output_type": "stream",
     "text": [
      "100%|██████████| 10/10 [01:58<00:00, 11.86s/it]\n"
     ]
    }
   ],
   "source": [
    "embedding = 'openl3'\n",
    "debias_method = '-k'\n",
    "\n",
    "deb = deem(embedding = embedding, debias_method = debias_method, feature_dir='../embeddings.h5', \n",
    "           instrument_map=instrument_map, genre_map=genre_map, param_grid=param_grid, class_align=class_align)\n",
    "\n",
    "irmas_feature = deb.load_irmas()\n",
    "openmic_feature = deb.load_openmic()\n",
    "\n",
    "deb.instrument_classfication(train_set='irmas', test_set='irmas', irmas_feature=irmas_feature, openmic_feature=openmic_feature)\n",
    "deb.instrument_classfication(train_set='irmas', test_set='openmic', irmas_feature=irmas_feature, openmic_feature=openmic_feature)\n",
    "deb.instrument_classfication(train_set='openmic', test_set='openmic', irmas_feature=irmas_feature, openmic_feature=openmic_feature)\n",
    "deb.instrument_classfication(train_set='openmic', test_set='irmas', irmas_feature=irmas_feature, openmic_feature=openmic_feature)"
   ]
  },
  {
   "cell_type": "code",
   "execution_count": 8,
   "metadata": {},
   "outputs": [
    {
     "name": "stdout",
     "output_type": "stream",
     "text": [
      "Train on irmas, test on irmas\n"
     ]
    },
    {
     "name": "stderr",
     "output_type": "stream",
     "text": [
      "  0%|          | 0/10 [00:00<?, ?it/s]"
     ]
    },
    {
     "name": "stderr",
     "output_type": "stream",
     "text": [
      "100%|██████████| 10/10 [07:37<00:00, 45.76s/it]\n"
     ]
    },
    {
     "name": "stdout",
     "output_type": "stream",
     "text": [
      "Train on irmas, test on openmic\n"
     ]
    },
    {
     "name": "stderr",
     "output_type": "stream",
     "text": [
      "100%|██████████| 10/10 [07:19<00:00, 43.94s/it]\n"
     ]
    },
    {
     "name": "stdout",
     "output_type": "stream",
     "text": [
      "Train on openmic, test on openmic\n"
     ]
    },
    {
     "name": "stderr",
     "output_type": "stream",
     "text": [
      "100%|██████████| 10/10 [07:23<00:00, 44.31s/it]\n"
     ]
    },
    {
     "name": "stdout",
     "output_type": "stream",
     "text": [
      "Train on openmic, test on irmas\n"
     ]
    },
    {
     "name": "stderr",
     "output_type": "stream",
     "text": [
      "100%|██████████| 10/10 [07:39<00:00, 45.99s/it]\n"
     ]
    }
   ],
   "source": [
    "debias_method = '-klda'\n",
    "\n",
    "deb.debias_method = debias_method\n",
    "\n",
    "deb.instrument_classfication(train_set='irmas', test_set='irmas', irmas_feature=irmas_feature, openmic_feature=openmic_feature)\n",
    "deb.instrument_classfication(train_set='irmas', test_set='openmic', irmas_feature=irmas_feature, openmic_feature=openmic_feature)\n",
    "deb.instrument_classfication(train_set='openmic', test_set='openmic', irmas_feature=irmas_feature, openmic_feature=openmic_feature)\n",
    "deb.instrument_classfication(train_set='openmic', test_set='irmas', irmas_feature=irmas_feature, openmic_feature=openmic_feature)"
   ]
  },
  {
   "cell_type": "code",
   "execution_count": 9,
   "metadata": {},
   "outputs": [
    {
     "name": "stdout",
     "output_type": "stream",
     "text": [
      "Train on irmas, test on irmas\n"
     ]
    },
    {
     "name": "stderr",
     "output_type": "stream",
     "text": [
      "  0%|          | 0/10 [00:00<?, ?it/s]"
     ]
    },
    {
     "name": "stderr",
     "output_type": "stream",
     "text": [
      "100%|██████████| 10/10 [17:40<00:00, 106.07s/it]\n"
     ]
    },
    {
     "name": "stdout",
     "output_type": "stream",
     "text": [
      "Train on irmas, test on openmic\n"
     ]
    },
    {
     "name": "stderr",
     "output_type": "stream",
     "text": [
      "100%|██████████| 10/10 [17:08<00:00, 102.82s/it]\n"
     ]
    },
    {
     "name": "stdout",
     "output_type": "stream",
     "text": [
      "Train on openmic, test on openmic\n"
     ]
    },
    {
     "name": "stderr",
     "output_type": "stream",
     "text": [
      "100%|██████████| 10/10 [17:16<00:00, 103.66s/it]\n"
     ]
    },
    {
     "name": "stdout",
     "output_type": "stream",
     "text": [
      "Train on openmic, test on irmas\n"
     ]
    },
    {
     "name": "stderr",
     "output_type": "stream",
     "text": [
      "100%|██████████| 10/10 [19:40<00:00, 118.02s/it]\n"
     ]
    }
   ],
   "source": [
    "debias_method = '-mklda'\n",
    "\n",
    "deb.debias_method = debias_method\n",
    "\n",
    "deb.instrument_classfication(train_set='irmas', test_set='irmas', irmas_feature=irmas_feature, openmic_feature=openmic_feature)\n",
    "deb.instrument_classfication(train_set='irmas', test_set='openmic', irmas_feature=irmas_feature, openmic_feature=openmic_feature)\n",
    "deb.instrument_classfication(train_set='openmic', test_set='openmic', irmas_feature=irmas_feature, openmic_feature=openmic_feature)\n",
    "deb.instrument_classfication(train_set='openmic', test_set='irmas', irmas_feature=irmas_feature, openmic_feature=openmic_feature)\n",
    "\n",
    "deb.result_all.to_csv('../results/result_' + embedding + debias_method + '.csv', index=False)\n",
    "result_all = result_all.append(deb.result_all)"
   ]
  },
  {
   "cell_type": "code",
   "execution_count": 10,
   "metadata": {},
   "outputs": [
    {
     "data": {
      "image/png": "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",
      "text/plain": [
       "<Figure size 1120.12x800 with 4 Axes>"
      ]
     },
     "metadata": {},
     "output_type": "display_data"
    }
   ],
   "source": [
    "embedding = 'openl3'\n",
    "debias_method = '-mklda'\n",
    "\n",
    "df = pd.read_csv('../results/result_' + embedding + debias_method + '.csv')\n",
    "\n",
    "sns.set_theme(context='notebook', style='whitegrid', palette='deep')\n",
    "\n",
    "sns.catplot(data=df, row='train_set', col='test_set', y='instrument', x='roc_auc', hue='embedding', kind='bar', \n",
    "            height=4, aspect=1.2, ci=None)\n",
    "plt.xlim([0.6,1])\n",
    "plt.savefig('../results/' + embedding  + debias_method + '.pdf', bbox_inches='tight')"
   ]
  },
  {
<<<<<<< Updated upstream
   "cell_type": "code",
   "execution_count": 3,
   "metadata": {},
   "outputs": [],
   "source": [
    "%matplotlib inline\n",
    "\n",
    "import sys \n",
    "# add parental directory to Python path\n",
    "sys.path.insert(0, '..')\n",
    "\n",
    "import matplotlib.pyplot as plt\n",
    "import seaborn as sns\n",
    "import json\n",
    "import pandas as pd\n",
    "\n",
    "import warnings\n",
    "warnings.filterwarnings('ignore')\n",
    "\n",
    "from deem import deem"
   ]
  },
  {
   "cell_type": "code",
   "execution_count": 8,
   "metadata": {},
   "outputs": [],
   "source": [
    "param_grid = {'LR_param': {'C':[10**k for k in range(-8, 4, 1)]}, 'scoring': 'roc_auc', 'cv': 3, 'random_state': 42}\n",
    "\n",
    "with open(\"../data/openmic-2018/openmic_classmap_10.json\", \"r\") as f: # only consider 10 classes of Openmic dataset\n",
    "    openmic_class_map = json.load(f)\n",
    "    \n",
    "# use a dict to align the classes between Openmic dataset (key) and Irmas dataset (val)\n",
    "with open(\"../data/class_align.json\", \"r\") as f: \n",
    "    class_align = json.load(f)\n",
    "\n",
    "with open(\"../data/genre_map.json\", \"r\") as f: \n",
    "    genre_map = json.load(f)\n",
    "\n",
    "with open(\"../data/instrument_map.json\", \"r\") as f: \n",
    "    instrument_map = json.load(f)"
   ]
  },
  {
   "cell_type": "code",
   "execution_count": 10,
   "metadata": {},
   "outputs": [
    {
     "data": {
      "text/html": [
       "<div>\n",
       "<style scoped>\n",
       "    .dataframe tbody tr th:only-of-type {\n",
       "        vertical-align: middle;\n",
       "    }\n",
       "\n",
       "    .dataframe tbody tr th {\n",
       "        vertical-align: top;\n",
       "    }\n",
       "\n",
       "    .dataframe thead th {\n",
       "        text-align: right;\n",
       "    }\n",
       "</style>\n",
       "<table border=\"1\" class=\"dataframe\">\n",
       "  <thead>\n",
       "    <tr style=\"text-align: right;\">\n",
       "      <th></th>\n",
       "      <th>instrument</th>\n",
       "      <th>train_set</th>\n",
       "      <th>test_set</th>\n",
       "      <th>precision</th>\n",
       "      <th>recall</th>\n",
       "      <th>f1-score</th>\n",
       "      <th>support</th>\n",
       "      <th>accuracy</th>\n",
       "      <th>roc_auc</th>\n",
       "      <th>ap</th>\n",
       "      <th>embedding</th>\n",
       "    </tr>\n",
       "  </thead>\n",
       "  <tbody>\n",
       "    <tr>\n",
       "      <th>0</th>\n",
       "      <td>cello</td>\n",
       "      <td>irmas</td>\n",
       "      <td>irmas</td>\n",
       "      <td>0.292593</td>\n",
       "      <td>0.840426</td>\n",
       "      <td>0.434066</td>\n",
       "      <td>94.0</td>\n",
       "      <td>0.876351</td>\n",
       "      <td>0.940170</td>\n",
       "      <td>0.606552</td>\n",
       "      <td>vggish-k</td>\n",
       "    </tr>\n",
       "    <tr>\n",
       "      <th>1</th>\n",
       "      <td>clarinet</td>\n",
       "      <td>irmas</td>\n",
       "      <td>irmas</td>\n",
       "      <td>0.304598</td>\n",
       "      <td>0.834646</td>\n",
       "      <td>0.446316</td>\n",
       "      <td>127.0</td>\n",
       "      <td>0.842137</td>\n",
       "      <td>0.905072</td>\n",
       "      <td>0.583763</td>\n",
       "      <td>vggish-k</td>\n",
       "    </tr>\n",
       "    <tr>\n",
       "      <th>2</th>\n",
       "      <td>flute</td>\n",
       "      <td>irmas</td>\n",
       "      <td>irmas</td>\n",
       "      <td>0.343284</td>\n",
       "      <td>0.760331</td>\n",
       "      <td>0.473008</td>\n",
       "      <td>121.0</td>\n",
       "      <td>0.876951</td>\n",
       "      <td>0.899120</td>\n",
       "      <td>0.629276</td>\n",
       "      <td>vggish-k</td>\n",
       "    </tr>\n",
       "    <tr>\n",
       "      <th>3</th>\n",
       "      <td>guitar</td>\n",
       "      <td>irmas</td>\n",
       "      <td>irmas</td>\n",
       "      <td>0.552486</td>\n",
       "      <td>0.867052</td>\n",
       "      <td>0.674916</td>\n",
       "      <td>346.0</td>\n",
       "      <td>0.826531</td>\n",
       "      <td>0.931238</td>\n",
       "      <td>0.828781</td>\n",
       "      <td>vggish-k</td>\n",
       "    </tr>\n",
       "    <tr>\n",
       "      <th>4</th>\n",
       "      <td>organ</td>\n",
       "      <td>irmas</td>\n",
       "      <td>irmas</td>\n",
       "      <td>0.472141</td>\n",
       "      <td>0.925287</td>\n",
       "      <td>0.625243</td>\n",
       "      <td>174.0</td>\n",
       "      <td>0.884154</td>\n",
       "      <td>0.965883</td>\n",
       "      <td>0.761954</td>\n",
       "      <td>vggish-k</td>\n",
       "    </tr>\n",
       "    <tr>\n",
       "      <th>...</th>\n",
       "      <td>...</td>\n",
       "      <td>...</td>\n",
       "      <td>...</td>\n",
       "      <td>...</td>\n",
       "      <td>...</td>\n",
       "      <td>...</td>\n",
       "      <td>...</td>\n",
       "      <td>...</td>\n",
       "      <td>...</td>\n",
       "      <td>...</td>\n",
       "      <td>...</td>\n",
       "    </tr>\n",
       "    <tr>\n",
       "      <th>235</th>\n",
       "      <td>piano</td>\n",
       "      <td>openmic</td>\n",
       "      <td>irmas</td>\n",
       "      <td>0.218321</td>\n",
       "      <td>0.841176</td>\n",
       "      <td>0.346667</td>\n",
       "      <td>170.0</td>\n",
       "      <td>0.676471</td>\n",
       "      <td>0.870746</td>\n",
       "      <td>0.600531</td>\n",
       "      <td>openl3-mklda</td>\n",
       "    </tr>\n",
       "    <tr>\n",
       "      <th>236</th>\n",
       "      <td>saxophone</td>\n",
       "      <td>openmic</td>\n",
       "      <td>irmas</td>\n",
       "      <td>0.232000</td>\n",
       "      <td>0.580000</td>\n",
       "      <td>0.331429</td>\n",
       "      <td>150.0</td>\n",
       "      <td>0.789316</td>\n",
       "      <td>0.769398</td>\n",
       "      <td>0.274667</td>\n",
       "      <td>openl3-mklda</td>\n",
       "    </tr>\n",
       "    <tr>\n",
       "      <th>237</th>\n",
       "      <td>trumpet</td>\n",
       "      <td>openmic</td>\n",
       "      <td>irmas</td>\n",
       "      <td>0.367589</td>\n",
       "      <td>0.620000</td>\n",
       "      <td>0.461538</td>\n",
       "      <td>150.0</td>\n",
       "      <td>0.869748</td>\n",
       "      <td>0.846979</td>\n",
       "      <td>0.432040</td>\n",
       "      <td>openl3-mklda</td>\n",
       "    </tr>\n",
       "    <tr>\n",
       "      <th>238</th>\n",
       "      <td>violin</td>\n",
       "      <td>openmic</td>\n",
       "      <td>irmas</td>\n",
       "      <td>0.208984</td>\n",
       "      <td>0.748252</td>\n",
       "      <td>0.326718</td>\n",
       "      <td>143.0</td>\n",
       "      <td>0.735294</td>\n",
       "      <td>0.802391</td>\n",
       "      <td>0.332740</td>\n",
       "      <td>openl3-mklda</td>\n",
       "    </tr>\n",
       "    <tr>\n",
       "      <th>239</th>\n",
       "      <td>voice</td>\n",
       "      <td>openmic</td>\n",
       "      <td>irmas</td>\n",
       "      <td>0.619718</td>\n",
       "      <td>0.921466</td>\n",
       "      <td>0.741053</td>\n",
       "      <td>191.0</td>\n",
       "      <td>0.926170</td>\n",
       "      <td>0.975696</td>\n",
       "      <td>0.886282</td>\n",
       "      <td>openl3-mklda</td>\n",
       "    </tr>\n",
       "  </tbody>\n",
       "</table>\n",
       "<p>240 rows × 11 columns</p>\n",
       "</div>"
      ],
      "text/plain": [
       "    instrument train_set test_set  precision    recall  f1-score  support  \\\n",
       "0        cello     irmas    irmas   0.292593  0.840426  0.434066     94.0   \n",
       "1     clarinet     irmas    irmas   0.304598  0.834646  0.446316    127.0   \n",
       "2        flute     irmas    irmas   0.343284  0.760331  0.473008    121.0   \n",
       "3       guitar     irmas    irmas   0.552486  0.867052  0.674916    346.0   \n",
       "4        organ     irmas    irmas   0.472141  0.925287  0.625243    174.0   \n",
       "..         ...       ...      ...        ...       ...       ...      ...   \n",
       "235      piano   openmic    irmas   0.218321  0.841176  0.346667    170.0   \n",
       "236  saxophone   openmic    irmas   0.232000  0.580000  0.331429    150.0   \n",
       "237    trumpet   openmic    irmas   0.367589  0.620000  0.461538    150.0   \n",
       "238     violin   openmic    irmas   0.208984  0.748252  0.326718    143.0   \n",
       "239      voice   openmic    irmas   0.619718  0.921466  0.741053    191.0   \n",
       "\n",
       "     accuracy   roc_auc        ap     embedding  \n",
       "0    0.876351  0.940170  0.606552      vggish-k  \n",
       "1    0.842137  0.905072  0.583763      vggish-k  \n",
       "2    0.876951  0.899120  0.629276      vggish-k  \n",
       "3    0.826531  0.931238  0.828781      vggish-k  \n",
       "4    0.884154  0.965883  0.761954      vggish-k  \n",
       "..        ...       ...       ...           ...  \n",
       "235  0.676471  0.870746  0.600531  openl3-mklda  \n",
       "236  0.789316  0.769398  0.274667  openl3-mklda  \n",
       "237  0.869748  0.846979  0.432040  openl3-mklda  \n",
       "238  0.735294  0.802391  0.332740  openl3-mklda  \n",
       "239  0.926170  0.975696  0.886282  openl3-mklda  \n",
       "\n",
       "[240 rows x 11 columns]"
      ]
     },
     "execution_count": 10,
     "metadata": {},
     "output_type": "execute_result"
    }
   ],
   "source": [
    "import pandas as pd\n",
    "df1 = pd.read_csv('../results/result_vggish-mklda.csv')\n",
    "df2 = pd.read_csv('../results/result_openl3-mklda.csv')\n",
    "result_all = df1.append(df2).reset_index(drop=True)\n",
    "result_all"
   ]
  },
  {
   "cell_type": "code",
   "execution_count": null,
   "metadata": {},
   "outputs": [],
   "source": []
  },
  {
=======
>>>>>>> Stashed changes
   "attachments": {},
   "cell_type": "markdown",
   "metadata": {},
   "source": [
    "## YAMNet"
   ]
  },
  {
   "cell_type": "code",
   "execution_count": 11,
   "metadata": {},
   "outputs": [
    {
     "name": "stdout",
     "output_type": "stream",
     "text": [
      "Load IRMAS data:\n"
     ]
    },
    {
     "name": "stderr",
     "output_type": "stream",
     "text": [
      "100%|██████████| 6705/6705 [00:04<00:00, 1371.70it/s]\n"
     ]
    },
    {
     "name": "stdout",
     "output_type": "stream",
     "text": [
      "# Train: 4997,  # Test: 1666\n",
      "Load OpenMIC data:\n"
     ]
    },
    {
     "name": "stderr",
     "output_type": "stream",
     "text": [
      "100%|██████████| 20000/20000 [01:43<00:00, 193.97it/s]\n",
      "100%|██████████| 20000/20000 [00:18<00:00, 1058.22it/s]\n",
      "100%|██████████| 14915/14915 [00:00<00:00, 26386.59it/s]\n",
      "100%|██████████| 5085/5085 [00:00<00:00, 26675.58it/s]\n"
     ]
    },
    {
     "name": "stdout",
     "output_type": "stream",
     "text": [
      "# Train: 6838,  # Test: 2491\n",
      "Train on irmas, test on irmas\n"
     ]
    },
    {
     "name": "stderr",
     "output_type": "stream",
     "text": [
      "100%|██████████| 10/10 [03:14<00:00, 19.43s/it]\n"
     ]
    },
    {
     "name": "stdout",
     "output_type": "stream",
     "text": [
      "Train on irmas, test on openmic\n"
     ]
    },
    {
     "name": "stderr",
     "output_type": "stream",
     "text": [
      "100%|██████████| 10/10 [03:42<00:00, 22.27s/it]\n"
     ]
    },
    {
     "name": "stdout",
     "output_type": "stream",
     "text": [
      "Train on openmic, test on openmic\n"
     ]
    },
    {
     "name": "stderr",
     "output_type": "stream",
     "text": [
      "100%|██████████| 10/10 [03:29<00:00, 20.97s/it]\n"
     ]
    },
    {
     "name": "stdout",
     "output_type": "stream",
     "text": [
      "Train on openmic, test on irmas\n"
     ]
    },
    {
     "name": "stderr",
     "output_type": "stream",
     "text": [
      "100%|██████████| 10/10 [03:37<00:00, 21.80s/it]\n"
     ]
    }
   ],
   "source": [
    "embedding = 'yamnet'\n",
    "debias_method = '-k'\n",
    "\n",
    "deb = deem(embedding = embedding, debias_method = debias_method, feature_dir='../embeddings.h5', \n",
    "           instrument_map=instrument_map, genre_map=genre_map, param_grid=param_grid, class_align=class_align)\n",
    "\n",
    "irmas_feature = deb.load_irmas()\n",
    "openmic_feature = deb.load_openmic()\n",
    "\n",
    "deb.instrument_classfication(train_set='irmas', test_set='irmas', irmas_feature=irmas_feature, openmic_feature=openmic_feature)\n",
    "deb.instrument_classfication(train_set='irmas', test_set='openmic', irmas_feature=irmas_feature, openmic_feature=openmic_feature)\n",
    "deb.instrument_classfication(train_set='openmic', test_set='openmic', irmas_feature=irmas_feature, openmic_feature=openmic_feature)\n",
    "deb.instrument_classfication(train_set='openmic', test_set='irmas', irmas_feature=irmas_feature, openmic_feature=openmic_feature)"
   ]
  },
  {
   "cell_type": "code",
   "execution_count": 12,
   "metadata": {},
   "outputs": [
    {
     "name": "stdout",
     "output_type": "stream",
     "text": [
      "Train on irmas, test on irmas\n"
     ]
    },
    {
     "name": "stderr",
     "output_type": "stream",
     "text": [
      "  0%|          | 0/10 [00:00<?, ?it/s]"
     ]
    },
    {
     "name": "stderr",
     "output_type": "stream",
     "text": [
      "100%|██████████| 10/10 [35:52<00:00, 215.23s/it]\n"
     ]
    },
    {
     "name": "stdout",
     "output_type": "stream",
     "text": [
      "Train on irmas, test on openmic\n"
     ]
    },
    {
     "name": "stderr",
     "output_type": "stream",
     "text": [
      "100%|██████████| 10/10 [35:13<00:00, 211.34s/it]\n"
     ]
    },
    {
     "name": "stdout",
     "output_type": "stream",
     "text": [
      "Train on openmic, test on openmic\n"
     ]
    },
    {
     "name": "stderr",
     "output_type": "stream",
     "text": [
      "100%|██████████| 10/10 [33:38<00:00, 201.88s/it]\n"
     ]
    },
    {
     "name": "stdout",
     "output_type": "stream",
     "text": [
      "Train on openmic, test on irmas\n"
     ]
    },
    {
     "name": "stderr",
     "output_type": "stream",
     "text": [
      "100%|██████████| 10/10 [33:48<00:00, 202.83s/it]\n"
     ]
    }
   ],
   "source": [
    "debias_method = '-klda'\n",
    "\n",
    "deb.debias_method = debias_method\n",
    "\n",
    "deb.instrument_classfication(train_set='irmas', test_set='irmas', irmas_feature=irmas_feature, openmic_feature=openmic_feature)\n",
    "deb.instrument_classfication(train_set='irmas', test_set='openmic', irmas_feature=irmas_feature, openmic_feature=openmic_feature)\n",
    "deb.instrument_classfication(train_set='openmic', test_set='openmic', irmas_feature=irmas_feature, openmic_feature=openmic_feature)\n",
    "deb.instrument_classfication(train_set='openmic', test_set='irmas', irmas_feature=irmas_feature, openmic_feature=openmic_feature)"
   ]
  },
  {
   "cell_type": "code",
   "execution_count": 13,
   "metadata": {},
   "outputs": [
    {
     "name": "stdout",
     "output_type": "stream",
     "text": [
      "Train on irmas, test on irmas\n"
     ]
    },
    {
     "name": "stderr",
     "output_type": "stream",
     "text": [
      "  0%|          | 0/10 [00:00<?, ?it/s]"
     ]
    },
    {
     "name": "stderr",
     "output_type": "stream",
     "text": [
      "100%|██████████| 10/10 [1:42:04<00:00, 612.50s/it]\n"
     ]
    },
    {
     "name": "stdout",
     "output_type": "stream",
     "text": [
      "Train on irmas, test on openmic\n"
     ]
    },
    {
     "name": "stderr",
     "output_type": "stream",
     "text": [
      "100%|██████████| 10/10 [1:40:51<00:00, 605.17s/it]\n"
     ]
    },
    {
     "name": "stdout",
     "output_type": "stream",
     "text": [
      "Train on openmic, test on openmic\n"
     ]
    },
    {
     "name": "stderr",
     "output_type": "stream",
     "text": [
      "100%|██████████| 10/10 [1:39:03<00:00, 594.40s/it]\n"
     ]
    },
    {
     "name": "stdout",
     "output_type": "stream",
     "text": [
      "Train on openmic, test on irmas\n"
     ]
    },
    {
     "name": "stderr",
     "output_type": "stream",
     "text": [
      "100%|██████████| 10/10 [1:34:27<00:00, 566.78s/it]\n"
     ]
    }
   ],
   "source": [
    "debias_method = '-mklda'\n",
    "\n",
    "deb.debias_method = debias_method\n",
    "\n",
    "deb.instrument_classfication(train_set='irmas', test_set='irmas', irmas_feature=irmas_feature, openmic_feature=openmic_feature)\n",
    "deb.instrument_classfication(train_set='irmas', test_set='openmic', irmas_feature=irmas_feature, openmic_feature=openmic_feature)\n",
    "deb.instrument_classfication(train_set='openmic', test_set='openmic', irmas_feature=irmas_feature, openmic_feature=openmic_feature)\n",
    "deb.instrument_classfication(train_set='openmic', test_set='irmas', irmas_feature=irmas_feature, openmic_feature=openmic_feature)\n",
    "\n",
    "deb.result_all.to_csv('../results/result_' + embedding + debias_method + '.csv', index=False)\n",
    "result_all = result_all.append(deb.result_all)"
   ]
  },
  {
   "cell_type": "code",
   "execution_count": 14,
   "metadata": {},
   "outputs": [
    {
     "data": {
      "image/png": "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",
      "text/plain": [
       "<Figure size 1126.12x800 with 4 Axes>"
      ]
     },
     "metadata": {},
     "output_type": "display_data"
    }
   ],
   "source": [
    "embedding = 'yamnet'\n",
    "debias_method = '-mklda'\n",
    "\n",
    "df = pd.read_csv('../results/result_' + embedding + debias_method + '.csv')\n",
    "\n",
    "sns.set_theme(context='notebook', style='whitegrid', palette='deep')\n",
    "\n",
    "sns.catplot(data=df, row='train_set', col='test_set', y='instrument', x='roc_auc', hue='embedding', kind='bar', \n",
    "            height=4, aspect=1.2, ci=None)\n",
    "plt.xlim([0.6,1])\n",
    "plt.savefig('../results/' + embedding  + debias_method + '.pdf', bbox_inches='tight')"
   ]
  },
  {
   "cell_type": "code",
   "execution_count": 15,
   "metadata": {},
   "outputs": [],
   "source": [
    "result_all.to_csv('../results/result_nonlinear_all.csv', index=False)"
   ]
  },
  {
   "cell_type": "code",
   "execution_count": 16,
   "metadata": {},
   "outputs": [
    {
     "data": {
      "text/html": [
       "<div>\n",
       "<style scoped>\n",
       "    .dataframe tbody tr th:only-of-type {\n",
       "        vertical-align: middle;\n",
       "    }\n",
       "\n",
       "    .dataframe tbody tr th {\n",
       "        vertical-align: top;\n",
       "    }\n",
       "\n",
       "    .dataframe thead th {\n",
       "        text-align: right;\n",
       "    }\n",
       "</style>\n",
       "<table border=\"1\" class=\"dataframe\">\n",
       "  <thead>\n",
       "    <tr style=\"text-align: right;\">\n",
       "      <th></th>\n",
       "      <th>instrument</th>\n",
       "      <th>train_set</th>\n",
       "      <th>test_set</th>\n",
       "      <th>precision</th>\n",
       "      <th>recall</th>\n",
       "      <th>f1-score</th>\n",
       "      <th>support</th>\n",
       "      <th>accuracy</th>\n",
       "      <th>roc_auc</th>\n",
       "      <th>ap</th>\n",
       "      <th>embedding</th>\n",
       "    </tr>\n",
       "  </thead>\n",
       "  <tbody>\n",
       "    <tr>\n",
       "      <th>0</th>\n",
       "      <td>cello</td>\n",
       "      <td>irmas</td>\n",
       "      <td>irmas</td>\n",
       "      <td>0.292593</td>\n",
       "      <td>0.840426</td>\n",
       "      <td>0.434066</td>\n",
       "      <td>94.0</td>\n",
       "      <td>0.876351</td>\n",
       "      <td>0.94017</td>\n",
       "      <td>0.606552</td>\n",
       "      <td>vggish-k</td>\n",
       "    </tr>\n",
       "    <tr>\n",
       "      <th>1</th>\n",
       "      <td>clarinet</td>\n",
       "      <td>irmas</td>\n",
       "      <td>irmas</td>\n",
       "      <td>0.304598</td>\n",
       "      <td>0.834646</td>\n",
       "      <td>0.446316</td>\n",
       "      <td>127.0</td>\n",
       "      <td>0.842137</td>\n",
       "      <td>0.905072</td>\n",
       "      <td>0.583763</td>\n",
       "      <td>vggish-k</td>\n",
       "    </tr>\n",
       "    <tr>\n",
       "      <th>2</th>\n",
       "      <td>flute</td>\n",
       "      <td>irmas</td>\n",
       "      <td>irmas</td>\n",
       "      <td>0.343284</td>\n",
       "      <td>0.760331</td>\n",
       "      <td>0.473008</td>\n",
       "      <td>121.0</td>\n",
       "      <td>0.876951</td>\n",
       "      <td>0.89912</td>\n",
       "      <td>0.629276</td>\n",
       "      <td>vggish-k</td>\n",
       "    </tr>\n",
       "    <tr>\n",
       "      <th>3</th>\n",
       "      <td>guitar</td>\n",
       "      <td>irmas</td>\n",
       "      <td>irmas</td>\n",
       "      <td>0.552486</td>\n",
       "      <td>0.867052</td>\n",
       "      <td>0.674916</td>\n",
       "      <td>346.0</td>\n",
       "      <td>0.826531</td>\n",
       "      <td>0.931238</td>\n",
       "      <td>0.828781</td>\n",
       "      <td>vggish-k</td>\n",
       "    </tr>\n",
       "    <tr>\n",
       "      <th>4</th>\n",
       "      <td>organ</td>\n",
       "      <td>irmas</td>\n",
       "      <td>irmas</td>\n",
       "      <td>0.472141</td>\n",
       "      <td>0.925287</td>\n",
       "      <td>0.625243</td>\n",
       "      <td>174.0</td>\n",
       "      <td>0.884154</td>\n",
       "      <td>0.965883</td>\n",
       "      <td>0.761954</td>\n",
       "      <td>vggish-k</td>\n",
       "    </tr>\n",
       "    <tr>\n",
       "      <th>...</th>\n",
       "      <td>...</td>\n",
       "      <td>...</td>\n",
       "      <td>...</td>\n",
       "      <td>...</td>\n",
       "      <td>...</td>\n",
       "      <td>...</td>\n",
       "      <td>...</td>\n",
       "      <td>...</td>\n",
       "      <td>...</td>\n",
       "      <td>...</td>\n",
       "      <td>...</td>\n",
       "    </tr>\n",
       "    <tr>\n",
       "      <th>115</th>\n",
       "      <td>piano</td>\n",
       "      <td>openmic</td>\n",
       "      <td>irmas</td>\n",
       "      <td>0.19077306733167082</td>\n",
       "      <td>0.9</td>\n",
       "      <td>0.3148148148148148</td>\n",
       "      <td>170.0</td>\n",
       "      <td>0.6002400960384153</td>\n",
       "      <td>0.8864933941491036</td>\n",
       "      <td>0.6924318659591993</td>\n",
       "      <td>yamnet-mklda</td>\n",
       "    </tr>\n",
       "    <tr>\n",
       "      <th>116</th>\n",
       "      <td>saxophone</td>\n",
       "      <td>openmic</td>\n",
       "      <td>irmas</td>\n",
       "      <td>0.23918575063613232</td>\n",
       "      <td>0.6266666666666667</td>\n",
       "      <td>0.3462246777163904</td>\n",
       "      <td>150.0</td>\n",
       "      <td>0.7869147659063626</td>\n",
       "      <td>0.7869700967458224</td>\n",
       "      <td>0.36892924599709476</td>\n",
       "      <td>yamnet-mklda</td>\n",
       "    </tr>\n",
       "    <tr>\n",
       "      <th>117</th>\n",
       "      <td>trumpet</td>\n",
       "      <td>openmic</td>\n",
       "      <td>irmas</td>\n",
       "      <td>0.30697674418604654</td>\n",
       "      <td>0.88</td>\n",
       "      <td>0.4551724137931034</td>\n",
       "      <td>150.0</td>\n",
       "      <td>0.8103241296518607</td>\n",
       "      <td>0.9160773966578716</td>\n",
       "      <td>0.6590283327841582</td>\n",
       "      <td>yamnet-mklda</td>\n",
       "    </tr>\n",
       "    <tr>\n",
       "      <th>118</th>\n",
       "      <td>violin</td>\n",
       "      <td>openmic</td>\n",
       "      <td>irmas</td>\n",
       "      <td>0.22821576763485477</td>\n",
       "      <td>0.7692307692307693</td>\n",
       "      <td>0.35200000000000004</td>\n",
       "      <td>143.0</td>\n",
       "      <td>0.7569027611044418</td>\n",
       "      <td>0.8362451730803667</td>\n",
       "      <td>0.42340752807231613</td>\n",
       "      <td>yamnet-mklda</td>\n",
       "    </tr>\n",
       "    <tr>\n",
       "      <th>119</th>\n",
       "      <td>voice</td>\n",
       "      <td>openmic</td>\n",
       "      <td>irmas</td>\n",
       "      <td>0.42924528301886794</td>\n",
       "      <td>0.9528795811518325</td>\n",
       "      <td>0.591869918699187</td>\n",
       "      <td>191.0</td>\n",
       "      <td>0.8493397358943577</td>\n",
       "      <td>0.9686289821634573</td>\n",
       "      <td>0.8543636819937885</td>\n",
       "      <td>yamnet-mklda</td>\n",
       "    </tr>\n",
       "  </tbody>\n",
       "</table>\n",
       "<p>360 rows × 11 columns</p>\n",
       "</div>"
      ],
      "text/plain": [
       "    instrument train_set test_set            precision              recall  \\\n",
       "0        cello     irmas    irmas             0.292593            0.840426   \n",
       "1     clarinet     irmas    irmas             0.304598            0.834646   \n",
       "2        flute     irmas    irmas             0.343284            0.760331   \n",
       "3       guitar     irmas    irmas             0.552486            0.867052   \n",
       "4        organ     irmas    irmas             0.472141            0.925287   \n",
       "..         ...       ...      ...                  ...                 ...   \n",
       "115      piano   openmic    irmas  0.19077306733167082                 0.9   \n",
       "116  saxophone   openmic    irmas  0.23918575063613232  0.6266666666666667   \n",
       "117    trumpet   openmic    irmas  0.30697674418604654                0.88   \n",
       "118     violin   openmic    irmas  0.22821576763485477  0.7692307692307693   \n",
       "119      voice   openmic    irmas  0.42924528301886794  0.9528795811518325   \n",
       "\n",
       "                f1-score support            accuracy             roc_auc  \\\n",
       "0               0.434066    94.0            0.876351             0.94017   \n",
       "1               0.446316   127.0            0.842137            0.905072   \n",
       "2               0.473008   121.0            0.876951             0.89912   \n",
       "3               0.674916   346.0            0.826531            0.931238   \n",
       "4               0.625243   174.0            0.884154            0.965883   \n",
       "..                   ...     ...                 ...                 ...   \n",
       "115   0.3148148148148148   170.0  0.6002400960384153  0.8864933941491036   \n",
       "116   0.3462246777163904   150.0  0.7869147659063626  0.7869700967458224   \n",
       "117   0.4551724137931034   150.0  0.8103241296518607  0.9160773966578716   \n",
       "118  0.35200000000000004   143.0  0.7569027611044418  0.8362451730803667   \n",
       "119    0.591869918699187   191.0  0.8493397358943577  0.9686289821634573   \n",
       "\n",
       "                      ap     embedding  \n",
       "0               0.606552      vggish-k  \n",
       "1               0.583763      vggish-k  \n",
       "2               0.629276      vggish-k  \n",
       "3               0.828781      vggish-k  \n",
       "4               0.761954      vggish-k  \n",
       "..                   ...           ...  \n",
       "115   0.6924318659591993  yamnet-mklda  \n",
       "116  0.36892924599709476  yamnet-mklda  \n",
       "117   0.6590283327841582  yamnet-mklda  \n",
       "118  0.42340752807231613  yamnet-mklda  \n",
       "119   0.8543636819937885  yamnet-mklda  \n",
       "\n",
       "[360 rows x 11 columns]"
      ]
     },
     "execution_count": 16,
     "metadata": {},
     "output_type": "execute_result"
    }
   ],
   "source": [
    "result_all"
   ]
  },
  {
   "cell_type": "code",
   "execution_count": null,
   "metadata": {},
   "outputs": [],
   "source": []
  }
 ],
 "metadata": {
  "kernelspec": {
   "display_name": "ismir2022embedding",
   "language": "python",
   "name": "python3"
  },
  "language_info": {
   "codemirror_mode": {
    "name": "ipython",
    "version": 3
   },
   "file_extension": ".py",
   "mimetype": "text/x-python",
   "name": "python",
   "nbconvert_exporter": "python",
   "pygments_lexer": "ipython3",
   "version": "3.10.12"
  },
  "toc": {
   "base_numbering": 1,
   "nav_menu": {},
   "number_sections": true,
   "sideBar": true,
   "skip_h1_title": false,
   "title_cell": "Table of Contents",
   "title_sidebar": "Contents",
   "toc_cell": false,
   "toc_position": {
    "height": "621.778px",
    "left": "21px",
    "top": "111.139px",
    "width": "165px"
   },
   "toc_section_display": true,
   "toc_window_display": true
  },
  "vscode": {
   "interpreter": {
    "hash": "e2e45284a6c14b0a92859aa6111181c4542423174f88d2070b0d025532226888"
   }
  }
 },
 "nbformat": 4,
 "nbformat_minor": 4
}
