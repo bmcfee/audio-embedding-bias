{
 "cells": [
  {
   "cell_type": "markdown",
   "id": "74241067-e670-4998-a719-6829e7ed90bc",
   "metadata": {},
   "source": [
    "# IRMAS Splitting\n",
    "\n",
    "This notebook creates a train/test split of the IRMAS training set.\n",
    "\n",
    "We do this, rather than use the original IRMAS testing set to maintain distributional equivalence.\n",
    "The original IRMAS testing set differs from the training set in a few ways, notably by variable-duration and multi-labeled examples."
   ]
  },
  {
   "cell_type": "code",
   "execution_count": 1,
   "id": "aa596808-40fc-4428-8578-5ad1114f5c1b",
   "metadata": {},
   "outputs": [],
   "source": [
    "import h5py\n",
    "import pandas as pd\n",
    "from sklearn.model_selection import GroupShuffleSplit"
   ]
  },
  {
   "cell_type": "code",
   "execution_count": 2,
   "id": "fd84368a-16e1-4083-87ba-af55f47ff42d",
   "metadata": {},
   "outputs": [],
   "source": [
    "data = h5py.File('embeddings.h5', mode='r')"
   ]
  },
  {
   "cell_type": "code",
   "execution_count": 10,
   "id": "669be3ff-bc0b-48c0-82f3-2cb56714bd1c",
   "metadata": {},
   "outputs": [],
   "source": [
    "file_names = list(data['irmas/openl3/keys'][()])"
   ]
  },
  {
   "cell_type": "code",
   "execution_count": 13,
   "id": "84e3a2e2-67c4-4048-be69-e7ca326ddd60",
   "metadata": {},
   "outputs": [],
   "source": [
    "prefixes = [_[:3] for _ in file_names]"
   ]
  },
  {
   "cell_type": "code",
   "execution_count": 24,
   "id": "f5dfd8c2-d0a1-4593-ae16-bcb6937fdd8c",
   "metadata": {},
   "outputs": [],
   "source": [
    "splitter = GroupShuffleSplit(n_splits=1, random_state=20220419, test_size=0.25)"
   ]
  },
  {
   "cell_type": "code",
   "execution_count": 25,
   "id": "7e0542eb-543e-412a-b07f-0020cb603e43",
   "metadata": {},
   "outputs": [],
   "source": [
    "train_ids, test_ids = next(splitter.split(file_names, groups=prefixes))"
   ]
  },
  {
   "cell_type": "code",
   "execution_count": 27,
   "id": "d8eb8de9-3671-44a6-85f9-631d41fd3e0a",
   "metadata": {},
   "outputs": [],
   "source": [
    "all_files = pd.Series(file_names)"
   ]
  },
  {
   "cell_type": "code",
   "execution_count": 32,
   "id": "5b3f756e-2e1c-4606-823b-7223fd760958",
   "metadata": {},
   "outputs": [],
   "source": [
    "train_files = all_files[train_ids]"
   ]
  },
  {
   "cell_type": "code",
   "execution_count": 34,
   "id": "358740bc-c126-4076-a939-666d0b6f26e6",
   "metadata": {},
   "outputs": [],
   "source": [
    "test_files = all_files[test_ids]"
   ]
  },
  {
   "cell_type": "code",
   "execution_count": 35,
   "id": "a87d5ef6-74a3-48ce-b14e-11f9ec2bfc70",
   "metadata": {},
   "outputs": [
    {
     "data": {
      "text/html": [
       "<pre style=\"white-space:pre;overflow-x:auto;line-height:normal;font-family:Menlo,'DejaVu Sans Mono',consolas,'Courier New',monospace\">\n",
       "<span style=\"color: #008080; text-decoration-color: #008080; font-weight: bold\">600</span>       003__<span style=\"font-weight: bold\">[</span>voi<span style=\"font-weight: bold\">][</span>dru<span style=\"font-weight: bold\">][</span>cou_fol<span style=\"font-weight: bold\">]</span>2431__1\n",
       "<span style=\"color: #008080; text-decoration-color: #008080; font-weight: bold\">601</span>       003__<span style=\"font-weight: bold\">[</span>voi<span style=\"font-weight: bold\">][</span>dru<span style=\"font-weight: bold\">][</span>cou_fol<span style=\"font-weight: bold\">]</span>2431__1\n",
       "<span style=\"color: #008080; text-decoration-color: #008080; font-weight: bold\">602</span>       003__<span style=\"font-weight: bold\">[</span>voi<span style=\"font-weight: bold\">][</span>dru<span style=\"font-weight: bold\">][</span>cou_fol<span style=\"font-weight: bold\">]</span>2431__1\n",
       "<span style=\"color: #008080; text-decoration-color: #008080; font-weight: bold\">603</span>       003__<span style=\"font-weight: bold\">[</span>voi<span style=\"font-weight: bold\">][</span>dru<span style=\"font-weight: bold\">][</span>cou_fol<span style=\"font-weight: bold\">]</span>2431__1\n",
       "<span style=\"color: #008080; text-decoration-color: #008080; font-weight: bold\">604</span>       003__<span style=\"font-weight: bold\">[</span>voi<span style=\"font-weight: bold\">][</span>dru<span style=\"font-weight: bold\">][</span>cou_fol<span style=\"font-weight: bold\">]</span>2431__1\n",
       "                       <span style=\"color: #808000; text-decoration-color: #808000\">...</span>               \n",
       "<span style=\"color: #008080; text-decoration-color: #008080; font-weight: bold\">167620</span>              <span style=\"font-weight: bold\">[</span>voi<span style=\"font-weight: bold\">][</span>pop_roc<span style=\"font-weight: bold\">]</span>2548__3\n",
       "<span style=\"color: #008080; text-decoration-color: #008080; font-weight: bold\">167621</span>              <span style=\"font-weight: bold\">[</span>voi<span style=\"font-weight: bold\">][</span>pop_roc<span style=\"font-weight: bold\">]</span>2548__3\n",
       "<span style=\"color: #008080; text-decoration-color: #008080; font-weight: bold\">167622</span>              <span style=\"font-weight: bold\">[</span>voi<span style=\"font-weight: bold\">][</span>pop_roc<span style=\"font-weight: bold\">]</span>2548__3\n",
       "<span style=\"color: #008080; text-decoration-color: #008080; font-weight: bold\">167623</span>              <span style=\"font-weight: bold\">[</span>voi<span style=\"font-weight: bold\">][</span>pop_roc<span style=\"font-weight: bold\">]</span>2548__3\n",
       "<span style=\"color: #008080; text-decoration-color: #008080; font-weight: bold\">167624</span>              <span style=\"font-weight: bold\">[</span>voi<span style=\"font-weight: bold\">][</span>pop_roc<span style=\"font-weight: bold\">]</span>2548__3\n",
       "Length: <span style=\"color: #008080; text-decoration-color: #008080; font-weight: bold\">97750</span>, dtype: object\n",
       "</pre>\n"
      ],
      "text/plain": [
       "\n",
       "\u001b[1;36m600\u001b[0m       003__\u001b[1m[\u001b[0mvoi\u001b[1m]\u001b[0m\u001b[1m[\u001b[0mdru\u001b[1m]\u001b[0m\u001b[1m[\u001b[0mcou_fol\u001b[1m]\u001b[0m2431__1\n",
       "\u001b[1;36m601\u001b[0m       003__\u001b[1m[\u001b[0mvoi\u001b[1m]\u001b[0m\u001b[1m[\u001b[0mdru\u001b[1m]\u001b[0m\u001b[1m[\u001b[0mcou_fol\u001b[1m]\u001b[0m2431__1\n",
       "\u001b[1;36m602\u001b[0m       003__\u001b[1m[\u001b[0mvoi\u001b[1m]\u001b[0m\u001b[1m[\u001b[0mdru\u001b[1m]\u001b[0m\u001b[1m[\u001b[0mcou_fol\u001b[1m]\u001b[0m2431__1\n",
       "\u001b[1;36m603\u001b[0m       003__\u001b[1m[\u001b[0mvoi\u001b[1m]\u001b[0m\u001b[1m[\u001b[0mdru\u001b[1m]\u001b[0m\u001b[1m[\u001b[0mcou_fol\u001b[1m]\u001b[0m2431__1\n",
       "\u001b[1;36m604\u001b[0m       003__\u001b[1m[\u001b[0mvoi\u001b[1m]\u001b[0m\u001b[1m[\u001b[0mdru\u001b[1m]\u001b[0m\u001b[1m[\u001b[0mcou_fol\u001b[1m]\u001b[0m2431__1\n",
       "                       \u001b[33m...\u001b[0m               \n",
       "\u001b[1;36m167620\u001b[0m              \u001b[1m[\u001b[0mvoi\u001b[1m]\u001b[0m\u001b[1m[\u001b[0mpop_roc\u001b[1m]\u001b[0m2548__3\n",
       "\u001b[1;36m167621\u001b[0m              \u001b[1m[\u001b[0mvoi\u001b[1m]\u001b[0m\u001b[1m[\u001b[0mpop_roc\u001b[1m]\u001b[0m2548__3\n",
       "\u001b[1;36m167622\u001b[0m              \u001b[1m[\u001b[0mvoi\u001b[1m]\u001b[0m\u001b[1m[\u001b[0mpop_roc\u001b[1m]\u001b[0m2548__3\n",
       "\u001b[1;36m167623\u001b[0m              \u001b[1m[\u001b[0mvoi\u001b[1m]\u001b[0m\u001b[1m[\u001b[0mpop_roc\u001b[1m]\u001b[0m2548__3\n",
       "\u001b[1;36m167624\u001b[0m              \u001b[1m[\u001b[0mvoi\u001b[1m]\u001b[0m\u001b[1m[\u001b[0mpop_roc\u001b[1m]\u001b[0m2548__3\n",
       "Length: \u001b[1;36m97750\u001b[0m, dtype: object\n"
      ]
     },
     "metadata": {},
     "output_type": "display_data"
    }
   ],
   "source": [
    "train_files"
   ]
  },
  {
   "cell_type": "code",
   "execution_count": 36,
   "id": "b8fc346c-d224-411e-96ba-c4869af220f2",
   "metadata": {},
   "outputs": [
    {
     "data": {
      "text/html": [
       "<pre style=\"white-space:pre;overflow-x:auto;line-height:normal;font-family:Menlo,'DejaVu Sans Mono',consolas,'Courier New',monospace\">\n",
       "<span style=\"color: #008080; text-decoration-color: #008080; font-weight: bold\">0</span>         001__<span style=\"font-weight: bold\">[</span>gel<span style=\"font-weight: bold\">][</span>dru<span style=\"font-weight: bold\">][</span>pop_roc<span style=\"font-weight: bold\">]</span>0829__1\n",
       "<span style=\"color: #008080; text-decoration-color: #008080; font-weight: bold\">1</span>         001__<span style=\"font-weight: bold\">[</span>gel<span style=\"font-weight: bold\">][</span>dru<span style=\"font-weight: bold\">][</span>pop_roc<span style=\"font-weight: bold\">]</span>0829__1\n",
       "<span style=\"color: #008080; text-decoration-color: #008080; font-weight: bold\">2</span>         001__<span style=\"font-weight: bold\">[</span>gel<span style=\"font-weight: bold\">][</span>dru<span style=\"font-weight: bold\">][</span>pop_roc<span style=\"font-weight: bold\">]</span>0829__1\n",
       "<span style=\"color: #008080; text-decoration-color: #008080; font-weight: bold\">3</span>         001__<span style=\"font-weight: bold\">[</span>gel<span style=\"font-weight: bold\">][</span>dru<span style=\"font-weight: bold\">][</span>pop_roc<span style=\"font-weight: bold\">]</span>0829__1\n",
       "<span style=\"color: #008080; text-decoration-color: #008080; font-weight: bold\">4</span>         001__<span style=\"font-weight: bold\">[</span>gel<span style=\"font-weight: bold\">][</span>dru<span style=\"font-weight: bold\">][</span>pop_roc<span style=\"font-weight: bold\">]</span>0829__1\n",
       "                       <span style=\"color: #808000; text-decoration-color: #808000\">...</span>               \n",
       "<span style=\"color: #008080; text-decoration-color: #008080; font-weight: bold\">150445</span>              <span style=\"font-weight: bold\">[</span>tru<span style=\"font-weight: bold\">][</span>pop_roc<span style=\"font-weight: bold\">]</span>2078__3\n",
       "<span style=\"color: #008080; text-decoration-color: #008080; font-weight: bold\">150446</span>              <span style=\"font-weight: bold\">[</span>tru<span style=\"font-weight: bold\">][</span>pop_roc<span style=\"font-weight: bold\">]</span>2078__3\n",
       "<span style=\"color: #008080; text-decoration-color: #008080; font-weight: bold\">150447</span>              <span style=\"font-weight: bold\">[</span>tru<span style=\"font-weight: bold\">][</span>pop_roc<span style=\"font-weight: bold\">]</span>2078__3\n",
       "<span style=\"color: #008080; text-decoration-color: #008080; font-weight: bold\">150448</span>              <span style=\"font-weight: bold\">[</span>tru<span style=\"font-weight: bold\">][</span>pop_roc<span style=\"font-weight: bold\">]</span>2078__3\n",
       "<span style=\"color: #008080; text-decoration-color: #008080; font-weight: bold\">150449</span>              <span style=\"font-weight: bold\">[</span>tru<span style=\"font-weight: bold\">][</span>pop_roc<span style=\"font-weight: bold\">]</span>2078__3\n",
       "Length: <span style=\"color: #008080; text-decoration-color: #008080; font-weight: bold\">69875</span>, dtype: object\n",
       "</pre>\n"
      ],
      "text/plain": [
       "\n",
       "\u001b[1;36m0\u001b[0m         001__\u001b[1m[\u001b[0mgel\u001b[1m]\u001b[0m\u001b[1m[\u001b[0mdru\u001b[1m]\u001b[0m\u001b[1m[\u001b[0mpop_roc\u001b[1m]\u001b[0m0829__1\n",
       "\u001b[1;36m1\u001b[0m         001__\u001b[1m[\u001b[0mgel\u001b[1m]\u001b[0m\u001b[1m[\u001b[0mdru\u001b[1m]\u001b[0m\u001b[1m[\u001b[0mpop_roc\u001b[1m]\u001b[0m0829__1\n",
       "\u001b[1;36m2\u001b[0m         001__\u001b[1m[\u001b[0mgel\u001b[1m]\u001b[0m\u001b[1m[\u001b[0mdru\u001b[1m]\u001b[0m\u001b[1m[\u001b[0mpop_roc\u001b[1m]\u001b[0m0829__1\n",
       "\u001b[1;36m3\u001b[0m         001__\u001b[1m[\u001b[0mgel\u001b[1m]\u001b[0m\u001b[1m[\u001b[0mdru\u001b[1m]\u001b[0m\u001b[1m[\u001b[0mpop_roc\u001b[1m]\u001b[0m0829__1\n",
       "\u001b[1;36m4\u001b[0m         001__\u001b[1m[\u001b[0mgel\u001b[1m]\u001b[0m\u001b[1m[\u001b[0mdru\u001b[1m]\u001b[0m\u001b[1m[\u001b[0mpop_roc\u001b[1m]\u001b[0m0829__1\n",
       "                       \u001b[33m...\u001b[0m               \n",
       "\u001b[1;36m150445\u001b[0m              \u001b[1m[\u001b[0mtru\u001b[1m]\u001b[0m\u001b[1m[\u001b[0mpop_roc\u001b[1m]\u001b[0m2078__3\n",
       "\u001b[1;36m150446\u001b[0m              \u001b[1m[\u001b[0mtru\u001b[1m]\u001b[0m\u001b[1m[\u001b[0mpop_roc\u001b[1m]\u001b[0m2078__3\n",
       "\u001b[1;36m150447\u001b[0m              \u001b[1m[\u001b[0mtru\u001b[1m]\u001b[0m\u001b[1m[\u001b[0mpop_roc\u001b[1m]\u001b[0m2078__3\n",
       "\u001b[1;36m150448\u001b[0m              \u001b[1m[\u001b[0mtru\u001b[1m]\u001b[0m\u001b[1m[\u001b[0mpop_roc\u001b[1m]\u001b[0m2078__3\n",
       "\u001b[1;36m150449\u001b[0m              \u001b[1m[\u001b[0mtru\u001b[1m]\u001b[0m\u001b[1m[\u001b[0mpop_roc\u001b[1m]\u001b[0m2078__3\n",
       "Length: \u001b[1;36m69875\u001b[0m, dtype: object\n"
      ]
     },
     "metadata": {},
     "output_type": "display_data"
    }
   ],
   "source": [
    "test_files"
   ]
  },
  {
   "cell_type": "code",
   "execution_count": 39,
   "id": "b1a7c4d2-24de-47e0-a3e9-fd46450623db",
   "metadata": {},
   "outputs": [],
   "source": [
    "train_files.to_csv('irmas_train.csv', header=None, index=None)"
   ]
  },
  {
   "cell_type": "code",
   "execution_count": 40,
   "id": "23a91fe1-bae6-410b-8521-e905e771af7e",
   "metadata": {},
   "outputs": [],
   "source": [
    "test_files.to_csv('irmas_test.csv', header=None, index=None)"
   ]
  },
  {
   "cell_type": "code",
   "execution_count": null,
   "id": "8e5c9e46-3dd9-4aee-b80a-6c1ec4b15b2b",
   "metadata": {},
   "outputs": [],
   "source": []
  }
 ],
 "metadata": {
  "kernelspec": {
   "display_name": "ismir2022embedding",
   "language": "python",
   "name": "ismir2022embedding"
  },
  "language_info": {
   "codemirror_mode": {
    "name": "ipython",
    "version": 3
   },
   "file_extension": ".py",
   "mimetype": "text/x-python",
   "name": "python",
   "nbconvert_exporter": "python",
   "pygments_lexer": "ipython3",
   "version": "3.9.0"
  }
 },
 "nbformat": 4,
 "nbformat_minor": 5
}
