{
 "cells": [
  {
   "cell_type": "markdown",
   "id": "74241067-e670-4998-a719-6829e7ed90bc",
   "metadata": {},
   "source": [
    "# IRMAS Splitting\n",
    "\n",
    "This notebook creates a train/test split of the IRMAS training set.\n",
    "\n",
    "We do this, rather than use the original IRMAS testing set to maintain distributional equivalence.\n",
    "The original IRMAS testing set differs from the training set in a few ways, notably by variable-duration and multi-labeled examples."
   ]
  },
  {
   "cell_type": "code",
   "execution_count": 1,
   "id": "aa596808-40fc-4428-8578-5ad1114f5c1b",
   "metadata": {},
   "outputs": [],
   "source": [
    "import h5py\n",
    "import pandas as pd\n",
    "from sklearn.model_selection import GroupShuffleSplit, StratifiedGroupKFold\n",
    "from sklearn.preprocessing import LabelEncoder\n",
    "import re"
   ]
  },
  {
   "cell_type": "code",
   "execution_count": 2,
   "id": "fd84368a-16e1-4083-87ba-af55f47ff42d",
   "metadata": {},
   "outputs": [],
   "source": [
    "data = h5py.File('embeddings.h5', mode='r')"
   ]
  },
  {
   "cell_type": "code",
   "execution_count": 3,
   "id": "669be3ff-bc0b-48c0-82f3-2cb56714bd1c",
   "metadata": {},
   "outputs": [],
   "source": [
    "file_names = list(data['irmas/openl3/keys'][()])"
   ]
  },
  {
   "cell_type": "code",
   "execution_count": 4,
   "id": "84e3a2e2-67c4-4048-be69-e7ca326ddd60",
   "metadata": {},
   "outputs": [],
   "source": [
    "prefixes = [_[:3] for _ in file_names]"
   ]
  },
  {
   "cell_type": "code",
   "execution_count": 5,
   "id": "08d80221-6d98-44c4-82d9-8079eb50a994",
   "metadata": {},
   "outputs": [],
   "source": [
    "group_matcher = re.compile('.*(?P<id>\\d\\d\\d\\d)__.*')"
   ]
  },
  {
   "cell_type": "code",
   "execution_count": 6,
   "id": "cba172a4-0bda-41c0-940d-37f09b6d928a",
   "metadata": {},
   "outputs": [],
   "source": [
    "def groupname(x):\n",
    "    res = re.match(group_matcher, x)\n",
    "    return res.groups()[0]"
   ]
  },
  {
   "cell_type": "code",
   "execution_count": 7,
   "id": "26ba7a22-8927-42df-a466-da048338a51b",
   "metadata": {},
   "outputs": [],
   "source": [
    "prefixes = [groupname(_) for _ in file_names]"
   ]
  },
  {
   "cell_type": "code",
   "execution_count": 8,
   "id": "38a53428-0aff-4f19-9c57-57fae9774512",
   "metadata": {},
   "outputs": [
    {
     "data": {
      "text/html": [
       "<pre style=\"white-space:pre;overflow-x:auto;line-height:normal;font-family:Menlo,'DejaVu Sans Mono',consolas,'Courier New',monospace\"><span style=\"color: #008080; text-decoration-color: #008080; font-weight: bold\">2261</span>\n",
       "</pre>\n"
      ],
      "text/plain": [
       "\u001b[1;36m2261\u001b[0m\n"
      ]
     },
     "metadata": {},
     "output_type": "display_data"
    }
   ],
   "source": [
    "len(set(prefixes))"
   ]
  },
  {
   "cell_type": "code",
   "execution_count": 9,
   "id": "b033ae6d-7053-44b5-bb6f-b9e4045d2607",
   "metadata": {},
   "outputs": [
    {
     "data": {
      "text/html": [
       "<pre style=\"white-space:pre;overflow-x:auto;line-height:normal;font-family:Menlo,'DejaVu Sans Mono',consolas,'Courier New',monospace\">\n",
       "<span style=\"font-weight: bold\">[</span>\n",
       "    <span style=\"color: #008000; text-decoration-color: #008000\">'001__[gel][dru][pop_roc]0829__1'</span>,\n",
       "    <span style=\"color: #008000; text-decoration-color: #008000\">'001__[gel][dru][pop_roc]0829__1'</span>,\n",
       "    <span style=\"color: #008000; text-decoration-color: #008000\">'001__[gel][dru][pop_roc]0829__1'</span>,\n",
       "    <span style=\"color: #008000; text-decoration-color: #008000\">'001__[gel][dru][pop_roc]0829__1'</span>,\n",
       "    <span style=\"color: #008000; text-decoration-color: #008000\">'001__[gel][dru][pop_roc]0829__1'</span>,\n",
       "    <span style=\"color: #008000; text-decoration-color: #008000\">'001__[gel][dru][pop_roc]0829__1'</span>,\n",
       "    <span style=\"color: #008000; text-decoration-color: #008000\">'001__[gel][dru][pop_roc]0829__1'</span>,\n",
       "    <span style=\"color: #008000; text-decoration-color: #008000\">'001__[gel][dru][pop_roc]0829__1'</span>,\n",
       "    <span style=\"color: #008000; text-decoration-color: #008000\">'001__[gel][dru][pop_roc]0829__1'</span>,\n",
       "    <span style=\"color: #008000; text-decoration-color: #008000\">'001__[gel][dru][pop_roc]0829__1'</span>\n",
       "<span style=\"font-weight: bold\">]</span>\n",
       "</pre>\n"
      ],
      "text/plain": [
       "\n",
       "\u001b[1m[\u001b[0m\n",
       "    \u001b[32m'001__\u001b[0m\u001b[32m[\u001b[0m\u001b[32mgel\u001b[0m\u001b[32m]\u001b[0m\u001b[32m[\u001b[0m\u001b[32mdru\u001b[0m\u001b[32m]\u001b[0m\u001b[32m[\u001b[0m\u001b[32mpop_roc\u001b[0m\u001b[32m]\u001b[0m\u001b[32m0829__1'\u001b[0m,\n",
       "    \u001b[32m'001__\u001b[0m\u001b[32m[\u001b[0m\u001b[32mgel\u001b[0m\u001b[32m]\u001b[0m\u001b[32m[\u001b[0m\u001b[32mdru\u001b[0m\u001b[32m]\u001b[0m\u001b[32m[\u001b[0m\u001b[32mpop_roc\u001b[0m\u001b[32m]\u001b[0m\u001b[32m0829__1'\u001b[0m,\n",
       "    \u001b[32m'001__\u001b[0m\u001b[32m[\u001b[0m\u001b[32mgel\u001b[0m\u001b[32m]\u001b[0m\u001b[32m[\u001b[0m\u001b[32mdru\u001b[0m\u001b[32m]\u001b[0m\u001b[32m[\u001b[0m\u001b[32mpop_roc\u001b[0m\u001b[32m]\u001b[0m\u001b[32m0829__1'\u001b[0m,\n",
       "    \u001b[32m'001__\u001b[0m\u001b[32m[\u001b[0m\u001b[32mgel\u001b[0m\u001b[32m]\u001b[0m\u001b[32m[\u001b[0m\u001b[32mdru\u001b[0m\u001b[32m]\u001b[0m\u001b[32m[\u001b[0m\u001b[32mpop_roc\u001b[0m\u001b[32m]\u001b[0m\u001b[32m0829__1'\u001b[0m,\n",
       "    \u001b[32m'001__\u001b[0m\u001b[32m[\u001b[0m\u001b[32mgel\u001b[0m\u001b[32m]\u001b[0m\u001b[32m[\u001b[0m\u001b[32mdru\u001b[0m\u001b[32m]\u001b[0m\u001b[32m[\u001b[0m\u001b[32mpop_roc\u001b[0m\u001b[32m]\u001b[0m\u001b[32m0829__1'\u001b[0m,\n",
       "    \u001b[32m'001__\u001b[0m\u001b[32m[\u001b[0m\u001b[32mgel\u001b[0m\u001b[32m]\u001b[0m\u001b[32m[\u001b[0m\u001b[32mdru\u001b[0m\u001b[32m]\u001b[0m\u001b[32m[\u001b[0m\u001b[32mpop_roc\u001b[0m\u001b[32m]\u001b[0m\u001b[32m0829__1'\u001b[0m,\n",
       "    \u001b[32m'001__\u001b[0m\u001b[32m[\u001b[0m\u001b[32mgel\u001b[0m\u001b[32m]\u001b[0m\u001b[32m[\u001b[0m\u001b[32mdru\u001b[0m\u001b[32m]\u001b[0m\u001b[32m[\u001b[0m\u001b[32mpop_roc\u001b[0m\u001b[32m]\u001b[0m\u001b[32m0829__1'\u001b[0m,\n",
       "    \u001b[32m'001__\u001b[0m\u001b[32m[\u001b[0m\u001b[32mgel\u001b[0m\u001b[32m]\u001b[0m\u001b[32m[\u001b[0m\u001b[32mdru\u001b[0m\u001b[32m]\u001b[0m\u001b[32m[\u001b[0m\u001b[32mpop_roc\u001b[0m\u001b[32m]\u001b[0m\u001b[32m0829__1'\u001b[0m,\n",
       "    \u001b[32m'001__\u001b[0m\u001b[32m[\u001b[0m\u001b[32mgel\u001b[0m\u001b[32m]\u001b[0m\u001b[32m[\u001b[0m\u001b[32mdru\u001b[0m\u001b[32m]\u001b[0m\u001b[32m[\u001b[0m\u001b[32mpop_roc\u001b[0m\u001b[32m]\u001b[0m\u001b[32m0829__1'\u001b[0m,\n",
       "    \u001b[32m'001__\u001b[0m\u001b[32m[\u001b[0m\u001b[32mgel\u001b[0m\u001b[32m]\u001b[0m\u001b[32m[\u001b[0m\u001b[32mdru\u001b[0m\u001b[32m]\u001b[0m\u001b[32m[\u001b[0m\u001b[32mpop_roc\u001b[0m\u001b[32m]\u001b[0m\u001b[32m0829__1'\u001b[0m\n",
       "\u001b[1m]\u001b[0m\n"
      ]
     },
     "metadata": {},
     "output_type": "display_data"
    }
   ],
   "source": [
    "file_names[:10]"
   ]
  },
  {
   "cell_type": "code",
   "execution_count": 10,
   "id": "dc7063c6-ce1f-4fe9-ac24-97465f72cd01",
   "metadata": {},
   "outputs": [],
   "source": [
    "matcher = re.compile(r'.*?\\[(?P<class>\\w+)\\].*')"
   ]
  },
  {
   "cell_type": "code",
   "execution_count": 11,
   "id": "505d1af2-042a-48d2-ae2f-bf200f0244f7",
   "metadata": {},
   "outputs": [],
   "source": [
    "def classname(x):\n",
    "    res = re.match(matcher, x)\n",
    "    return res.groups()[0]"
   ]
  },
  {
   "cell_type": "code",
   "execution_count": 12,
   "id": "a56f5a8d-29c1-4f75-83e1-952123582c10",
   "metadata": {},
   "outputs": [],
   "source": [
    "labels = [classname(_) for _ in file_names]\n",
    "classes = set(labels)"
   ]
  },
  {
   "cell_type": "code",
   "execution_count": 13,
   "id": "550bfc43-a95c-425b-bbe3-f00c67527865",
   "metadata": {},
   "outputs": [],
   "source": [
    "encoder = LabelEncoder()\n",
    "Y = encoder.fit_transform(labels)"
   ]
  },
  {
   "cell_type": "code",
   "execution_count": 14,
   "id": "71c7b03b-c430-408e-a85f-deaef2f7e8dc",
   "metadata": {},
   "outputs": [],
   "source": [
    "splitter = StratifiedGroupKFold(n_splits=4, random_state=20220419, shuffle=True)"
   ]
  },
  {
   "cell_type": "code",
   "execution_count": 15,
   "id": "490ff451-fb0c-4ade-a0b7-9ff65e76f181",
   "metadata": {},
   "outputs": [],
   "source": [
    "train_ids, test_ids = next(splitter.split(file_names, y=Y, groups=prefixes))"
   ]
  },
  {
   "cell_type": "code",
   "execution_count": 16,
   "id": "eca84734-a41d-4c40-83e3-3e69936e3a12",
   "metadata": {},
   "outputs": [
    {
     "data": {
      "text/html": [
       "<pre style=\"white-space:pre;overflow-x:auto;line-height:normal;font-family:Menlo,'DejaVu Sans Mono',consolas,'Courier New',monospace\"><span style=\"font-weight: bold\">(</span><span style=\"color: #008080; text-decoration-color: #008080; font-weight: bold\">125975</span>, <span style=\"color: #008080; text-decoration-color: #008080; font-weight: bold\">41650</span><span style=\"font-weight: bold\">)</span>\n",
       "</pre>\n"
      ],
      "text/plain": [
       "\u001b[1m(\u001b[0m\u001b[1;36m125975\u001b[0m, \u001b[1;36m41650\u001b[0m\u001b[1m)\u001b[0m\n"
      ]
     },
     "metadata": {},
     "output_type": "display_data"
    }
   ],
   "source": [
    "len(train_ids), len(test_ids)"
   ]
  },
  {
   "cell_type": "code",
   "execution_count": 17,
   "id": "4180b93e-20e8-44ce-bbee-9e7f3fd7b151",
   "metadata": {},
   "outputs": [
    {
     "data": {
      "text/html": [
       "<pre style=\"white-space:pre;overflow-x:auto;line-height:normal;font-family:Menlo,'DejaVu Sans Mono',consolas,'Courier New',monospace\"><span style=\"color: #800080; text-decoration-color: #800080; font-weight: bold\">array</span><span style=\"font-weight: bold\">([</span><span style=\"color: #008080; text-decoration-color: #008080; font-weight: bold\">0</span>, <span style=\"color: #008080; text-decoration-color: #008080; font-weight: bold\">1</span>, <span style=\"color: #008080; text-decoration-color: #008080; font-weight: bold\">2</span>, <span style=\"color: #008080; text-decoration-color: #008080; font-weight: bold\">3</span>, <span style=\"color: #008080; text-decoration-color: #008080; font-weight: bold\">4</span>, <span style=\"color: #008080; text-decoration-color: #008080; font-weight: bold\">5</span>, <span style=\"color: #008080; text-decoration-color: #008080; font-weight: bold\">6</span>, <span style=\"color: #008080; text-decoration-color: #008080; font-weight: bold\">7</span>, <span style=\"color: #008080; text-decoration-color: #008080; font-weight: bold\">8</span>, <span style=\"color: #008080; text-decoration-color: #008080; font-weight: bold\">9</span><span style=\"font-weight: bold\">])</span>\n",
       "</pre>\n"
      ],
      "text/plain": [
       "\u001b[1;35marray\u001b[0m\u001b[1m(\u001b[0m\u001b[1m[\u001b[0m\u001b[1;36m0\u001b[0m, \u001b[1;36m1\u001b[0m, \u001b[1;36m2\u001b[0m, \u001b[1;36m3\u001b[0m, \u001b[1;36m4\u001b[0m, \u001b[1;36m5\u001b[0m, \u001b[1;36m6\u001b[0m, \u001b[1;36m7\u001b[0m, \u001b[1;36m8\u001b[0m, \u001b[1;36m9\u001b[0m\u001b[1m]\u001b[0m\u001b[1m)\u001b[0m\n"
      ]
     },
     "metadata": {},
     "output_type": "display_data"
    }
   ],
   "source": [
    "train_ids[:10]"
   ]
  },
  {
   "cell_type": "code",
   "execution_count": 18,
   "id": "806cc051-af36-4f2c-b112-7bab17c6186f",
   "metadata": {},
   "outputs": [],
   "source": [
    "all_files = pd.Series(file_names)"
   ]
  },
  {
   "cell_type": "code",
   "execution_count": 19,
   "id": "2380ddfa-77fc-43f0-aca3-347ceaf867e2",
   "metadata": {},
   "outputs": [],
   "source": [
    "train_files = all_files[train_ids]"
   ]
  },
  {
   "cell_type": "code",
   "execution_count": 20,
   "id": "6a989c46-5ae4-41e0-815a-17f90221cc73",
   "metadata": {},
   "outputs": [],
   "source": [
    "test_files = all_files[test_ids]"
   ]
  },
  {
   "cell_type": "code",
   "execution_count": 21,
   "id": "4334e494-32f8-409f-8d60-d40498c6ec8b",
   "metadata": {},
   "outputs": [
    {
     "data": {
      "text/html": [
       "<pre style=\"white-space:pre;overflow-x:auto;line-height:normal;font-family:Menlo,'DejaVu Sans Mono',consolas,'Courier New',monospace\"><span style=\"font-weight: bold\">&lt;</span><span style=\"color: #ff00ff; text-decoration-color: #ff00ff; font-weight: bold\">AxesSubplot:</span><span style=\"font-weight: bold\">&gt;</span>\n",
       "</pre>\n"
      ],
      "text/plain": [
       "\u001b[1m<\u001b[0m\u001b[1;95mAxesSubplot:\u001b[0m\u001b[1m>\u001b[0m\n"
      ]
     },
     "metadata": {},
     "output_type": "display_data"
    },
    {
     "data": {
      "text/html": [
       "<pre style=\"white-space:pre;overflow-x:auto;line-height:normal;font-family:Menlo,'DejaVu Sans Mono',consolas,'Courier New',monospace\"><span style=\"font-weight: bold\">&lt;</span><span style=\"color: #ff00ff; text-decoration-color: #ff00ff; font-weight: bold\">Figure</span><span style=\"color: #000000; text-decoration-color: #000000\"> size 432x288 with </span><span style=\"color: #008080; text-decoration-color: #008080; font-weight: bold\">1</span><span style=\"color: #000000; text-decoration-color: #000000\"> Axes</span><span style=\"font-weight: bold\">&gt;</span>\n",
       "</pre>\n"
      ],
      "text/plain": [
       "\u001b[1m<\u001b[0m\u001b[1;95mFigure\u001b[0m\u001b[39m size 432x288 with \u001b[0m\u001b[1;36m1\u001b[0m\u001b[39m Axes\u001b[0m\u001b[1m>\u001b[0m\n"
      ]
     },
     "metadata": {},
     "output_type": "display_data"
    },
    {
     "data": {
      "image/png": "[encoded data removed]"
     },
     "metadata": {
      "needs_background": "light"
     },
     "output_type": "display_data"
    }
   ],
   "source": [
    "pd.Series(encoder.inverse_transform(Y[train_ids])).hist()"
   ]
  },
  {
   "cell_type": "code",
   "execution_count": 22,
   "id": "80bcf5ff-8826-46c7-9dc8-719b5898ccf9",
   "metadata": {},
   "outputs": [
    {
     "data": {
      "text/html": [
       "<pre style=\"white-space:pre;overflow-x:auto;line-height:normal;font-family:Menlo,'DejaVu Sans Mono',consolas,'Courier New',monospace\"><span style=\"font-weight: bold\">&lt;</span><span style=\"color: #ff00ff; text-decoration-color: #ff00ff; font-weight: bold\">AxesSubplot:</span><span style=\"font-weight: bold\">&gt;</span>\n",
       "</pre>\n"
      ],
      "text/plain": [
       "\u001b[1m<\u001b[0m\u001b[1;95mAxesSubplot:\u001b[0m\u001b[1m>\u001b[0m\n"
      ]
     },
     "metadata": {},
     "output_type": "display_data"
    },
    {
     "data": {
      "text/html": [
       "<pre style=\"white-space:pre;overflow-x:auto;line-height:normal;font-family:Menlo,'DejaVu Sans Mono',consolas,'Courier New',monospace\"><span style=\"font-weight: bold\">&lt;</span><span style=\"color: #ff00ff; text-decoration-color: #ff00ff; font-weight: bold\">Figure</span><span style=\"color: #000000; text-decoration-color: #000000\"> size 432x288 with </span><span style=\"color: #008080; text-decoration-color: #008080; font-weight: bold\">1</span><span style=\"color: #000000; text-decoration-color: #000000\"> Axes</span><span style=\"font-weight: bold\">&gt;</span>\n",
       "</pre>\n"
      ],
      "text/plain": [
       "\u001b[1m<\u001b[0m\u001b[1;95mFigure\u001b[0m\u001b[39m size 432x288 with \u001b[0m\u001b[1;36m1\u001b[0m\u001b[39m Axes\u001b[0m\u001b[1m>\u001b[0m\n"
      ]
     },
     "metadata": {},
     "output_type": "display_data"
    },
    {
     "data": {
      "image/png": "[encoded data removed]"
     },
     "metadata": {
      "needs_background": "light"
     },
     "output_type": "display_data"
    }
   ],
   "source": [
    "pd.Series(encoder.inverse_transform(Y[test_ids])).hist()"
   ]
  },
  {
   "cell_type": "code",
   "execution_count": 23,
   "id": "65643ad2-a319-418f-8823-2a2bb4ccbc3a",
   "metadata": {},
   "outputs": [
    {
     "data": {
      "text/html": [
       "<pre style=\"white-space:pre;overflow-x:auto;line-height:normal;font-family:Menlo,'DejaVu Sans Mono',consolas,'Courier New',monospace\">\n",
       "<span style=\"color: #008080; text-decoration-color: #008080; font-weight: bold\">0</span>         001__<span style=\"font-weight: bold\">[</span>gel<span style=\"font-weight: bold\">][</span>dru<span style=\"font-weight: bold\">][</span>pop_roc<span style=\"font-weight: bold\">]</span>0829__1\n",
       "<span style=\"color: #008080; text-decoration-color: #008080; font-weight: bold\">1</span>         001__<span style=\"font-weight: bold\">[</span>gel<span style=\"font-weight: bold\">][</span>dru<span style=\"font-weight: bold\">][</span>pop_roc<span style=\"font-weight: bold\">]</span>0829__1\n",
       "<span style=\"color: #008080; text-decoration-color: #008080; font-weight: bold\">2</span>         001__<span style=\"font-weight: bold\">[</span>gel<span style=\"font-weight: bold\">][</span>dru<span style=\"font-weight: bold\">][</span>pop_roc<span style=\"font-weight: bold\">]</span>0829__1\n",
       "<span style=\"color: #008080; text-decoration-color: #008080; font-weight: bold\">3</span>         001__<span style=\"font-weight: bold\">[</span>gel<span style=\"font-weight: bold\">][</span>dru<span style=\"font-weight: bold\">][</span>pop_roc<span style=\"font-weight: bold\">]</span>0829__1\n",
       "<span style=\"color: #008080; text-decoration-color: #008080; font-weight: bold\">4</span>         001__<span style=\"font-weight: bold\">[</span>gel<span style=\"font-weight: bold\">][</span>dru<span style=\"font-weight: bold\">][</span>pop_roc<span style=\"font-weight: bold\">]</span>0829__1\n",
       "                       <span style=\"color: #808000; text-decoration-color: #808000\">...</span>               \n",
       "<span style=\"color: #008080; text-decoration-color: #008080; font-weight: bold\">167620</span>              <span style=\"font-weight: bold\">[</span>voi<span style=\"font-weight: bold\">][</span>pop_roc<span style=\"font-weight: bold\">]</span>2548__3\n",
       "<span style=\"color: #008080; text-decoration-color: #008080; font-weight: bold\">167621</span>              <span style=\"font-weight: bold\">[</span>voi<span style=\"font-weight: bold\">][</span>pop_roc<span style=\"font-weight: bold\">]</span>2548__3\n",
       "<span style=\"color: #008080; text-decoration-color: #008080; font-weight: bold\">167622</span>              <span style=\"font-weight: bold\">[</span>voi<span style=\"font-weight: bold\">][</span>pop_roc<span style=\"font-weight: bold\">]</span>2548__3\n",
       "<span style=\"color: #008080; text-decoration-color: #008080; font-weight: bold\">167623</span>              <span style=\"font-weight: bold\">[</span>voi<span style=\"font-weight: bold\">][</span>pop_roc<span style=\"font-weight: bold\">]</span>2548__3\n",
       "<span style=\"color: #008080; text-decoration-color: #008080; font-weight: bold\">167624</span>              <span style=\"font-weight: bold\">[</span>voi<span style=\"font-weight: bold\">][</span>pop_roc<span style=\"font-weight: bold\">]</span>2548__3\n",
       "Length: <span style=\"color: #008080; text-decoration-color: #008080; font-weight: bold\">125975</span>, dtype: object\n",
       "</pre>\n"
      ],
      "text/plain": [
       "\n",
       "\u001b[1;36m0\u001b[0m         001__\u001b[1m[\u001b[0mgel\u001b[1m]\u001b[0m\u001b[1m[\u001b[0mdru\u001b[1m]\u001b[0m\u001b[1m[\u001b[0mpop_roc\u001b[1m]\u001b[0m0829__1\n",
       "\u001b[1;36m1\u001b[0m         001__\u001b[1m[\u001b[0mgel\u001b[1m]\u001b[0m\u001b[1m[\u001b[0mdru\u001b[1m]\u001b[0m\u001b[1m[\u001b[0mpop_roc\u001b[1m]\u001b[0m0829__1\n",
       "\u001b[1;36m2\u001b[0m         001__\u001b[1m[\u001b[0mgel\u001b[1m]\u001b[0m\u001b[1m[\u001b[0mdru\u001b[1m]\u001b[0m\u001b[1m[\u001b[0mpop_roc\u001b[1m]\u001b[0m0829__1\n",
       "\u001b[1;36m3\u001b[0m         001__\u001b[1m[\u001b[0mgel\u001b[1m]\u001b[0m\u001b[1m[\u001b[0mdru\u001b[1m]\u001b[0m\u001b[1m[\u001b[0mpop_roc\u001b[1m]\u001b[0m0829__1\n",
       "\u001b[1;36m4\u001b[0m         001__\u001b[1m[\u001b[0mgel\u001b[1m]\u001b[0m\u001b[1m[\u001b[0mdru\u001b[1m]\u001b[0m\u001b[1m[\u001b[0mpop_roc\u001b[1m]\u001b[0m0829__1\n",
       "                       \u001b[33m...\u001b[0m               \n",
       "\u001b[1;36m167620\u001b[0m              \u001b[1m[\u001b[0mvoi\u001b[1m]\u001b[0m\u001b[1m[\u001b[0mpop_roc\u001b[1m]\u001b[0m2548__3\n",
       "\u001b[1;36m167621\u001b[0m              \u001b[1m[\u001b[0mvoi\u001b[1m]\u001b[0m\u001b[1m[\u001b[0mpop_roc\u001b[1m]\u001b[0m2548__3\n",
       "\u001b[1;36m167622\u001b[0m              \u001b[1m[\u001b[0mvoi\u001b[1m]\u001b[0m\u001b[1m[\u001b[0mpop_roc\u001b[1m]\u001b[0m2548__3\n",
       "\u001b[1;36m167623\u001b[0m              \u001b[1m[\u001b[0mvoi\u001b[1m]\u001b[0m\u001b[1m[\u001b[0mpop_roc\u001b[1m]\u001b[0m2548__3\n",
       "\u001b[1;36m167624\u001b[0m              \u001b[1m[\u001b[0mvoi\u001b[1m]\u001b[0m\u001b[1m[\u001b[0mpop_roc\u001b[1m]\u001b[0m2548__3\n",
       "Length: \u001b[1;36m125975\u001b[0m, dtype: object\n"
      ]
     },
     "metadata": {},
     "output_type": "display_data"
    }
   ],
   "source": [
    "train_files"
   ]
  },
  {
   "cell_type": "code",
   "execution_count": 24,
   "id": "731b236c-f63c-45ef-93eb-92d7802189cd",
   "metadata": {},
   "outputs": [
    {
     "data": {
      "text/html": [
       "<pre style=\"white-space:pre;overflow-x:auto;line-height:normal;font-family:Menlo,'DejaVu Sans Mono',consolas,'Courier New',monospace\">\n",
       "<span style=\"color: #008080; text-decoration-color: #008080; font-weight: bold\">75</span>        001__<span style=\"font-weight: bold\">[</span>org<span style=\"font-weight: bold\">][</span>dru<span style=\"font-weight: bold\">][</span>jaz_blu<span style=\"font-weight: bold\">]</span>1123__1\n",
       "<span style=\"color: #008080; text-decoration-color: #008080; font-weight: bold\">76</span>        001__<span style=\"font-weight: bold\">[</span>org<span style=\"font-weight: bold\">][</span>dru<span style=\"font-weight: bold\">][</span>jaz_blu<span style=\"font-weight: bold\">]</span>1123__1\n",
       "<span style=\"color: #008080; text-decoration-color: #008080; font-weight: bold\">77</span>        001__<span style=\"font-weight: bold\">[</span>org<span style=\"font-weight: bold\">][</span>dru<span style=\"font-weight: bold\">][</span>jaz_blu<span style=\"font-weight: bold\">]</span>1123__1\n",
       "<span style=\"color: #008080; text-decoration-color: #008080; font-weight: bold\">78</span>        001__<span style=\"font-weight: bold\">[</span>org<span style=\"font-weight: bold\">][</span>dru<span style=\"font-weight: bold\">][</span>jaz_blu<span style=\"font-weight: bold\">]</span>1123__1\n",
       "<span style=\"color: #008080; text-decoration-color: #008080; font-weight: bold\">79</span>        001__<span style=\"font-weight: bold\">[</span>org<span style=\"font-weight: bold\">][</span>dru<span style=\"font-weight: bold\">][</span>jaz_blu<span style=\"font-weight: bold\">]</span>1123__1\n",
       "                       <span style=\"color: #808000; text-decoration-color: #808000\">...</span>               \n",
       "<span style=\"color: #008080; text-decoration-color: #008080; font-weight: bold\">167395</span>              <span style=\"font-weight: bold\">[</span>voi<span style=\"font-weight: bold\">][</span>pop_roc<span style=\"font-weight: bold\">]</span>2545__3\n",
       "<span style=\"color: #008080; text-decoration-color: #008080; font-weight: bold\">167396</span>              <span style=\"font-weight: bold\">[</span>voi<span style=\"font-weight: bold\">][</span>pop_roc<span style=\"font-weight: bold\">]</span>2545__3\n",
       "<span style=\"color: #008080; text-decoration-color: #008080; font-weight: bold\">167397</span>              <span style=\"font-weight: bold\">[</span>voi<span style=\"font-weight: bold\">][</span>pop_roc<span style=\"font-weight: bold\">]</span>2545__3\n",
       "<span style=\"color: #008080; text-decoration-color: #008080; font-weight: bold\">167398</span>              <span style=\"font-weight: bold\">[</span>voi<span style=\"font-weight: bold\">][</span>pop_roc<span style=\"font-weight: bold\">]</span>2545__3\n",
       "<span style=\"color: #008080; text-decoration-color: #008080; font-weight: bold\">167399</span>              <span style=\"font-weight: bold\">[</span>voi<span style=\"font-weight: bold\">][</span>pop_roc<span style=\"font-weight: bold\">]</span>2545__3\n",
       "Length: <span style=\"color: #008080; text-decoration-color: #008080; font-weight: bold\">41650</span>, dtype: object\n",
       "</pre>\n"
      ],
      "text/plain": [
       "\n",
       "\u001b[1;36m75\u001b[0m        001__\u001b[1m[\u001b[0morg\u001b[1m]\u001b[0m\u001b[1m[\u001b[0mdru\u001b[1m]\u001b[0m\u001b[1m[\u001b[0mjaz_blu\u001b[1m]\u001b[0m1123__1\n",
       "\u001b[1;36m76\u001b[0m        001__\u001b[1m[\u001b[0morg\u001b[1m]\u001b[0m\u001b[1m[\u001b[0mdru\u001b[1m]\u001b[0m\u001b[1m[\u001b[0mjaz_blu\u001b[1m]\u001b[0m1123__1\n",
       "\u001b[1;36m77\u001b[0m        001__\u001b[1m[\u001b[0morg\u001b[1m]\u001b[0m\u001b[1m[\u001b[0mdru\u001b[1m]\u001b[0m\u001b[1m[\u001b[0mjaz_blu\u001b[1m]\u001b[0m1123__1\n",
       "\u001b[1;36m78\u001b[0m        001__\u001b[1m[\u001b[0morg\u001b[1m]\u001b[0m\u001b[1m[\u001b[0mdru\u001b[1m]\u001b[0m\u001b[1m[\u001b[0mjaz_blu\u001b[1m]\u001b[0m1123__1\n",
       "\u001b[1;36m79\u001b[0m        001__\u001b[1m[\u001b[0morg\u001b[1m]\u001b[0m\u001b[1m[\u001b[0mdru\u001b[1m]\u001b[0m\u001b[1m[\u001b[0mjaz_blu\u001b[1m]\u001b[0m1123__1\n",
       "                       \u001b[33m...\u001b[0m               \n",
       "\u001b[1;36m167395\u001b[0m              \u001b[1m[\u001b[0mvoi\u001b[1m]\u001b[0m\u001b[1m[\u001b[0mpop_roc\u001b[1m]\u001b[0m2545__3\n",
       "\u001b[1;36m167396\u001b[0m              \u001b[1m[\u001b[0mvoi\u001b[1m]\u001b[0m\u001b[1m[\u001b[0mpop_roc\u001b[1m]\u001b[0m2545__3\n",
       "\u001b[1;36m167397\u001b[0m              \u001b[1m[\u001b[0mvoi\u001b[1m]\u001b[0m\u001b[1m[\u001b[0mpop_roc\u001b[1m]\u001b[0m2545__3\n",
       "\u001b[1;36m167398\u001b[0m              \u001b[1m[\u001b[0mvoi\u001b[1m]\u001b[0m\u001b[1m[\u001b[0mpop_roc\u001b[1m]\u001b[0m2545__3\n",
       "\u001b[1;36m167399\u001b[0m              \u001b[1m[\u001b[0mvoi\u001b[1m]\u001b[0m\u001b[1m[\u001b[0mpop_roc\u001b[1m]\u001b[0m2545__3\n",
       "Length: \u001b[1;36m41650\u001b[0m, dtype: object\n"
      ]
     },
     "metadata": {},
     "output_type": "display_data"
    }
   ],
   "source": [
    "test_files"
   ]
  },
  {
   "cell_type": "code",
   "execution_count": 25,
   "id": "d9ab80b1-54da-43a0-aac9-a129cd4cd995",
   "metadata": {},
   "outputs": [
    {
     "data": {
      "text/html": [
       "<pre style=\"white-space:pre;overflow-x:auto;line-height:normal;font-family:Menlo,'DejaVu Sans Mono',consolas,'Courier New',monospace\"><span style=\"font-weight: bold\">(</span><span style=\"color: #008080; text-decoration-color: #008080; font-weight: bold\">125975</span>, <span style=\"color: #008080; text-decoration-color: #008080; font-weight: bold\">41650</span><span style=\"font-weight: bold\">)</span>\n",
       "</pre>\n"
      ],
      "text/plain": [
       "\u001b[1m(\u001b[0m\u001b[1;36m125975\u001b[0m, \u001b[1;36m41650\u001b[0m\u001b[1m)\u001b[0m\n"
      ]
     },
     "metadata": {},
     "output_type": "display_data"
    }
   ],
   "source": [
    "len(train_files), len(test_files)"
   ]
  },
  {
   "cell_type": "code",
   "execution_count": 26,
   "id": "8ba61c20-fef2-4aa6-9690-cca437775e5c",
   "metadata": {},
   "outputs": [],
   "source": [
    "train_files.to_csv('irmas_train.csv', header=None, index=None)"
   ]
  },
  {
   "cell_type": "code",
   "execution_count": 27,
   "id": "ebdbb3d5-9f1e-4c1e-acde-e87647f76801",
   "metadata": {},
   "outputs": [],
   "source": [
    "test_files.to_csv('irmas_test.csv', header=None, index=None)"
   ]
  },
  {
   "cell_type": "markdown",
   "id": "ab162a97-7f6e-41d6-8333-05d4d8abb672",
   "metadata": {},
   "source": [
    "---\n",
    "First pass, class-unconditional splits, don't use."
   ]
  },
  {
   "cell_type": "code",
   "execution_count": 64,
   "id": "f5dfd8c2-d0a1-4593-ae16-bcb6937fdd8c",
   "metadata": {},
   "outputs": [],
   "source": [
    "splitter = GroupShuffleSplit(n_splits=1, random_state=20220419, test_size=0.25)"
   ]
  },
  {
   "cell_type": "code",
   "execution_count": 65,
   "id": "7e0542eb-543e-412a-b07f-0020cb603e43",
   "metadata": {},
   "outputs": [],
   "source": [
    "train_ids, test_ids = next(splitter.split(file_names, groups=prefixes))"
   ]
  },
  {
   "cell_type": "code",
   "execution_count": 66,
   "id": "d8eb8de9-3671-44a6-85f9-631d41fd3e0a",
   "metadata": {},
   "outputs": [],
   "source": [
    "all_files = pd.Series(file_names)"
   ]
  },
  {
   "cell_type": "code",
   "execution_count": 67,
   "id": "5b3f756e-2e1c-4606-823b-7223fd760958",
   "metadata": {},
   "outputs": [],
   "source": [
    "train_files = all_files[train_ids]"
   ]
  },
  {
   "cell_type": "code",
   "execution_count": 68,
   "id": "358740bc-c126-4076-a939-666d0b6f26e6",
   "metadata": {},
   "outputs": [],
   "source": [
    "test_files = all_files[test_ids]"
   ]
  },
  {
   "cell_type": "code",
   "execution_count": 69,
   "id": "a87d5ef6-74a3-48ce-b14e-11f9ec2bfc70",
   "metadata": {},
   "outputs": [
    {
     "data": {
      "text/html": [
       "<pre style=\"white-space:pre;overflow-x:auto;line-height:normal;font-family:Menlo,'DejaVu Sans Mono',consolas,'Courier New',monospace\">\n",
       "<span style=\"color: #008080; text-decoration-color: #008080; font-weight: bold\">600</span>       003__<span style=\"font-weight: bold\">[</span>voi<span style=\"font-weight: bold\">][</span>dru<span style=\"font-weight: bold\">][</span>cou_fol<span style=\"font-weight: bold\">]</span>2431__1\n",
       "<span style=\"color: #008080; text-decoration-color: #008080; font-weight: bold\">601</span>       003__<span style=\"font-weight: bold\">[</span>voi<span style=\"font-weight: bold\">][</span>dru<span style=\"font-weight: bold\">][</span>cou_fol<span style=\"font-weight: bold\">]</span>2431__1\n",
       "<span style=\"color: #008080; text-decoration-color: #008080; font-weight: bold\">602</span>       003__<span style=\"font-weight: bold\">[</span>voi<span style=\"font-weight: bold\">][</span>dru<span style=\"font-weight: bold\">][</span>cou_fol<span style=\"font-weight: bold\">]</span>2431__1\n",
       "<span style=\"color: #008080; text-decoration-color: #008080; font-weight: bold\">603</span>       003__<span style=\"font-weight: bold\">[</span>voi<span style=\"font-weight: bold\">][</span>dru<span style=\"font-weight: bold\">][</span>cou_fol<span style=\"font-weight: bold\">]</span>2431__1\n",
       "<span style=\"color: #008080; text-decoration-color: #008080; font-weight: bold\">604</span>       003__<span style=\"font-weight: bold\">[</span>voi<span style=\"font-weight: bold\">][</span>dru<span style=\"font-weight: bold\">][</span>cou_fol<span style=\"font-weight: bold\">]</span>2431__1\n",
       "                       <span style=\"color: #808000; text-decoration-color: #808000\">...</span>               \n",
       "<span style=\"color: #008080; text-decoration-color: #008080; font-weight: bold\">167620</span>              <span style=\"font-weight: bold\">[</span>voi<span style=\"font-weight: bold\">][</span>pop_roc<span style=\"font-weight: bold\">]</span>2548__3\n",
       "<span style=\"color: #008080; text-decoration-color: #008080; font-weight: bold\">167621</span>              <span style=\"font-weight: bold\">[</span>voi<span style=\"font-weight: bold\">][</span>pop_roc<span style=\"font-weight: bold\">]</span>2548__3\n",
       "<span style=\"color: #008080; text-decoration-color: #008080; font-weight: bold\">167622</span>              <span style=\"font-weight: bold\">[</span>voi<span style=\"font-weight: bold\">][</span>pop_roc<span style=\"font-weight: bold\">]</span>2548__3\n",
       "<span style=\"color: #008080; text-decoration-color: #008080; font-weight: bold\">167623</span>              <span style=\"font-weight: bold\">[</span>voi<span style=\"font-weight: bold\">][</span>pop_roc<span style=\"font-weight: bold\">]</span>2548__3\n",
       "<span style=\"color: #008080; text-decoration-color: #008080; font-weight: bold\">167624</span>              <span style=\"font-weight: bold\">[</span>voi<span style=\"font-weight: bold\">][</span>pop_roc<span style=\"font-weight: bold\">]</span>2548__3\n",
       "Length: <span style=\"color: #008080; text-decoration-color: #008080; font-weight: bold\">97750</span>, dtype: object\n",
       "</pre>\n"
      ],
      "text/plain": [
       "\n",
       "\u001b[1;36m600\u001b[0m       003__\u001b[1m[\u001b[0mvoi\u001b[1m]\u001b[0m\u001b[1m[\u001b[0mdru\u001b[1m]\u001b[0m\u001b[1m[\u001b[0mcou_fol\u001b[1m]\u001b[0m2431__1\n",
       "\u001b[1;36m601\u001b[0m       003__\u001b[1m[\u001b[0mvoi\u001b[1m]\u001b[0m\u001b[1m[\u001b[0mdru\u001b[1m]\u001b[0m\u001b[1m[\u001b[0mcou_fol\u001b[1m]\u001b[0m2431__1\n",
       "\u001b[1;36m602\u001b[0m       003__\u001b[1m[\u001b[0mvoi\u001b[1m]\u001b[0m\u001b[1m[\u001b[0mdru\u001b[1m]\u001b[0m\u001b[1m[\u001b[0mcou_fol\u001b[1m]\u001b[0m2431__1\n",
       "\u001b[1;36m603\u001b[0m       003__\u001b[1m[\u001b[0mvoi\u001b[1m]\u001b[0m\u001b[1m[\u001b[0mdru\u001b[1m]\u001b[0m\u001b[1m[\u001b[0mcou_fol\u001b[1m]\u001b[0m2431__1\n",
       "\u001b[1;36m604\u001b[0m       003__\u001b[1m[\u001b[0mvoi\u001b[1m]\u001b[0m\u001b[1m[\u001b[0mdru\u001b[1m]\u001b[0m\u001b[1m[\u001b[0mcou_fol\u001b[1m]\u001b[0m2431__1\n",
       "                       \u001b[33m...\u001b[0m               \n",
       "\u001b[1;36m167620\u001b[0m              \u001b[1m[\u001b[0mvoi\u001b[1m]\u001b[0m\u001b[1m[\u001b[0mpop_roc\u001b[1m]\u001b[0m2548__3\n",
       "\u001b[1;36m167621\u001b[0m              \u001b[1m[\u001b[0mvoi\u001b[1m]\u001b[0m\u001b[1m[\u001b[0mpop_roc\u001b[1m]\u001b[0m2548__3\n",
       "\u001b[1;36m167622\u001b[0m              \u001b[1m[\u001b[0mvoi\u001b[1m]\u001b[0m\u001b[1m[\u001b[0mpop_roc\u001b[1m]\u001b[0m2548__3\n",
       "\u001b[1;36m167623\u001b[0m              \u001b[1m[\u001b[0mvoi\u001b[1m]\u001b[0m\u001b[1m[\u001b[0mpop_roc\u001b[1m]\u001b[0m2548__3\n",
       "\u001b[1;36m167624\u001b[0m              \u001b[1m[\u001b[0mvoi\u001b[1m]\u001b[0m\u001b[1m[\u001b[0mpop_roc\u001b[1m]\u001b[0m2548__3\n",
       "Length: \u001b[1;36m97750\u001b[0m, dtype: object\n"
      ]
     },
     "metadata": {},
     "output_type": "display_data"
    }
   ],
   "source": [
    "train_files"
   ]
  },
  {
   "cell_type": "code",
   "execution_count": 70,
   "id": "b8fc346c-d224-411e-96ba-c4869af220f2",
   "metadata": {},
   "outputs": [
    {
     "data": {
      "text/html": [
       "<pre style=\"white-space:pre;overflow-x:auto;line-height:normal;font-family:Menlo,'DejaVu Sans Mono',consolas,'Courier New',monospace\">\n",
       "<span style=\"color: #008080; text-decoration-color: #008080; font-weight: bold\">0</span>         001__<span style=\"font-weight: bold\">[</span>gel<span style=\"font-weight: bold\">][</span>dru<span style=\"font-weight: bold\">][</span>pop_roc<span style=\"font-weight: bold\">]</span>0829__1\n",
       "<span style=\"color: #008080; text-decoration-color: #008080; font-weight: bold\">1</span>         001__<span style=\"font-weight: bold\">[</span>gel<span style=\"font-weight: bold\">][</span>dru<span style=\"font-weight: bold\">][</span>pop_roc<span style=\"font-weight: bold\">]</span>0829__1\n",
       "<span style=\"color: #008080; text-decoration-color: #008080; font-weight: bold\">2</span>         001__<span style=\"font-weight: bold\">[</span>gel<span style=\"font-weight: bold\">][</span>dru<span style=\"font-weight: bold\">][</span>pop_roc<span style=\"font-weight: bold\">]</span>0829__1\n",
       "<span style=\"color: #008080; text-decoration-color: #008080; font-weight: bold\">3</span>         001__<span style=\"font-weight: bold\">[</span>gel<span style=\"font-weight: bold\">][</span>dru<span style=\"font-weight: bold\">][</span>pop_roc<span style=\"font-weight: bold\">]</span>0829__1\n",
       "<span style=\"color: #008080; text-decoration-color: #008080; font-weight: bold\">4</span>         001__<span style=\"font-weight: bold\">[</span>gel<span style=\"font-weight: bold\">][</span>dru<span style=\"font-weight: bold\">][</span>pop_roc<span style=\"font-weight: bold\">]</span>0829__1\n",
       "                       <span style=\"color: #808000; text-decoration-color: #808000\">...</span>               \n",
       "<span style=\"color: #008080; text-decoration-color: #008080; font-weight: bold\">150445</span>              <span style=\"font-weight: bold\">[</span>tru<span style=\"font-weight: bold\">][</span>pop_roc<span style=\"font-weight: bold\">]</span>2078__3\n",
       "<span style=\"color: #008080; text-decoration-color: #008080; font-weight: bold\">150446</span>              <span style=\"font-weight: bold\">[</span>tru<span style=\"font-weight: bold\">][</span>pop_roc<span style=\"font-weight: bold\">]</span>2078__3\n",
       "<span style=\"color: #008080; text-decoration-color: #008080; font-weight: bold\">150447</span>              <span style=\"font-weight: bold\">[</span>tru<span style=\"font-weight: bold\">][</span>pop_roc<span style=\"font-weight: bold\">]</span>2078__3\n",
       "<span style=\"color: #008080; text-decoration-color: #008080; font-weight: bold\">150448</span>              <span style=\"font-weight: bold\">[</span>tru<span style=\"font-weight: bold\">][</span>pop_roc<span style=\"font-weight: bold\">]</span>2078__3\n",
       "<span style=\"color: #008080; text-decoration-color: #008080; font-weight: bold\">150449</span>              <span style=\"font-weight: bold\">[</span>tru<span style=\"font-weight: bold\">][</span>pop_roc<span style=\"font-weight: bold\">]</span>2078__3\n",
       "Length: <span style=\"color: #008080; text-decoration-color: #008080; font-weight: bold\">69875</span>, dtype: object\n",
       "</pre>\n"
      ],
      "text/plain": [
       "\n",
       "\u001b[1;36m0\u001b[0m         001__\u001b[1m[\u001b[0mgel\u001b[1m]\u001b[0m\u001b[1m[\u001b[0mdru\u001b[1m]\u001b[0m\u001b[1m[\u001b[0mpop_roc\u001b[1m]\u001b[0m0829__1\n",
       "\u001b[1;36m1\u001b[0m         001__\u001b[1m[\u001b[0mgel\u001b[1m]\u001b[0m\u001b[1m[\u001b[0mdru\u001b[1m]\u001b[0m\u001b[1m[\u001b[0mpop_roc\u001b[1m]\u001b[0m0829__1\n",
       "\u001b[1;36m2\u001b[0m         001__\u001b[1m[\u001b[0mgel\u001b[1m]\u001b[0m\u001b[1m[\u001b[0mdru\u001b[1m]\u001b[0m\u001b[1m[\u001b[0mpop_roc\u001b[1m]\u001b[0m0829__1\n",
       "\u001b[1;36m3\u001b[0m         001__\u001b[1m[\u001b[0mgel\u001b[1m]\u001b[0m\u001b[1m[\u001b[0mdru\u001b[1m]\u001b[0m\u001b[1m[\u001b[0mpop_roc\u001b[1m]\u001b[0m0829__1\n",
       "\u001b[1;36m4\u001b[0m         001__\u001b[1m[\u001b[0mgel\u001b[1m]\u001b[0m\u001b[1m[\u001b[0mdru\u001b[1m]\u001b[0m\u001b[1m[\u001b[0mpop_roc\u001b[1m]\u001b[0m0829__1\n",
       "                       \u001b[33m...\u001b[0m               \n",
       "\u001b[1;36m150445\u001b[0m              \u001b[1m[\u001b[0mtru\u001b[1m]\u001b[0m\u001b[1m[\u001b[0mpop_roc\u001b[1m]\u001b[0m2078__3\n",
       "\u001b[1;36m150446\u001b[0m              \u001b[1m[\u001b[0mtru\u001b[1m]\u001b[0m\u001b[1m[\u001b[0mpop_roc\u001b[1m]\u001b[0m2078__3\n",
       "\u001b[1;36m150447\u001b[0m              \u001b[1m[\u001b[0mtru\u001b[1m]\u001b[0m\u001b[1m[\u001b[0mpop_roc\u001b[1m]\u001b[0m2078__3\n",
       "\u001b[1;36m150448\u001b[0m              \u001b[1m[\u001b[0mtru\u001b[1m]\u001b[0m\u001b[1m[\u001b[0mpop_roc\u001b[1m]\u001b[0m2078__3\n",
       "\u001b[1;36m150449\u001b[0m              \u001b[1m[\u001b[0mtru\u001b[1m]\u001b[0m\u001b[1m[\u001b[0mpop_roc\u001b[1m]\u001b[0m2078__3\n",
       "Length: \u001b[1;36m69875\u001b[0m, dtype: object\n"
      ]
     },
     "metadata": {},
     "output_type": "display_data"
    }
   ],
   "source": [
    "test_files"
   ]
  },
  {
   "cell_type": "code",
   "execution_count": 71,
   "id": "a223648b-3d78-42e4-8eec-e3a37ecd147f",
   "metadata": {},
   "outputs": [
    {
     "data": {
      "text/html": [
       "<pre style=\"white-space:pre;overflow-x:auto;line-height:normal;font-family:Menlo,'DejaVu Sans Mono',consolas,'Courier New',monospace\"><span style=\"color: #008080; text-decoration-color: #008080; font-weight: bold\">167625</span>\n",
       "</pre>\n"
      ],
      "text/plain": [
       "\u001b[1;36m167625\u001b[0m\n"
      ]
     },
     "metadata": {},
     "output_type": "display_data"
    }
   ],
   "source": [
    "len(train_files) + len(test_files)"
   ]
  },
  {
   "cell_type": "code",
   "execution_count": 39,
   "id": "b1a7c4d2-24de-47e0-a3e9-fd46450623db",
   "metadata": {},
   "outputs": [],
   "source": [
    "#train_files.to_csv('irmas_train.csv', header=None, index=None)"
   ]
  },
  {
   "cell_type": "code",
   "execution_count": 40,
   "id": "23a91fe1-bae6-410b-8521-e905e771af7e",
   "metadata": {},
   "outputs": [],
   "source": [
    "#test_files.to_csv('irmas_test.csv', header=None, index=None)"
   ]
  },
  {
   "cell_type": "code",
   "execution_count": null,
   "id": "8e5c9e46-3dd9-4aee-b80a-6c1ec4b15b2b",
   "metadata": {},
   "outputs": [],
   "source": []
  }
 ],
 "metadata": {
  "kernelspec": {
   "display_name": "ismir2022embedding",
   "language": "python",
   "name": "ismir2022embedding"
  },
  "language_info": {
   "codemirror_mode": {
    "name": "ipython",
    "version": 3
   },
   "file_extension": ".py",
   "mimetype": "text/x-python",
   "name": "python",
   "nbconvert_exporter": "python",
   "pygments_lexer": "ipython3",
   "version": "3.9.0"
  }
 },
 "nbformat": 4,
 "nbformat_minor": 5
}
