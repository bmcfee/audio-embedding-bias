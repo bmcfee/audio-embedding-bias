{
 "cells": [
  {
   "cell_type": "code",
   "execution_count": 1,
   "metadata": {},
   "outputs": [],
   "source": [
    "%matplotlib inline\n",
    "import matplotlib.pyplot as plt\n",
    "import seaborn as sns\n",
    "import numpy as np\n",
    "import librosa\n",
    "from tqdm import tqdm_notebook as tqdm\n",
    "import json\n",
    "import pandas as pd\n",
    "import pickle\n",
    "import os\n",
    "import h5py\n",
    "import collections as cl\n",
    "from ast import literal_eval\n",
    "import warnings\n",
    "warnings.filterwarnings('ignore')\n",
    "\n",
    "from sklearn.linear_model import LogisticRegression\n",
    "from sklearn.model_selection import GridSearchCV\n",
    "from sklearn.metrics import classification_report, roc_auc_score, average_precision_score\n",
    "from sklearn.preprocessing import StandardScaler\n",
    "import random\n",
    "import re\n",
    "from sklearn.preprocessing import LabelEncoder\n",
    "from sklearn.discriminant_analysis import LinearDiscriminantAnalysis\n",
    "from deem import deem"
   ]
  },
  {
   "cell_type": "code",
   "execution_count": 2,
   "metadata": {},
   "outputs": [],
   "source": [
    "param_grid = {'LR_param': {'C':[10**k for k in range(-10, 6, 2)]}, 'scoring': 'roc_auc', 'cv': 3, 'random_state': 42}\n",
    "\n",
    "with open(\"openmic_classmap_10.json\", \"r\") as f: # only consider 10 classes of Openmic dataset\n",
    "    class_map = json.load(f)\n",
    "    \n",
    "# use a dict to align the classes between Openmic dataset (key) and Irmas dataset (val)\n",
    "with open(\"class_align.json\", \"r\") as f: # only consider 10 classes of Openmic dataset\n",
    "    class_align = json.load(f)\n",
    "\n",
    "with open(\"genre_map.json\", \"r\") as f: # only consider 10 classes of Openmic dataset\n",
    "    genre_map = json.load(f)\n",
    "aligned_genre = list(genre_map)[:-1]\n",
    "\n",
    "with open(\"instrument_map.json\", \"r\") as f: # only consider 10 classes of Openmic dataset\n",
    "    instrument_map = json.load(f)"
   ]
  },
  {
   "cell_type": "markdown",
   "metadata": {},
   "source": [
    "## VGGish"
   ]
  },
  {
   "cell_type": "code",
   "execution_count": 3,
   "metadata": {},
   "outputs": [
    {
     "name": "stdout",
     "output_type": "stream",
     "text": [
      "(13410, 128) (13410,)\n",
      "(6705,)\n"
     ]
    },
    {
     "name": "stderr",
     "output_type": "stream",
     "text": [
      "100%|██████████| 6705/6705 [00:01<00:00, 4625.14it/s]\n"
     ]
    },
    {
     "name": "stdout",
     "output_type": "stream",
     "text": [
      "(6705, 128) (6705,)\n",
      "(180000, 128) (180000,)\n"
     ]
    },
    {
     "name": "stderr",
     "output_type": "stream",
     "text": [
      "100%|██████████| 20000/20000 [00:57<00:00, 350.03it/s]\n"
     ]
    },
    {
     "name": "stdout",
     "output_type": "stream",
     "text": [
      "(20000, 128) (20000,)\n",
      "(20000, 20) (20000, 20) (20000,)\n"
     ]
    },
    {
     "name": "stderr",
     "output_type": "stream",
     "text": [
      "100%|██████████| 20000/20000 [00:18<00:00, 1099.65it/s]\n"
     ]
    },
    {
     "name": "stdout",
     "output_type": "stream",
     "text": [
      "(20000, 128) (20000, 20) (20000, 20)\n",
      "# Train: 14915,  # Test: 5085\n"
     ]
    },
    {
     "name": "stderr",
     "output_type": "stream",
     "text": [
      "100%|██████████| 14915/14915 [00:00<00:00, 34192.65it/s]\n",
      "100%|██████████| 5085/5085 [00:00<00:00, 32579.40it/s]\n"
     ]
    },
    {
     "name": "stdout",
     "output_type": "stream",
     "text": [
      "Train on irmas, test on irmas\n"
     ]
    },
    {
     "name": "stderr",
     "output_type": "stream",
     "text": [
      "100%|██████████| 10/10 [00:17<00:00,  1.77s/it]\n"
     ]
    },
    {
     "name": "stdout",
     "output_type": "stream",
     "text": [
      "Train on irmas, test on openmic\n"
     ]
    },
    {
     "name": "stderr",
     "output_type": "stream",
     "text": [
      "100%|██████████| 10/10 [00:16<00:00,  1.68s/it]\n"
     ]
    },
    {
     "name": "stdout",
     "output_type": "stream",
     "text": [
      "Train on openmic, test on openmic\n"
     ]
    },
    {
     "name": "stderr",
     "output_type": "stream",
     "text": [
      "100%|██████████| 10/10 [00:16<00:00,  1.65s/it]\n"
     ]
    },
    {
     "name": "stdout",
     "output_type": "stream",
     "text": [
      "Train on openmic, test on irmas\n"
     ]
    },
    {
     "name": "stderr",
     "output_type": "stream",
     "text": [
      "100%|██████████| 10/10 [00:17<00:00,  1.73s/it]\n"
     ]
    }
   ],
   "source": [
    "embedding = 'vggish'\n",
    "debias_method = ''\n",
    "\n",
    "deb = deem(embedding = embedding, debias_method = debias_method, feature_dir='./embeddings.h5', \n",
    "           instrument_map=instrument_map, genre_map=genre_map, param_grid=param_grid, class_align=class_align)\n",
    "\n",
    "irmas_feature = deb.load_irmas()\n",
    "openmic_feature = deb.load_openmic()\n",
    "\n",
    "deb.instrument_classfication(train_set='irmas', test_set='irmas', irmas_feature=irmas_feature, openmic_feature=openmic_feature)\n",
    "deb.instrument_classfication(train_set='irmas', test_set='openmic', irmas_feature=irmas_feature, openmic_feature=openmic_feature)\n",
    "deb.instrument_classfication(train_set='openmic', test_set='openmic', irmas_feature=irmas_feature, openmic_feature=openmic_feature)\n",
    "deb.instrument_classfication(train_set='openmic', test_set='irmas', irmas_feature=irmas_feature, openmic_feature=openmic_feature)"
   ]
  },
  {
   "cell_type": "code",
   "execution_count": 4,
   "metadata": {},
   "outputs": [
    {
     "name": "stdout",
     "output_type": "stream",
     "text": [
      "Train on irmas, test on irmas\n"
     ]
    },
    {
     "name": "stderr",
     "output_type": "stream",
     "text": [
      "100%|██████████| 10/10 [00:18<00:00,  1.86s/it]\n"
     ]
    },
    {
     "name": "stdout",
     "output_type": "stream",
     "text": [
      "Train on irmas, test on openmic\n"
     ]
    },
    {
     "name": "stderr",
     "output_type": "stream",
     "text": [
      "100%|██████████| 10/10 [00:16<00:00,  1.60s/it]\n"
     ]
    },
    {
     "name": "stdout",
     "output_type": "stream",
     "text": [
      "Train on openmic, test on openmic\n"
     ]
    },
    {
     "name": "stderr",
     "output_type": "stream",
     "text": [
      "100%|██████████| 10/10 [00:13<00:00,  1.37s/it]\n"
     ]
    },
    {
     "name": "stdout",
     "output_type": "stream",
     "text": [
      "Train on openmic, test on irmas\n"
     ]
    },
    {
     "name": "stderr",
     "output_type": "stream",
     "text": [
      "100%|██████████| 10/10 [00:14<00:00,  1.45s/it]\n"
     ]
    }
   ],
   "source": [
    "debias_method = '-lda'\n",
    "\n",
    "deb.debias_method = debias_method\n",
    "\n",
    "deb.instrument_classfication(train_set='irmas', test_set='irmas', irmas_feature=irmas_feature, openmic_feature=openmic_feature)\n",
    "deb.instrument_classfication(train_set='irmas', test_set='openmic', irmas_feature=irmas_feature, openmic_feature=openmic_feature)\n",
    "deb.instrument_classfication(train_set='openmic', test_set='openmic', irmas_feature=irmas_feature, openmic_feature=openmic_feature)\n",
    "deb.instrument_classfication(train_set='openmic', test_set='irmas', irmas_feature=irmas_feature, openmic_feature=openmic_feature)\n",
    "\n",
    "deb.result_all.to_csv('results/result_' + embedding + debias_method + '.csv', index=False)\n",
    "result_all = deb.result_all"
   ]
  },
  {
   "cell_type": "markdown",
   "metadata": {},
   "source": [
    "## OpenL3"
   ]
  },
  {
   "cell_type": "code",
   "execution_count": 5,
   "metadata": {},
   "outputs": [
    {
     "name": "stdout",
     "output_type": "stream",
     "text": [
      "(167625, 512) (167625,)\n",
      "(6705,)\n"
     ]
    },
    {
     "name": "stderr",
     "output_type": "stream",
     "text": [
      "100%|██████████| 6705/6705 [00:17<00:00, 376.70it/s]\n"
     ]
    },
    {
     "name": "stdout",
     "output_type": "stream",
     "text": [
      "(6705, 512) (6705,)\n",
      "(1900000, 512) (1900000,)\n"
     ]
    },
    {
     "name": "stderr",
     "output_type": "stream",
     "text": [
      "100%|██████████| 20000/20000 [10:00<00:00, 33.32it/s]\n"
     ]
    },
    {
     "name": "stdout",
     "output_type": "stream",
     "text": [
      "(20000, 512) (20000,)\n",
      "(20000, 20) (20000, 20) (20000,)\n"
     ]
    },
    {
     "name": "stderr",
     "output_type": "stream",
     "text": [
      "100%|██████████| 20000/20000 [00:18<00:00, 1106.25it/s]\n"
     ]
    },
    {
     "name": "stdout",
     "output_type": "stream",
     "text": [
      "(20000, 512) (20000, 20) (20000, 20)\n",
      "# Train: 14915,  # Test: 5085\n"
     ]
    },
    {
     "name": "stderr",
     "output_type": "stream",
     "text": [
      "100%|██████████| 14915/14915 [00:00<00:00, 35236.84it/s]\n",
      "100%|██████████| 5085/5085 [00:00<00:00, 32560.20it/s]\n"
     ]
    },
    {
     "name": "stdout",
     "output_type": "stream",
     "text": [
      "Train on irmas, test on irmas\n"
     ]
    },
    {
     "name": "stderr",
     "output_type": "stream",
     "text": [
      "100%|██████████| 10/10 [00:11<00:00,  1.14s/it]\n"
     ]
    },
    {
     "name": "stdout",
     "output_type": "stream",
     "text": [
      "Train on irmas, test on openmic\n"
     ]
    },
    {
     "name": "stderr",
     "output_type": "stream",
     "text": [
      "100%|██████████| 10/10 [00:11<00:00,  1.17s/it]\n"
     ]
    },
    {
     "name": "stdout",
     "output_type": "stream",
     "text": [
      "Train on openmic, test on openmic\n"
     ]
    },
    {
     "name": "stderr",
     "output_type": "stream",
     "text": [
      "100%|██████████| 10/10 [00:12<00:00,  1.29s/it]\n"
     ]
    },
    {
     "name": "stdout",
     "output_type": "stream",
     "text": [
      "Train on openmic, test on irmas\n"
     ]
    },
    {
     "name": "stderr",
     "output_type": "stream",
     "text": [
      "100%|██████████| 10/10 [00:13<00:00,  1.34s/it]\n"
     ]
    }
   ],
   "source": [
    "embedding = 'openl3'\n",
    "debias_method = ''\n",
    "\n",
    "deb = deem(embedding = embedding, debias_method = debias_method, feature_dir='./embeddings.h5', \n",
    "           instrument_map=instrument_map, genre_map=genre_map, param_grid=param_grid, class_align=class_align)\n",
    "\n",
    "irmas_feature = deb.load_irmas()\n",
    "openmic_feature = deb.load_openmic()\n",
    "\n",
    "deb.instrument_classfication(train_set='irmas', test_set='irmas', irmas_feature=irmas_feature, openmic_feature=openmic_feature)\n",
    "deb.instrument_classfication(train_set='irmas', test_set='openmic', irmas_feature=irmas_feature, openmic_feature=openmic_feature)\n",
    "deb.instrument_classfication(train_set='openmic', test_set='openmic', irmas_feature=irmas_feature, openmic_feature=openmic_feature)\n",
    "deb.instrument_classfication(train_set='openmic', test_set='irmas', irmas_feature=irmas_feature, openmic_feature=openmic_feature)"
   ]
  },
  {
   "cell_type": "code",
   "execution_count": 6,
   "metadata": {},
   "outputs": [
    {
     "name": "stdout",
     "output_type": "stream",
     "text": [
      "Train on irmas, test on irmas\n"
     ]
    },
    {
     "name": "stderr",
     "output_type": "stream",
     "text": [
      "100%|██████████| 10/10 [00:12<00:00,  1.25s/it]\n"
     ]
    },
    {
     "name": "stdout",
     "output_type": "stream",
     "text": [
      "Train on irmas, test on openmic\n"
     ]
    },
    {
     "name": "stderr",
     "output_type": "stream",
     "text": [
      "100%|██████████| 10/10 [00:12<00:00,  1.22s/it]\n"
     ]
    },
    {
     "name": "stdout",
     "output_type": "stream",
     "text": [
      "Train on openmic, test on openmic\n"
     ]
    },
    {
     "name": "stderr",
     "output_type": "stream",
     "text": [
      "100%|██████████| 10/10 [00:13<00:00,  1.39s/it]\n"
     ]
    },
    {
     "name": "stdout",
     "output_type": "stream",
     "text": [
      "Train on openmic, test on irmas\n"
     ]
    },
    {
     "name": "stderr",
     "output_type": "stream",
     "text": [
      "100%|██████████| 10/10 [00:14<00:00,  1.45s/it]\n"
     ]
    }
   ],
   "source": [
    "debias_method = '-lda'\n",
    "\n",
    "deb.debias_method = debias_method\n",
    "\n",
    "deb.instrument_classfication(train_set='irmas', test_set='irmas', irmas_feature=irmas_feature, openmic_feature=openmic_feature)\n",
    "deb.instrument_classfication(train_set='irmas', test_set='openmic', irmas_feature=irmas_feature, openmic_feature=openmic_feature)\n",
    "deb.instrument_classfication(train_set='openmic', test_set='openmic', irmas_feature=irmas_feature, openmic_feature=openmic_feature)\n",
    "deb.instrument_classfication(train_set='openmic', test_set='irmas', irmas_feature=irmas_feature, openmic_feature=openmic_feature)\n",
    "\n",
    "deb.result_all.to_csv('results/result_' + embedding + debias_method + '.csv', index=False)\n",
    "result_all = result_all.append(deb.result_all)"
   ]
  },
  {
   "cell_type": "markdown",
   "metadata": {},
   "source": [
    "## YAMNet"
   ]
  },
  {
   "cell_type": "code",
   "execution_count": 7,
   "metadata": {},
   "outputs": [
    {
     "name": "stdout",
     "output_type": "stream",
     "text": [
      "(33525, 1024) (33525,)\n",
      "(6705,)\n"
     ]
    },
    {
     "name": "stderr",
     "output_type": "stream",
     "text": [
      "100%|██████████| 6705/6705 [00:03<00:00, 1788.60it/s]\n"
     ]
    },
    {
     "name": "stdout",
     "output_type": "stream",
     "text": [
      "(6705, 1024) (6705,)\n",
      "(380000, 1024) (380000,)\n"
     ]
    },
    {
     "name": "stderr",
     "output_type": "stream",
     "text": [
      "100%|██████████| 20000/20000 [02:03<00:00, 161.34it/s]\n"
     ]
    },
    {
     "name": "stdout",
     "output_type": "stream",
     "text": [
      "(20000, 1024) (20000,)\n",
      "(20000, 20) (20000, 20) (20000,)\n"
     ]
    },
    {
     "name": "stderr",
     "output_type": "stream",
     "text": [
      "100%|██████████| 20000/20000 [00:18<00:00, 1097.84it/s]\n"
     ]
    },
    {
     "name": "stdout",
     "output_type": "stream",
     "text": [
      "(20000, 1024) (20000, 20) (20000, 20)\n",
      "# Train: 14915,  # Test: 5085\n"
     ]
    },
    {
     "name": "stderr",
     "output_type": "stream",
     "text": [
      "100%|██████████| 14915/14915 [00:00<00:00, 29583.49it/s]\n",
      "100%|██████████| 5085/5085 [00:00<00:00, 32357.81it/s]\n"
     ]
    },
    {
     "name": "stdout",
     "output_type": "stream",
     "text": [
      "Train on irmas, test on irmas\n"
     ]
    },
    {
     "name": "stderr",
     "output_type": "stream",
     "text": [
      "100%|██████████| 10/10 [00:12<00:00,  1.25s/it]\n"
     ]
    },
    {
     "name": "stdout",
     "output_type": "stream",
     "text": [
      "Train on irmas, test on openmic\n"
     ]
    },
    {
     "name": "stderr",
     "output_type": "stream",
     "text": [
      "100%|██████████| 10/10 [00:11<00:00,  1.19s/it]\n"
     ]
    },
    {
     "name": "stdout",
     "output_type": "stream",
     "text": [
      "Train on openmic, test on openmic\n"
     ]
    },
    {
     "name": "stderr",
     "output_type": "stream",
     "text": [
      "100%|██████████| 10/10 [00:15<00:00,  1.58s/it]\n"
     ]
    },
    {
     "name": "stdout",
     "output_type": "stream",
     "text": [
      "Train on openmic, test on irmas\n"
     ]
    },
    {
     "name": "stderr",
     "output_type": "stream",
     "text": [
      "100%|██████████| 10/10 [00:16<00:00,  1.62s/it]\n"
     ]
    }
   ],
   "source": [
    "embedding = 'yamnet'\n",
    "debias_method = ''\n",
    "\n",
    "deb = deem(embedding = embedding, debias_method = debias_method, feature_dir='./embeddings.h5', \n",
    "           instrument_map=instrument_map, genre_map=genre_map, param_grid=param_grid, class_align=class_align)\n",
    "\n",
    "irmas_feature = deb.load_irmas()\n",
    "openmic_feature = deb.load_openmic()\n",
    "\n",
    "deb.instrument_classfication(train_set='irmas', test_set='irmas', irmas_feature=irmas_feature, openmic_feature=openmic_feature)\n",
    "deb.instrument_classfication(train_set='irmas', test_set='openmic', irmas_feature=irmas_feature, openmic_feature=openmic_feature)\n",
    "deb.instrument_classfication(train_set='openmic', test_set='openmic', irmas_feature=irmas_feature, openmic_feature=openmic_feature)\n",
    "deb.instrument_classfication(train_set='openmic', test_set='irmas', irmas_feature=irmas_feature, openmic_feature=openmic_feature)"
   ]
  },
  {
   "cell_type": "code",
   "execution_count": 8,
   "metadata": {},
   "outputs": [
    {
     "name": "stdout",
     "output_type": "stream",
     "text": [
      "Train on irmas, test on irmas\n"
     ]
    },
    {
     "name": "stderr",
     "output_type": "stream",
     "text": [
      "100%|██████████| 10/10 [00:22<00:00,  2.28s/it]\n"
     ]
    },
    {
     "name": "stdout",
     "output_type": "stream",
     "text": [
      "Train on irmas, test on openmic\n"
     ]
    },
    {
     "name": "stderr",
     "output_type": "stream",
     "text": [
      "100%|██████████| 10/10 [00:22<00:00,  2.20s/it]\n"
     ]
    },
    {
     "name": "stdout",
     "output_type": "stream",
     "text": [
      "Train on openmic, test on openmic\n"
     ]
    },
    {
     "name": "stderr",
     "output_type": "stream",
     "text": [
      "100%|██████████| 10/10 [00:26<00:00,  2.66s/it]\n"
     ]
    },
    {
     "name": "stdout",
     "output_type": "stream",
     "text": [
      "Train on openmic, test on irmas\n"
     ]
    },
    {
     "name": "stderr",
     "output_type": "stream",
     "text": [
      "100%|██████████| 10/10 [00:26<00:00,  2.67s/it]\n"
     ]
    }
   ],
   "source": [
    "debias_method = '-lda'\n",
    "\n",
    "deb.debias_method = debias_method\n",
    "\n",
    "deb.instrument_classfication(train_set='irmas', test_set='irmas', irmas_feature=irmas_feature, openmic_feature=openmic_feature)\n",
    "deb.instrument_classfication(train_set='irmas', test_set='openmic', irmas_feature=irmas_feature, openmic_feature=openmic_feature)\n",
    "deb.instrument_classfication(train_set='openmic', test_set='openmic', irmas_feature=irmas_feature, openmic_feature=openmic_feature)\n",
    "deb.instrument_classfication(train_set='openmic', test_set='irmas', irmas_feature=irmas_feature, openmic_feature=openmic_feature)\n",
    "\n",
    "deb.result_all.to_csv('results/result_' + embedding + debias_method + '.csv', index=False)\n",
    "result_all = result_all.append(deb.result_all)"
   ]
  },
  {
   "cell_type": "code",
   "execution_count": 9,
   "metadata": {},
   "outputs": [],
   "source": [
    "result_all.to_csv('results/result_all_lda.csv', index=False)"
   ]
  },
  {
   "cell_type": "code",
   "execution_count": 10,
   "metadata": {},
   "outputs": [
    {
     "data": {
      "text/html": [
       "<div>\n",
       "<style scoped>\n",
       "    .dataframe tbody tr th:only-of-type {\n",
       "        vertical-align: middle;\n",
       "    }\n",
       "\n",
       "    .dataframe tbody tr th {\n",
       "        vertical-align: top;\n",
       "    }\n",
       "\n",
       "    .dataframe thead th {\n",
       "        text-align: right;\n",
       "    }\n",
       "</style>\n",
       "<table border=\"1\" class=\"dataframe\">\n",
       "  <thead>\n",
       "    <tr style=\"text-align: right;\">\n",
       "      <th></th>\n",
       "      <th>instrument</th>\n",
       "      <th>train_set</th>\n",
       "      <th>test_set</th>\n",
       "      <th>precision</th>\n",
       "      <th>recall</th>\n",
       "      <th>f1-score</th>\n",
       "      <th>support</th>\n",
       "      <th>accuracy</th>\n",
       "      <th>roc_auc</th>\n",
       "      <th>ap</th>\n",
       "      <th>embedding</th>\n",
       "    </tr>\n",
       "  </thead>\n",
       "  <tbody>\n",
       "    <tr>\n",
       "      <th>0</th>\n",
       "      <td>cello</td>\n",
       "      <td>irmas</td>\n",
       "      <td>irmas</td>\n",
       "      <td>0.30223880597014924</td>\n",
       "      <td>0.8617021276595744</td>\n",
       "      <td>0.4475138121546961</td>\n",
       "      <td>94.0</td>\n",
       "      <td>0.879951980792317</td>\n",
       "      <td>0.9396080342157977</td>\n",
       "      <td>0.5922021349589592</td>\n",
       "      <td>vggish</td>\n",
       "    </tr>\n",
       "    <tr>\n",
       "      <th>1</th>\n",
       "      <td>clarinet</td>\n",
       "      <td>irmas</td>\n",
       "      <td>irmas</td>\n",
       "      <td>0.24429223744292236</td>\n",
       "      <td>0.84251968503937</td>\n",
       "      <td>0.3787610619469027</td>\n",
       "      <td>127.0</td>\n",
       "      <td>0.7893157262905162</td>\n",
       "      <td>0.8945321893242877</td>\n",
       "      <td>0.5483587715419928</td>\n",
       "      <td>vggish</td>\n",
       "    </tr>\n",
       "    <tr>\n",
       "      <th>2</th>\n",
       "      <td>flute</td>\n",
       "      <td>irmas</td>\n",
       "      <td>irmas</td>\n",
       "      <td>0.3230240549828179</td>\n",
       "      <td>0.7768595041322314</td>\n",
       "      <td>0.4563106796116505</td>\n",
       "      <td>121.0</td>\n",
       "      <td>0.865546218487395</td>\n",
       "      <td>0.9072721923560407</td>\n",
       "      <td>0.6279013262077799</td>\n",
       "      <td>vggish</td>\n",
       "    </tr>\n",
       "    <tr>\n",
       "      <th>3</th>\n",
       "      <td>guitar</td>\n",
       "      <td>irmas</td>\n",
       "      <td>irmas</td>\n",
       "      <td>0.5902335456475584</td>\n",
       "      <td>0.8034682080924855</td>\n",
       "      <td>0.6805385556915545</td>\n",
       "      <td>346.0</td>\n",
       "      <td>0.8433373349339736</td>\n",
       "      <td>0.914453056577334</td>\n",
       "      <td>0.7957172213344217</td>\n",
       "      <td>vggish</td>\n",
       "    </tr>\n",
       "    <tr>\n",
       "      <th>4</th>\n",
       "      <td>organ</td>\n",
       "      <td>irmas</td>\n",
       "      <td>irmas</td>\n",
       "      <td>0.4219948849104859</td>\n",
       "      <td>0.9482758620689655</td>\n",
       "      <td>0.584070796460177</td>\n",
       "      <td>174.0</td>\n",
       "      <td>0.8589435774309724</td>\n",
       "      <td>0.9635758528242581</td>\n",
       "      <td>0.7474407674100789</td>\n",
       "      <td>vggish</td>\n",
       "    </tr>\n",
       "    <tr>\n",
       "      <th>...</th>\n",
       "      <td>...</td>\n",
       "      <td>...</td>\n",
       "      <td>...</td>\n",
       "      <td>...</td>\n",
       "      <td>...</td>\n",
       "      <td>...</td>\n",
       "      <td>...</td>\n",
       "      <td>...</td>\n",
       "      <td>...</td>\n",
       "      <td>...</td>\n",
       "      <td>...</td>\n",
       "    </tr>\n",
       "    <tr>\n",
       "      <th>75</th>\n",
       "      <td>piano</td>\n",
       "      <td>openmic</td>\n",
       "      <td>irmas</td>\n",
       "      <td>0.20903954802259886</td>\n",
       "      <td>0.8705882352941177</td>\n",
       "      <td>0.33712984054669703</td>\n",
       "      <td>170.0</td>\n",
       "      <td>0.6506602641056423</td>\n",
       "      <td>0.8811733249449513</td>\n",
       "      <td>0.6619703895398742</td>\n",
       "      <td>yamnet-lda</td>\n",
       "    </tr>\n",
       "    <tr>\n",
       "      <th>76</th>\n",
       "      <td>saxophone</td>\n",
       "      <td>openmic</td>\n",
       "      <td>irmas</td>\n",
       "      <td>0.22851153039832284</td>\n",
       "      <td>0.7266666666666667</td>\n",
       "      <td>0.34768740031897927</td>\n",
       "      <td>150.0</td>\n",
       "      <td>0.7545018007202882</td>\n",
       "      <td>0.8062181178540018</td>\n",
       "      <td>0.3545821389571038</td>\n",
       "      <td>yamnet-lda</td>\n",
       "    </tr>\n",
       "    <tr>\n",
       "      <th>77</th>\n",
       "      <td>trumpet</td>\n",
       "      <td>openmic</td>\n",
       "      <td>irmas</td>\n",
       "      <td>0.2618110236220472</td>\n",
       "      <td>0.8866666666666667</td>\n",
       "      <td>0.40425531914893614</td>\n",
       "      <td>150.0</td>\n",
       "      <td>0.7647058823529411</td>\n",
       "      <td>0.9101890941072999</td>\n",
       "      <td>0.5621971669640163</td>\n",
       "      <td>yamnet-lda</td>\n",
       "    </tr>\n",
       "    <tr>\n",
       "      <th>78</th>\n",
       "      <td>violin</td>\n",
       "      <td>openmic</td>\n",
       "      <td>irmas</td>\n",
       "      <td>0.2040072859744991</td>\n",
       "      <td>0.7832167832167832</td>\n",
       "      <td>0.3236994219653179</td>\n",
       "      <td>143.0</td>\n",
       "      <td>0.7190876350540216</td>\n",
       "      <td>0.8138381644619332</td>\n",
       "      <td>0.3224534901674157</td>\n",
       "      <td>yamnet-lda</td>\n",
       "    </tr>\n",
       "    <tr>\n",
       "      <th>79</th>\n",
       "      <td>voice</td>\n",
       "      <td>openmic</td>\n",
       "      <td>irmas</td>\n",
       "      <td>0.38969072164948454</td>\n",
       "      <td>0.9895287958115183</td>\n",
       "      <td>0.5591715976331361</td>\n",
       "      <td>191.0</td>\n",
       "      <td>0.8211284513805522</td>\n",
       "      <td>0.9845736090158843</td>\n",
       "      <td>0.8998867338246809</td>\n",
       "      <td>yamnet-lda</td>\n",
       "    </tr>\n",
       "  </tbody>\n",
       "</table>\n",
       "<p>240 rows × 11 columns</p>\n",
       "</div>"
      ],
      "text/plain": [
       "   instrument train_set test_set            precision              recall  \\\n",
       "0       cello     irmas    irmas  0.30223880597014924  0.8617021276595744   \n",
       "1    clarinet     irmas    irmas  0.24429223744292236    0.84251968503937   \n",
       "2       flute     irmas    irmas   0.3230240549828179  0.7768595041322314   \n",
       "3      guitar     irmas    irmas   0.5902335456475584  0.8034682080924855   \n",
       "4       organ     irmas    irmas   0.4219948849104859  0.9482758620689655   \n",
       "..        ...       ...      ...                  ...                 ...   \n",
       "75      piano   openmic    irmas  0.20903954802259886  0.8705882352941177   \n",
       "76  saxophone   openmic    irmas  0.22851153039832284  0.7266666666666667   \n",
       "77    trumpet   openmic    irmas   0.2618110236220472  0.8866666666666667   \n",
       "78     violin   openmic    irmas   0.2040072859744991  0.7832167832167832   \n",
       "79      voice   openmic    irmas  0.38969072164948454  0.9895287958115183   \n",
       "\n",
       "               f1-score support            accuracy             roc_auc  \\\n",
       "0    0.4475138121546961    94.0   0.879951980792317  0.9396080342157977   \n",
       "1    0.3787610619469027   127.0  0.7893157262905162  0.8945321893242877   \n",
       "2    0.4563106796116505   121.0   0.865546218487395  0.9072721923560407   \n",
       "3    0.6805385556915545   346.0  0.8433373349339736   0.914453056577334   \n",
       "4     0.584070796460177   174.0  0.8589435774309724  0.9635758528242581   \n",
       "..                  ...     ...                 ...                 ...   \n",
       "75  0.33712984054669703   170.0  0.6506602641056423  0.8811733249449513   \n",
       "76  0.34768740031897927   150.0  0.7545018007202882  0.8062181178540018   \n",
       "77  0.40425531914893614   150.0  0.7647058823529411  0.9101890941072999   \n",
       "78   0.3236994219653179   143.0  0.7190876350540216  0.8138381644619332   \n",
       "79   0.5591715976331361   191.0  0.8211284513805522  0.9845736090158843   \n",
       "\n",
       "                    ap   embedding  \n",
       "0   0.5922021349589592      vggish  \n",
       "1   0.5483587715419928      vggish  \n",
       "2   0.6279013262077799      vggish  \n",
       "3   0.7957172213344217      vggish  \n",
       "4   0.7474407674100789      vggish  \n",
       "..                 ...         ...  \n",
       "75  0.6619703895398742  yamnet-lda  \n",
       "76  0.3545821389571038  yamnet-lda  \n",
       "77  0.5621971669640163  yamnet-lda  \n",
       "78  0.3224534901674157  yamnet-lda  \n",
       "79  0.8998867338246809  yamnet-lda  \n",
       "\n",
       "[240 rows x 11 columns]"
      ]
     },
     "execution_count": 10,
     "metadata": {},
     "output_type": "execute_result"
    }
   ],
   "source": [
    "result_all"
   ]
  },
  {
   "cell_type": "code",
   "execution_count": null,
   "metadata": {},
   "outputs": [],
   "source": []
  }
 ],
 "metadata": {
  "kernelspec": {
   "display_name": "ismir2022embedding",
   "language": "python",
   "name": "python3"
  },
  "language_info": {
   "codemirror_mode": {
    "name": "ipython",
    "version": 3
   },
   "file_extension": ".py",
   "mimetype": "text/x-python",
   "name": "python",
   "nbconvert_exporter": "python",
   "pygments_lexer": "ipython3",
   "version": "3.9.0"
  },
  "toc": {
   "base_numbering": 1,
   "nav_menu": {},
   "number_sections": true,
   "sideBar": true,
   "skip_h1_title": false,
   "title_cell": "Table of Contents",
   "title_sidebar": "Contents",
   "toc_cell": false,
   "toc_position": {
    "height": "621.778px",
    "left": "21px",
    "top": "111.139px",
    "width": "165px"
   },
   "toc_section_display": true,
   "toc_window_display": true
  },
  "vscode": {
   "interpreter": {
    "hash": "e2e45284a6c14b0a92859aa6111181c4542423174f88d2070b0d025532226888"
   }
  }
 },
 "nbformat": 4,
 "nbformat_minor": 4
}
