{
 "cells": [
  {
   "cell_type": "code",
   "execution_count": 4,
   "metadata": {},
   "outputs": [],
   "source": [
    "%matplotlib inline\n",
    "import matplotlib.pyplot as plt\n",
    "import seaborn as sns\n",
    "import numpy as np\n",
    "from tqdm import tqdm_notebook as tqdm\n",
    "import json\n",
    "import pandas as pd\n",
    "import os\n",
    "import h5py\n",
    "from ast import literal_eval\n",
    "import re\n",
    "import pickle\n",
    "import collections\n",
    "import warnings\n",
    "warnings.filterwarnings('ignore')\n",
    "\n",
    "from sklearn.discriminant_analysis import LinearDiscriminantAnalysis\n",
    "from sklearn.metrics.pairwise import cosine_similarity"
   ]
  },
  {
   "cell_type": "code",
   "execution_count": 5,
   "metadata": {},
   "outputs": [],
   "source": [
    "with open('class-map-10.json', 'r') as f: # only consider 10 classes of Openmic dataset\n",
    "    class_map = json.load(f)\n",
    "    \n",
    "# use a dict to align the classes between Openmic dataset (key) and Irmas dataset (val)\n",
    "class_align = {'cello': 'cel',\n",
    "               'clarinet': 'cla',\n",
    "               'flute': 'flu',\n",
    "               'guitar': ['gac', 'gel'],\n",
    "               'organ': 'org',\n",
    "               'piano': 'pia',\n",
    "               'saxophone': 'sax',\n",
    "               'trumpet': 'tru',\n",
    "               'violin': 'vio',\n",
    "               'voice': 'voi'}"
   ]
  },
  {
   "cell_type": "code",
   "execution_count": 6,
   "metadata": {},
   "outputs": [],
   "source": [
    "# irmas genre information: country-folk ([cou_fol]), classical ([cla]), pop-rock ([pop-roc]), latin-soul ([lat-sou]).\n",
    "aligned_genre = ['pop_roc', 'jazz_blue', 'classical', 'country_folk', 'latin_soul']"
   ]
  },
  {
   "cell_type": "code",
   "execution_count": 7,
   "metadata": {},
   "outputs": [
    {
     "name": "stdout",
     "output_type": "stream",
     "text": [
      "irmas\n",
      "irmas/openl3\n",
      "irmas/openl3/features\n",
      "irmas/openl3/keys\n",
      "irmas/vggish\n",
      "irmas/vggish/features\n",
      "irmas/vggish/keys\n",
      "openmic\n",
      "openmic/openl3\n",
      "openmic/openl3/features\n",
      "openmic/openl3/keys\n",
      "openmic/vggish\n",
      "openmic/vggish/features\n",
      "openmic/vggish/keys\n"
     ]
    }
   ],
   "source": [
    "# load embeddings\n",
    "embeddings = h5py.File('embeddings.h5', 'r')\n",
    "\n",
    "def printname(name):\n",
    "    print(name)\n",
    "embeddings.visit(printname)"
   ]
  },
  {
   "cell_type": "markdown",
   "metadata": {},
   "source": [
    "# OpenL3"
   ]
  },
  {
   "cell_type": "code",
   "execution_count": 8,
   "metadata": {},
   "outputs": [],
   "source": [
    "embedding_name = 'openl3'"
   ]
  },
  {
   "cell_type": "markdown",
   "metadata": {},
   "source": [
    "## irmas"
   ]
  },
  {
   "cell_type": "code",
   "execution_count": 9,
   "metadata": {},
   "outputs": [
    {
     "name": "stdout",
     "output_type": "stream",
     "text": [
      "(167625, 512) (167625,)\n",
      "(6705,)\n"
     ]
    },
    {
     "data": {
      "application/vnd.jupyter.widget-view+json": {
       "model_id": "d47078dc5aaa45a2a32e797189ac3c16",
       "version_major": 2,
       "version_minor": 0
      },
      "text/plain": [
       "  0%|          | 0/6705 [00:00<?, ?it/s]"
      ]
     },
     "metadata": {},
     "output_type": "display_data"
    },
    {
     "name": "stdout",
     "output_type": "stream",
     "text": [
      "(6705, 512) (6705,)\n"
     ]
    }
   ],
   "source": [
    "feature = np.array(embeddings['irmas'][embedding_name]['features'])\n",
    "keys_ori = np.array(embeddings['irmas'][embedding_name]['keys'])\n",
    "print(feature.shape, keys_ori.shape)\n",
    "\n",
    "key_clip = np.unique(keys_ori)\n",
    "print(key_clip.shape)\n",
    "\n",
    "feature_clip = []\n",
    "\n",
    "for key in tqdm(key_clip):\n",
    "    feature_clip.append(np.mean(feature[keys_ori[:]==key,:],axis=0))\n",
    "    \n",
    "feature_clip = np.array(feature_clip)\n",
    "print(feature_clip.shape, key_clip.shape)"
   ]
  },
  {
   "cell_type": "code",
   "execution_count": 10,
   "metadata": {},
   "outputs": [],
   "source": [
    "key_train = list(pd.read_csv('irmas_train.csv', header=None, squeeze=True))\n",
    "key_test = list(pd.read_csv('irmas_test.csv', header=None, squeeze=True))\n",
    "\n",
    "key_train = np.array([k[2:-1] for k in key_train])\n",
    "key_test = np.array([k[2:-1]  for k in key_test])"
   ]
  },
  {
   "cell_type": "code",
   "execution_count": 11,
   "metadata": {},
   "outputs": [],
   "source": [
    "# These loops go through all sample keys, and save their row numbers to either idx_train or idx_test\n",
    "idx_train, idx_test = [], []\n",
    "\n",
    "for k in range(len(key_clip)):\n",
    "    if str(key_clip[k]) in key_train:\n",
    "        idx_train.append(k)\n",
    "    elif str(key_clip[k]) in key_test:\n",
    "        idx_test.append(k)\n",
    "    else:\n",
    "        # This should never happen, but better safe than sorry.\n",
    "        raise RuntimeError('Unknown sample key={}! Abort!'.format(key_clip[k]))\n",
    "        \n",
    "# cast the idx_* arrays to numpy structures\n",
    "idx_train = np.asarray(idx_train)\n",
    "idx_test = np.asarray(idx_test)"
   ]
  },
  {
   "cell_type": "code",
   "execution_count": 12,
   "metadata": {},
   "outputs": [],
   "source": [
    "key_train = np.array(key_clip[idx_train])\n",
    "key_train_genre = [key[key.rindex('[')+1:key.rindex(']')] for key in key_train]"
   ]
  },
  {
   "cell_type": "code",
   "execution_count": 13,
   "metadata": {},
   "outputs": [
    {
     "data": {
      "text/plain": [
       "{'cla', 'cou_fol', 'jaz_blu', 'lat_sou', 'pop_roc'}"
      ]
     },
     "execution_count": 13,
     "metadata": {},
     "output_type": "execute_result"
    }
   ],
   "source": [
    "set(key_train_genre)"
   ]
  },
  {
   "cell_type": "code",
   "execution_count": 14,
   "metadata": {},
   "outputs": [],
   "source": [
    "# align genre\n",
    "key_train_genre = ['jazz_blue' if item =='jaz_blu' else item for item in key_train_genre]\n",
    "key_train_genre = ['classical' if item =='cla' else item for item in key_train_genre]\n",
    "key_train_genre = ['country_folk' if item =='cou_fol' else item for item in key_train_genre]\n",
    "key_train_genre = ['latin_soul' if item =='lat_sou' else item for item in key_train_genre]"
   ]
  },
  {
   "cell_type": "code",
   "execution_count": 15,
   "metadata": {},
   "outputs": [
    {
     "data": {
      "text/plain": [
       "Counter({'pop_roc': 1853,\n",
       "         'classical': 1240,\n",
       "         'jazz_blue': 1539,\n",
       "         'country_folk': 365,\n",
       "         'latin_soul': 42})"
      ]
     },
     "execution_count": 15,
     "metadata": {},
     "output_type": "execute_result"
    }
   ],
   "source": [
    "collections.Counter(key_train_genre)"
   ]
  },
  {
   "cell_type": "code",
   "execution_count": 16,
   "metadata": {},
   "outputs": [
    {
     "name": "stdout",
     "output_type": "stream",
     "text": [
      "(5039, 512) (5039,) (5039,)\n"
     ]
    }
   ],
   "source": [
    "X_train_ir = feature_clip[idx_train,:]\n",
    "Y_ir = np.zeros(len(X_train_ir))\n",
    "Y_genre_ir = np.array(key_train_genre)\n",
    "\n",
    "print(X_train_ir.shape, Y_ir.shape, Y_genre_ir.shape)"
   ]
  },
  {
   "cell_type": "markdown",
   "metadata": {},
   "source": [
    "## openmic"
   ]
  },
  {
   "cell_type": "code",
   "execution_count": 17,
   "metadata": {},
   "outputs": [
    {
     "name": "stdout",
     "output_type": "stream",
     "text": [
      "(1900000, 512) (1900000,)\n"
     ]
    },
    {
     "data": {
      "application/vnd.jupyter.widget-view+json": {
       "model_id": "ffe045fb62fe40c0be7a1fb45dd9270b",
       "version_major": 2,
       "version_minor": 0
      },
      "text/plain": [
       "  0%|          | 0/20000 [00:00<?, ?it/s]"
      ]
     },
     "metadata": {},
     "output_type": "display_data"
    },
    {
     "name": "stdout",
     "output_type": "stream",
     "text": [
      "(20000, 512) (20000,)\n"
     ]
    },
    {
     "data": {
      "text/plain": [
       "array(['000046_3840', '000135_483840', '000139_119040', ...,\n",
       "       '155307_211200', '155310_372480', '155311_453120'], dtype=object)"
      ]
     },
     "execution_count": 17,
     "metadata": {},
     "output_type": "execute_result"
    }
   ],
   "source": [
    "feature = np.array(embeddings['openmic'][embedding_name]['features'])\n",
    "keys = np.array(embeddings['openmic'][embedding_name]['keys'])\n",
    "print(feature.shape, keys.shape)\n",
    "\n",
    "key_clip = np.unique(keys)\n",
    "\n",
    "X = []\n",
    "\n",
    "for key in tqdm(key_clip):\n",
    "    X.append(np.mean(feature[keys[:]==key,:],axis=0))\n",
    "    \n",
    "X = np.array(X)\n",
    "print(X.shape, key_clip.shape)\n",
    "\n",
    "key_clip = np.array(key_clip)\n",
    "key_clip"
   ]
  },
  {
   "cell_type": "code",
   "execution_count": 18,
   "metadata": {},
   "outputs": [
    {
     "name": "stdout",
     "output_type": "stream",
     "text": [
      "# Train: 14915,  # Test: 5085\n"
     ]
    }
   ],
   "source": [
    "# train-test split\n",
    "split_train = pd.read_csv('openmic2018_train.csv', header=None, squeeze=True)\n",
    "split_test = pd.read_csv('openmic2018_test.csv', header=None, squeeze=True)\n",
    "\n",
    "print('# Train: {},  # Test: {}'.format(len(split_train), len(split_test)))\n",
    "\n",
    "train_set = set(split_train)\n",
    "test_set = set(split_test)\n",
    "\n",
    "idx_train, idx_test = [], []\n",
    "\n",
    "for idx, n in enumerate(key_clip):\n",
    "    if n in train_set:\n",
    "        idx_train.append(idx)\n",
    "    elif n in test_set:\n",
    "        idx_test.append(idx)\n",
    "    else:\n",
    "        raise RuntimeError('Unknown sample key={}! Abort!'.format(key_clip[n]))\n",
    "        \n",
    "idx_train = np.asarray(idx_train)\n",
    "idx_test = np.asarray(idx_test)"
   ]
  },
  {
   "cell_type": "code",
   "execution_count": 19,
   "metadata": {},
   "outputs": [
    {
     "data": {
      "text/plain": [
       "14915"
      ]
     },
     "execution_count": 19,
     "metadata": {},
     "output_type": "execute_result"
    }
   ],
   "source": [
    "# key-label map using the information from the dataset source\n",
    "data_root = '/import/c4dm-datasets/openmic-2018/openmic-2018/'\n",
    "# Replaced the above by a local symbolic link within the github repo\n",
    "# data_root = 'openmic-2018/'\n",
    "\n",
    "meta = pd.read_csv(data_root + 'openmic-2018-metadata.csv')\n",
    "train_genre_meta = list(meta['track_genres'][idx_train])\n",
    "len(train_genre_meta)"
   ]
  },
  {
   "cell_type": "code",
   "execution_count": 20,
   "metadata": {},
   "outputs": [
    {
     "data": {
      "application/vnd.jupyter.widget-view+json": {
       "model_id": "023767cc251944e68343e8d6858a7965",
       "version_major": 2,
       "version_minor": 0
      },
      "text/plain": [
       "  0%|          | 0/14915 [00:00<?, ?it/s]"
      ]
     },
     "metadata": {},
     "output_type": "display_data"
    }
   ],
   "source": [
    "key_genre_om = []\n",
    "\n",
    "for k in tqdm(range(len(train_genre_meta))):\n",
    "    if isinstance(train_genre_meta[k], str):\n",
    "        key_genre_om.append(literal_eval(train_genre_meta[k])[0]['genre_title'])\n",
    "    else:\n",
    "        key_genre_om.append('other')"
   ]
  },
  {
   "cell_type": "code",
   "execution_count": 21,
   "metadata": {},
   "outputs": [],
   "source": [
    "def list_match(A, B):\n",
    "    ele_A = set(map(str.lower, A))\n",
    "    ele_B = set(map(str.lower, B))\n",
    "    return bool(ele_A & ele_B)\n",
    "\n",
    "key_genre_om_align = []\n",
    "\n",
    "for item in key_genre_om:\n",
    "    key_genre_om_item = re.split('[^a-zA-Z]', item)\n",
    "    genre_match = 'other'\n",
    "    for genre in aligned_genre:\n",
    "        genre_item = re.split('[^a-zA-Z]', genre)\n",
    "        if list_match(key_genre_om_item, genre_item):\n",
    "            genre_match = genre\n",
    "            continue\n",
    "    key_genre_om_align.append(genre_match)\n",
    "    \n",
    "key_genre_om = key_genre_om_align"
   ]
  },
  {
   "cell_type": "code",
   "execution_count": 22,
   "metadata": {},
   "outputs": [
    {
     "data": {
      "text/plain": [
       "Counter({'pop_roc': 826,\n",
       "         'other': 11335,\n",
       "         'country_folk': 1053,\n",
       "         'jazz_blue': 778,\n",
       "         'latin_soul': 76,\n",
       "         'classical': 847})"
      ]
     },
     "execution_count": 22,
     "metadata": {},
     "output_type": "execute_result"
    }
   ],
   "source": [
    "collections.Counter(key_genre_om)"
   ]
  },
  {
   "cell_type": "code",
   "execution_count": 23,
   "metadata": {},
   "outputs": [
    {
     "name": "stdout",
     "output_type": "stream",
     "text": [
      "(14915, 512) (14915,) (14915,)\n"
     ]
    }
   ],
   "source": [
    "X_train_om = X[idx_train]\n",
    "Y_om = np.ones(len(X_train_om))\n",
    "Y_genre_om = np.array(key_genre_om)\n",
    "\n",
    "print(X_train_om.shape, Y_om.shape, Y_genre_om.shape)"
   ]
  },
  {
   "cell_type": "code",
   "execution_count": 24,
   "metadata": {},
   "outputs": [
    {
     "name": "stdout",
     "output_type": "stream",
     "text": [
      "(19954, 512) (19954,) (19954,)\n"
     ]
    }
   ],
   "source": [
    "X_train = np.vstack((X_train_ir, X_train_om))\n",
    "Y = np.hstack((Y_ir, Y_om))\n",
    "Y_genre = np.hstack((Y_genre_ir, Y_genre_om))\n",
    "\n",
    "print(X_train.shape, Y.shape, Y_genre.shape)"
   ]
  },
  {
   "cell_type": "code",
   "execution_count": 25,
   "metadata": {},
   "outputs": [
    {
     "data": {
      "text/plain": [
       "Counter({'pop_roc': 2679,\n",
       "         'classical': 2087,\n",
       "         'jazz_blue': 2317,\n",
       "         'country_folk': 1418,\n",
       "         'latin_soul': 118,\n",
       "         'other': 11335})"
      ]
     },
     "execution_count": 25,
     "metadata": {},
     "output_type": "execute_result"
    }
   ],
   "source": [
    "collections.Counter(Y_genre)"
   ]
  },
  {
   "cell_type": "code",
   "execution_count": 26,
   "metadata": {},
   "outputs": [
    {
     "data": {
      "text/plain": [
       "['pop_roc', 'jazz_blue', 'classical', 'country_folk', 'latin_soul']"
      ]
     },
     "execution_count": 26,
     "metadata": {},
     "output_type": "execute_result"
    }
   ],
   "source": [
    "aligned_genre"
   ]
  },
  {
   "cell_type": "markdown",
   "metadata": {},
   "source": [
    "## LDA"
   ]
  },
  {
   "cell_type": "code",
   "execution_count": 27,
   "metadata": {},
   "outputs": [
    {
     "name": "stdout",
     "output_type": "stream",
     "text": [
      "(2679, 512) (2679,) Counter({0.0: 1853, 1.0: 826})\n",
      "(2317, 512) (2317,) Counter({0.0: 1539, 1.0: 778})\n",
      "(2087, 512) (2087,) Counter({0.0: 1240, 1.0: 847})\n",
      "(1418, 512) (1418,) Counter({1.0: 1053, 0.0: 365})\n",
      "(118, 512) (118,) Counter({1.0: 76, 0.0: 42})\n",
      "(5, 512)\n"
     ]
    }
   ],
   "source": [
    "# loop for each genre\n",
    "globals()['LDA_coef_'+embedding_name] = []\n",
    "\n",
    "for genre in aligned_genre:\n",
    "    X_train_sub = X_train[Y_genre == genre]\n",
    "    Y_sub = Y[Y_genre == genre]\n",
    "    print(X_train_sub.shape, Y_sub.shape, collections.Counter(Y_sub))\n",
    "\n",
    "    LDA = LinearDiscriminantAnalysis(solver='eigen', shrinkage='auto')\n",
    "    LDA.fit(X_train_sub, Y_sub)\n",
    "\n",
    "    globals()['LDA_coef_'+embedding_name].append(LDA.coef_.copy())\n",
    "    \n",
    "globals()['LDA_coef_'+embedding_name] = np.squeeze(np.array(globals()['LDA_coef_'+embedding_name]))\n",
    "print(globals()['LDA_coef_'+embedding_name].shape)\n",
    "\n",
    "with open('LDA_' + embedding_name + '_coef_genre.pickle', 'wb') as fdesc:\n",
    "    pickle.dump(globals()['LDA_coef_'+embedding_name], fdesc)"
   ]
  },
  {
   "cell_type": "markdown",
   "metadata": {},
   "source": [
    "# VGGish"
   ]
  },
  {
   "cell_type": "code",
   "execution_count": 28,
   "metadata": {},
   "outputs": [],
   "source": [
    "embedding_name = 'vggish'"
   ]
  },
  {
   "cell_type": "markdown",
   "metadata": {},
   "source": [
    "## irmas"
   ]
  },
  {
   "cell_type": "code",
   "execution_count": 29,
   "metadata": {},
   "outputs": [
    {
     "name": "stdout",
     "output_type": "stream",
     "text": [
      "(13410, 128) (13410,)\n",
      "(6705,)\n"
     ]
    },
    {
     "data": {
      "application/vnd.jupyter.widget-view+json": {
       "model_id": "08a88bcd8ad14cb1b03ba3cb279b8b4e",
       "version_major": 2,
       "version_minor": 0
      },
      "text/plain": [
       "  0%|          | 0/6705 [00:00<?, ?it/s]"
      ]
     },
     "metadata": {},
     "output_type": "display_data"
    },
    {
     "name": "stdout",
     "output_type": "stream",
     "text": [
      "(6705, 128) (6705,)\n"
     ]
    }
   ],
   "source": [
    "feature = np.array(embeddings['irmas'][embedding_name]['features'])\n",
    "keys_ori = np.array(embeddings['irmas'][embedding_name]['keys'])\n",
    "print(feature.shape, keys_ori.shape)\n",
    "\n",
    "key_clip = np.unique(keys_ori)\n",
    "print(key_clip.shape)\n",
    "\n",
    "feature_clip = []\n",
    "\n",
    "for key in tqdm(key_clip):\n",
    "    feature_clip.append(np.mean(feature[keys_ori[:]==key,:],axis=0))\n",
    "    \n",
    "feature_clip = np.array(feature_clip)\n",
    "print(feature_clip.shape, key_clip.shape)"
   ]
  },
  {
   "cell_type": "code",
   "execution_count": 30,
   "metadata": {},
   "outputs": [],
   "source": [
    "key_train = list(pd.read_csv('irmas_train.csv', header=None, squeeze=True))\n",
    "key_train = np.array([k[2:-1] for k in key_train])"
   ]
  },
  {
   "cell_type": "code",
   "execution_count": 31,
   "metadata": {},
   "outputs": [],
   "source": [
    "# These loops go through all sample keys, and save their row numbers to either idx_train or idx_test\n",
    "idx_train, idx_test = [], []\n",
    "\n",
    "for k in range(len(key_clip)):\n",
    "    if str(key_clip[k]) in key_train:\n",
    "        idx_train.append(k)\n",
    "    elif str(key_clip[k]) in key_test:\n",
    "        idx_test.append(k)\n",
    "    else:\n",
    "        # This should never happen, but better safe than sorry.\n",
    "        raise RuntimeError('Unknown sample key={}! Abort!'.format(key_clip[k]))\n",
    "        \n",
    "# cast the idx_* arrays to numpy structures\n",
    "idx_train = np.asarray(idx_train)\n",
    "idx_test = np.asarray(idx_test)"
   ]
  },
  {
   "cell_type": "code",
   "execution_count": 32,
   "metadata": {},
   "outputs": [
    {
     "name": "stdout",
     "output_type": "stream",
     "text": [
      "(5039, 128) (5039,) (5039,)\n"
     ]
    }
   ],
   "source": [
    "X_train_ir = feature_clip[idx_train,:]\n",
    "print(X_train_ir.shape, Y_ir.shape, Y_genre_ir.shape)"
   ]
  },
  {
   "cell_type": "markdown",
   "metadata": {},
   "source": [
    "## openmic"
   ]
  },
  {
   "cell_type": "code",
   "execution_count": 33,
   "metadata": {},
   "outputs": [
    {
     "name": "stdout",
     "output_type": "stream",
     "text": [
      "(180000, 128) (180000,)\n"
     ]
    },
    {
     "data": {
      "application/vnd.jupyter.widget-view+json": {
       "model_id": "49a81c9f47b54355a97b8648623b8f17",
       "version_major": 2,
       "version_minor": 0
      },
      "text/plain": [
       "  0%|          | 0/20000 [00:00<?, ?it/s]"
      ]
     },
     "metadata": {},
     "output_type": "display_data"
    },
    {
     "name": "stdout",
     "output_type": "stream",
     "text": [
      "(20000, 128) (20000,)\n"
     ]
    },
    {
     "data": {
      "text/plain": [
       "array(['000046_3840', '000135_483840', '000139_119040', ...,\n",
       "       '155307_211200', '155310_372480', '155311_453120'], dtype=object)"
      ]
     },
     "execution_count": 33,
     "metadata": {},
     "output_type": "execute_result"
    }
   ],
   "source": [
    "feature = np.array(embeddings['openmic'][embedding_name]['features'])\n",
    "keys = np.array(embeddings['openmic'][embedding_name]['keys'])\n",
    "print(feature.shape, keys.shape)\n",
    "\n",
    "key_clip = np.unique(keys)\n",
    "\n",
    "X = []\n",
    "\n",
    "for key in tqdm(key_clip):\n",
    "    X.append(np.mean(feature[keys[:]==key,:],axis=0))\n",
    "    \n",
    "X = np.array(X)\n",
    "print(X.shape, key_clip.shape)\n",
    "\n",
    "key_clip = np.array(key_clip)\n",
    "key_clip"
   ]
  },
  {
   "cell_type": "code",
   "execution_count": 34,
   "metadata": {},
   "outputs": [
    {
     "name": "stdout",
     "output_type": "stream",
     "text": [
      "# Train: 14915,  # Test: 5085\n"
     ]
    }
   ],
   "source": [
    "# train-test split\n",
    "split_train = pd.read_csv('openmic2018_train.csv', header=None, squeeze=True)\n",
    "split_test = pd.read_csv('openmic2018_test.csv', header=None, squeeze=True)\n",
    "\n",
    "print('# Train: {},  # Test: {}'.format(len(split_train), len(split_test)))\n",
    "\n",
    "train_set = set(split_train)\n",
    "test_set = set(split_test)\n",
    "\n",
    "idx_train, idx_test = [], []\n",
    "\n",
    "for idx, n in enumerate(key_clip):\n",
    "    if n in train_set:\n",
    "        idx_train.append(idx)\n",
    "    elif n in test_set:\n",
    "        idx_test.append(idx)\n",
    "    else:\n",
    "        raise RuntimeError('Unknown sample key={}! Abort!'.format(key_clip[n]))\n",
    "        \n",
    "idx_train = np.asarray(idx_train)\n",
    "idx_test = np.asarray(idx_test)"
   ]
  },
  {
   "cell_type": "code",
   "execution_count": 35,
   "metadata": {},
   "outputs": [
    {
     "name": "stdout",
     "output_type": "stream",
     "text": [
      "(14915, 128) (14915,) (14915,)\n"
     ]
    }
   ],
   "source": [
    "X_train_om = X[idx_train]\n",
    "print(X_train_om.shape, Y_om.shape, Y_genre_om.shape)"
   ]
  },
  {
   "cell_type": "code",
   "execution_count": 36,
   "metadata": {},
   "outputs": [
    {
     "name": "stdout",
     "output_type": "stream",
     "text": [
      "(19954, 128) (19954,) (19954,)\n"
     ]
    }
   ],
   "source": [
    "X_train = np.vstack((X_train_ir, X_train_om))\n",
    "print(X_train.shape, Y.shape, Y_genre.shape)"
   ]
  },
  {
   "cell_type": "markdown",
   "metadata": {},
   "source": [
    "## LDA & correlation"
   ]
  },
  {
   "cell_type": "code",
   "execution_count": 33,
   "metadata": {},
   "outputs": [
    {
     "name": "stdout",
     "output_type": "stream",
     "text": [
      "(2679, 128) (2679,)\n",
      "(2317, 128) (2317,)\n",
      "(2087, 128) (2087,)\n",
      "(1418, 128) (1418,)\n",
      "(118, 128) (118,)\n"
     ]
    }
   ],
   "source": [
    "# loop for each genre\n",
    "globals()['LDA_coef_'+embedding_name] = []\n",
    "\n",
    "for genre in aligned_genre:\n",
    "    X_train_sub = X_train[Y_genre == genre]\n",
    "    Y_sub = Y[Y_genre == genre]\n",
    "    print(X_train_sub.shape, Y_sub.shape)\n",
    "\n",
    "    LDA = LinearDiscriminantAnalysis(solver='eigen', shrinkage='auto')\n",
    "    LDA.fit(X_train_sub, Y_sub)\n",
    "\n",
    "    globals()['LDA_coef_'+embedding_name].append(LDA.coef_.copy())\n",
    "    \n",
    "globals()['LDA_coef_'+embedding_name] = np.squeeze(np.array(globals()['LDA_coef_'+embedding_name]))\n",
    "globals()['LDA_coef_'+embedding_name].shape\n",
    "\n",
    "with open('LDA_' + embedding_name + '_coef_genre.pickle', 'wb') as fdesc:\n",
    "    pickle.dump(globals()['LDA_coef_'+embedding_name], fdesc)"
   ]
  }
 ],
 "metadata": {
  "kernelspec": {
   "display_name": "Python 3 (ipykernel)",
   "language": "python",
   "name": "python3"
  },
  "language_info": {
   "codemirror_mode": {
    "name": "ipython",
    "version": 3
   },
   "file_extension": ".py",
   "mimetype": "text/x-python",
   "name": "python",
   "nbconvert_exporter": "python",
   "pygments_lexer": "ipython3",
   "version": "3.7.13"
  },
  "toc": {
   "base_numbering": 1,
   "nav_menu": {},
   "number_sections": true,
   "sideBar": true,
   "skip_h1_title": false,
   "title_cell": "Table of Contents",
   "title_sidebar": "Contents",
   "toc_cell": false,
   "toc_position": {
    "height": "621.778px",
    "left": "21px",
    "top": "111.139px",
    "width": "165px"
   },
   "toc_section_display": true,
   "toc_window_display": true
  }
 },
 "nbformat": 4,
 "nbformat_minor": 2
}
