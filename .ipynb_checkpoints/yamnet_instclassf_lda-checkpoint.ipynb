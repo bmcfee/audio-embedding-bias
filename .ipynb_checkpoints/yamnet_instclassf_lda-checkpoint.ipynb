{
 "cells": [
  {
   "cell_type": "code",
   "execution_count": 1,
   "metadata": {},
   "outputs": [],
   "source": [
    "%matplotlib inline\n",
    "import matplotlib.pyplot as plt\n",
    "import seaborn as sns\n",
    "import numpy as np\n",
    "import librosa\n",
    "from tqdm import tqdm_notebook as tqdm\n",
    "import json\n",
    "import pandas as pd\n",
    "import os\n",
    "import pickle\n",
    "import h5py\n",
    "import pickle\n",
    "import warnings\n",
    "warnings.filterwarnings('ignore')\n",
    "\n",
    "from sklearn.linear_model import LogisticRegression\n",
    "from sklearn.model_selection import GridSearchCV\n",
    "from sklearn.discriminant_analysis import LinearDiscriminantAnalysis\n",
    "from sklearn.metrics import classification_report, roc_auc_score, average_precision_score\n",
    "from sklearn.preprocessing import StandardScaler"
   ]
  },
  {
   "cell_type": "code",
   "execution_count": 2,
   "metadata": {},
   "outputs": [],
   "source": [
    "param_grid = {'C': [10**k for k in range(-10, 4, 1)]}  \n",
    "scoring = 'roc_auc'; cv = 3"
   ]
  },
  {
   "cell_type": "markdown",
   "metadata": {},
   "source": [
    "# Load embeddings and align classes"
   ]
  },
  {
   "cell_type": "code",
   "execution_count": 3,
   "metadata": {},
   "outputs": [],
   "source": [
    "embedding = 'yamnet'\n",
    "debias_method = '-lda'"
   ]
  },
  {
   "cell_type": "code",
   "execution_count": 4,
   "metadata": {},
   "outputs": [
    {
     "name": "stdout",
     "output_type": "stream",
     "text": [
      "irmas\n",
      "irmas/openl3\n",
      "irmas/openl3/features\n",
      "irmas/openl3/keys\n",
      "irmas/vggish\n",
      "irmas/vggish/features\n",
      "irmas/vggish/keys\n",
      "irmas/yamnet\n",
      "irmas/yamnet/features\n",
      "irmas/yamnet/keys\n",
      "openmic\n",
      "openmic/openl3\n",
      "openmic/openl3/features\n",
      "openmic/openl3/keys\n",
      "openmic/vggish\n",
      "openmic/vggish/features\n",
      "openmic/vggish/keys\n",
      "openmic/yamnet\n",
      "openmic/yamnet/features\n",
      "openmic/yamnet/keys\n"
     ]
    }
   ],
   "source": [
<<<<<<< Updated upstream:YAMnet_crossdataset_generalization_kernelLDA.ipynb
    "embeddings = h5py.File('../embedding-bias/embeddings.h5', 'r')\n",
=======
    "# load embeddings\n",
    "embeddings = h5py.File('embeddings.h5', 'r')\n",
>>>>>>> Stashed changes:.ipynb_checkpoints/yamnet_instclassf_lda-checkpoint.ipynb
    "\n",
    "def printname(name):\n",
    "    print(name)\n",
    "embeddings.visit(printname)"
   ]
  },
  {
   "cell_type": "code",
   "execution_count": 5,
   "metadata": {},
   "outputs": [
    {
     "data": {
      "text/plain": [
       "{'cello': 3,\n",
       " 'clarinet': 4,\n",
       " 'flute': 7,\n",
       " 'guitar': 8,\n",
       " 'organ': 11,\n",
       " 'piano': 12,\n",
       " 'saxophone': 13,\n",
       " 'trumpet': 16,\n",
       " 'violin': 18,\n",
       " 'voice': 19}"
      ]
     },
     "execution_count": 5,
     "metadata": {},
     "output_type": "execute_result"
    }
   ],
   "source": [
    "with open('class-map-10.json', 'r') as f: # only consider 10 classes of Openmic dataset\n",
    "    class_map = json.load(f)\n",
    "    \n",
    "class_map"
   ]
  },
  {
   "cell_type": "code",
   "execution_count": 6,
   "metadata": {},
   "outputs": [],
   "source": [
    "# use a dict to align the classes between Openmic dataset (key) and Irmas dataset (val)\n",
    "class_align = {'cello': 'cel',\n",
    "               'clarinet': 'cla',\n",
    "               'flute': 'flu',\n",
    "               'guitar': ['gac', 'gel'],\n",
    "               'organ': 'org',\n",
    "               'piano': 'pia',\n",
    "               'saxophone': 'sax',\n",
    "               'trumpet': 'tru',\n",
    "               'violin': 'vio',\n",
    "               'voice': 'voi'}"
   ]
  },
  {
   "cell_type": "code",
   "execution_count": 7,
   "metadata": {},
   "outputs": [],
   "source": [
    "# use a Pandas DataFrame to record all results and save into a csv file later\n",
    "result_all = pd.DataFrame({'instrument': [],\n",
    "                          'train_set': [],\n",
    "                          'test_set': [],\n",
    "                          'precision': [],\n",
    "                          'recall': [],\n",
    "                          'f1-score': [],\n",
    "                          'support': [],\n",
    "                          'accuracy': [],\n",
    "                          'roc_auc': [],\n",
    "                          'ap': [],\n",
    "                          'embedding': [],\n",
    "                         })"
   ]
  },
  {
   "cell_type": "markdown",
   "metadata": {},
   "source": [
    "# irmas->irmas"
   ]
  },
  {
   "cell_type": "code",
   "execution_count": 8,
   "metadata": {},
   "outputs": [
    {
     "name": "stdout",
     "output_type": "stream",
     "text": [
      "(33525, 1024) (33525,)\n",
      "(6705,)\n"
     ]
<<<<<<< Updated upstream:YAMnet_crossdataset_generalization_kernelLDA.ipynb
    }
   ],
   "source": [
    "# irmas: Vggish embedding\n",
    "feature = np.array(embeddings['irmas'][embedding_name]['features'])\n",
    "keys_ori = np.array(embeddings['irmas'][embedding_name]['keys'])\n",
    "print(feature.shape, keys_ori.shape)\n",
    "\n",
    "key_clip = np.unique(keys_ori)\n",
    "print(key_clip.shape)"
   ]
  },
  {
   "cell_type": "code",
   "execution_count": 8,
   "metadata": {},
   "outputs": [
    {
     "data": {
      "text/plain": [
       "array([b'001__[gel][dru][pop_roc]0829__1',\n",
       "       b'001__[gel][dru][pop_roc]0829__2',\n",
       "       b'001__[gel][dru][pop_roc]0829__3', ..., b'[voi][pop_roc]2548__1',\n",
       "       b'[voi][pop_roc]2548__2', b'[voi][pop_roc]2548__3'], dtype=object)"
      ]
     },
     "execution_count": 8,
     "metadata": {},
     "output_type": "execute_result"
    }
   ],
   "source": [
    "key_clip"
   ]
  },
  {
   "cell_type": "code",
   "execution_count": 9,
   "metadata": {},
   "outputs": [
    {
     "data": {
      "application/vnd.jupyter.widget-view+json": {
       "model_id": "b3bee327e3554b0e9f665919507730dc",
=======
    },
    {
     "data": {
      "application/vnd.jupyter.widget-view+json": {
       "model_id": "3e199412bbc646bb98e2947419cebd7a",
>>>>>>> Stashed changes:.ipynb_checkpoints/yamnet_instclassf_lda-checkpoint.ipynb
       "version_major": 2,
       "version_minor": 0
      },
      "text/plain": [
       "  0%|          | 0/6705 [00:00<?, ?it/s]"
      ]
     },
     "metadata": {},
     "output_type": "display_data"
    },
    {
     "name": "stdout",
     "output_type": "stream",
     "text": [
      "(6705, 1024) (6705,)\n"
     ]
    }
   ],
   "source": [
    "# irmas: Vggish embedding\n",
    "feature = np.array(embeddings['irmas'][embedding]['features'])\n",
    "keys_ori = np.array(embeddings['irmas'][embedding]['keys'])\n",
    "print(feature.shape, keys_ori.shape)\n",
    "\n",
    "key_clip = np.unique(keys_ori)\n",
    "print(key_clip.shape)\n",
    "\n",
    "feature_clip = []\n",
    "\n",
    "for key in tqdm(key_clip):\n",
    "    feature_clip.append(np.mean(feature[keys_ori[:]==key,:],axis=0))\n",
    "    \n",
    "feature_clip = np.array(feature_clip)\n",
<<<<<<< Updated upstream:YAMnet_crossdataset_generalization_kernelLDA.ipynb
    "key_clip = np.array([str(k, encoding='utf-8') for k in key_clip])\n",
=======
    "key_clip = np.array([str(k, 'utf-8') for k in key_clip])\n",
>>>>>>> Stashed changes:.ipynb_checkpoints/yamnet_instclassf_lda-checkpoint.ipynb
    "print(feature_clip.shape, key_clip.shape)"
   ]
  },
  {
   "cell_type": "code",
   "execution_count": 9,
   "metadata": {},
   "outputs": [],
   "source": [
<<<<<<< Updated upstream:YAMnet_crossdataset_generalization_kernelLDA.ipynb
    "key_train = list(pd.read_csv('irmas_train.csv', header=None, squeeze=True))\n",
    "key_test = list(pd.read_csv('irmas_test.csv', header=None, squeeze=True))\n",
    "\n",
    "# key_train = np.array([k[2:-1] for k in key_train])\n",
    "# key_test = np.array([k[2:-1]  for k in key_test])"
=======
    "key_train = set(pd.read_csv('irmas_train.csv', header=None, squeeze=True))\n",
    "key_test = set(pd.read_csv('irmas_test.csv', header=None, squeeze=True))"
>>>>>>> Stashed changes:.ipynb_checkpoints/yamnet_instclassf_lda-checkpoint.ipynb
   ]
  },
  {
   "cell_type": "code",
   "execution_count": 10,
   "metadata": {},
   "outputs": [],
   "source": [
    "# these loops go through all sample keys, and save their row numbers to either idx_train or idx_test\n",
    "idx_train, idx_test = [], []\n",
    "\n",
    "for k in range(len(key_clip)):\n",
    "    if str(key_clip[k]) in key_train:\n",
    "        idx_train.append(k)\n",
    "    elif str(key_clip[k]) in key_test:\n",
    "        idx_test.append(k)\n",
    "    else:\n",
    "        # This should never happen, but better safe than sorry.\n",
    "        raise RuntimeError('Unknown sample key={}! Abort!'.format(str(key_clip[k])))\n",
    "        \n",
    "# cast the idx_* arrays to numpy structures\n",
    "idx_train = np.asarray(idx_train)\n",
    "idx_test = np.asarray(idx_test)"
   ]
  },
  {
   "cell_type": "code",
   "execution_count": 11,
   "metadata": {},
   "outputs": [
    {
     "data": {
      "text/plain": [
       "array(['cello', 'clarinet', 'flute', 'guitar', 'organ', 'piano',\n",
       "       'saxophone', 'trumpet', 'violin', 'voice'], dtype='<U9')"
      ]
     },
     "execution_count": 11,
     "metadata": {},
     "output_type": "execute_result"
    }
   ],
   "source": [
    "#keys = np.array([str(k, encoding='utf-8') for k in key_clip])\n",
    "keys = np.array(key_clip)\n",
    "keys = [key[key.index('[')+1:key.index(']')] for key in keys]\n",
    "\n",
    "for key in class_align:\n",
    "    keys = [key if x in class_align[key] else x for x in keys]\n",
    "    \n",
    "keys = np.array(keys)\n",
    "np.unique(keys)"
   ]
  },
  {
   "cell_type": "code",
   "execution_count": 12,
   "metadata": {},
   "outputs": [
    {
     "name": "stdout",
     "output_type": "stream",
     "text": [
      "(5039, 1024)\n",
      "(1666, 1024)\n"
     ]
    }
   ],
   "source": [
    "# use the split indices to partition the features, labels, and masks\n",
    "X_train = feature_clip[idx_train,:]\n",
    "X_test = feature_clip[idx_test]\n",
    "\n",
    "Y_true_train = keys[idx_train]\n",
    "Y_true_test = keys[idx_test]\n",
    "\n",
    "# print out the sliced shapes as a sanity check\n",
    "print(X_train.shape)\n",
    "print(X_test.shape)"
   ]
  },
  {
   "cell_type": "code",
   "execution_count": 13,
   "metadata": {},
   "outputs": [
    {
     "name": "stdout",
     "output_type": "stream",
     "text": [
      "(5039, 1024) (1666, 1024)\n",
      "(5039, 1024) (1666, 1024)\n"
     ]
    }
   ],
   "source": [
    "# standardize embedding\n",
    "scaler = StandardScaler()\n",
    "X_train = scaler.fit_transform(X_train)\n",
    "X_test = scaler.transform(X_test)\n",
    "\n",
    "############################# project the LDA direction #############################\n",
    "file = open('models/datasep_' + embedding + debias_method + '.pickle', 'rb')\n",
    "globals()['LDAcoef_' + embedding] = pickle.load(file)\n",
    "file.close()\n",
    "\n",
    "v = globals()['LDAcoef_' + embedding].copy()\n",
    "v /= np.sqrt(np.sum(v**2))\n",
    "A = np.outer(v, v)\n",
    "\n",
    "Xdeb_train = X_train.dot(np.eye(len(A)) - A)\n",
    "Xdeb_test = X_test.dot(np.eye(len(A)) - A)\n",
    "print(Xdeb_train.shape, Xdeb_test.shape)\n",
    "\n",
    "X_train = Xdeb_train; X_test = Xdeb_test; del(Xdeb_train, Xdeb_test)\n",
    "print(X_train.shape, X_test.shape)"
   ]
  },
  {
   "cell_type": "code",
   "execution_count": 14,
   "metadata": {},
   "outputs": [
    {
     "name": "stdout",
     "output_type": "stream",
     "text": [
      "----------------------------------------------------\n",
      "cello\n",
      "\tTEST\n",
      "              precision    recall  f1-score   support\n",
      "\n",
      "       False       1.00      0.66      0.79      1572\n",
      "        True       0.15      0.99      0.26        94\n",
      "\n",
      "    accuracy                           0.68      1666\n",
      "   macro avg       0.57      0.82      0.52      1666\n",
      "weighted avg       0.95      0.68      0.76      1666\n",
      "\n",
<<<<<<< Updated upstream:YAMnet_crossdataset_generalization_kernelLDA.ipynb
      "ROC-AUC = 0.963\t\tAP = 0.759\n",
=======
      "ROC-AUC = 0.949\t\tAP = 0.678\n",
>>>>>>> Stashed changes:.ipynb_checkpoints/yamnet_instclassf_lda-checkpoint.ipynb
      "----------------------------------------------------\n",
      "clarinet\n",
      "\tTEST\n",
      "              precision    recall  f1-score   support\n",
      "\n",
      "       False       0.99      0.57      0.72      1539\n",
      "        True       0.15      0.92      0.26       127\n",
      "\n",
      "    accuracy                           0.59      1666\n",
      "   macro avg       0.57      0.74      0.49      1666\n",
      "weighted avg       0.92      0.59      0.69      1666\n",
      "\n",
      "ROC-AUC = 0.890\t\tAP = 0.517\n",
      "----------------------------------------------------\n",
      "flute\n",
      "\tTEST\n",
      "              precision    recall  f1-score   support\n",
      "\n",
      "       False       0.99      0.55      0.71      1545\n",
      "        True       0.14      0.94      0.24       121\n",
      "\n",
      "    accuracy                           0.58      1666\n",
      "   macro avg       0.57      0.75      0.48      1666\n",
      "weighted avg       0.93      0.58      0.67      1666\n",
      "\n",
<<<<<<< Updated upstream:YAMnet_crossdataset_generalization_kernelLDA.ipynb
      "ROC-AUC = 0.941\t\tAP = 0.723\n",
=======
      "ROC-AUC = 0.918\t\tAP = 0.634\n",
>>>>>>> Stashed changes:.ipynb_checkpoints/yamnet_instclassf_lda-checkpoint.ipynb
      "----------------------------------------------------\n",
      "guitar\n",
      "\tTEST\n",
      "              precision    recall  f1-score   support\n",
      "\n",
      "       False       0.97      0.91      0.94      1320\n",
      "        True       0.71      0.88      0.79       346\n",
      "\n",
      "    accuracy                           0.90      1666\n",
      "   macro avg       0.84      0.89      0.86      1666\n",
      "weighted avg       0.91      0.90      0.91      1666\n",
      "\n",
      "ROC-AUC = 0.967\t\tAP = 0.901\n",
      "----------------------------------------------------\n",
      "organ\n",
      "\tTEST\n",
      "              precision    recall  f1-score   support\n",
      "\n",
      "       False       1.00      0.62      0.77      1492\n",
      "        True       0.24      1.00      0.38       174\n",
      "\n",
      "    accuracy                           0.66      1666\n",
      "   macro avg       0.62      0.81      0.57      1666\n",
      "weighted avg       0.92      0.66      0.73      1666\n",
      "\n",
      "ROC-AUC = 0.980\t\tAP = 0.850\n",
      "----------------------------------------------------\n",
      "piano\n",
      "\tTEST\n",
      "              precision    recall  f1-score   support\n",
      "\n",
<<<<<<< Updated upstream:YAMnet_crossdataset_generalization_kernelLDA.ipynb
      "       False       0.99      0.96      0.97      1496\n",
      "        True       0.70      0.88      0.78       170\n",
      "\n",
      "    accuracy                           0.95      1666\n",
      "   macro avg       0.84      0.92      0.88      1666\n",
=======
      "       False       0.98      0.96      0.97      1496\n",
      "        True       0.72      0.85      0.78       170\n",
      "\n",
      "    accuracy                           0.95      1666\n",
      "   macro avg       0.85      0.91      0.88      1666\n",
>>>>>>> Stashed changes:.ipynb_checkpoints/yamnet_instclassf_lda-checkpoint.ipynb
      "weighted avg       0.96      0.95      0.95      1666\n",
      "\n",
      "ROC-AUC = 0.959\t\tAP = 0.867\n",
      "----------------------------------------------------\n",
      "saxophone\n",
      "\tTEST\n",
      "              precision    recall  f1-score   support\n",
      "\n",
      "       False       0.98      0.64      0.78      1516\n",
      "        True       0.20      0.89      0.33       150\n",
      "\n",
      "    accuracy                           0.67      1666\n",
      "   macro avg       0.59      0.77      0.55      1666\n",
      "weighted avg       0.91      0.67      0.74      1666\n",
      "\n",
      "ROC-AUC = 0.853\t\tAP = 0.390\n",
      "----------------------------------------------------\n",
      "trumpet\n",
      "\tTEST\n",
      "              precision    recall  f1-score   support\n",
      "\n",
      "       False       0.99      0.64      0.78      1516\n",
      "        True       0.21      0.96      0.34       150\n",
      "\n",
      "    accuracy                           0.67      1666\n",
      "   macro avg       0.60      0.80      0.56      1666\n",
      "weighted avg       0.92      0.67      0.74      1666\n",
      "\n",
      "ROC-AUC = 0.947\t\tAP = 0.757\n",
      "----------------------------------------------------\n",
      "violin\n",
      "\tTEST\n",
      "              precision    recall  f1-score   support\n",
      "\n",
      "       False       0.98      0.69      0.81      1523\n",
      "        True       0.20      0.85      0.33       143\n",
      "\n",
      "    accuracy                           0.70      1666\n",
      "   macro avg       0.59      0.77      0.57      1666\n",
      "weighted avg       0.91      0.70      0.77      1666\n",
      "\n",
      "ROC-AUC = 0.863\t\tAP = 0.562\n",
      "----------------------------------------------------\n",
      "voice\n",
      "\tTEST\n",
      "              precision    recall  f1-score   support\n",
      "\n",
      "       False       1.00      0.71      0.83      1475\n",
      "        True       0.31      1.00      0.47       191\n",
      "\n",
      "    accuracy                           0.74      1666\n",
      "   macro avg       0.65      0.86      0.65      1666\n",
      "weighted avg       0.92      0.74      0.79      1666\n",
      "\n",
      "ROC-AUC = 0.990\t\tAP = 0.935\n"
     ]
    }
   ],
   "source": [
    "train_set_name, test_set_name = 'irmas', 'irmas'\n",
    "\n",
    "# use a dictionary to include the classifier for each instrument trained on the dataset based on the embedding\n",
    "globals()['models_'+train_set_name] = dict()  \n",
    "\n",
    "# iterate over all istrument classes, and fit a model for each one\n",
    "for instrument in class_align:\n",
    "    \n",
    "    # get the training and testing labels for each instrument\n",
    "    Y_true_train_inst = Y_true_train==instrument\n",
    "    Y_true_test_inst = Y_true_test==instrument\n",
    "    \n",
    "    # initialize and a logistic regression model\n",
    "    LRmodel = LogisticRegression(random_state=0, penalty='l2', solver='liblinear', class_weight='balanced')\n",
    "    \n",
    "    # hyperparameter tunning for logistic regression model\n",
    "    clf =  GridSearchCV(LRmodel, param_grid=param_grid, cv=cv, scoring=scoring)  \n",
    "    \n",
    "    # fit the model\n",
    "    clf.fit(X_train, Y_true_train_inst)\n",
    "    \n",
    "    # predict\n",
    "    Y_pred_test_inst = clf.predict(X_test)\n",
    "    \n",
    "    # Get prediction scores for the positive class\n",
    "    Y_pred_test_scores = clf.predict_proba(X_test)[:, 1]\n",
    "    \n",
    "    # print result for each instrument\n",
    "    print('-' * 52); print(instrument); print('\\tTEST')\n",
    "    print(classification_report(Y_true_test_inst, Y_pred_test_inst))\n",
    "    \n",
    "    model_auc = roc_auc_score(Y_true_test_inst, Y_pred_test_scores)\n",
    "    model_ap = average_precision_score(Y_true_test_inst, Y_pred_test_scores)\n",
    "    print(f'ROC-AUC = {model_auc:.3f}\\t\\tAP = {model_ap:.3f}')\n",
    "    \n",
    "    # store the classifier in the model dictionary\n",
    "    globals()['models_'+train_set_name][instrument] = clf\n",
    "    \n",
    "    # record the result for each instrument\n",
    "    report = pd.DataFrame(classification_report(Y_true_test_inst, Y_pred_test_inst, output_dict=True))['True']\n",
    "    report['roc_auc'] = model_auc\n",
    "    report['ap'] = model_ap\n",
    "    \n",
    "    report_accuracy = pd.DataFrame(classification_report(Y_true_test_inst, Y_pred_test_inst, output_dict=True))['accuracy'][-2]\n",
    "    result_inst = [instrument, train_set_name, test_set_name, report['precision'], report['recall'],\n",
    "                   report['f1-score'], report['support'], report_accuracy, model_auc, model_ap, embedding + debias_method]\n",
    "    result_all = result_all.append(pd.DataFrame(np.expand_dims(np.array(result_inst), axis=0), \n",
    "                                                columns=result_all.columns), ignore_index=True)\n",
    "    \n",
    "with open('models/models_' + train_set_name + '_' + embedding + debias_method + '.pickle', 'wb') as fdesc:\n",
    "    pickle.dump(globals()['models_'+train_set_name], fdesc)"
   ]
  },
  {
   "cell_type": "markdown",
   "metadata": {},
   "source": [
    "# openmic->openmic"
   ]
  },
  {
   "cell_type": "code",
   "execution_count": 15,
   "metadata": {},
   "outputs": [
    {
     "name": "stdout",
     "output_type": "stream",
     "text": [
      "(380000, 1024) (380000,)\n"
     ]
    },
    {
     "data": {
      "application/vnd.jupyter.widget-view+json": {
<<<<<<< Updated upstream:YAMnet_crossdataset_generalization_kernelLDA.ipynb
       "model_id": "40bcb70afd394c15ad324c411bba1ba7",
=======
       "model_id": "d2b2d019746c44c891d8382c0a24fdd3",
>>>>>>> Stashed changes:.ipynb_checkpoints/yamnet_instclassf_lda-checkpoint.ipynb
       "version_major": 2,
       "version_minor": 0
      },
      "text/plain": [
       "  0%|          | 0/20000 [00:00<?, ?it/s]"
      ]
     },
     "metadata": {},
     "output_type": "display_data"
    },
    {
     "name": "stdout",
     "output_type": "stream",
     "text": [
      "(20000, 1024) (20000,)\n"
     ]
    }
   ],
   "source": [
    "feature = np.array(embeddings['openmic'][embedding]['features'])\n",
    "keys = np.array(embeddings['openmic'][embedding]['keys'])\n",
    "print(feature.shape, keys.shape)\n",
    "\n",
    "key_clip = np.unique(keys)\n",
    "\n",
    "feature_clip = []\n",
    "\n",
    "for key in tqdm(key_clip):\n",
    "    feature_clip.append(np.mean(feature[keys[:]==key,:],axis=0))\n",
    "    \n",
    "feature_clip = np.array(feature_clip)\n",
    "print(feature_clip.shape, key_clip.shape)\n",
    "\n",
<<<<<<< Updated upstream:YAMnet_crossdataset_generalization_kernelLDA.ipynb
    "key_clip = np.array([str(k, encoding='utf-8') for k in key_clip])"
=======
    "key_clip = np.array([str(k, 'utf-8') for k in key_clip])"
>>>>>>> Stashed changes:.ipynb_checkpoints/yamnet_instclassf_lda-checkpoint.ipynb
   ]
  },
  {
   "cell_type": "code",
   "execution_count": 16,
   "metadata": {},
   "outputs": [
    {
     "name": "stdout",
     "output_type": "stream",
     "text": [
      "(20000, 20) (20000, 20) (20000,)\n"
     ]
    }
   ],
   "source": [
    "# key-label map using the information from the dataset source\n",
<<<<<<< Updated upstream:YAMnet_crossdataset_generalization_kernelLDA.ipynb
    "data_root = '../datasets/openmic-2018/'\n",
    "# Replaced the above by a local symbolic link within the github repo\n",
    "# data_root = 'openmic-2018/'\n",
=======
    "data_root = 'openmic-2018/'\n",
>>>>>>> Stashed changes:.ipynb_checkpoints/yamnet_instclassf_lda-checkpoint.ipynb
    "\n",
    "np_load_old = np.load   # save np.load\n",
    "np.load = lambda *a,**k: np_load_old(*a, allow_pickle=True,**k)   # modify the default parameters of np.load\n",
    "\n",
    "Ytrue = np.load(os.path.join(data_root, 'openmic-2018.npz'))['Y_true']\n",
    "Ymask = np.load(os.path.join(data_root, 'openmic-2018.npz'))['Y_mask']\n",
    "sample_key = np.load(os.path.join(data_root, 'openmic-2018.npz'))['sample_key']\n",
    "\n",
    "np.load = np_load_old   # restore np.load for future normal usage\n",
    "del(np_load_old)\n",
    "\n",
    "print(Ytrue.shape, Ymask.shape, sample_key.shape)"
   ]
  },
  {
   "cell_type": "code",
   "execution_count": 17,
   "metadata": {},
   "outputs": [
    {
     "data": {
      "application/vnd.jupyter.widget-view+json": {
<<<<<<< Updated upstream:YAMnet_crossdataset_generalization_kernelLDA.ipynb
       "model_id": "71c48892cdf54f02a1bc48e51f5c47b6",
=======
       "model_id": "01c4614482944eaba7f7ad91cb022698",
>>>>>>> Stashed changes:.ipynb_checkpoints/yamnet_instclassf_lda-checkpoint.ipynb
       "version_major": 2,
       "version_minor": 0
      },
      "text/plain": [
       "  0%|          | 0/20000 [00:00<?, ?it/s]"
      ]
     },
     "metadata": {},
     "output_type": "display_data"
    },
    {
     "name": "stdout",
     "output_type": "stream",
     "text": [
      "(20000, 1024) (20000, 20) (20000, 20)\n"
     ]
    }
   ],
   "source": [
    "Y_true = []\n",
    "Y_mask = []\n",
    "\n",
    "for key in tqdm(key_clip):\n",
    "    Y_true.append(Ytrue[sample_key==key])\n",
    "    Y_mask.append(Ymask[sample_key==key])\n",
    "    \n",
    "Y_true = np.squeeze(np.array(Y_true))\n",
    "Y_mask = np.squeeze(np.array(Y_mask))\n",
    "\n",
    "print(feature_clip.shape, Y_true.shape, Y_mask.shape)"
   ]
  },
  {
   "cell_type": "code",
   "execution_count": 18,
   "metadata": {},
   "outputs": [
    {
     "name": "stdout",
     "output_type": "stream",
     "text": [
      "# Train: 14915,  # Test: 5085\n"
     ]
    }
   ],
   "source": [
    "# train-test split\n",
    "train_set = set(pd.read_csv(data_root + 'openmic2018_train.csv', header=None, squeeze=True))\n",
    "test_set = set(pd.read_csv(data_root + 'openmic2018_test.csv', header=None, squeeze=True))\n",
    "print('# Train: {},  # Test: {}'.format(len(train_set), len(test_set)))"
   ]
  },
  {
   "cell_type": "code",
   "execution_count": 19,
   "metadata": {},
   "outputs": [],
   "source": [
    "idx_train, idx_test = [], []\n",
    "\n",
    "for idx, n in enumerate(key_clip):\n",
    "    if n in train_set:\n",
    "        idx_train.append(idx)\n",
    "    elif n in test_set:\n",
    "        idx_test.append(idx)\n",
    "    else:\n",
    "        raise RuntimeError('Unknown sample key={}! Abort!'.format(key_clip[n]))\n",
    "        \n",
    "idx_train = np.asarray(idx_train)\n",
    "idx_test = np.asarray(idx_test)"
   ]
  },
  {
   "cell_type": "code",
   "execution_count": 20,
   "metadata": {},
   "outputs": [
    {
     "name": "stdout",
     "output_type": "stream",
     "text": [
      "(14915, 1024)\n",
      "(5085, 1024)\n"
     ]
    }
   ],
   "source": [
    "X_train = feature_clip[idx_train]\n",
    "X_test = feature_clip[idx_test]\n",
    "\n",
    "Y_true_train = Y_true[idx_train]\n",
    "Y_true_test = Y_true[idx_test]\n",
    "\n",
    "Y_mask_train = Y_mask[idx_train]\n",
    "Y_mask_test = Y_mask[idx_test]\n",
    "\n",
    "print(X_train.shape); print(X_test.shape)"
   ]
  },
  {
   "cell_type": "code",
   "execution_count": 21,
   "metadata": {},
   "outputs": [
    {
     "name": "stdout",
     "output_type": "stream",
     "text": [
      "(14915, 1024) (5085, 1024)\n",
      "(14915, 1024) (5085, 1024)\n"
     ]
    }
   ],
   "source": [
    "# standardize embedding\n",
    "scaler = StandardScaler()\n",
    "X_train = scaler.fit_transform(X_train)\n",
    "X_test = scaler.transform(X_test)\n",
    "\n",
    "Xdeb_train = X_train.dot(np.eye(len(A)) - A)\n",
    "Xdeb_test = X_test.dot(np.eye(len(A)) - A)\n",
    "print(Xdeb_train.shape, Xdeb_test.shape)\n",
    "\n",
    "X_train = Xdeb_train; X_test = Xdeb_test; del(Xdeb_train, Xdeb_test)\n",
    "print(X_train.shape, X_test.shape)"
   ]
  },
  {
   "cell_type": "code",
   "execution_count": 22,
   "metadata": {},
   "outputs": [
    {
     "name": "stdout",
     "output_type": "stream",
     "text": [
      "----------------------------------------------------\n",
      "cello\n",
      "\tTEST\n",
      "              precision    recall  f1-score   support\n",
      "\n",
      "       False       0.88      0.73      0.80       259\n",
      "        True       0.74      0.89      0.81       226\n",
      "\n",
      "    accuracy                           0.80       485\n",
      "   macro avg       0.81      0.81      0.80       485\n",
      "weighted avg       0.82      0.80      0.80       485\n",
      "\n",
      "ROC-AUC = 0.906\t\tAP = 0.883\n",
      "----------------------------------------------------\n",
      "clarinet\n",
      "\tTEST\n",
      "              precision    recall  f1-score   support\n",
      "\n",
      "       False       0.95      0.37      0.54       503\n",
      "        True       0.29      0.93      0.44       137\n",
      "\n",
      "    accuracy                           0.49       640\n",
      "   macro avg       0.62      0.65      0.49       640\n",
      "weighted avg       0.81      0.49      0.52       640\n",
      "\n",
      "ROC-AUC = 0.724\t\tAP = 0.394\n",
      "----------------------------------------------------\n",
      "flute\n",
      "\tTEST\n",
      "              precision    recall  f1-score   support\n",
      "\n",
      "       False       0.91      0.57      0.70       387\n",
      "        True       0.48      0.87      0.62       175\n",
      "\n",
      "    accuracy                           0.66       562\n",
      "   macro avg       0.69      0.72      0.66       562\n",
      "weighted avg       0.77      0.66      0.67       562\n",
      "\n",
      "ROC-AUC = 0.825\t\tAP = 0.709\n",
      "----------------------------------------------------\n",
      "guitar\n",
      "\tTEST\n",
      "              precision    recall  f1-score   support\n",
      "\n",
      "       False       0.96      0.93      0.95       150\n",
      "        True       0.97      0.98      0.97       286\n",
      "\n",
      "    accuracy                           0.96       436\n",
      "   macro avg       0.96      0.96      0.96       436\n",
      "weighted avg       0.96      0.96      0.96       436\n",
      "\n",
      "ROC-AUC = 0.991\t\tAP = 0.996\n",
      "----------------------------------------------------\n",
      "organ\n",
      "\tTEST\n",
      "              precision    recall  f1-score   support\n",
      "\n",
      "       False       0.97      0.50      0.66       310\n",
      "        True       0.43      0.96      0.59       121\n",
      "\n",
      "    accuracy                           0.63       431\n",
      "   macro avg       0.70      0.73      0.63       431\n",
      "weighted avg       0.82      0.63      0.64       431\n",
      "\n",
      "ROC-AUC = 0.823\t\tAP = 0.629\n",
      "----------------------------------------------------\n",
      "piano\n",
      "\tTEST\n",
      "              precision    recall  f1-score   support\n",
      "\n",
      "       False       0.97      0.87      0.91       130\n",
      "        True       0.94      0.99      0.96       285\n",
      "\n",
      "    accuracy                           0.95       415\n",
      "   macro avg       0.95      0.93      0.94       415\n",
      "weighted avg       0.95      0.95      0.95       415\n",
      "\n",
      "ROC-AUC = 0.984\t\tAP = 0.992\n",
      "----------------------------------------------------\n",
      "saxophone\n",
      "\tTEST\n",
      "              precision    recall  f1-score   support\n",
      "\n",
      "       False       0.87      0.75      0.80       324\n",
      "        True       0.77      0.88      0.82       305\n",
      "\n",
      "    accuracy                           0.81       629\n",
      "   macro avg       0.82      0.81      0.81       629\n",
      "weighted avg       0.82      0.81      0.81       629\n",
      "\n",
      "ROC-AUC = 0.903\t\tAP = 0.892\n",
      "----------------------------------------------------\n",
      "trumpet\n",
      "\tTEST\n",
      "              precision    recall  f1-score   support\n",
      "\n",
      "       False       0.89      0.65      0.75       467\n",
      "        True       0.64      0.89      0.74       318\n",
      "\n",
      "    accuracy                           0.75       785\n",
      "   macro avg       0.76      0.77      0.75       785\n",
      "weighted avg       0.79      0.75      0.75       785\n",
      "\n",
      "ROC-AUC = 0.873\t\tAP = 0.833\n",
      "----------------------------------------------------\n",
      "violin\n",
      "\tTEST\n",
      "              precision    recall  f1-score   support\n",
      "\n",
      "       False       0.92      0.70      0.80       237\n",
      "        True       0.84      0.96      0.90       394\n",
      "\n",
      "    accuracy                           0.87       631\n",
      "   macro avg       0.88      0.83      0.85       631\n",
      "weighted avg       0.87      0.87      0.86       631\n",
      "\n",
      "ROC-AUC = 0.928\t\tAP = 0.948\n",
      "----------------------------------------------------\n",
      "voice\n",
      "\tTEST\n",
      "              precision    recall  f1-score   support\n",
      "\n",
      "       False       0.89      0.90      0.89       150\n",
      "        True       0.93      0.92      0.93       224\n",
      "\n",
      "    accuracy                           0.91       374\n",
      "   macro avg       0.91      0.91      0.91       374\n",
      "weighted avg       0.91      0.91      0.91       374\n",
      "\n",
      "ROC-AUC = 0.968\t\tAP = 0.980\n"
     ]
    }
   ],
   "source": [
    "# This part of the code follows the baseline model for instrument recognition on the openmic dataset:\n",
    "# https://github.com/cosmir/openmic-2018/blob/master/examples/modeling-baseline.ipynb\n",
    "train_set_name, test_set_name = 'openmic', 'openmic'\n",
    "\n",
    "# use a dictionary to include the classifier for each instrument trained on the dataset based on the embedding\n",
    "globals()['models_'+train_set_name] = dict()  \n",
    "\n",
    "# We'll iterate over all istrument classes, and fit a model for each one\n",
    "# After training, we'll print a classification report for each instrument\n",
    "for instrument in class_align:\n",
    "    \n",
    "    # Map the instrument name to its column number\n",
    "    inst_num = class_map[instrument]\n",
    "    \n",
    "    # First, sub-sample the data: we need to select down to the data for which we have annotations\n",
    "    # This is what the mask arrays are for\n",
    "    train_inst = Y_mask_train[:, inst_num]\n",
    "    test_inst = Y_mask_test[:, inst_num]\n",
    "    \n",
    "    # Here, we're using the Y_mask_train array to slice out only the training examples\n",
    "    # for which we have annotations for the given class\n",
    "    X_train_inst = X_train[train_inst]\n",
    "    \n",
    "    # Again, we slice the labels to the annotated examples\n",
    "    # We thresold the label likelihoods at 0.5 to get binary labels\n",
    "    Y_true_train_inst = Y_true_train[train_inst, inst_num] >= 0.5\n",
    "    \n",
    "    # Repeat the above slicing and dicing but for the test set\n",
    "    X_test_inst = X_test[test_inst]\n",
    "    Y_true_test_inst = Y_true_test[test_inst, inst_num] >= 0.5\n",
    "\n",
    "    # initialize and a logistic regression model\n",
    "    LRmodel = LogisticRegression(random_state=0, penalty='l2', solver='liblinear', class_weight='balanced')\n",
    "    \n",
    "    # hyperparameter tunning for logistic regression model\n",
    "    clf =  GridSearchCV(LRmodel, param_grid=param_grid, cv=cv, scoring=scoring)    \n",
    "    \n",
    "    # fit the model\n",
    "    clf.fit(X_train_inst, Y_true_train_inst)\n",
    "\n",
    "    # predict\n",
    "    Y_pred_test_inst = clf.predict(X_test_inst)\n",
    "    # Get prediction scores for the positive class\n",
    "    Y_pred_test_scores = clf.predict_proba(X_test_inst)[:, 1]\n",
    "    \n",
    "    # print result for each instrument\n",
    "    print('-' * 52); print(instrument); print('\\tTEST')\n",
    "    print(classification_report(Y_true_test_inst, Y_pred_test_inst))\n",
    "    \n",
    "    model_auc = roc_auc_score(Y_true_test_inst, Y_pred_test_scores)\n",
    "    model_ap = average_precision_score(Y_true_test_inst, Y_pred_test_scores)\n",
    "    print(f'ROC-AUC = {model_auc:.3f}\\t\\tAP = {model_ap:.3f}')\n",
    "    \n",
    "    # store the classifier in the model dictionary\n",
    "    globals()['models_'+train_set_name][instrument] = clf\n",
    "    \n",
    "    # record the result for each instrument\n",
    "    report = pd.DataFrame(classification_report(Y_true_test_inst, Y_pred_test_inst, output_dict=True))['True']\n",
    "    report['roc_auc'] = model_auc\n",
    "    report['ap'] = model_ap\n",
    "    \n",
    "    report_accuracy = pd.DataFrame(classification_report(Y_true_test_inst, Y_pred_test_inst, output_dict=True))['accuracy'][-2]\n",
    "    result_inst = [instrument, train_set_name, test_set_name, report['precision'], report['recall'],\n",
    "                   report['f1-score'], report['support'], report_accuracy, model_auc, model_ap, embedding + debias_method]\n",
    "    result_all = result_all.append(pd.DataFrame(np.expand_dims(np.array(result_inst), axis=0), \n",
    "                                                columns=result_all.columns), ignore_index=True)\n",
    "    \n",
    "with open('models/models_' + train_set_name + '_' + embedding + debias_method + '.pickle', 'wb') as fdesc:\n",
    "    pickle.dump(globals()['models_'+train_set_name], fdesc)"
   ]
  },
  {
   "cell_type": "markdown",
   "metadata": {},
   "source": [
    "# irmas->openmic"
   ]
  },
  {
   "cell_type": "code",
   "execution_count": 23,
   "metadata": {},
   "outputs": [
    {
     "name": "stdout",
     "output_type": "stream",
     "text": [
      "----------------------------------------------------\n",
      "cello\n",
      "\tTEST\n",
      "              precision    recall  f1-score   support\n",
      "\n",
      "       False       0.97      0.40      0.57       259\n",
      "        True       0.59      0.99      0.74       226\n",
      "\n",
      "    accuracy                           0.67       485\n",
      "   macro avg       0.78      0.69      0.65       485\n",
      "weighted avg       0.79      0.67      0.65       485\n",
      "\n",
      "ROC-AUC = 0.861\t\tAP = 0.827\n",
      "----------------------------------------------------\n",
      "clarinet\n",
      "\tTEST\n",
      "              precision    recall  f1-score   support\n",
      "\n",
      "       False       0.95      0.32      0.48       503\n",
      "        True       0.27      0.94      0.43       137\n",
      "\n",
      "    accuracy                           0.45       640\n",
      "   macro avg       0.61      0.63      0.45       640\n",
      "weighted avg       0.81      0.45      0.47       640\n",
      "\n",
      "ROC-AUC = 0.717\t\tAP = 0.371\n",
      "----------------------------------------------------\n",
      "flute\n",
      "\tTEST\n",
      "              precision    recall  f1-score   support\n",
      "\n",
      "       False       0.91      0.25      0.39       387\n",
      "        True       0.36      0.94      0.52       175\n",
      "\n",
      "    accuracy                           0.46       562\n",
      "   macro avg       0.63      0.60      0.46       562\n",
      "weighted avg       0.74      0.46      0.43       562\n",
      "\n",
      "ROC-AUC = 0.742\t\tAP = 0.601\n",
      "----------------------------------------------------\n",
      "guitar\n",
      "\tTEST\n",
      "              precision    recall  f1-score   support\n",
      "\n",
      "       False       0.84      0.91      0.87       150\n",
      "        True       0.95      0.91      0.93       286\n",
      "\n",
      "    accuracy                           0.91       436\n",
      "   macro avg       0.89      0.91      0.90       436\n",
      "weighted avg       0.91      0.91      0.91       436\n",
      "\n",
      "ROC-AUC = 0.977\t\tAP = 0.988\n",
      "----------------------------------------------------\n",
      "organ\n",
      "\tTEST\n",
      "              precision    recall  f1-score   support\n",
      "\n",
      "       False       0.84      0.25      0.39       310\n",
      "        True       0.31      0.88      0.46       121\n",
      "\n",
      "    accuracy                           0.43       431\n",
      "   macro avg       0.58      0.56      0.42       431\n",
      "weighted avg       0.69      0.43      0.41       431\n",
      "\n",
      "ROC-AUC = 0.675\t\tAP = 0.500\n",
      "----------------------------------------------------\n",
      "piano\n",
      "\tTEST\n",
      "              precision    recall  f1-score   support\n",
      "\n",
      "       False       0.76      0.93      0.83       130\n",
      "        True       0.96      0.86      0.91       285\n",
      "\n",
      "    accuracy                           0.88       415\n",
      "   macro avg       0.86      0.90      0.87       415\n",
      "weighted avg       0.90      0.88      0.89       415\n",
      "\n",
      "ROC-AUC = 0.960\t\tAP = 0.981\n",
      "----------------------------------------------------\n",
      "saxophone\n",
      "\tTEST\n",
      "              precision    recall  f1-score   support\n",
      "\n",
      "       False       0.95      0.53      0.68       324\n",
      "        True       0.66      0.97      0.78       305\n",
      "\n",
      "    accuracy                           0.74       629\n",
      "   macro avg       0.80      0.75      0.73       629\n",
      "weighted avg       0.81      0.74      0.73       629\n",
      "\n",
      "ROC-AUC = 0.880\t\tAP = 0.854\n",
      "----------------------------------------------------\n",
      "trumpet\n",
      "\tTEST\n",
      "              precision    recall  f1-score   support\n",
      "\n",
      "       False       0.91      0.30      0.45       467\n",
      "        True       0.48      0.96      0.64       318\n",
      "\n",
      "    accuracy                           0.56       785\n",
      "   macro avg       0.70      0.63      0.54       785\n",
      "weighted avg       0.74      0.56      0.53       785\n",
      "\n",
      "ROC-AUC = 0.819\t\tAP = 0.761\n",
      "----------------------------------------------------\n",
      "violin\n",
      "\tTEST\n",
      "              precision    recall  f1-score   support\n",
      "\n",
      "       False       0.93      0.58      0.72       237\n",
      "        True       0.79      0.97      0.87       394\n",
      "\n",
      "    accuracy                           0.83       631\n",
      "   macro avg       0.86      0.78      0.79       631\n",
      "weighted avg       0.84      0.83      0.81       631\n",
      "\n",
      "ROC-AUC = 0.920\t\tAP = 0.945\n",
      "----------------------------------------------------\n",
      "voice\n",
      "\tTEST\n",
      "              precision    recall  f1-score   support\n",
      "\n",
      "       False       0.96      0.78      0.86       150\n",
      "        True       0.87      0.98      0.92       224\n",
      "\n",
      "    accuracy                           0.90       374\n",
      "   macro avg       0.91      0.88      0.89       374\n",
      "weighted avg       0.91      0.90      0.90       374\n",
      "\n",
      "ROC-AUC = 0.968\t\tAP = 0.979\n"
     ]
    }
   ],
   "source": [
    "train_set_name, test_set_name = 'irmas', 'openmic' \n",
    "\n",
    "# iterate over all istrument classes, and fit a model for each one\n",
    "for instrument in class_align:\n",
    "    \n",
    "    # Map the instrument name to its column number\n",
    "    inst_num = class_map[instrument]\n",
    "    \n",
    "    # First, sub-sample the data: we need to select down to the data for which we have annotations \n",
    "    # This is what the mask arrays are for\n",
    "    test_inst = Y_mask_test[:, inst_num]\n",
    "\n",
    "    # Repeat the above slicing and dicing but for the test set\n",
    "    X_test_inst = X_test[test_inst]\n",
    "    Y_true_test_inst = Y_true_test[test_inst, inst_num] >= 0.5\n",
    "\n",
    "    # evaluate the classifier \n",
    "    Y_pred_test_inst =  globals()['models_'+train_set_name][instrument].predict(X_test_inst)\n",
    "    Y_pred_test_scores =  globals()['models_'+train_set_name][instrument].predict_proba(X_test_inst)[:, 1]\n",
    "\n",
    "    # print result for each instrument\n",
    "    print('-' * 52); print(instrument); print('\\tTEST')\n",
    "    print(classification_report(Y_true_test_inst, Y_pred_test_inst))\n",
    "    \n",
    "    model_auc = roc_auc_score(Y_true_test_inst, Y_pred_test_scores)\n",
    "    model_ap = average_precision_score(Y_true_test_inst, Y_pred_test_scores)\n",
    "    print(f'ROC-AUC = {model_auc:.3f}\\t\\tAP = {model_ap:.3f}')\n",
    "    \n",
    "    # record the result for each instrument\n",
    "    report = pd.DataFrame(classification_report(Y_true_test_inst, Y_pred_test_inst, output_dict=True))['True']\n",
    "    report['roc_auc'] = model_auc\n",
    "    report['ap'] = model_ap\n",
    "    \n",
    "    report_accuracy = pd.DataFrame(classification_report(Y_true_test_inst, Y_pred_test_inst, output_dict=True))['accuracy'][-2]\n",
    "    result_inst = [instrument, train_set_name, test_set_name, report['precision'], report['recall'],\n",
    "                   report['f1-score'], report['support'], report_accuracy, model_auc, model_ap, embedding + debias_method]\n",
    "    result_all = result_all.append(pd.DataFrame(np.expand_dims(np.array(result_inst), axis=0), \n",
    "                                                columns=result_all.columns), ignore_index=True)"
   ]
  },
  {
   "cell_type": "markdown",
   "metadata": {},
   "source": [
    "# openmic->irmas"
   ]
  },
  {
   "cell_type": "code",
   "execution_count": 24,
   "metadata": {},
   "outputs": [
    {
     "name": "stdout",
     "output_type": "stream",
     "text": [
      "(33525, 1024) (33525,)\n",
      "(6705,)\n"
     ]
    },
    {
     "data": {
      "application/vnd.jupyter.widget-view+json": {
<<<<<<< Updated upstream:YAMnet_crossdataset_generalization_kernelLDA.ipynb
       "model_id": "b7e297ae6b464853914d65f952fa0a5e",
=======
       "model_id": "9525f4b2b0fc411c9f7f8b030784c8c4",
>>>>>>> Stashed changes:.ipynb_checkpoints/yamnet_instclassf_lda-checkpoint.ipynb
       "version_major": 2,
       "version_minor": 0
      },
      "text/plain": [
       "  0%|          | 0/6705 [00:00<?, ?it/s]"
      ]
     },
     "metadata": {},
     "output_type": "display_data"
    },
    {
     "name": "stdout",
     "output_type": "stream",
     "text": [
      "(6705, 1024) (6705,)\n"
     ]
    }
   ],
   "source": [
    "# irmas: vggish embedding\n",
    "feature = np.array(embeddings['irmas'][embedding]['features'])\n",
    "keys_ori = np.array(embeddings['irmas'][embedding]['keys'])\n",
    "print(feature.shape, keys_ori.shape)\n",
    "\n",
    "key_clip = np.unique(keys_ori)\n",
    "print(key_clip.shape)\n",
    "\n",
    "feature_clip = []\n",
    "\n",
    "for key in tqdm(key_clip):\n",
    "    feature_clip.append(np.mean(feature[keys_ori[:]==key,:],axis=0))\n",
    "    \n",
    "feature_clip = np.array(feature_clip)\n",
    "key_clip = np.array([str(k, encoding='utf-8') for k in key_clip])\n",
    "print(feature_clip.shape, key_clip.shape)"
   ]
  },
  {
   "cell_type": "code",
   "execution_count": 25,
   "metadata": {},
   "outputs": [],
   "source": [
    "key_train = list(pd.read_csv('irmas_train.csv', header=None, squeeze=True))\n",
    "key_test = list(pd.read_csv('irmas_test.csv', header=None, squeeze=True))\n",
    "\n",
<<<<<<< Updated upstream:YAMnet_crossdataset_generalization_kernelLDA.ipynb
    "# key_train = np.array([k[2:-1] for k in key_train])\n",
    "# key_test = np.array([k[2:-1]  for k in key_test])\n",
    "\n",
=======
>>>>>>> Stashed changes:.ipynb_checkpoints/yamnet_instclassf_lda-checkpoint.ipynb
    "idx_train, idx_test = [], []\n",
    "\n",
    "for k in range(len(key_clip)):\n",
    "    if str(key_clip[k]) in key_train:\n",
    "        idx_train.append(k)\n",
    "    elif str(key_clip[k]) in key_test:\n",
    "        idx_test.append(k)\n",
    "    else:\n",
    "        raise RuntimeError('Unknown sample key={}! Abort!'.format(key_clip[k]))\n",
    "        \n",
    "idx_train = np.asarray(idx_train)\n",
    "idx_test = np.asarray(idx_test)"
   ]
  },
  {
   "cell_type": "code",
   "execution_count": 26,
   "metadata": {},
   "outputs": [
    {
     "data": {
      "text/plain": [
       "array(['cello', 'clarinet', 'flute', 'guitar', 'organ', 'piano',\n",
       "       'saxophone', 'trumpet', 'violin', 'voice'], dtype='<U9')"
      ]
     },
     "execution_count": 26,
     "metadata": {},
     "output_type": "execute_result"
    }
   ],
   "source": [
    "#keys = np.array([str(k, 'utf-8') for k in key_clip])\n",
    "keys = np.array(key_clip)\n",
    "keys = [key[key.index('[')+1:key.index(']')] for key in keys]\n",
    "\n",
    "for key in class_align:\n",
    "    keys = [key if x in class_align[key] else x for x in keys]\n",
    "    \n",
    "keys = np.array(keys)\n",
    "np.unique(keys)"
   ]
  },
  {
   "cell_type": "code",
   "execution_count": 27,
   "metadata": {},
   "outputs": [
    {
     "name": "stdout",
     "output_type": "stream",
     "text": [
      "(5039, 1024)\n",
      "(1666, 1024)\n"
     ]
    }
   ],
   "source": [
    "X_train = feature_clip[idx_train,:]\n",
    "X_test = feature_clip[idx_test]\n",
    "\n",
    "Y_true_train = keys[idx_train]\n",
    "Y_true_test = keys[idx_test]\n",
    "\n",
    "print(X_train.shape)\n",
    "print(X_test.shape)"
   ]
  },
  {
   "cell_type": "code",
   "execution_count": 28,
   "metadata": {},
   "outputs": [
    {
     "name": "stdout",
     "output_type": "stream",
     "text": [
      "(5039, 1024) (1666, 1024)\n",
      "(5039, 1024) (1666, 1024)\n"
     ]
    }
   ],
   "source": [
    "# standardize embedding\n",
    "scaler = StandardScaler()\n",
    "X_train = scaler.fit_transform(X_train)\n",
    "X_test = scaler.transform(X_test)\n",
    "\n",
    "Xdeb_train = X_train.dot(np.eye(len(A)) - A)\n",
    "Xdeb_test = X_test.dot(np.eye(len(A)) - A)\n",
    "print(Xdeb_train.shape, Xdeb_test.shape)\n",
    "\n",
    "X_train = Xdeb_train; X_test = Xdeb_test; del(Xdeb_train, Xdeb_test)\n",
    "print(X_train.shape, X_test.shape)"
   ]
  },
  {
   "cell_type": "code",
   "execution_count": 29,
   "metadata": {},
   "outputs": [
    {
     "name": "stdout",
     "output_type": "stream",
     "text": [
      "----------------------------------------------------\n",
      "cello\n",
      "\tTEST\n",
      "              precision    recall  f1-score   support\n",
      "\n",
      "       False       0.98      0.53      0.69      1572\n",
      "        True       0.10      0.84      0.17        94\n",
      "\n",
      "    accuracy                           0.55      1666\n",
      "   macro avg       0.54      0.68      0.43      1666\n",
      "weighted avg       0.93      0.55      0.66      1666\n",
      "\n",
<<<<<<< Updated upstream:YAMnet_crossdataset_generalization_kernelLDA.ipynb
      "ROC-AUC = 0.887\t\tAP = 0.604\n",
=======
      "ROC-AUC = 0.824\t\tAP = 0.535\n",
>>>>>>> Stashed changes:.ipynb_checkpoints/yamnet_instclassf_lda-checkpoint.ipynb
      "----------------------------------------------------\n",
      "clarinet\n",
      "\tTEST\n",
      "              precision    recall  f1-score   support\n",
      "\n",
      "       False       0.99      0.47      0.63      1539\n",
      "        True       0.12      0.92      0.22       127\n",
      "\n",
      "    accuracy                           0.50      1666\n",
      "   macro avg       0.56      0.69      0.43      1666\n",
      "weighted avg       0.92      0.50      0.60      1666\n",
      "\n",
      "ROC-AUC = 0.844\t\tAP = 0.423\n",
      "----------------------------------------------------\n",
      "flute\n",
      "\tTEST\n",
      "              precision    recall  f1-score   support\n",
      "\n",
      "       False       0.98      0.48      0.64      1545\n",
      "        True       0.12      0.87      0.20       121\n",
      "\n",
      "    accuracy                           0.51      1666\n",
      "   macro avg       0.55      0.67      0.42      1666\n",
      "weighted avg       0.92      0.51      0.61      1666\n",
      "\n",
      "ROC-AUC = 0.805\t\tAP = 0.448\n",
      "----------------------------------------------------\n",
      "guitar\n",
      "\tTEST\n",
      "              precision    recall  f1-score   support\n",
      "\n",
      "       False       0.96      0.71      0.82      1320\n",
      "        True       0.44      0.88      0.59       346\n",
      "\n",
      "    accuracy                           0.75      1666\n",
      "   macro avg       0.70      0.80      0.70      1666\n",
      "weighted avg       0.85      0.75      0.77      1666\n",
      "\n",
      "ROC-AUC = 0.886\t\tAP = 0.698\n",
      "----------------------------------------------------\n",
      "organ\n",
      "\tTEST\n",
      "              precision    recall  f1-score   support\n",
      "\n",
      "       False       0.90      0.53      0.67      1492\n",
      "        True       0.11      0.51      0.18       174\n",
      "\n",
      "    accuracy                           0.53      1666\n",
      "   macro avg       0.51      0.52      0.43      1666\n",
      "weighted avg       0.82      0.53      0.62      1666\n",
      "\n",
      "ROC-AUC = 0.535\t\tAP = 0.154\n",
      "----------------------------------------------------\n",
      "piano\n",
      "\tTEST\n",
      "              precision    recall  f1-score   support\n",
      "\n",
      "       False       0.96      0.56      0.71      1496\n",
      "        True       0.17      0.82      0.29       170\n",
      "\n",
      "    accuracy                           0.58      1666\n",
      "   macro avg       0.57      0.69      0.50      1666\n",
      "weighted avg       0.88      0.58      0.66      1666\n",
      "\n",
      "ROC-AUC = 0.779\t\tAP = 0.396\n",
      "----------------------------------------------------\n",
      "saxophone\n",
      "\tTEST\n",
      "              precision    recall  f1-score   support\n",
      "\n",
      "       False       0.98      0.66      0.79      1516\n",
      "        True       0.20      0.84      0.32       150\n",
      "\n",
      "    accuracy                           0.68      1666\n",
      "   macro avg       0.59      0.75      0.55      1666\n",
      "weighted avg       0.91      0.68      0.75      1666\n",
      "\n",
      "ROC-AUC = 0.797\t\tAP = 0.291\n",
      "----------------------------------------------------\n",
      "trumpet\n",
      "\tTEST\n",
      "              precision    recall  f1-score   support\n",
      "\n",
      "       False       0.98      0.68      0.80      1516\n",
      "        True       0.21      0.84      0.33       150\n",
      "\n",
      "    accuracy                           0.69      1666\n",
      "   macro avg       0.59      0.76      0.57      1666\n",
      "weighted avg       0.91      0.69      0.76      1666\n",
      "\n",
<<<<<<< Updated upstream:YAMnet_crossdataset_generalization_kernelLDA.ipynb
      "ROC-AUC = 0.899\t\tAP = 0.577\n",
=======
      "ROC-AUC = 0.856\t\tAP = 0.469\n",
>>>>>>> Stashed changes:.ipynb_checkpoints/yamnet_instclassf_lda-checkpoint.ipynb
      "----------------------------------------------------\n",
      "violin\n",
      "\tTEST\n",
      "              precision    recall  f1-score   support\n",
      "\n",
      "       False       0.97      0.60      0.74      1523\n",
      "        True       0.16      0.80      0.26       143\n",
      "\n",
      "    accuracy                           0.61      1666\n",
      "   macro avg       0.56      0.70      0.50      1666\n",
      "weighted avg       0.90      0.61      0.70      1666\n",
      "\n",
<<<<<<< Updated upstream:YAMnet_crossdataset_generalization_kernelLDA.ipynb
      "ROC-AUC = 0.828\t\tAP = 0.384\n",
=======
      "ROC-AUC = 0.810\t\tAP = 0.330\n",
>>>>>>> Stashed changes:.ipynb_checkpoints/yamnet_instclassf_lda-checkpoint.ipynb
      "----------------------------------------------------\n",
      "voice\n",
      "\tTEST\n",
      "              precision    recall  f1-score   support\n",
      "\n",
      "       False       1.00      0.72      0.84      1475\n",
      "        True       0.31      0.98      0.47       191\n",
      "\n",
      "    accuracy                           0.75      1666\n",
      "   macro avg       0.65      0.85      0.66      1666\n",
      "weighted avg       0.92      0.75      0.79      1666\n",
      "\n",
      "ROC-AUC = 0.976\t\tAP = 0.868\n"
     ]
    }
   ],
   "source": [
    "train_set_name, test_set_name = 'openmic', 'irmas' \n",
    "\n",
    "# iterate over all istrument classes, and fit a model for each one\n",
    "for instrument in class_align:\n",
    "    \n",
    "    # get the training and testing labels for each instrument\n",
    "    Y_true_test_inst = Y_true_test==instrument\n",
    "\n",
    "    # evaluate the classifier\n",
    "    Y_pred_test_inst =  globals()['models_'+train_set_name][instrument].predict(X_test)\n",
    "    Y_pred_test_scores =  globals()['models_'+train_set_name][instrument].predict_proba(X_test)[:, 1]\n",
    "    \n",
    "    # print result for each instrument\n",
    "    print('-' * 52); print(instrument); print('\\tTEST')\n",
    "    print(classification_report(Y_true_test_inst, Y_pred_test_inst))\n",
    "    \n",
    "    model_auc = roc_auc_score(Y_true_test_inst, Y_pred_test_scores)\n",
    "    model_ap = average_precision_score(Y_true_test_inst, Y_pred_test_scores)\n",
    "    print(f'ROC-AUC = {model_auc:.3f}\\t\\tAP = {model_ap:.3f}')\n",
    "    \n",
    "    # record the result for each instrument\n",
    "    report = pd.DataFrame(classification_report(Y_true_test_inst, Y_pred_test_inst, output_dict=True))['True']\n",
    "    report['roc_auc'] = model_auc\n",
    "    report['ap'] = model_ap\n",
    "    \n",
    "    report_accuracy = pd.DataFrame(classification_report(Y_true_test_inst, Y_pred_test_inst, output_dict=True))['accuracy'][-2]\n",
    "    result_inst = [instrument, train_set_name, test_set_name, report['precision'], report['recall'],\n",
    "                   report['f1-score'], report['support'], report_accuracy, model_auc, model_ap, embedding + debias_method]\n",
    "    result_all = result_all.append(pd.DataFrame(np.expand_dims(np.array(result_inst), axis=0), \n",
    "                                                columns=result_all.columns), ignore_index=True)"
   ]
  },
  {
   "cell_type": "markdown",
   "metadata": {},
   "source": [
    "# save result"
   ]
  },
  {
   "cell_type": "code",
   "execution_count": 30,
   "metadata": {},
   "outputs": [],
   "source": [
    "# save all result into a csv file\n",
    "result_all.to_csv('results/result_' + embedding + debias_method + '.csv', index=False)"
   ]
  },
  {
   "cell_type": "code",
   "execution_count": 31,
   "metadata": {},
   "outputs": [
    {
     "name": "stdout",
     "output_type": "stream",
     "text": [
      "0.1 1e-10\n"
     ]
    }
   ],
   "source": [
    "C_vggish = []\n",
    "\n",
    "for inst in class_align:\n",
    "    C_vggish.append(models_irmas[inst].best_estimator_.C)\n",
    "    C_vggish.append(models_openmic[inst].best_estimator_.C)\n",
    "    \n",
    "print(max(C_vggish), min(C_vggish))"
   ]
  }
 ],
 "metadata": {
  "kernelspec": {
   "display_name": "Python 3 (ipykernel)",
   "language": "python",
   "name": "python3"
  },
  "language_info": {
   "codemirror_mode": {
    "name": "ipython",
    "version": 3
   },
   "file_extension": ".py",
   "mimetype": "text/x-python",
   "name": "python",
   "nbconvert_exporter": "python",
   "pygments_lexer": "ipython3",
   "version": "3.9.7"
  },
  "toc": {
   "base_numbering": 1,
   "nav_menu": {},
   "number_sections": true,
   "sideBar": true,
   "skip_h1_title": false,
   "title_cell": "Table of Contents",
   "title_sidebar": "Contents",
   "toc_cell": false,
   "toc_position": {
    "height": "621.778px",
    "left": "21px",
    "top": "111.139px",
    "width": "165px"
   },
   "toc_section_display": true,
   "toc_window_display": true
  }
 },
 "nbformat": 4,
 "nbformat_minor": 4
}
