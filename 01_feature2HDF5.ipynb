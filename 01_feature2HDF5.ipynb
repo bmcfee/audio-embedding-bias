{
 "cells": [
  {
   "cell_type": "code",
   "execution_count": 1,
   "metadata": {},
   "outputs": [],
   "source": [
    "%matplotlib inline\n",
    "import matplotlib.pyplot as plt\n",
    "import seaborn as sns\n",
    "import numpy as np\n",
    "import librosa\n",
    "from tqdm import tqdm_notebook as tqdm\n",
    "import json\n",
    "import pandas as pd\n",
    "import pickle\n",
    "import os\n",
    "import h5py\n",
    "import collections as cl\n",
    "from ast import literal_eval\n",
    "import warnings\n",
    "warnings.filterwarnings('ignore')\n",
    "\n",
    "from sklearn.linear_model import LogisticRegression\n",
    "from sklearn.model_selection import GridSearchCV\n",
    "from sklearn.metrics import classification_report, roc_auc_score, average_precision_score\n",
    "from sklearn.preprocessing import StandardScaler\n",
    "import random\n",
    "from sklearn.metrics.pairwise import cosine_similarity\n",
    "import re \n",
    "from sklearn.preprocessing import LabelEncoder"
   ]
  },
  {
   "cell_type": "code",
   "execution_count": 2,
   "metadata": {},
   "outputs": [],
   "source": [
    "param_grid = {\"C\": [10**k for k in range(-10, 6, 2)]}  \n",
    "scoring = \"roc_auc\"; cv = 3; random_state=42\n",
    "random.seed(random_state)"
   ]
  },
  {
   "cell_type": "code",
   "execution_count": 3,
   "metadata": {},
   "outputs": [],
   "source": [
    "with open(\"genre_map.json\", \"r\") as f: # only consider 10 classes of Openmic dataset\n",
    "    genre_map = json.load(f)\n",
    "aligned_genre = list(genre_map)[:-1]\n",
    "\n",
    "with open(\"instrument_map.json\", \"r\") as f: # only consider 10 classes of Openmic dataset\n",
    "    instrument_map = json.load(f)"
   ]
  },
  {
   "cell_type": "code",
   "execution_count": 4,
   "metadata": {},
   "outputs": [],
   "source": [
    "# load embeddings\n",
    "embeddings = h5py.File(\"embeddings.h5\", \"r\")"
   ]
  },
  {
   "attachments": {},
   "cell_type": "markdown",
   "metadata": {},
   "source": [
    "# VGGish"
   ]
  },
  {
   "cell_type": "code",
   "execution_count": 5,
   "metadata": {},
   "outputs": [
    {
     "data": {
      "application/vnd.jupyter.widget-view+json": {
       "model_id": "358448216ab748ae8ef8f0a91441652a",
       "version_major": 2,
       "version_minor": 0
      },
      "text/plain": [
       "  0%|          | 0/6705 [00:00<?, ?it/s]"
      ]
     },
     "metadata": {},
     "output_type": "display_data"
    },
    {
     "name": "stdout",
     "output_type": "stream",
     "text": [
      "(6705, 128) (6705,)\n"
     ]
    }
   ],
   "source": [
    "embedding = \"vggish\"\n",
    "debias_method = \"\"\n",
    "\n",
    "###### IRMAS data ######\n",
    "feature = np.array(embeddings[\"irmas\"][embedding][\"features\"])\n",
    "keys_ori = np.array(embeddings[\"irmas\"][embedding][\"keys\"])\n",
    "key_clip = np.unique(keys_ori)\n",
    "\n",
    "feature_clip = []\n",
    "\n",
    "for key in tqdm(key_clip):\n",
    "    feature_clip.append(np.mean(feature[keys_ori[:]==key,:],axis=0))\n",
    "    \n",
    "feature_clip = np.array(feature_clip)\n",
    "print(feature_clip.shape, key_clip.shape)"
   ]
  },
  {
   "cell_type": "code",
   "execution_count": 6,
   "metadata": {},
   "outputs": [],
   "source": [
    "def load_feature(meta, feature_clip, key_clip):\n",
    "    key_train = list(meta.loc[(meta['split'] == 'train')]['file_name'])\n",
    "    key_test = list(meta.loc[(meta['split'] == 'test')]['file_name'])\n",
    "\n",
    "    idx_train = [list(key_clip).index(item) for item in key_train]\n",
    "    idx_test = [list(key_clip).index(item) for item in key_test]\n",
    "   \n",
    "    # cast the idx_* arrays to numpy structures\n",
    "    idx_train = np.asarray(idx_train)\n",
    "    idx_test = np.asarray(idx_test)\n",
    "\n",
    "    # use the split indices to partition the features, labels, and masks\n",
    "    X_train = feature_clip[idx_train,:]\n",
    "    X_test = feature_clip[idx_test]\n",
    "\n",
    "    Y_train = meta.loc[(meta['split'] == 'train')]['instrument'].values\n",
    "    Y_test = meta.loc[(meta['split'] == 'test')]['instrument'].values\n",
    "\n",
    "    genre_train = meta.loc[(meta['split'] == 'train')]['genre'].values\n",
    "    genre_test = meta.loc[(meta['split'] == 'test')]['genre'].values\n",
    "\n",
    "    return (X_train, Y_train), (X_test, Y_test), (genre_train, genre_test)"
   ]
  },
  {
   "cell_type": "code",
   "execution_count": 7,
   "metadata": {},
   "outputs": [],
   "source": [
    "A_meta = pd.read_csv(\"A_meta.csv\")\n",
    "(X_train_A, Y_train_A), (X_test_A, Y_test_A), (genre_train_A, genre_test_A) = load_feature(A_meta, feature_clip, key_clip)\n",
    "B_meta = pd.read_csv(\"B_meta.csv\")\n",
    "(X_train_B, Y_train_B), (X_test_B, Y_test_B), (genre_train_B, genre_test_B) = load_feature(B_meta, feature_clip, key_clip)"
   ]
  }
 ],
 "metadata": {
  "kernelspec": {
   "display_name": "ismir2022embedding",
   "language": "python",
   "name": "python3"
  },
  "language_info": {
   "codemirror_mode": {
    "name": "ipython",
    "version": 3
   },
   "file_extension": ".py",
   "mimetype": "text/x-python",
   "name": "python",
   "nbconvert_exporter": "python",
   "pygments_lexer": "ipython3",
   "version": "3.9.0"
  },
  "toc": {
   "base_numbering": 1,
   "nav_menu": {},
   "number_sections": true,
   "sideBar": true,
   "skip_h1_title": false,
   "title_cell": "Table of Contents",
   "title_sidebar": "Contents",
   "toc_cell": false,
   "toc_position": {
    "height": "621.778px",
    "left": "21px",
    "top": "111.139px",
    "width": "165px"
   },
   "toc_section_display": true,
   "toc_window_display": true
  },
  "vscode": {
   "interpreter": {
    "hash": "e2e45284a6c14b0a92859aa6111181c4542423174f88d2070b0d025532226888"
   }
  }
 },
 "nbformat": 4,
 "nbformat_minor": 4
}
