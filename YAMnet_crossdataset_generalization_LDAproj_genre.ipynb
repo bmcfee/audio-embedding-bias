{
 "cells": [
  {
   "cell_type": "code",
   "execution_count": 1,
   "metadata": {},
   "outputs": [],
   "source": [
    "%matplotlib inline\n",
    "import matplotlib.pyplot as plt\n",
    "import seaborn as sns\n",
    "import numpy as np\n",
    "import librosa\n",
    "from tqdm import tqdm_notebook as tqdm\n",
    "import json\n",
    "import pandas as pd\n",
    "import os\n",
    "import h5py\n",
    "import pickle\n",
    "import warnings\n",
    "import numpy.linalg as la\n",
    "warnings.filterwarnings('ignore')\n",
    "\n",
    "from sklearn.linear_model import LogisticRegression\n",
    "from sklearn.model_selection import GridSearchCV\n",
    "from sklearn.discriminant_analysis import LinearDiscriminantAnalysis\n",
    "from sklearn.metrics import classification_report, roc_auc_score, average_precision_score"
   ]
  },
  {
   "cell_type": "markdown",
   "metadata": {},
   "source": [
    "# Load embeddings and align classes"
   ]
  },
  {
   "cell_type": "code",
   "execution_count": 2,
   "metadata": {},
   "outputs": [
    {
     "name": "stdout",
     "output_type": "stream",
     "text": [
      "irmas\n",
      "irmas/openl3\n",
      "irmas/openl3/features\n",
      "irmas/openl3/keys\n",
      "irmas/vggish\n",
      "irmas/vggish/features\n",
      "irmas/vggish/keys\n",
      "irmas/yamnet\n",
      "irmas/yamnet/features\n",
      "irmas/yamnet/keys\n",
      "openmic\n",
      "openmic/openl3\n",
      "openmic/openl3/features\n",
      "openmic/openl3/keys\n",
      "openmic/vggish\n",
      "openmic/vggish/features\n",
      "openmic/vggish/keys\n",
      "openmic/yamnet\n",
      "openmic/yamnet/features\n",
      "openmic/yamnet/keys\n"
     ]
    }
   ],
   "source": [
    "embeddings = h5py.File('../embedding-bias/embeddings.h5', 'r')\n",
    "\n",
    "def printname(name):\n",
    "    print(name)\n",
    "embeddings.visit(printname)"
   ]
  },
  {
   "cell_type": "code",
   "execution_count": 3,
   "metadata": {},
   "outputs": [
    {
     "data": {
      "text/plain": [
       "{'cello': 3,\n",
       " 'clarinet': 4,\n",
       " 'flute': 7,\n",
       " 'guitar': 8,\n",
       " 'organ': 11,\n",
       " 'piano': 12,\n",
       " 'saxophone': 13,\n",
       " 'trumpet': 16,\n",
       " 'violin': 18,\n",
       " 'voice': 19}"
      ]
     },
     "execution_count": 3,
     "metadata": {},
     "output_type": "execute_result"
    }
   ],
   "source": [
    "with open('class-map-10.json', 'r') as f: # only consider 10 classes of Openmic dataset\n",
    "    class_map = json.load(f)\n",
    "    \n",
    "class_map"
   ]
  },
  {
   "cell_type": "code",
   "execution_count": 4,
   "metadata": {},
   "outputs": [],
   "source": [
    "# use a dict to align the classes between Openmic dataset (key) and Irmas dataset (val)\n",
    "class_align = {'cello': 'cel',\n",
    "               'clarinet': 'cla',\n",
    "               'flute': 'flu',\n",
    "               'guitar': ['gac', 'gel'],\n",
    "               'organ': 'org',\n",
    "               'piano': 'pia',\n",
    "               'saxophone': 'sax',\n",
    "               'trumpet': 'tru',\n",
    "               'violin': 'vio',\n",
    "               'voice': 'voi'}"
   ]
  },
  {
   "cell_type": "code",
   "execution_count": 5,
   "metadata": {},
   "outputs": [],
   "source": [
    "# use a Pandas DataFrame to record all results and save into a csv file later\n",
    "result_all = pd.DataFrame({'instrument': [],\n",
    "                          'train_set': [],\n",
    "                          'test_set': [],\n",
    "                          'precision': [],\n",
    "                          'recall': [],\n",
    "                          'f1-score': [],\n",
    "                          'support': [],\n",
    "                          'accuracy': [],\n",
    "                          'roc_auc': [],\n",
    "                          'ap': []\n",
    "                         })"
   ]
  },
  {
   "cell_type": "markdown",
   "metadata": {},
   "source": [
    "# irmas->irmas"
   ]
  },
  {
   "cell_type": "code",
   "execution_count": 6,
   "metadata": {},
   "outputs": [
    {
     "name": "stdout",
     "output_type": "stream",
     "text": [
      "(33525, 1024) (33525,)\n",
      "(6705,)\n"
     ]
    }
   ],
   "source": [
    "# irmas: yamnet embedding\n",
    "feature = np.array(embeddings['irmas']['yamnet']['features'])\n",
    "keys_ori = np.array(embeddings['irmas']['yamnet']['keys'])\n",
    "print(feature.shape, keys_ori.shape)\n",
    "\n",
    "key_clip = np.unique(keys_ori)\n",
    "print(key_clip.shape)"
   ]
  },
  {
   "cell_type": "code",
   "execution_count": 7,
   "metadata": {},
   "outputs": [
    {
     "data": {
      "text/plain": [
       "array([b'001__[gel][dru][pop_roc]0829__1',\n",
       "       b'001__[gel][dru][pop_roc]0829__2',\n",
       "       b'001__[gel][dru][pop_roc]0829__3', ..., b'[voi][pop_roc]2548__1',\n",
       "       b'[voi][pop_roc]2548__2', b'[voi][pop_roc]2548__3'], dtype=object)"
      ]
     },
     "execution_count": 7,
     "metadata": {},
     "output_type": "execute_result"
    }
   ],
   "source": [
    "key_clip"
   ]
  },
  {
   "cell_type": "code",
   "execution_count": 8,
   "metadata": {},
   "outputs": [
    {
     "data": {
      "application/vnd.jupyter.widget-view+json": {
       "model_id": "d2810ef01428478f9802ebbea22b71d7",
       "version_major": 2,
       "version_minor": 0
      },
      "text/plain": [
       "  0%|          | 0/6705 [00:00<?, ?it/s]"
      ]
     },
     "metadata": {},
     "output_type": "display_data"
    },
    {
     "name": "stdout",
     "output_type": "stream",
     "text": [
      "(6705, 1024) (6705,)\n"
     ]
    }
   ],
   "source": [
    "feature_clip = []\n",
    "\n",
    "for key in tqdm(key_clip):\n",
    "    feature_clip.append(np.mean(feature[keys_ori[:]==key,:],axis=0))\n",
    "    \n",
    "feature_clip = np.array(feature_clip)\n",
    "key_clip = np.array([str(k, encoding='utf-8') for k in key_clip])\n",
    "print(feature_clip.shape, key_clip.shape)"
   ]
  },
  {
   "cell_type": "code",
   "execution_count": 9,
   "metadata": {},
   "outputs": [],
   "source": [
    "key_train = list(pd.read_csv('irmas_train.csv', header=None, squeeze=True))\n",
    "key_test = list(pd.read_csv('irmas_test.csv', header=None, squeeze=True))\n",
    "\n",
    "# key_train = np.array([k[2:-1] for k in key_train])\n",
    "# key_test = np.array([k[2:-1]  for k in key_test])"
   ]
  },
  {
   "cell_type": "code",
   "execution_count": 10,
   "metadata": {},
   "outputs": [],
   "source": [
    "# these loops go through all sample keys, and save their row numbers to either idx_train or idx_test\n",
    "idx_train, idx_test = [], []\n",
    "\n",
    "for k in range(len(key_clip)):\n",
    "    if str(key_clip[k]) in key_train:\n",
    "        idx_train.append(k)\n",
    "    elif str(key_clip[k]) in key_test:\n",
    "        idx_test.append(k)\n",
    "    else:\n",
    "        # This should never happen, but better safe than sorry.\n",
    "        raise RuntimeError('Unknown sample key={}! Abort!'.format(str(key_clip[k])))\n",
    "        \n",
    "# cast the idx_* arrays to numpy structures\n",
    "idx_train = np.asarray(idx_train)\n",
    "idx_test = np.asarray(idx_test)"
   ]
  },
  {
   "cell_type": "code",
   "execution_count": 11,
   "metadata": {},
   "outputs": [
    {
     "data": {
      "text/plain": [
       "array(['cello', 'clarinet', 'flute', 'guitar', 'organ', 'piano',\n",
       "       'saxophone', 'trumpet', 'violin', 'voice'], dtype='<U9')"
      ]
     },
     "execution_count": 11,
     "metadata": {},
     "output_type": "execute_result"
    }
   ],
   "source": [
    "#keys = np.array([str(k, encoding='utf-8') for k in key_clip])\n",
    "keys = np.array(key_clip)\n",
    "keys = [key[key.index('[')+1:key.index(']')] for key in keys]\n",
    "\n",
    "for key in class_align:\n",
    "    keys = [key if x in class_align[key] else x for x in keys]\n",
    "    \n",
    "keys = np.array(keys)\n",
    "np.unique(keys)"
   ]
  },
  {
   "cell_type": "code",
   "execution_count": 12,
   "metadata": {},
   "outputs": [
    {
     "name": "stdout",
     "output_type": "stream",
     "text": [
      "(5039, 1024)\n",
      "(1666, 1024)\n"
     ]
    }
   ],
   "source": [
    "# use the split indices to partition the features, labels, and masks\n",
    "X_train = feature_clip[idx_train,:]\n",
    "X_test = feature_clip[idx_test]\n",
    "\n",
    "Y_true_train = keys[idx_train]\n",
    "Y_true_test = keys[idx_test]\n",
    "\n",
    "# print out the sliced shapes as a sanity check\n",
    "print(X_train.shape)\n",
    "print(X_test.shape)"
   ]
  },
  {
   "cell_type": "code",
   "execution_count": 13,
   "metadata": {},
   "outputs": [
    {
     "name": "stdout",
     "output_type": "stream",
     "text": [
      "(5, 1024) (5, 5) (5,) (5, 1024) (1024, 1024)\n",
      "(5039, 1024) (1666, 1024)\n"
     ]
    }
   ],
   "source": [
    "############################# project out the LDA direction #############################\n",
    "embedding_name = 'yamnet'\n",
    "file = open('LDA_' + embedding_name + '_coef_genre.pickle', 'rb')\n",
    "globals()['LDA_coef_' + embedding_name] = pickle.load(file)\n",
    "file.close()\n",
    "\n",
    "W = globals()['LDA_coef_' + embedding_name]\n",
    "U, s, V = la.svd(W, full_matrices=False)\n",
    "A = np.dot(V.T,V)\n",
    "print(W.shape, U.shape, s.shape, V.shape, A.shape)\n",
    "\n",
    "X_train = X_train.dot(np.eye(len(A)) - A)\n",
    "X_test = X_test.dot(np.eye(len(A)) - A)\n",
    "print(X_train.shape, X_test.shape)"
   ]
  },
  {
   "cell_type": "code",
   "execution_count": 14,
   "metadata": {},
   "outputs": [
    {
     "name": "stdout",
     "output_type": "stream",
     "text": [
      "----------------------------------------------------\n",
      "cello\n",
      "\tTEST\n",
      "              precision    recall  f1-score   support\n",
      "\n",
      "       False       0.99      0.90      0.94      1572\n",
      "        True       0.35      0.91      0.51        94\n",
      "\n",
      "    accuracy                           0.90      1666\n",
      "   macro avg       0.67      0.91      0.73      1666\n",
      "weighted avg       0.96      0.90      0.92      1666\n",
      "\n",
      "ROC-AUC = 0.961\t\tAP = 0.760\n",
      "----------------------------------------------------\n",
      "clarinet\n",
      "\tTEST\n",
      "              precision    recall  f1-score   support\n",
      "\n",
      "       False       0.99      0.88      0.93      1539\n",
      "        True       0.36      0.85      0.51       127\n",
      "\n",
      "    accuracy                           0.87      1666\n",
      "   macro avg       0.67      0.86      0.72      1666\n",
      "weighted avg       0.94      0.87      0.90      1666\n",
      "\n",
      "ROC-AUC = 0.930\t\tAP = 0.721\n",
      "----------------------------------------------------\n",
      "flute\n",
      "\tTEST\n",
      "              precision    recall  f1-score   support\n",
      "\n",
      "       False       0.98      0.92      0.95      1545\n",
      "        True       0.43      0.79      0.55       121\n",
      "\n",
      "    accuracy                           0.91      1666\n",
      "   macro avg       0.70      0.85      0.75      1666\n",
      "weighted avg       0.94      0.91      0.92      1666\n",
      "\n",
      "ROC-AUC = 0.935\t\tAP = 0.700\n",
      "----------------------------------------------------\n",
      "guitar\n",
      "\tTEST\n",
      "              precision    recall  f1-score   support\n",
      "\n",
      "       False       0.97      0.91      0.94      1320\n",
      "        True       0.72      0.88      0.79       346\n",
      "\n",
      "    accuracy                           0.90      1666\n",
      "   macro avg       0.84      0.89      0.86      1666\n",
      "weighted avg       0.91      0.90      0.91      1666\n",
      "\n",
      "ROC-AUC = 0.966\t\tAP = 0.892\n",
      "----------------------------------------------------\n",
      "organ\n",
      "\tTEST\n",
      "              precision    recall  f1-score   support\n",
      "\n",
      "       False       0.99      0.94      0.97      1492\n",
      "        True       0.65      0.95      0.77       174\n",
      "\n",
      "    accuracy                           0.94      1666\n",
      "   macro avg       0.82      0.95      0.87      1666\n",
      "weighted avg       0.96      0.94      0.95      1666\n",
      "\n",
      "ROC-AUC = 0.987\t\tAP = 0.888\n",
      "----------------------------------------------------\n",
      "piano\n",
      "\tTEST\n",
      "              precision    recall  f1-score   support\n",
      "\n",
      "       False       0.98      0.97      0.97      1496\n",
      "        True       0.73      0.83      0.78       170\n",
      "\n",
      "    accuracy                           0.95      1666\n",
      "   macro avg       0.86      0.90      0.88      1666\n",
      "weighted avg       0.96      0.95      0.95      1666\n",
      "\n",
      "ROC-AUC = 0.965\t\tAP = 0.864\n",
      "----------------------------------------------------\n",
      "saxophone\n",
      "\tTEST\n",
      "              precision    recall  f1-score   support\n",
      "\n",
      "       False       0.98      0.85      0.91      1516\n",
      "        True       0.35      0.82      0.49       150\n",
      "\n",
      "    accuracy                           0.85      1666\n",
      "   macro avg       0.67      0.84      0.70      1666\n",
      "weighted avg       0.92      0.85      0.87      1666\n",
      "\n",
      "ROC-AUC = 0.912\t\tAP = 0.615\n",
      "----------------------------------------------------\n",
      "trumpet\n",
      "\tTEST\n",
      "              precision    recall  f1-score   support\n",
      "\n",
      "       False       0.98      0.92      0.95      1516\n",
      "        True       0.53      0.85      0.65       150\n",
      "\n",
      "    accuracy                           0.92      1666\n",
      "   macro avg       0.76      0.89      0.80      1666\n",
      "weighted avg       0.94      0.92      0.93      1666\n",
      "\n",
      "ROC-AUC = 0.953\t\tAP = 0.805\n",
      "----------------------------------------------------\n",
      "violin\n",
      "\tTEST\n",
      "              precision    recall  f1-score   support\n",
      "\n",
      "       False       0.98      0.88      0.93      1523\n",
      "        True       0.38      0.80      0.52       143\n",
      "\n",
      "    accuracy                           0.87      1666\n",
      "   macro avg       0.68      0.84      0.72      1666\n",
      "weighted avg       0.93      0.87      0.89      1666\n",
      "\n",
      "ROC-AUC = 0.909\t\tAP = 0.668\n",
      "----------------------------------------------------\n",
      "voice\n",
      "\tTEST\n",
      "              precision    recall  f1-score   support\n",
      "\n",
      "       False       1.00      0.97      0.98      1475\n",
      "        True       0.79      0.97      0.87       191\n",
      "\n",
      "    accuracy                           0.97      1666\n",
      "   macro avg       0.89      0.97      0.93      1666\n",
      "weighted avg       0.97      0.97      0.97      1666\n",
      "\n",
      "ROC-AUC = 0.993\t\tAP = 0.952\n"
     ]
    }
   ],
   "source": [
    "train_set_name, test_set_name = 'irmas', 'irmas'\n",
    "\n",
    "# use a dictionary to include the classifier for each instrument trained on the dataset based on the embedding\n",
    "globals()['models_'+train_set_name] = dict()  \n",
    "\n",
    "# iterate over all istrument classes, and fit a model for each one\n",
    "for instrument in class_align:\n",
    "    \n",
    "    # get the training and testing labels for each instrument\n",
    "    Y_true_train_inst = Y_true_train==instrument\n",
    "    Y_true_test_inst = Y_true_test==instrument\n",
    "    \n",
    "    # initialize and a logistic regression model\n",
    "    LRmodel = LogisticRegression(random_state=0, penalty='l2', solver='liblinear', class_weight='balanced')\n",
    "    \n",
    "    # hyperparameter tunning for logistic regression model\n",
    "    param_grid = {'C': [0.001, 0.01, 0.1, 1, 10, 100] }  \n",
    "    scoring = 'roc_auc'; cv = 3\n",
    "    clf =  GridSearchCV(LRmodel, param_grid=param_grid, cv=cv, scoring=scoring)  \n",
    "    \n",
    "    # fit the model\n",
    "    clf.fit(X_train, Y_true_train_inst)\n",
    "    \n",
    "    # predict\n",
    "    Y_pred_test_inst = clf.predict(X_test)\n",
    "    \n",
    "    # Get prediction scores for the positive class\n",
    "    Y_pred_test_scores = clf.predict_proba(X_test)[:, 1]\n",
    "    \n",
    "    # print result for each instrument\n",
    "    print('-' * 52); print(instrument); print('\\tTEST')\n",
    "    print(classification_report(Y_true_test_inst, Y_pred_test_inst))\n",
    "    \n",
    "    model_auc = roc_auc_score(Y_true_test_inst, Y_pred_test_scores)\n",
    "    model_ap = average_precision_score(Y_true_test_inst, Y_pred_test_scores)\n",
    "    print(f'ROC-AUC = {model_auc:.3f}\\t\\tAP = {model_ap:.3f}')\n",
    "    \n",
    "    # store the classifier in the model dictionary\n",
    "    globals()['models_'+train_set_name][instrument] = clf\n",
    "    \n",
    "    # record the result for each instrument\n",
    "    report = pd.DataFrame(classification_report(Y_true_test_inst, Y_pred_test_inst, output_dict=True))['True']\n",
    "    report['roc_auc'] = model_auc\n",
    "    report['ap'] = model_ap\n",
    "    \n",
    "    report_accuracy = pd.DataFrame(classification_report(Y_true_test_inst, Y_pred_test_inst, output_dict=True))['accuracy'][-2]\n",
    "    result_inst = [instrument, train_set_name, test_set_name, report['precision'], report['recall'],\n",
    "                   report['f1-score'], report['support'], report_accuracy, model_auc, model_ap]\n",
    "    result_all = result_all.append(pd.DataFrame(np.expand_dims(np.array(result_inst), axis=0), \n",
    "                                                columns=result_all.columns), ignore_index=True)"
   ]
  },
  {
   "cell_type": "markdown",
   "metadata": {},
   "source": [
    "# openmic->openmic"
   ]
  },
  {
   "cell_type": "code",
   "execution_count": 15,
   "metadata": {},
   "outputs": [
    {
     "name": "stdout",
     "output_type": "stream",
     "text": [
      "(380000, 1024) (380000,)\n"
     ]
    },
    {
     "data": {
      "text/plain": [
       "(20000,)"
      ]
     },
     "execution_count": 15,
     "metadata": {},
     "output_type": "execute_result"
    }
   ],
   "source": [
    "# openmic: yamnet embedding\n",
    "feature = np.array(embeddings['openmic']['yamnet']['features'])\n",
    "keys = np.array(embeddings['openmic']['yamnet']['keys'])\n",
    "print(feature.shape, keys.shape)\n",
    "\n",
    "key_clip = np.unique(keys)\n",
    "key_clip.shape"
   ]
  },
  {
   "cell_type": "code",
   "execution_count": 16,
   "metadata": {},
   "outputs": [
    {
     "data": {
      "application/vnd.jupyter.widget-view+json": {
       "model_id": "3b65916575f2409cb8360796ed1f7417",
       "version_major": 2,
       "version_minor": 0
      },
      "text/plain": [
       "  0%|          | 0/20000 [00:00<?, ?it/s]"
      ]
     },
     "metadata": {},
     "output_type": "display_data"
    },
    {
     "name": "stdout",
     "output_type": "stream",
     "text": [
      "(20000, 1024) (20000,)\n"
     ]
    }
   ],
   "source": [
    "feature_clip = []\n",
    "\n",
    "for key in tqdm(key_clip):\n",
    "    feature_clip.append(np.mean(feature[keys[:]==key,:],axis=0))\n",
    "    \n",
    "feature_clip = np.array(feature_clip)\n",
    "print(feature_clip.shape, key_clip.shape)\n",
    "\n",
    "key_clip = np.array([str(k, encoding='utf-8') for k in key_clip])"
   ]
  },
  {
   "cell_type": "code",
   "execution_count": 17,
   "metadata": {},
   "outputs": [
    {
     "name": "stdout",
     "output_type": "stream",
     "text": [
      "(20000, 20) (20000, 20) (20000,)\n"
     ]
    }
   ],
   "source": [
    "# key-label map using the information from the dataset source\n",
    "data_root = '../datasets/openmic-2018/'\n",
    "# Replaced the above by a local symbolic link within the github repo\n",
    "# data_root = 'openmic-2018/'\n",
    "\n",
    "np_load_old = np.load   # save np.load\n",
    "np.load = lambda *a,**k: np_load_old(*a, allow_pickle=True,**k)   # modify the default parameters of np.load\n",
    "\n",
    "Ytrue = np.load(os.path.join(data_root, 'openmic-2018.npz'))['Y_true']\n",
    "Ymask = np.load(os.path.join(data_root, 'openmic-2018.npz'))['Y_mask']\n",
    "sample_key = np.load(os.path.join(data_root, 'openmic-2018.npz'))['sample_key']\n",
    "\n",
    "np.load = np_load_old   # restore np.load for future normal usage\n",
    "del(np_load_old)\n",
    "\n",
    "print(Ytrue.shape, Ymask.shape, sample_key.shape)"
   ]
  },
  {
   "cell_type": "code",
   "execution_count": 18,
   "metadata": {},
   "outputs": [
    {
     "data": {
      "application/vnd.jupyter.widget-view+json": {
       "model_id": "4f1b9f117afc49329b53f520036394cf",
       "version_major": 2,
       "version_minor": 0
      },
      "text/plain": [
       "  0%|          | 0/20000 [00:00<?, ?it/s]"
      ]
     },
     "metadata": {},
     "output_type": "display_data"
    },
    {
     "name": "stdout",
     "output_type": "stream",
     "text": [
      "(20000, 1024) (20000, 20) (20000, 20)\n"
     ]
    }
   ],
   "source": [
    "Y_true = []\n",
    "Y_mask = []\n",
    "\n",
    "for key in tqdm(key_clip):\n",
    "    Y_true.append(Ytrue[sample_key==key])\n",
    "    Y_mask.append(Ymask[sample_key==key])\n",
    "    \n",
    "Y_true = np.squeeze(np.array(Y_true))\n",
    "Y_mask = np.squeeze(np.array(Y_mask))\n",
    "\n",
    "X = feature_clip\n",
    "del(feature_clip)\n",
    "\n",
    "print(X.shape, Y_true.shape, Y_mask.shape)"
   ]
  },
  {
   "cell_type": "code",
   "execution_count": 19,
   "metadata": {},
   "outputs": [
    {
     "name": "stdout",
     "output_type": "stream",
     "text": [
      "# Train: 14915,  # Test: 5085\n"
     ]
    }
   ],
   "source": [
    "# train-test split\n",
    "split_train = pd.read_csv('openmic2018_train.csv', header=None, squeeze=True)\n",
    "split_test = pd.read_csv('openmic2018_test.csv', header=None, squeeze=True)\n",
    "\n",
    "print('# Train: {},  # Test: {}'.format(len(split_train), len(split_test)))\n",
    "\n",
    "train_set = set(split_train)\n",
    "test_set = set(split_test)"
   ]
  },
  {
   "cell_type": "code",
   "execution_count": 20,
   "metadata": {},
   "outputs": [],
   "source": [
    "idx_train, idx_test = [], []\n",
    "\n",
    "for idx, n in enumerate(key_clip):\n",
    "    if n in train_set:\n",
    "        idx_train.append(idx)\n",
    "    elif n in test_set:\n",
    "        idx_test.append(idx)\n",
    "    else:\n",
    "        raise RuntimeError('Unknown sample key={}! Abort!'.format(key_clip[n]))\n",
    "        \n",
    "idx_train = np.asarray(idx_train)\n",
    "idx_test = np.asarray(idx_test)"
   ]
  },
  {
   "cell_type": "code",
   "execution_count": 21,
   "metadata": {},
   "outputs": [
    {
     "name": "stdout",
     "output_type": "stream",
     "text": [
      "(14915, 1024)\n",
      "(5085, 1024)\n"
     ]
    }
   ],
   "source": [
    "X_train = X[idx_train]\n",
    "X_test = X[idx_test]\n",
    "\n",
    "Y_true_train = Y_true[idx_train]\n",
    "Y_true_test = Y_true[idx_test]\n",
    "\n",
    "Y_mask_train = Y_mask[idx_train]\n",
    "Y_mask_test = Y_mask[idx_test]\n",
    "\n",
    "print(X_train.shape); print(X_test.shape)"
   ]
  },
  {
   "cell_type": "code",
   "execution_count": 22,
   "metadata": {},
   "outputs": [
    {
     "name": "stdout",
     "output_type": "stream",
     "text": [
      "(14915, 1024) (5085, 1024)\n"
     ]
    }
   ],
   "source": [
    "X_train = X_train.dot(np.eye(len(A)) - A)\n",
    "X_test = X_test.dot(np.eye(len(A)) - A)\n",
    "print(X_train.shape, X_test.shape)"
   ]
  },
  {
   "cell_type": "code",
   "execution_count": 23,
   "metadata": {},
   "outputs": [
    {
     "name": "stdout",
     "output_type": "stream",
     "text": [
      "----------------------------------------------------\n",
      "cello\n",
      "\tTEST\n",
      "              precision    recall  f1-score   support\n",
      "\n",
      "       False       0.86      0.82      0.84       259\n",
      "        True       0.81      0.84      0.82       226\n",
      "\n",
      "    accuracy                           0.83       485\n",
      "   macro avg       0.83      0.83      0.83       485\n",
      "weighted avg       0.83      0.83      0.83       485\n",
      "\n",
      "ROC-AUC = 0.911\t\tAP = 0.886\n",
      "----------------------------------------------------\n",
      "clarinet\n",
      "\tTEST\n",
      "              precision    recall  f1-score   support\n",
      "\n",
      "       False       0.91      0.67      0.77       503\n",
      "        True       0.38      0.75      0.51       137\n",
      "\n",
      "    accuracy                           0.69       640\n",
      "   macro avg       0.64      0.71      0.64       640\n",
      "weighted avg       0.80      0.69      0.71       640\n",
      "\n",
      "ROC-AUC = 0.781\t\tAP = 0.459\n",
      "----------------------------------------------------\n",
      "flute\n",
      "\tTEST\n",
      "              precision    recall  f1-score   support\n",
      "\n",
      "       False       0.86      0.64      0.73       387\n",
      "        True       0.49      0.78      0.60       175\n",
      "\n",
      "    accuracy                           0.68       562\n",
      "   macro avg       0.68      0.71      0.67       562\n",
      "weighted avg       0.75      0.68      0.69       562\n",
      "\n",
      "ROC-AUC = 0.808\t\tAP = 0.694\n",
      "----------------------------------------------------\n",
      "guitar\n",
      "\tTEST\n",
      "              precision    recall  f1-score   support\n",
      "\n",
      "       False       0.91      0.98      0.94       150\n",
      "        True       0.99      0.95      0.97       286\n",
      "\n",
      "    accuracy                           0.96       436\n",
      "   macro avg       0.95      0.96      0.96       436\n",
      "weighted avg       0.96      0.96      0.96       436\n",
      "\n",
      "ROC-AUC = 0.991\t\tAP = 0.996\n",
      "----------------------------------------------------\n",
      "organ\n",
      "\tTEST\n",
      "              precision    recall  f1-score   support\n",
      "\n",
      "       False       0.88      0.71      0.79       310\n",
      "        True       0.50      0.75      0.60       121\n",
      "\n",
      "    accuracy                           0.72       431\n",
      "   macro avg       0.69      0.73      0.69       431\n",
      "weighted avg       0.77      0.72      0.73       431\n",
      "\n",
      "ROC-AUC = 0.829\t\tAP = 0.628\n",
      "----------------------------------------------------\n",
      "piano\n",
      "\tTEST\n",
      "              precision    recall  f1-score   support\n",
      "\n",
      "       False       0.95      0.90      0.92       130\n",
      "        True       0.96      0.98      0.97       285\n",
      "\n",
      "    accuracy                           0.95       415\n",
      "   macro avg       0.95      0.94      0.95       415\n",
      "weighted avg       0.95      0.95      0.95       415\n",
      "\n",
      "ROC-AUC = 0.986\t\tAP = 0.993\n",
      "----------------------------------------------------\n",
      "saxophone\n",
      "\tTEST\n",
      "              precision    recall  f1-score   support\n",
      "\n",
      "       False       0.86      0.82      0.84       324\n",
      "        True       0.82      0.86      0.84       305\n",
      "\n",
      "    accuracy                           0.84       629\n",
      "   macro avg       0.84      0.84      0.84       629\n",
      "weighted avg       0.84      0.84      0.84       629\n",
      "\n",
      "ROC-AUC = 0.918\t\tAP = 0.901\n",
      "----------------------------------------------------\n",
      "trumpet\n",
      "\tTEST\n",
      "              precision    recall  f1-score   support\n",
      "\n",
      "       False       0.84      0.81      0.82       467\n",
      "        True       0.73      0.77      0.75       318\n",
      "\n",
      "    accuracy                           0.79       785\n",
      "   macro avg       0.78      0.79      0.79       785\n",
      "weighted avg       0.79      0.79      0.79       785\n",
      "\n",
      "ROC-AUC = 0.880\t\tAP = 0.839\n",
      "----------------------------------------------------\n",
      "violin\n",
      "\tTEST\n",
      "              precision    recall  f1-score   support\n",
      "\n",
      "       False       0.81      0.83      0.82       237\n",
      "        True       0.90      0.88      0.89       394\n",
      "\n",
      "    accuracy                           0.86       631\n",
      "   macro avg       0.85      0.86      0.85       631\n",
      "weighted avg       0.86      0.86      0.86       631\n",
      "\n",
      "ROC-AUC = 0.934\t\tAP = 0.953\n",
      "----------------------------------------------------\n",
      "voice\n",
      "\tTEST\n",
      "              precision    recall  f1-score   support\n",
      "\n",
      "       False       0.88      0.90      0.89       150\n",
      "        True       0.93      0.92      0.92       224\n",
      "\n",
      "    accuracy                           0.91       374\n",
      "   macro avg       0.90      0.91      0.91       374\n",
      "weighted avg       0.91      0.91      0.91       374\n",
      "\n",
      "ROC-AUC = 0.971\t\tAP = 0.981\n"
     ]
    }
   ],
   "source": [
    "# This part of the code follows the baseline model for instrument recognition on the openmic dataset:\n",
    "# https://github.com/cosmir/openmic-2018/blob/master/examples/modeling-baseline.ipynb\n",
    "train_set_name, test_set_name = 'openmic', 'openmic'\n",
    "\n",
    "# use a dictionary to include the classifier for each instrument trained on the dataset based on the embedding\n",
    "globals()['models_'+train_set_name] = dict()  \n",
    "\n",
    "# We'll iterate over all istrument classes, and fit a model for each one\n",
    "# After training, we'll print a classification report for each instrument\n",
    "for instrument in class_align:\n",
    "    \n",
    "    # Map the instrument name to its column number\n",
    "    inst_num = class_map[instrument]\n",
    "    \n",
    "    # First, sub-sample the data: we need to select down to the data for which we have annotations\n",
    "    # This is what the mask arrays are for\n",
    "    train_inst = Y_mask_train[:, inst_num]\n",
    "    test_inst = Y_mask_test[:, inst_num]\n",
    "    \n",
    "    # Here, we're using the Y_mask_train array to slice out only the training examples\n",
    "    # for which we have annotations for the given class\n",
    "    X_train_inst = X_train[train_inst]\n",
    "    \n",
    "    # Again, we slice the labels to the annotated examples\n",
    "    # We thresold the label likelihoods at 0.5 to get binary labels\n",
    "    Y_true_train_inst = Y_true_train[train_inst, inst_num] >= 0.5\n",
    "    \n",
    "    # Repeat the above slicing and dicing but for the test set\n",
    "    X_test_inst = X_test[test_inst]\n",
    "    Y_true_test_inst = Y_true_test[test_inst, inst_num] >= 0.5\n",
    "\n",
    "    # initialize and a logistic regression model\n",
    "    LRmodel = LogisticRegression(random_state=0, penalty='l2', solver='liblinear', class_weight='balanced')\n",
    "    \n",
    "    # hyperparameter tunning for logistic regression model\n",
    "    param_grid = {'C': [0.001, 0.01, 0.1, 1, 10, 100] }  \n",
    "    scoring = 'roc_auc'; cv = 3\n",
    "    clf =  GridSearchCV(LRmodel, param_grid=param_grid, cv=cv, scoring=scoring)    \n",
    "    \n",
    "    # fit the model\n",
    "    clf.fit(X_train_inst, Y_true_train_inst)\n",
    "\n",
    "    # predict\n",
    "    Y_pred_test_inst = clf.predict(X_test_inst)\n",
    "    # Get prediction scores for the positive class\n",
    "    Y_pred_test_scores = clf.predict_proba(X_test_inst)[:, 1]\n",
    "    \n",
    "    # print result for each instrument\n",
    "    print('-' * 52); print(instrument); print('\\tTEST')\n",
    "    print(classification_report(Y_true_test_inst, Y_pred_test_inst))\n",
    "    \n",
    "    model_auc = roc_auc_score(Y_true_test_inst, Y_pred_test_scores)\n",
    "    model_ap = average_precision_score(Y_true_test_inst, Y_pred_test_scores)\n",
    "    print(f'ROC-AUC = {model_auc:.3f}\\t\\tAP = {model_ap:.3f}')\n",
    "    \n",
    "    # store the classifier in the model dictionary\n",
    "    globals()['models_'+train_set_name][instrument] = clf\n",
    "    \n",
    "    # record the result for each instrument\n",
    "    report = pd.DataFrame(classification_report(Y_true_test_inst, Y_pred_test_inst, output_dict=True))['True']\n",
    "    report['roc_auc'] = model_auc\n",
    "    report['ap'] = model_ap\n",
    "    report_accuracy = pd.DataFrame(classification_report(Y_true_test_inst, Y_pred_test_inst, output_dict=True))['accuracy'][-2]\n",
    "    result_inst = [instrument, train_set_name, test_set_name, report['precision'], report['recall'],\n",
    "                   report['f1-score'], report['support'], report_accuracy, model_auc, model_ap]   \n",
    "    result_all = result_all.append(pd.DataFrame(np.expand_dims(np.array(result_inst), axis=0), \n",
    "                                                columns=result_all.columns), ignore_index=True)"
   ]
  },
  {
   "cell_type": "markdown",
   "metadata": {},
   "source": [
    "# irmas->openmic"
   ]
  },
  {
   "cell_type": "code",
   "execution_count": 24,
   "metadata": {},
   "outputs": [
    {
     "name": "stdout",
     "output_type": "stream",
     "text": [
      "----------------------------------------------------\n",
      "cello\n",
      "\tTEST\n",
      "              precision    recall  f1-score   support\n",
      "\n",
      "       False       0.76      0.64      0.70       259\n",
      "        True       0.65      0.77      0.71       226\n",
      "\n",
      "    accuracy                           0.70       485\n",
      "   macro avg       0.71      0.71      0.70       485\n",
      "weighted avg       0.71      0.70      0.70       485\n",
      "\n",
      "ROC-AUC = 0.763\t\tAP = 0.727\n",
      "----------------------------------------------------\n",
      "clarinet\n",
      "\tTEST\n",
      "              precision    recall  f1-score   support\n",
      "\n",
      "       False       0.85      0.78      0.81       503\n",
      "        True       0.38      0.48      0.42       137\n",
      "\n",
      "    accuracy                           0.72       640\n",
      "   macro avg       0.61      0.63      0.62       640\n",
      "weighted avg       0.75      0.72      0.73       640\n",
      "\n",
      "ROC-AUC = 0.697\t\tAP = 0.385\n",
      "----------------------------------------------------\n",
      "flute\n",
      "\tTEST\n",
      "              precision    recall  f1-score   support\n",
      "\n",
      "       False       0.78      0.66      0.72       387\n",
      "        True       0.44      0.59      0.50       175\n",
      "\n",
      "    accuracy                           0.64       562\n",
      "   macro avg       0.61      0.63      0.61       562\n",
      "weighted avg       0.68      0.64      0.65       562\n",
      "\n",
      "ROC-AUC = 0.684\t\tAP = 0.476\n",
      "----------------------------------------------------\n",
      "guitar\n",
      "\tTEST\n",
      "              precision    recall  f1-score   support\n",
      "\n",
      "       False       0.84      0.95      0.89       150\n",
      "        True       0.97      0.91      0.94       286\n",
      "\n",
      "    accuracy                           0.92       436\n",
      "   macro avg       0.91      0.93      0.92       436\n",
      "weighted avg       0.93      0.92      0.92       436\n",
      "\n",
      "ROC-AUC = 0.983\t\tAP = 0.992\n",
      "----------------------------------------------------\n",
      "organ\n",
      "\tTEST\n",
      "              precision    recall  f1-score   support\n",
      "\n",
      "       False       0.86      0.62      0.72       310\n",
      "        True       0.43      0.75      0.55       121\n",
      "\n",
      "    accuracy                           0.65       431\n",
      "   macro avg       0.65      0.68      0.63       431\n",
      "weighted avg       0.74      0.65      0.67       431\n",
      "\n",
      "ROC-AUC = 0.765\t\tAP = 0.592\n",
      "----------------------------------------------------\n",
      "piano\n",
      "\tTEST\n",
      "              precision    recall  f1-score   support\n",
      "\n",
      "       False       0.71      0.94      0.81       130\n",
      "        True       0.97      0.82      0.89       285\n",
      "\n",
      "    accuracy                           0.86       415\n",
      "   macro avg       0.84      0.88      0.85       415\n",
      "weighted avg       0.88      0.86      0.86       415\n",
      "\n",
      "ROC-AUC = 0.956\t\tAP = 0.981\n",
      "----------------------------------------------------\n",
      "saxophone\n",
      "\tTEST\n",
      "              precision    recall  f1-score   support\n",
      "\n",
      "       False       0.73      0.75      0.74       324\n",
      "        True       0.72      0.71      0.72       305\n",
      "\n",
      "    accuracy                           0.73       629\n",
      "   macro avg       0.73      0.73      0.73       629\n",
      "weighted avg       0.73      0.73      0.73       629\n",
      "\n",
      "ROC-AUC = 0.799\t\tAP = 0.785\n",
      "----------------------------------------------------\n",
      "trumpet\n",
      "\tTEST\n",
      "              precision    recall  f1-score   support\n",
      "\n",
      "       False       0.79      0.79      0.79       467\n",
      "        True       0.70      0.69      0.69       318\n",
      "\n",
      "    accuracy                           0.75       785\n",
      "   macro avg       0.74      0.74      0.74       785\n",
      "weighted avg       0.75      0.75      0.75       785\n",
      "\n",
      "ROC-AUC = 0.803\t\tAP = 0.736\n",
      "----------------------------------------------------\n",
      "violin\n",
      "\tTEST\n",
      "              precision    recall  f1-score   support\n",
      "\n",
      "       False       0.68      0.81      0.74       237\n",
      "        True       0.87      0.78      0.82       394\n",
      "\n",
      "    accuracy                           0.79       631\n",
      "   macro avg       0.78      0.79      0.78       631\n",
      "weighted avg       0.80      0.79      0.79       631\n",
      "\n",
      "ROC-AUC = 0.854\t\tAP = 0.903\n",
      "----------------------------------------------------\n",
      "voice\n",
      "\tTEST\n",
      "              precision    recall  f1-score   support\n",
      "\n",
      "       False       0.90      0.93      0.91       150\n",
      "        True       0.95      0.93      0.94       224\n",
      "\n",
      "    accuracy                           0.93       374\n",
      "   macro avg       0.92      0.93      0.93       374\n",
      "weighted avg       0.93      0.93      0.93       374\n",
      "\n",
      "ROC-AUC = 0.974\t\tAP = 0.982\n"
     ]
    }
   ],
   "source": [
    "train_set_name, test_set_name = 'irmas', 'openmic' \n",
    "\n",
    "# iterate over all istrument classes, and fit a model for each one\n",
    "for instrument in class_align:\n",
    "    \n",
    "    # Map the instrument name to its column number\n",
    "    inst_num = class_map[instrument]\n",
    "    \n",
    "    # First, sub-sample the data: we need to select down to the data for which we have annotations \n",
    "    # This is what the mask arrays are for\n",
    "    test_inst = Y_mask_test[:, inst_num]\n",
    "\n",
    "    # Repeat the above slicing and dicing but for the test set\n",
    "    X_test_inst = X_test[test_inst]\n",
    "    Y_true_test_inst = Y_true_test[test_inst, inst_num] >= 0.5\n",
    "\n",
    "    # evaluate the classifier \n",
    "    Y_pred_test_inst =  globals()['models_'+train_set_name][instrument].predict(X_test_inst)\n",
    "    Y_pred_test_scores =  globals()['models_'+train_set_name][instrument].predict_proba(X_test_inst)[:, 1]\n",
    "\n",
    "    # print result for each instrument\n",
    "    print('-' * 52); print(instrument); print('\\tTEST')\n",
    "    print(classification_report(Y_true_test_inst, Y_pred_test_inst))\n",
    "    \n",
    "    model_auc = roc_auc_score(Y_true_test_inst, Y_pred_test_scores)\n",
    "    model_ap = average_precision_score(Y_true_test_inst, Y_pred_test_scores)\n",
    "    print(f'ROC-AUC = {model_auc:.3f}\\t\\tAP = {model_ap:.3f}')\n",
    "    \n",
    "    # record the result for each instrument\n",
    "    report = pd.DataFrame(classification_report(Y_true_test_inst, Y_pred_test_inst, output_dict=True))['True']\n",
    "    report['roc_auc'] = model_auc\n",
    "    report['ap'] = model_ap\n",
    "    report_accuracy = pd.DataFrame(classification_report(Y_true_test_inst, Y_pred_test_inst, output_dict=True))['accuracy'][-2]\n",
    "    result_inst = [instrument, train_set_name, test_set_name, report['precision'], report['recall'],\n",
    "                   report['f1-score'], report['support'], report_accuracy, model_auc, model_ap]   \n",
    "    result_all = result_all.append(pd.DataFrame(np.expand_dims(np.array(result_inst), axis=0), \n",
    "                                                columns=result_all.columns), ignore_index=True)"
   ]
  },
  {
   "cell_type": "markdown",
   "metadata": {},
   "source": [
    "# openmic->irmas"
   ]
  },
  {
   "cell_type": "code",
   "execution_count": 25,
   "metadata": {},
   "outputs": [
    {
     "name": "stdout",
     "output_type": "stream",
     "text": [
      "(33525, 1024) (33525,)\n",
      "(6705,)\n"
     ]
    },
    {
     "data": {
      "application/vnd.jupyter.widget-view+json": {
       "model_id": "e9e57bb7f56a48f0aef4c863988733bf",
       "version_major": 2,
       "version_minor": 0
      },
      "text/plain": [
       "  0%|          | 0/6705 [00:00<?, ?it/s]"
      ]
     },
     "metadata": {},
     "output_type": "display_data"
    },
    {
     "name": "stdout",
     "output_type": "stream",
     "text": [
      "(6705, 1024) (6705,)\n"
     ]
    }
   ],
   "source": [
    "# irmas: yamnet embedding\n",
    "feature = np.array(embeddings['irmas']['yamnet']['features'])\n",
    "keys_ori = np.array(embeddings['irmas']['yamnet']['keys'])\n",
    "print(feature.shape, keys_ori.shape)\n",
    "\n",
    "key_clip = np.unique(keys_ori)\n",
    "print(key_clip.shape)\n",
    "\n",
    "feature_clip = []\n",
    "\n",
    "for key in tqdm(key_clip):\n",
    "    feature_clip.append(np.mean(feature[keys_ori[:]==key,:],axis=0))\n",
    "    \n",
    "feature_clip = np.array(feature_clip)\n",
    "key_clip = np.array([str(k, encoding='utf-8') for k in key_clip])\n",
    "print(feature_clip.shape, key_clip.shape)"
   ]
  },
  {
   "cell_type": "code",
   "execution_count": 26,
   "metadata": {},
   "outputs": [],
   "source": [
    "key_train = list(pd.read_csv('irmas_train.csv', header=None, squeeze=True))\n",
    "key_test = list(pd.read_csv('irmas_test.csv', header=None, squeeze=True))\n",
    "\n",
    "# key_train = np.array([k[2:-1] for k in key_train])\n",
    "# key_test = np.array([k[2:-1]  for k in key_test])\n",
    "\n",
    "idx_train, idx_test = [], []\n",
    "\n",
    "for k in range(len(key_clip)):\n",
    "    if str(key_clip[k]) in key_train:\n",
    "        idx_train.append(k)\n",
    "    elif str(key_clip[k]) in key_test:\n",
    "        idx_test.append(k)\n",
    "    else:\n",
    "        raise RuntimeError('Unknown sample key={}! Abort!'.format(key_clip[k]))\n",
    "        \n",
    "idx_train = np.asarray(idx_train)\n",
    "idx_test = np.asarray(idx_test)"
   ]
  },
  {
   "cell_type": "code",
   "execution_count": 27,
   "metadata": {},
   "outputs": [
    {
     "data": {
      "text/plain": [
       "array(['cello', 'clarinet', 'flute', 'guitar', 'organ', 'piano',\n",
       "       'saxophone', 'trumpet', 'violin', 'voice'], dtype='<U9')"
      ]
     },
     "execution_count": 27,
     "metadata": {},
     "output_type": "execute_result"
    }
   ],
   "source": [
    "#keys = np.array([str(k, 'utf-8') for k in key_clip])\n",
    "keys = np.array(key_clip)\n",
    "keys = [key[key.index('[')+1:key.index(']')] for key in keys]\n",
    "\n",
    "for key in class_align:\n",
    "    keys = [key if x in class_align[key] else x for x in keys]\n",
    "    \n",
    "keys = np.array(keys)\n",
    "np.unique(keys)"
   ]
  },
  {
   "cell_type": "code",
   "execution_count": 28,
   "metadata": {},
   "outputs": [
    {
     "name": "stdout",
     "output_type": "stream",
     "text": [
      "(5039, 1024)\n",
      "(1666, 1024)\n"
     ]
    }
   ],
   "source": [
    "X_train = feature_clip[idx_train,:]\n",
    "X_test = feature_clip[idx_test]\n",
    "\n",
    "Y_true_train = keys[idx_train]\n",
    "Y_true_test = keys[idx_test]\n",
    "\n",
    "print(X_train.shape)\n",
    "print(X_test.shape)"
   ]
  },
  {
   "cell_type": "code",
   "execution_count": 29,
   "metadata": {},
   "outputs": [
    {
     "name": "stdout",
     "output_type": "stream",
     "text": [
      "(5039, 1024) (1666, 1024)\n"
     ]
    }
   ],
   "source": [
    "X_train = X_train.dot(np.eye(len(A)) - A)\n",
    "X_test = X_test.dot(np.eye(len(A)) - A)\n",
    "print(X_train.shape, X_test.shape)"
   ]
  },
  {
   "cell_type": "code",
   "execution_count": 30,
   "metadata": {},
   "outputs": [
    {
     "name": "stdout",
     "output_type": "stream",
     "text": [
      "----------------------------------------------------\n",
      "cello\n",
      "\tTEST\n",
      "              precision    recall  f1-score   support\n",
      "\n",
      "       False       0.99      0.72      0.84      1572\n",
      "        True       0.16      0.87      0.27        94\n",
      "\n",
      "    accuracy                           0.73      1666\n",
      "   macro avg       0.57      0.80      0.55      1666\n",
      "weighted avg       0.94      0.73      0.80      1666\n",
      "\n",
      "ROC-AUC = 0.896\t\tAP = 0.612\n",
      "----------------------------------------------------\n",
      "clarinet\n",
      "\tTEST\n",
      "              precision    recall  f1-score   support\n",
      "\n",
      "       False       0.98      0.71      0.82      1539\n",
      "        True       0.19      0.86      0.32       127\n",
      "\n",
      "    accuracy                           0.72      1666\n",
      "   macro avg       0.59      0.78      0.57      1666\n",
      "weighted avg       0.92      0.72      0.78      1666\n",
      "\n",
      "ROC-AUC = 0.884\t\tAP = 0.565\n",
      "----------------------------------------------------\n",
      "flute\n",
      "\tTEST\n",
      "              precision    recall  f1-score   support\n",
      "\n",
      "       False       0.99      0.51      0.67      1545\n",
      "        True       0.13      0.91      0.22       121\n",
      "\n",
      "    accuracy                           0.54      1666\n",
      "   macro avg       0.56      0.71      0.45      1666\n",
      "weighted avg       0.92      0.54      0.64      1666\n",
      "\n",
      "ROC-AUC = 0.871\t\tAP = 0.527\n",
      "----------------------------------------------------\n",
      "guitar\n",
      "\tTEST\n",
      "              precision    recall  f1-score   support\n",
      "\n",
      "       False       0.94      0.80      0.86      1320\n",
      "        True       0.51      0.81      0.62       346\n",
      "\n",
      "    accuracy                           0.80      1666\n",
      "   macro avg       0.72      0.80      0.74      1666\n",
      "weighted avg       0.85      0.80      0.81      1666\n",
      "\n",
      "ROC-AUC = 0.899\t\tAP = 0.718\n",
      "----------------------------------------------------\n",
      "organ\n",
      "\tTEST\n",
      "              precision    recall  f1-score   support\n",
      "\n",
      "       False       0.90      0.77      0.83      1492\n",
      "        True       0.12      0.26      0.16       174\n",
      "\n",
      "    accuracy                           0.72      1666\n",
      "   macro avg       0.51      0.51      0.49      1666\n",
      "weighted avg       0.82      0.72      0.76      1666\n",
      "\n",
      "ROC-AUC = 0.552\t\tAP = 0.129\n",
      "----------------------------------------------------\n",
      "piano\n",
      "\tTEST\n",
      "              precision    recall  f1-score   support\n",
      "\n",
      "       False       0.97      0.69      0.80      1496\n",
      "        True       0.23      0.81      0.35       170\n",
      "\n",
      "    accuracy                           0.70      1666\n",
      "   macro avg       0.60      0.75      0.58      1666\n",
      "weighted avg       0.89      0.70      0.76      1666\n",
      "\n",
      "ROC-AUC = 0.845\t\tAP = 0.575\n",
      "----------------------------------------------------\n",
      "saxophone\n",
      "\tTEST\n",
      "              precision    recall  f1-score   support\n",
      "\n",
      "       False       0.96      0.73      0.83      1516\n",
      "        True       0.21      0.71      0.32       150\n",
      "\n",
      "    accuracy                           0.73      1666\n",
      "   macro avg       0.58      0.72      0.57      1666\n",
      "weighted avg       0.89      0.73      0.78      1666\n",
      "\n",
      "ROC-AUC = 0.807\t\tAP = 0.329\n",
      "----------------------------------------------------\n",
      "trumpet\n",
      "\tTEST\n",
      "              precision    recall  f1-score   support\n",
      "\n",
      "       False       0.99      0.75      0.85      1516\n",
      "        True       0.26      0.89      0.40       150\n",
      "\n",
      "    accuracy                           0.76      1666\n",
      "   macro avg       0.62      0.82      0.63      1666\n",
      "weighted avg       0.92      0.76      0.81      1666\n",
      "\n",
      "ROC-AUC = 0.911\t\tAP = 0.663\n",
      "----------------------------------------------------\n",
      "violin\n",
      "\tTEST\n",
      "              precision    recall  f1-score   support\n",
      "\n",
      "       False       0.97      0.72      0.83      1523\n",
      "        True       0.21      0.80      0.33       143\n",
      "\n",
      "    accuracy                           0.73      1666\n",
      "   macro avg       0.59      0.76      0.58      1666\n",
      "weighted avg       0.91      0.73      0.79      1666\n",
      "\n",
      "ROC-AUC = 0.840\t\tAP = 0.394\n",
      "----------------------------------------------------\n",
      "voice\n",
      "\tTEST\n",
      "              precision    recall  f1-score   support\n",
      "\n",
      "       False       1.00      0.79      0.88      1475\n",
      "        True       0.38      0.99      0.55       191\n",
      "\n",
      "    accuracy                           0.81      1666\n",
      "   macro avg       0.69      0.89      0.71      1666\n",
      "weighted avg       0.93      0.81      0.84      1666\n",
      "\n",
      "ROC-AUC = 0.982\t\tAP = 0.889\n"
     ]
    }
   ],
   "source": [
    "train_set_name, test_set_name = 'openmic', 'irmas' \n",
    "\n",
    "# iterate over all istrument classes, and fit a model for each one\n",
    "for instrument in class_align:\n",
    "    \n",
    "    # get the training and testing labels for each instrument\n",
    "    Y_true_test_inst = Y_true_test==instrument\n",
    "\n",
    "    # evaluate the classifier\n",
    "    Y_pred_test_inst =  globals()['models_'+train_set_name][instrument].predict(X_test)\n",
    "    Y_pred_test_scores =  globals()['models_'+train_set_name][instrument].predict_proba(X_test)[:, 1]\n",
    "    \n",
    "    # print result for each instrument\n",
    "    print('-' * 52); print(instrument); print('\\tTEST')\n",
    "    print(classification_report(Y_true_test_inst, Y_pred_test_inst))\n",
    "    \n",
    "    model_auc = roc_auc_score(Y_true_test_inst, Y_pred_test_scores)\n",
    "    model_ap = average_precision_score(Y_true_test_inst, Y_pred_test_scores)\n",
    "    print(f'ROC-AUC = {model_auc:.3f}\\t\\tAP = {model_ap:.3f}')\n",
    "    \n",
    "    # record the result for each instrument\n",
    "    report = pd.DataFrame(classification_report(Y_true_test_inst, Y_pred_test_inst, output_dict=True))['True']\n",
    "    report['roc_auc'] = model_auc\n",
    "    report['ap'] = model_ap\n",
    "    report_accuracy = pd.DataFrame(classification_report(Y_true_test_inst, Y_pred_test_inst, output_dict=True))['accuracy'][-2]\n",
    "    result_inst = [instrument, train_set_name, test_set_name, report['precision'], report['recall'],\n",
    "                   report['f1-score'], report['support'], report_accuracy, model_auc, model_ap]   \n",
    "    result_all = result_all.append(pd.DataFrame(np.expand_dims(np.array(result_inst), axis=0), \n",
    "                                                columns=result_all.columns), ignore_index=True)"
   ]
  },
  {
   "cell_type": "markdown",
   "metadata": {},
   "source": [
    "# Plot result on each instrument"
   ]
  },
  {
   "cell_type": "code",
   "execution_count": 31,
   "metadata": {},
   "outputs": [],
   "source": [
    "# save all result into a csv file\n",
    "result_all.to_csv('YAMnet_crossdataset_result_LDAproj_genre.csv', index=False)"
   ]
  },
  {
   "cell_type": "code",
   "execution_count": 32,
   "metadata": {},
   "outputs": [
    {
     "name": "stdout",
     "output_type": "stream",
     "text": [
      "PRF and accuracy of YAMnet averaged over all instruments for each case:\n",
      "openmic->openmic:[0.75, 0.85, 0.79, 0.82, 0.9, 0.83]\n",
      "irmas->openmic:[0.71, 0.74, 0.72, 0.77, 0.83, 0.76]\n",
      "irmas->irmas:[0.53, 0.86, 0.64, 0.91, 0.95, 0.79]\n",
      "openmic->irmas:[0.24, 0.79, 0.35, 0.72, 0.85, 0.54]\n"
     ]
    }
   ],
   "source": [
    "# check the PRF averaged over all instruments for each case:\n",
    "\n",
    "train_irmas = result_all[result_all['train_set']=='irmas']\n",
    "train_openmic = result_all[result_all['train_set']=='openmic']\n",
    "\n",
    "irmas_irmas = train_irmas[train_irmas['test_set']=='irmas']\n",
    "irmas_openmic = train_irmas[train_irmas['test_set']=='openmic']\n",
    "openmic_openmic = train_openmic[train_openmic['test_set']=='openmic']\n",
    "openmic_irmas = train_openmic[train_openmic['test_set']=='irmas']\n",
    "\n",
    "print('PRF and accuracy of YAMnet averaged over all instruments for each case:')\n",
    "print('openmic->openmic:{}'.format(list(openmic_openmic[['precision', 'recall', 'f1-score', 'accuracy', 'roc_auc', 'ap']].astype(float).mean(axis=0).round(2))))\n",
    "print('irmas->openmic:{}'.format(list(irmas_openmic[['precision', 'recall', 'f1-score', 'accuracy', 'roc_auc', 'ap']].astype(float).mean(axis=0).round(2))))\n",
    "print('irmas->irmas:{}'.format(list(irmas_irmas[['precision', 'recall', 'f1-score', 'accuracy', 'roc_auc', 'ap']].astype(float).mean(axis=0).round(2))))\n",
    "print('openmic->irmas:{}'.format(list(openmic_irmas[['precision', 'recall', 'f1-score', 'accuracy', 'roc_auc', 'ap']].astype(float).mean(axis=0).round(2))))"
   ]
  },
  {
   "cell_type": "code",
   "execution_count": 38,
   "metadata": {},
   "outputs": [],
   "source": [
    "# save the result of VGGish, yamnet, and OpenL3 into one csv file\n",
    "\n",
    "vggish = pd.read_csv('VGGish_crossdataset_result_LDAproj_genre.csv')\n",
    "openl3 = pd.read_csv('OpenL3_crossdataset_result_LDAproj_genre.csv')\n",
    "yamnet = pd.read_csv('YAMnet_crossdataset_result_LDAproj_genre.csv')\n",
    "\n",
    "# add embedding information, concatenate result\n",
    "vggish['embedding'] = ['vggish'] * len(vggish['instrument'])\n",
    "openl3['embedding'] = ['openl3'] * len(openl3['instrument'])\n",
    "yamnet['embedding'] = ['yamnet'] * len(openl3['instrument'])\n",
    "\n",
    "result_all_conca = pd.concat([vggish, openl3, yamnet], ignore_index=True)\n",
    "\n",
    "# move embedding to the first column\n",
    "cols = ['embedding', 'instrument', 'train_set', 'test_set', 'precision', 'recall', 'f1-score', 'support', 'accuracy', 'roc_auc', 'ap']\n",
    "result_all_conca =result_all_conca[cols]\n",
    "\n",
    "result_all_conca.to_csv('crossdataset_generalization_result_LDAproj_genre.csv', index=False)"
   ]
  },
  {
   "cell_type": "code",
   "execution_count": 39,
   "metadata": {},
   "outputs": [],
   "source": [
    "# check all result\n",
    "# result_all_conca"
   ]
  },
  {
   "cell_type": "code",
   "execution_count": 35,
   "metadata": {},
   "outputs": [],
   "source": [
    "# df1 = pd.read_csv('crossdataset_generalization_result.csv')\n",
    "# df2 = pd.read_csv('crossdataset_generalization_result_LDAproj.csv')\n",
    "# df3 = pd.read_csv('crossdataset_generalization_result_LDAproj_genre.csv')\n",
    "# df2['embedding'] = ['vggish-lda'] * 40 + ['openl3-lda'] * 40 + ['yamnet-lda'] * 40 \n",
    "# df3['embedding'] = ['vggish-lda-genre'] * 40 + ['openl3-lda-genre'] * 40 + ['yamnet-lda-genre'] * 40\n",
    "\n",
    "# df = df1.append(df2).append(df3)\n",
    "# df.to_csv('crossdataset_generalization_result_allcompare.csv')\n",
    "# df"
   ]
  },
  {
   "cell_type": "code",
   "execution_count": 36,
   "metadata": {},
   "outputs": [],
   "source": [
    "# sns.set_theme(context='notebook', style='whitegrid', palette='deep')\n",
    "# diverging_colors = sns.color_palette(\"GnBu\", 3) + sns.color_palette(\"flare\", 3) + \\\n",
    "#                    sns.color_palette(\"ch:s=.25,rot=-.25\", 3) \n",
    "# hue_order=['vggish', 'vggish-lda', 'vggish-lda-genre', 'openl3', 'openl3-lda', 'openl3-lda-genre',\n",
    "#           'yamnet', 'yamnet-lda', 'yamnet-lda-genre']\n",
    "\n",
    "# sns.catplot(data=df, row='train_set', col='test_set', y='instrument', x='roc_auc', hue='embedding', kind='bar', \n",
    "#             hue_order=hue_order, palette=diverging_colors);\n",
    "\n",
    "# plt.savefig('crossdataset_generalization_auc_LDAproj_genre.pdf')"
   ]
  },
  {
   "cell_type": "code",
   "execution_count": 37,
   "metadata": {},
   "outputs": [],
   "source": [
    "# plt.figure(figsize=(16,16))\n",
    "# sns.set_theme(context='notebook', style='whitegrid')\n",
    "# diverging_colors = sns.color_palette(\"GnBu\", 3) + sns.color_palette(\"flare\", 3) + \\\n",
    "#                    sns.color_palette(\"ch:s=.25,rot=-.25\", 3) \n",
    "# hue_order=['vggish', 'vggish-lda', 'vggish-lda-genre', 'openl3', 'openl3-lda', 'openl3-lda-genre',\n",
    "#           'yamnet', 'yamnet-lda', 'yamnet-lda-genre']\n",
    "\n",
    "# sns.catplot(data=df, row='train_set', col='test_set', y='instrument', x='ap', hue='embedding', kind='bar', \n",
    "#             hue_order=hue_order, palette=diverging_colors);\n",
    "\n",
    "# plt.savefig('crossdataset_generalization_ap_LDAproj_genre.pdf')"
   ]
  },
  {
   "cell_type": "code",
   "execution_count": null,
   "metadata": {},
   "outputs": [],
   "source": []
  }
 ],
 "metadata": {
  "kernelspec": {
   "display_name": "Python 3 (ipykernel)",
   "language": "python",
   "name": "python3"
  },
  "language_info": {
   "codemirror_mode": {
    "name": "ipython",
    "version": 3
   },
   "file_extension": ".py",
   "mimetype": "text/x-python",
   "name": "python",
   "nbconvert_exporter": "python",
   "pygments_lexer": "ipython3",
   "version": "3.9.7"
  },
  "toc": {
   "base_numbering": 1,
   "nav_menu": {},
   "number_sections": true,
   "sideBar": true,
   "skip_h1_title": false,
   "title_cell": "Table of Contents",
   "title_sidebar": "Contents",
   "toc_cell": false,
   "toc_position": {
    "height": "621.778px",
    "left": "21px",
    "top": "111.139px",
    "width": "165px"
   },
   "toc_section_display": true,
   "toc_window_display": true
  }
 },
 "nbformat": 4,
 "nbformat_minor": 4
}
