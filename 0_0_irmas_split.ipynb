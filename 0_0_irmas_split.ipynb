{
 "cells": [
  {
   "cell_type": "code",
   "execution_count": 1,
   "metadata": {},
   "outputs": [],
   "source": [
    "%matplotlib inline\n",
    "import matplotlib.pyplot as plt\n",
    "import seaborn as sns\n",
    "import numpy as np\n",
    "import json\n",
    "import pandas as pd\n",
    "import h5py\n",
    "from tqdm.notebook import tqdm\n",
    "import collections as cl\n",
    "import re\n",
    "from sklearn.preprocessing import LabelEncoder\n",
    "from sklearn.model_selection import GroupShuffleSplit, StratifiedGroupKFold\n",
    "\n",
    "import warnings\n",
    "warnings.filterwarnings('ignore')\n",
    "\n",
    "import random\n",
    "random_state=42\n",
    "random.seed(random_state)"
   ]
  },
  {
   "attachments": {},
   "cell_type": "markdown",
   "metadata": {},
   "source": [
    "# load embedding"
   ]
  },
  {
   "cell_type": "code",
   "execution_count": 2,
   "metadata": {},
   "outputs": [],
   "source": [
    "embedding = 'vggish'\n",
    "data = h5py.File('embeddings.h5', 'r')"
   ]
  },
  {
   "cell_type": "code",
   "execution_count": 3,
   "metadata": {},
   "outputs": [
    {
     "data": {
      "text/plain": [
       "6705"
      ]
     },
     "execution_count": 3,
     "metadata": {},
     "output_type": "execute_result"
    }
   ],
   "source": [
    "###### IRMAS data ######\n",
    "dataset = 'irmas'\n",
    "keys_ori = list(data[dataset][embedding]['keys'])\n",
    "key_clip = list(set(keys_ori))\n",
    "len(key_clip)"
   ]
  },
  {
   "cell_type": "code",
   "execution_count": 4,
   "metadata": {},
   "outputs": [],
   "source": [
    "key_train = set(pd.read_csv('irmas_train.csv', header=None, squeeze=True))\n",
    "key_test = set(pd.read_csv('irmas_test.csv', header=None, squeeze=True))\n",
    "\n",
    "# these loops go through all sample keys, and save their row numbers to either idx_train or idx_test\n",
    "idx_train, idx_test = [], []\n",
    "\n",
    "for k in range(len(key_clip)):\n",
    "    if str(key_clip[k]) in key_train:\n",
    "        idx_train.append(k)\n",
    "    elif str(key_clip[k]) in key_test:\n",
    "        idx_test.append(k)\n",
    "    else:\n",
    "        # This should never happen, but better safe than sorry.\n",
    "        raise RuntimeError('Unknown sample key={}! Abort!'.format(str(key_clip[k])))\n",
    "        \n",
    "# cast the idx_* arrays to numpy structures\n",
    "idx_train = np.asarray(idx_train)\n",
    "idx_test = np.asarray(idx_test)"
   ]
  },
  {
   "cell_type": "code",
   "execution_count": 5,
   "metadata": {},
   "outputs": [
    {
     "name": "stdout",
     "output_type": "stream",
     "text": [
      "{'jaz_blu', 'cou_fol', 'cla', 'lat_sou', 'pop_roc'} 6705\n"
     ]
    }
   ],
   "source": [
    "group_matcher = re.compile(r'.*?\\]\\[(?P<class>\\w+)\\]\\d.*')\n",
    "\n",
    "def groupname(x):\n",
    "    res = re.match(group_matcher, x)\n",
    "    return res.groups()[0]\n",
    "\n",
    "genres = [groupname(_) for _ in key_clip]\n",
    "print(set(genres), len(genres))"
   ]
  },
  {
   "cell_type": "code",
   "execution_count": 6,
   "metadata": {},
   "outputs": [
    {
     "name": "stdout",
     "output_type": "stream",
     "text": [
      "{'sax', 'cla', 'vio', 'cel', 'pia', 'gac', 'flu', 'voi', 'gel', 'tru', 'org'} 6705\n"
     ]
    }
   ],
   "source": [
    "matcher = re.compile(r'.*?\\[(?P<class>\\w+)\\].*')\n",
    "\n",
    "def classname(x):\n",
    "    res = re.match(matcher, x)\n",
    "    return res.groups()[0]\n",
    "\n",
    "instruments = [classname(_) for _ in key_clip]\n",
    "print(set(instruments), len(instruments))"
   ]
  },
  {
   "cell_type": "code",
   "execution_count": 7,
   "metadata": {},
   "outputs": [],
   "source": [
    "instrument_align = {'cla': 'clarinet', \n",
    "                   'org': 'organ',\n",
    "                   'cel': 'cello',\n",
    "                   'vio': 'violin',\n",
    "                   'gac': 'guitar',\n",
    "                   'voi': 'voice',\n",
    "                   'gel': 'guitar',\n",
    "                   'sax': 'saxophone',\n",
    "                   'tru': 'trumpet',\n",
    "                   'pia': 'piano',\n",
    "                   'flu': 'flute'}\n",
    "\n",
    "genre_align = {'pop_roc': 'pop_roc',\n",
    "            'jaz_blu': 'jazz_blue',\n",
    "            'cla': 'classical',\n",
    "            'cou_fol': 'country_folk',\n",
    "            'lat_sou': 'latin_soul'}"
   ]
  },
  {
   "cell_type": "code",
   "execution_count": 8,
   "metadata": {},
   "outputs": [
    {
     "name": "stdout",
     "output_type": "stream",
     "text": [
      "{'violin', 'guitar', 'cello', 'clarinet', 'voice', 'trumpet', 'organ', 'flute', 'piano', 'saxophone'} 6705\n",
      "{'latin_soul', 'classical', 'jazz_blue', 'pop_roc', 'country_folk'} 6705\n"
     ]
    }
   ],
   "source": [
    "instruments = [instrument_align[key] for key in instruments]\n",
    "print(set(instruments), len(instruments))\n",
    "\n",
    "genres = [genre_align[key] for key in genres]\n",
    "print(set(genres), len(genres))\n",
    "\n",
    "genres = np.array(genres)\n",
    "instruments = np.array(instruments)\n",
    "key_clip = np.array(key_clip)"
   ]
  },
  {
   "cell_type": "code",
   "execution_count": 9,
   "metadata": {},
   "outputs": [],
   "source": [
    "instruments_train = instruments[idx_train]; instruments_test = instruments[idx_test]\n",
    "genres_train = genres[idx_train]; genres_test = genres[idx_test]\n",
    "key_clip_train = key_clip[idx_train]; key_clip_test = key_clip[idx_test]"
   ]
  },
  {
   "cell_type": "code",
   "execution_count": 10,
   "metadata": {},
   "outputs": [],
   "source": [
    "genre_train_idx = genres_train != 'latin_soul'\n",
    "genres_train = genres_train[genre_train_idx]\n",
    "instruments_train = instruments_train[genre_train_idx]\n",
    "key_clip_train = key_clip_train[genre_train_idx]"
   ]
  },
  {
   "cell_type": "code",
   "execution_count": 11,
   "metadata": {},
   "outputs": [],
   "source": [
    "genre_test_idx = genres_test != 'latin_soul'\n",
    "genres_test = genres_test[genre_test_idx]\n",
    "instruments_test = instruments_test[genre_test_idx]\n",
    "key_clip_test = key_clip_test[genre_test_idx]"
   ]
  },
  {
   "cell_type": "code",
   "execution_count": 12,
   "metadata": {},
   "outputs": [],
   "source": [
    "encoder_inst = LabelEncoder()\n",
    "encoder_inst.fit_transform(instruments_train)   # ori = encoder.inverse_transform(Y)\n",
    "\n",
    "encoder_genre = LabelEncoder()\n",
    "encoder_genre.fit_transform(genres_train)   \n",
    "\n",
    "instrument_map = dict(zip(encoder_inst.classes_, encoder_inst.transform(encoder_inst.classes_)))\n",
    "genre_map = dict(zip(encoder_genre.classes_, encoder_genre.transform(encoder_genre.classes_)))\n",
    "\n",
    "with open(\"instrument_map.json\", \"w\") as f:\n",
    "    json.dump(instrument_map, f, default=str)\n",
    "\n",
    "with open(\"genre_map.json\", \"w\") as f:\n",
    "\n",
    "    json.dump(genre_map, f, default=str)"
   ]
  },
  {
   "cell_type": "code",
   "execution_count": 13,
   "metadata": {},
   "outputs": [],
   "source": [
    "meta_train = pd.DataFrame(columns=['instrument', 'genre', 'file_name'])\n",
    "meta_train['instrument'] = instruments_train\n",
    "meta_train['genre'] = genres_train\n",
    "meta_train['file_name'] = key_clip_train"
   ]
  },
  {
   "cell_type": "code",
   "execution_count": 14,
   "metadata": {},
   "outputs": [],
   "source": [
    "meta_test = pd.DataFrame(columns=['instrument', 'genre', 'file_name'])\n",
    "meta_test['instrument'] = instruments_test\n",
    "meta_test['genre'] = genres_test\n",
    "meta_test['file_name'] = key_clip_test"
   ]
  },
  {
   "cell_type": "code",
   "execution_count": 15,
   "metadata": {},
   "outputs": [
    {
     "data": {
      "text/plain": [
       "Counter({'classical': 1240,\n",
       "         'pop_roc': 1853,\n",
       "         'jazz_blue': 1539,\n",
       "         'country_folk': 365})"
      ]
     },
     "execution_count": 15,
     "metadata": {},
     "output_type": "execute_result"
    }
   ],
   "source": [
    "cl.Counter(meta_train['genre'])"
   ]
  },
  {
   "cell_type": "code",
   "execution_count": 29,
   "metadata": {},
   "outputs": [],
   "source": [
    "genre_A_ratio = {'classical': 1/4, \n",
    "                'pop_roc': 3/4,\n",
    "                'jazz_blue': 3/4,\n",
    "                'country_folk': 1/4}"
   ]
  },
  {
   "cell_type": "code",
   "execution_count": 30,
   "metadata": {},
   "outputs": [],
   "source": [
    "def AB_split(meta_all, instrument_map, genre_split, subset, genre_A_ratio):\n",
    "    \"\"\"equally split the data into A and B for each genre\"\"\"\n",
    "\n",
    "    meta_split = pd.DataFrame(columns=['instrument', 'genre', 'file_name', 'subset', 'part'])\n",
    "\n",
    "    for inst in instrument_map:\n",
    "        for genre in genre_split:\n",
    "\n",
    "            to_split = meta_all.loc[(meta_all['instrument'] == inst) & (meta_all['genre'] == genre)]['file_name'].values\n",
    "\n",
    "            if len(to_split) > 0:\n",
    "                idx_shuffle = np.array(random.sample(range(len(to_split)), len(to_split)))  # shuffle\n",
    "                to_split = to_split[idx_shuffle]\n",
    "                split_idx = int(len(to_split) * genre_A_ratio[genre])\n",
    "                \n",
    "                #### A part ####\n",
    "                split_case = pd.DataFrame(columns=['instrument', 'genre', 'file_name', 'subset', 'part'])\n",
    "                split_case['instrument'] = [inst] * split_idx\n",
    "                split_case['genre'] = [genre] * split_idx\n",
    "                split_case['file_name'] = to_split[:split_idx]\n",
    "                split_case['subset'] = [subset] * split_idx\n",
    "                split_case['part'] = ['A'] * split_idx\n",
    "\n",
    "                meta_split = meta_split.append(split_case)\n",
    "\n",
    "                #### B part ####\n",
    "                split_case = pd.DataFrame(columns=['instrument', 'genre', 'file_name', 'subset', 'part'])\n",
    "                split_case['instrument'] = [inst] * (len(to_split) - split_idx)\n",
    "                split_case['genre'] = [genre] * (len(to_split) - split_idx)\n",
    "                split_case['file_name'] = to_split[:len(to_split)-split_idx]\n",
    "                split_case['subset'] = [subset] * (len(to_split) - split_idx)\n",
    "                split_case['part'] = ['B'] * (len(to_split) - split_idx)\n",
    "\n",
    "                meta_split = meta_split.append(split_case)\n",
    "\n",
    "    return meta_split"
   ]
  },
  {
   "cell_type": "code",
   "execution_count": 31,
   "metadata": {},
   "outputs": [],
   "source": [
    "meta_all = AB_split(meta_train, instrument_map, genre_map, 'train', genre_A_ratio)\n",
    "meta_all = meta_all.append(AB_split(meta_test, instrument_map, genre_map, 'test', genre_A_ratio)).reset_index(drop=True)"
   ]
  },
  {
   "cell_type": "code",
   "execution_count": 32,
   "metadata": {},
   "outputs": [
    {
     "data": {
      "text/html": [
       "<div>\n",
       "<style scoped>\n",
       "    .dataframe tbody tr th:only-of-type {\n",
       "        vertical-align: middle;\n",
       "    }\n",
       "\n",
       "    .dataframe tbody tr th {\n",
       "        vertical-align: top;\n",
       "    }\n",
       "\n",
       "    .dataframe thead th {\n",
       "        text-align: right;\n",
       "    }\n",
       "</style>\n",
       "<table border=\"1\" class=\"dataframe\">\n",
       "  <thead>\n",
       "    <tr style=\"text-align: right;\">\n",
       "      <th></th>\n",
       "      <th>instrument</th>\n",
       "      <th>genre</th>\n",
       "      <th>file_name</th>\n",
       "      <th>subset</th>\n",
       "      <th>part</th>\n",
       "    </tr>\n",
       "  </thead>\n",
       "  <tbody>\n",
       "    <tr>\n",
       "      <th>0</th>\n",
       "      <td>cello</td>\n",
       "      <td>classical</td>\n",
       "      <td>[cel][cla]0077__1</td>\n",
       "      <td>train</td>\n",
       "      <td>A</td>\n",
       "    </tr>\n",
       "    <tr>\n",
       "      <th>1</th>\n",
       "      <td>cello</td>\n",
       "      <td>classical</td>\n",
       "      <td>043__[cel][nod][cla]0029__1</td>\n",
       "      <td>train</td>\n",
       "      <td>A</td>\n",
       "    </tr>\n",
       "    <tr>\n",
       "      <th>2</th>\n",
       "      <td>cello</td>\n",
       "      <td>classical</td>\n",
       "      <td>106__[cel][nod][cla]0028__2</td>\n",
       "      <td>train</td>\n",
       "      <td>A</td>\n",
       "    </tr>\n",
       "    <tr>\n",
       "      <th>3</th>\n",
       "      <td>cello</td>\n",
       "      <td>classical</td>\n",
       "      <td>013__[cel][nod][cla]0025__3</td>\n",
       "      <td>train</td>\n",
       "      <td>A</td>\n",
       "    </tr>\n",
       "    <tr>\n",
       "      <th>4</th>\n",
       "      <td>cello</td>\n",
       "      <td>classical</td>\n",
       "      <td>[cel][cla]0019__3</td>\n",
       "      <td>train</td>\n",
       "      <td>A</td>\n",
       "    </tr>\n",
       "    <tr>\n",
       "      <th>...</th>\n",
       "      <td>...</td>\n",
       "      <td>...</td>\n",
       "      <td>...</td>\n",
       "      <td>...</td>\n",
       "      <td>...</td>\n",
       "    </tr>\n",
       "    <tr>\n",
       "      <th>6658</th>\n",
       "      <td>voice</td>\n",
       "      <td>pop_roc</td>\n",
       "      <td>[voi][pop_roc]2520__1</td>\n",
       "      <td>test</td>\n",
       "      <td>B</td>\n",
       "    </tr>\n",
       "    <tr>\n",
       "      <th>6659</th>\n",
       "      <td>voice</td>\n",
       "      <td>pop_roc</td>\n",
       "      <td>[voi][pop_roc]2364__2</td>\n",
       "      <td>test</td>\n",
       "      <td>B</td>\n",
       "    </tr>\n",
       "    <tr>\n",
       "      <th>6660</th>\n",
       "      <td>voice</td>\n",
       "      <td>pop_roc</td>\n",
       "      <td>[voi][pop_roc]2520__3</td>\n",
       "      <td>test</td>\n",
       "      <td>B</td>\n",
       "    </tr>\n",
       "    <tr>\n",
       "      <th>6661</th>\n",
       "      <td>voice</td>\n",
       "      <td>pop_roc</td>\n",
       "      <td>[voi][pop_roc]2341__3</td>\n",
       "      <td>test</td>\n",
       "      <td>B</td>\n",
       "    </tr>\n",
       "    <tr>\n",
       "      <th>6662</th>\n",
       "      <td>voice</td>\n",
       "      <td>pop_roc</td>\n",
       "      <td>[voi][pop_roc]2506__2</td>\n",
       "      <td>test</td>\n",
       "      <td>B</td>\n",
       "    </tr>\n",
       "  </tbody>\n",
       "</table>\n",
       "<p>6663 rows × 5 columns</p>\n",
       "</div>"
      ],
      "text/plain": [
       "     instrument      genre                    file_name subset part\n",
       "0         cello  classical            [cel][cla]0077__1  train    A\n",
       "1         cello  classical  043__[cel][nod][cla]0029__1  train    A\n",
       "2         cello  classical  106__[cel][nod][cla]0028__2  train    A\n",
       "3         cello  classical  013__[cel][nod][cla]0025__3  train    A\n",
       "4         cello  classical            [cel][cla]0019__3  train    A\n",
       "...         ...        ...                          ...    ...  ...\n",
       "6658      voice    pop_roc        [voi][pop_roc]2520__1   test    B\n",
       "6659      voice    pop_roc        [voi][pop_roc]2364__2   test    B\n",
       "6660      voice    pop_roc        [voi][pop_roc]2520__3   test    B\n",
       "6661      voice    pop_roc        [voi][pop_roc]2341__3   test    B\n",
       "6662      voice    pop_roc        [voi][pop_roc]2506__2   test    B\n",
       "\n",
       "[6663 rows x 5 columns]"
      ]
     },
     "execution_count": 32,
     "metadata": {},
     "output_type": "execute_result"
    }
   ],
   "source": [
    "meta_all"
   ]
  },
  {
   "cell_type": "code",
   "execution_count": 39,
   "metadata": {},
   "outputs": [],
   "source": [
    "meta_train_pl = AB_split(meta_train, instrument_map, genre_map, 'train', genre_A_ratio)\n",
    "meta_train_A = meta_train_pl[meta_train_pl['part'] == 'A']\n",
    "meta_train_B = meta_train_pl[meta_train_pl['part'] == 'B']"
   ]
  },
  {
   "cell_type": "code",
   "execution_count": 40,
   "metadata": {},
   "outputs": [
    {
     "data": {
      "image/png": "[encoded data removed]",
      "text/plain": [
       "<Figure size 700x250 with 1 Axes>"
      ]
     },
     "metadata": {},
     "output_type": "display_data"
    }
   ],
   "source": [
    "metcount = pd.DataFrame(columns=['instrument', 'genre', 'count'])\n",
    "\n",
    "for inst in instrument_map:\n",
    "    for genre in genre_map:\n",
    "        metcount_item = pd.DataFrame(columns=['instrument', 'genre', 'count'])\n",
    "\n",
    "        metcount_item['instrument'] = [inst]\n",
    "        metcount_item['genre'] = [genre]\n",
    "        metcount_item['count'] = len(meta_train_A.loc[(meta_train_A['instrument'] == inst) & (meta_train_A['genre'] == genre)])\n",
    "\n",
    "        metcount = metcount.append(metcount_item)\n",
    "\n",
    "sns.set_theme(context='notebook', style='whitegrid', palette='deep')\n",
    "ax = sns.catplot(data=metcount, x='genre', y='count', hue='instrument', kind='bar', height=2.5, aspect=2.8,\n",
    "               legend_out=False, palette=\"ch:s=.25,rot=-.25\")\n",
    "lgd = sns.move_legend(ax, \"lower center\", bbox_to_anchor=(.54, -.14), ncol=5, title=None, frameon=False)\n",
    "# plt.savefig('results/genre_distribution.pdf', bbox_inches='tight')"
   ]
  },
  {
   "cell_type": "code",
   "execution_count": 41,
   "metadata": {},
   "outputs": [
    {
     "data": {
      "image/png": "[encoded data removed]",
      "text/plain": [
       "<Figure size 700x250 with 1 Axes>"
      ]
     },
     "metadata": {},
     "output_type": "display_data"
    }
   ],
   "source": [
    "metcount = pd.DataFrame(columns=['instrument', 'genre', 'count'])\n",
    "\n",
    "for inst in instrument_map:\n",
    "    for genre in genre_map:\n",
    "        metcount_item = pd.DataFrame(columns=['instrument', 'genre', 'count'])\n",
    "\n",
    "        metcount_item['instrument'] = [inst]\n",
    "        metcount_item['genre'] = [genre]\n",
    "        metcount_item['count'] = len(meta_train_B.loc[(meta_train_B['instrument'] == inst) & (meta_train_B['genre'] == genre)])\n",
    "\n",
    "        metcount = metcount.append(metcount_item)\n",
    "\n",
    "sns.set_theme(context='notebook', style='whitegrid', palette='deep')\n",
    "ax = sns.catplot(data=metcount, x='genre', y='count', hue='instrument', kind='bar', height=2.5, aspect=2.8,\n",
    "               legend_out=False, palette=\"ch:s=.25,rot=-.25\")\n",
    "lgd = sns.move_legend(ax, \"lower center\", bbox_to_anchor=(.54, -.14), ncol=5, title=None, frameon=False)\n",
    "# plt.savefig('results/genre_distribution.pdf', bbox_inches='tight')"
   ]
  },
  {
   "cell_type": "code",
   "execution_count": null,
   "metadata": {},
   "outputs": [],
   "source": [
    "metcount = pd.DataFrame(columns=['instrument', 'genre', 'count'])\n",
    "\n",
    "for inst in instrument_map:\n",
    "    for genre in genre_map:\n",
    "        metcount_item = pd.DataFrame(columns=['instrument', 'genre', 'count'])\n",
    "\n",
    "        metcount_item['instrument'] = [inst]\n",
    "        metcount_item['genre'] = [genre]\n",
    "        metcount_item['count'] = len(meta_train_A.loc[(meta_train_A['instrument'] == inst) & (meta_train_A['genre'] == genre)])\n",
    "\n",
    "        metcount = metcount.append(metcount_item)\n",
    "\n",
    "sns.set_theme(context='notebook', style='whitegrid', palette='deep')\n",
    "ax = sns.catplot(data=metcount, x='genre', y='count', hue='instrument', kind='bar', height=2.5, aspect=2.8,\n",
    "               legend_out=False, palette=\"ch:s=.25,rot=-.25\")\n",
    "lgd = sns.move_legend(ax, \"lower center\", bbox_to_anchor=(.54, -.14), ncol=5, title=None, frameon=False)\n",
    "# plt.savefig('results/genre_distribution.pdf', bbox_inches='tight')"
   ]
  },
  {
   "cell_type": "code",
   "execution_count": 35,
   "metadata": {},
   "outputs": [
    {
     "data": {
      "image/png": "[encoded data removed]",
      "text/plain": [
       "<Figure size 700x250 with 1 Axes>"
      ]
     },
     "metadata": {},
     "output_type": "display_data"
    }
   ],
   "source": [
    "sns.set_theme(context='notebook', style='whitegrid', palette='deep')\n",
    "ax = sns.catplot(data=metcount, x='instrument', y='count', hue='genre', kind='bar', height=2.5, aspect=2.8,\n",
    "               legend_out=False, palette=\"ch:s=.25,rot=-.25\")\n",
    "lgd = sns.move_legend(ax, \"lower center\", bbox_to_anchor=(.54, -.14), ncol=5, title=None, frameon=False)\n",
    "# plt.savefig('results/genre_distribution.pdf', bbox_inches='tight')"
   ]
  },
  {
   "cell_type": "code",
   "execution_count": 34,
   "metadata": {},
   "outputs": [],
   "source": [
    "meta_all.to_csv('irmas_meta_all.csv', index=None)"
   ]
  },
  {
   "cell_type": "code",
   "execution_count": null,
   "metadata": {},
   "outputs": [],
   "source": []
  }
 ],
 "metadata": {
  "kernelspec": {
   "display_name": "ismir2022embedding",
   "language": "python",
   "name": "python3"
  },
  "language_info": {
   "codemirror_mode": {
    "name": "ipython",
    "version": 3
   },
   "file_extension": ".py",
   "mimetype": "text/x-python",
   "name": "python",
   "nbconvert_exporter": "python",
   "pygments_lexer": "ipython3",
   "version": "3.9.0"
  },
  "toc": {
   "base_numbering": 1,
   "nav_menu": {},
   "number_sections": true,
   "sideBar": true,
   "skip_h1_title": false,
   "title_cell": "Table of Contents",
   "title_sidebar": "Contents",
   "toc_cell": false,
   "toc_position": {
    "height": "621.778px",
    "left": "21px",
    "top": "111.139px",
    "width": "165px"
   },
   "toc_section_display": true,
   "toc_window_display": true
  },
  "vscode": {
   "interpreter": {
    "hash": "e2e45284a6c14b0a92859aa6111181c4542423174f88d2070b0d025532226888"
   }
  }
 },
 "nbformat": 4,
 "nbformat_minor": 4
}
