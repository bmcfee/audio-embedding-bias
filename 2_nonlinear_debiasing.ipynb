{
 "cells": [
  {
   "cell_type": "code",
   "execution_count": 4,
   "metadata": {},
   "outputs": [],
   "source": [
    "%matplotlib inline\n",
    "import matplotlib.pyplot as plt\n",
    "import seaborn as sns\n",
    "import numpy as np\n",
    "import librosa\n",
    "from tqdm import tqdm_notebook as tqdm\n",
    "import json\n",
    "import pandas as pd\n",
    "import pickle\n",
    "import os\n",
    "import h5py\n",
    "import collections as cl\n",
    "from ast import literal_eval\n",
    "import warnings\n",
    "warnings.filterwarnings('ignore')\n",
    "\n",
    "from sklearn.linear_model import LogisticRegression\n",
    "from sklearn.model_selection import GridSearchCV\n",
    "from sklearn.metrics import classification_report, roc_auc_score, average_precision_score\n",
    "from sklearn.preprocessing import StandardScaler\n",
    "import random\n",
    "import re\n",
    "from sklearn.preprocessing import LabelEncoder\n",
    "from sklearn.discriminant_analysis import LinearDiscriminantAnalysis\n",
    "from deem import deem"
   ]
  },
  {
   "cell_type": "code",
   "execution_count": 5,
   "metadata": {},
   "outputs": [],
   "source": [
    "param_grid = {'LR_param': {'C':[10**k for k in range(-10, 6, 2)]}, 'scoring': 'roc_auc', 'cv': 3, 'random_state': 42}\n",
    "\n",
    "with open(\"genre_map.json\", \"r\") as f: # only consider 10 classes of Openmic dataset\n",
    "    genre_map = json.load(f)\n",
    "aligned_genre = list(genre_map)[:-1]\n",
    "\n",
    "with open(\"instrument_map.json\", \"r\") as f: # only consider 10 classes of Openmic dataset\n",
    "    instrument_map = json.load(f)"
   ]
  },
  {
   "cell_type": "markdown",
   "metadata": {},
   "source": [
    "## VGGish"
   ]
  },
  {
   "cell_type": "code",
   "execution_count": 6,
   "metadata": {},
   "outputs": [
    {
     "name": "stderr",
     "output_type": "stream",
     "text": [
      "100%|██████████| 6705/6705 [00:01<00:00, 4428.21it/s]\n"
     ]
    },
    {
     "name": "stdout",
     "output_type": "stream",
     "text": [
      "(6705, 128) (6705,)\n"
     ]
    },
    {
     "name": "stderr",
     "output_type": "stream",
     "text": [
      "100%|██████████| 6705/6705 [00:01<00:00, 4392.16it/s]\n"
     ]
    },
    {
     "name": "stdout",
     "output_type": "stream",
     "text": [
      "(6705, 128) (6705,)\n",
      "Train on A, test on A\n"
     ]
    },
    {
     "name": "stderr",
     "output_type": "stream",
     "text": [
      "100%|██████████| 11/11 [01:21<00:00,  7.45s/it]\n"
     ]
    },
    {
     "name": "stdout",
     "output_type": "stream",
     "text": [
      "Train on A, test on B\n"
     ]
    },
    {
     "name": "stderr",
     "output_type": "stream",
     "text": [
      "100%|██████████| 11/11 [01:14<00:00,  6.78s/it]\n"
     ]
    },
    {
     "name": "stdout",
     "output_type": "stream",
     "text": [
      "Train on B, test on B\n"
     ]
    },
    {
     "name": "stderr",
     "output_type": "stream",
     "text": [
      "100%|██████████| 11/11 [01:06<00:00,  6.04s/it]\n"
     ]
    },
    {
     "name": "stdout",
     "output_type": "stream",
     "text": [
      "Train on B, test on A\n"
     ]
    },
    {
     "name": "stderr",
     "output_type": "stream",
     "text": [
      "100%|██████████| 11/11 [01:04<00:00,  5.89s/it]\n"
     ]
    }
   ],
   "source": [
    "embedding = 'vggish'\n",
    "debias_method = ''\n",
    "\n",
    "deb = deem(embedding = embedding, debias_method = debias_method, feature_dir='./embeddings.h5', \n",
    "           instrument_map=instrument_map, genre_map=genre_map, param_grid=param_grid)\n",
    "\n",
    "A_meta = pd.read_csv(\"A_meta.csv\")\n",
    "A_feature = deb.load_feature(A_meta)\n",
    "B_meta = pd.read_csv(\"B_meta.csv\")\n",
    "B_feature = deb.load_feature(B_meta)\n",
    "\n",
    "deb.instrument_classfication(train_set='A', test_set='A', A_feature=A_feature, B_feature=B_feature)\n",
    "deb.instrument_classfication(train_set='A', test_set='B', A_feature=A_feature, B_feature=B_feature)\n",
    "deb.instrument_classfication(train_set='B', test_set='B', A_feature=A_feature, B_feature=B_feature)\n",
    "deb.instrument_classfication(train_set='B', test_set='A', A_feature=A_feature, B_feature=B_feature)"
   ]
  },
  {
   "cell_type": "code",
   "execution_count": 7,
   "metadata": {},
   "outputs": [
    {
     "name": "stdout",
     "output_type": "stream",
     "text": [
      "Train on A, test on A\n"
     ]
    },
    {
     "name": "stderr",
     "output_type": "stream",
     "text": [
      "100%|██████████| 11/11 [01:11<00:00,  6.51s/it]\n"
     ]
    },
    {
     "name": "stdout",
     "output_type": "stream",
     "text": [
      "Train on A, test on B\n"
     ]
    },
    {
     "name": "stderr",
     "output_type": "stream",
     "text": [
      "100%|██████████| 11/11 [01:11<00:00,  6.52s/it]\n"
     ]
    },
    {
     "name": "stdout",
     "output_type": "stream",
     "text": [
      "Train on B, test on B\n"
     ]
    },
    {
     "name": "stderr",
     "output_type": "stream",
     "text": [
      "100%|██████████| 11/11 [01:08<00:00,  6.26s/it]\n"
     ]
    },
    {
     "name": "stdout",
     "output_type": "stream",
     "text": [
      "Train on B, test on A\n"
     ]
    },
    {
     "name": "stderr",
     "output_type": "stream",
     "text": [
      "100%|██████████| 11/11 [01:01<00:00,  5.62s/it]\n"
     ]
    }
   ],
   "source": [
    "debias_method = '-lda'\n",
    "\n",
    "deb.debias_method = debias_method\n",
    "\n",
    "deb.instrument_classfication(train_set='A', test_set='A', A_feature=A_feature, B_feature=B_feature)\n",
    "deb.instrument_classfication(train_set='A', test_set='B', A_feature=A_feature, B_feature=B_feature)\n",
    "deb.instrument_classfication(train_set='B', test_set='B', A_feature=A_feature, B_feature=B_feature)\n",
    "deb.instrument_classfication(train_set='B', test_set='A', A_feature=A_feature, B_feature=B_feature)\n",
    "\n",
    "deb.result_all.to_csv('results/result_' + embedding + debias_method + '.csv', index=False)\n",
    "result_all = deb.result_all"
   ]
  },
  {
   "cell_type": "code",
   "execution_count": 3,
   "metadata": {},
   "outputs": [],
   "source": [
    "# embedding = 'vggish'; debias_method = ''\n",
    "# df1 = pd.read_csv('results/result_' + embedding + debias_method + '.csv')\n",
    "# debias_method = '-lda'\n",
    "# df2 = pd.read_csv('results/result_' + embedding + debias_method + '.csv')\n",
    "\n",
    "# df = df1.append(df2).reset_index(drop=True)\n",
    "# sns.set_theme(context='notebook', style='whitegrid', palette='deep')\n",
    "\n",
    "# sns.catplot(data=df, row='train_set', col='test_set', y='instrument', x='roc_auc', hue='embedding', kind='bar', \n",
    "#             height=4, aspect=1.2, ci=None)\n",
    "# plt.xlim([0.6,1])\n",
    "# plt.savefig('results/' + embedding  + debias_method + '.pdf', bbox_inches='tight')"
   ]
  },
  {
   "cell_type": "code",
   "execution_count": 8,
   "metadata": {},
   "outputs": [
    {
     "data": {
      "text/html": [
       "<div>\n",
       "<style scoped>\n",
       "    .dataframe tbody tr th:only-of-type {\n",
       "        vertical-align: middle;\n",
       "    }\n",
       "\n",
       "    .dataframe tbody tr th {\n",
       "        vertical-align: top;\n",
       "    }\n",
       "\n",
       "    .dataframe thead th {\n",
       "        text-align: right;\n",
       "    }\n",
       "</style>\n",
       "<table border=\"1\" class=\"dataframe\">\n",
       "  <thead>\n",
       "    <tr style=\"text-align: right;\">\n",
       "      <th></th>\n",
       "      <th>instrument</th>\n",
       "      <th>train_set</th>\n",
       "      <th>test_set</th>\n",
       "      <th>precision</th>\n",
       "      <th>recall</th>\n",
       "      <th>f1-score</th>\n",
       "      <th>support</th>\n",
       "      <th>accuracy</th>\n",
       "      <th>roc_auc</th>\n",
       "      <th>ap</th>\n",
       "      <th>embedding</th>\n",
       "    </tr>\n",
       "  </thead>\n",
       "  <tbody>\n",
       "    <tr>\n",
       "      <th>0</th>\n",
       "      <td>cello</td>\n",
       "      <td>A</td>\n",
       "      <td>A</td>\n",
       "      <td>0.24324324324324326</td>\n",
       "      <td>0.9</td>\n",
       "      <td>0.3829787234042553</td>\n",
       "      <td>30.0</td>\n",
       "      <td>0.8852242744063324</td>\n",
       "      <td>0.9639652014652015</td>\n",
       "      <td>0.6500305880887297</td>\n",
       "      <td>vggish</td>\n",
       "    </tr>\n",
       "    <tr>\n",
       "      <th>1</th>\n",
       "      <td>clarinet</td>\n",
       "      <td>A</td>\n",
       "      <td>A</td>\n",
       "      <td>0.2916666666666667</td>\n",
       "      <td>0.8</td>\n",
       "      <td>0.42748091603053434</td>\n",
       "      <td>35.0</td>\n",
       "      <td>0.9010554089709762</td>\n",
       "      <td>0.9426595534479352</td>\n",
       "      <td>0.5259687952775505</td>\n",
       "      <td>vggish</td>\n",
       "    </tr>\n",
       "    <tr>\n",
       "      <th>2</th>\n",
       "      <td>flute</td>\n",
       "      <td>A</td>\n",
       "      <td>A</td>\n",
       "      <td>0.25</td>\n",
       "      <td>0.6363636363636364</td>\n",
       "      <td>0.358974358974359</td>\n",
       "      <td>44.0</td>\n",
       "      <td>0.8680738786279684</td>\n",
       "      <td>0.8262668703845175</td>\n",
       "      <td>0.5271853636789754</td>\n",
       "      <td>vggish</td>\n",
       "    </tr>\n",
       "    <tr>\n",
       "      <th>3</th>\n",
       "      <td>guitar-ac</td>\n",
       "      <td>A</td>\n",
       "      <td>A</td>\n",
       "      <td>0.6095890410958904</td>\n",
       "      <td>0.9081632653061225</td>\n",
       "      <td>0.7295081967213115</td>\n",
       "      <td>98.0</td>\n",
       "      <td>0.9129287598944591</td>\n",
       "      <td>0.9769480519480519</td>\n",
       "      <td>0.8984266274071752</td>\n",
       "      <td>vggish</td>\n",
       "    </tr>\n",
       "    <tr>\n",
       "      <th>4</th>\n",
       "      <td>guitar-el</td>\n",
       "      <td>A</td>\n",
       "      <td>A</td>\n",
       "      <td>0.5124378109452736</td>\n",
       "      <td>0.7923076923076923</td>\n",
       "      <td>0.6223564954682779</td>\n",
       "      <td>130.0</td>\n",
       "      <td>0.8350923482849604</td>\n",
       "      <td>0.912359137677609</td>\n",
       "      <td>0.763658512289708</td>\n",
       "      <td>vggish</td>\n",
       "    </tr>\n",
       "    <tr>\n",
       "      <th>...</th>\n",
       "      <td>...</td>\n",
       "      <td>...</td>\n",
       "      <td>...</td>\n",
       "      <td>...</td>\n",
       "      <td>...</td>\n",
       "      <td>...</td>\n",
       "      <td>...</td>\n",
       "      <td>...</td>\n",
       "      <td>...</td>\n",
       "      <td>...</td>\n",
       "      <td>...</td>\n",
       "    </tr>\n",
       "    <tr>\n",
       "      <th>83</th>\n",
       "      <td>piano</td>\n",
       "      <td>B</td>\n",
       "      <td>A</td>\n",
       "      <td>0.5882352941176471</td>\n",
       "      <td>0.5128205128205128</td>\n",
       "      <td>0.547945205479452</td>\n",
       "      <td>39.0</td>\n",
       "      <td>0.9564643799472295</td>\n",
       "      <td>0.9094540137655576</td>\n",
       "      <td>0.5843435829823466</td>\n",
       "      <td>vggish-lda</td>\n",
       "    </tr>\n",
       "    <tr>\n",
       "      <th>84</th>\n",
       "      <td>saxophone</td>\n",
       "      <td>B</td>\n",
       "      <td>A</td>\n",
       "      <td>0.33962264150943394</td>\n",
       "      <td>0.5142857142857142</td>\n",
       "      <td>0.40909090909090906</td>\n",
       "      <td>35.0</td>\n",
       "      <td>0.9313984168865436</td>\n",
       "      <td>0.7839557399723375</td>\n",
       "      <td>0.3564544531308062</td>\n",
       "      <td>vggish-lda</td>\n",
       "    </tr>\n",
       "    <tr>\n",
       "      <th>85</th>\n",
       "      <td>trumpet</td>\n",
       "      <td>B</td>\n",
       "      <td>A</td>\n",
       "      <td>0.3958333333333333</td>\n",
       "      <td>0.4634146341463415</td>\n",
       "      <td>0.42696629213483145</td>\n",
       "      <td>41.0</td>\n",
       "      <td>0.9327176781002638</td>\n",
       "      <td>0.8043337755553288</td>\n",
       "      <td>0.47639371507496725</td>\n",
       "      <td>vggish-lda</td>\n",
       "    </tr>\n",
       "    <tr>\n",
       "      <th>86</th>\n",
       "      <td>violin</td>\n",
       "      <td>B</td>\n",
       "      <td>A</td>\n",
       "      <td>0.26595744680851063</td>\n",
       "      <td>0.5434782608695652</td>\n",
       "      <td>0.3571428571428571</td>\n",
       "      <td>46.0</td>\n",
       "      <td>0.8812664907651715</td>\n",
       "      <td>0.7665486077186127</td>\n",
       "      <td>0.41807911778514184</td>\n",
       "      <td>vggish-lda</td>\n",
       "    </tr>\n",
       "    <tr>\n",
       "      <th>87</th>\n",
       "      <td>voice</td>\n",
       "      <td>B</td>\n",
       "      <td>A</td>\n",
       "      <td>0.7990430622009569</td>\n",
       "      <td>0.8978494623655914</td>\n",
       "      <td>0.8455696202531645</td>\n",
       "      <td>186.0</td>\n",
       "      <td>0.9195250659630607</td>\n",
       "      <td>0.9592920520339876</td>\n",
       "      <td>0.9258146824895893</td>\n",
       "      <td>vggish-lda</td>\n",
       "    </tr>\n",
       "  </tbody>\n",
       "</table>\n",
       "<p>88 rows × 11 columns</p>\n",
       "</div>"
      ],
      "text/plain": [
       "   instrument train_set test_set            precision              recall  \\\n",
       "0       cello         A        A  0.24324324324324326                 0.9   \n",
       "1    clarinet         A        A   0.2916666666666667                 0.8   \n",
       "2       flute         A        A                 0.25  0.6363636363636364   \n",
       "3   guitar-ac         A        A   0.6095890410958904  0.9081632653061225   \n",
       "4   guitar-el         A        A   0.5124378109452736  0.7923076923076923   \n",
       "..        ...       ...      ...                  ...                 ...   \n",
       "83      piano         B        A   0.5882352941176471  0.5128205128205128   \n",
       "84  saxophone         B        A  0.33962264150943394  0.5142857142857142   \n",
       "85    trumpet         B        A   0.3958333333333333  0.4634146341463415   \n",
       "86     violin         B        A  0.26595744680851063  0.5434782608695652   \n",
       "87      voice         B        A   0.7990430622009569  0.8978494623655914   \n",
       "\n",
       "               f1-score support            accuracy             roc_auc  \\\n",
       "0    0.3829787234042553    30.0  0.8852242744063324  0.9639652014652015   \n",
       "1   0.42748091603053434    35.0  0.9010554089709762  0.9426595534479352   \n",
       "2     0.358974358974359    44.0  0.8680738786279684  0.8262668703845175   \n",
       "3    0.7295081967213115    98.0  0.9129287598944591  0.9769480519480519   \n",
       "4    0.6223564954682779   130.0  0.8350923482849604   0.912359137677609   \n",
       "..                  ...     ...                 ...                 ...   \n",
       "83    0.547945205479452    39.0  0.9564643799472295  0.9094540137655576   \n",
       "84  0.40909090909090906    35.0  0.9313984168865436  0.7839557399723375   \n",
       "85  0.42696629213483145    41.0  0.9327176781002638  0.8043337755553288   \n",
       "86   0.3571428571428571    46.0  0.8812664907651715  0.7665486077186127   \n",
       "87   0.8455696202531645   186.0  0.9195250659630607  0.9592920520339876   \n",
       "\n",
       "                     ap   embedding  \n",
       "0    0.6500305880887297      vggish  \n",
       "1    0.5259687952775505      vggish  \n",
       "2    0.5271853636789754      vggish  \n",
       "3    0.8984266274071752      vggish  \n",
       "4     0.763658512289708      vggish  \n",
       "..                  ...         ...  \n",
       "83   0.5843435829823466  vggish-lda  \n",
       "84   0.3564544531308062  vggish-lda  \n",
       "85  0.47639371507496725  vggish-lda  \n",
       "86  0.41807911778514184  vggish-lda  \n",
       "87   0.9258146824895893  vggish-lda  \n",
       "\n",
       "[88 rows x 11 columns]"
      ]
     },
     "execution_count": 8,
     "metadata": {},
     "output_type": "execute_result"
    }
   ],
   "source": [
    "result_all"
   ]
  },
  {
   "cell_type": "markdown",
   "metadata": {},
   "source": [
    "## OpenL3"
   ]
  },
  {
   "cell_type": "code",
   "execution_count": 9,
   "metadata": {},
   "outputs": [
    {
     "name": "stderr",
     "output_type": "stream",
     "text": [
      "100%|██████████| 6705/6705 [00:28<00:00, 231.64it/s]\n"
     ]
    },
    {
     "name": "stdout",
     "output_type": "stream",
     "text": [
      "(6705, 512) (6705,)\n"
     ]
    },
    {
     "name": "stderr",
     "output_type": "stream",
     "text": [
      "100%|██████████| 6705/6705 [00:29<00:00, 230.79it/s]\n"
     ]
    },
    {
     "name": "stdout",
     "output_type": "stream",
     "text": [
      "(6705, 512) (6705,)\n",
      "Train on A, test on A\n"
     ]
    },
    {
     "name": "stderr",
     "output_type": "stream",
     "text": [
      "100%|██████████| 11/11 [00:44<00:00,  4.02s/it]\n"
     ]
    },
    {
     "name": "stdout",
     "output_type": "stream",
     "text": [
      "Train on A, test on B\n"
     ]
    },
    {
     "name": "stderr",
     "output_type": "stream",
     "text": [
      "100%|██████████| 11/11 [00:43<00:00,  3.97s/it]\n"
     ]
    },
    {
     "name": "stdout",
     "output_type": "stream",
     "text": [
      "Train on B, test on B\n"
     ]
    },
    {
     "name": "stderr",
     "output_type": "stream",
     "text": [
      "100%|██████████| 11/11 [00:42<00:00,  3.87s/it]\n"
     ]
    },
    {
     "name": "stdout",
     "output_type": "stream",
     "text": [
      "Train on B, test on A\n"
     ]
    },
    {
     "name": "stderr",
     "output_type": "stream",
     "text": [
      "100%|██████████| 11/11 [00:41<00:00,  3.79s/it]\n"
     ]
    }
   ],
   "source": [
    "embedding = 'openl3'\n",
    "debias_method = ''\n",
    "\n",
    "deb = deem(embedding = embedding, debias_method = debias_method, feature_dir='./embeddings.h5', \n",
    "           instrument_map=instrument_map, genre_map=genre_map, param_grid=param_grid)\n",
    "\n",
    "A_meta = pd.read_csv(\"A_meta.csv\")\n",
    "A_feature = deb.load_feature(A_meta)\n",
    "B_meta = pd.read_csv(\"B_meta.csv\")\n",
    "B_feature = deb.load_feature(B_meta)\n",
    "\n",
    "deb.instrument_classfication(train_set='A', test_set='A', A_feature=A_feature, B_feature=B_feature)\n",
    "deb.instrument_classfication(train_set='A', test_set='B', A_feature=A_feature, B_feature=B_feature)\n",
    "deb.instrument_classfication(train_set='B', test_set='B', A_feature=A_feature, B_feature=B_feature)\n",
    "deb.instrument_classfication(train_set='B', test_set='A', A_feature=A_feature, B_feature=B_feature)"
   ]
  },
  {
   "cell_type": "code",
   "execution_count": 10,
   "metadata": {},
   "outputs": [
    {
     "name": "stdout",
     "output_type": "stream",
     "text": [
      "Train on A, test on A\n"
     ]
    },
    {
     "name": "stderr",
     "output_type": "stream",
     "text": [
      "100%|██████████| 11/11 [00:44<00:00,  4.03s/it]\n"
     ]
    },
    {
     "name": "stdout",
     "output_type": "stream",
     "text": [
      "Train on A, test on B\n"
     ]
    },
    {
     "name": "stderr",
     "output_type": "stream",
     "text": [
      "100%|██████████| 11/11 [00:43<00:00,  3.92s/it]\n"
     ]
    },
    {
     "name": "stdout",
     "output_type": "stream",
     "text": [
      "Train on B, test on B\n"
     ]
    },
    {
     "name": "stderr",
     "output_type": "stream",
     "text": [
      "100%|██████████| 11/11 [00:42<00:00,  3.83s/it]\n"
     ]
    },
    {
     "name": "stdout",
     "output_type": "stream",
     "text": [
      "Train on B, test on A\n"
     ]
    },
    {
     "name": "stderr",
     "output_type": "stream",
     "text": [
      "100%|██████████| 11/11 [00:41<00:00,  3.78s/it]\n"
     ]
    }
   ],
   "source": [
    "debias_method = '-lda'\n",
    "\n",
    "deb.debias_method = debias_method\n",
    "\n",
    "deb.instrument_classfication(train_set='A', test_set='A', A_feature=A_feature, B_feature=B_feature)\n",
    "deb.instrument_classfication(train_set='A', test_set='B', A_feature=A_feature, B_feature=B_feature)\n",
    "deb.instrument_classfication(train_set='B', test_set='B', A_feature=A_feature, B_feature=B_feature)\n",
    "deb.instrument_classfication(train_set='B', test_set='A', A_feature=A_feature, B_feature=B_feature)\n",
    "\n",
    "deb.result_all.to_csv('results/result_' + embedding + debias_method + '.csv', index=False)\n",
    "result_all = result_all.append(deb.result_all)"
   ]
  },
  {
   "cell_type": "code",
   "execution_count": 11,
   "metadata": {},
   "outputs": [],
   "source": [
    "# embedding = 'openl3'; debias_method = ''\n",
    "# df1 = pd.read_csv('results/result_' + embedding + debias_method + '.csv')\n",
    "# debias_method = '-lda'\n",
    "# df2 = pd.read_csv('results/result_' + embedding + debias_method + '.csv')\n",
    "\n",
    "# df = df1.append(df2).reset_index(drop=True)\n",
    "# sns.set_theme(context='notebook', style='whitegrid', palette='deep')\n",
    "\n",
    "# sns.catplot(data=df, row='train_set', col='test_set', y='instrument', x='roc_auc', hue='embedding', kind='bar', \n",
    "#             height=4, aspect=1.2, ci=None)\n",
    "# plt.xlim([0.6,1])\n",
    "# plt.savefig('results/' + embedding  + debias_method + '.pdf', bbox_inches='tight')"
   ]
  },
  {
   "cell_type": "markdown",
   "metadata": {},
   "source": [
    "## YAMNet"
   ]
  },
  {
   "cell_type": "code",
   "execution_count": 12,
   "metadata": {},
   "outputs": [
    {
     "name": "stderr",
     "output_type": "stream",
     "text": [
      "100%|██████████| 6705/6705 [00:04<00:00, 1640.14it/s]\n"
     ]
    },
    {
     "name": "stdout",
     "output_type": "stream",
     "text": [
      "(6705, 1024) (6705,)\n"
     ]
    },
    {
     "name": "stderr",
     "output_type": "stream",
     "text": [
      "100%|██████████| 6705/6705 [00:03<00:00, 1713.00it/s]\n"
     ]
    },
    {
     "name": "stdout",
     "output_type": "stream",
     "text": [
      "(6705, 1024) (6705,)\n",
      "Train on A, test on A\n"
     ]
    },
    {
     "name": "stderr",
     "output_type": "stream",
     "text": [
      "100%|██████████| 11/11 [00:46<00:00,  4.21s/it]\n"
     ]
    },
    {
     "name": "stdout",
     "output_type": "stream",
     "text": [
      "Train on A, test on B\n"
     ]
    },
    {
     "name": "stderr",
     "output_type": "stream",
     "text": [
      "100%|██████████| 11/11 [00:45<00:00,  4.14s/it]\n"
     ]
    },
    {
     "name": "stdout",
     "output_type": "stream",
     "text": [
      "Train on B, test on B\n"
     ]
    },
    {
     "name": "stderr",
     "output_type": "stream",
     "text": [
      "100%|██████████| 11/11 [00:38<00:00,  3.52s/it]\n"
     ]
    },
    {
     "name": "stdout",
     "output_type": "stream",
     "text": [
      "Train on B, test on A\n"
     ]
    },
    {
     "name": "stderr",
     "output_type": "stream",
     "text": [
      "100%|██████████| 11/11 [00:38<00:00,  3.50s/it]\n"
     ]
    }
   ],
   "source": [
    "embedding = 'yamnet'\n",
    "debias_method = ''\n",
    "\n",
    "deb = deem(embedding = embedding, debias_method = debias_method, feature_dir='./embeddings.h5', \n",
    "           instrument_map=instrument_map, genre_map=genre_map, param_grid=param_grid)\n",
    "\n",
    "A_meta = pd.read_csv(\"A_meta.csv\")\n",
    "A_feature = deb.load_feature(A_meta)\n",
    "B_meta = pd.read_csv(\"B_meta.csv\")\n",
    "B_feature = deb.load_feature(B_meta)\n",
    "\n",
    "deb.instrument_classfication(train_set='A', test_set='A', A_feature=A_feature, B_feature=B_feature)\n",
    "deb.instrument_classfication(train_set='A', test_set='B', A_feature=A_feature, B_feature=B_feature)\n",
    "deb.instrument_classfication(train_set='B', test_set='B', A_feature=A_feature, B_feature=B_feature)\n",
    "deb.instrument_classfication(train_set='B', test_set='A', A_feature=A_feature, B_feature=B_feature)"
   ]
  },
  {
   "cell_type": "code",
   "execution_count": 13,
   "metadata": {},
   "outputs": [
    {
     "name": "stdout",
     "output_type": "stream",
     "text": [
      "Train on A, test on A\n"
     ]
    },
    {
     "name": "stderr",
     "output_type": "stream",
     "text": [
      "100%|██████████| 11/11 [01:31<00:00,  8.32s/it]\n"
     ]
    },
    {
     "name": "stdout",
     "output_type": "stream",
     "text": [
      "Train on A, test on B\n"
     ]
    },
    {
     "name": "stderr",
     "output_type": "stream",
     "text": [
      "100%|██████████| 11/11 [01:20<00:00,  7.31s/it]\n"
     ]
    },
    {
     "name": "stdout",
     "output_type": "stream",
     "text": [
      "Train on B, test on B\n"
     ]
    },
    {
     "name": "stderr",
     "output_type": "stream",
     "text": [
      "100%|██████████| 11/11 [01:16<00:00,  6.98s/it]\n"
     ]
    },
    {
     "name": "stdout",
     "output_type": "stream",
     "text": [
      "Train on B, test on A\n"
     ]
    },
    {
     "name": "stderr",
     "output_type": "stream",
     "text": [
      "100%|██████████| 11/11 [01:15<00:00,  6.88s/it]\n"
     ]
    }
   ],
   "source": [
    "debias_method = '-lda'\n",
    "\n",
    "deb.debias_method = debias_method\n",
    "\n",
    "deb.instrument_classfication(train_set='A', test_set='A', A_feature=A_feature, B_feature=B_feature)\n",
    "deb.instrument_classfication(train_set='A', test_set='B', A_feature=A_feature, B_feature=B_feature)\n",
    "deb.instrument_classfication(train_set='B', test_set='B', A_feature=A_feature, B_feature=B_feature)\n",
    "deb.instrument_classfication(train_set='B', test_set='A', A_feature=A_feature, B_feature=B_feature)\n",
    "\n",
    "deb.result_all.to_csv('results/result_' + embedding + debias_method + '.csv', index=False)\n",
    "result_all = result_all.append(deb.result_all)"
   ]
  },
  {
   "cell_type": "code",
   "execution_count": 1,
   "metadata": {},
   "outputs": [],
   "source": [
    "# embedding = 'yamnet'; debias_method = ''\n",
    "# df1 = pd.read_csv('results/result_' + embedding + debias_method + '.csv')\n",
    "# debias_method = '-lda'\n",
    "# df2 = pd.read_csv('results/result_' + embedding + debias_method + '.csv')\n",
    "\n",
    "# df = df1.append(df2)\n",
    "# sns.set_theme(context='notebook', style='whitegrid', palette='deep')\n",
    "\n",
    "# sns.catplot(data=df, row='train_set', col='test_set', y='instrument', x='roc_auc', hue='embedding', kind='bar', \n",
    "#             height=4, aspect=1.2, ci=None)\n",
    "# plt.xlim([0.6,1])\n",
    "# plt.savefig('results/' + embedding  + debias_method + '.pdf', bbox_inches='tight')"
   ]
  },
  {
   "cell_type": "code",
   "execution_count": 14,
   "metadata": {},
   "outputs": [
    {
     "data": {
      "text/html": [
       "<div>\n",
       "<style scoped>\n",
       "    .dataframe tbody tr th:only-of-type {\n",
       "        vertical-align: middle;\n",
       "    }\n",
       "\n",
       "    .dataframe tbody tr th {\n",
       "        vertical-align: top;\n",
       "    }\n",
       "\n",
       "    .dataframe thead th {\n",
       "        text-align: right;\n",
       "    }\n",
       "</style>\n",
       "<table border=\"1\" class=\"dataframe\">\n",
       "  <thead>\n",
       "    <tr style=\"text-align: right;\">\n",
       "      <th></th>\n",
       "      <th>instrument</th>\n",
       "      <th>train_set</th>\n",
       "      <th>test_set</th>\n",
       "      <th>precision</th>\n",
       "      <th>recall</th>\n",
       "      <th>f1-score</th>\n",
       "      <th>support</th>\n",
       "      <th>accuracy</th>\n",
       "      <th>roc_auc</th>\n",
       "      <th>ap</th>\n",
       "      <th>embedding</th>\n",
       "    </tr>\n",
       "  </thead>\n",
       "  <tbody>\n",
       "    <tr>\n",
       "      <th>0</th>\n",
       "      <td>cello</td>\n",
       "      <td>A</td>\n",
       "      <td>A</td>\n",
       "      <td>0.24324324324324326</td>\n",
       "      <td>0.9</td>\n",
       "      <td>0.3829787234042553</td>\n",
       "      <td>30.0</td>\n",
       "      <td>0.8852242744063324</td>\n",
       "      <td>0.9639652014652015</td>\n",
       "      <td>0.6500305880887297</td>\n",
       "      <td>vggish</td>\n",
       "    </tr>\n",
       "    <tr>\n",
       "      <th>1</th>\n",
       "      <td>clarinet</td>\n",
       "      <td>A</td>\n",
       "      <td>A</td>\n",
       "      <td>0.2916666666666667</td>\n",
       "      <td>0.8</td>\n",
       "      <td>0.42748091603053434</td>\n",
       "      <td>35.0</td>\n",
       "      <td>0.9010554089709762</td>\n",
       "      <td>0.9426595534479352</td>\n",
       "      <td>0.5259687952775505</td>\n",
       "      <td>vggish</td>\n",
       "    </tr>\n",
       "    <tr>\n",
       "      <th>2</th>\n",
       "      <td>flute</td>\n",
       "      <td>A</td>\n",
       "      <td>A</td>\n",
       "      <td>0.25</td>\n",
       "      <td>0.6363636363636364</td>\n",
       "      <td>0.358974358974359</td>\n",
       "      <td>44.0</td>\n",
       "      <td>0.8680738786279684</td>\n",
       "      <td>0.8262668703845175</td>\n",
       "      <td>0.5271853636789754</td>\n",
       "      <td>vggish</td>\n",
       "    </tr>\n",
       "    <tr>\n",
       "      <th>3</th>\n",
       "      <td>guitar-ac</td>\n",
       "      <td>A</td>\n",
       "      <td>A</td>\n",
       "      <td>0.6095890410958904</td>\n",
       "      <td>0.9081632653061225</td>\n",
       "      <td>0.7295081967213115</td>\n",
       "      <td>98.0</td>\n",
       "      <td>0.9129287598944591</td>\n",
       "      <td>0.9769480519480519</td>\n",
       "      <td>0.8984266274071752</td>\n",
       "      <td>vggish</td>\n",
       "    </tr>\n",
       "    <tr>\n",
       "      <th>4</th>\n",
       "      <td>guitar-el</td>\n",
       "      <td>A</td>\n",
       "      <td>A</td>\n",
       "      <td>0.5124378109452736</td>\n",
       "      <td>0.7923076923076923</td>\n",
       "      <td>0.6223564954682779</td>\n",
       "      <td>130.0</td>\n",
       "      <td>0.8350923482849604</td>\n",
       "      <td>0.912359137677609</td>\n",
       "      <td>0.763658512289708</td>\n",
       "      <td>vggish</td>\n",
       "    </tr>\n",
       "    <tr>\n",
       "      <th>...</th>\n",
       "      <td>...</td>\n",
       "      <td>...</td>\n",
       "      <td>...</td>\n",
       "      <td>...</td>\n",
       "      <td>...</td>\n",
       "      <td>...</td>\n",
       "      <td>...</td>\n",
       "      <td>...</td>\n",
       "      <td>...</td>\n",
       "      <td>...</td>\n",
       "      <td>...</td>\n",
       "    </tr>\n",
       "    <tr>\n",
       "      <th>83</th>\n",
       "      <td>piano</td>\n",
       "      <td>B</td>\n",
       "      <td>A</td>\n",
       "      <td>0.4098360655737705</td>\n",
       "      <td>0.6410256410256411</td>\n",
       "      <td>0.5</td>\n",
       "      <td>39.0</td>\n",
       "      <td>0.9340369393139841</td>\n",
       "      <td>0.9098462964944188</td>\n",
       "      <td>0.6021810146273744</td>\n",
       "      <td>yamnet-lda</td>\n",
       "    </tr>\n",
       "    <tr>\n",
       "      <th>84</th>\n",
       "      <td>saxophone</td>\n",
       "      <td>B</td>\n",
       "      <td>A</td>\n",
       "      <td>0.33962264150943394</td>\n",
       "      <td>0.5142857142857142</td>\n",
       "      <td>0.40909090909090906</td>\n",
       "      <td>35.0</td>\n",
       "      <td>0.9313984168865436</td>\n",
       "      <td>0.8227227820588816</td>\n",
       "      <td>0.3344045098319385</td>\n",
       "      <td>yamnet-lda</td>\n",
       "    </tr>\n",
       "    <tr>\n",
       "      <th>85</th>\n",
       "      <td>trumpet</td>\n",
       "      <td>B</td>\n",
       "      <td>A</td>\n",
       "      <td>0.4411764705882353</td>\n",
       "      <td>0.7317073170731707</td>\n",
       "      <td>0.5504587155963303</td>\n",
       "      <td>41.0</td>\n",
       "      <td>0.9353562005277045</td>\n",
       "      <td>0.9244140558560396</td>\n",
       "      <td>0.6880225781600884</td>\n",
       "      <td>yamnet-lda</td>\n",
       "    </tr>\n",
       "    <tr>\n",
       "      <th>86</th>\n",
       "      <td>violin</td>\n",
       "      <td>B</td>\n",
       "      <td>A</td>\n",
       "      <td>0.30952380952380953</td>\n",
       "      <td>0.2826086956521739</td>\n",
       "      <td>0.29545454545454547</td>\n",
       "      <td>46.0</td>\n",
       "      <td>0.9182058047493403</td>\n",
       "      <td>0.757785784074255</td>\n",
       "      <td>0.2799666420101389</td>\n",
       "      <td>yamnet-lda</td>\n",
       "    </tr>\n",
       "    <tr>\n",
       "      <th>87</th>\n",
       "      <td>voice</td>\n",
       "      <td>B</td>\n",
       "      <td>A</td>\n",
       "      <td>0.8232323232323232</td>\n",
       "      <td>0.8763440860215054</td>\n",
       "      <td>0.8489583333333334</td>\n",
       "      <td>186.0</td>\n",
       "      <td>0.9234828496042217</td>\n",
       "      <td>0.9708530716595233</td>\n",
       "      <td>0.9265720442471264</td>\n",
       "      <td>yamnet-lda</td>\n",
       "    </tr>\n",
       "  </tbody>\n",
       "</table>\n",
       "<p>264 rows × 11 columns</p>\n",
       "</div>"
      ],
      "text/plain": [
       "   instrument train_set test_set            precision              recall  \\\n",
       "0       cello         A        A  0.24324324324324326                 0.9   \n",
       "1    clarinet         A        A   0.2916666666666667                 0.8   \n",
       "2       flute         A        A                 0.25  0.6363636363636364   \n",
       "3   guitar-ac         A        A   0.6095890410958904  0.9081632653061225   \n",
       "4   guitar-el         A        A   0.5124378109452736  0.7923076923076923   \n",
       "..        ...       ...      ...                  ...                 ...   \n",
       "83      piano         B        A   0.4098360655737705  0.6410256410256411   \n",
       "84  saxophone         B        A  0.33962264150943394  0.5142857142857142   \n",
       "85    trumpet         B        A   0.4411764705882353  0.7317073170731707   \n",
       "86     violin         B        A  0.30952380952380953  0.2826086956521739   \n",
       "87      voice         B        A   0.8232323232323232  0.8763440860215054   \n",
       "\n",
       "               f1-score support            accuracy             roc_auc  \\\n",
       "0    0.3829787234042553    30.0  0.8852242744063324  0.9639652014652015   \n",
       "1   0.42748091603053434    35.0  0.9010554089709762  0.9426595534479352   \n",
       "2     0.358974358974359    44.0  0.8680738786279684  0.8262668703845175   \n",
       "3    0.7295081967213115    98.0  0.9129287598944591  0.9769480519480519   \n",
       "4    0.6223564954682779   130.0  0.8350923482849604   0.912359137677609   \n",
       "..                  ...     ...                 ...                 ...   \n",
       "83                  0.5    39.0  0.9340369393139841  0.9098462964944188   \n",
       "84  0.40909090909090906    35.0  0.9313984168865436  0.8227227820588816   \n",
       "85   0.5504587155963303    41.0  0.9353562005277045  0.9244140558560396   \n",
       "86  0.29545454545454547    46.0  0.9182058047493403   0.757785784074255   \n",
       "87   0.8489583333333334   186.0  0.9234828496042217  0.9708530716595233   \n",
       "\n",
       "                    ap   embedding  \n",
       "0   0.6500305880887297      vggish  \n",
       "1   0.5259687952775505      vggish  \n",
       "2   0.5271853636789754      vggish  \n",
       "3   0.8984266274071752      vggish  \n",
       "4    0.763658512289708      vggish  \n",
       "..                 ...         ...  \n",
       "83  0.6021810146273744  yamnet-lda  \n",
       "84  0.3344045098319385  yamnet-lda  \n",
       "85  0.6880225781600884  yamnet-lda  \n",
       "86  0.2799666420101389  yamnet-lda  \n",
       "87  0.9265720442471264  yamnet-lda  \n",
       "\n",
       "[264 rows x 11 columns]"
      ]
     },
     "execution_count": 14,
     "metadata": {},
     "output_type": "execute_result"
    }
   ],
   "source": [
    "# expected length: 44 * 6 = 264\n",
    "result_all"
   ]
  },
  {
   "cell_type": "code",
   "execution_count": 15,
   "metadata": {},
   "outputs": [],
   "source": [
    "result_all.to_csv('results/result_all_lda.csv', index=False)"
   ]
  },
  {
   "cell_type": "code",
   "execution_count": null,
   "metadata": {},
   "outputs": [],
   "source": []
  }
 ],
 "metadata": {
  "kernelspec": {
   "display_name": "ismir2022embedding",
   "language": "python",
   "name": "python3"
  },
  "language_info": {
   "codemirror_mode": {
    "name": "ipython",
    "version": 3
   },
   "file_extension": ".py",
   "mimetype": "text/x-python",
   "name": "python",
   "nbconvert_exporter": "python",
   "pygments_lexer": "ipython3",
   "version": "3.9.0"
  },
  "toc": {
   "base_numbering": 1,
   "nav_menu": {},
   "number_sections": true,
   "sideBar": true,
   "skip_h1_title": false,
   "title_cell": "Table of Contents",
   "title_sidebar": "Contents",
   "toc_cell": false,
   "toc_position": {
    "height": "621.778px",
    "left": "21px",
    "top": "111.139px",
    "width": "165px"
   },
   "toc_section_display": true,
   "toc_window_display": true
  },
  "vscode": {
   "interpreter": {
    "hash": "e2e45284a6c14b0a92859aa6111181c4542423174f88d2070b0d025532226888"
   }
  }
 },
 "nbformat": 4,
 "nbformat_minor": 4
}
