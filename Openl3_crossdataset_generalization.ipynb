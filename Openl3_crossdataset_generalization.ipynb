{
 "cells": [
  {
   "cell_type": "code",
   "execution_count": 2,
   "metadata": {},
   "outputs": [],
   "source": [
    "%matplotlib inline\n",
    "import matplotlib.pyplot as plt\n",
    "import numpy as np\n",
    "import librosa\n",
    "from tqdm import tqdm_notebook as tqdm\n",
    "import json\n",
    "import pandas as pd\n",
    "import os\n",
    "import h5py\n",
    "import warnings\n",
    "warnings.filterwarnings('ignore')\n",
    "\n",
    "from sklearn.linear_model import LogisticRegression\n",
    "from sklearn.model_selection import GridSearchCV\n",
    "from sklearn.metrics import classification_report"
   ]
  },
  {
   "cell_type": "markdown",
   "metadata": {},
   "source": [
    "# Load embeddings and align classes"
   ]
  },
  {
   "cell_type": "code",
   "execution_count": 3,
   "metadata": {},
   "outputs": [
    {
     "name": "stdout",
     "output_type": "stream",
     "text": [
      "irmas\n",
      "irmas/openl3\n",
      "irmas/openl3/features\n",
      "irmas/openl3/keys\n",
      "irmas/vggish\n",
      "irmas/vggish/features\n",
      "irmas/vggish/keys\n",
      "openmic\n",
      "openmic/openl3\n",
      "openmic/openl3/features\n",
      "openmic/openl3/keys\n",
      "openmic/vggish\n",
      "openmic/vggish/features\n",
      "openmic/vggish/keys\n"
     ]
    }
   ],
   "source": [
    "embeddings = h5py.File('embeddings.h5', 'r')\n",
    "\n",
    "def printname(name):\n",
    "    print(name)\n",
    "embeddings.visit(printname)"
   ]
  },
  {
   "cell_type": "code",
   "execution_count": 4,
   "metadata": {},
   "outputs": [
    {
     "data": {
      "text/plain": [
       "{'cello': 3,\n",
       " 'clarinet': 4,\n",
       " 'flute': 7,\n",
       " 'guitar': 8,\n",
       " 'organ': 11,\n",
       " 'piano': 12,\n",
       " 'saxophone': 13,\n",
       " 'trumpet': 16,\n",
       " 'violin': 18,\n",
       " 'voice': 19}"
      ]
     },
     "execution_count": 4,
     "metadata": {},
     "output_type": "execute_result"
    }
   ],
   "source": [
    "with open('class-map-10.json', 'r') as f: # only consider 10 classes of Openmic dataset\n",
    "    class_map = json.load(f)\n",
    "    \n",
    "class_map"
   ]
  },
  {
   "cell_type": "code",
   "execution_count": 5,
   "metadata": {},
   "outputs": [],
   "source": [
    "# use a dict to align the classes between Openmic dataset (key) and Irmas dataset (val)\n",
    "class_align = {'cello': 'cel',\n",
    "               'clarinet': 'cla',\n",
    "               'flute': 'flu',\n",
    "               'guitar': ['gac', 'gel'],\n",
    "               'organ': 'org',\n",
    "               'piano': 'pia',\n",
    "               'saxophone': 'sax',\n",
    "               'trumpet': 'tru',\n",
    "               'violin': 'vio',\n",
    "               'voice': 'voi'}"
   ]
  },
  {
   "cell_type": "code",
   "execution_count": 6,
   "metadata": {},
   "outputs": [],
   "source": [
    "# use a Pandas DataFrame to record all results and save into a csv file later\n",
    "result_all = pd.DataFrame({'instrument': [],\n",
    "                          'train_set': [],\n",
    "                          'test_set': [],\n",
    "                          'precision': [],\n",
    "                          'recall': [],\n",
    "                          'f1-score': [],\n",
    "                          'support': [],\n",
    "                         })"
   ]
  },
  {
   "cell_type": "markdown",
   "metadata": {},
   "source": [
    "# irmas->irmas"
   ]
  },
  {
   "cell_type": "code",
   "execution_count": 7,
   "metadata": {},
   "outputs": [
    {
     "name": "stdout",
     "output_type": "stream",
     "text": [
      "(167625, 512) (167625,)\n",
      "(6705,)\n"
     ]
    }
   ],
   "source": [
    "# irmas: openl3 embedding\n",
    "feature = np.array(embeddings['irmas']['openl3']['features'])\n",
    "keys_ori = np.array(embeddings['irmas']['openl3']['keys'])\n",
    "print(feature.shape, keys_ori.shape)\n",
    "\n",
    "key_clip = np.unique(keys_ori)\n",
    "print(key_clip.shape)"
   ]
  },
  {
   "cell_type": "code",
   "execution_count": 8,
   "metadata": {},
   "outputs": [
    {
     "data": {
      "text/plain": [
       "array([b'001__[gel][dru][pop_roc]0829__1',\n",
       "       b'001__[gel][dru][pop_roc]0829__2',\n",
       "       b'001__[gel][dru][pop_roc]0829__3', ..., b'[voi][pop_roc]2548__1',\n",
       "       b'[voi][pop_roc]2548__2', b'[voi][pop_roc]2548__3'], dtype=object)"
      ]
     },
     "execution_count": 8,
     "metadata": {},
     "output_type": "execute_result"
    }
   ],
   "source": [
    "key_clip"
   ]
  },
  {
   "cell_type": "code",
   "execution_count": 9,
   "metadata": {},
   "outputs": [
    {
     "data": {
      "application/vnd.jupyter.widget-view+json": {
       "model_id": "4e000d30da944bccb12344b5188b3833",
       "version_major": 2,
       "version_minor": 0
      },
      "text/plain": [
       "  0%|          | 0/6705 [00:00<?, ?it/s]"
      ]
     },
     "metadata": {},
     "output_type": "display_data"
    },
    {
     "name": "stdout",
     "output_type": "stream",
     "text": [
      "(6705, 512) (6705,)\n"
     ]
    }
   ],
   "source": [
    "feature_clip = []\n",
    "\n",
    "for key in tqdm(key_clip):\n",
    "    feature_clip.append(np.mean(feature[keys_ori[:]==key,:],axis=0))\n",
    "    \n",
    "feature_clip = np.array(feature_clip)\n",
    "print(feature_clip.shape, key_clip.shape)"
   ]
  },
  {
   "cell_type": "code",
   "execution_count": 10,
   "metadata": {},
   "outputs": [],
   "source": [
    "key_train = list(pd.read_csv('irmas_train.csv', header=None, squeeze=True))\n",
    "key_test = list(pd.read_csv('irmas_test.csv', header=None, squeeze=True))"
   ]
  },
  {
   "cell_type": "code",
   "execution_count": 11,
   "metadata": {},
   "outputs": [],
   "source": [
    "# These loops go through all sample keys, and save their row numbers to either idx_train or idx_test\n",
    "idx_train, idx_test = [], []\n",
    "\n",
    "for k in range(len(key_clip)):\n",
    "    if str(key_clip[k]) in key_train:\n",
    "        idx_train.append(k)\n",
    "    elif str(key_clip[k]) in key_test:\n",
    "        idx_test.append(k)\n",
    "    else:\n",
    "        # This should never happen, but better safe than sorry.\n",
    "        raise RuntimeError('Unknown sample key={}! Abort!'.format(key_clip[k]))\n",
    "        \n",
    "# cast the idx_* arrays to numpy structures\n",
    "idx_train = np.asarray(idx_train)\n",
    "idx_test = np.asarray(idx_test)"
   ]
  },
  {
   "cell_type": "code",
   "execution_count": 12,
   "metadata": {},
   "outputs": [
    {
     "data": {
      "text/plain": [
       "array(['cello', 'clarinet', 'flute', 'guitar', 'organ', 'piano',\n",
       "       'saxophone', 'trumpet', 'violin', 'voice'], dtype='<U9')"
      ]
     },
     "execution_count": 12,
     "metadata": {},
     "output_type": "execute_result"
    }
   ],
   "source": [
    "keys = np.array([str(k, 'utf-8') for k in key_clip])\n",
    "keys = [key[key.index('[')+1:key.index(']')] for key in keys]\n",
    "\n",
    "for key in class_align:\n",
    "    keys = [key if x in class_align[key] else x for x in keys]\n",
    "    \n",
    "keys = np.array(keys)\n",
    "np.unique(keys)"
   ]
  },
  {
   "cell_type": "code",
   "execution_count": 13,
   "metadata": {},
   "outputs": [
    {
     "name": "stdout",
     "output_type": "stream",
     "text": [
      "(3910, 512)\n",
      "(2795, 512)\n"
     ]
    }
   ],
   "source": [
    "# use the split indices to partition the features, labels, and masks\n",
    "X_train = feature_clip[idx_train,:]\n",
    "X_test = feature_clip[idx_test]\n",
    "\n",
    "Y_true_train = keys[idx_train]\n",
    "Y_true_test = keys[idx_test]\n",
    "\n",
    "# print out the sliced shapes as a sanity check\n",
    "print(X_train.shape)\n",
    "print(X_test.shape)"
   ]
  },
  {
   "cell_type": "code",
   "execution_count": 14,
   "metadata": {},
   "outputs": [
    {
     "name": "stdout",
     "output_type": "stream",
     "text": [
      "----------------------------------------------------\n",
      "cello\n",
      "\tTEST\n",
      "              precision    recall  f1-score   support\n",
      "\n",
      "       False       1.00      0.94      0.97      2765\n",
      "        True       0.14      0.87      0.25        30\n",
      "\n",
      "    accuracy                           0.94      2795\n",
      "   macro avg       0.57      0.91      0.61      2795\n",
      "weighted avg       0.99      0.94      0.96      2795\n",
      "\n",
      "----------------------------------------------------\n",
      "clarinet\n",
      "\tTEST\n",
      "              precision    recall  f1-score   support\n",
      "\n",
      "       False       1.00      0.73      0.84      2744\n",
      "        True       0.06      1.00      0.12        51\n",
      "\n",
      "    accuracy                           0.73      2795\n",
      "   macro avg       0.53      0.86      0.48      2795\n",
      "weighted avg       0.98      0.73      0.83      2795\n",
      "\n",
      "----------------------------------------------------\n",
      "flute\n",
      "\tTEST\n",
      "              precision    recall  f1-score   support\n",
      "\n",
      "       False       0.87      1.00      0.93      2388\n",
      "        True       0.87      0.10      0.18       407\n",
      "\n",
      "    accuracy                           0.87      2795\n",
      "   macro avg       0.87      0.55      0.55      2795\n",
      "weighted avg       0.87      0.87      0.82      2795\n",
      "\n",
      "----------------------------------------------------\n",
      "guitar\n",
      "\tTEST\n",
      "              precision    recall  f1-score   support\n",
      "\n",
      "       False       0.94      0.92      0.93      2316\n",
      "        True       0.66      0.71      0.68       479\n",
      "\n",
      "    accuracy                           0.89      2795\n",
      "   macro avg       0.80      0.82      0.81      2795\n",
      "weighted avg       0.89      0.89      0.89      2795\n",
      "\n",
      "----------------------------------------------------\n",
      "organ\n",
      "\tTEST\n",
      "              precision    recall  f1-score   support\n",
      "\n",
      "       False       1.00      0.92      0.96      2792\n",
      "        True       0.01      1.00      0.03         3\n",
      "\n",
      "    accuracy                           0.92      2795\n",
      "   macro avg       0.51      0.96      0.49      2795\n",
      "weighted avg       1.00      0.92      0.96      2795\n",
      "\n",
      "----------------------------------------------------\n",
      "piano\n",
      "\tTEST\n",
      "              precision    recall  f1-score   support\n",
      "\n",
      "       False       0.93      0.99      0.96      2212\n",
      "        True       0.97      0.73      0.83       583\n",
      "\n",
      "    accuracy                           0.94      2795\n",
      "   macro avg       0.95      0.86      0.90      2795\n",
      "weighted avg       0.94      0.94      0.93      2795\n",
      "\n",
      "----------------------------------------------------\n",
      "saxophone\n",
      "\tTEST\n",
      "              precision    recall  f1-score   support\n",
      "\n",
      "       False       0.85      0.91      0.88      2289\n",
      "        True       0.41      0.28      0.33       506\n",
      "\n",
      "    accuracy                           0.80      2795\n",
      "   macro avg       0.63      0.60      0.61      2795\n",
      "weighted avg       0.77      0.80      0.78      2795\n",
      "\n",
      "----------------------------------------------------\n",
      "trumpet\n",
      "\tTEST\n",
      "              precision    recall  f1-score   support\n",
      "\n",
      "       False       0.81      1.00      0.89      2236\n",
      "        True       0.86      0.07      0.13       559\n",
      "\n",
      "    accuracy                           0.81      2795\n",
      "   macro avg       0.84      0.53      0.51      2795\n",
      "weighted avg       0.82      0.81      0.74      2795\n",
      "\n",
      "----------------------------------------------------\n",
      "violin\n",
      "\tTEST\n",
      "              precision    recall  f1-score   support\n",
      "\n",
      "       False       1.00      0.83      0.90      2738\n",
      "        True       0.10      0.93      0.18        57\n",
      "\n",
      "    accuracy                           0.83      2795\n",
      "   macro avg       0.55      0.88      0.54      2795\n",
      "weighted avg       0.98      0.83      0.89      2795\n",
      "\n",
      "----------------------------------------------------\n",
      "voice\n",
      "\tTEST\n",
      "              precision    recall  f1-score   support\n",
      "\n",
      "       False       1.00      0.98      0.99      2675\n",
      "        True       0.67      0.93      0.78       120\n",
      "\n",
      "    accuracy                           0.98      2795\n",
      "   macro avg       0.83      0.96      0.88      2795\n",
      "weighted avg       0.98      0.98      0.98      2795\n",
      "\n"
     ]
    }
   ],
   "source": [
    "train_set_name, test_set_name = 'irmas', 'irmas'\n",
    "\n",
    "# use a dictionary to include the classifier for each instrument trained on the dataset based on the embedding\n",
    "globals()['models_'+train_set_name] = dict()   \n",
    "\n",
    "# iterate over all istrument classes, and fit a model for each one\n",
    "for instrument in class_align:\n",
    "    \n",
    "    # get the training and testing labels for each instrument\n",
    "    Y_true_train_inst = Y_true_train==instrument\n",
    "    Y_true_test_inst = Y_true_test==instrument\n",
    "    \n",
    "    # initialize and a logistic regression model\n",
    "    LRmodel = LogisticRegression(random_state=0, penalty='l2', solver='liblinear', class_weight='balanced')\n",
    "    \n",
    "    # hyperparameter tunning for logistic regression model\n",
    "    param_grid = {'C': [0.001, 0.01, 0.1, 1, 10, 100] }  \n",
    "    scoring = 'f1'; cv = 3\n",
    "    clf =  GridSearchCV(LRmodel, param_grid=param_grid, cv=cv, scoring=scoring)    \n",
    "    \n",
    "    # fit the model\n",
    "    clf.fit(X_train, Y_true_train_inst)\n",
    "\n",
    "    # predict\n",
    "    Y_pred_test_inst = clf.predict(X_test)\n",
    "    \n",
    "    # print result for each instrument\n",
    "    print('-' * 52); print(instrument); print('\\tTEST')\n",
    "    print(classification_report(Y_true_test_inst, Y_pred_test_inst))\n",
    "    \n",
    "    # store the classifier in the model dictionary\n",
    "    globals()['models_'+train_set_name][instrument] = clf\n",
    "    \n",
    "    #########################  record result of each split  ###############################\n",
    "    report = pd.DataFrame(classification_report(Y_true_test_inst, Y_pred_test_inst, output_dict=True))['True']\n",
    "    result_inst = [instrument, train_set_name, test_set_name, report['precision'], report['recall'],\n",
    "                   report['f1-score'], report['support']]   \n",
    "    result_all = result_all.append(pd.DataFrame(np.expand_dims(np.array(result_inst), axis=0), \n",
    "                                                columns=result_all.columns), ignore_index=True)"
   ]
  },
  {
   "cell_type": "code",
   "execution_count": 15,
   "metadata": {},
   "outputs": [],
   "source": [
    "# l2, cv5, f1, liblinear, cmax=10: 34.9\n",
    "# l2, cv3, f1, liblinear, cmax=10: 35.1\n",
    "# l2, cv3, f1, liblinear, cmax=100: 35.1\n",
    "# l2, cv5, f1, liblinear, cmax=100: 34.8"
   ]
  },
  {
   "cell_type": "markdown",
   "metadata": {},
   "source": [
    "# openmic->openmic"
   ]
  },
  {
   "cell_type": "code",
   "execution_count": 16,
   "metadata": {},
   "outputs": [
    {
     "name": "stdout",
     "output_type": "stream",
     "text": [
      "(1900000, 512) (1900000,)\n"
     ]
    },
    {
     "data": {
      "text/plain": [
       "(20000,)"
      ]
     },
     "execution_count": 16,
     "metadata": {},
     "output_type": "execute_result"
    }
   ],
   "source": [
    "# openmic: openl3 embedding\n",
    "feature = np.array(embeddings['openmic']['openl3']['features'])\n",
    "keys = np.array(embeddings['openmic']['openl3']['keys'])\n",
    "print(feature.shape, keys.shape)\n",
    "\n",
    "key_clip = np.unique(keys)\n",
    "key_clip.shape"
   ]
  },
  {
   "cell_type": "code",
   "execution_count": 17,
   "metadata": {},
   "outputs": [
    {
     "data": {
      "application/vnd.jupyter.widget-view+json": {
       "model_id": "b422fd824ac247a399a2f38134d5cfaf",
       "version_major": 2,
       "version_minor": 0
      },
      "text/plain": [
       "  0%|          | 0/20000 [00:00<?, ?it/s]"
      ]
     },
     "metadata": {},
     "output_type": "display_data"
    },
    {
     "name": "stdout",
     "output_type": "stream",
     "text": [
      "(20000, 512) (20000,)\n"
     ]
    },
    {
     "data": {
      "text/plain": [
       "array(['000046_3840', '000135_483840', '000139_119040', ...,\n",
       "       '155307_211200', '155310_372480', '155311_453120'], dtype='<U15')"
      ]
     },
     "execution_count": 17,
     "metadata": {},
     "output_type": "execute_result"
    }
   ],
   "source": [
    "feature_clip = []\n",
    "\n",
    "for key in tqdm(key_clip):\n",
    "    feature_clip.append(np.mean(feature[keys[:]==key,:],axis=0))\n",
    "    \n",
    "feature_clip = np.array(feature_clip)\n",
    "print(feature_clip.shape, key_clip.shape)\n",
    "\n",
    "key_clip = np.array([str(k, 'utf-8') for k in key_clip])\n",
    "key_clip"
   ]
  },
  {
   "cell_type": "code",
   "execution_count": 18,
   "metadata": {},
   "outputs": [
    {
     "name": "stdout",
     "output_type": "stream",
     "text": [
      "(20000, 20) (20000, 20) (20000,)\n"
     ]
    }
   ],
   "source": [
    "# key-label map using the information from the dataset source\n",
    "data_root = '/import/c4dm-datasets/openmic-2018/openmic-2018/'\n",
    "\n",
    "np_load_old = np.load   # save np.load\n",
    "np.load = lambda *a,**k: np_load_old(*a, allow_pickle=True,**k)   # modify the default parameters of np.load\n",
    "\n",
    "Ytrue = np.load(os.path.join(data_root, 'openmic-2018.npz'))['Y_true']\n",
    "Ymask = np.load(os.path.join(data_root, 'openmic-2018.npz'))['Y_mask']\n",
    "sample_key = np.load(os.path.join(data_root, 'openmic-2018.npz'))['sample_key']\n",
    "\n",
    "np.load = np_load_old   # restore np.load for future normal usage\n",
    "del(np_load_old)\n",
    "\n",
    "print(Ytrue.shape, Ymask.shape, sample_key.shape)"
   ]
  },
  {
   "cell_type": "code",
   "execution_count": 19,
   "metadata": {},
   "outputs": [
    {
     "data": {
      "application/vnd.jupyter.widget-view+json": {
       "model_id": "c628dcd8f5564983b27eb545f4a6440e",
       "version_major": 2,
       "version_minor": 0
      },
      "text/plain": [
       "  0%|          | 0/20000 [00:00<?, ?it/s]"
      ]
     },
     "metadata": {},
     "output_type": "display_data"
    },
    {
     "name": "stdout",
     "output_type": "stream",
     "text": [
      "(20000, 512) (20000, 20) (20000, 20)\n"
     ]
    }
   ],
   "source": [
    "Y_true = []\n",
    "Y_mask = []\n",
    "\n",
    "for key in tqdm(key_clip):\n",
    "    Y_true.append(Ytrue[sample_key==key])\n",
    "    Y_mask.append(Ymask[sample_key==key])\n",
    "    \n",
    "Y_true = np.squeeze(np.array(Y_true))\n",
    "Y_mask = np.squeeze(np.array(Y_mask))\n",
    "\n",
    "X = feature_clip\n",
    "del(feature_clip)\n",
    "\n",
    "print(X.shape, Y_true.shape, Y_mask.shape)"
   ]
  },
  {
   "cell_type": "code",
   "execution_count": 20,
   "metadata": {},
   "outputs": [
    {
     "name": "stdout",
     "output_type": "stream",
     "text": [
      "# Train: 14915,  # Test: 5085\n"
     ]
    }
   ],
   "source": [
    "# train-test split\n",
    "split_train = pd.read_csv('openmic2018_train.csv', header=None, squeeze=True)\n",
    "split_test = pd.read_csv('openmic2018_test.csv', header=None, squeeze=True)\n",
    "\n",
    "print('# Train: {},  # Test: {}'.format(len(split_train), len(split_test)))\n",
    "\n",
    "train_set = set(split_train)\n",
    "test_set = set(split_test)"
   ]
  },
  {
   "cell_type": "code",
   "execution_count": 21,
   "metadata": {},
   "outputs": [],
   "source": [
    "idx_train, idx_test = [], []\n",
    "\n",
    "for idx, n in enumerate(key_clip):\n",
    "    if n in train_set:\n",
    "        idx_train.append(idx)\n",
    "    elif n in test_set:\n",
    "        idx_test.append(idx)\n",
    "    else:\n",
    "        raise RuntimeError('Unknown sample key={}! Abort!'.format(key_clip[n]))\n",
    "        \n",
    "idx_train = np.asarray(idx_train)\n",
    "idx_test = np.asarray(idx_test)"
   ]
  },
  {
   "cell_type": "code",
   "execution_count": 22,
   "metadata": {},
   "outputs": [
    {
     "name": "stdout",
     "output_type": "stream",
     "text": [
      "(14915, 512)\n",
      "(5085, 512)\n"
     ]
    }
   ],
   "source": [
    "X_train = X[idx_train]\n",
    "X_test = X[idx_test]\n",
    "\n",
    "Y_true_train = Y_true[idx_train]\n",
    "Y_true_test = Y_true[idx_test]\n",
    "\n",
    "Y_mask_train = Y_mask[idx_train]\n",
    "Y_mask_test = Y_mask[idx_test]\n",
    "\n",
    "print(X_train.shape); print(X_test.shape)"
   ]
  },
  {
   "cell_type": "code",
   "execution_count": 23,
   "metadata": {},
   "outputs": [
    {
     "name": "stdout",
     "output_type": "stream",
     "text": [
      "----------------------------------------------------\n",
      "cello\n",
      "\tTEST\n",
      "              precision    recall  f1-score   support\n",
      "\n",
      "       False       0.84      0.79      0.81       259\n",
      "        True       0.78      0.82      0.80       226\n",
      "\n",
      "    accuracy                           0.81       485\n",
      "   macro avg       0.81      0.81      0.81       485\n",
      "weighted avg       0.81      0.81      0.81       485\n",
      "\n",
      "----------------------------------------------------\n",
      "clarinet\n",
      "\tTEST\n",
      "              precision    recall  f1-score   support\n",
      "\n",
      "       False       0.89      0.60      0.72       503\n",
      "        True       0.33      0.73      0.46       137\n",
      "\n",
      "    accuracy                           0.63       640\n",
      "   macro avg       0.61      0.67      0.59       640\n",
      "weighted avg       0.77      0.63      0.66       640\n",
      "\n",
      "----------------------------------------------------\n",
      "flute\n",
      "\tTEST\n",
      "              precision    recall  f1-score   support\n",
      "\n",
      "       False       0.85      0.60      0.71       387\n",
      "        True       0.47      0.77      0.58       175\n",
      "\n",
      "    accuracy                           0.65       562\n",
      "   macro avg       0.66      0.69      0.64       562\n",
      "weighted avg       0.73      0.65      0.67       562\n",
      "\n",
      "----------------------------------------------------\n",
      "guitar\n",
      "\tTEST\n",
      "              precision    recall  f1-score   support\n",
      "\n",
      "       False       0.92      0.97      0.94       150\n",
      "        True       0.98      0.95      0.97       286\n",
      "\n",
      "    accuracy                           0.96       436\n",
      "   macro avg       0.95      0.96      0.95       436\n",
      "weighted avg       0.96      0.96      0.96       436\n",
      "\n",
      "----------------------------------------------------\n",
      "organ\n",
      "\tTEST\n",
      "              precision    recall  f1-score   support\n",
      "\n",
      "       False       0.87      0.79      0.83       310\n",
      "        True       0.56      0.70      0.62       121\n",
      "\n",
      "    accuracy                           0.76       431\n",
      "   macro avg       0.72      0.74      0.73       431\n",
      "weighted avg       0.78      0.76      0.77       431\n",
      "\n",
      "----------------------------------------------------\n",
      "piano\n",
      "\tTEST\n",
      "              precision    recall  f1-score   support\n",
      "\n",
      "       False       0.94      0.89      0.91       130\n",
      "        True       0.95      0.97      0.96       285\n",
      "\n",
      "    accuracy                           0.95       415\n",
      "   macro avg       0.94      0.93      0.94       415\n",
      "weighted avg       0.95      0.95      0.95       415\n",
      "\n",
      "----------------------------------------------------\n",
      "saxophone\n",
      "\tTEST\n",
      "              precision    recall  f1-score   support\n",
      "\n",
      "       False       0.84      0.77      0.80       324\n",
      "        True       0.77      0.84      0.81       305\n",
      "\n",
      "    accuracy                           0.80       629\n",
      "   macro avg       0.80      0.80      0.80       629\n",
      "weighted avg       0.81      0.80      0.80       629\n",
      "\n",
      "----------------------------------------------------\n",
      "trumpet\n",
      "\tTEST\n",
      "              precision    recall  f1-score   support\n",
      "\n",
      "       False       0.85      0.78      0.81       467\n",
      "        True       0.71      0.80      0.75       318\n",
      "\n",
      "    accuracy                           0.79       785\n",
      "   macro avg       0.78      0.79      0.78       785\n",
      "weighted avg       0.79      0.79      0.79       785\n",
      "\n",
      "----------------------------------------------------\n",
      "violin\n",
      "\tTEST\n",
      "              precision    recall  f1-score   support\n",
      "\n",
      "       False       0.81      0.80      0.81       237\n",
      "        True       0.88      0.89      0.88       394\n",
      "\n",
      "    accuracy                           0.85       631\n",
      "   macro avg       0.84      0.84      0.84       631\n",
      "weighted avg       0.85      0.85      0.85       631\n",
      "\n",
      "----------------------------------------------------\n",
      "voice\n",
      "\tTEST\n",
      "              precision    recall  f1-score   support\n",
      "\n",
      "       False       0.88      0.89      0.88       150\n",
      "        True       0.92      0.92      0.92       224\n",
      "\n",
      "    accuracy                           0.91       374\n",
      "   macro avg       0.90      0.90      0.90       374\n",
      "weighted avg       0.91      0.91      0.91       374\n",
      "\n"
     ]
    }
   ],
   "source": [
    "# This part of the code follows the baseline model for instrument recognition on the openmic dataset:\n",
    "# https://github.com/cosmir/openmic-2018/blob/master/examples/modeling-baseline.ipynb\n",
    "train_set_name, test_set_name = 'openmic', 'openmic'\n",
    "\n",
    "# use a dictionary to include the classifier for each instrument trained on the dataset based on the embedding\n",
    "globals()['models_'+train_set_name] = dict()   \n",
    "\n",
    "# We'll iterate over all istrument classes, and fit a model for each one\n",
    "# After training, we'll print a classification report for each instrument\n",
    "for instrument in class_align:\n",
    "    \n",
    "    # Map the instrument name to its column number\n",
    "    inst_num = class_map[instrument]\n",
    "    \n",
    "    # First, sub-sample the data: we need to select down to the data for which we have annotations\n",
    "    # This is what the mask arrays are for\n",
    "    train_inst = Y_mask_train[:, inst_num]\n",
    "    test_inst = Y_mask_test[:, inst_num]\n",
    "    \n",
    "    # Here, we're using the Y_mask_train array to slice out only the training examples\n",
    "    # for which we have annotations for the given class\n",
    "    X_train_inst = X_train[train_inst]\n",
    "    \n",
    "    # Again, we slice the labels to the annotated examples\n",
    "    # We thresold the label likelihoods at 0.5 to get binary labels\n",
    "    Y_true_train_inst = Y_true_train[train_inst, inst_num] >= 0.5\n",
    "    \n",
    "    # Repeat the above slicing and dicing but for the test set\n",
    "    X_test_inst = X_test[test_inst]\n",
    "    Y_true_test_inst = Y_true_test[test_inst, inst_num] >= 0.5\n",
    "\n",
    "    # initialize and a logistic regression model\n",
    "    LRmodel = LogisticRegression(random_state=0, penalty='l2', solver='liblinear', class_weight='balanced')\n",
    "    \n",
    "    # hyperparameter tunning for logistic regression model\n",
    "    param_grid = {'C': [0.001, 0.01, 0.1, 1, 10] }  \n",
    "    scoring = 'f1'; cv = 3\n",
    "    clf =  GridSearchCV(LRmodel, param_grid=param_grid, cv=cv, scoring=scoring)    \n",
    "    \n",
    "    # fit the model\n",
    "    clf.fit(X_train_inst, Y_true_train_inst)\n",
    "\n",
    "    # predict\n",
    "    Y_pred_test_inst = clf.predict(X_test_inst)\n",
    "    \n",
    "    # print result for each instrument\n",
    "    print('-' * 52); print(instrument); print('\\tTEST')\n",
    "    print(classification_report(Y_true_test_inst, Y_pred_test_inst))\n",
    "    \n",
    "    # store the classifier in the model dictionary\n",
    "    globals()['models_'+train_set_name][instrument] = clf\n",
    "    \n",
    "    #########################  record result of each split  ###############################\n",
    "    report = pd.DataFrame(classification_report(Y_true_test_inst, Y_pred_test_inst, output_dict=True))['True']\n",
    "    result_inst = [instrument, train_set_name, test_set_name, report['precision'], report['recall'],\n",
    "                   report['f1-score'], report['support']]   \n",
    "    result_all = result_all.append(pd.DataFrame(np.expand_dims(np.array(result_inst), axis=0), \n",
    "                                                columns=result_all.columns), ignore_index=True)"
   ]
  },
  {
   "cell_type": "markdown",
   "metadata": {},
   "source": [
    "# irmas->openmic"
   ]
  },
  {
   "cell_type": "code",
   "execution_count": 24,
   "metadata": {},
   "outputs": [
    {
     "name": "stdout",
     "output_type": "stream",
     "text": [
      "----------------------------------------------------\n",
      "cello\n",
      "\tTEST\n",
      "              precision    recall  f1-score   support\n",
      "\n",
      "       False       0.55      0.93      0.69       259\n",
      "        True       0.59      0.12      0.20       226\n",
      "\n",
      "    accuracy                           0.55       485\n",
      "   macro avg       0.57      0.52      0.44       485\n",
      "weighted avg       0.57      0.55      0.46       485\n",
      "\n",
      "----------------------------------------------------\n",
      "clarinet\n",
      "\tTEST\n",
      "              precision    recall  f1-score   support\n",
      "\n",
      "       False       0.80      0.91      0.85       503\n",
      "        True       0.30      0.14      0.19       137\n",
      "\n",
      "    accuracy                           0.75       640\n",
      "   macro avg       0.55      0.52      0.52       640\n",
      "weighted avg       0.69      0.75      0.71       640\n",
      "\n",
      "----------------------------------------------------\n",
      "flute\n",
      "\tTEST\n",
      "              precision    recall  f1-score   support\n",
      "\n",
      "       False       0.69      1.00      0.82       387\n",
      "        True       1.00      0.01      0.01       175\n",
      "\n",
      "    accuracy                           0.69       562\n",
      "   macro avg       0.84      0.50      0.41       562\n",
      "weighted avg       0.79      0.69      0.57       562\n",
      "\n",
      "----------------------------------------------------\n",
      "guitar\n",
      "\tTEST\n",
      "              precision    recall  f1-score   support\n",
      "\n",
      "       False       0.65      0.95      0.77       150\n",
      "        True       0.96      0.74      0.84       286\n",
      "\n",
      "    accuracy                           0.81       436\n",
      "   macro avg       0.81      0.84      0.80       436\n",
      "weighted avg       0.86      0.81      0.81       436\n",
      "\n",
      "----------------------------------------------------\n",
      "organ\n",
      "\tTEST\n",
      "              precision    recall  f1-score   support\n",
      "\n",
      "       False       0.79      0.68      0.73       310\n",
      "        True       0.39      0.52      0.45       121\n",
      "\n",
      "    accuracy                           0.64       431\n",
      "   macro avg       0.59      0.60      0.59       431\n",
      "weighted avg       0.67      0.64      0.65       431\n",
      "\n",
      "----------------------------------------------------\n",
      "piano\n",
      "\tTEST\n",
      "              precision    recall  f1-score   support\n",
      "\n",
      "       False       0.40      0.99      0.57       130\n",
      "        True       0.99      0.32      0.49       285\n",
      "\n",
      "    accuracy                           0.53       415\n",
      "   macro avg       0.69      0.66      0.53       415\n",
      "weighted avg       0.80      0.53      0.51       415\n",
      "\n",
      "----------------------------------------------------\n",
      "saxophone\n",
      "\tTEST\n",
      "              precision    recall  f1-score   support\n",
      "\n",
      "       False       0.52      0.98      0.68       324\n",
      "        True       0.70      0.06      0.11       305\n",
      "\n",
      "    accuracy                           0.53       629\n",
      "   macro avg       0.61      0.52      0.40       629\n",
      "weighted avg       0.61      0.53      0.41       629\n",
      "\n",
      "----------------------------------------------------\n",
      "trumpet\n",
      "\tTEST\n",
      "              precision    recall  f1-score   support\n",
      "\n",
      "       False       0.60      1.00      0.75       467\n",
      "        True       0.80      0.01      0.02       318\n",
      "\n",
      "    accuracy                           0.60       785\n",
      "   macro avg       0.70      0.51      0.39       785\n",
      "weighted avg       0.68      0.60      0.45       785\n",
      "\n",
      "----------------------------------------------------\n",
      "violin\n",
      "\tTEST\n",
      "              precision    recall  f1-score   support\n",
      "\n",
      "       False       0.67      0.61      0.64       237\n",
      "        True       0.78      0.82      0.80       394\n",
      "\n",
      "    accuracy                           0.74       631\n",
      "   macro avg       0.72      0.71      0.72       631\n",
      "weighted avg       0.74      0.74      0.74       631\n",
      "\n",
      "----------------------------------------------------\n",
      "voice\n",
      "\tTEST\n",
      "              precision    recall  f1-score   support\n",
      "\n",
      "       False       0.65      0.97      0.78       150\n",
      "        True       0.97      0.66      0.78       224\n",
      "\n",
      "    accuracy                           0.78       374\n",
      "   macro avg       0.81      0.81      0.78       374\n",
      "weighted avg       0.84      0.78      0.78       374\n",
      "\n"
     ]
    }
   ],
   "source": [
    "train_set_name, test_set_name = 'irmas', 'openmic' \n",
    "\n",
    "# iterate over all istrument classes, and fit a model for each one\n",
    "for instrument in class_align:\n",
    "    \n",
    "    # Map the instrument name to its column number\n",
    "    inst_num = class_map[instrument]\n",
    "    \n",
    "    # First, sub-sample the data: we need to select down to the data for which we have annotations \n",
    "    # This is what the mask arrays are for\n",
    "    test_inst = Y_mask_test[:, inst_num]\n",
    "\n",
    "    # Repeat the above slicing and dicing but for the test set\n",
    "    X_test_inst = X_test[test_inst]\n",
    "    Y_true_test_inst = Y_true_test[test_inst, inst_num] >= 0.5\n",
    "\n",
    "    # Finally, we'll evaluate the classifier\n",
    "    Y_pred_test_inst =  globals()['models_'+train_set_name][instrument].predict(X_test_inst)\n",
    "    \n",
    "    # print result for each instrument\n",
    "    print('-' * 52); print(instrument); print('\\tTEST')\n",
    "    print(classification_report(Y_true_test_inst, Y_pred_test_inst))\n",
    "    \n",
    "    #########################  record result of each split  ###############################\n",
    "    report = pd.DataFrame(classification_report(Y_true_test_inst, Y_pred_test_inst, output_dict=True))['True']\n",
    "    result_inst = [instrument, train_set_name, test_set_name, report['precision'], report['recall'],\n",
    "                   report['f1-score'], report['support']]   \n",
    "    result_all = result_all.append(pd.DataFrame(np.expand_dims(np.array(result_inst), axis=0), \n",
    "                                                columns=result_all.columns), ignore_index=True)"
   ]
  },
  {
   "cell_type": "markdown",
   "metadata": {},
   "source": [
    "# openmic->irmas"
   ]
  },
  {
   "cell_type": "code",
   "execution_count": 25,
   "metadata": {},
   "outputs": [
    {
     "name": "stdout",
     "output_type": "stream",
     "text": [
      "(167625, 512) (167625,)\n",
      "(6705,)\n"
     ]
    },
    {
     "data": {
      "application/vnd.jupyter.widget-view+json": {
       "model_id": "a9b3e5d4d3d64a7f82e1aad6cee6550c",
       "version_major": 2,
       "version_minor": 0
      },
      "text/plain": [
       "  0%|          | 0/6705 [00:00<?, ?it/s]"
      ]
     },
     "metadata": {},
     "output_type": "display_data"
    },
    {
     "name": "stdout",
     "output_type": "stream",
     "text": [
      "(6705, 512) (6705,)\n"
     ]
    }
   ],
   "source": [
    "# irmas: openl3 embedding\n",
    "feature = np.array(embeddings['irmas']['openl3']['features'])\n",
    "keys_ori = np.array(embeddings['irmas']['openl3']['keys'])\n",
    "print(feature.shape, keys_ori.shape)\n",
    "\n",
    "key_clip = np.unique(keys_ori)\n",
    "print(key_clip.shape)\n",
    "\n",
    "feature_clip = []\n",
    "\n",
    "for key in tqdm(key_clip):\n",
    "    feature_clip.append(np.mean(feature[keys_ori[:]==key,:],axis=0))\n",
    "    \n",
    "feature_clip = np.array(feature_clip)\n",
    "print(feature_clip.shape, key_clip.shape)"
   ]
  },
  {
   "cell_type": "code",
   "execution_count": 26,
   "metadata": {},
   "outputs": [],
   "source": [
    "key_train = list(pd.read_csv('irmas_train.csv', header=None, squeeze=True))\n",
    "key_test = list(pd.read_csv('irmas_test.csv', header=None, squeeze=True))\n",
    "\n",
    "idx_train, idx_test = [], []\n",
    "\n",
    "for k in range(len(key_clip)):\n",
    "    if str(key_clip[k]) in key_train:\n",
    "        idx_train.append(k)\n",
    "    elif str(key_clip[k]) in key_test:\n",
    "        idx_test.append(k)\n",
    "    else:\n",
    "        raise RuntimeError('Unknown sample key={}! Abort!'.format(key_clip[k]))\n",
    "        \n",
    "idx_train = np.asarray(idx_train)\n",
    "idx_test = np.asarray(idx_test)"
   ]
  },
  {
   "cell_type": "code",
   "execution_count": 27,
   "metadata": {},
   "outputs": [
    {
     "data": {
      "text/plain": [
       "array(['cello', 'clarinet', 'flute', 'guitar', 'organ', 'piano',\n",
       "       'saxophone', 'trumpet', 'violin', 'voice'], dtype='<U9')"
      ]
     },
     "execution_count": 27,
     "metadata": {},
     "output_type": "execute_result"
    }
   ],
   "source": [
    "keys = np.array([str(k, 'utf-8') for k in key_clip])\n",
    "keys = [key[key.index('[')+1:key.index(']')] for key in keys]\n",
    "\n",
    "for key in class_align:\n",
    "    keys = [key if x in class_align[key] else x for x in keys]\n",
    "    \n",
    "keys = np.array(keys)\n",
    "np.unique(keys)"
   ]
  },
  {
   "cell_type": "code",
   "execution_count": 28,
   "metadata": {},
   "outputs": [
    {
     "name": "stdout",
     "output_type": "stream",
     "text": [
      "(3910, 512)\n",
      "(2795, 512)\n"
     ]
    }
   ],
   "source": [
    "X_train = feature_clip[idx_train,:]\n",
    "X_test = feature_clip[idx_test]\n",
    "\n",
    "Y_true_train = keys[idx_train]\n",
    "Y_true_test = keys[idx_test]\n",
    "\n",
    "print(X_train.shape)\n",
    "print(X_test.shape)"
   ]
  },
  {
   "cell_type": "code",
   "execution_count": 29,
   "metadata": {},
   "outputs": [
    {
     "name": "stdout",
     "output_type": "stream",
     "text": [
      "----------------------------------------------------\n",
      "cello\n",
      "\tTEST\n",
      "              precision    recall  f1-score   support\n",
      "\n",
      "       False       1.00      0.69      0.81      2765\n",
      "        True       0.03      0.97      0.06        30\n",
      "\n",
      "    accuracy                           0.69      2795\n",
      "   macro avg       0.52      0.83      0.44      2795\n",
      "weighted avg       0.99      0.69      0.81      2795\n",
      "\n",
      "----------------------------------------------------\n",
      "clarinet\n",
      "\tTEST\n",
      "              precision    recall  f1-score   support\n",
      "\n",
      "       False       1.00      0.31      0.48      2744\n",
      "        True       0.03      1.00      0.05        51\n",
      "\n",
      "    accuracy                           0.32      2795\n",
      "   macro avg       0.51      0.66      0.26      2795\n",
      "weighted avg       0.98      0.32      0.47      2795\n",
      "\n",
      "----------------------------------------------------\n",
      "flute\n",
      "\tTEST\n",
      "              precision    recall  f1-score   support\n",
      "\n",
      "       False       0.94      0.57      0.71      2388\n",
      "        True       0.24      0.81      0.37       407\n",
      "\n",
      "    accuracy                           0.60      2795\n",
      "   macro avg       0.59      0.69      0.54      2795\n",
      "weighted avg       0.84      0.60      0.66      2795\n",
      "\n",
      "----------------------------------------------------\n",
      "guitar\n",
      "\tTEST\n",
      "              precision    recall  f1-score   support\n",
      "\n",
      "       False       0.98      0.66      0.79      2316\n",
      "        True       0.36      0.92      0.52       479\n",
      "\n",
      "    accuracy                           0.71      2795\n",
      "   macro avg       0.67      0.79      0.65      2795\n",
      "weighted avg       0.87      0.71      0.74      2795\n",
      "\n",
      "----------------------------------------------------\n",
      "organ\n",
      "\tTEST\n",
      "              precision    recall  f1-score   support\n",
      "\n",
      "       False       1.00      0.90      0.95      2792\n",
      "        True       0.00      0.00      0.00         3\n",
      "\n",
      "    accuracy                           0.90      2795\n",
      "   macro avg       0.50      0.45      0.47      2795\n",
      "weighted avg       1.00      0.90      0.95      2795\n",
      "\n",
      "----------------------------------------------------\n",
      "piano\n",
      "\tTEST\n",
      "              precision    recall  f1-score   support\n",
      "\n",
      "       False       0.96      0.61      0.75      2212\n",
      "        True       0.38      0.91      0.54       583\n",
      "\n",
      "    accuracy                           0.67      2795\n",
      "   macro avg       0.67      0.76      0.64      2795\n",
      "weighted avg       0.84      0.67      0.70      2795\n",
      "\n",
      "----------------------------------------------------\n",
      "saxophone\n",
      "\tTEST\n",
      "              precision    recall  f1-score   support\n",
      "\n",
      "       False       0.94      0.46      0.62      2289\n",
      "        True       0.26      0.88      0.40       506\n",
      "\n",
      "    accuracy                           0.53      2795\n",
      "   macro avg       0.60      0.67      0.51      2795\n",
      "weighted avg       0.82      0.53      0.58      2795\n",
      "\n",
      "----------------------------------------------------\n",
      "trumpet\n",
      "\tTEST\n",
      "              precision    recall  f1-score   support\n",
      "\n",
      "       False       0.97      0.40      0.56      2236\n",
      "        True       0.28      0.95      0.44       559\n",
      "\n",
      "    accuracy                           0.51      2795\n",
      "   macro avg       0.63      0.68      0.50      2795\n",
      "weighted avg       0.83      0.51      0.54      2795\n",
      "\n",
      "----------------------------------------------------\n",
      "violin\n",
      "\tTEST\n",
      "              precision    recall  f1-score   support\n",
      "\n",
      "       False       1.00      0.79      0.88      2738\n",
      "        True       0.09      0.95      0.16        57\n",
      "\n",
      "    accuracy                           0.80      2795\n",
      "   macro avg       0.54      0.87      0.52      2795\n",
      "weighted avg       0.98      0.80      0.87      2795\n",
      "\n",
      "----------------------------------------------------\n",
      "voice\n",
      "\tTEST\n",
      "              precision    recall  f1-score   support\n",
      "\n",
      "       False       1.00      0.81      0.89      2675\n",
      "        True       0.19      1.00      0.32       120\n",
      "\n",
      "    accuracy                           0.82      2795\n",
      "   macro avg       0.60      0.90      0.61      2795\n",
      "weighted avg       0.97      0.82      0.87      2795\n",
      "\n"
     ]
    }
   ],
   "source": [
    "train_set_name, test_set_name = 'openmic', 'irmas'\n",
    "\n",
    "# iterate over all istrument classes, and fit a model for each one\n",
    "for instrument in class_align:\n",
    "    \n",
    "    # get the training and testing labels for each instrument\n",
    "    Y_true_test_inst = Y_true_test==instrument\n",
    "\n",
    "    # evaluate the classifier\n",
    "    Y_pred_test_inst =  globals()['models_'+train_set_name][instrument].predict(X_test)\n",
    "    \n",
    "    # print result for each instrument\n",
    "    print('-' * 52); print(instrument); print('\\tTEST')\n",
    "    print(classification_report(Y_true_test_inst, Y_pred_test_inst))\n",
    "    \n",
    "    #########################  record result of each split  ###############################\n",
    "    report = pd.DataFrame(classification_report(Y_true_test_inst, Y_pred_test_inst, output_dict=True))['True']\n",
    "    result_inst = [instrument, train_set_name, test_set_name, report['precision'], report['recall'],\n",
    "                   report['f1-score'], report['support']]   \n",
    "    result_all = result_all.append(pd.DataFrame(np.expand_dims(np.array(result_inst), axis=0), \n",
    "                                                columns=result_all.columns), ignore_index=True)"
   ]
  },
  {
   "cell_type": "markdown",
   "metadata": {},
   "source": [
    "# Plot result for each instrument"
   ]
  },
  {
   "cell_type": "code",
   "execution_count": 30,
   "metadata": {},
   "outputs": [],
   "source": [
    "# save all result into a csv file\n",
    "result_all.to_csv('OpenL3_crossdataset_result.csv', index=False)"
   ]
  },
  {
   "cell_type": "code",
   "execution_count": 31,
   "metadata": {},
   "outputs": [
    {
     "name": "stdout",
     "output_type": "stream",
     "text": [
      "PRF of Vggish averaged over all instruments for each case:\n",
      "openmic->openmic:[0.74, 0.84, 0.78]\n",
      "irmas->openmic:[0.75, 0.34, 0.39]\n",
      "irmas->irmas:[0.48, 0.66, 0.35]\n",
      "openmic->irmas:[0.19, 0.84, 0.29]\n"
     ]
    }
   ],
   "source": [
    "# check the PRF averaged over all instruments for each case:\n",
    "\n",
    "train_irmas = result_all[result_all['train_set']=='irmas']\n",
    "train_openmic = result_all[result_all['train_set']=='openmic']\n",
    "\n",
    "irmas_irmas = train_irmas[train_irmas['test_set']=='irmas']\n",
    "irmas_openmic = train_irmas[train_irmas['test_set']=='openmic']\n",
    "openmic_openmic = train_openmic[train_openmic['test_set']=='openmic']\n",
    "openmic_irmas = train_openmic[train_openmic['test_set']=='irmas']\n",
    "\n",
    "print('PRF of Vggish averaged over all instruments for each case:')\n",
    "print('openmic->openmic:{}'.format(list(openmic_openmic[['precision', 'recall', 'f1-score']].astype(float).mean(axis=0).round(2))))\n",
    "print('irmas->openmic:{}'.format(list(irmas_openmic[['precision', 'recall', 'f1-score']].astype(float).mean(axis=0).round(2))))\n",
    "print('irmas->irmas:{}'.format(list(irmas_irmas[['precision', 'recall', 'f1-score']].astype(float).mean(axis=0).round(2))))\n",
    "print('openmic->irmas:{}'.format(list(openmic_irmas[['precision', 'recall', 'f1-score']].astype(float).mean(axis=0).round(2))))"
   ]
  },
  {
   "cell_type": "code",
   "execution_count": 32,
   "metadata": {},
   "outputs": [
    {
     "data": {
      "text/plain": [
       "<matplotlib.legend.Legend at 0x7fdd35789c50>"
      ]
     },
     "execution_count": 32,
     "metadata": {},
     "output_type": "execute_result"
    },
    {
     "data": {
      "image/png": "[encoded data removed]",
      "text/plain": [
       "<Figure size 1008x360 with 1 Axes>"
      ]
     },
     "metadata": {
      "needs_background": "light"
     },
     "output_type": "display_data"
    }
   ],
   "source": [
    "plt.rcParams.update({'font.size':13})\n",
    "plt.figure(figsize=(14,5))\n",
    " \n",
    "barWidth = 0.15  # width of the bars\n",
    "\n",
    "# Set bars\n",
    "bars1 = [float(irmas_irmas[irmas_irmas['instrument']==inst]['f1-score'].values[0]) for inst in class_align]\n",
    "bars2 = [float(irmas_openmic[irmas_openmic['instrument']==inst]['f1-score'].values[0]) for inst in class_align]\n",
    "bars3 = [float(openmic_openmic[openmic_openmic['instrument']==inst]['f1-score'].values[0]) for inst in class_align]\n",
    "bars4 = [float(openmic_irmas[openmic_irmas['instrument']==inst]['f1-score'].values[0]) for inst in class_align]\n",
    "\n",
    "# The x position of bars\n",
    "r1 = np.arange(len(bars1))\n",
    "r2 = [x + barWidth for x in r1]\n",
    "r3 = [x + 2*barWidth for x in r1]\n",
    "r4 = [x + 3*barWidth for x in r1]\n",
    " \n",
    "# Create bars\n",
    "plt.bar(r1, bars1, width = barWidth, capsize=7, label='Openl3: irmas->irmas')\n",
    "plt.bar(r2, bars2, width = barWidth, color='skyblue', capsize=7, label='Openl3: irmas->openmic')\n",
    "plt.bar(r3, bars3, width = barWidth, color='#FFA500', capsize=7, label='Openl3: openmic->openmic')\n",
    "plt.bar(r4, bars4, width = barWidth, color='#FFD39B', capsize=7, label='Openl3: openmic->irmas')\n",
    " \n",
    "plt.xticks([r + barWidth for r in range(len(bars1))], [inst for inst in class_align])\n",
    "plt.ylabel('height'); plt.legend()"
   ]
  }
 ],
 "metadata": {
  "kernelspec": {
   "display_name": "Python 3",
   "language": "python",
   "name": "python3"
  },
  "language_info": {
   "codemirror_mode": {
    "name": "ipython",
    "version": 3
   },
   "file_extension": ".py",
   "mimetype": "text/x-python",
   "name": "python",
   "nbconvert_exporter": "python",
   "pygments_lexer": "ipython3",
   "version": "3.7.11"
  },
  "toc": {
   "base_numbering": 1,
   "nav_menu": {},
   "number_sections": true,
   "sideBar": false,
   "skip_h1_title": false,
   "title_cell": "Table of Contents",
   "title_sidebar": "Contents",
   "toc_cell": false,
   "toc_position": {
    "height": "621.778px",
    "left": "21px",
    "top": "111.139px",
    "width": "165px"
   },
   "toc_section_display": true,
   "toc_window_display": true
  }
 },
 "nbformat": 4,
 "nbformat_minor": 2
}
