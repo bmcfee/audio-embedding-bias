{
 "cells": [
  {
   "cell_type": "code",
   "execution_count": 2,
   "metadata": {},
   "outputs": [],
   "source": [
    "%matplotlib inline\n",
    "import matplotlib.pyplot as plt\n",
    "import numpy as np\n",
    "import librosa\n",
    "from tqdm import tqdm_notebook as tqdm\n",
    "import json\n",
    "import pandas as pd\n",
    "import os\n",
    "import h5py\n",
    "import warnings\n",
    "warnings.filterwarnings('ignore')\n",
    "\n",
    "from sklearn.linear_model import LogisticRegression\n",
    "from sklearn.metrics import classification_report"
   ]
  },
  {
   "cell_type": "markdown",
   "metadata": {},
   "source": [
    "# Load embeddings and align classes"
   ]
  },
  {
   "cell_type": "code",
   "execution_count": 3,
   "metadata": {},
   "outputs": [
    {
     "name": "stdout",
     "output_type": "stream",
     "text": [
      "irmas\n",
      "irmas/openl3\n",
      "irmas/openl3/features\n",
      "irmas/openl3/keys\n",
      "irmas/vggish\n",
      "irmas/vggish/features\n",
      "irmas/vggish/keys\n",
      "openmic\n",
      "openmic/openl3\n",
      "openmic/openl3/features\n",
      "openmic/openl3/keys\n",
      "openmic/vggish\n",
      "openmic/vggish/features\n",
      "openmic/vggish/keys\n"
     ]
    }
   ],
   "source": [
    "embeddings = h5py.File('embeddings.h5', 'r')\n",
    "\n",
    "def printname(name):\n",
    "    print(name)\n",
    "embeddings.visit(printname)"
   ]
  },
  {
   "cell_type": "code",
   "execution_count": 4,
   "metadata": {},
   "outputs": [
    {
     "data": {
      "text/plain": [
       "{'cello': 3,\n",
       " 'clarinet': 4,\n",
       " 'flute': 7,\n",
       " 'guitar': 8,\n",
       " 'organ': 11,\n",
       " 'piano': 12,\n",
       " 'saxophone': 13,\n",
       " 'trumpet': 16,\n",
       " 'violin': 18,\n",
       " 'voice': 19}"
      ]
     },
     "execution_count": 4,
     "metadata": {},
     "output_type": "execute_result"
    }
   ],
   "source": [
    "with open('class-map-10.json', 'r') as f:\n",
    "    class_map = json.load(f)\n",
    "    \n",
    "class_map"
   ]
  },
  {
   "cell_type": "code",
   "execution_count": 5,
   "metadata": {},
   "outputs": [],
   "source": [
    "class_align = {'cello': 'cel',\n",
    "               'clarinet': 'cla',\n",
    "               'flute': 'flu',\n",
    "               'guitar': ['gac', 'gel'],\n",
    "               'organ': 'org',\n",
    "               'piano': 'pia',\n",
    "               'saxophone': 'sax',\n",
    "               'trumpet': 'tru',\n",
    "               'violin': 'vio',\n",
    "               'voice': 'voi'}"
   ]
  },
  {
   "cell_type": "markdown",
   "metadata": {},
   "source": [
    "# irmas->irmas"
   ]
  },
  {
   "cell_type": "code",
   "execution_count": 6,
   "metadata": {},
   "outputs": [
    {
     "name": "stdout",
     "output_type": "stream",
     "text": [
      "(167625, 512) (167625,)\n",
      "(6705,)\n"
     ]
    }
   ],
   "source": [
    "# irmas: openl3 embedding\n",
    "feature = np.array(embeddings['irmas']['openl3']['features'])\n",
    "keys_ori = np.array(embeddings['irmas']['openl3']['keys'])\n",
    "print(feature.shape, keys_ori.shape)\n",
    "\n",
    "key_clip = np.unique(keys_ori)\n",
    "print(key_clip.shape)"
   ]
  },
  {
   "cell_type": "code",
   "execution_count": 7,
   "metadata": {},
   "outputs": [
    {
     "data": {
      "text/plain": [
       "array([b'001__[gel][dru][pop_roc]0829__1',\n",
       "       b'001__[gel][dru][pop_roc]0829__2',\n",
       "       b'001__[gel][dru][pop_roc]0829__3', ..., b'[voi][pop_roc]2548__1',\n",
       "       b'[voi][pop_roc]2548__2', b'[voi][pop_roc]2548__3'], dtype=object)"
      ]
     },
     "execution_count": 7,
     "metadata": {},
     "output_type": "execute_result"
    }
   ],
   "source": [
    "key_clip"
   ]
  },
  {
   "cell_type": "code",
   "execution_count": 8,
   "metadata": {},
   "outputs": [
    {
     "data": {
      "application/vnd.jupyter.widget-view+json": {
       "model_id": "bf7c0489f87c4df09a99d8f3dd564939",
       "version_major": 2,
       "version_minor": 0
      },
      "text/plain": [
       "  0%|          | 0/6705 [00:00<?, ?it/s]"
      ]
     },
     "metadata": {},
     "output_type": "display_data"
    },
    {
     "name": "stdout",
     "output_type": "stream",
     "text": [
      "(6705, 512) (6705,)\n"
     ]
    }
   ],
   "source": [
    "feature_clip = []\n",
    "\n",
    "for key in tqdm(key_clip):\n",
    "    feature_clip.append(np.mean(feature[keys_ori[:]==key,:],axis=0))\n",
    "    \n",
    "feature_clip = np.array(feature_clip)\n",
    "print(feature_clip.shape, key_clip.shape)"
   ]
  },
  {
   "cell_type": "code",
   "execution_count": 9,
   "metadata": {},
   "outputs": [],
   "source": [
    "key_train = list(pd.read_csv('irmas_train.csv', header=None, squeeze=True))\n",
    "key_test = list(pd.read_csv('irmas_test.csv', header=None, squeeze=True))"
   ]
  },
  {
   "cell_type": "code",
   "execution_count": 10,
   "metadata": {},
   "outputs": [],
   "source": [
    "# These loops go through all sample keys, and save their row numbers to either idx_train or idx_test\n",
    "idx_train, idx_test = [], []\n",
    "\n",
    "for k in range(len(key_clip)):\n",
    "    if str(key_clip[k]) in key_train:\n",
    "        idx_train.append(k)\n",
    "    elif str(key_clip[k]) in key_test:\n",
    "        idx_test.append(k)\n",
    "    else:\n",
    "        # This should never happen, but better safe than sorry.\n",
    "        raise RuntimeError('Unknown sample key={}! Abort!'.format(key_clip[k]))\n",
    "        \n",
    "# Finally, cast the idx_* arrays to numpy structures\n",
    "idx_train = np.asarray(idx_train)\n",
    "idx_test = np.asarray(idx_test)"
   ]
  },
  {
   "cell_type": "code",
   "execution_count": 11,
   "metadata": {},
   "outputs": [
    {
     "data": {
      "text/plain": [
       "array(['cello', 'clarinet', 'flute', 'guitar', 'organ', 'piano',\n",
       "       'saxophone', 'trumpet', 'violin', 'voice'], dtype='<U9')"
      ]
     },
     "execution_count": 11,
     "metadata": {},
     "output_type": "execute_result"
    }
   ],
   "source": [
    "keys = np.array([str(k, 'utf-8') for k in key_clip])\n",
    "keys = [key[key.index('[')+1:key.index(']')] for key in keys]\n",
    "\n",
    "for key in class_align:\n",
    "    keys = [key if x in class_align[key] else x for x in keys]\n",
    "    \n",
    "keys = np.array(keys)\n",
    "np.unique(keys)"
   ]
  },
  {
   "cell_type": "code",
   "execution_count": 12,
   "metadata": {},
   "outputs": [
    {
     "name": "stdout",
     "output_type": "stream",
     "text": [
      "(3910, 512)\n",
      "(2795, 512)\n"
     ]
    }
   ],
   "source": [
    "# Finally, we use the split indices to partition the features, labels, and masks\n",
    "X_train = feature_clip[idx_train,:]\n",
    "X_test = feature_clip[idx_test]\n",
    "\n",
    "Y_true_train = keys[idx_train]\n",
    "Y_true_test = keys[idx_test]\n",
    "\n",
    "# Print out the sliced shapes as a sanity check\n",
    "print(X_train.shape)\n",
    "print(X_test.shape)"
   ]
  },
  {
   "cell_type": "code",
   "execution_count": 13,
   "metadata": {},
   "outputs": [
    {
     "name": "stdout",
     "output_type": "stream",
     "text": [
      "----------------------------------------------------\n",
      "cello\n",
      "\tTEST\n",
      "              precision    recall  f1-score   support\n",
      "\n",
      "       False       1.00      0.98      0.99      2765\n",
      "        True       0.23      0.67      0.34        30\n",
      "\n",
      "    accuracy                           0.97      2795\n",
      "   macro avg       0.61      0.82      0.66      2795\n",
      "weighted avg       0.99      0.97      0.98      2795\n",
      "\n",
      "----------------------------------------------------\n",
      "clarinet\n",
      "\tTEST\n",
      "              precision    recall  f1-score   support\n",
      "\n",
      "       False       1.00      0.86      0.92      2744\n",
      "        True       0.11      0.88      0.19        51\n",
      "\n",
      "    accuracy                           0.86      2795\n",
      "   macro avg       0.55      0.87      0.56      2795\n",
      "weighted avg       0.98      0.86      0.91      2795\n",
      "\n",
      "----------------------------------------------------\n",
      "flute\n",
      "\tTEST\n",
      "              precision    recall  f1-score   support\n",
      "\n",
      "       False       0.86      1.00      0.93      2388\n",
      "        True       0.95      0.05      0.10       407\n",
      "\n",
      "    accuracy                           0.86      2795\n",
      "   macro avg       0.91      0.53      0.51      2795\n",
      "weighted avg       0.87      0.86      0.80      2795\n",
      "\n",
      "----------------------------------------------------\n",
      "guitar\n",
      "\tTEST\n",
      "              precision    recall  f1-score   support\n",
      "\n",
      "       False       0.92      0.95      0.93      2316\n",
      "        True       0.70      0.59      0.64       479\n",
      "\n",
      "    accuracy                           0.89      2795\n",
      "   macro avg       0.81      0.77      0.79      2795\n",
      "weighted avg       0.88      0.89      0.88      2795\n",
      "\n",
      "----------------------------------------------------\n",
      "organ\n",
      "\tTEST\n",
      "              precision    recall  f1-score   support\n",
      "\n",
      "       False       1.00      0.94      0.97      2792\n",
      "        True       0.02      1.00      0.03         3\n",
      "\n",
      "    accuracy                           0.94      2795\n",
      "   macro avg       0.51      0.97      0.50      2795\n",
      "weighted avg       1.00      0.94      0.97      2795\n",
      "\n",
      "----------------------------------------------------\n",
      "piano\n",
      "\tTEST\n",
      "              precision    recall  f1-score   support\n",
      "\n",
      "       False       0.91      1.00      0.95      2212\n",
      "        True       0.98      0.64      0.77       583\n",
      "\n",
      "    accuracy                           0.92      2795\n",
      "   macro avg       0.95      0.82      0.86      2795\n",
      "weighted avg       0.93      0.92      0.92      2795\n",
      "\n",
      "----------------------------------------------------\n",
      "saxophone\n",
      "\tTEST\n",
      "              precision    recall  f1-score   support\n",
      "\n",
      "       False       0.84      0.96      0.89      2289\n",
      "        True       0.43      0.15      0.22       506\n",
      "\n",
      "    accuracy                           0.81      2795\n",
      "   macro avg       0.63      0.55      0.56      2795\n",
      "weighted avg       0.76      0.81      0.77      2795\n",
      "\n",
      "----------------------------------------------------\n",
      "trumpet\n",
      "\tTEST\n",
      "              precision    recall  f1-score   support\n",
      "\n",
      "       False       0.80      1.00      0.89      2236\n",
      "        True       0.83      0.02      0.04       559\n",
      "\n",
      "    accuracy                           0.80      2795\n",
      "   macro avg       0.82      0.51      0.46      2795\n",
      "weighted avg       0.81      0.80      0.72      2795\n",
      "\n",
      "----------------------------------------------------\n",
      "violin\n",
      "\tTEST\n",
      "              precision    recall  f1-score   support\n",
      "\n",
      "       False       0.99      0.93      0.96      2738\n",
      "        True       0.18      0.77      0.30        57\n",
      "\n",
      "    accuracy                           0.93      2795\n",
      "   macro avg       0.59      0.85      0.63      2795\n",
      "weighted avg       0.98      0.93      0.95      2795\n",
      "\n",
      "----------------------------------------------------\n",
      "voice\n",
      "\tTEST\n",
      "              precision    recall  f1-score   support\n",
      "\n",
      "       False       1.00      0.99      0.99      2675\n",
      "        True       0.79      0.93      0.85       120\n",
      "\n",
      "    accuracy                           0.99      2795\n",
      "   macro avg       0.89      0.96      0.92      2795\n",
      "weighted avg       0.99      0.99      0.99      2795\n",
      "\n"
     ]
    }
   ],
   "source": [
    "# use a dictionary to include the classifier for each instrument trained on IRMAS dataset based on Openl3 embedding\n",
    "models_openl3_irmas = dict()  \n",
    "# use a dictionary to record the classification result for each instrument\n",
    "result_openl3_irmas_irmas = dict()  \n",
    "\n",
    "# iterate over all istrument classes, and fit a model for each one\n",
    "for instrument in class_align:\n",
    "    \n",
    "    # get the training and testing labels for each instrument\n",
    "    Y_true_train_inst = Y_true_train==instrument\n",
    "    Y_true_test_inst = Y_true_test==instrument\n",
    "    \n",
    "    # initialize and fit a logistic regression model\n",
    "    clf = LogisticRegression(random_state=0, penalty='l1', solver='liblinear')\n",
    "    clf.fit(X_train, Y_true_train_inst)\n",
    "\n",
    "    # predict\n",
    "    Y_pred_test = clf.predict(X_test)\n",
    "    \n",
    "    # print result for each instrument\n",
    "    print('-' * 52); print(instrument); print('\\tTEST')\n",
    "    print(classification_report(Y_true_test_inst, Y_pred_test))\n",
    "    \n",
    "    # Store the classifier in the model dictionary\n",
    "    models_openl3_irmas[instrument] = clf\n",
    "    \n",
    "    #########################  record result of each split  ###############################\n",
    "    # extract P,R,F values from classification_report\n",
    "    lineSep = 54 ; dist = 10; \n",
    "    Pos_firstNum = classification_report(Y_true_test_inst, Y_pred_test).find('\\n') + 21 \n",
    "    result_openl3_irmas_irmas[instrument] = np.array([float(classification_report(Y_true_test_inst, Y_pred_test)[Pos_firstNum+lineSep:Pos_firstNum+4+lineSep]),\\\n",
    "              float(classification_report(Y_true_test_inst, Y_pred_test)[Pos_firstNum+dist*1+lineSep:Pos_firstNum+4+dist*1+lineSep]),\\\n",
    "              float(classification_report(Y_true_test_inst, Y_pred_test)[Pos_firstNum+dist*2+lineSep:Pos_firstNum+4+dist*2+lineSep])])"
   ]
  },
  {
   "cell_type": "code",
   "execution_count": 14,
   "metadata": {},
   "outputs": [
    {
     "data": {
      "text/plain": [
       "{'cello': array([0.23, 0.67, 0.34]),\n",
       " 'clarinet': array([0.11, 0.88, 0.19]),\n",
       " 'flute': array([0.95, 0.05, 0.1 ]),\n",
       " 'guitar': array([0.7 , 0.59, 0.64]),\n",
       " 'organ': array([0.02, 1.  , 0.03]),\n",
       " 'piano': array([0.98, 0.64, 0.77]),\n",
       " 'saxophone': array([0.43, 0.15, 0.22]),\n",
       " 'trumpet': array([0.83, 0.02, 0.04]),\n",
       " 'violin': array([0.18, 0.77, 0.3 ]),\n",
       " 'voice': array([0.79, 0.93, 0.85])}"
      ]
     },
     "execution_count": 14,
     "metadata": {},
     "output_type": "execute_result"
    }
   ],
   "source": [
    "result_openl3_irmas_irmas"
   ]
  },
  {
   "cell_type": "code",
   "execution_count": 15,
   "metadata": {},
   "outputs": [
    {
     "data": {
      "text/plain": [
       "array([0.522, 0.57 , 0.348])"
      ]
     },
     "execution_count": 15,
     "metadata": {},
     "output_type": "execute_result"
    }
   ],
   "source": [
    "# result averaged over all instruments\n",
    "PRF_openl3_irmas_irmas = []\n",
    "for instrument in class_map:\n",
    "    PRF_openl3_irmas_irmas.append(result_openl3_irmas_irmas[instrument])\n",
    "PRF_openl3_irmas_irmas = np.array(PRF_openl3_irmas_irmas)\n",
    "np.mean(PRF_openl3_irmas_irmas,axis=0)"
   ]
  },
  {
   "cell_type": "markdown",
   "metadata": {},
   "source": [
    "# openmic->openmic"
   ]
  },
  {
   "cell_type": "code",
   "execution_count": 16,
   "metadata": {},
   "outputs": [
    {
     "name": "stdout",
     "output_type": "stream",
     "text": [
      "(1900000, 512) (1900000,)\n"
     ]
    },
    {
     "data": {
      "text/plain": [
       "(20000,)"
      ]
     },
     "execution_count": 16,
     "metadata": {},
     "output_type": "execute_result"
    }
   ],
   "source": [
    "# openmic: openl3 embedding\n",
    "feature = np.array(embeddings['openmic']['openl3']['features'])\n",
    "keys = np.array(embeddings['openmic']['openl3']['keys'])\n",
    "print(feature.shape, keys.shape)\n",
    "\n",
    "key_clip = np.unique(keys)\n",
    "key_clip.shape"
   ]
  },
  {
   "cell_type": "code",
   "execution_count": 17,
   "metadata": {},
   "outputs": [
    {
     "data": {
      "application/vnd.jupyter.widget-view+json": {
       "model_id": "fce3940e6b1c4446b7f86322d81a2b34",
       "version_major": 2,
       "version_minor": 0
      },
      "text/plain": [
       "  0%|          | 0/20000 [00:00<?, ?it/s]"
      ]
     },
     "metadata": {},
     "output_type": "display_data"
    },
    {
     "name": "stdout",
     "output_type": "stream",
     "text": [
      "(20000, 512) (20000,)\n"
     ]
    },
    {
     "data": {
      "text/plain": [
       "array(['000046_3840', '000135_483840', '000139_119040', ...,\n",
       "       '155307_211200', '155310_372480', '155311_453120'], dtype='<U15')"
      ]
     },
     "execution_count": 17,
     "metadata": {},
     "output_type": "execute_result"
    }
   ],
   "source": [
    "feature_clip = []\n",
    "\n",
    "for key in tqdm(key_clip):\n",
    "    feature_clip.append(np.mean(feature[keys[:]==key,:],axis=0))\n",
    "    \n",
    "feature_clip = np.array(feature_clip)\n",
    "print(feature_clip.shape, key_clip.shape)\n",
    "\n",
    "key_clip = np.array([str(k, 'utf-8') for k in key_clip])\n",
    "key_clip"
   ]
  },
  {
   "cell_type": "code",
   "execution_count": 18,
   "metadata": {},
   "outputs": [
    {
     "name": "stdout",
     "output_type": "stream",
     "text": [
      "(20000, 20) (20000, 20) (20000,)\n"
     ]
    }
   ],
   "source": [
    "# key-label map using the information from the dataset source\n",
    "data_root = '/import/c4dm-datasets/openmic-2018/openmic-2018/'\n",
    "\n",
    "np_load_old = np.load   # save np.load\n",
    "np.load = lambda *a,**k: np_load_old(*a, allow_pickle=True,**k)   # modify the default parameters of np.load\n",
    "\n",
    "Ytrue = np.load(os.path.join(data_root, 'openmic-2018.npz'))['Y_true']\n",
    "Ymask = np.load(os.path.join(data_root, 'openmic-2018.npz'))['Y_mask']\n",
    "sample_key = np.load(os.path.join(data_root, 'openmic-2018.npz'))['sample_key']\n",
    "\n",
    "np.load = np_load_old   # restore np.load for future normal usage\n",
    "del(np_load_old)\n",
    "\n",
    "print(Ytrue.shape, Ymask.shape, sample_key.shape)"
   ]
  },
  {
   "cell_type": "code",
   "execution_count": 19,
   "metadata": {},
   "outputs": [
    {
     "data": {
      "application/vnd.jupyter.widget-view+json": {
       "model_id": "d1d6df4b517343f1bcd3aa2d74a6875c",
       "version_major": 2,
       "version_minor": 0
      },
      "text/plain": [
       "  0%|          | 0/20000 [00:00<?, ?it/s]"
      ]
     },
     "metadata": {},
     "output_type": "display_data"
    },
    {
     "name": "stdout",
     "output_type": "stream",
     "text": [
      "(20000, 512) (20000, 20) (20000, 20)\n"
     ]
    }
   ],
   "source": [
    "Y_true = []\n",
    "Y_mask = []\n",
    "\n",
    "for key in tqdm(key_clip):\n",
    "    Y_true.append(Ytrue[sample_key==key])\n",
    "    Y_mask.append(Ymask[sample_key==key])\n",
    "    \n",
    "Y_true = np.squeeze(np.array(Y_true))\n",
    "Y_mask = np.squeeze(np.array(Y_mask))\n",
    "\n",
    "X = feature_clip\n",
    "del(feature_clip)\n",
    "\n",
    "print(X.shape, Y_true.shape, Y_mask.shape)"
   ]
  },
  {
   "cell_type": "code",
   "execution_count": 20,
   "metadata": {},
   "outputs": [
    {
     "name": "stdout",
     "output_type": "stream",
     "text": [
      "# Train: 14915,  # Test: 5085\n"
     ]
    }
   ],
   "source": [
    "# train-test split\n",
    "split_train = pd.read_csv('openmic2018_train.csv', header=None, squeeze=True)\n",
    "split_test = pd.read_csv('openmic2018_test.csv', header=None, squeeze=True)\n",
    "\n",
    "print('# Train: {},  # Test: {}'.format(len(split_train), len(split_test)))\n",
    "\n",
    "train_set = set(split_train)\n",
    "test_set = set(split_test)"
   ]
  },
  {
   "cell_type": "code",
   "execution_count": 21,
   "metadata": {},
   "outputs": [],
   "source": [
    "idx_train, idx_test = [], []\n",
    "\n",
    "for idx, n in enumerate(key_clip):\n",
    "    if n in train_set:\n",
    "        idx_train.append(idx)\n",
    "    elif n in test_set:\n",
    "        idx_test.append(idx)\n",
    "    else:\n",
    "        raise RuntimeError('Unknown sample key={}! Abort!'.format(key_clip[n]))\n",
    "        \n",
    "idx_train = np.asarray(idx_train)\n",
    "idx_test = np.asarray(idx_test)"
   ]
  },
  {
   "cell_type": "code",
   "execution_count": 22,
   "metadata": {},
   "outputs": [
    {
     "name": "stdout",
     "output_type": "stream",
     "text": [
      "(14915, 512)\n",
      "(5085, 512)\n"
     ]
    }
   ],
   "source": [
    "X_train = X[idx_train]\n",
    "X_test = X[idx_test]\n",
    "\n",
    "Y_true_train = Y_true[idx_train]\n",
    "Y_true_test = Y_true[idx_test]\n",
    "\n",
    "Y_mask_train = Y_mask[idx_train]\n",
    "Y_mask_test = Y_mask[idx_test]\n",
    "\n",
    "print(X_train.shape); print(X_test.shape)"
   ]
  },
  {
   "cell_type": "code",
   "execution_count": 23,
   "metadata": {},
   "outputs": [
    {
     "name": "stdout",
     "output_type": "stream",
     "text": [
      "----------------------------------------------------\n",
      "cello\n",
      "\tTEST\n",
      "              precision    recall  f1-score   support\n",
      "\n",
      "       False       0.78      0.84      0.81       259\n",
      "        True       0.80      0.73      0.76       226\n",
      "\n",
      "    accuracy                           0.79       485\n",
      "   macro avg       0.79      0.78      0.78       485\n",
      "weighted avg       0.79      0.79      0.78       485\n",
      "\n",
      "----------------------------------------------------\n",
      "clarinet\n",
      "\tTEST\n",
      "              precision    recall  f1-score   support\n",
      "\n",
      "       False       0.84      0.87      0.86       503\n",
      "        True       0.46      0.39      0.42       137\n",
      "\n",
      "    accuracy                           0.77       640\n",
      "   macro avg       0.65      0.63      0.64       640\n",
      "weighted avg       0.76      0.77      0.76       640\n",
      "\n",
      "----------------------------------------------------\n",
      "flute\n",
      "\tTEST\n",
      "              precision    recall  f1-score   support\n",
      "\n",
      "       False       0.81      0.80      0.81       387\n",
      "        True       0.57      0.59      0.58       175\n",
      "\n",
      "    accuracy                           0.73       562\n",
      "   macro avg       0.69      0.70      0.69       562\n",
      "weighted avg       0.74      0.73      0.74       562\n",
      "\n",
      "----------------------------------------------------\n",
      "guitar\n",
      "\tTEST\n",
      "              precision    recall  f1-score   support\n",
      "\n",
      "       False       0.93      0.95      0.94       150\n",
      "        True       0.97      0.97      0.97       286\n",
      "\n",
      "    accuracy                           0.96       436\n",
      "   macro avg       0.95      0.96      0.95       436\n",
      "weighted avg       0.96      0.96      0.96       436\n",
      "\n",
      "----------------------------------------------------\n",
      "organ\n",
      "\tTEST\n",
      "              precision    recall  f1-score   support\n",
      "\n",
      "       False       0.82      0.85      0.83       310\n",
      "        True       0.57      0.51      0.54       121\n",
      "\n",
      "    accuracy                           0.76       431\n",
      "   macro avg       0.70      0.68      0.69       431\n",
      "weighted avg       0.75      0.76      0.75       431\n",
      "\n",
      "----------------------------------------------------\n",
      "piano\n",
      "\tTEST\n",
      "              precision    recall  f1-score   support\n",
      "\n",
      "       False       0.96      0.88      0.92       130\n",
      "        True       0.95      0.98      0.96       285\n",
      "\n",
      "    accuracy                           0.95       415\n",
      "   macro avg       0.95      0.93      0.94       415\n",
      "weighted avg       0.95      0.95      0.95       415\n",
      "\n",
      "----------------------------------------------------\n",
      "saxophone\n",
      "\tTEST\n",
      "              precision    recall  f1-score   support\n",
      "\n",
      "       False       0.78      0.74      0.76       324\n",
      "        True       0.74      0.78      0.76       305\n",
      "\n",
      "    accuracy                           0.76       629\n",
      "   macro avg       0.76      0.76      0.76       629\n",
      "weighted avg       0.76      0.76      0.76       629\n",
      "\n",
      "----------------------------------------------------\n",
      "trumpet\n",
      "\tTEST\n",
      "              precision    recall  f1-score   support\n",
      "\n",
      "       False       0.81      0.85      0.83       467\n",
      "        True       0.76      0.70      0.73       318\n",
      "\n",
      "    accuracy                           0.79       785\n",
      "   macro avg       0.78      0.78      0.78       785\n",
      "weighted avg       0.79      0.79      0.79       785\n",
      "\n",
      "----------------------------------------------------\n",
      "violin\n",
      "\tTEST\n",
      "              precision    recall  f1-score   support\n",
      "\n",
      "       False       0.79      0.79      0.79       237\n",
      "        True       0.87      0.88      0.87       394\n",
      "\n",
      "    accuracy                           0.84       631\n",
      "   macro avg       0.83      0.83      0.83       631\n",
      "weighted avg       0.84      0.84      0.84       631\n",
      "\n",
      "----------------------------------------------------\n",
      "voice\n",
      "\tTEST\n",
      "              precision    recall  f1-score   support\n",
      "\n",
      "       False       0.86      0.91      0.89       150\n",
      "        True       0.94      0.90      0.92       224\n",
      "\n",
      "    accuracy                           0.91       374\n",
      "   macro avg       0.90      0.91      0.90       374\n",
      "weighted avg       0.91      0.91      0.91       374\n",
      "\n"
     ]
    }
   ],
   "source": [
    "# This part of the code follows the baseline model for instrument recognition on the openmic dataset:\n",
    "# https://github.com/cosmir/openmic-2018/blob/master/examples/modeling-baseline.ipynb\n",
    "# use a dictionary to include the classifier for each instrument trained on Openmic dataset based on Openl3 embedding\n",
    "models_openl3_openmic = dict()  \n",
    "# use a dictionary to record the classification result for each instrument\n",
    "result_openl3_openmic_openmic = dict()  \n",
    "\n",
    "# We'll iterate over all istrument classes, and fit a model for each one\n",
    "# After training, we'll print a classification report for each instrument\n",
    "for instrument in class_map:\n",
    "    \n",
    "    # Map the instrument name to its column number\n",
    "    inst_num = class_map[instrument]\n",
    "    \n",
    "    # First, sub-sample the data: we need to select down to the data for which we have annotations\n",
    "    # This is what the mask arrays are for\n",
    "    train_inst = Y_mask_train[:, inst_num]\n",
    "    test_inst = Y_mask_test[:, inst_num]\n",
    "    \n",
    "    # Here, we're using the Y_mask_train array to slice out only the training examples\n",
    "    # for which we have annotations for the given class\n",
    "    X_train_inst = X_train[train_inst]\n",
    "    \n",
    "    # Again, we slice the labels to the annotated examples\n",
    "    # We thresold the label likelihoods at 0.5 to get binary labels\n",
    "    Y_true_train_inst = Y_true_train[train_inst, inst_num] >= 0.5\n",
    "    \n",
    "    # Repeat the above slicing and dicing but for the test set\n",
    "    X_test_inst = X_test[test_inst]\n",
    "    Y_true_test_inst = Y_true_test[test_inst, inst_num] >= 0.5\n",
    "\n",
    "    # initialize and fit a logistic regression model\n",
    "    clf = LogisticRegression(random_state=0, penalty='l1', solver='liblinear')\n",
    "    clf.fit(X_train_inst, Y_true_train_inst)\n",
    "\n",
    "    # predict\n",
    "    Y_pred_test = clf.predict(X_test_inst)\n",
    "    \n",
    "    # print result for each instrument\n",
    "    print('-' * 52); print(instrument); print('\\tTEST')\n",
    "    print(classification_report(Y_true_test_inst, Y_pred_test))\n",
    "    \n",
    "    # Store the classifier in the model dictionary\n",
    "    models_openl3_openmic[instrument] = clf\n",
    "    \n",
    "    #########################  record result of each split  ###############################\n",
    "    # extract P,R,F values from classification_report\n",
    "    lineSep = 54 ; dist = 10; \n",
    "    Pos_firstNum = classification_report(Y_true_test_inst, Y_pred_test).find('\\n') + 21 \n",
    "    result_openl3_openmic_openmic[instrument] = np.array([float(classification_report(Y_true_test_inst, Y_pred_test)[Pos_firstNum+lineSep:Pos_firstNum+4+lineSep]),\\\n",
    "              float(classification_report(Y_true_test_inst, Y_pred_test)[Pos_firstNum+dist*1+lineSep:Pos_firstNum+4+dist*1+lineSep]),\\\n",
    "              float(classification_report(Y_true_test_inst, Y_pred_test)[Pos_firstNum+dist*2+lineSep:Pos_firstNum+4+dist*2+lineSep])])"
   ]
  },
  {
   "cell_type": "code",
   "execution_count": 24,
   "metadata": {},
   "outputs": [
    {
     "data": {
      "text/plain": [
       "{'cello': array([0.8 , 0.73, 0.76]),\n",
       " 'clarinet': array([0.46, 0.39, 0.42]),\n",
       " 'flute': array([0.57, 0.59, 0.58]),\n",
       " 'guitar': array([0.97, 0.97, 0.97]),\n",
       " 'organ': array([0.57, 0.51, 0.54]),\n",
       " 'piano': array([0.95, 0.98, 0.96]),\n",
       " 'saxophone': array([0.74, 0.78, 0.76]),\n",
       " 'trumpet': array([0.76, 0.7 , 0.73]),\n",
       " 'violin': array([0.87, 0.88, 0.87]),\n",
       " 'voice': array([0.94, 0.9 , 0.92])}"
      ]
     },
     "execution_count": 24,
     "metadata": {},
     "output_type": "execute_result"
    }
   ],
   "source": [
    "result_openl3_openmic_openmic"
   ]
  },
  {
   "cell_type": "code",
   "execution_count": 25,
   "metadata": {},
   "outputs": [
    {
     "data": {
      "text/plain": [
       "array([0.763, 0.743, 0.751])"
      ]
     },
     "execution_count": 25,
     "metadata": {},
     "output_type": "execute_result"
    }
   ],
   "source": [
    "# result averaged over all instruments\n",
    "PRF_openl3_openmic_openmic = []\n",
    "for instrument in class_map:\n",
    "    PRF_openl3_openmic_openmic.append(result_openl3_openmic_openmic[instrument])\n",
    "PRF_openl3_openmic_openmic = np.array(PRF_openl3_openmic_openmic)\n",
    "np.mean(PRF_openl3_openmic_openmic,axis=0)"
   ]
  },
  {
   "cell_type": "markdown",
   "metadata": {},
   "source": [
    "# irmas->openmic"
   ]
  },
  {
   "cell_type": "code",
   "execution_count": 26,
   "metadata": {},
   "outputs": [
    {
     "name": "stdout",
     "output_type": "stream",
     "text": [
      "----------------------------------------------------\n",
      "cello\n",
      "\tTEST\n",
      "              precision    recall  f1-score   support\n",
      "\n",
      "       False       0.54      0.94      0.69       259\n",
      "        True       0.54      0.08      0.15       226\n",
      "\n",
      "    accuracy                           0.54       485\n",
      "   macro avg       0.54      0.51      0.42       485\n",
      "weighted avg       0.54      0.54      0.43       485\n",
      "\n",
      "----------------------------------------------------\n",
      "clarinet\n",
      "\tTEST\n",
      "              precision    recall  f1-score   support\n",
      "\n",
      "       False       0.79      0.97      0.87       503\n",
      "        True       0.26      0.04      0.06       137\n",
      "\n",
      "    accuracy                           0.77       640\n",
      "   macro avg       0.53      0.50      0.47       640\n",
      "weighted avg       0.68      0.77      0.70       640\n",
      "\n",
      "----------------------------------------------------\n",
      "flute\n",
      "\tTEST\n",
      "              precision    recall  f1-score   support\n",
      "\n",
      "       False       0.69      1.00      0.82       387\n",
      "        True       0.00      0.00      0.00       175\n",
      "\n",
      "    accuracy                           0.69       562\n",
      "   macro avg       0.34      0.50      0.41       562\n",
      "weighted avg       0.47      0.69      0.56       562\n",
      "\n",
      "----------------------------------------------------\n",
      "guitar\n",
      "\tTEST\n",
      "              precision    recall  f1-score   support\n",
      "\n",
      "       False       0.60      0.96      0.73       150\n",
      "        True       0.97      0.66      0.78       286\n",
      "\n",
      "    accuracy                           0.76       436\n",
      "   macro avg       0.78      0.81      0.76       436\n",
      "weighted avg       0.84      0.76      0.77       436\n",
      "\n",
      "----------------------------------------------------\n",
      "organ\n",
      "\tTEST\n",
      "              precision    recall  f1-score   support\n",
      "\n",
      "       False       0.75      0.72      0.74       310\n",
      "        True       0.36      0.40      0.38       121\n",
      "\n",
      "    accuracy                           0.63       431\n",
      "   macro avg       0.56      0.56      0.56       431\n",
      "weighted avg       0.64      0.63      0.64       431\n",
      "\n",
      "----------------------------------------------------\n",
      "piano\n",
      "\tTEST\n",
      "              precision    recall  f1-score   support\n",
      "\n",
      "       False       0.44      0.99      0.61       130\n",
      "        True       0.99      0.42      0.59       285\n",
      "\n",
      "    accuracy                           0.60       415\n",
      "   macro avg       0.72      0.71      0.60       415\n",
      "weighted avg       0.82      0.60      0.60       415\n",
      "\n",
      "----------------------------------------------------\n",
      "saxophone\n",
      "\tTEST\n",
      "              precision    recall  f1-score   support\n",
      "\n",
      "       False       0.52      0.99      0.68       324\n",
      "        True       0.71      0.02      0.03       305\n",
      "\n",
      "    accuracy                           0.52       629\n",
      "   macro avg       0.62      0.51      0.36       629\n",
      "weighted avg       0.61      0.52      0.37       629\n",
      "\n",
      "----------------------------------------------------\n",
      "trumpet\n",
      "\tTEST\n",
      "              precision    recall  f1-score   support\n",
      "\n",
      "       False       0.60      0.99      0.74       467\n",
      "        True       0.56      0.02      0.03       318\n",
      "\n",
      "    accuracy                           0.60       785\n",
      "   macro avg       0.58      0.50      0.39       785\n",
      "weighted avg       0.58      0.60      0.46       785\n",
      "\n",
      "----------------------------------------------------\n",
      "violin\n",
      "\tTEST\n",
      "              precision    recall  f1-score   support\n",
      "\n",
      "       False       0.54      0.74      0.62       237\n",
      "        True       0.80      0.62      0.70       394\n",
      "\n",
      "    accuracy                           0.67       631\n",
      "   macro avg       0.67      0.68      0.66       631\n",
      "weighted avg       0.70      0.67      0.67       631\n",
      "\n",
      "----------------------------------------------------\n",
      "voice\n",
      "\tTEST\n",
      "              precision    recall  f1-score   support\n",
      "\n",
      "       False       0.65      0.97      0.78       150\n",
      "        True       0.97      0.65      0.78       224\n",
      "\n",
      "    accuracy                           0.78       374\n",
      "   macro avg       0.81      0.81      0.78       374\n",
      "weighted avg       0.84      0.78      0.78       374\n",
      "\n"
     ]
    }
   ],
   "source": [
    "# use a dictionary to record the classification result for each instrument\n",
    "result_openl3_irmas_openmic = dict()  \n",
    "\n",
    "# iterate over all istrument classes, and fit a model for each one\n",
    "for instrument in class_align:\n",
    "    \n",
    "    # Map the instrument name to its column number\n",
    "    inst_num = class_map[instrument]\n",
    "    \n",
    "    # First, sub-sample the data: we need to select down to the data for which we have annotations \n",
    "    # This is what the mask arrays are for\n",
    "    test_inst = Y_mask_test[:, inst_num]\n",
    "\n",
    "    # Repeat the above slicing and dicing but for the test set\n",
    "    X_test_inst = X_test[test_inst]\n",
    "    Y_true_test_inst = Y_true_test[test_inst, inst_num] >= 0.5\n",
    "\n",
    "    # Finally, we'll evaluate the classifier trained on IRMAS dataset to the Openmic test data\n",
    "    Y_pred_test =  models_openl3_irmas[instrument].predict(X_test_inst)\n",
    "    \n",
    "    # print result for each instrument\n",
    "    print('-' * 52); print(instrument); print('\\tTEST')\n",
    "    print(classification_report(Y_true_test_inst, Y_pred_test))\n",
    "    \n",
    "    #########################  record result for each instrument  ###############################\n",
    "    # extract P,R,F values from classification_report\n",
    "    lineSep = 54 ; dist = 10; \n",
    "    Pos_firstNum = classification_report(Y_true_test_inst, Y_pred_test).find('\\n') + 21 \n",
    "    result_openl3_irmas_openmic[instrument] = np.array([float(classification_report(Y_true_test_inst, Y_pred_test)[Pos_firstNum+lineSep:Pos_firstNum+4+lineSep]),\\\n",
    "              float(classification_report(Y_true_test_inst, Y_pred_test)[Pos_firstNum+dist*1+lineSep:Pos_firstNum+4+dist*1+lineSep]),\\\n",
    "              float(classification_report(Y_true_test_inst, Y_pred_test)[Pos_firstNum+dist*2+lineSep:Pos_firstNum+4+dist*2+lineSep])])"
   ]
  },
  {
   "cell_type": "code",
   "execution_count": 27,
   "metadata": {},
   "outputs": [
    {
     "data": {
      "text/plain": [
       "{'cello': array([0.54, 0.08, 0.15]),\n",
       " 'clarinet': array([0.26, 0.04, 0.06]),\n",
       " 'flute': array([0., 0., 0.]),\n",
       " 'guitar': array([0.97, 0.66, 0.78]),\n",
       " 'organ': array([0.36, 0.4 , 0.38]),\n",
       " 'piano': array([0.99, 0.42, 0.59]),\n",
       " 'saxophone': array([0.71, 0.02, 0.03]),\n",
       " 'trumpet': array([0.56, 0.02, 0.03]),\n",
       " 'violin': array([0.8 , 0.62, 0.7 ]),\n",
       " 'voice': array([0.97, 0.65, 0.78])}"
      ]
     },
     "execution_count": 27,
     "metadata": {},
     "output_type": "execute_result"
    }
   ],
   "source": [
    "result_openl3_irmas_openmic"
   ]
  },
  {
   "cell_type": "code",
   "execution_count": 28,
   "metadata": {},
   "outputs": [
    {
     "data": {
      "text/plain": [
       "array([0.616, 0.291, 0.35 ])"
      ]
     },
     "execution_count": 28,
     "metadata": {},
     "output_type": "execute_result"
    }
   ],
   "source": [
    "# result averaged over all instruments\n",
    "PRF_openl3_irmas_openmic = []\n",
    "for instrument in class_map:\n",
    "    PRF_openl3_irmas_openmic.append(result_openl3_irmas_openmic[instrument])\n",
    "PRF_openl3_irmas_openmic = np.array(PRF_openl3_irmas_openmic)\n",
    "np.mean(PRF_openl3_irmas_openmic,axis=0)"
   ]
  },
  {
   "cell_type": "markdown",
   "metadata": {},
   "source": [
    "# openmic->irmas"
   ]
  },
  {
   "cell_type": "code",
   "execution_count": 29,
   "metadata": {},
   "outputs": [
    {
     "name": "stdout",
     "output_type": "stream",
     "text": [
      "(167625, 512) (167625,)\n",
      "(6705,)\n"
     ]
    },
    {
     "data": {
      "application/vnd.jupyter.widget-view+json": {
       "model_id": "fd60fd674e76480d986e80cc05b8d6c8",
       "version_major": 2,
       "version_minor": 0
      },
      "text/plain": [
       "  0%|          | 0/6705 [00:00<?, ?it/s]"
      ]
     },
     "metadata": {},
     "output_type": "display_data"
    },
    {
     "name": "stdout",
     "output_type": "stream",
     "text": [
      "(6705, 512) (6705,)\n"
     ]
    }
   ],
   "source": [
    "# irmas: openl3 embedding\n",
    "feature = np.array(embeddings['irmas']['openl3']['features'])\n",
    "keys_ori = np.array(embeddings['irmas']['openl3']['keys'])\n",
    "print(feature.shape, keys_ori.shape)\n",
    "\n",
    "key_clip = np.unique(keys_ori)\n",
    "print(key_clip.shape)\n",
    "\n",
    "feature_clip = []\n",
    "\n",
    "for key in tqdm(key_clip):\n",
    "    feature_clip.append(np.mean(feature[keys_ori[:]==key,:],axis=0))\n",
    "    \n",
    "feature_clip = np.array(feature_clip)\n",
    "print(feature_clip.shape, key_clip.shape)"
   ]
  },
  {
   "cell_type": "code",
   "execution_count": 30,
   "metadata": {},
   "outputs": [],
   "source": [
    "key_train = list(pd.read_csv('irmas_train.csv', header=None, squeeze=True))\n",
    "key_test = list(pd.read_csv('irmas_test.csv', header=None, squeeze=True))\n",
    "\n",
    "idx_train, idx_test = [], []\n",
    "\n",
    "for k in range(len(key_clip)):\n",
    "    if str(key_clip[k]) in key_train:\n",
    "        idx_train.append(k)\n",
    "    elif str(key_clip[k]) in key_test:\n",
    "        idx_test.append(k)\n",
    "    else:\n",
    "        raise RuntimeError('Unknown sample key={}! Abort!'.format(key_clip[k]))\n",
    "        \n",
    "idx_train = np.asarray(idx_train)\n",
    "idx_test = np.asarray(idx_test)"
   ]
  },
  {
   "cell_type": "code",
   "execution_count": 31,
   "metadata": {},
   "outputs": [
    {
     "data": {
      "text/plain": [
       "array(['cello', 'clarinet', 'flute', 'guitar', 'organ', 'piano',\n",
       "       'saxophone', 'trumpet', 'violin', 'voice'], dtype='<U9')"
      ]
     },
     "execution_count": 31,
     "metadata": {},
     "output_type": "execute_result"
    }
   ],
   "source": [
    "keys = np.array([str(k, 'utf-8') for k in key_clip])\n",
    "keys = [key[key.index('[')+1:key.index(']')] for key in keys]\n",
    "\n",
    "for key in class_align:\n",
    "    keys = [key if x in class_align[key] else x for x in keys]\n",
    "    \n",
    "keys = np.array(keys)\n",
    "np.unique(keys)"
   ]
  },
  {
   "cell_type": "code",
   "execution_count": 32,
   "metadata": {},
   "outputs": [
    {
     "name": "stdout",
     "output_type": "stream",
     "text": [
      "(3910, 512)\n",
      "(2795, 512)\n"
     ]
    }
   ],
   "source": [
    "X_train = feature_clip[idx_train,:]\n",
    "X_test = feature_clip[idx_test]\n",
    "\n",
    "Y_true_train = keys[idx_train]\n",
    "Y_true_test = keys[idx_test]\n",
    "\n",
    "print(X_train.shape)\n",
    "print(X_test.shape)"
   ]
  },
  {
   "cell_type": "code",
   "execution_count": 33,
   "metadata": {},
   "outputs": [
    {
     "name": "stdout",
     "output_type": "stream",
     "text": [
      "----------------------------------------------------\n",
      "cello\n",
      "\tTEST\n",
      "              precision    recall  f1-score   support\n",
      "\n",
      "       False       1.00      0.88      0.93      2765\n",
      "        True       0.07      0.80      0.12        30\n",
      "\n",
      "    accuracy                           0.88      2795\n",
      "   macro avg       0.53      0.84      0.53      2795\n",
      "weighted avg       0.99      0.88      0.93      2795\n",
      "\n",
      "----------------------------------------------------\n",
      "clarinet\n",
      "\tTEST\n",
      "              precision    recall  f1-score   support\n",
      "\n",
      "       False       1.00      0.46      0.63      2744\n",
      "        True       0.03      0.92      0.06        51\n",
      "\n",
      "    accuracy                           0.47      2795\n",
      "   macro avg       0.51      0.69      0.34      2795\n",
      "weighted avg       0.98      0.47      0.62      2795\n",
      "\n",
      "----------------------------------------------------\n",
      "flute\n",
      "\tTEST\n",
      "              precision    recall  f1-score   support\n",
      "\n",
      "       False       0.94      0.65      0.77      2388\n",
      "        True       0.27      0.75      0.40       407\n",
      "\n",
      "    accuracy                           0.67      2795\n",
      "   macro avg       0.60      0.70      0.58      2795\n",
      "weighted avg       0.84      0.67      0.72      2795\n",
      "\n",
      "----------------------------------------------------\n",
      "guitar\n",
      "\tTEST\n",
      "              precision    recall  f1-score   support\n",
      "\n",
      "       False       0.98      0.46      0.63      2316\n",
      "        True       0.27      0.95      0.42       479\n",
      "\n",
      "    accuracy                           0.55      2795\n",
      "   macro avg       0.62      0.71      0.52      2795\n",
      "weighted avg       0.85      0.55      0.59      2795\n",
      "\n",
      "----------------------------------------------------\n",
      "organ\n",
      "\tTEST\n",
      "              precision    recall  f1-score   support\n",
      "\n",
      "       False       1.00      0.91      0.95      2792\n",
      "        True       0.00      0.00      0.00         3\n",
      "\n",
      "    accuracy                           0.91      2795\n",
      "   macro avg       0.50      0.45      0.48      2795\n",
      "weighted avg       1.00      0.91      0.95      2795\n",
      "\n",
      "----------------------------------------------------\n",
      "piano\n",
      "\tTEST\n",
      "              precision    recall  f1-score   support\n",
      "\n",
      "       False       0.97      0.68      0.80      2212\n",
      "        True       0.43      0.92      0.59       583\n",
      "\n",
      "    accuracy                           0.73      2795\n",
      "   macro avg       0.70      0.80      0.69      2795\n",
      "weighted avg       0.86      0.73      0.76      2795\n",
      "\n",
      "----------------------------------------------------\n",
      "saxophone\n",
      "\tTEST\n",
      "              precision    recall  f1-score   support\n",
      "\n",
      "       False       0.93      0.43      0.58      2289\n",
      "        True       0.25      0.85      0.38       506\n",
      "\n",
      "    accuracy                           0.50      2795\n",
      "   macro avg       0.59      0.64      0.48      2795\n",
      "weighted avg       0.81      0.50      0.55      2795\n",
      "\n",
      "----------------------------------------------------\n",
      "trumpet\n",
      "\tTEST\n",
      "              precision    recall  f1-score   support\n",
      "\n",
      "       False       0.96      0.41      0.58      2236\n",
      "        True       0.28      0.94      0.44       559\n",
      "\n",
      "    accuracy                           0.52      2795\n",
      "   macro avg       0.62      0.67      0.51      2795\n",
      "weighted avg       0.83      0.52      0.55      2795\n",
      "\n",
      "----------------------------------------------------\n",
      "violin\n",
      "\tTEST\n",
      "              precision    recall  f1-score   support\n",
      "\n",
      "       False       1.00      0.87      0.93      2738\n",
      "        True       0.12      0.89      0.22        57\n",
      "\n",
      "    accuracy                           0.87      2795\n",
      "   macro avg       0.56      0.88      0.57      2795\n",
      "weighted avg       0.98      0.87      0.91      2795\n",
      "\n",
      "----------------------------------------------------\n",
      "voice\n",
      "\tTEST\n",
      "              precision    recall  f1-score   support\n",
      "\n",
      "       False       1.00      0.80      0.89      2675\n",
      "        True       0.18      1.00      0.31       120\n",
      "\n",
      "    accuracy                           0.81      2795\n",
      "   macro avg       0.59      0.90      0.60      2795\n",
      "weighted avg       0.96      0.81      0.86      2795\n",
      "\n"
     ]
    }
   ],
   "source": [
    "# use a dictionary to record the classification result for each instrument\n",
    "result_openl3_openmic_irmas = dict()  \n",
    "\n",
    "# iterate over all istrument classes, and fit a model for each one\n",
    "for instrument in class_align:\n",
    "    \n",
    "    # get the training and testing labels for each instrument\n",
    "    Y_true_test_inst = Y_true_test==instrument\n",
    "\n",
    "    # Finally, we'll evaluate the classifier trained on IRMAS dataset to the Openmic test data\n",
    "    Y_pred_test =  models_openl3_openmic[instrument].predict(X_test)\n",
    "    \n",
    "    # print result for each instrument\n",
    "    print('-' * 52); print(instrument); print('\\tTEST')\n",
    "    print(classification_report(Y_true_test_inst, Y_pred_test))\n",
    "    \n",
    "    #########################  record result for each instrument  ###############################\n",
    "    # extract P,R,F values from classification_report\n",
    "    lineSep = 54 ; dist = 10; \n",
    "    Pos_firstNum = classification_report(Y_true_test_inst, Y_pred_test).find('\\n') + 21 \n",
    "    result_openl3_openmic_irmas[instrument] = np.array([float(classification_report(Y_true_test_inst, Y_pred_test)[Pos_firstNum+lineSep:Pos_firstNum+4+lineSep]),\\\n",
    "              float(classification_report(Y_true_test_inst, Y_pred_test)[Pos_firstNum+dist*1+lineSep:Pos_firstNum+4+dist*1+lineSep]),\\\n",
    "              float(classification_report(Y_true_test_inst, Y_pred_test)[Pos_firstNum+dist*2+lineSep:Pos_firstNum+4+dist*2+lineSep])])"
   ]
  },
  {
   "cell_type": "code",
   "execution_count": 34,
   "metadata": {},
   "outputs": [
    {
     "data": {
      "text/plain": [
       "{'cello': array([0.07, 0.8 , 0.12]),\n",
       " 'clarinet': array([0.03, 0.92, 0.06]),\n",
       " 'flute': array([0.27, 0.75, 0.4 ]),\n",
       " 'guitar': array([0.27, 0.95, 0.42]),\n",
       " 'organ': array([0., 0., 0.]),\n",
       " 'piano': array([0.43, 0.92, 0.59]),\n",
       " 'saxophone': array([0.25, 0.85, 0.38]),\n",
       " 'trumpet': array([0.28, 0.94, 0.44]),\n",
       " 'violin': array([0.12, 0.89, 0.22]),\n",
       " 'voice': array([0.18, 1.  , 0.31])}"
      ]
     },
     "execution_count": 34,
     "metadata": {},
     "output_type": "execute_result"
    }
   ],
   "source": [
    "result_openl3_openmic_irmas"
   ]
  },
  {
   "cell_type": "code",
   "execution_count": 35,
   "metadata": {},
   "outputs": [
    {
     "data": {
      "text/plain": [
       "array([0.19 , 0.802, 0.294])"
      ]
     },
     "execution_count": 35,
     "metadata": {},
     "output_type": "execute_result"
    }
   ],
   "source": [
    "# result averaged over all instruments\n",
    "PRF_openl3_openmic_irmas = []\n",
    "for instrument in class_map:\n",
    "    PRF_openl3_openmic_irmas.append(result_openl3_openmic_irmas[instrument])\n",
    "PRF_openl3_openmic_irmas = np.array(PRF_openl3_openmic_irmas)\n",
    "np.mean(PRF_openl3_openmic_irmas,axis=0)"
   ]
  },
  {
   "cell_type": "markdown",
   "metadata": {},
   "source": [
    "# Plot result for each instrument"
   ]
  },
  {
   "cell_type": "code",
   "execution_count": 36,
   "metadata": {},
   "outputs": [
    {
     "name": "stdout",
     "output_type": "stream",
     "text": [
      "PRF of Openl3 averaged over all instruments for each case:\n",
      "irmas->irmas:[0.522 0.57  0.348]\n",
      "openmic->openmic:[0.763 0.743 0.751]\n",
      "irmas->openmic:[0.616 0.291 0.35 ]\n",
      "openmic->irmas:[0.19  0.802 0.294]\n"
     ]
    }
   ],
   "source": [
    "# The mean PRF for each case:\n",
    "print('PRF of Openl3 averaged over all instruments for each case:')\n",
    "print('irmas->irmas:{}'.format(np.mean(PRF_openl3_irmas_irmas,axis=0)))\n",
    "print('openmic->openmic:{}'.format(np.mean(PRF_openl3_openmic_openmic,axis=0)))\n",
    "print('irmas->openmic:{}'.format(np.mean(PRF_openl3_irmas_openmic,axis=0)))\n",
    "print('openmic->irmas:{}'.format(np.mean(PRF_openl3_openmic_irmas,axis=0)))"
   ]
  },
  {
   "cell_type": "code",
   "execution_count": 37,
   "metadata": {},
   "outputs": [
    {
     "data": {
      "text/plain": [
       "<matplotlib.legend.Legend at 0x7fdb770b4d50>"
      ]
     },
     "execution_count": 37,
     "metadata": {},
     "output_type": "execute_result"
    },
    {
     "data": {
      "image/png": "[encoded data removed]",
      "text/plain": [
       "<Figure size 1008x360 with 1 Axes>"
      ]
     },
     "metadata": {
      "needs_background": "light"
     },
     "output_type": "display_data"
    }
   ],
   "source": [
    "plt.rcParams.update({'font.size':12})\n",
    "plt.figure(figsize=(14,5))\n",
    " \n",
    "barWidth = 0.15  # width of the bars\n",
    " \n",
    "# Set bars\n",
    "bars1 = [result_openl3_irmas_irmas[inst][-1] for inst in class_align]\n",
    "bars2 = [result_openl3_irmas_openmic[inst][-1] for inst in class_align]\n",
    "bars3 = [result_openl3_openmic_openmic[inst][-1] for inst in class_align]\n",
    "bars4 = [result_openl3_openmic_irmas[inst][-1] for inst in class_align]\n",
    " \n",
    "# The x position of bars\n",
    "r1 = np.arange(len(bars1))\n",
    "r2 = [x + barWidth for x in r1]\n",
    "r3 = [x + 2*barWidth for x in r1]\n",
    "r4 = [x + 3*barWidth for x in r1]\n",
    " \n",
    "# Create bars\n",
    "plt.bar(r1, bars1, width = barWidth, capsize=7, label='Openl3: irmas->irmas')\n",
    "plt.bar(r2, bars2, width = barWidth, color='skyblue', capsize=7, label='Openl3: irmas->openmic')\n",
    "plt.bar(r3, bars3, width = barWidth, color='#FFA500', capsize=7, label='Openl3: openmic->openmic')\n",
    "plt.bar(r4, bars4, width = barWidth, color='#FFD39B', capsize=7, label='Openl3: openmic->irmas')\n",
    " \n",
    "plt.xticks([r + barWidth for r in range(len(bars1))], [inst for inst in class_align])\n",
    "plt.ylabel('height'); plt.legend()"
   ]
  }
 ],
 "metadata": {
  "kernelspec": {
   "display_name": "Python 3",
   "language": "python",
   "name": "python3"
  },
  "language_info": {
   "codemirror_mode": {
    "name": "ipython",
    "version": 3
   },
   "file_extension": ".py",
   "mimetype": "text/x-python",
   "name": "python",
   "nbconvert_exporter": "python",
   "pygments_lexer": "ipython3",
   "version": "3.7.11"
  },
  "toc": {
   "base_numbering": 1,
   "nav_menu": {},
   "number_sections": true,
   "sideBar": false,
   "skip_h1_title": false,
   "title_cell": "Table of Contents",
   "title_sidebar": "Contents",
   "toc_cell": false,
   "toc_position": {
    "height": "621.778px",
    "left": "21px",
    "top": "111.139px",
    "width": "165px"
   },
   "toc_section_display": true,
   "toc_window_display": true
  }
 },
 "nbformat": 4,
 "nbformat_minor": 2
}
