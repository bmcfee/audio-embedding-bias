{
 "cells": [
  {
   "cell_type": "code",
   "execution_count": 1,
   "metadata": {},
   "outputs": [],
   "source": [
    "%matplotlib inline\n",
    "import matplotlib.pyplot as plt\n",
    "import seaborn as sns\n",
    "import numpy as np\n",
    "import json\n",
    "import pandas as pd\n",
    "import h5py\n",
    "from tqdm.notebook import tqdm\n",
    "import collections as cl\n",
    "import re\n",
    "from sklearn.preprocessing import LabelEncoder\n",
    "from sklearn.model_selection import GroupShuffleSplit, StratifiedGroupKFold\n",
    "\n",
    "import warnings\n",
    "warnings.filterwarnings('ignore')\n",
    "\n",
    "import random\n",
    "random_state=42\n",
    "random.seed(random_state)"
   ]
  },
  {
   "attachments": {},
   "cell_type": "markdown",
   "metadata": {},
   "source": [
    "# load embedding"
   ]
  },
  {
   "cell_type": "code",
   "execution_count": 2,
   "metadata": {},
   "outputs": [],
   "source": [
    "embedding = 'vggish'\n",
    "data = h5py.File('embeddings.h5', 'r')"
   ]
  },
  {
   "cell_type": "code",
   "execution_count": 3,
   "metadata": {},
   "outputs": [
    {
     "data": {
      "text/plain": [
       "6705"
      ]
     },
     "execution_count": 3,
     "metadata": {},
     "output_type": "execute_result"
    }
   ],
   "source": [
    "###### IRMAS data ######\n",
    "dataset = 'irmas'\n",
    "keys_ori = list(data[dataset][embedding]['keys'])\n",
    "key_clip = list(set(keys_ori))\n",
    "len(key_clip)"
   ]
  },
  {
   "cell_type": "code",
   "execution_count": 4,
   "metadata": {},
   "outputs": [],
   "source": [
    "instruments = [key[key.index('[')+1:key.index(']')] for key in key_clip]\n",
    "# cl.Counter(instruments)"
   ]
  },
  {
   "cell_type": "code",
   "execution_count": 5,
   "metadata": {},
   "outputs": [
    {
     "name": "stdout",
     "output_type": "stream",
     "text": [
      "{'lat_sou', 'jaz_blu', 'cla', 'pop_roc', 'cou_fol'} 6705\n"
     ]
    }
   ],
   "source": [
    "group_matcher = re.compile(r'.*?\\]\\[(?P<class>\\w+)\\]\\d.*')\n",
    "\n",
    "def groupname(x):\n",
    "    res = re.match(group_matcher, x)\n",
    "    return res.groups()[0]\n",
    "\n",
    "genres = [groupname(_) for _ in key_clip]\n",
    "print(set(genres), len(genres))"
   ]
  },
  {
   "cell_type": "code",
   "execution_count": 6,
   "metadata": {},
   "outputs": [],
   "source": [
    "A_genre = ['pop_roc', 'cou_fol', 'lat_sou']\n",
    "B_genre = ['jaz_blu', 'cla']"
   ]
  },
  {
   "cell_type": "code",
   "execution_count": 7,
   "metadata": {},
   "outputs": [
    {
     "name": "stdout",
     "output_type": "stream",
     "text": [
      "{'sax', 'org', 'gac', 'pia', 'cel', 'cla', 'flu', 'vio', 'gel', 'voi', 'tru'} 6705\n"
     ]
    }
   ],
   "source": [
    "matcher = re.compile(r'.*?\\[(?P<class>\\w+)\\].*')\n",
    "\n",
    "def classname(x):\n",
    "    res = re.match(matcher, x)\n",
    "    return res.groups()[0]\n",
    "\n",
    "instruments = [classname(_) for _ in key_clip]\n",
    "print(set(instruments), len(instruments))"
   ]
  },
  {
   "cell_type": "code",
   "execution_count": 8,
   "metadata": {},
   "outputs": [],
   "source": [
    "encoder_inst = LabelEncoder()\n",
    "encoder_inst.fit_transform(instruments)   # ori = encoder.inverse_transform(Y)\n",
    "\n",
    "encoder_genre = LabelEncoder()\n",
    "encoder_genre.fit_transform(genres)   \n",
    "\n",
    "instrument_map = dict(zip(encoder_inst.classes_, encoder_inst.transform(encoder_inst.classes_)))\n",
    "genre_map = dict(zip(encoder_genre.classes_, encoder_genre.transform(encoder_genre.classes_)))\n",
    "\n",
    "with open(\"instrument_map.json\", \"w\") as f:\n",
    "    json.dump(instrument_map, f, default=str)\n",
    "\n",
    "with open(\"genre_map.json\", \"w\") as f:\n",
    "\n",
    "    json.dump(genre_map, f, default=str)"
   ]
  },
  {
   "cell_type": "code",
   "execution_count": 9,
   "metadata": {},
   "outputs": [],
   "source": [
    "meta_all = pd.DataFrame(columns=['instrument', 'genre', 'file_name'])\n",
    "meta_all['instrument'] = instruments\n",
    "meta_all['genre'] = genres\n",
    "meta_all['file_name'] = key_clip"
   ]
  },
  {
   "cell_type": "code",
   "execution_count": 10,
   "metadata": {},
   "outputs": [],
   "source": [
    "def train_test_split(meta_all, instrument_map, genre_map, train_ratio):\n",
    "\n",
    "    train_meta = pd.DataFrame(columns=['instrument', 'genre', 'file_name'])\n",
    "    test_meta = pd.DataFrame(columns=['instrument', 'genre', 'file_name'])\n",
    "\n",
    "    for inst in instrument_map:\n",
    "        for genre in genre_map:\n",
    "\n",
    "            train_case = pd.DataFrame(columns=['instrument', 'genre', 'file_name'])\n",
    "            test_case = pd.DataFrame(columns=['instrument', 'genre', 'file_name'])\n",
    "\n",
    "            to_split = meta_all.loc[(meta_all['instrument'] == inst) & (meta_all['genre'] == genre)]['file_name'].values\n",
    "            if len(to_split) > 0:\n",
    "                idx_shuffle = np.array(random.sample(range(len(to_split)), len(to_split)))  # shuffle the idx to select randomly  \n",
    "                to_split = to_split[idx_shuffle]\n",
    "\n",
    "                split_idx = int(len(to_split) * train_ratio)\n",
    "                \n",
    "                train_case['instrument'] = [inst] * split_idx\n",
    "                train_case['genre'] = [genre] * split_idx\n",
    "                train_case['file_name'] = to_split[:split_idx]\n",
    "\n",
    "                test_case['instrument'] = [inst] * (len(to_split) - split_idx)\n",
    "                test_case['genre'] = [genre] * (len(to_split) - split_idx)\n",
    "                test_case['file_name'] = to_split[split_idx:]\n",
    "\n",
    "                train_meta = train_meta.append(train_case)\n",
    "                test_meta = test_meta.append(test_case)\n",
    "\n",
    "    return train_meta, test_meta"
   ]
  },
  {
   "cell_type": "code",
   "execution_count": 11,
   "metadata": {},
   "outputs": [],
   "source": [
    "def AB_split(meta_all, instrument_map, genre_split):\n",
    "\n",
    "    meta_split = pd.DataFrame(columns=['instrument', 'genre', 'file_name'])\n",
    "\n",
    "    for inst in instrument_map:\n",
    "        for genre in genre_split:\n",
    "\n",
    "            split_case = pd.DataFrame(columns=['instrument', 'genre', 'file_name'])\n",
    "            to_split = meta_all.loc[(meta_all['instrument'] == inst) & (meta_all['genre'] == genre)]['file_name'].values\n",
    "\n",
    "            if len(to_split) > 0:\n",
    "                idx_shuffle = np.array(random.sample(range(len(to_split)), len(to_split)))  # shuffle\n",
    "                to_split = to_split[idx_shuffle]\n",
    "                \n",
    "                split_case['instrument'] = [inst] * len(to_split)\n",
    "                split_case['genre'] = [genre] * len(to_split)\n",
    "                split_case['file_name'] = to_split\n",
    "\n",
    "                meta_split = meta_split.append(split_case)\n",
    "\n",
    "    return meta_split"
   ]
  },
  {
   "cell_type": "code",
   "execution_count": 12,
   "metadata": {},
   "outputs": [],
   "source": [
    "A_meta_all = AB_split(meta_all, instrument_map, A_genre)\n",
    "B_meta_all = AB_split(meta_all, instrument_map, B_genre)"
   ]
  },
  {
   "cell_type": "code",
   "execution_count": 13,
   "metadata": {},
   "outputs": [
    {
     "data": {
      "text/plain": [
       "(3000, 3705)"
      ]
     },
     "execution_count": 13,
     "metadata": {},
     "output_type": "execute_result"
    }
   ],
   "source": [
    "len(A_meta_all), len(B_meta_all)"
   ]
  },
  {
   "cell_type": "code",
   "execution_count": 14,
   "metadata": {},
   "outputs": [],
   "source": [
    "A_meta_all = AB_split(meta_all, instrument_map, A_genre)\n",
    "B_meta_all = AB_split(meta_all, instrument_map, B_genre)\n",
    "A_meta_all['split'] = ['A'] * len(A_meta_all)\n",
    "B_meta_all['split'] = ['B'] * len(B_meta_all)\n",
    "\n",
    "meta_all = A_meta_all.append(B_meta_all)"
   ]
  },
  {
   "cell_type": "code",
   "execution_count": 15,
   "metadata": {},
   "outputs": [
    {
     "data": {
      "image/png": "[encoded data removed]",
      "text/plain": [
       "<Figure size 1200x300 with 1 Axes>"
      ]
     },
     "metadata": {},
     "output_type": "display_data"
    }
   ],
   "source": [
    "A_meta_count = pd.DataFrame(columns=['instrument', 'genre', 'count'])\n",
    "\n",
    "for inst in instrument_map:\n",
    "    for genre in genre_map:\n",
    "        A_meta_count_item = pd.DataFrame(columns=['instrument', 'genre', 'count'])\n",
    "\n",
    "        A_meta_count_item['instrument'] = [inst]\n",
    "        A_meta_count_item['genre'] = [genre]\n",
    "        A_meta_count_item['count'] = len(A_meta_all.loc[(A_meta_all['instrument'] == inst) & (A_meta_all['genre'] == genre)])\n",
    "\n",
    "        A_meta_count = A_meta_count.append(A_meta_count_item)\n",
    "\n",
    "sns.set_theme(context='notebook', style='whitegrid', palette='deep')\n",
    "ax = sns.catplot(data=A_meta_count, x='genre', y='count', hue='instrument', kind='bar', height=3, aspect=4,\n",
    "               legend_out=False, palette=\"ch:s=.25,rot=-.25\")\n",
    "lgd = sns.move_legend(ax, \"lower center\", bbox_to_anchor=(.54, -.11), ncol=11, title=None, frameon=False)"
   ]
  },
  {
   "cell_type": "code",
   "execution_count": 16,
   "metadata": {},
   "outputs": [
    {
     "data": {
      "image/png": "[encoded data removed]",
      "text/plain": [
       "<Figure size 1200x300 with 1 Axes>"
      ]
     },
     "metadata": {},
     "output_type": "display_data"
    }
   ],
   "source": [
    "B_meta_count = pd.DataFrame(columns=['instrument', 'genre', 'count'])\n",
    "\n",
    "for inst in instrument_map:\n",
    "    for genre in genre_map:\n",
    "        B_meta_count_item = pd.DataFrame(columns=['instrument', 'genre', 'count'])\n",
    "\n",
    "        B_meta_count_item['instrument'] = [inst]\n",
    "        B_meta_count_item['genre'] = [genre]\n",
    "        B_meta_count_item['count'] = len(B_meta_all.loc[(B_meta_all['instrument'] == inst) & (B_meta_all['genre'] == genre)])\n",
    "\n",
    "        B_meta_count = B_meta_count.append(B_meta_count_item)\n",
    "\n",
    "sns.set_theme(context='notebook', style='whitegrid', palette='deep')\n",
    "ax = sns.catplot(data=B_meta_count, x='genre', y='count', hue='instrument', kind='bar', height=3, aspect=4,\n",
    "               legend_out=False, palette=\"ch:s=.25,rot=-.25\")\n",
    "lgd = sns.move_legend(ax, \"lower center\", bbox_to_anchor=(.54, -.11), ncol=11, title=None, frameon=False)"
   ]
  },
  {
   "cell_type": "code",
   "execution_count": 17,
   "metadata": {},
   "outputs": [],
   "source": [
    "meta_all.to_csv('irmas_meta_all.csv', header=None, index=None)"
   ]
  },
  {
   "cell_type": "markdown",
   "metadata": {},
   "source": [
    "# A split"
   ]
  },
  {
   "cell_type": "code",
   "execution_count": 18,
   "metadata": {},
   "outputs": [],
   "source": [
    "A_train, A_test = train_test_split(A_meta_all, instrument_map, genre_map, 0.75)\n",
    "A_train['split'] = ['train'] * len(A_train)\n",
    "A_test['split'] = ['test'] * len(A_test)\n",
    "A_meta = A_train.append(A_test)"
   ]
  },
  {
   "cell_type": "code",
   "execution_count": 19,
   "metadata": {},
   "outputs": [],
   "source": [
    "B_train, B_test = train_test_split(B_meta_all, instrument_map, genre_map, 0.75)\n",
    "B_train['split'] = ['train'] * len(B_train)\n",
    "B_test['split'] = ['test'] * len(B_test)\n",
    "B_meta = B_train.append(B_test)"
   ]
  },
  {
   "cell_type": "code",
   "execution_count": 20,
   "metadata": {},
   "outputs": [],
   "source": [
    "A_meta.to_csv('A_meta.csv', index=None)"
   ]
  },
  {
   "cell_type": "code",
   "execution_count": 21,
   "metadata": {},
   "outputs": [],
   "source": [
    "B_meta.to_csv('B_meta.csv', index=None)"
   ]
  },
  {
   "cell_type": "code",
   "execution_count": null,
   "metadata": {},
   "outputs": [],
   "source": []
  },
  {
   "cell_type": "code",
   "execution_count": null,
   "metadata": {},
   "outputs": [],
   "source": []
  },
  {
   "cell_type": "code",
   "execution_count": 22,
   "metadata": {},
   "outputs": [],
   "source": [
    "# instrument_map = {'cla': 'clarinet', \n",
    "#                    'org': 'organ',\n",
    "#                    'cel': 'cello',\n",
    "#                    'vio': 'violin',\n",
    "#                    'gac': 'guitar-ac',\n",
    "#                    'voi': 'voice',\n",
    "#                    'gel': 'guitar-el',\n",
    "#                    'sax': 'saxophone',\n",
    "#                    'tru': 'trumpet',\n",
    "#                    'pia': 'piano',\n",
    "#                    'flu': 'flute'}\n",
    "\n",
    "# genre_map = {'pop_roc': 'pop_roc',\n",
    "#             'jaz_blu': 'jazz_blue',\n",
    "#             'cla': 'classical',\n",
    "#             'cou_fol': 'country_folk',\n",
    "#             'lat_sou': 'latin_soul'}"
   ]
  },
  {
   "cell_type": "code",
   "execution_count": 23,
   "metadata": {},
   "outputs": [],
   "source": [
    "# instruments = [instrument_map[key] for key in instruments]\n",
    "# print(set(instruments), len(instruments))\n",
    "\n",
    "# genres = [genre_map[key] for key in genres]\n",
    "# print(set(genres), len(genres))"
   ]
  },
  {
   "cell_type": "code",
   "execution_count": null,
   "metadata": {},
   "outputs": [],
   "source": []
  }
 ],
 "metadata": {
  "kernelspec": {
   "display_name": "ismir2022embedding",
   "language": "python",
   "name": "python3"
  },
  "language_info": {
   "codemirror_mode": {
    "name": "ipython",
    "version": 3
   },
   "file_extension": ".py",
   "mimetype": "text/x-python",
   "name": "python",
   "nbconvert_exporter": "python",
   "pygments_lexer": "ipython3",
   "version": "3.9.0"
  },
  "toc": {
   "base_numbering": 1,
   "nav_menu": {},
   "number_sections": true,
   "sideBar": true,
   "skip_h1_title": false,
   "title_cell": "Table of Contents",
   "title_sidebar": "Contents",
   "toc_cell": false,
   "toc_position": {
    "height": "621.778px",
    "left": "21px",
    "top": "111.139px",
    "width": "165px"
   },
   "toc_section_display": true,
   "toc_window_display": true
  },
  "vscode": {
   "interpreter": {
    "hash": "e2e45284a6c14b0a92859aa6111181c4542423174f88d2070b0d025532226888"
   }
  }
 },
 "nbformat": 4,
 "nbformat_minor": 4
}
