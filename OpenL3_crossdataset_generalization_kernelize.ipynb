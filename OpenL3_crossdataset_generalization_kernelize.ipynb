{
 "cells": [
  {
   "cell_type": "code",
   "execution_count": 1,
   "metadata": {},
   "outputs": [],
   "source": [
    "%matplotlib inline\n",
    "import matplotlib.pyplot as plt\n",
    "import seaborn as sns\n",
    "import numpy as np\n",
    "from tqdm import tqdm_notebook as tqdm\n",
    "import json\n",
    "import pandas as pd\n",
    "import os\n",
    "import h5py\n",
    "import pickle\n",
    "import warnings\n",
    "warnings.filterwarnings('ignore')\n",
    "\n",
    "from sklearn.linear_model import LogisticRegression\n",
    "from sklearn.model_selection import GridSearchCV\n",
    "from sklearn.metrics import classification_report, roc_auc_score, average_precision_score\n",
    "from sklearn import svm\n",
    "from sklearn.kernel_approximation import RBFSampler\n",
    "from sklearn.linear_model import SGDClassifier\n",
    "from sklearn.preprocessing import StandardScaler"
   ]
  },
  {
   "cell_type": "markdown",
   "metadata": {},
   "source": [
    "# Load embeddings and align classes"
   ]
  },
  {
   "cell_type": "code",
   "execution_count": 2,
   "metadata": {},
   "outputs": [
    {
     "name": "stdout",
     "output_type": "stream",
     "text": [
      "irmas\n",
      "irmas/openl3\n",
      "irmas/openl3/features\n",
      "irmas/openl3/keys\n",
      "irmas/vggish\n",
      "irmas/vggish/features\n",
      "irmas/vggish/keys\n",
      "irmas/yamnet\n",
      "irmas/yamnet/features\n",
      "irmas/yamnet/keys\n",
      "openmic\n",
      "openmic/openl3\n",
      "openmic/openl3/features\n",
      "openmic/openl3/keys\n",
      "openmic/vggish\n",
      "openmic/vggish/features\n",
      "openmic/vggish/keys\n",
      "openmic/yamnet\n",
      "openmic/yamnet/features\n",
      "openmic/yamnet/keys\n"
     ]
    }
   ],
   "source": [
    "embeddings = h5py.File('../embedding-bias/embeddings.h5', 'r')\n",
    "\n",
    "def printname(name):\n",
    "    print(name)\n",
    "embeddings.visit(printname)"
   ]
  },
  {
   "cell_type": "code",
   "execution_count": 3,
   "metadata": {},
   "outputs": [
    {
     "data": {
      "text/plain": [
       "{'cello': 3,\n",
       " 'clarinet': 4,\n",
       " 'flute': 7,\n",
       " 'guitar': 8,\n",
       " 'organ': 11,\n",
       " 'piano': 12,\n",
       " 'saxophone': 13,\n",
       " 'trumpet': 16,\n",
       " 'violin': 18,\n",
       " 'voice': 19}"
      ]
     },
     "execution_count": 3,
     "metadata": {},
     "output_type": "execute_result"
    }
   ],
   "source": [
    "with open('class-map-10.json', 'r') as f: # only consider 10 classes of Openmic dataset\n",
    "    class_map = json.load(f)\n",
    "    \n",
    "class_map"
   ]
  },
  {
   "cell_type": "code",
   "execution_count": 4,
   "metadata": {},
   "outputs": [],
   "source": [
    "# use a dict to align the classes between Openmic dataset (key) and Irmas dataset (val)\n",
    "class_align = {'cello': 'cel',\n",
    "               'clarinet': 'cla',\n",
    "               'flute': 'flu',\n",
    "               'guitar': ['gac', 'gel'],\n",
    "               'organ': 'org',\n",
    "               'piano': 'pia',\n",
    "               'saxophone': 'sax',\n",
    "               'trumpet': 'tru',\n",
    "               'violin': 'vio',\n",
    "               'voice': 'voi'}"
   ]
  },
  {
   "cell_type": "code",
   "execution_count": 5,
   "metadata": {},
   "outputs": [],
   "source": [
    "# use a Pandas DataFrame to record all results and save into a csv file later\n",
    "result_all = pd.DataFrame({'instrument': [],\n",
    "                          'train_set': [],\n",
    "                          'test_set': [],\n",
    "                          'precision': [],\n",
    "                          'recall': [],\n",
    "                          'f1-score': [],\n",
    "                          'support': [],\n",
    "                          'accuracy': [],\n",
    "                          'roc_auc': [],\n",
    "                          'ap': []\n",
    "                         })"
   ]
  },
  {
   "cell_type": "code",
   "execution_count": 6,
   "metadata": {},
   "outputs": [],
   "source": [
    "embedding_name = 'openl3'"
   ]
  },
  {
   "cell_type": "markdown",
   "metadata": {},
   "source": [
    "# irmas->irmas"
   ]
  },
  {
   "cell_type": "code",
   "execution_count": 7,
   "metadata": {},
   "outputs": [
    {
     "name": "stdout",
     "output_type": "stream",
     "text": [
      "(167625, 512) (167625,)\n",
      "(6705,)\n"
     ]
    }
   ],
   "source": [
    "# irmas: Vggish embedding\n",
    "feature = np.array(embeddings['irmas'][embedding_name]['features'])\n",
    "keys_ori = np.array(embeddings['irmas'][embedding_name]['keys'])\n",
    "print(feature.shape, keys_ori.shape)\n",
    "\n",
    "key_clip = np.unique(keys_ori)\n",
    "print(key_clip.shape)"
   ]
  },
  {
   "cell_type": "code",
   "execution_count": 8,
   "metadata": {},
   "outputs": [
    {
     "data": {
      "text/plain": [
       "array([b'001__[gel][dru][pop_roc]0829__1',\n",
       "       b'001__[gel][dru][pop_roc]0829__2',\n",
       "       b'001__[gel][dru][pop_roc]0829__3', ..., b'[voi][pop_roc]2548__1',\n",
       "       b'[voi][pop_roc]2548__2', b'[voi][pop_roc]2548__3'], dtype=object)"
      ]
     },
     "execution_count": 8,
     "metadata": {},
     "output_type": "execute_result"
    }
   ],
   "source": [
    "key_clip"
   ]
  },
  {
   "cell_type": "code",
   "execution_count": 9,
   "metadata": {},
   "outputs": [
    {
     "data": {
      "application/vnd.jupyter.widget-view+json": {
       "model_id": "2d74ca5efee646548248c93564a2642e",
       "version_major": 2,
       "version_minor": 0
      },
      "text/plain": [
       "  0%|          | 0/6705 [00:00<?, ?it/s]"
      ]
     },
     "metadata": {},
     "output_type": "display_data"
    },
    {
     "name": "stdout",
     "output_type": "stream",
     "text": [
      "(6705, 512) (6705,)\n"
     ]
    }
   ],
   "source": [
    "feature_clip = []\n",
    "\n",
    "for key in tqdm(key_clip):\n",
    "    feature_clip.append(np.mean(feature[keys_ori[:]==key,:],axis=0))\n",
    "    \n",
    "feature_clip = np.array(feature_clip)\n",
    "key_clip = np.array([str(k, encoding='utf-8') for k in key_clip])\n",
    "print(feature_clip.shape, key_clip.shape)"
   ]
  },
  {
   "cell_type": "code",
   "execution_count": 10,
   "metadata": {},
   "outputs": [],
   "source": [
    "key_train = list(pd.read_csv('irmas_train.csv', header=None, squeeze=True))\n",
    "key_test = list(pd.read_csv('irmas_test.csv', header=None, squeeze=True))\n",
    "\n",
    "# key_train = np.array([k[2:-1] for k in key_train])\n",
    "# key_test = np.array([k[2:-1]  for k in key_test])"
   ]
  },
  {
   "cell_type": "code",
   "execution_count": 11,
   "metadata": {},
   "outputs": [],
   "source": [
    "# these loops go through all sample keys, and save their row numbers to either idx_train or idx_test\n",
    "idx_train, idx_test = [], []\n",
    "\n",
    "for k in range(len(key_clip)):\n",
    "    if str(key_clip[k]) in key_train:\n",
    "        idx_train.append(k)\n",
    "    elif str(key_clip[k]) in key_test:\n",
    "        idx_test.append(k)\n",
    "    else:\n",
    "        # This should never happen, but better safe than sorry.\n",
    "        raise RuntimeError('Unknown sample key={}! Abort!'.format(str(key_clip[k])))\n",
    "        \n",
    "# cast the idx_* arrays to numpy structures\n",
    "idx_train = np.asarray(idx_train)\n",
    "idx_test = np.asarray(idx_test)"
   ]
  },
  {
   "cell_type": "code",
   "execution_count": 12,
   "metadata": {},
   "outputs": [
    {
     "data": {
      "text/plain": [
       "array(['cello', 'clarinet', 'flute', 'guitar', 'organ', 'piano',\n",
       "       'saxophone', 'trumpet', 'violin', 'voice'], dtype='<U9')"
      ]
     },
     "execution_count": 12,
     "metadata": {},
     "output_type": "execute_result"
    }
   ],
   "source": [
    "keys = np.array(key_clip)\n",
    "keys = [key[key.index('[')+1:key.index(']')] for key in keys]\n",
    "\n",
    "for key in class_align:\n",
    "    keys = [key if x in class_align[key] else x for x in keys]\n",
    "    \n",
    "keys = np.array(keys)\n",
    "np.unique(keys)"
   ]
  },
  {
   "cell_type": "code",
   "execution_count": 13,
   "metadata": {},
   "outputs": [
    {
     "name": "stdout",
     "output_type": "stream",
     "text": [
      "(5039, 512)\n",
      "(1666, 512)\n"
     ]
    }
   ],
   "source": [
    "# use the split indices to partition the features, labels, and masks\n",
    "X_train = feature_clip[idx_train,:]\n",
    "X_test = feature_clip[idx_test]\n",
    "\n",
    "Y_true_train = keys[idx_train]\n",
    "Y_true_test = keys[idx_test]\n",
    "\n",
    "# print out the sliced shapes as a sanity check\n",
    "print(X_train.shape)\n",
    "print(X_test.shape)"
   ]
  },
  {
   "cell_type": "code",
   "execution_count": 14,
   "metadata": {},
   "outputs": [
    {
     "name": "stdout",
     "output_type": "stream",
     "text": [
      "(5039, 2048) (1666, 2048)\n"
     ]
    },
    {
     "data": {
      "text/plain": [
       "RBFSampler(gamma=1e-05, n_components=2048, random_state=0)"
      ]
     },
     "execution_count": 14,
     "metadata": {},
     "output_type": "execute_result"
    }
   ],
   "source": [
    "# standardize embedding\n",
    "scaler = StandardScaler()\n",
    "X_train = scaler.fit_transform(X_train)\n",
    "X_test = scaler.fit_transform(X_test)\n",
    "\n",
    "# kernelize embedding\n",
    "feature_map_fourier = RBFSampler(n_components=4*X_train.shape[1], random_state=0)\n",
    "param_grid = {'gamma': [10**(-5), 10**(-4), 10**(-3), 10**(-2), 10**(-1)] }  \n",
    "scoring = 'roc_auc'; cv = 3\n",
    "Sampler = GridSearchCV(feature_map_fourier, param_grid=param_grid, cv=cv, scoring=scoring)  \n",
    "Sampler.fit(X_train)\n",
    "X_train = Sampler.transform(X_train)\n",
    "X_test = Sampler.transform(X_test)\n",
    "print(X_train.shape, X_test.shape)\n",
    "\n",
    "Sampler.best_estimator_"
   ]
  },
  {
   "cell_type": "code",
   "execution_count": 15,
   "metadata": {},
   "outputs": [
    {
     "name": "stdout",
     "output_type": "stream",
     "text": [
      "----------------------------------------------------\n",
      "cello\n",
      "\tTEST\n",
      "              precision    recall  f1-score   support\n",
      "\n",
      "       False       0.99      0.94      0.96      1572\n",
      "        True       0.46      0.87      0.60        94\n",
      "\n",
      "    accuracy                           0.93      1666\n",
      "   macro avg       0.73      0.91      0.78      1666\n",
      "weighted avg       0.96      0.93      0.94      1666\n",
      "\n",
      "ROC-AUC = 0.968\t\tAP = 0.749\n",
      "----------------------------------------------------\n",
      "clarinet\n",
      "\tTEST\n",
      "              precision    recall  f1-score   support\n",
      "\n",
      "       False       0.98      0.89      0.93      1539\n",
      "        True       0.37      0.76      0.50       127\n",
      "\n",
      "    accuracy                           0.88      1666\n",
      "   macro avg       0.68      0.83      0.72      1666\n",
      "weighted avg       0.93      0.88      0.90      1666\n",
      "\n",
      "ROC-AUC = 0.909\t\tAP = 0.641\n",
      "----------------------------------------------------\n",
      "flute\n",
      "\tTEST\n",
      "              precision    recall  f1-score   support\n",
      "\n",
      "       False       0.98      0.89      0.93      1545\n",
      "        True       0.34      0.73      0.47       121\n",
      "\n",
      "    accuracy                           0.88      1666\n",
      "   macro avg       0.66      0.81      0.70      1666\n",
      "weighted avg       0.93      0.88      0.90      1666\n",
      "\n",
      "ROC-AUC = 0.904\t\tAP = 0.582\n",
      "----------------------------------------------------\n",
      "guitar\n",
      "\tTEST\n",
      "              precision    recall  f1-score   support\n",
      "\n",
      "       False       0.97      0.90      0.93      1320\n",
      "        True       0.69      0.89      0.78       346\n",
      "\n",
      "    accuracy                           0.89      1666\n",
      "   macro avg       0.83      0.89      0.85      1666\n",
      "weighted avg       0.91      0.89      0.90      1666\n",
      "\n",
      "ROC-AUC = 0.962\t\tAP = 0.868\n",
      "----------------------------------------------------\n",
      "organ\n",
      "\tTEST\n",
      "              precision    recall  f1-score   support\n",
      "\n",
      "       False       1.00      0.94      0.97      1492\n",
      "        True       0.65      0.97      0.77       174\n",
      "\n",
      "    accuracy                           0.94      1666\n",
      "   macro avg       0.82      0.95      0.87      1666\n",
      "weighted avg       0.96      0.94      0.95      1666\n",
      "\n",
      "ROC-AUC = 0.987\t\tAP = 0.886\n",
      "----------------------------------------------------\n",
      "piano\n",
      "\tTEST\n",
      "              precision    recall  f1-score   support\n",
      "\n",
      "       False       0.99      0.96      0.98      1496\n",
      "        True       0.74      0.89      0.81       170\n",
      "\n",
      "    accuracy                           0.96      1666\n",
      "   macro avg       0.86      0.93      0.89      1666\n",
      "weighted avg       0.96      0.96      0.96      1666\n",
      "\n",
      "ROC-AUC = 0.979\t\tAP = 0.922\n",
      "----------------------------------------------------\n",
      "saxophone\n",
      "\tTEST\n",
      "              precision    recall  f1-score   support\n",
      "\n",
      "       False       0.97      0.83      0.89      1516\n",
      "        True       0.29      0.70      0.41       150\n",
      "\n",
      "    accuracy                           0.82      1666\n",
      "   macro avg       0.63      0.77      0.65      1666\n",
      "weighted avg       0.90      0.82      0.85      1666\n",
      "\n",
      "ROC-AUC = 0.859\t\tAP = 0.480\n",
      "----------------------------------------------------\n",
      "trumpet\n",
      "\tTEST\n",
      "              precision    recall  f1-score   support\n",
      "\n",
      "       False       0.98      0.92      0.95      1516\n",
      "        True       0.51      0.85      0.64       150\n",
      "\n",
      "    accuracy                           0.91      1666\n",
      "   macro avg       0.75      0.88      0.79      1666\n",
      "weighted avg       0.94      0.91      0.92      1666\n",
      "\n",
      "ROC-AUC = 0.953\t\tAP = 0.731\n",
      "----------------------------------------------------\n",
      "violin\n",
      "\tTEST\n",
      "              precision    recall  f1-score   support\n",
      "\n",
      "       False       0.97      0.88      0.93      1523\n",
      "        True       0.37      0.71      0.48       143\n",
      "\n",
      "    accuracy                           0.87      1666\n",
      "   macro avg       0.67      0.80      0.71      1666\n",
      "weighted avg       0.92      0.87      0.89      1666\n",
      "\n",
      "ROC-AUC = 0.892\t\tAP = 0.525\n",
      "----------------------------------------------------\n",
      "voice\n",
      "\tTEST\n",
      "              precision    recall  f1-score   support\n",
      "\n",
      "       False       0.99      0.96      0.98      1475\n",
      "        True       0.77      0.95      0.85       191\n",
      "\n",
      "    accuracy                           0.96      1666\n",
      "   macro avg       0.88      0.96      0.92      1666\n",
      "weighted avg       0.97      0.96      0.96      1666\n",
      "\n",
      "ROC-AUC = 0.992\t\tAP = 0.958\n"
     ]
    }
   ],
   "source": [
    "train_set_name, test_set_name = 'irmas', 'irmas'\n",
    "\n",
    "# use a dictionary to include the classifier for each instrument trained on the dataset based on the embedding\n",
    "globals()['models_'+train_set_name] = dict()  \n",
    "\n",
    "# iterate over all istrument classes, and fit a model for each one\n",
    "for instrument in class_align:\n",
    "    \n",
    "    # get the training and testing labels for each instrument\n",
    "    Y_true_train_inst = Y_true_train==instrument\n",
    "    Y_true_test_inst = Y_true_test==instrument\n",
    "    \n",
    "    # initialize and a logistic regression model\n",
    "    LRmodel = LogisticRegression(random_state=0, penalty='l2', solver='liblinear', class_weight='balanced')\n",
    "    \n",
    "    # hyperparameter tunning for logistic regression model\n",
    "    param_grid = {'C': [0.001, 0.01, 0.1, 1, 10, 100] }  \n",
    "    scoring = 'roc_auc'; cv = 3\n",
    "    clf =  GridSearchCV(LRmodel, param_grid=param_grid, cv=cv, scoring=scoring)  \n",
    "    \n",
    "    # fit the model\n",
    "    clf.fit(X_train, Y_true_train_inst)\n",
    "    \n",
    "    # predict\n",
    "    Y_pred_test_inst = clf.predict(X_test)\n",
    "    \n",
    "    # Get prediction scores for the positive class\n",
    "    Y_pred_test_scores = clf.predict_proba(X_test)[:, 1]\n",
    "    \n",
    "    # print result for each instrument\n",
    "    print('-' * 52); print(instrument); print('\\tTEST')\n",
    "    print(classification_report(Y_true_test_inst, Y_pred_test_inst))\n",
    "    \n",
    "    model_auc = roc_auc_score(Y_true_test_inst, Y_pred_test_scores)\n",
    "    model_ap = average_precision_score(Y_true_test_inst, Y_pred_test_scores)\n",
    "    print(f'ROC-AUC = {model_auc:.3f}\\t\\tAP = {model_ap:.3f}')\n",
    "    \n",
    "    # store the classifier in the model dictionary\n",
    "    globals()['models_'+train_set_name][instrument] = clf\n",
    "    \n",
    "    # record the result for each instrument\n",
    "    report = pd.DataFrame(classification_report(Y_true_test_inst, Y_pred_test_inst, output_dict=True))['True']\n",
    "    report['roc_auc'] = model_auc\n",
    "    report['ap'] = model_ap\n",
    "    \n",
    "    report_accuracy = pd.DataFrame(classification_report(Y_true_test_inst, Y_pred_test_inst, output_dict=True))['accuracy'][-2]\n",
    "    result_inst = [instrument, train_set_name, test_set_name, report['precision'], report['recall'],\n",
    "                   report['f1-score'], report['support'], report_accuracy, model_auc, model_ap]\n",
    "    result_all = result_all.append(pd.DataFrame(np.expand_dims(np.array(result_inst), axis=0), \n",
    "                                                columns=result_all.columns), ignore_index=True)"
   ]
  },
  {
   "cell_type": "markdown",
   "metadata": {},
   "source": [
    "# openmic->openmic"
   ]
  },
  {
   "cell_type": "code",
   "execution_count": 16,
   "metadata": {},
   "outputs": [
    {
     "name": "stdout",
     "output_type": "stream",
     "text": [
      "(1900000, 512) (1900000,)\n"
     ]
    },
    {
     "data": {
      "text/plain": [
       "(20000,)"
      ]
     },
     "execution_count": 16,
     "metadata": {},
     "output_type": "execute_result"
    }
   ],
   "source": [
    "# openmic: vggish embedding\n",
    "feature = np.array(embeddings['openmic'][embedding_name]['features'])\n",
    "keys = np.array(embeddings['openmic'][embedding_name]['keys'])\n",
    "print(feature.shape, keys.shape)\n",
    "\n",
    "key_clip = np.unique(keys)\n",
    "key_clip.shape"
   ]
  },
  {
   "cell_type": "code",
   "execution_count": 17,
   "metadata": {},
   "outputs": [
    {
     "data": {
      "application/vnd.jupyter.widget-view+json": {
       "model_id": "d2198aab70204634b24c435e7867ce3a",
       "version_major": 2,
       "version_minor": 0
      },
      "text/plain": [
       "  0%|          | 0/20000 [00:00<?, ?it/s]"
      ]
     },
     "metadata": {},
     "output_type": "display_data"
    },
    {
     "name": "stdout",
     "output_type": "stream",
     "text": [
      "(20000, 512) (20000,)\n"
     ]
    }
   ],
   "source": [
    "feature_clip = []\n",
    "\n",
    "for key in tqdm(key_clip):\n",
    "    feature_clip.append(np.mean(feature[keys[:]==key,:],axis=0))\n",
    "    \n",
    "feature_clip = np.array(feature_clip)\n",
    "print(feature_clip.shape, key_clip.shape)\n",
    "\n",
    "key_clip = np.array([str(k, encoding='utf-8') for k in key_clip])"
   ]
  },
  {
   "cell_type": "code",
   "execution_count": 18,
   "metadata": {},
   "outputs": [
    {
     "name": "stdout",
     "output_type": "stream",
     "text": [
      "(20000, 20) (20000, 20) (20000,)\n"
     ]
    }
   ],
   "source": [
    "# key-label map using the information from the dataset source\n",
    "data_root = '../datasets/openmic-2018/'\n",
    "# Replaced the above by a local symbolic link within the github repo\n",
    "# data_root = 'openmic-2018/'\n",
    "\n",
    "np_load_old = np.load   # save np.load\n",
    "np.load = lambda *a,**k: np_load_old(*a, allow_pickle=True,**k)   # modify the default parameters of np.load\n",
    "\n",
    "Ytrue = np.load(os.path.join(data_root, 'openmic-2018.npz'))['Y_true']\n",
    "Ymask = np.load(os.path.join(data_root, 'openmic-2018.npz'))['Y_mask']\n",
    "sample_key = np.load(os.path.join(data_root, 'openmic-2018.npz'))['sample_key']\n",
    "\n",
    "np.load = np_load_old   # restore np.load for future normal usage\n",
    "del(np_load_old)\n",
    "\n",
    "print(Ytrue.shape, Ymask.shape, sample_key.shape)"
   ]
  },
  {
   "cell_type": "code",
   "execution_count": 19,
   "metadata": {},
   "outputs": [
    {
     "data": {
      "application/vnd.jupyter.widget-view+json": {
       "model_id": "3c4fc60f9ce8486f9861786e3e4d032e",
       "version_major": 2,
       "version_minor": 0
      },
      "text/plain": [
       "  0%|          | 0/20000 [00:00<?, ?it/s]"
      ]
     },
     "metadata": {},
     "output_type": "display_data"
    },
    {
     "name": "stdout",
     "output_type": "stream",
     "text": [
      "(20000, 512) (20000, 20) (20000, 20)\n"
     ]
    }
   ],
   "source": [
    "Y_true = []\n",
    "Y_mask = []\n",
    "\n",
    "for key in tqdm(key_clip):\n",
    "    Y_true.append(Ytrue[sample_key==key])\n",
    "    Y_mask.append(Ymask[sample_key==key])\n",
    "    \n",
    "Y_true = np.squeeze(np.array(Y_true))\n",
    "Y_mask = np.squeeze(np.array(Y_mask))\n",
    "\n",
    "X = feature_clip\n",
    "del(feature_clip)\n",
    "\n",
    "print(X.shape, Y_true.shape, Y_mask.shape)"
   ]
  },
  {
   "cell_type": "code",
   "execution_count": 20,
   "metadata": {},
   "outputs": [
    {
     "name": "stdout",
     "output_type": "stream",
     "text": [
      "# Train: 14915,  # Test: 5085\n"
     ]
    }
   ],
   "source": [
    "# train-test split\n",
    "split_train = pd.read_csv('openmic2018_train.csv', header=None, squeeze=True)\n",
    "split_test = pd.read_csv('openmic2018_test.csv', header=None, squeeze=True)\n",
    "\n",
    "print('# Train: {},  # Test: {}'.format(len(split_train), len(split_test)))\n",
    "\n",
    "train_set = set(split_train)\n",
    "test_set = set(split_test)"
   ]
  },
  {
   "cell_type": "code",
   "execution_count": 21,
   "metadata": {},
   "outputs": [],
   "source": [
    "idx_train, idx_test = [], []\n",
    "\n",
    "for idx, n in enumerate(key_clip):\n",
    "    if n in train_set:\n",
    "        idx_train.append(idx)\n",
    "    elif n in test_set:\n",
    "        idx_test.append(idx)\n",
    "    else:\n",
    "        raise RuntimeError('Unknown sample key={}! Abort!'.format(key_clip[n]))\n",
    "        \n",
    "idx_train = np.asarray(idx_train)\n",
    "idx_test = np.asarray(idx_test)"
   ]
  },
  {
   "cell_type": "code",
   "execution_count": 22,
   "metadata": {},
   "outputs": [
    {
     "name": "stdout",
     "output_type": "stream",
     "text": [
      "(14915, 512)\n",
      "(5085, 512)\n"
     ]
    }
   ],
   "source": [
    "X_train = X[idx_train]\n",
    "X_test = X[idx_test]\n",
    "\n",
    "Y_true_train = Y_true[idx_train]\n",
    "Y_true_test = Y_true[idx_test]\n",
    "\n",
    "Y_mask_train = Y_mask[idx_train]\n",
    "Y_mask_test = Y_mask[idx_test]\n",
    "\n",
    "print(X_train.shape); print(X_test.shape)"
   ]
  },
  {
   "cell_type": "code",
   "execution_count": 23,
   "metadata": {},
   "outputs": [
    {
     "name": "stdout",
     "output_type": "stream",
     "text": [
      "(14915, 2048) (5085, 2048)\n"
     ]
    },
    {
     "data": {
      "text/plain": [
       "RBFSampler(gamma=1e-05, n_components=2048, random_state=0)"
      ]
     },
     "execution_count": 23,
     "metadata": {},
     "output_type": "execute_result"
    }
   ],
   "source": [
    "# standardize embedding\n",
    "scaler = StandardScaler()\n",
    "X_train = scaler.fit_transform(X_train)\n",
    "X_test = scaler.fit_transform(X_test)\n",
    "\n",
    "# kernelize embedding\n",
    "feature_map_fourier = RBFSampler(n_components=4*X_train.shape[1], random_state=0)\n",
    "param_grid = {'gamma': [10**(-5), 10**(-4), 10**(-3), 10**(-2), 10**(-1)] }  \n",
    "scoring = 'roc_auc'; cv = 3\n",
    "Sampler = GridSearchCV(feature_map_fourier, param_grid=param_grid, cv=cv, scoring=scoring)  \n",
    "Sampler.fit(X_train)\n",
    "X_train = Sampler.transform(X_train)\n",
    "X_test = Sampler.transform(X_test)\n",
    "print(X_train.shape, X_test.shape)\n",
    "\n",
    "Sampler.best_estimator_"
   ]
  },
  {
   "cell_type": "code",
   "execution_count": 24,
   "metadata": {},
   "outputs": [
    {
     "name": "stdout",
     "output_type": "stream",
     "text": [
      "----------------------------------------------------\n",
      "cello\n",
      "\tTEST\n",
      "              precision    recall  f1-score   support\n",
      "\n",
      "       False       0.82      0.80      0.81       259\n",
      "        True       0.77      0.81      0.79       226\n",
      "\n",
      "    accuracy                           0.80       485\n",
      "   macro avg       0.80      0.80      0.80       485\n",
      "weighted avg       0.80      0.80      0.80       485\n",
      "\n",
      "ROC-AUC = 0.891\t\tAP = 0.855\n",
      "----------------------------------------------------\n",
      "clarinet\n",
      "\tTEST\n",
      "              precision    recall  f1-score   support\n",
      "\n",
      "       False       0.90      0.61      0.73       503\n",
      "        True       0.34      0.74      0.47       137\n",
      "\n",
      "    accuracy                           0.64       640\n",
      "   macro avg       0.62      0.68      0.60       640\n",
      "weighted avg       0.78      0.64      0.67       640\n",
      "\n",
      "ROC-AUC = 0.755\t\tAP = 0.428\n",
      "----------------------------------------------------\n",
      "flute\n",
      "\tTEST\n",
      "              precision    recall  f1-score   support\n",
      "\n",
      "       False       0.85      0.63      0.72       387\n",
      "        True       0.48      0.75      0.58       175\n",
      "\n",
      "    accuracy                           0.67       562\n",
      "   macro avg       0.66      0.69      0.65       562\n",
      "weighted avg       0.73      0.67      0.68       562\n",
      "\n",
      "ROC-AUC = 0.773\t\tAP = 0.610\n",
      "----------------------------------------------------\n",
      "guitar\n",
      "\tTEST\n",
      "              precision    recall  f1-score   support\n",
      "\n",
      "       False       0.92      0.97      0.94       150\n",
      "        True       0.98      0.95      0.97       286\n",
      "\n",
      "    accuracy                           0.96       436\n",
      "   macro avg       0.95      0.96      0.95       436\n",
      "weighted avg       0.96      0.96      0.96       436\n",
      "\n",
      "ROC-AUC = 0.988\t\tAP = 0.994\n",
      "----------------------------------------------------\n",
      "organ\n",
      "\tTEST\n",
      "              precision    recall  f1-score   support\n",
      "\n",
      "       False       0.86      0.80      0.83       310\n",
      "        True       0.57      0.68      0.62       121\n",
      "\n",
      "    accuracy                           0.77       431\n",
      "   macro avg       0.72      0.74      0.72       431\n",
      "weighted avg       0.78      0.77      0.77       431\n",
      "\n",
      "ROC-AUC = 0.833\t\tAP = 0.608\n",
      "----------------------------------------------------\n",
      "piano\n",
      "\tTEST\n",
      "              precision    recall  f1-score   support\n",
      "\n",
      "       False       0.92      0.88      0.90       130\n",
      "        True       0.95      0.96      0.96       285\n",
      "\n",
      "    accuracy                           0.94       415\n",
      "   macro avg       0.93      0.92      0.93       415\n",
      "weighted avg       0.94      0.94      0.94       415\n",
      "\n",
      "ROC-AUC = 0.976\t\tAP = 0.988\n",
      "----------------------------------------------------\n",
      "saxophone\n",
      "\tTEST\n",
      "              precision    recall  f1-score   support\n",
      "\n",
      "       False       0.85      0.76      0.80       324\n",
      "        True       0.77      0.86      0.81       305\n",
      "\n",
      "    accuracy                           0.81       629\n",
      "   macro avg       0.81      0.81      0.81       629\n",
      "weighted avg       0.81      0.81      0.81       629\n",
      "\n",
      "ROC-AUC = 0.884\t\tAP = 0.863\n",
      "----------------------------------------------------\n",
      "trumpet\n",
      "\tTEST\n",
      "              precision    recall  f1-score   support\n",
      "\n",
      "       False       0.83      0.79      0.81       467\n",
      "        True       0.71      0.77      0.74       318\n",
      "\n",
      "    accuracy                           0.78       785\n",
      "   macro avg       0.77      0.78      0.77       785\n",
      "weighted avg       0.78      0.78      0.78       785\n",
      "\n",
      "ROC-AUC = 0.850\t\tAP = 0.790\n",
      "----------------------------------------------------\n",
      "violin\n",
      "\tTEST\n",
      "              precision    recall  f1-score   support\n",
      "\n",
      "       False       0.77      0.77      0.77       237\n",
      "        True       0.86      0.86      0.86       394\n",
      "\n",
      "    accuracy                           0.83       631\n",
      "   macro avg       0.81      0.81      0.81       631\n",
      "weighted avg       0.83      0.83      0.83       631\n",
      "\n",
      "ROC-AUC = 0.913\t\tAP = 0.937\n",
      "----------------------------------------------------\n",
      "voice\n",
      "\tTEST\n",
      "              precision    recall  f1-score   support\n",
      "\n",
      "       False       0.87      0.87      0.87       150\n",
      "        True       0.92      0.92      0.92       224\n",
      "\n",
      "    accuracy                           0.90       374\n",
      "   macro avg       0.89      0.89      0.89       374\n",
      "weighted avg       0.90      0.90      0.90       374\n",
      "\n",
      "ROC-AUC = 0.968\t\tAP = 0.979\n"
     ]
    }
   ],
   "source": [
    "# This part of the code follows the baseline model for instrument recognition on the openmic dataset:\n",
    "# https://github.com/cosmir/openmic-2018/blob/master/examples/modeling-baseline.ipynb\n",
    "train_set_name, test_set_name = 'openmic', 'openmic'\n",
    "\n",
    "# use a dictionary to include the classifier for each instrument trained on the dataset based on the embedding\n",
    "globals()['models_'+train_set_name] = dict()  \n",
    "\n",
    "# We'll iterate over all istrument classes, and fit a model for each one\n",
    "# After training, we'll print a classification report for each instrument\n",
    "for instrument in class_align:\n",
    "    \n",
    "    # Map the instrument name to its column number\n",
    "    inst_num = class_map[instrument]\n",
    "    \n",
    "    # First, sub-sample the data: we need to select down to the data for which we have annotations\n",
    "    # This is what the mask arrays are for\n",
    "    train_inst = Y_mask_train[:, inst_num]\n",
    "    test_inst = Y_mask_test[:, inst_num]\n",
    "    \n",
    "    # Here, we're using the Y_mask_train array to slice out only the training examples\n",
    "    # for which we have annotations for the given class\n",
    "    X_train_inst = X_train[train_inst]\n",
    "    \n",
    "    # Again, we slice the labels to the annotated examples\n",
    "    # We thresold the label likelihoods at 0.5 to get binary labels\n",
    "    Y_true_train_inst = Y_true_train[train_inst, inst_num] >= 0.5\n",
    "    \n",
    "    # Repeat the above slicing and dicing but for the test set\n",
    "    X_test_inst = X_test[test_inst]\n",
    "    Y_true_test_inst = Y_true_test[test_inst, inst_num] >= 0.5\n",
    "\n",
    "    # initialize and a logistic regression model\n",
    "    LRmodel = LogisticRegression(random_state=0, penalty='l2', solver='liblinear', class_weight='balanced')\n",
    "    \n",
    "    # hyperparameter tunning for logistic regression model\n",
    "    param_grid = {'C': [0.001, 0.01, 0.1, 1, 10, 100] }  \n",
    "    scoring = 'roc_auc'; cv = 3\n",
    "    clf =  GridSearchCV(LRmodel, param_grid=param_grid, cv=cv, scoring=scoring)    \n",
    "    \n",
    "    # fit the model\n",
    "    clf.fit(X_train_inst, Y_true_train_inst)\n",
    "\n",
    "    # predict\n",
    "    Y_pred_test_inst = clf.predict(X_test_inst)\n",
    "    # Get prediction scores for the positive class\n",
    "    Y_pred_test_scores = clf.predict_proba(X_test_inst)[:, 1]\n",
    "    \n",
    "    # print result for each instrument\n",
    "    print('-' * 52); print(instrument); print('\\tTEST')\n",
    "    print(classification_report(Y_true_test_inst, Y_pred_test_inst))\n",
    "    \n",
    "    model_auc = roc_auc_score(Y_true_test_inst, Y_pred_test_scores)\n",
    "    model_ap = average_precision_score(Y_true_test_inst, Y_pred_test_scores)\n",
    "    print(f'ROC-AUC = {model_auc:.3f}\\t\\tAP = {model_ap:.3f}')\n",
    "    \n",
    "    # store the classifier in the model dictionary\n",
    "    globals()['models_'+train_set_name][instrument] = clf\n",
    "    \n",
    "    # record the result for each instrument\n",
    "    report = pd.DataFrame(classification_report(Y_true_test_inst, Y_pred_test_inst, output_dict=True))['True']\n",
    "    report['roc_auc'] = model_auc\n",
    "    report['ap'] = model_ap\n",
    "    report_accuracy = pd.DataFrame(classification_report(Y_true_test_inst, Y_pred_test_inst, output_dict=True))['accuracy'][-2]\n",
    "    result_inst = [instrument, train_set_name, test_set_name, report['precision'], report['recall'],\n",
    "                   report['f1-score'], report['support'], report_accuracy, model_auc, model_ap]   \n",
    "    result_all = result_all.append(pd.DataFrame(np.expand_dims(np.array(result_inst), axis=0), \n",
    "                                                columns=result_all.columns), ignore_index=True)"
   ]
  },
  {
   "cell_type": "markdown",
   "metadata": {},
   "source": [
    "# irmas->openmic"
   ]
  },
  {
   "cell_type": "code",
   "execution_count": 25,
   "metadata": {},
   "outputs": [
    {
     "name": "stdout",
     "output_type": "stream",
     "text": [
      "----------------------------------------------------\n",
      "cello\n",
      "\tTEST\n",
      "              precision    recall  f1-score   support\n",
      "\n",
      "       False       0.61      0.80      0.69       259\n",
      "        True       0.64      0.42      0.50       226\n",
      "\n",
      "    accuracy                           0.62       485\n",
      "   macro avg       0.62      0.61      0.60       485\n",
      "weighted avg       0.62      0.62      0.60       485\n",
      "\n",
      "ROC-AUC = 0.681\t\tAP = 0.628\n",
      "----------------------------------------------------\n",
      "clarinet\n",
      "\tTEST\n",
      "              precision    recall  f1-score   support\n",
      "\n",
      "       False       0.81      0.68      0.74       503\n",
      "        True       0.26      0.42      0.32       137\n",
      "\n",
      "    accuracy                           0.63       640\n",
      "   macro avg       0.54      0.55      0.53       640\n",
      "weighted avg       0.69      0.63      0.65       640\n",
      "\n",
      "ROC-AUC = 0.653\t\tAP = 0.293\n",
      "----------------------------------------------------\n",
      "flute\n",
      "\tTEST\n",
      "              precision    recall  f1-score   support\n",
      "\n",
      "       False       0.81      0.70      0.75       387\n",
      "        True       0.49      0.64      0.55       175\n",
      "\n",
      "    accuracy                           0.68       562\n",
      "   macro avg       0.65      0.67      0.65       562\n",
      "weighted avg       0.71      0.68      0.69       562\n",
      "\n",
      "ROC-AUC = 0.735\t\tAP = 0.524\n",
      "----------------------------------------------------\n",
      "guitar\n",
      "\tTEST\n",
      "              precision    recall  f1-score   support\n",
      "\n",
      "       False       0.81      0.95      0.87       150\n",
      "        True       0.97      0.88      0.92       286\n",
      "\n",
      "    accuracy                           0.91       436\n",
      "   macro avg       0.89      0.92      0.90       436\n",
      "weighted avg       0.92      0.91      0.91       436\n",
      "\n",
      "ROC-AUC = 0.973\t\tAP = 0.987\n",
      "----------------------------------------------------\n",
      "organ\n",
      "\tTEST\n",
      "              precision    recall  f1-score   support\n",
      "\n",
      "       False       0.78      0.85      0.81       310\n",
      "        True       0.48      0.37      0.42       121\n",
      "\n",
      "    accuracy                           0.71       431\n",
      "   macro avg       0.63      0.61      0.61       431\n",
      "weighted avg       0.69      0.71      0.70       431\n",
      "\n",
      "ROC-AUC = 0.670\t\tAP = 0.466\n",
      "----------------------------------------------------\n",
      "piano\n",
      "\tTEST\n",
      "              precision    recall  f1-score   support\n",
      "\n",
      "       False       0.75      0.95      0.84       130\n",
      "        True       0.98      0.86      0.91       285\n",
      "\n",
      "    accuracy                           0.89       415\n",
      "   macro avg       0.86      0.90      0.88       415\n",
      "weighted avg       0.91      0.89      0.89       415\n",
      "\n",
      "ROC-AUC = 0.963\t\tAP = 0.984\n",
      "----------------------------------------------------\n",
      "saxophone\n",
      "\tTEST\n",
      "              precision    recall  f1-score   support\n",
      "\n",
      "       False       0.70      0.76      0.73       324\n",
      "        True       0.72      0.66      0.69       305\n",
      "\n",
      "    accuracy                           0.71       629\n",
      "   macro avg       0.71      0.71      0.71       629\n",
      "weighted avg       0.71      0.71      0.71       629\n",
      "\n",
      "ROC-AUC = 0.776\t\tAP = 0.717\n",
      "----------------------------------------------------\n",
      "trumpet\n",
      "\tTEST\n",
      "              precision    recall  f1-score   support\n",
      "\n",
      "       False       0.69      0.79      0.74       467\n",
      "        True       0.61      0.47      0.53       318\n",
      "\n",
      "    accuracy                           0.66       785\n",
      "   macro avg       0.65      0.63      0.64       785\n",
      "weighted avg       0.66      0.66      0.66       785\n",
      "\n",
      "ROC-AUC = 0.718\t\tAP = 0.611\n",
      "----------------------------------------------------\n",
      "violin\n",
      "\tTEST\n",
      "              precision    recall  f1-score   support\n",
      "\n",
      "       False       0.67      0.78      0.72       237\n",
      "        True       0.86      0.77      0.81       394\n",
      "\n",
      "    accuracy                           0.77       631\n",
      "   macro avg       0.76      0.78      0.77       631\n",
      "weighted avg       0.79      0.77      0.78       631\n",
      "\n",
      "ROC-AUC = 0.854\t\tAP = 0.892\n",
      "----------------------------------------------------\n",
      "voice\n",
      "\tTEST\n",
      "              precision    recall  f1-score   support\n",
      "\n",
      "       False       0.70      0.97      0.81       150\n",
      "        True       0.97      0.72      0.83       224\n",
      "\n",
      "    accuracy                           0.82       374\n",
      "   macro avg       0.84      0.84      0.82       374\n",
      "weighted avg       0.86      0.82      0.82       374\n",
      "\n",
      "ROC-AUC = 0.964\t\tAP = 0.975\n"
     ]
    }
   ],
   "source": [
    "train_set_name, test_set_name = 'irmas', 'openmic' \n",
    "\n",
    "# iterate over all istrument classes, and fit a model for each one\n",
    "for instrument in class_align:\n",
    "    \n",
    "    # Map the instrument name to its column number\n",
    "    inst_num = class_map[instrument]\n",
    "    \n",
    "    # First, sub-sample the data: we need to select down to the data for which we have annotations \n",
    "    # This is what the mask arrays are for\n",
    "    test_inst = Y_mask_test[:, inst_num]\n",
    "\n",
    "    # Repeat the above slicing and dicing but for the test set\n",
    "    X_test_inst = X_test[test_inst]\n",
    "    Y_true_test_inst = Y_true_test[test_inst, inst_num] >= 0.5\n",
    "\n",
    "    # evaluate the classifier \n",
    "    Y_pred_test_inst =  globals()['models_'+train_set_name][instrument].predict(X_test_inst)\n",
    "    Y_pred_test_scores =  globals()['models_'+train_set_name][instrument].predict_proba(X_test_inst)[:, 1]\n",
    "\n",
    "    # print result for each instrument\n",
    "    print('-' * 52); print(instrument); print('\\tTEST')\n",
    "    print(classification_report(Y_true_test_inst, Y_pred_test_inst))\n",
    "    \n",
    "    model_auc = roc_auc_score(Y_true_test_inst, Y_pred_test_scores)\n",
    "    model_ap = average_precision_score(Y_true_test_inst, Y_pred_test_scores)\n",
    "    print(f'ROC-AUC = {model_auc:.3f}\\t\\tAP = {model_ap:.3f}')\n",
    "    \n",
    "    # record the result for each instrument\n",
    "    report = pd.DataFrame(classification_report(Y_true_test_inst, Y_pred_test_inst, output_dict=True))['True']\n",
    "    report['roc_auc'] = model_auc\n",
    "    report['ap'] = model_ap\n",
    "    report_accuracy = pd.DataFrame(classification_report(Y_true_test_inst, Y_pred_test_inst, output_dict=True))['accuracy'][-2]\n",
    "    result_inst = [instrument, train_set_name, test_set_name, report['precision'], report['recall'],\n",
    "                   report['f1-score'], report['support'], report_accuracy, model_auc, model_ap]   \n",
    "    result_all = result_all.append(pd.DataFrame(np.expand_dims(np.array(result_inst), axis=0), \n",
    "                                                columns=result_all.columns), ignore_index=True)"
   ]
  },
  {
   "cell_type": "markdown",
   "metadata": {},
   "source": [
    "# openmic->irmas"
   ]
  },
  {
   "cell_type": "code",
   "execution_count": 26,
   "metadata": {},
   "outputs": [
    {
     "name": "stdout",
     "output_type": "stream",
     "text": [
      "(167625, 512) (167625,)\n",
      "(6705,)\n"
     ]
    },
    {
     "data": {
      "application/vnd.jupyter.widget-view+json": {
       "model_id": "e6e0991c307f4726ad68a1b822b76546",
       "version_major": 2,
       "version_minor": 0
      },
      "text/plain": [
       "  0%|          | 0/6705 [00:00<?, ?it/s]"
      ]
     },
     "metadata": {},
     "output_type": "display_data"
    },
    {
     "name": "stdout",
     "output_type": "stream",
     "text": [
      "(6705, 512) (6705,)\n"
     ]
    }
   ],
   "source": [
    "# irmas: vggish embedding\n",
    "feature = np.array(embeddings['irmas'][embedding_name]['features'])\n",
    "keys_ori = np.array(embeddings['irmas'][embedding_name]['keys'])\n",
    "print(feature.shape, keys_ori.shape)\n",
    "\n",
    "key_clip = np.unique(keys_ori)\n",
    "print(key_clip.shape)\n",
    "\n",
    "feature_clip = []\n",
    "\n",
    "for key in tqdm(key_clip):\n",
    "    feature_clip.append(np.mean(feature[keys_ori[:]==key,:],axis=0))\n",
    "    \n",
    "feature_clip = np.array(feature_clip)\n",
    "key_clip = np.array([str(k, encoding='utf-8') for k in key_clip])\n",
    "print(feature_clip.shape, key_clip.shape)"
   ]
  },
  {
   "cell_type": "code",
   "execution_count": 27,
   "metadata": {},
   "outputs": [],
   "source": [
    "key_train = list(pd.read_csv('irmas_train.csv', header=None, squeeze=True))\n",
    "key_test = list(pd.read_csv('irmas_test.csv', header=None, squeeze=True))\n",
    "\n",
    "# key_train = np.array([k[2:-1] for k in key_train])\n",
    "# key_test = np.array([k[2:-1]  for k in key_test])\n",
    "\n",
    "idx_train, idx_test = [], []\n",
    "\n",
    "for k in range(len(key_clip)):\n",
    "    if str(key_clip[k]) in key_train:\n",
    "        idx_train.append(k)\n",
    "    elif str(key_clip[k]) in key_test:\n",
    "        idx_test.append(k)\n",
    "    else:\n",
    "        raise RuntimeError('Unknown sample key={}! Abort!'.format(key_clip[k]))\n",
    "        \n",
    "idx_train = np.asarray(idx_train)\n",
    "idx_test = np.asarray(idx_test)"
   ]
  },
  {
   "cell_type": "code",
   "execution_count": 28,
   "metadata": {},
   "outputs": [
    {
     "data": {
      "text/plain": [
       "array(['cello', 'clarinet', 'flute', 'guitar', 'organ', 'piano',\n",
       "       'saxophone', 'trumpet', 'violin', 'voice'], dtype='<U9')"
      ]
     },
     "execution_count": 28,
     "metadata": {},
     "output_type": "execute_result"
    }
   ],
   "source": [
    "#keys = np.array([str(k, 'utf-8') for k in key_clip])\n",
    "keys = np.array(key_clip)\n",
    "keys = [key[key.index('[')+1:key.index(']')] for key in keys]\n",
    "\n",
    "for key in class_align:\n",
    "    keys = [key if x in class_align[key] else x for x in keys]\n",
    "    \n",
    "keys = np.array(keys)\n",
    "np.unique(keys)"
   ]
  },
  {
   "cell_type": "code",
   "execution_count": 29,
   "metadata": {},
   "outputs": [
    {
     "name": "stdout",
     "output_type": "stream",
     "text": [
      "(5039, 512)\n",
      "(1666, 512)\n"
     ]
    }
   ],
   "source": [
    "X_train = feature_clip[idx_train,:]\n",
    "X_test = feature_clip[idx_test]\n",
    "\n",
    "Y_true_train = keys[idx_train]\n",
    "Y_true_test = keys[idx_test]\n",
    "\n",
    "print(X_train.shape)\n",
    "print(X_test.shape)"
   ]
  },
  {
   "cell_type": "code",
   "execution_count": 30,
   "metadata": {},
   "outputs": [
    {
     "name": "stdout",
     "output_type": "stream",
     "text": [
      "(5039, 2048) (1666, 2048)\n"
     ]
    },
    {
     "data": {
      "text/plain": [
       "RBFSampler(gamma=1e-05, n_components=2048, random_state=0)"
      ]
     },
     "execution_count": 30,
     "metadata": {},
     "output_type": "execute_result"
    }
   ],
   "source": [
    "# standardize embedding\n",
    "scaler = StandardScaler()\n",
    "X_train = scaler.fit_transform(X_train)\n",
    "X_test = scaler.fit_transform(X_test)\n",
    "\n",
    "# kernelize embedding\n",
    "feature_map_fourier = RBFSampler(n_components=4*X_train.shape[1], random_state=0)\n",
    "param_grid = {'gamma': [10**(-5), 10**(-4), 10**(-3), 10**(-2), 10**(-1)] }  \n",
    "scoring = 'roc_auc'; cv = 3\n",
    "Sampler = GridSearchCV(feature_map_fourier, param_grid=param_grid, cv=cv, scoring=scoring)  \n",
    "Sampler.fit(X_train)\n",
    "X_train = Sampler.transform(X_train)\n",
    "X_test = Sampler.transform(X_test)\n",
    "print(X_train.shape, X_test.shape)\n",
    "\n",
    "Sampler.best_estimator_"
   ]
  },
  {
   "cell_type": "code",
   "execution_count": 31,
   "metadata": {},
   "outputs": [
    {
     "name": "stdout",
     "output_type": "stream",
     "text": [
      "----------------------------------------------------\n",
      "cello\n",
      "\tTEST\n",
      "              precision    recall  f1-score   support\n",
      "\n",
      "       False       0.98      0.76      0.85      1572\n",
      "        True       0.16      0.76      0.26        94\n",
      "\n",
      "    accuracy                           0.76      1666\n",
      "   macro avg       0.57      0.76      0.56      1666\n",
      "weighted avg       0.93      0.76      0.82      1666\n",
      "\n",
      "ROC-AUC = 0.839\t\tAP = 0.323\n",
      "----------------------------------------------------\n",
      "clarinet\n",
      "\tTEST\n",
      "              precision    recall  f1-score   support\n",
      "\n",
      "       False       0.98      0.79      0.87      1539\n",
      "        True       0.23      0.76      0.35       127\n",
      "\n",
      "    accuracy                           0.79      1666\n",
      "   macro avg       0.60      0.77      0.61      1666\n",
      "weighted avg       0.92      0.79      0.84      1666\n",
      "\n",
      "ROC-AUC = 0.852\t\tAP = 0.281\n",
      "----------------------------------------------------\n",
      "flute\n",
      "\tTEST\n",
      "              precision    recall  f1-score   support\n",
      "\n",
      "       False       0.96      0.76      0.85      1545\n",
      "        True       0.17      0.64      0.27       121\n",
      "\n",
      "    accuracy                           0.75      1666\n",
      "   macro avg       0.57      0.70      0.56      1666\n",
      "weighted avg       0.91      0.75      0.81      1666\n",
      "\n",
      "ROC-AUC = 0.783\t\tAP = 0.233\n",
      "----------------------------------------------------\n",
      "guitar\n",
      "\tTEST\n",
      "              precision    recall  f1-score   support\n",
      "\n",
      "       False       0.93      0.79      0.85      1320\n",
      "        True       0.49      0.75      0.59       346\n",
      "\n",
      "    accuracy                           0.79      1666\n",
      "   macro avg       0.71      0.77      0.72      1666\n",
      "weighted avg       0.83      0.79      0.80      1666\n",
      "\n",
      "ROC-AUC = 0.877\t\tAP = 0.682\n",
      "----------------------------------------------------\n",
      "organ\n",
      "\tTEST\n",
      "              precision    recall  f1-score   support\n",
      "\n",
      "       False       0.89      0.90      0.90      1492\n",
      "        True       0.05      0.04      0.04       174\n",
      "\n",
      "    accuracy                           0.81      1666\n",
      "   macro avg       0.47      0.47      0.47      1666\n",
      "weighted avg       0.80      0.81      0.81      1666\n",
      "\n",
      "ROC-AUC = 0.376\t\tAP = 0.080\n",
      "----------------------------------------------------\n",
      "piano\n",
      "\tTEST\n",
      "              precision    recall  f1-score   support\n",
      "\n",
      "       False       0.97      0.74      0.84      1496\n",
      "        True       0.25      0.76      0.38       170\n",
      "\n",
      "    accuracy                           0.74      1666\n",
      "   macro avg       0.61      0.75      0.61      1666\n",
      "weighted avg       0.89      0.74      0.79      1666\n",
      "\n",
      "ROC-AUC = 0.851\t\tAP = 0.626\n",
      "----------------------------------------------------\n",
      "saxophone\n",
      "\tTEST\n",
      "              precision    recall  f1-score   support\n",
      "\n",
      "       False       0.95      0.82      0.88      1516\n",
      "        True       0.22      0.52      0.31       150\n",
      "\n",
      "    accuracy                           0.79      1666\n",
      "   macro avg       0.58      0.67      0.60      1666\n",
      "weighted avg       0.88      0.79      0.83      1666\n",
      "\n",
      "ROC-AUC = 0.757\t\tAP = 0.240\n",
      "----------------------------------------------------\n",
      "trumpet\n",
      "\tTEST\n",
      "              precision    recall  f1-score   support\n",
      "\n",
      "       False       0.97      0.85      0.91      1516\n",
      "        True       0.32      0.73      0.45       150\n",
      "\n",
      "    accuracy                           0.84      1666\n",
      "   macro avg       0.65      0.79      0.68      1666\n",
      "weighted avg       0.91      0.84      0.86      1666\n",
      "\n",
      "ROC-AUC = 0.868\t\tAP = 0.535\n",
      "----------------------------------------------------\n",
      "violin\n",
      "\tTEST\n",
      "              precision    recall  f1-score   support\n",
      "\n",
      "       False       0.96      0.81      0.88      1523\n",
      "        True       0.24      0.64      0.34       143\n",
      "\n",
      "    accuracy                           0.79      1666\n",
      "   macro avg       0.60      0.72      0.61      1666\n",
      "weighted avg       0.90      0.79      0.83      1666\n",
      "\n",
      "ROC-AUC = 0.805\t\tAP = 0.352\n",
      "----------------------------------------------------\n",
      "voice\n",
      "\tTEST\n",
      "              precision    recall  f1-score   support\n",
      "\n",
      "       False       0.99      0.89      0.94      1475\n",
      "        True       0.54      0.95      0.69       191\n",
      "\n",
      "    accuracy                           0.90      1666\n",
      "   macro avg       0.77      0.92      0.81      1666\n",
      "weighted avg       0.94      0.90      0.91      1666\n",
      "\n",
      "ROC-AUC = 0.980\t\tAP = 0.911\n"
     ]
    }
   ],
   "source": [
    "train_set_name, test_set_name = 'openmic', 'irmas' \n",
    "\n",
    "# iterate over all istrument classes, and fit a model for each one\n",
    "for instrument in class_align:\n",
    "    \n",
    "    # get the training and testing labels for each instrument\n",
    "    Y_true_test_inst = Y_true_test==instrument\n",
    "\n",
    "    # evaluate the classifier\n",
    "    Y_pred_test_inst =  globals()['models_'+train_set_name][instrument].predict(X_test)\n",
    "    Y_pred_test_scores =  globals()['models_'+train_set_name][instrument].predict_proba(X_test)[:, 1]\n",
    "    \n",
    "    # print result for each instrument\n",
    "    print('-' * 52); print(instrument); print('\\tTEST')\n",
    "    print(classification_report(Y_true_test_inst, Y_pred_test_inst))\n",
    "    \n",
    "    model_auc = roc_auc_score(Y_true_test_inst, Y_pred_test_scores)\n",
    "    model_ap = average_precision_score(Y_true_test_inst, Y_pred_test_scores)\n",
    "    print(f'ROC-AUC = {model_auc:.3f}\\t\\tAP = {model_ap:.3f}')\n",
    "    \n",
    "    # record the result for each instrument\n",
    "    report = pd.DataFrame(classification_report(Y_true_test_inst, Y_pred_test_inst, output_dict=True))['True']\n",
    "    report['roc_auc'] = model_auc\n",
    "    report['ap'] = model_ap\n",
    "    report_accuracy = pd.DataFrame(classification_report(Y_true_test_inst, Y_pred_test_inst, output_dict=True))['accuracy'][-2]\n",
    "    result_inst = [instrument, train_set_name, test_set_name, report['precision'], report['recall'],\n",
    "                   report['f1-score'], report['support'], report_accuracy, model_auc, model_ap]   \n",
    "    result_all = result_all.append(pd.DataFrame(np.expand_dims(np.array(result_inst), axis=0), \n",
    "                                                columns=result_all.columns), ignore_index=True)"
   ]
  },
  {
   "cell_type": "markdown",
   "metadata": {},
   "source": [
    "# Plot result on each instrument"
   ]
  },
  {
   "cell_type": "code",
   "execution_count": 32,
   "metadata": {},
   "outputs": [],
   "source": [
    "# save all result into a csv file\n",
    "result_all.to_csv('OpenL3_crossdataset_result_kernelize.csv', index=False)"
   ]
  },
  {
   "cell_type": "code",
   "execution_count": 33,
   "metadata": {},
   "outputs": [
    {
     "name": "stdout",
     "output_type": "stream",
     "text": [
      "PRF and accuracy of Vggish averaged over all instruments for each case:\n",
      "openmic->openmic:[0.73, 0.83, 0.77, 0.81, 0.88, 0.81]\n",
      "irmas->openmic:[0.7, 0.62, 0.65, 0.74, 0.8, 0.71]\n",
      "irmas->irmas:[0.52, 0.83, 0.63, 0.91, 0.94, 0.73]\n",
      "openmic->irmas:[0.27, 0.65, 0.37, 0.8, 0.8, 0.43]\n"
     ]
    }
   ],
   "source": [
    "# check the PRF averaged over all instruments for each case:\n",
    "\n",
    "train_irmas = result_all[result_all['train_set']=='irmas']\n",
    "train_openmic = result_all[result_all['train_set']=='openmic']\n",
    "\n",
    "irmas_irmas = train_irmas[train_irmas['test_set']=='irmas']\n",
    "irmas_openmic = train_irmas[train_irmas['test_set']=='openmic']\n",
    "openmic_openmic = train_openmic[train_openmic['test_set']=='openmic']\n",
    "openmic_irmas = train_openmic[train_openmic['test_set']=='irmas']\n",
    "\n",
    "print('PRF and accuracy of Vggish averaged over all instruments for each case:')\n",
    "print('openmic->openmic:{}'.format(list(openmic_openmic[['precision', 'recall', 'f1-score', 'accuracy', 'roc_auc', 'ap']].astype(float).mean(axis=0).round(2))))\n",
    "print('irmas->openmic:{}'.format(list(irmas_openmic[['precision', 'recall', 'f1-score', 'accuracy', 'roc_auc', 'ap']].astype(float).mean(axis=0).round(2))))\n",
    "print('irmas->irmas:{}'.format(list(irmas_irmas[['precision', 'recall', 'f1-score', 'accuracy', 'roc_auc', 'ap']].astype(float).mean(axis=0).round(2))))\n",
    "print('openmic->irmas:{}'.format(list(openmic_irmas[['precision', 'recall', 'f1-score', 'accuracy', 'roc_auc', 'ap']].astype(float).mean(axis=0).round(2))))"
   ]
  },
  {
   "cell_type": "code",
   "execution_count": null,
   "metadata": {},
   "outputs": [],
   "source": []
  }
 ],
 "metadata": {
  "kernelspec": {
   "display_name": "Python 3 (ipykernel)",
   "language": "python",
   "name": "python3"
  },
  "language_info": {
   "codemirror_mode": {
    "name": "ipython",
    "version": 3
   },
   "file_extension": ".py",
   "mimetype": "text/x-python",
   "name": "python",
   "nbconvert_exporter": "python",
   "pygments_lexer": "ipython3",
   "version": "3.9.7"
  },
  "toc": {
   "base_numbering": 1,
   "nav_menu": {},
   "number_sections": true,
   "sideBar": true,
   "skip_h1_title": false,
   "title_cell": "Table of Contents",
   "title_sidebar": "Contents",
   "toc_cell": false,
   "toc_position": {
    "height": "621.778px",
    "left": "21px",
    "top": "111.139px",
    "width": "165px"
   },
   "toc_section_display": true,
   "toc_window_display": true
  }
 },
 "nbformat": 4,
 "nbformat_minor": 4
}
