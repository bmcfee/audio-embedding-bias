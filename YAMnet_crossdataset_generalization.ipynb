{
 "cells": [
  {
   "cell_type": "code",
   "execution_count": 1,
   "metadata": {},
   "outputs": [],
   "source": [
    "%matplotlib inline\n",
    "import matplotlib.pyplot as plt\n",
    "import seaborn as sns\n",
    "import numpy as np\n",
    "import librosa\n",
    "from tqdm import tqdm_notebook as tqdm\n",
    "import json\n",
    "import pandas as pd\n",
    "import os\n",
    "import h5py\n",
    "import warnings\n",
    "warnings.filterwarnings('ignore')\n",
    "\n",
    "from sklearn.linear_model import LogisticRegression\n",
    "from sklearn.model_selection import GridSearchCV\n",
    "from sklearn.metrics import classification_report, roc_auc_score, average_precision_score"
   ]
  },
  {
   "cell_type": "markdown",
   "metadata": {},
   "source": [
    "# Load embeddings and align classes"
   ]
  },
  {
   "cell_type": "code",
   "execution_count": 2,
   "metadata": {},
   "outputs": [
    {
     "name": "stdout",
     "output_type": "stream",
     "text": [
      "irmas\n",
      "irmas/openl3\n",
      "irmas/openl3/features\n",
      "irmas/openl3/keys\n",
      "irmas/vggish\n",
      "irmas/vggish/features\n",
      "irmas/vggish/keys\n",
      "irmas/yamnet\n",
      "irmas/yamnet/features\n",
      "irmas/yamnet/keys\n",
      "openmic\n",
      "openmic/openl3\n",
      "openmic/openl3/features\n",
      "openmic/openl3/keys\n",
      "openmic/vggish\n",
      "openmic/vggish/features\n",
      "openmic/vggish/keys\n",
      "openmic/yamnet\n",
      "openmic/yamnet/features\n",
      "openmic/yamnet/keys\n"
     ]
    }
   ],
   "source": [
    "embeddings = h5py.File('embeddings.h5', 'r')\n",
    "\n",
    "def printname(name):\n",
    "    print(name)\n",
    "embeddings.visit(printname)"
   ]
  },
  {
   "cell_type": "code",
   "execution_count": 3,
   "metadata": {},
   "outputs": [
    {
     "data": {
      "text/html": [
       "<pre style=\"white-space:pre;overflow-x:auto;line-height:normal;font-family:Menlo,'DejaVu Sans Mono',consolas,'Courier New',monospace\">\n",
       "<span style=\"font-weight: bold\">{</span>\n",
       "    <span style=\"color: #008000; text-decoration-color: #008000\">'cello'</span>: <span style=\"color: #008080; text-decoration-color: #008080; font-weight: bold\">3</span>,\n",
       "    <span style=\"color: #008000; text-decoration-color: #008000\">'clarinet'</span>: <span style=\"color: #008080; text-decoration-color: #008080; font-weight: bold\">4</span>,\n",
       "    <span style=\"color: #008000; text-decoration-color: #008000\">'flute'</span>: <span style=\"color: #008080; text-decoration-color: #008080; font-weight: bold\">7</span>,\n",
       "    <span style=\"color: #008000; text-decoration-color: #008000\">'guitar'</span>: <span style=\"color: #008080; text-decoration-color: #008080; font-weight: bold\">8</span>,\n",
       "    <span style=\"color: #008000; text-decoration-color: #008000\">'organ'</span>: <span style=\"color: #008080; text-decoration-color: #008080; font-weight: bold\">11</span>,\n",
       "    <span style=\"color: #008000; text-decoration-color: #008000\">'piano'</span>: <span style=\"color: #008080; text-decoration-color: #008080; font-weight: bold\">12</span>,\n",
       "    <span style=\"color: #008000; text-decoration-color: #008000\">'saxophone'</span>: <span style=\"color: #008080; text-decoration-color: #008080; font-weight: bold\">13</span>,\n",
       "    <span style=\"color: #008000; text-decoration-color: #008000\">'trumpet'</span>: <span style=\"color: #008080; text-decoration-color: #008080; font-weight: bold\">16</span>,\n",
       "    <span style=\"color: #008000; text-decoration-color: #008000\">'violin'</span>: <span style=\"color: #008080; text-decoration-color: #008080; font-weight: bold\">18</span>,\n",
       "    <span style=\"color: #008000; text-decoration-color: #008000\">'voice'</span>: <span style=\"color: #008080; text-decoration-color: #008080; font-weight: bold\">19</span>\n",
       "<span style=\"font-weight: bold\">}</span>\n",
       "</pre>\n"
      ],
      "text/plain": [
       "\n",
       "\u001b[1m{\u001b[0m\n",
       "    \u001b[32m'cello'\u001b[0m: \u001b[1;36m3\u001b[0m,\n",
       "    \u001b[32m'clarinet'\u001b[0m: \u001b[1;36m4\u001b[0m,\n",
       "    \u001b[32m'flute'\u001b[0m: \u001b[1;36m7\u001b[0m,\n",
       "    \u001b[32m'guitar'\u001b[0m: \u001b[1;36m8\u001b[0m,\n",
       "    \u001b[32m'organ'\u001b[0m: \u001b[1;36m11\u001b[0m,\n",
       "    \u001b[32m'piano'\u001b[0m: \u001b[1;36m12\u001b[0m,\n",
       "    \u001b[32m'saxophone'\u001b[0m: \u001b[1;36m13\u001b[0m,\n",
       "    \u001b[32m'trumpet'\u001b[0m: \u001b[1;36m16\u001b[0m,\n",
       "    \u001b[32m'violin'\u001b[0m: \u001b[1;36m18\u001b[0m,\n",
       "    \u001b[32m'voice'\u001b[0m: \u001b[1;36m19\u001b[0m\n",
       "\u001b[1m}\u001b[0m\n"
      ]
     },
     "metadata": {},
     "output_type": "display_data"
    }
   ],
   "source": [
    "with open('class-map-10.json', 'r') as f: # only consider 10 classes of Openmic dataset\n",
    "    class_map = json.load(f)\n",
    "    \n",
    "class_map"
   ]
  },
  {
   "cell_type": "code",
   "execution_count": 4,
   "metadata": {},
   "outputs": [],
   "source": [
    "# use a dict to align the classes between Openmic dataset (key) and Irmas dataset (val)\n",
    "class_align = {'cello': 'cel',\n",
    "               'clarinet': 'cla',\n",
    "               'flute': 'flu',\n",
    "               'guitar': ['gac', 'gel'],\n",
    "               'organ': 'org',\n",
    "               'piano': 'pia',\n",
    "               'saxophone': 'sax',\n",
    "               'trumpet': 'tru',\n",
    "               'violin': 'vio',\n",
    "               'voice': 'voi'}"
   ]
  },
  {
   "cell_type": "code",
   "execution_count": 5,
   "metadata": {},
   "outputs": [],
   "source": [
    "# use a Pandas DataFrame to record all results and save into a csv file later\n",
    "result_all = pd.DataFrame({'instrument': [],\n",
    "                          'train_set': [],\n",
    "                          'test_set': [],\n",
    "                          'precision': [],\n",
    "                          'recall': [],\n",
    "                          'f1-score': [],\n",
    "                          'support': [],\n",
    "                          'accuracy': [],\n",
    "                          'roc_auc': [],\n",
    "                          'ap': []\n",
    "                         })"
   ]
  },
  {
   "cell_type": "markdown",
   "metadata": {},
   "source": [
    "# irmas->irmas"
   ]
  },
  {
   "cell_type": "code",
   "execution_count": 6,
   "metadata": {},
   "outputs": [
    {
     "name": "stdout",
     "output_type": "stream",
     "text": [
      "(33525, 1024) (33525,)\n",
      "(6705,)\n"
     ]
    }
   ],
   "source": [
    "# irmas: yamnet embedding\n",
    "feature = np.array(embeddings['irmas']['yamnet']['features'])\n",
    "keys_ori = np.array(embeddings['irmas']['yamnet']['keys'])\n",
    "print(feature.shape, keys_ori.shape)\n",
    "\n",
    "key_clip = np.unique(keys_ori)\n",
    "print(key_clip.shape)"
   ]
  },
  {
   "cell_type": "code",
   "execution_count": 7,
   "metadata": {},
   "outputs": [
    {
     "data": {
      "text/html": [
       "<pre style=\"white-space:pre;overflow-x:auto;line-height:normal;font-family:Menlo,'DejaVu Sans Mono',consolas,'Courier New',monospace\">\n",
       "<span style=\"color: #800080; text-decoration-color: #800080; font-weight: bold\">array</span><span style=\"font-weight: bold\">([</span><span style=\"color: #008000; text-decoration-color: #008000\">'001__[gel][dru][pop_roc]0829__1'</span>,\n",
       "       <span style=\"color: #008000; text-decoration-color: #008000\">'001__[gel][dru][pop_roc]0829__2'</span>,\n",
       "       <span style=\"color: #008000; text-decoration-color: #008000\">'001__[gel][dru][pop_roc]0829__3'</span>, <span style=\"color: #808000; text-decoration-color: #808000\">...</span>, <span style=\"color: #008000; text-decoration-color: #008000\">'[voi][pop_roc]2548__1'</span>,\n",
       "       <span style=\"color: #008000; text-decoration-color: #008000\">'[voi][pop_roc]2548__2'</span>, <span style=\"color: #008000; text-decoration-color: #008000\">'[voi][pop_roc]2548__3'</span><span style=\"font-weight: bold\">]</span>, <span style=\"color: #808000; text-decoration-color: #808000\">dtype</span>=<span style=\"color: #800080; text-decoration-color: #800080\">object</span><span style=\"font-weight: bold\">)</span>\n",
       "</pre>\n"
      ],
      "text/plain": [
       "\n",
       "\u001b[1;35marray\u001b[0m\u001b[1m(\u001b[0m\u001b[1m[\u001b[0m\u001b[32m'001__\u001b[0m\u001b[32m[\u001b[0m\u001b[32mgel\u001b[0m\u001b[32m]\u001b[0m\u001b[32m[\u001b[0m\u001b[32mdru\u001b[0m\u001b[32m]\u001b[0m\u001b[32m[\u001b[0m\u001b[32mpop_roc\u001b[0m\u001b[32m]\u001b[0m\u001b[32m0829__1'\u001b[0m,\n",
       "       \u001b[32m'001__\u001b[0m\u001b[32m[\u001b[0m\u001b[32mgel\u001b[0m\u001b[32m]\u001b[0m\u001b[32m[\u001b[0m\u001b[32mdru\u001b[0m\u001b[32m]\u001b[0m\u001b[32m[\u001b[0m\u001b[32mpop_roc\u001b[0m\u001b[32m]\u001b[0m\u001b[32m0829__2'\u001b[0m,\n",
       "       \u001b[32m'001__\u001b[0m\u001b[32m[\u001b[0m\u001b[32mgel\u001b[0m\u001b[32m]\u001b[0m\u001b[32m[\u001b[0m\u001b[32mdru\u001b[0m\u001b[32m]\u001b[0m\u001b[32m[\u001b[0m\u001b[32mpop_roc\u001b[0m\u001b[32m]\u001b[0m\u001b[32m0829__3'\u001b[0m, \u001b[33m...\u001b[0m, \u001b[32m'\u001b[0m\u001b[32m[\u001b[0m\u001b[32mvoi\u001b[0m\u001b[32m]\u001b[0m\u001b[32m[\u001b[0m\u001b[32mpop_roc\u001b[0m\u001b[32m]\u001b[0m\u001b[32m2548__1'\u001b[0m,\n",
       "       \u001b[32m'\u001b[0m\u001b[32m[\u001b[0m\u001b[32mvoi\u001b[0m\u001b[32m]\u001b[0m\u001b[32m[\u001b[0m\u001b[32mpop_roc\u001b[0m\u001b[32m]\u001b[0m\u001b[32m2548__2'\u001b[0m, \u001b[32m'\u001b[0m\u001b[32m[\u001b[0m\u001b[32mvoi\u001b[0m\u001b[32m]\u001b[0m\u001b[32m[\u001b[0m\u001b[32mpop_roc\u001b[0m\u001b[32m]\u001b[0m\u001b[32m2548__3'\u001b[0m\u001b[1m]\u001b[0m, \u001b[33mdtype\u001b[0m=\u001b[35mobject\u001b[0m\u001b[1m)\u001b[0m\n"
      ]
     },
     "metadata": {},
     "output_type": "display_data"
    }
   ],
   "source": [
    "key_clip"
   ]
  },
  {
   "cell_type": "code",
   "execution_count": 8,
   "metadata": {},
   "outputs": [
    {
     "data": {
      "application/vnd.jupyter.widget-view+json": {
       "model_id": "04ee0c9879b54e728f771757eab3e9b8",
       "version_major": 2,
       "version_minor": 0
      },
      "text/plain": [
       "  0%|          | 0/6705 [00:00<?, ?it/s]"
      ]
     },
     "metadata": {},
     "output_type": "display_data"
    },
    {
     "name": "stdout",
     "output_type": "stream",
     "text": [
      "(6705, 1024) (6705,)\n"
     ]
    }
   ],
   "source": [
    "feature_clip = []\n",
    "\n",
    "for key in tqdm(key_clip):\n",
    "    feature_clip.append(np.mean(feature[keys_ori[:]==key,:],axis=0))\n",
    "    \n",
    "feature_clip = np.array(feature_clip)\n",
    "print(feature_clip.shape, key_clip.shape)"
   ]
  },
  {
   "cell_type": "code",
   "execution_count": 9,
   "metadata": {},
   "outputs": [],
   "source": [
    "key_train = list(pd.read_csv('irmas_train.csv', header=None, squeeze=True))\n",
    "key_test = list(pd.read_csv('irmas_test.csv', header=None, squeeze=True))"
   ]
  },
  {
   "cell_type": "code",
   "execution_count": 10,
   "metadata": {},
   "outputs": [],
   "source": [
    "# these loops go through all sample keys, and save their row numbers to either idx_train or idx_test\n",
    "idx_train, idx_test = [], []\n",
    "\n",
    "for k in range(len(key_clip)):\n",
    "    if str(key_clip[k]) in key_train:\n",
    "        idx_train.append(k)\n",
    "    elif str(key_clip[k]) in key_test:\n",
    "        idx_test.append(k)\n",
    "    else:\n",
    "        # This should never happen, but better safe than sorry.\n",
    "        raise RuntimeError('Unknown sample key={}! Abort!'.format(str(key_clip[k])))\n",
    "        \n",
    "# cast the idx_* arrays to numpy structures\n",
    "idx_train = np.asarray(idx_train)\n",
    "idx_test = np.asarray(idx_test)"
   ]
  },
  {
   "cell_type": "code",
   "execution_count": 11,
   "metadata": {},
   "outputs": [
    {
     "data": {
      "text/html": [
       "<pre style=\"white-space:pre;overflow-x:auto;line-height:normal;font-family:Menlo,'DejaVu Sans Mono',consolas,'Courier New',monospace\">\n",
       "<span style=\"color: #800080; text-decoration-color: #800080; font-weight: bold\">array</span><span style=\"font-weight: bold\">([</span><span style=\"color: #008000; text-decoration-color: #008000\">'cello'</span>, <span style=\"color: #008000; text-decoration-color: #008000\">'clarinet'</span>, <span style=\"color: #008000; text-decoration-color: #008000\">'flute'</span>, <span style=\"color: #008000; text-decoration-color: #008000\">'guitar'</span>, <span style=\"color: #008000; text-decoration-color: #008000\">'organ'</span>, <span style=\"color: #008000; text-decoration-color: #008000\">'piano'</span>,\n",
       "       <span style=\"color: #008000; text-decoration-color: #008000\">'saxophone'</span>, <span style=\"color: #008000; text-decoration-color: #008000\">'trumpet'</span>, <span style=\"color: #008000; text-decoration-color: #008000\">'violin'</span>, <span style=\"color: #008000; text-decoration-color: #008000\">'voice'</span><span style=\"font-weight: bold\">]</span>, <span style=\"color: #808000; text-decoration-color: #808000\">dtype</span>=<span style=\"color: #008000; text-decoration-color: #008000\">'&lt;U9'</span><span style=\"font-weight: bold\">)</span>\n",
       "</pre>\n"
      ],
      "text/plain": [
       "\n",
       "\u001b[1;35marray\u001b[0m\u001b[1m(\u001b[0m\u001b[1m[\u001b[0m\u001b[32m'cello'\u001b[0m, \u001b[32m'clarinet'\u001b[0m, \u001b[32m'flute'\u001b[0m, \u001b[32m'guitar'\u001b[0m, \u001b[32m'organ'\u001b[0m, \u001b[32m'piano'\u001b[0m,\n",
       "       \u001b[32m'saxophone'\u001b[0m, \u001b[32m'trumpet'\u001b[0m, \u001b[32m'violin'\u001b[0m, \u001b[32m'voice'\u001b[0m\u001b[1m]\u001b[0m, \u001b[33mdtype\u001b[0m=\u001b[32m'<U9'\u001b[0m\u001b[1m)\u001b[0m\n"
      ]
     },
     "metadata": {},
     "output_type": "display_data"
    }
   ],
   "source": [
    "#keys = np.array([str(k, encoding='utf-8') for k in key_clip])\n",
    "keys = np.array(key_clip)\n",
    "keys = [key[key.index('[')+1:key.index(']')] for key in keys]\n",
    "\n",
    "for key in class_align:\n",
    "    keys = [key if x in class_align[key] else x for x in keys]\n",
    "    \n",
    "keys = np.array(keys)\n",
    "np.unique(keys)"
   ]
  },
  {
   "cell_type": "code",
   "execution_count": 12,
   "metadata": {},
   "outputs": [
    {
     "name": "stdout",
     "output_type": "stream",
     "text": [
      "(5039, 1024)\n",
      "(1666, 1024)\n"
     ]
    }
   ],
   "source": [
    "# use the split indices to partition the features, labels, and masks\n",
    "X_train = feature_clip[idx_train,:]\n",
    "X_test = feature_clip[idx_test]\n",
    "\n",
    "Y_true_train = keys[idx_train]\n",
    "Y_true_test = keys[idx_test]\n",
    "\n",
    "# print out the sliced shapes as a sanity check\n",
    "print(X_train.shape)\n",
    "print(X_test.shape)"
   ]
  },
  {
   "cell_type": "code",
   "execution_count": 13,
   "metadata": {},
   "outputs": [
    {
     "name": "stdout",
     "output_type": "stream",
     "text": [
      "----------------------------------------------------\n",
      "cello\n",
      "\tTEST\n",
      "              precision    recall  f1-score   support\n",
      "\n",
      "       False       0.99      0.94      0.96      1572\n",
      "        True       0.45      0.84      0.59        94\n",
      "\n",
      "    accuracy                           0.93      1666\n",
      "   macro avg       0.72      0.89      0.78      1666\n",
      "weighted avg       0.96      0.93      0.94      1666\n",
      "\n",
      "ROC-AUC = 0.959\t\tAP = 0.736\n",
      "----------------------------------------------------\n",
      "clarinet\n",
      "\tTEST\n",
      "              precision    recall  f1-score   support\n",
      "\n",
      "       False       0.98      0.90      0.94      1539\n",
      "        True       0.39      0.81      0.53       127\n",
      "\n",
      "    accuracy                           0.89      1666\n",
      "   macro avg       0.69      0.85      0.73      1666\n",
      "weighted avg       0.94      0.89      0.91      1666\n",
      "\n",
      "ROC-AUC = 0.916\t\tAP = 0.694\n",
      "----------------------------------------------------\n",
      "flute\n",
      "\tTEST\n",
      "              precision    recall  f1-score   support\n",
      "\n",
      "       False       0.98      0.92      0.95      1545\n",
      "        True       0.43      0.79      0.55       121\n",
      "\n",
      "    accuracy                           0.91      1666\n",
      "   macro avg       0.70      0.85      0.75      1666\n",
      "weighted avg       0.94      0.91      0.92      1666\n",
      "\n",
      "ROC-AUC = 0.935\t\tAP = 0.700\n",
      "----------------------------------------------------\n",
      "guitar\n",
      "\tTEST\n",
      "              precision    recall  f1-score   support\n",
      "\n",
      "       False       0.96      0.92      0.94      1320\n",
      "        True       0.73      0.86      0.79       346\n",
      "\n",
      "    accuracy                           0.90      1666\n",
      "   macro avg       0.84      0.89      0.86      1666\n",
      "weighted avg       0.91      0.90      0.91      1666\n",
      "\n",
      "ROC-AUC = 0.966\t\tAP = 0.895\n",
      "----------------------------------------------------\n",
      "organ\n",
      "\tTEST\n",
      "              precision    recall  f1-score   support\n",
      "\n",
      "       False       0.99      0.96      0.98      1492\n",
      "        True       0.73      0.93      0.82       174\n",
      "\n",
      "    accuracy                           0.96      1666\n",
      "   macro avg       0.86      0.95      0.90      1666\n",
      "weighted avg       0.96      0.96      0.96      1666\n",
      "\n",
      "ROC-AUC = 0.987\t\tAP = 0.881\n",
      "----------------------------------------------------\n",
      "piano\n",
      "\tTEST\n",
      "              precision    recall  f1-score   support\n",
      "\n",
      "       False       0.98      0.97      0.97      1496\n",
      "        True       0.74      0.81      0.77       170\n",
      "\n",
      "    accuracy                           0.95      1666\n",
      "   macro avg       0.86      0.89      0.87      1666\n",
      "weighted avg       0.95      0.95      0.95      1666\n",
      "\n",
      "ROC-AUC = 0.961\t\tAP = 0.842\n",
      "----------------------------------------------------\n",
      "saxophone\n",
      "\tTEST\n",
      "              precision    recall  f1-score   support\n",
      "\n",
      "       False       0.98      0.86      0.91      1516\n",
      "        True       0.36      0.81      0.50       150\n",
      "\n",
      "    accuracy                           0.85      1666\n",
      "   macro avg       0.67      0.83      0.70      1666\n",
      "weighted avg       0.92      0.85      0.88      1666\n",
      "\n",
      "ROC-AUC = 0.906\t\tAP = 0.590\n",
      "----------------------------------------------------\n",
      "trumpet\n",
      "\tTEST\n",
      "              precision    recall  f1-score   support\n",
      "\n",
      "       False       0.98      0.94      0.96      1516\n",
      "        True       0.57      0.83      0.67       150\n",
      "\n",
      "    accuracy                           0.93      1666\n",
      "   macro avg       0.77      0.89      0.82      1666\n",
      "weighted avg       0.95      0.93      0.93      1666\n",
      "\n",
      "ROC-AUC = 0.957\t\tAP = 0.842\n",
      "----------------------------------------------------\n",
      "violin\n",
      "\tTEST\n",
      "              precision    recall  f1-score   support\n",
      "\n",
      "       False       0.97      0.90      0.94      1523\n",
      "        True       0.41      0.73      0.53       143\n",
      "\n",
      "    accuracy                           0.89      1666\n",
      "   macro avg       0.69      0.82      0.73      1666\n",
      "weighted avg       0.93      0.89      0.90      1666\n",
      "\n",
      "ROC-AUC = 0.908\t\tAP = 0.670\n",
      "----------------------------------------------------\n",
      "voice\n",
      "\tTEST\n",
      "              precision    recall  f1-score   support\n",
      "\n",
      "       False       0.99      0.98      0.99      1475\n",
      "        True       0.86      0.95      0.90       191\n",
      "\n",
      "    accuracy                           0.98      1666\n",
      "   macro avg       0.93      0.96      0.94      1666\n",
      "weighted avg       0.98      0.98      0.98      1666\n",
      "\n",
      "ROC-AUC = 0.992\t\tAP = 0.949\n"
     ]
    }
   ],
   "source": [
    "train_set_name, test_set_name = 'irmas', 'irmas'\n",
    "\n",
    "# use a dictionary to include the classifier for each instrument trained on the dataset based on the embedding\n",
    "globals()['models_'+train_set_name] = dict()  \n",
    "\n",
    "# iterate over all istrument classes, and fit a model for each one\n",
    "for instrument in class_align:\n",
    "    \n",
    "    # get the training and testing labels for each instrument\n",
    "    Y_true_train_inst = Y_true_train==instrument\n",
    "    Y_true_test_inst = Y_true_test==instrument\n",
    "    \n",
    "    # initialize and a logistic regression model\n",
    "    LRmodel = LogisticRegression(random_state=0, penalty='l2', solver='liblinear', class_weight='balanced')\n",
    "    \n",
    "    # hyperparameter tunning for logistic regression model\n",
    "    param_grid = {'C': [0.001, 0.01, 0.1, 1, 10, 100] }  \n",
    "    scoring = 'f1'; cv = 3\n",
    "    clf =  GridSearchCV(LRmodel, param_grid=param_grid, cv=cv, scoring=scoring)  \n",
    "    \n",
    "    # fit the model\n",
    "    clf.fit(X_train, Y_true_train_inst)\n",
    "    \n",
    "    # predict\n",
    "    Y_pred_test_inst = clf.predict(X_test)\n",
    "    \n",
    "    # Get prediction scores for the positive class\n",
    "    Y_pred_test_scores = clf.predict_proba(X_test)[:, 1]\n",
    "    \n",
    "    # print result for each instrument\n",
    "    print('-' * 52); print(instrument); print('\\tTEST')\n",
    "    print(classification_report(Y_true_test_inst, Y_pred_test_inst))\n",
    "    \n",
    "    model_auc = roc_auc_score(Y_true_test_inst, Y_pred_test_scores)\n",
    "    model_ap = average_precision_score(Y_true_test_inst, Y_pred_test_scores)\n",
    "    print(f'ROC-AUC = {model_auc:.3f}\\t\\tAP = {model_ap:.3f}')\n",
    "    \n",
    "    # store the classifier in the model dictionary\n",
    "    globals()['models_'+train_set_name][instrument] = clf\n",
    "    \n",
    "    # record the result for each instrument\n",
    "    report = pd.DataFrame(classification_report(Y_true_test_inst, Y_pred_test_inst, output_dict=True))['True']\n",
    "    report['roc_auc'] = model_auc\n",
    "    report['ap'] = model_ap\n",
    "    \n",
    "    report_accuracy = pd.DataFrame(classification_report(Y_true_test_inst, Y_pred_test_inst, output_dict=True))['accuracy'][-2]\n",
    "    result_inst = [instrument, train_set_name, test_set_name, report['precision'], report['recall'],\n",
    "                   report['f1-score'], report['support'], report_accuracy, model_auc, model_ap]\n",
    "    result_all = result_all.append(pd.DataFrame(np.expand_dims(np.array(result_inst), axis=0), \n",
    "                                                columns=result_all.columns), ignore_index=True)"
   ]
  },
  {
   "cell_type": "markdown",
   "metadata": {},
   "source": [
    "# openmic->openmic"
   ]
  },
  {
   "cell_type": "code",
   "execution_count": 14,
   "metadata": {},
   "outputs": [
    {
     "name": "stdout",
     "output_type": "stream",
     "text": [
      "(380000, 1024) (380000,)\n"
     ]
    },
    {
     "data": {
      "text/html": [
       "<pre style=\"white-space:pre;overflow-x:auto;line-height:normal;font-family:Menlo,'DejaVu Sans Mono',consolas,'Courier New',monospace\"><span style=\"font-weight: bold\">(</span><span style=\"color: #008080; text-decoration-color: #008080; font-weight: bold\">20000</span>,<span style=\"font-weight: bold\">)</span>\n",
       "</pre>\n"
      ],
      "text/plain": [
       "\u001b[1m(\u001b[0m\u001b[1;36m20000\u001b[0m,\u001b[1m)\u001b[0m\n"
      ]
     },
     "metadata": {},
     "output_type": "display_data"
    }
   ],
   "source": [
    "# openmic: yamnet embedding\n",
    "feature = np.array(embeddings['openmic']['yamnet']['features'])\n",
    "keys = np.array(embeddings['openmic']['yamnet']['keys'])\n",
    "print(feature.shape, keys.shape)\n",
    "\n",
    "key_clip = np.unique(keys)\n",
    "key_clip.shape"
   ]
  },
  {
   "cell_type": "code",
   "execution_count": 15,
   "metadata": {},
   "outputs": [
    {
     "data": {
      "application/vnd.jupyter.widget-view+json": {
       "model_id": "f9e46747cbab4ec1826129ed2bd2742b",
       "version_major": 2,
       "version_minor": 0
      },
      "text/plain": [
       "  0%|          | 0/20000 [00:00<?, ?it/s]"
      ]
     },
     "metadata": {},
     "output_type": "display_data"
    },
    {
     "name": "stdout",
     "output_type": "stream",
     "text": [
      "(20000, 1024) (20000,)\n"
     ]
    },
    {
     "data": {
      "text/html": [
       "<pre style=\"white-space:pre;overflow-x:auto;line-height:normal;font-family:Menlo,'DejaVu Sans Mono',consolas,'Courier New',monospace\">\n",
       "<span style=\"color: #800080; text-decoration-color: #800080; font-weight: bold\">array</span><span style=\"font-weight: bold\">([</span><span style=\"color: #008000; text-decoration-color: #008000\">'000046_3840'</span>, <span style=\"color: #008000; text-decoration-color: #008000\">'000135_483840'</span>, <span style=\"color: #008000; text-decoration-color: #008000\">'000139_119040'</span>, <span style=\"color: #808000; text-decoration-color: #808000\">...</span>,\n",
       "       <span style=\"color: #008000; text-decoration-color: #008000\">'155307_211200'</span>, <span style=\"color: #008000; text-decoration-color: #008000\">'155310_372480'</span>, <span style=\"color: #008000; text-decoration-color: #008000\">'155311_453120'</span><span style=\"font-weight: bold\">]</span>, <span style=\"color: #808000; text-decoration-color: #808000\">dtype</span>=<span style=\"color: #800080; text-decoration-color: #800080\">object</span><span style=\"font-weight: bold\">)</span>\n",
       "</pre>\n"
      ],
      "text/plain": [
       "\n",
       "\u001b[1;35marray\u001b[0m\u001b[1m(\u001b[0m\u001b[1m[\u001b[0m\u001b[32m'000046_3840'\u001b[0m, \u001b[32m'000135_483840'\u001b[0m, \u001b[32m'000139_119040'\u001b[0m, \u001b[33m...\u001b[0m,\n",
       "       \u001b[32m'155307_211200'\u001b[0m, \u001b[32m'155310_372480'\u001b[0m, \u001b[32m'155311_453120'\u001b[0m\u001b[1m]\u001b[0m, \u001b[33mdtype\u001b[0m=\u001b[35mobject\u001b[0m\u001b[1m)\u001b[0m\n"
      ]
     },
     "metadata": {},
     "output_type": "display_data"
    }
   ],
   "source": [
    "feature_clip = []\n",
    "\n",
    "for key in tqdm(key_clip):\n",
    "    feature_clip.append(np.mean(feature[keys[:]==key,:],axis=0))\n",
    "    \n",
    "feature_clip = np.array(feature_clip)\n",
    "print(feature_clip.shape, key_clip.shape)\n",
    "\n",
    "#key_clip = np.array([str(k, 'utf-8') for k in key_clip])\n",
    "key_clip = np.array(key_clip)\n",
    "key_clip"
   ]
  },
  {
   "cell_type": "code",
   "execution_count": 16,
   "metadata": {},
   "outputs": [
    {
     "name": "stdout",
     "output_type": "stream",
     "text": [
      "(20000, 20) (20000, 20) (20000,)\n"
     ]
    }
   ],
   "source": [
    "# key-label map using the information from the dataset source\n",
    "#data_root = '/import/c4dm-datasets/openmic-2018/openmic-2018/'\n",
    "# Replaced the above by a local symbolic link within the github repo\n",
    "data_root = 'openmic-2018/'\n",
    "\n",
    "np_load_old = np.load   # save np.load\n",
    "np.load = lambda *a,**k: np_load_old(*a, allow_pickle=True,**k)   # modify the default parameters of np.load\n",
    "\n",
    "Ytrue = np.load(os.path.join(data_root, 'openmic-2018.npz'))['Y_true']\n",
    "Ymask = np.load(os.path.join(data_root, 'openmic-2018.npz'))['Y_mask']\n",
    "sample_key = np.load(os.path.join(data_root, 'openmic-2018.npz'))['sample_key']\n",
    "\n",
    "np.load = np_load_old   # restore np.load for future normal usage\n",
    "del(np_load_old)\n",
    "\n",
    "print(Ytrue.shape, Ymask.shape, sample_key.shape)"
   ]
  },
  {
   "cell_type": "code",
   "execution_count": 17,
   "metadata": {},
   "outputs": [
    {
     "data": {
      "application/vnd.jupyter.widget-view+json": {
       "model_id": "8e0103d61310406e951330b80ec186b5",
       "version_major": 2,
       "version_minor": 0
      },
      "text/plain": [
       "  0%|          | 0/20000 [00:00<?, ?it/s]"
      ]
     },
     "metadata": {},
     "output_type": "display_data"
    },
    {
     "name": "stdout",
     "output_type": "stream",
     "text": [
      "(20000, 1024) (20000, 20) (20000, 20)\n"
     ]
    }
   ],
   "source": [
    "Y_true = []\n",
    "Y_mask = []\n",
    "\n",
    "for key in tqdm(key_clip):\n",
    "    Y_true.append(Ytrue[sample_key==key])\n",
    "    Y_mask.append(Ymask[sample_key==key])\n",
    "    \n",
    "Y_true = np.squeeze(np.array(Y_true))\n",
    "Y_mask = np.squeeze(np.array(Y_mask))\n",
    "\n",
    "X = feature_clip\n",
    "del(feature_clip)\n",
    "\n",
    "print(X.shape, Y_true.shape, Y_mask.shape)"
   ]
  },
  {
   "cell_type": "code",
   "execution_count": 18,
   "metadata": {},
   "outputs": [
    {
     "name": "stdout",
     "output_type": "stream",
     "text": [
      "# Train: 14915,  # Test: 5085\n"
     ]
    }
   ],
   "source": [
    "# train-test split\n",
    "split_train = pd.read_csv('openmic2018_train.csv', header=None, squeeze=True)\n",
    "split_test = pd.read_csv('openmic2018_test.csv', header=None, squeeze=True)\n",
    "\n",
    "print('# Train: {},  # Test: {}'.format(len(split_train), len(split_test)))\n",
    "\n",
    "train_set = set(split_train)\n",
    "test_set = set(split_test)"
   ]
  },
  {
   "cell_type": "code",
   "execution_count": 19,
   "metadata": {},
   "outputs": [],
   "source": [
    "idx_train, idx_test = [], []\n",
    "\n",
    "for idx, n in enumerate(key_clip):\n",
    "    if n in train_set:\n",
    "        idx_train.append(idx)\n",
    "    elif n in test_set:\n",
    "        idx_test.append(idx)\n",
    "    else:\n",
    "        raise RuntimeError('Unknown sample key={}! Abort!'.format(key_clip[n]))\n",
    "        \n",
    "idx_train = np.asarray(idx_train)\n",
    "idx_test = np.asarray(idx_test)"
   ]
  },
  {
   "cell_type": "code",
   "execution_count": 20,
   "metadata": {},
   "outputs": [
    {
     "name": "stdout",
     "output_type": "stream",
     "text": [
      "(14915, 1024)\n",
      "(5085, 1024)\n"
     ]
    }
   ],
   "source": [
    "X_train = X[idx_train]\n",
    "X_test = X[idx_test]\n",
    "\n",
    "Y_true_train = Y_true[idx_train]\n",
    "Y_true_test = Y_true[idx_test]\n",
    "\n",
    "Y_mask_train = Y_mask[idx_train]\n",
    "Y_mask_test = Y_mask[idx_test]\n",
    "\n",
    "print(X_train.shape); print(X_test.shape)"
   ]
  },
  {
   "cell_type": "code",
   "execution_count": 21,
   "metadata": {},
   "outputs": [
    {
     "name": "stdout",
     "output_type": "stream",
     "text": [
      "----------------------------------------------------\n",
      "cello\n",
      "\tTEST\n",
      "              precision    recall  f1-score   support\n",
      "\n",
      "       False       0.86      0.82      0.84       259\n",
      "        True       0.80      0.85      0.82       226\n",
      "\n",
      "    accuracy                           0.83       485\n",
      "   macro avg       0.83      0.83      0.83       485\n",
      "weighted avg       0.83      0.83      0.83       485\n",
      "\n",
      "ROC-AUC = 0.911\t\tAP = 0.885\n",
      "----------------------------------------------------\n",
      "clarinet\n",
      "\tTEST\n",
      "              precision    recall  f1-score   support\n",
      "\n",
      "       False       0.91      0.61      0.73       503\n",
      "        True       0.35      0.77      0.48       137\n",
      "\n",
      "    accuracy                           0.65       640\n",
      "   macro avg       0.63      0.69      0.61       640\n",
      "weighted avg       0.79      0.65      0.68       640\n",
      "\n",
      "ROC-AUC = 0.765\t\tAP = 0.443\n",
      "----------------------------------------------------\n",
      "flute\n",
      "\tTEST\n",
      "              precision    recall  f1-score   support\n",
      "\n",
      "       False       0.86      0.66      0.75       387\n",
      "        True       0.51      0.77      0.61       175\n",
      "\n",
      "    accuracy                           0.70       562\n",
      "   macro avg       0.69      0.72      0.68       562\n",
      "weighted avg       0.75      0.70      0.71       562\n",
      "\n",
      "ROC-AUC = 0.815\t\tAP = 0.706\n",
      "----------------------------------------------------\n",
      "guitar\n",
      "\tTEST\n",
      "              precision    recall  f1-score   support\n",
      "\n",
      "       False       0.91      0.98      0.94       150\n",
      "        True       0.99      0.95      0.97       286\n",
      "\n",
      "    accuracy                           0.96       436\n",
      "   macro avg       0.95      0.96      0.96       436\n",
      "weighted avg       0.96      0.96      0.96       436\n",
      "\n",
      "ROC-AUC = 0.991\t\tAP = 0.996\n",
      "----------------------------------------------------\n",
      "organ\n",
      "\tTEST\n",
      "              precision    recall  f1-score   support\n",
      "\n",
      "       False       0.87      0.80      0.84       310\n",
      "        True       0.58      0.70      0.63       121\n",
      "\n",
      "    accuracy                           0.77       431\n",
      "   macro avg       0.73      0.75      0.73       431\n",
      "weighted avg       0.79      0.77      0.78       431\n",
      "\n",
      "ROC-AUC = 0.844\t\tAP = 0.651\n",
      "----------------------------------------------------\n",
      "piano\n",
      "\tTEST\n",
      "              precision    recall  f1-score   support\n",
      "\n",
      "       False       0.96      0.86      0.91       130\n",
      "        True       0.94      0.98      0.96       285\n",
      "\n",
      "    accuracy                           0.94       415\n",
      "   macro avg       0.95      0.92      0.93       415\n",
      "weighted avg       0.95      0.94      0.94       415\n",
      "\n",
      "ROC-AUC = 0.981\t\tAP = 0.991\n",
      "----------------------------------------------------\n",
      "saxophone\n",
      "\tTEST\n",
      "              precision    recall  f1-score   support\n",
      "\n",
      "       False       0.86      0.82      0.84       324\n",
      "        True       0.82      0.86      0.84       305\n",
      "\n",
      "    accuracy                           0.84       629\n",
      "   macro avg       0.84      0.84      0.84       629\n",
      "weighted avg       0.84      0.84      0.84       629\n",
      "\n",
      "ROC-AUC = 0.918\t\tAP = 0.901\n",
      "----------------------------------------------------\n",
      "trumpet\n",
      "\tTEST\n",
      "              precision    recall  f1-score   support\n",
      "\n",
      "       False       0.84      0.81      0.82       467\n",
      "        True       0.73      0.77      0.75       318\n",
      "\n",
      "    accuracy                           0.79       785\n",
      "   macro avg       0.78      0.79      0.79       785\n",
      "weighted avg       0.79      0.79      0.79       785\n",
      "\n",
      "ROC-AUC = 0.880\t\tAP = 0.839\n",
      "----------------------------------------------------\n",
      "violin\n",
      "\tTEST\n",
      "              precision    recall  f1-score   support\n",
      "\n",
      "       False       0.81      0.81      0.81       237\n",
      "        True       0.89      0.88      0.89       394\n",
      "\n",
      "    accuracy                           0.86       631\n",
      "   macro avg       0.85      0.85      0.85       631\n",
      "weighted avg       0.86      0.86      0.86       631\n",
      "\n",
      "ROC-AUC = 0.924\t\tAP = 0.945\n",
      "----------------------------------------------------\n",
      "voice\n",
      "\tTEST\n",
      "              precision    recall  f1-score   support\n",
      "\n",
      "       False       0.87      0.92      0.89       150\n",
      "        True       0.94      0.91      0.92       224\n",
      "\n",
      "    accuracy                           0.91       374\n",
      "   macro avg       0.91      0.91      0.91       374\n",
      "weighted avg       0.91      0.91      0.91       374\n",
      "\n",
      "ROC-AUC = 0.976\t\tAP = 0.985\n"
     ]
    }
   ],
   "source": [
    "# This part of the code follows the baseline model for instrument recognition on the openmic dataset:\n",
    "# https://github.com/cosmir/openmic-2018/blob/master/examples/modeling-baseline.ipynb\n",
    "train_set_name, test_set_name = 'openmic', 'openmic'\n",
    "\n",
    "# use a dictionary to include the classifier for each instrument trained on the dataset based on the embedding\n",
    "globals()['models_'+train_set_name] = dict()  \n",
    "\n",
    "# We'll iterate over all istrument classes, and fit a model for each one\n",
    "# After training, we'll print a classification report for each instrument\n",
    "for instrument in class_align:\n",
    "    \n",
    "    # Map the instrument name to its column number\n",
    "    inst_num = class_map[instrument]\n",
    "    \n",
    "    # First, sub-sample the data: we need to select down to the data for which we have annotations\n",
    "    # This is what the mask arrays are for\n",
    "    train_inst = Y_mask_train[:, inst_num]\n",
    "    test_inst = Y_mask_test[:, inst_num]\n",
    "    \n",
    "    # Here, we're using the Y_mask_train array to slice out only the training examples\n",
    "    # for which we have annotations for the given class\n",
    "    X_train_inst = X_train[train_inst]\n",
    "    \n",
    "    # Again, we slice the labels to the annotated examples\n",
    "    # We thresold the label likelihoods at 0.5 to get binary labels\n",
    "    Y_true_train_inst = Y_true_train[train_inst, inst_num] >= 0.5\n",
    "    \n",
    "    # Repeat the above slicing and dicing but for the test set\n",
    "    X_test_inst = X_test[test_inst]\n",
    "    Y_true_test_inst = Y_true_test[test_inst, inst_num] >= 0.5\n",
    "\n",
    "    # initialize and a logistic regression model\n",
    "    LRmodel = LogisticRegression(random_state=0, penalty='l2', solver='liblinear', class_weight='balanced')\n",
    "    \n",
    "    # hyperparameter tunning for logistic regression model\n",
    "    param_grid = {'C': [0.001, 0.01, 0.1, 1, 10, 100] }  \n",
    "    scoring = 'f1'; cv = 3\n",
    "    clf =  GridSearchCV(LRmodel, param_grid=param_grid, cv=cv, scoring=scoring)    \n",
    "    \n",
    "    # fit the model\n",
    "    clf.fit(X_train_inst, Y_true_train_inst)\n",
    "\n",
    "    # predict\n",
    "    Y_pred_test_inst = clf.predict(X_test_inst)\n",
    "    # Get prediction scores for the positive class\n",
    "    Y_pred_test_scores = clf.predict_proba(X_test_inst)[:, 1]\n",
    "    \n",
    "    # print result for each instrument\n",
    "    print('-' * 52); print(instrument); print('\\tTEST')\n",
    "    print(classification_report(Y_true_test_inst, Y_pred_test_inst))\n",
    "    \n",
    "    model_auc = roc_auc_score(Y_true_test_inst, Y_pred_test_scores)\n",
    "    model_ap = average_precision_score(Y_true_test_inst, Y_pred_test_scores)\n",
    "    print(f'ROC-AUC = {model_auc:.3f}\\t\\tAP = {model_ap:.3f}')\n",
    "    \n",
    "    # store the classifier in the model dictionary\n",
    "    globals()['models_'+train_set_name][instrument] = clf\n",
    "    \n",
    "    # record the result for each instrument\n",
    "    report = pd.DataFrame(classification_report(Y_true_test_inst, Y_pred_test_inst, output_dict=True))['True']\n",
    "    report['roc_auc'] = model_auc\n",
    "    report['ap'] = model_ap\n",
    "    report_accuracy = pd.DataFrame(classification_report(Y_true_test_inst, Y_pred_test_inst, output_dict=True))['accuracy'][-2]\n",
    "    result_inst = [instrument, train_set_name, test_set_name, report['precision'], report['recall'],\n",
    "                   report['f1-score'], report['support'], report_accuracy, model_auc, model_ap]   \n",
    "    result_all = result_all.append(pd.DataFrame(np.expand_dims(np.array(result_inst), axis=0), \n",
    "                                                columns=result_all.columns), ignore_index=True)"
   ]
  },
  {
   "cell_type": "markdown",
   "metadata": {},
   "source": [
    "# irmas->openmic"
   ]
  },
  {
   "cell_type": "code",
   "execution_count": 22,
   "metadata": {},
   "outputs": [
    {
     "name": "stdout",
     "output_type": "stream",
     "text": [
      "----------------------------------------------------\n",
      "cello\n",
      "\tTEST\n",
      "              precision    recall  f1-score   support\n",
      "\n",
      "       False       0.63      0.83      0.72       259\n",
      "        True       0.70      0.43      0.53       226\n",
      "\n",
      "    accuracy                           0.65       485\n",
      "   macro avg       0.66      0.63      0.63       485\n",
      "weighted avg       0.66      0.65      0.63       485\n",
      "\n",
      "ROC-AUC = 0.723\t\tAP = 0.687\n",
      "----------------------------------------------------\n",
      "clarinet\n",
      "\tTEST\n",
      "              precision    recall  f1-score   support\n",
      "\n",
      "       False       0.83      0.85      0.84       503\n",
      "        True       0.38      0.35      0.37       137\n",
      "\n",
      "    accuracy                           0.74       640\n",
      "   macro avg       0.61      0.60      0.60       640\n",
      "weighted avg       0.73      0.74      0.74       640\n",
      "\n",
      "ROC-AUC = 0.661\t\tAP = 0.351\n",
      "----------------------------------------------------\n",
      "flute\n",
      "\tTEST\n",
      "              precision    recall  f1-score   support\n",
      "\n",
      "       False       0.78      0.66      0.72       387\n",
      "        True       0.44      0.59      0.50       175\n",
      "\n",
      "    accuracy                           0.64       562\n",
      "   macro avg       0.61      0.63      0.61       562\n",
      "weighted avg       0.68      0.64      0.65       562\n",
      "\n",
      "ROC-AUC = 0.684\t\tAP = 0.477\n",
      "----------------------------------------------------\n",
      "guitar\n",
      "\tTEST\n",
      "              precision    recall  f1-score   support\n",
      "\n",
      "       False       0.79      0.94      0.86       150\n",
      "        True       0.97      0.87      0.92       286\n",
      "\n",
      "    accuracy                           0.89       436\n",
      "   macro avg       0.88      0.91      0.89       436\n",
      "weighted avg       0.91      0.89      0.90       436\n",
      "\n",
      "ROC-AUC = 0.960\t\tAP = 0.978\n",
      "----------------------------------------------------\n",
      "organ\n",
      "\tTEST\n",
      "              precision    recall  f1-score   support\n",
      "\n",
      "       False       0.85      0.73      0.79       310\n",
      "        True       0.49      0.66      0.56       121\n",
      "\n",
      "    accuracy                           0.71       431\n",
      "   macro avg       0.67      0.70      0.67       431\n",
      "weighted avg       0.75      0.71      0.72       431\n",
      "\n",
      "ROC-AUC = 0.746\t\tAP = 0.559\n",
      "----------------------------------------------------\n",
      "piano\n",
      "\tTEST\n",
      "              precision    recall  f1-score   support\n",
      "\n",
      "       False       0.66      0.95      0.78       130\n",
      "        True       0.97      0.78      0.86       285\n",
      "\n",
      "    accuracy                           0.83       415\n",
      "   macro avg       0.82      0.86      0.82       415\n",
      "weighted avg       0.87      0.83      0.84       415\n",
      "\n",
      "ROC-AUC = 0.944\t\tAP = 0.975\n",
      "----------------------------------------------------\n",
      "saxophone\n",
      "\tTEST\n",
      "              precision    recall  f1-score   support\n",
      "\n",
      "       False       0.68      0.77      0.72       324\n",
      "        True       0.72      0.62      0.67       305\n",
      "\n",
      "    accuracy                           0.70       629\n",
      "   macro avg       0.70      0.70      0.70       629\n",
      "weighted avg       0.70      0.70      0.70       629\n",
      "\n",
      "ROC-AUC = 0.772\t\tAP = 0.754\n",
      "----------------------------------------------------\n",
      "trumpet\n",
      "\tTEST\n",
      "              precision    recall  f1-score   support\n",
      "\n",
      "       False       0.72      0.89      0.80       467\n",
      "        True       0.75      0.50      0.60       318\n",
      "\n",
      "    accuracy                           0.73       785\n",
      "   macro avg       0.74      0.69      0.70       785\n",
      "weighted avg       0.73      0.73      0.72       785\n",
      "\n",
      "ROC-AUC = 0.798\t\tAP = 0.716\n",
      "----------------------------------------------------\n",
      "violin\n",
      "\tTEST\n",
      "              precision    recall  f1-score   support\n",
      "\n",
      "       False       0.59      0.79      0.68       237\n",
      "        True       0.84      0.68      0.75       394\n",
      "\n",
      "    accuracy                           0.72       631\n",
      "   macro avg       0.72      0.73      0.72       631\n",
      "weighted avg       0.75      0.72      0.72       631\n",
      "\n",
      "ROC-AUC = 0.824\t\tAP = 0.874\n",
      "----------------------------------------------------\n",
      "voice\n",
      "\tTEST\n",
      "              precision    recall  f1-score   support\n",
      "\n",
      "       False       0.79      0.95      0.86       150\n",
      "        True       0.96      0.83      0.89       224\n",
      "\n",
      "    accuracy                           0.88       374\n",
      "   macro avg       0.88      0.89      0.88       374\n",
      "weighted avg       0.89      0.88      0.88       374\n",
      "\n",
      "ROC-AUC = 0.970\t\tAP = 0.980\n"
     ]
    }
   ],
   "source": [
    "train_set_name, test_set_name = 'irmas', 'openmic' \n",
    "\n",
    "# iterate over all istrument classes, and fit a model for each one\n",
    "for instrument in class_align:\n",
    "    \n",
    "    # Map the instrument name to its column number\n",
    "    inst_num = class_map[instrument]\n",
    "    \n",
    "    # First, sub-sample the data: we need to select down to the data for which we have annotations \n",
    "    # This is what the mask arrays are for\n",
    "    test_inst = Y_mask_test[:, inst_num]\n",
    "\n",
    "    # Repeat the above slicing and dicing but for the test set\n",
    "    X_test_inst = X_test[test_inst]\n",
    "    Y_true_test_inst = Y_true_test[test_inst, inst_num] >= 0.5\n",
    "\n",
    "    # evaluate the classifier \n",
    "    Y_pred_test_inst =  globals()['models_'+train_set_name][instrument].predict(X_test_inst)\n",
    "    Y_pred_test_scores =  globals()['models_'+train_set_name][instrument].predict_proba(X_test_inst)[:, 1]\n",
    "\n",
    "    # print result for each instrument\n",
    "    print('-' * 52); print(instrument); print('\\tTEST')\n",
    "    print(classification_report(Y_true_test_inst, Y_pred_test_inst))\n",
    "    \n",
    "    model_auc = roc_auc_score(Y_true_test_inst, Y_pred_test_scores)\n",
    "    model_ap = average_precision_score(Y_true_test_inst, Y_pred_test_scores)\n",
    "    print(f'ROC-AUC = {model_auc:.3f}\\t\\tAP = {model_ap:.3f}')\n",
    "    \n",
    "    # record the result for each instrument\n",
    "    report = pd.DataFrame(classification_report(Y_true_test_inst, Y_pred_test_inst, output_dict=True))['True']\n",
    "    report['roc_auc'] = model_auc\n",
    "    report['ap'] = model_ap\n",
    "    report_accuracy = pd.DataFrame(classification_report(Y_true_test_inst, Y_pred_test_inst, output_dict=True))['accuracy'][-2]\n",
    "    result_inst = [instrument, train_set_name, test_set_name, report['precision'], report['recall'],\n",
    "                   report['f1-score'], report['support'], report_accuracy, model_auc, model_ap]   \n",
    "    result_all = result_all.append(pd.DataFrame(np.expand_dims(np.array(result_inst), axis=0), \n",
    "                                                columns=result_all.columns), ignore_index=True)"
   ]
  },
  {
   "cell_type": "markdown",
   "metadata": {},
   "source": [
    "# openmic->irmas"
   ]
  },
  {
   "cell_type": "code",
   "execution_count": 23,
   "metadata": {},
   "outputs": [
    {
     "name": "stdout",
     "output_type": "stream",
     "text": [
      "(33525, 1024) (33525,)\n",
      "(6705,)\n"
     ]
    },
    {
     "data": {
      "application/vnd.jupyter.widget-view+json": {
       "model_id": "fd8789a7b16a46a3936cd45398221aaa",
       "version_major": 2,
       "version_minor": 0
      },
      "text/plain": [
       "  0%|          | 0/6705 [00:00<?, ?it/s]"
      ]
     },
     "metadata": {},
     "output_type": "display_data"
    },
    {
     "name": "stdout",
     "output_type": "stream",
     "text": [
      "(6705, 1024) (6705,)\n"
     ]
    }
   ],
   "source": [
    "# irmas: yamnet embedding\n",
    "feature = np.array(embeddings['irmas']['yamnet']['features'])\n",
    "keys_ori = np.array(embeddings['irmas']['yamnet']['keys'])\n",
    "print(feature.shape, keys_ori.shape)\n",
    "\n",
    "key_clip = np.unique(keys_ori)\n",
    "print(key_clip.shape)\n",
    "\n",
    "feature_clip = []\n",
    "\n",
    "for key in tqdm(key_clip):\n",
    "    feature_clip.append(np.mean(feature[keys_ori[:]==key,:],axis=0))\n",
    "    \n",
    "feature_clip = np.array(feature_clip)\n",
    "print(feature_clip.shape, key_clip.shape)"
   ]
  },
  {
   "cell_type": "code",
   "execution_count": 24,
   "metadata": {},
   "outputs": [],
   "source": [
    "key_train = list(pd.read_csv('irmas_train.csv', header=None, squeeze=True))\n",
    "key_test = list(pd.read_csv('irmas_test.csv', header=None, squeeze=True))\n",
    "\n",
    "idx_train, idx_test = [], []\n",
    "\n",
    "for k in range(len(key_clip)):\n",
    "    if str(key_clip[k]) in key_train:\n",
    "        idx_train.append(k)\n",
    "    elif str(key_clip[k]) in key_test:\n",
    "        idx_test.append(k)\n",
    "    else:\n",
    "        raise RuntimeError('Unknown sample key={}! Abort!'.format(key_clip[k]))\n",
    "        \n",
    "idx_train = np.asarray(idx_train)\n",
    "idx_test = np.asarray(idx_test)"
   ]
  },
  {
   "cell_type": "code",
   "execution_count": 25,
   "metadata": {},
   "outputs": [
    {
     "data": {
      "text/html": [
       "<pre style=\"white-space:pre;overflow-x:auto;line-height:normal;font-family:Menlo,'DejaVu Sans Mono',consolas,'Courier New',monospace\">\n",
       "<span style=\"color: #800080; text-decoration-color: #800080; font-weight: bold\">array</span><span style=\"font-weight: bold\">([</span><span style=\"color: #008000; text-decoration-color: #008000\">'cello'</span>, <span style=\"color: #008000; text-decoration-color: #008000\">'clarinet'</span>, <span style=\"color: #008000; text-decoration-color: #008000\">'flute'</span>, <span style=\"color: #008000; text-decoration-color: #008000\">'guitar'</span>, <span style=\"color: #008000; text-decoration-color: #008000\">'organ'</span>, <span style=\"color: #008000; text-decoration-color: #008000\">'piano'</span>,\n",
       "       <span style=\"color: #008000; text-decoration-color: #008000\">'saxophone'</span>, <span style=\"color: #008000; text-decoration-color: #008000\">'trumpet'</span>, <span style=\"color: #008000; text-decoration-color: #008000\">'violin'</span>, <span style=\"color: #008000; text-decoration-color: #008000\">'voice'</span><span style=\"font-weight: bold\">]</span>, <span style=\"color: #808000; text-decoration-color: #808000\">dtype</span>=<span style=\"color: #008000; text-decoration-color: #008000\">'&lt;U9'</span><span style=\"font-weight: bold\">)</span>\n",
       "</pre>\n"
      ],
      "text/plain": [
       "\n",
       "\u001b[1;35marray\u001b[0m\u001b[1m(\u001b[0m\u001b[1m[\u001b[0m\u001b[32m'cello'\u001b[0m, \u001b[32m'clarinet'\u001b[0m, \u001b[32m'flute'\u001b[0m, \u001b[32m'guitar'\u001b[0m, \u001b[32m'organ'\u001b[0m, \u001b[32m'piano'\u001b[0m,\n",
       "       \u001b[32m'saxophone'\u001b[0m, \u001b[32m'trumpet'\u001b[0m, \u001b[32m'violin'\u001b[0m, \u001b[32m'voice'\u001b[0m\u001b[1m]\u001b[0m, \u001b[33mdtype\u001b[0m=\u001b[32m'<U9'\u001b[0m\u001b[1m)\u001b[0m\n"
      ]
     },
     "metadata": {},
     "output_type": "display_data"
    }
   ],
   "source": [
    "#keys = np.array([str(k, 'utf-8') for k in key_clip])\n",
    "keys = np.array(key_clip)\n",
    "keys = [key[key.index('[')+1:key.index(']')] for key in keys]\n",
    "\n",
    "for key in class_align:\n",
    "    keys = [key if x in class_align[key] else x for x in keys]\n",
    "    \n",
    "keys = np.array(keys)\n",
    "np.unique(keys)"
   ]
  },
  {
   "cell_type": "code",
   "execution_count": 26,
   "metadata": {},
   "outputs": [
    {
     "name": "stdout",
     "output_type": "stream",
     "text": [
      "(5039, 1024)\n",
      "(1666, 1024)\n"
     ]
    }
   ],
   "source": [
    "X_train = feature_clip[idx_train,:]\n",
    "X_test = feature_clip[idx_test]\n",
    "\n",
    "Y_true_train = keys[idx_train]\n",
    "Y_true_test = keys[idx_test]\n",
    "\n",
    "print(X_train.shape)\n",
    "print(X_test.shape)"
   ]
  },
  {
   "cell_type": "code",
   "execution_count": 27,
   "metadata": {},
   "outputs": [
    {
     "name": "stdout",
     "output_type": "stream",
     "text": [
      "----------------------------------------------------\n",
      "cello\n",
      "\tTEST\n",
      "              precision    recall  f1-score   support\n",
      "\n",
      "       False       0.99      0.68      0.81      1572\n",
      "        True       0.14      0.89      0.25        94\n",
      "\n",
      "    accuracy                           0.69      1666\n",
      "   macro avg       0.57      0.79      0.53      1666\n",
      "weighted avg       0.94      0.69      0.77      1666\n",
      "\n",
      "ROC-AUC = 0.889\t\tAP = 0.604\n",
      "----------------------------------------------------\n",
      "clarinet\n",
      "\tTEST\n",
      "              precision    recall  f1-score   support\n",
      "\n",
      "       False       0.99      0.61      0.76      1539\n",
      "        True       0.17      0.94      0.28       127\n",
      "\n",
      "    accuracy                           0.64      1666\n",
      "   macro avg       0.58      0.78      0.52      1666\n",
      "weighted avg       0.93      0.64      0.72      1666\n",
      "\n",
      "ROC-AUC = 0.893\t\tAP = 0.580\n",
      "----------------------------------------------------\n",
      "flute\n",
      "\tTEST\n",
      "              precision    recall  f1-score   support\n",
      "\n",
      "       False       0.99      0.52      0.68      1545\n",
      "        True       0.13      0.91      0.23       121\n",
      "\n",
      "    accuracy                           0.55      1666\n",
      "   macro avg       0.56      0.72      0.45      1666\n",
      "weighted avg       0.92      0.55      0.65      1666\n",
      "\n",
      "ROC-AUC = 0.870\t\tAP = 0.532\n",
      "----------------------------------------------------\n",
      "guitar\n",
      "\tTEST\n",
      "              precision    recall  f1-score   support\n",
      "\n",
      "       False       0.94      0.80      0.86      1320\n",
      "        True       0.51      0.81      0.62       346\n",
      "\n",
      "    accuracy                           0.80      1666\n",
      "   macro avg       0.72      0.80      0.74      1666\n",
      "weighted avg       0.85      0.80      0.81      1666\n",
      "\n",
      "ROC-AUC = 0.898\t\tAP = 0.718\n",
      "----------------------------------------------------\n",
      "organ\n",
      "\tTEST\n",
      "              precision    recall  f1-score   support\n",
      "\n",
      "       False       0.90      0.94      0.92      1492\n",
      "        True       0.21      0.14      0.17       174\n",
      "\n",
      "    accuracy                           0.85      1666\n",
      "   macro avg       0.56      0.54      0.54      1666\n",
      "weighted avg       0.83      0.85      0.84      1666\n",
      "\n",
      "ROC-AUC = 0.605\t\tAP = 0.163\n",
      "----------------------------------------------------\n",
      "piano\n",
      "\tTEST\n",
      "              precision    recall  f1-score   support\n",
      "\n",
      "       False       0.96      0.64      0.77      1496\n",
      "        True       0.20      0.78      0.32       170\n",
      "\n",
      "    accuracy                           0.65      1666\n",
      "   macro avg       0.58      0.71      0.54      1666\n",
      "weighted avg       0.88      0.65      0.72      1666\n",
      "\n",
      "ROC-AUC = 0.819\t\tAP = 0.527\n",
      "----------------------------------------------------\n",
      "saxophone\n",
      "\tTEST\n",
      "              precision    recall  f1-score   support\n",
      "\n",
      "       False       0.96      0.73      0.83      1516\n",
      "        True       0.21      0.71      0.32       150\n",
      "\n",
      "    accuracy                           0.73      1666\n",
      "   macro avg       0.58      0.72      0.57      1666\n",
      "weighted avg       0.89      0.73      0.78      1666\n",
      "\n",
      "ROC-AUC = 0.807\t\tAP = 0.329\n",
      "----------------------------------------------------\n",
      "trumpet\n",
      "\tTEST\n",
      "              precision    recall  f1-score   support\n",
      "\n",
      "       False       0.99      0.75      0.85      1516\n",
      "        True       0.26      0.89      0.40       150\n",
      "\n",
      "    accuracy                           0.76      1666\n",
      "   macro avg       0.62      0.82      0.63      1666\n",
      "weighted avg       0.92      0.76      0.81      1666\n",
      "\n",
      "ROC-AUC = 0.911\t\tAP = 0.663\n",
      "----------------------------------------------------\n",
      "violin\n",
      "\tTEST\n",
      "              precision    recall  f1-score   support\n",
      "\n",
      "       False       0.97      0.69      0.81      1523\n",
      "        True       0.19      0.79      0.31       143\n",
      "\n",
      "    accuracy                           0.70      1666\n",
      "   macro avg       0.58      0.74      0.56      1666\n",
      "weighted avg       0.91      0.70      0.76      1666\n",
      "\n",
      "ROC-AUC = 0.822\t\tAP = 0.354\n",
      "----------------------------------------------------\n",
      "voice\n",
      "\tTEST\n",
      "              precision    recall  f1-score   support\n",
      "\n",
      "       False       1.00      0.83      0.91      1475\n",
      "        True       0.43      0.99      0.60       191\n",
      "\n",
      "    accuracy                           0.85      1666\n",
      "   macro avg       0.71      0.91      0.75      1666\n",
      "weighted avg       0.93      0.85      0.87      1666\n",
      "\n",
      "ROC-AUC = 0.985\t\tAP = 0.900\n"
     ]
    }
   ],
   "source": [
    "train_set_name, test_set_name = 'openmic', 'irmas' \n",
    "\n",
    "# iterate over all istrument classes, and fit a model for each one\n",
    "for instrument in class_align:\n",
    "    \n",
    "    # get the training and testing labels for each instrument\n",
    "    Y_true_test_inst = Y_true_test==instrument\n",
    "\n",
    "    # evaluate the classifier\n",
    "    Y_pred_test_inst =  globals()['models_'+train_set_name][instrument].predict(X_test)\n",
    "    Y_pred_test_scores =  globals()['models_'+train_set_name][instrument].predict_proba(X_test)[:, 1]\n",
    "    \n",
    "    # print result for each instrument\n",
    "    print('-' * 52); print(instrument); print('\\tTEST')\n",
    "    print(classification_report(Y_true_test_inst, Y_pred_test_inst))\n",
    "    \n",
    "    model_auc = roc_auc_score(Y_true_test_inst, Y_pred_test_scores)\n",
    "    model_ap = average_precision_score(Y_true_test_inst, Y_pred_test_scores)\n",
    "    print(f'ROC-AUC = {model_auc:.3f}\\t\\tAP = {model_ap:.3f}')\n",
    "    \n",
    "    # record the result for each instrument\n",
    "    report = pd.DataFrame(classification_report(Y_true_test_inst, Y_pred_test_inst, output_dict=True))['True']\n",
    "    report['roc_auc'] = model_auc\n",
    "    report['ap'] = model_ap\n",
    "    report_accuracy = pd.DataFrame(classification_report(Y_true_test_inst, Y_pred_test_inst, output_dict=True))['accuracy'][-2]\n",
    "    result_inst = [instrument, train_set_name, test_set_name, report['precision'], report['recall'],\n",
    "                   report['f1-score'], report['support'], report_accuracy, model_auc, model_ap]   \n",
    "    result_all = result_all.append(pd.DataFrame(np.expand_dims(np.array(result_inst), axis=0), \n",
    "                                                columns=result_all.columns), ignore_index=True)"
   ]
  },
  {
   "cell_type": "markdown",
   "metadata": {},
   "source": [
    "# Plot result on each instrument"
   ]
  },
  {
   "cell_type": "code",
   "execution_count": 28,
   "metadata": {},
   "outputs": [],
   "source": [
    "# save all result into a csv file\n",
    "result_all.to_csv('YAMnet_crossdataset_result.csv', index=False)"
   ]
  },
  {
   "cell_type": "code",
   "execution_count": 29,
   "metadata": {},
   "outputs": [
    {
     "name": "stdout",
     "output_type": "stream",
     "text": [
      "PRF and accuracy of YAMnet averaged over all instruments for each case:\n",
      "openmic->openmic:[0.76, 0.84, 0.79, 0.83, 0.9, 0.83]\n",
      "irmas->openmic:[0.72, 0.63, 0.67, 0.75, 0.81, 0.74]\n",
      "irmas->irmas:[0.57, 0.84, 0.66, 0.92, 0.95, 0.78]\n",
      "openmic->irmas:[0.24, 0.79, 0.35, 0.72, 0.85, 0.54]\n"
     ]
    }
   ],
   "source": [
    "# check the PRF averaged over all instruments for each case:\n",
    "\n",
    "train_irmas = result_all[result_all['train_set']=='irmas']\n",
    "train_openmic = result_all[result_all['train_set']=='openmic']\n",
    "\n",
    "irmas_irmas = train_irmas[train_irmas['test_set']=='irmas']\n",
    "irmas_openmic = train_irmas[train_irmas['test_set']=='openmic']\n",
    "openmic_openmic = train_openmic[train_openmic['test_set']=='openmic']\n",
    "openmic_irmas = train_openmic[train_openmic['test_set']=='irmas']\n",
    "\n",
    "print('PRF and accuracy of YAMnet averaged over all instruments for each case:')\n",
    "print('openmic->openmic:{}'.format(list(openmic_openmic[['precision', 'recall', 'f1-score', 'accuracy', 'roc_auc', 'ap']].astype(float).mean(axis=0).round(2))))\n",
    "print('irmas->openmic:{}'.format(list(irmas_openmic[['precision', 'recall', 'f1-score', 'accuracy', 'roc_auc', 'ap']].astype(float).mean(axis=0).round(2))))\n",
    "print('irmas->irmas:{}'.format(list(irmas_irmas[['precision', 'recall', 'f1-score', 'accuracy', 'roc_auc', 'ap']].astype(float).mean(axis=0).round(2))))\n",
    "print('openmic->irmas:{}'.format(list(openmic_irmas[['precision', 'recall', 'f1-score', 'accuracy', 'roc_auc', 'ap']].astype(float).mean(axis=0).round(2))))"
   ]
  },
  {
   "cell_type": "code",
   "execution_count": 30,
   "metadata": {},
   "outputs": [],
   "source": [
    "# save the result of VGGish, yamnet, and OpenL3 into one csv file\n",
    "\n",
    "vggish = pd.read_csv('VGGish_crossdataset_result.csv')\n",
    "openl3 = pd.read_csv('OpenL3_crossdataset_result.csv')\n",
    "yamnet = pd.read_csv('YAMnet_crossdataset_result.csv')\n",
    "\n",
    "# add embedding information, concatenate result\n",
    "vggish['embedding'] = ['vggish'] * len(vggish['instrument'])\n",
    "openl3['embedding'] = ['openl3'] * len(openl3['instrument'])\n",
    "yamnet['embedding'] = ['yamnet'] * len(openl3['instrument'])\n",
    "\n",
    "result_all_conca = pd.concat([vggish, openl3, yamnet], ignore_index=True)\n",
    "\n",
    "# move embedding to the first column\n",
    "cols = ['embedding', 'instrument', 'train_set', 'test_set', 'precision', 'recall', 'f1-score', 'support', 'accuracy', 'roc_auc', 'ap']\n",
    "result_all_conca =result_all_conca[cols]\n",
    "\n",
    "result_all_conca.to_csv('crossdataset_generalization_result.csv', index=False)"
   ]
  },
  {
   "cell_type": "code",
   "execution_count": 31,
   "metadata": {},
   "outputs": [
    {
     "data": {
      "text/html": [
       "<div>\n",
       "<style scoped>\n",
       "    .dataframe tbody tr th:only-of-type {\n",
       "        vertical-align: middle;\n",
       "    }\n",
       "\n",
       "    .dataframe tbody tr th {\n",
       "        vertical-align: top;\n",
       "    }\n",
       "\n",
       "    .dataframe thead th {\n",
       "        text-align: right;\n",
       "    }\n",
       "</style>\n",
       "<table border=\"1\" class=\"dataframe\">\n",
       "  <thead>\n",
       "    <tr style=\"text-align: right;\">\n",
       "      <th></th>\n",
       "      <th>embedding</th>\n",
       "      <th>instrument</th>\n",
       "      <th>train_set</th>\n",
       "      <th>test_set</th>\n",
       "      <th>precision</th>\n",
       "      <th>recall</th>\n",
       "      <th>f1-score</th>\n",
       "      <th>support</th>\n",
       "      <th>accuracy</th>\n",
       "      <th>roc_auc</th>\n",
       "      <th>ap</th>\n",
       "    </tr>\n",
       "  </thead>\n",
       "  <tbody>\n",
       "    <tr>\n",
       "      <th>0</th>\n",
       "      <td>vggish</td>\n",
       "      <td>cello</td>\n",
       "      <td>irmas</td>\n",
       "      <td>irmas</td>\n",
       "      <td>0.296703</td>\n",
       "      <td>0.861702</td>\n",
       "      <td>0.441417</td>\n",
       "      <td>94.0</td>\n",
       "      <td>0.876951</td>\n",
       "      <td>0.924429</td>\n",
       "      <td>0.613141</td>\n",
       "    </tr>\n",
       "    <tr>\n",
       "      <th>1</th>\n",
       "      <td>vggish</td>\n",
       "      <td>clarinet</td>\n",
       "      <td>irmas</td>\n",
       "      <td>irmas</td>\n",
       "      <td>0.302469</td>\n",
       "      <td>0.771654</td>\n",
       "      <td>0.434590</td>\n",
       "      <td>127.0</td>\n",
       "      <td>0.846939</td>\n",
       "      <td>0.879930</td>\n",
       "      <td>0.534409</td>\n",
       "    </tr>\n",
       "    <tr>\n",
       "      <th>2</th>\n",
       "      <td>vggish</td>\n",
       "      <td>flute</td>\n",
       "      <td>irmas</td>\n",
       "      <td>irmas</td>\n",
       "      <td>0.309764</td>\n",
       "      <td>0.760331</td>\n",
       "      <td>0.440191</td>\n",
       "      <td>121.0</td>\n",
       "      <td>0.859544</td>\n",
       "      <td>0.891979</td>\n",
       "      <td>0.612665</td>\n",
       "    </tr>\n",
       "    <tr>\n",
       "      <th>3</th>\n",
       "      <td>vggish</td>\n",
       "      <td>guitar</td>\n",
       "      <td>irmas</td>\n",
       "      <td>irmas</td>\n",
       "      <td>0.662005</td>\n",
       "      <td>0.820809</td>\n",
       "      <td>0.732903</td>\n",
       "      <td>346.0</td>\n",
       "      <td>0.875750</td>\n",
       "      <td>0.934091</td>\n",
       "      <td>0.825267</td>\n",
       "    </tr>\n",
       "    <tr>\n",
       "      <th>4</th>\n",
       "      <td>vggish</td>\n",
       "      <td>organ</td>\n",
       "      <td>irmas</td>\n",
       "      <td>irmas</td>\n",
       "      <td>0.506494</td>\n",
       "      <td>0.896552</td>\n",
       "      <td>0.647303</td>\n",
       "      <td>174.0</td>\n",
       "      <td>0.897959</td>\n",
       "      <td>0.956881</td>\n",
       "      <td>0.706318</td>\n",
       "    </tr>\n",
       "    <tr>\n",
       "      <th>...</th>\n",
       "      <td>...</td>\n",
       "      <td>...</td>\n",
       "      <td>...</td>\n",
       "      <td>...</td>\n",
       "      <td>...</td>\n",
       "      <td>...</td>\n",
       "      <td>...</td>\n",
       "      <td>...</td>\n",
       "      <td>...</td>\n",
       "      <td>...</td>\n",
       "      <td>...</td>\n",
       "    </tr>\n",
       "    <tr>\n",
       "      <th>115</th>\n",
       "      <td>yamnet</td>\n",
       "      <td>piano</td>\n",
       "      <td>openmic</td>\n",
       "      <td>irmas</td>\n",
       "      <td>0.197917</td>\n",
       "      <td>0.782353</td>\n",
       "      <td>0.315914</td>\n",
       "      <td>170.0</td>\n",
       "      <td>0.654262</td>\n",
       "      <td>0.818838</td>\n",
       "      <td>0.527040</td>\n",
       "    </tr>\n",
       "    <tr>\n",
       "      <th>116</th>\n",
       "      <td>yamnet</td>\n",
       "      <td>saxophone</td>\n",
       "      <td>openmic</td>\n",
       "      <td>irmas</td>\n",
       "      <td>0.205769</td>\n",
       "      <td>0.713333</td>\n",
       "      <td>0.319403</td>\n",
       "      <td>150.0</td>\n",
       "      <td>0.726291</td>\n",
       "      <td>0.807243</td>\n",
       "      <td>0.329187</td>\n",
       "    </tr>\n",
       "    <tr>\n",
       "      <th>117</th>\n",
       "      <td>yamnet</td>\n",
       "      <td>trumpet</td>\n",
       "      <td>openmic</td>\n",
       "      <td>irmas</td>\n",
       "      <td>0.259188</td>\n",
       "      <td>0.893333</td>\n",
       "      <td>0.401799</td>\n",
       "      <td>150.0</td>\n",
       "      <td>0.760504</td>\n",
       "      <td>0.911306</td>\n",
       "      <td>0.662522</td>\n",
       "    </tr>\n",
       "    <tr>\n",
       "      <th>118</th>\n",
       "      <td>yamnet</td>\n",
       "      <td>violin</td>\n",
       "      <td>openmic</td>\n",
       "      <td>irmas</td>\n",
       "      <td>0.191851</td>\n",
       "      <td>0.790210</td>\n",
       "      <td>0.308743</td>\n",
       "      <td>143.0</td>\n",
       "      <td>0.696279</td>\n",
       "      <td>0.821984</td>\n",
       "      <td>0.353856</td>\n",
       "    </tr>\n",
       "    <tr>\n",
       "      <th>119</th>\n",
       "      <td>yamnet</td>\n",
       "      <td>voice</td>\n",
       "      <td>openmic</td>\n",
       "      <td>irmas</td>\n",
       "      <td>0.427602</td>\n",
       "      <td>0.989529</td>\n",
       "      <td>0.597156</td>\n",
       "      <td>191.0</td>\n",
       "      <td>0.846939</td>\n",
       "      <td>0.985255</td>\n",
       "      <td>0.899689</td>\n",
       "    </tr>\n",
       "  </tbody>\n",
       "</table>\n",
       "<p>120 rows × 11 columns</p>\n",
       "</div>"
      ]
     },
     "execution_count": 31,
     "metadata": {},
     "output_type": "execute_result"
    }
   ],
   "source": [
    "# check all result\n",
    "result_all_conca"
   ]
  },
  {
   "cell_type": "code",
   "execution_count": 32,
   "metadata": {},
   "outputs": [
    {
     "data": {
      "text/html": [
       "<pre style=\"white-space:pre;overflow-x:auto;line-height:normal;font-family:Menlo,'DejaVu Sans Mono',consolas,'Courier New',monospace\"><span style=\"font-weight: bold\">&lt;</span><span style=\"color: #ff00ff; text-decoration-color: #ff00ff; font-weight: bold\">Figure</span><span style=\"color: #000000; text-decoration-color: #000000\"> size </span><span style=\"color: #008080; text-decoration-color: #008080; font-weight: bold\">795.</span><span style=\"color: #000000; text-decoration-color: #000000\">85x720 with </span><span style=\"color: #008080; text-decoration-color: #008080; font-weight: bold\">4</span><span style=\"color: #000000; text-decoration-color: #000000\"> Axes</span><span style=\"font-weight: bold\">&gt;</span>\n",
       "</pre>\n"
      ],
      "text/plain": [
       "\u001b[1m<\u001b[0m\u001b[1;95mFigure\u001b[0m\u001b[39m size \u001b[0m\u001b[1;36m795.\u001b[0m\u001b[39m85x720 with \u001b[0m\u001b[1;36m4\u001b[0m\u001b[39m Axes\u001b[0m\u001b[1m>\u001b[0m\n"
      ]
     },
     "metadata": {},
     "output_type": "display_data"
    },
    {
     "data": {
      "image/png": "[encoded data removed]"
     },
     "metadata": {},
     "output_type": "display_data"
    }
   ],
   "source": [
    "sns.set_theme(context='notebook', style='whitegrid', palette='deep')\n",
    "\n",
    "df = pd.read_csv('crossdataset_generalization_result.csv')\n",
    "sns.catplot(data=df, row='train_set', col='test_set', y='instrument', x='f1-score', hue='embedding', kind='bar');\n",
    "plt.savefig('crossdataset_generalization_f1score.png')"
   ]
  },
  {
   "cell_type": "code",
   "execution_count": 33,
   "metadata": {},
   "outputs": [
    {
     "data": {
      "text/html": [
       "<pre style=\"white-space:pre;overflow-x:auto;line-height:normal;font-family:Menlo,'DejaVu Sans Mono',consolas,'Courier New',monospace\"><span style=\"font-weight: bold\">&lt;</span><span style=\"color: #ff00ff; text-decoration-color: #ff00ff; font-weight: bold\">Figure</span><span style=\"color: #000000; text-decoration-color: #000000\"> size </span><span style=\"color: #008080; text-decoration-color: #008080; font-weight: bold\">795.</span><span style=\"color: #000000; text-decoration-color: #000000\">85x720 with </span><span style=\"color: #008080; text-decoration-color: #008080; font-weight: bold\">4</span><span style=\"color: #000000; text-decoration-color: #000000\"> Axes</span><span style=\"font-weight: bold\">&gt;</span>\n",
       "</pre>\n"
      ],
      "text/plain": [
       "\u001b[1m<\u001b[0m\u001b[1;95mFigure\u001b[0m\u001b[39m size \u001b[0m\u001b[1;36m795.\u001b[0m\u001b[39m85x720 with \u001b[0m\u001b[1;36m4\u001b[0m\u001b[39m Axes\u001b[0m\u001b[1m>\u001b[0m\n"
      ]
     },
     "metadata": {},
     "output_type": "display_data"
    },
    {
     "data": {
      "image/png": "[encoded data removed]"
     },
     "metadata": {},
     "output_type": "display_data"
    }
   ],
   "source": [
    "sns.set_theme(context='notebook', style='whitegrid', palette='deep')\n",
    "\n",
    "df = pd.read_csv('crossdataset_generalization_result.csv')\n",
    "sns.catplot(data=df, row='train_set', col='test_set', y='instrument', x='accuracy', hue='embedding', kind='bar');\n",
    "plt.savefig('crossdataset_generalization_accuracy.png')"
   ]
  },
  {
   "cell_type": "code",
   "execution_count": 34,
   "metadata": {},
   "outputs": [
    {
     "data": {
      "text/html": [
       "<pre style=\"white-space:pre;overflow-x:auto;line-height:normal;font-family:Menlo,'DejaVu Sans Mono',consolas,'Courier New',monospace\"><span style=\"font-weight: bold\">&lt;</span><span style=\"color: #ff00ff; text-decoration-color: #ff00ff; font-weight: bold\">Figure</span><span style=\"color: #000000; text-decoration-color: #000000\"> size </span><span style=\"color: #008080; text-decoration-color: #008080; font-weight: bold\">795.</span><span style=\"color: #000000; text-decoration-color: #000000\">85x720 with </span><span style=\"color: #008080; text-decoration-color: #008080; font-weight: bold\">4</span><span style=\"color: #000000; text-decoration-color: #000000\"> Axes</span><span style=\"font-weight: bold\">&gt;</span>\n",
       "</pre>\n"
      ],
      "text/plain": [
       "\u001b[1m<\u001b[0m\u001b[1;95mFigure\u001b[0m\u001b[39m size \u001b[0m\u001b[1;36m795.\u001b[0m\u001b[39m85x720 with \u001b[0m\u001b[1;36m4\u001b[0m\u001b[39m Axes\u001b[0m\u001b[1m>\u001b[0m\n"
      ]
     },
     "metadata": {},
     "output_type": "display_data"
    },
    {
     "data": {
      "image/png": "[encoded data removed]"
     },
     "metadata": {},
     "output_type": "display_data"
    }
   ],
   "source": [
    "sns.set_theme(context='notebook', style='whitegrid', palette='deep')\n",
    "\n",
    "df = pd.read_csv('crossdataset_generalization_result.csv')\n",
    "sns.catplot(data=df, row='train_set', col='test_set', y='instrument', x='roc_auc', hue='embedding', kind='bar');\n",
    "plt.savefig('crossdataset_generalization_auc.png')"
   ]
  },
  {
   "cell_type": "code",
   "execution_count": 35,
   "metadata": {},
   "outputs": [
    {
     "data": {
      "text/html": [
       "<pre style=\"white-space:pre;overflow-x:auto;line-height:normal;font-family:Menlo,'DejaVu Sans Mono',consolas,'Courier New',monospace\"><span style=\"font-weight: bold\">&lt;</span><span style=\"color: #ff00ff; text-decoration-color: #ff00ff; font-weight: bold\">Figure</span><span style=\"color: #000000; text-decoration-color: #000000\"> size </span><span style=\"color: #008080; text-decoration-color: #008080; font-weight: bold\">795.</span><span style=\"color: #000000; text-decoration-color: #000000\">85x720 with </span><span style=\"color: #008080; text-decoration-color: #008080; font-weight: bold\">4</span><span style=\"color: #000000; text-decoration-color: #000000\"> Axes</span><span style=\"font-weight: bold\">&gt;</span>\n",
       "</pre>\n"
      ],
      "text/plain": [
       "\u001b[1m<\u001b[0m\u001b[1;95mFigure\u001b[0m\u001b[39m size \u001b[0m\u001b[1;36m795.\u001b[0m\u001b[39m85x720 with \u001b[0m\u001b[1;36m4\u001b[0m\u001b[39m Axes\u001b[0m\u001b[1m>\u001b[0m\n"
      ]
     },
     "metadata": {},
     "output_type": "display_data"
    },
    {
     "data": {
      "image/png": "[encoded data removed]"
     },
     "metadata": {},
     "output_type": "display_data"
    }
   ],
   "source": [
    "sns.set_theme(context='notebook', style='whitegrid', palette='deep')\n",
    "\n",
    "df = pd.read_csv('crossdataset_generalization_result.csv')\n",
    "sns.catplot(data=df, row='train_set', col='test_set', y='instrument', x='ap', hue='embedding', kind='bar');\n",
    "plt.savefig('crossdataset_generalization_ap.png')"
   ]
  },
  {
   "cell_type": "markdown",
   "metadata": {
    "tags": []
   },
   "source": [
    "# Save models"
   ]
  },
  {
   "cell_type": "code",
   "execution_count": 36,
   "metadata": {},
   "outputs": [],
   "source": [
    "import pickle"
   ]
  },
  {
   "cell_type": "code",
   "execution_count": 37,
   "metadata": {},
   "outputs": [],
   "source": [
    "with open('models_irmas_yamnet.pickle', 'wb') as fdesc:\n",
    "    pickle.dump(models_irmas, fdesc)"
   ]
  },
  {
   "cell_type": "code",
   "execution_count": 38,
   "metadata": {},
   "outputs": [],
   "source": [
    "with open('models_openmic_yamnet.pickle', 'wb') as fdesc:\n",
    "    pickle.dump(models_openmic, fdesc)"
   ]
  }
 ],
 "metadata": {
  "kernelspec": {
   "display_name": "ismir2022embedding",
   "language": "python",
   "name": "ismir2022embedding"
  },
  "language_info": {
   "codemirror_mode": {
    "name": "ipython",
    "version": 3
   },
   "file_extension": ".py",
   "mimetype": "text/x-python",
   "name": "python",
   "nbconvert_exporter": "python",
   "pygments_lexer": "ipython3",
   "version": "3.9.0"
  },
  "toc": {
   "base_numbering": 1,
   "nav_menu": {},
   "number_sections": true,
   "sideBar": true,
   "skip_h1_title": false,
   "title_cell": "Table of Contents",
   "title_sidebar": "Contents",
   "toc_cell": false,
   "toc_position": {
    "height": "621.778px",
    "left": "21px",
    "top": "111.139px",
    "width": "165px"
   },
   "toc_section_display": true,
   "toc_window_display": true
  }
 },
 "nbformat": 4,
 "nbformat_minor": 4
}
