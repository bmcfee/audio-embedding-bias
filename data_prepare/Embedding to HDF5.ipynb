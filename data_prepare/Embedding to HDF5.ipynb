{
 "cells": [
  {
   "cell_type": "code",
   "execution_count": 1,
   "id": "0ffad57d-9076-4079-9a97-dccd04ae04a5",
   "metadata": {},
   "outputs": [],
   "source": [
    "import numpy as np\n",
    "import librosa\n",
    "from tqdm.notebook import tqdm\n",
    "\n",
    "import pandas as pd\n",
    "import os\n",
    "import json\n",
    "import h5py"
   ]
  },
  {
   "cell_type": "code",
   "execution_count": 17,
   "id": "ff95abb6-bfa3-42fc-b949-bf920b347c3a",
   "metadata": {},
   "outputs": [],
   "source": [
    "# load the openmic data\n",
    "files_openmic = librosa.util.find_files('/home/bmcfee/data/WIMIR2019-embeddings//openmic-openl3/', ext='npz')"
   ]
  },
  {
   "cell_type": "code",
   "execution_count": 18,
   "id": "c90bab30-a8a4-4da3-8078-a99a302990ad",
   "metadata": {},
   "outputs": [
    {
     "data": {
      "application/vnd.jupyter.widget-view+json": {
       "model_id": "8c4f00417e3443dba820faff2ce8faad",
       "version_major": 2,
       "version_minor": 0
      },
      "text/plain": [
       "  0%|          | 0/20000 [00:00<?, ?it/s]"
      ]
     },
     "metadata": {},
     "output_type": "display_data"
    }
   ],
   "source": [
    "LIMIT = -1\n",
    "\n",
    "X = []\n",
    "keys = []\n",
    "for fn in tqdm(files_openmic):\n",
    "    \n",
    "    key =  os.path.splitext(os.path.basename(fn))[0]\n",
    "    data = np.load(fn)\n",
    "    xi = data['embedding'][:LIMIT]\n",
    "    X.extend(xi)\n",
    "    keys.extend([key] * len(xi))"
   ]
  },
  {
   "cell_type": "code",
   "execution_count": 19,
   "id": "2d9f9236-5e27-4081-a58f-0232d387e3c2",
   "metadata": {},
   "outputs": [],
   "source": [
    "X = np.asarray(X, dtype=np.float16)"
   ]
  },
  {
   "cell_type": "code",
   "execution_count": 22,
   "id": "37715b5b-0603-4490-9fa4-7ca0681c3357",
   "metadata": {},
   "outputs": [],
   "source": [
    "DATA = h5py.File('/home/bmcfee/data/WIMIR2019-embeddings/embeddings.h5', mode='w')"
   ]
  },
  {
   "cell_type": "code",
   "execution_count": 23,
   "id": "c889deff-f260-4a66-a574-285c15856ac4",
   "metadata": {},
   "outputs": [],
   "source": [
    "DATA['openmic/openl3/keys'] = keys\n",
    "DATA['openmic/openl3/features'] = X"
   ]
  },
  {
   "cell_type": "code",
   "execution_count": 24,
   "id": "78a4121a-2986-4091-b36c-08c862d76fd3",
   "metadata": {},
   "outputs": [],
   "source": [
    "# load the irmas\n",
    "files_irmas = librosa.util.find_files('/home/bmcfee/data/WIMIR2019-embeddings/irmas-openl3/', ext='npz')"
   ]
  },
  {
   "cell_type": "code",
   "execution_count": 25,
   "id": "0a13bb71-c5cb-4fa9-9c3f-b012ea03b123",
   "metadata": {},
   "outputs": [
    {
     "data": {
      "application/vnd.jupyter.widget-view+json": {
       "model_id": "fbd5a70180b94689917eb9a497be620b",
       "version_major": 2,
       "version_minor": 0
      },
      "text/plain": [
       "  0%|          | 0/6705 [00:00<?, ?it/s]"
      ]
     },
     "metadata": {},
     "output_type": "display_data"
    }
   ],
   "source": [
    "X = []\n",
    "keys = []\n",
    "for fn in tqdm(files_irmas):\n",
    "    key =  os.path.splitext(os.path.basename(fn))[0]\n",
    "\n",
    "    data = np.load(fn)\n",
    "    xi = data['embedding'][:LIMIT]\n",
    "    X.extend(xi)\n",
    "    keys.extend([key] * len(xi))"
   ]
  },
  {
   "cell_type": "code",
   "execution_count": 26,
   "id": "9f6beddb-48de-4e56-beae-dd9aeb452fd2",
   "metadata": {},
   "outputs": [],
   "source": [
    "X = np.asarray(X, dtype=np.float16)"
   ]
  },
  {
   "cell_type": "code",
   "execution_count": 27,
   "id": "53435104-5c2e-4223-9786-0683a37c72b1",
   "metadata": {},
   "outputs": [],
   "source": [
    "DATA['irmas/openl3/keys'] = keys\n",
    "DATA['irmas/openl3/features'] = X"
   ]
  },
  {
   "cell_type": "markdown",
   "id": "2747ff85-b904-400a-b877-00ae3a17c3fd",
   "metadata": {},
   "source": [
    "# VGGish"
   ]
  },
  {
   "cell_type": "code",
   "execution_count": 28,
   "id": "62990c51-4d79-4aed-9a9c-88b168710231",
   "metadata": {},
   "outputs": [],
   "source": [
    "# load the openmic data\n",
    "files_openmic = librosa.util.find_files('/home/bmcfee/data/WIMIR2019-embeddings/openmic-vggish/', ext='json')"
   ]
  },
  {
   "cell_type": "code",
   "execution_count": 29,
   "id": "ad222186-6d5e-4f43-b54e-4c466f5bfe7f",
   "metadata": {},
   "outputs": [
    {
     "data": {
      "application/vnd.jupyter.widget-view+json": {
       "model_id": "b48cfdc9e0c94e258b0185f7bae9476f",
       "version_major": 2,
       "version_minor": 0
      },
      "text/plain": [
       "  0%|          | 0/20000 [00:00<?, ?it/s]"
      ]
     },
     "metadata": {},
     "output_type": "display_data"
    }
   ],
   "source": [
    "LIMIT = -1\n",
    "\n",
    "X = []\n",
    "keys = []\n",
    "for fn in tqdm(files_openmic):\n",
    "    \n",
    "    key =  os.path.splitext(os.path.basename(fn))[0]\n",
    "    data = json.load(open(fn, 'r'))\n",
    "    xi = data['features'][:LIMIT]\n",
    "    X.extend(xi)\n",
    "    keys.extend([key] * len(xi))"
   ]
  },
  {
   "cell_type": "code",
   "execution_count": 30,
   "id": "637dd71c-7b25-4cf5-bb26-fa7e4748a1bb",
   "metadata": {},
   "outputs": [],
   "source": [
    "X = np.asarray(X, dtype=np.float16)"
   ]
  },
  {
   "cell_type": "code",
   "execution_count": 31,
   "id": "52d30c84-2ada-413d-9ebc-f709ac82881a",
   "metadata": {},
   "outputs": [],
   "source": [
    "DATA['openmic/vggish/keys'] = keys\n",
    "DATA['openmic/vggish/features'] = X"
   ]
  },
  {
   "cell_type": "code",
   "execution_count": 32,
   "id": "50b57934-79ad-4576-ba8d-19149a5701e1",
   "metadata": {},
   "outputs": [],
   "source": [
    "# load the openmic data\n",
    "files_irmas = librosa.util.find_files('/home/bmcfee/data/WIMIR2019-embeddings/irmas-vggish/', ext='json')"
   ]
  },
  {
   "cell_type": "code",
   "execution_count": 33,
   "id": "c64e330a-f680-40d5-a40e-450022449b19",
   "metadata": {},
   "outputs": [
    {
     "data": {
      "application/vnd.jupyter.widget-view+json": {
       "model_id": "4ab89e8d489841468aa086da544398cd",
       "version_major": 2,
       "version_minor": 0
      },
      "text/plain": [
       "  0%|          | 0/6705 [00:00<?, ?it/s]"
      ]
     },
     "metadata": {},
     "output_type": "display_data"
    }
   ],
   "source": [
    "LIMIT = -1\n",
    "\n",
    "X = []\n",
    "keys = []\n",
    "for fn in tqdm(files_irmas):\n",
    "    \n",
    "    key =  os.path.splitext(os.path.basename(fn))[0]\n",
    "    data = json.load(open(fn, 'r'))\n",
    "    xi = data['features'][:LIMIT]\n",
    "    X.extend(xi)\n",
    "    keys.extend([key] * len(xi))"
   ]
  },
  {
   "cell_type": "code",
   "execution_count": 34,
   "id": "e3c1b356-6825-4c08-96c7-2530cd18aabd",
   "metadata": {},
   "outputs": [],
   "source": [
    "X = np.asarray(X, dtype=np.float16)"
   ]
  },
  {
   "cell_type": "code",
   "execution_count": 35,
   "id": "eb489dba-7b93-469b-a0c4-9d3fe2228a4a",
   "metadata": {},
   "outputs": [],
   "source": [
    "DATA['irmas/vggish/keys'] = keys\n",
    "DATA['irmas/vggish/features'] = X"
   ]
  },
  {
   "cell_type": "markdown",
   "id": "1a688734-efec-45c7-91d6-37dcaab7aa46",
   "metadata": {},
   "source": [
    "---\n",
    "# YAMnet"
   ]
  },
  {
   "cell_type": "code",
   "execution_count": 36,
   "id": "ddbae8d2-887f-4632-bfe3-dcf431178f10",
   "metadata": {},
   "outputs": [],
   "source": [
    "# load the irmas\n",
    "files_irmas = librosa.util.find_files('/home/bmcfee/data/WIMIR2019-embeddings/irmas-yamnet/', ext='npz')"
   ]
  },
  {
   "cell_type": "code",
   "execution_count": 37,
   "id": "c0c16e37-e82e-4d9e-bd67-302d582904a5",
   "metadata": {},
   "outputs": [
    {
     "data": {
      "application/vnd.jupyter.widget-view+json": {
       "model_id": "5f224c5bf4714c42a2c436c5d463a4fa",
       "version_major": 2,
       "version_minor": 0
      },
      "text/plain": [
       "  0%|          | 0/6705 [00:00<?, ?it/s]"
      ]
     },
     "metadata": {},
     "output_type": "display_data"
    }
   ],
   "source": [
    "LIMIT = -1\n",
    "\n",
    "X = []\n",
    "keys = []\n",
    "for fn in tqdm(files_irmas):\n",
    "    key =  os.path.splitext(os.path.basename(fn))[0]\n",
    "\n",
    "    data = np.load(fn)\n",
    "    xi = data['X'][:LIMIT]\n",
    "    X.extend(xi)\n",
    "    keys.extend([key] * len(xi))"
   ]
  },
  {
   "cell_type": "code",
   "execution_count": 38,
   "id": "8aef27f0-30f8-4dc1-826f-b5936d3e2ecc",
   "metadata": {},
   "outputs": [],
   "source": [
    "X = np.asarray(X, dtype=np.float16)"
   ]
  },
  {
   "cell_type": "code",
   "execution_count": 39,
   "id": "93c40502-2f8c-49f0-88fc-70b52a34ef1f",
   "metadata": {},
   "outputs": [],
   "source": [
    "DATA['irmas/yamnet/keys'] = keys\n",
    "DATA['irmas/yamnet/features'] = X"
   ]
  },
  {
   "cell_type": "code",
   "execution_count": 42,
   "id": "68461aff-a5b0-4dab-ad0a-571747ce500b",
   "metadata": {},
   "outputs": [],
   "source": [
    "# load the openmic data\n",
    "files_openmic = librosa.util.find_files('/home/bmcfee/data/WIMIR2019-embeddings//openmic-yamnet/', ext='npz')"
   ]
  },
  {
   "cell_type": "code",
   "execution_count": 44,
   "id": "998e151e-6e9f-44a0-b8f2-143ec2d2ebd8",
   "metadata": {},
   "outputs": [
    {
     "data": {
      "application/vnd.jupyter.widget-view+json": {
       "model_id": "6c548ac411fb4e86bb93e83fc7f1d7ac",
       "version_major": 2,
       "version_minor": 0
      },
      "text/plain": [
       "  0%|          | 0/20000 [00:00<?, ?it/s]"
      ]
     },
     "metadata": {},
     "output_type": "display_data"
    }
   ],
   "source": [
    "LIMIT = -1\n",
    "\n",
    "X = []\n",
    "keys = []\n",
    "for fn in tqdm(files_openmic):\n",
    "    \n",
    "    key =  os.path.splitext(os.path.basename(fn))[0]\n",
    "    data = np.load(fn)\n",
    "    xi = data['X'][:LIMIT]\n",
    "    X.extend(xi)\n",
    "    keys.extend([key] * len(xi))"
   ]
  },
  {
   "cell_type": "code",
   "execution_count": 45,
   "id": "277b29a9-e3b7-4e97-aadd-65aabe587a16",
   "metadata": {},
   "outputs": [],
   "source": [
    "X = np.asarray(X, dtype=np.float16)"
   ]
  },
  {
   "cell_type": "code",
   "execution_count": 46,
   "id": "f5059118-8220-4fe5-9e70-b49dac1c34d7",
   "metadata": {},
   "outputs": [],
   "source": [
    "DATA['openmic/yamnet/keys'] = keys\n",
    "DATA['openmic/yamnet/features'] = X"
   ]
  },
  {
   "cell_type": "code",
   "execution_count": 47,
   "id": "a8abd346-bd89-4fd5-aa57-4a7756ba2b7b",
   "metadata": {},
   "outputs": [],
   "source": [
    "DATA.close()"
   ]
  }
 ],
 "metadata": {
  "kernelspec": {
   "display_name": "Python 3 (ipykernel)",
   "language": "python",
   "name": "python3"
  },
  "language_info": {
   "codemirror_mode": {
    "name": "ipython",
    "version": 3
   },
   "file_extension": ".py",
   "mimetype": "text/x-python",
   "name": "python",
   "nbconvert_exporter": "python",
   "pygments_lexer": "ipython3",
   "version": "3.9.12"
  }
 },
 "nbformat": 4,
 "nbformat_minor": 5
}
