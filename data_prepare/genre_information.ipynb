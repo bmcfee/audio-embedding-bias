{
 "cells": [
  {
   "cell_type": "code",
   "execution_count": 1,
   "metadata": {},
   "outputs": [],
   "source": [
    "%matplotlib inline\n",
    "import matplotlib.pyplot as plt\n",
    "import seaborn as sns\n",
    "import numpy as np\n",
    "from tqdm import tqdm_notebook as tqdm\n",
    "import json\n",
    "import pandas as pd\n",
    "import os\n",
    "import h5py\n",
    "from ast import literal_eval\n",
    "import re\n",
    "import pickle\n",
    "import collections\n",
    "import warnings\n",
    "warnings.filterwarnings('ignore')\n",
    "\n",
    "from sklearn.discriminant_analysis import LinearDiscriminantAnalysis\n",
    "from sklearn.metrics.pairwise import cosine_similarity"
   ]
  },
  {
   "cell_type": "code",
   "execution_count": 2,
   "metadata": {},
   "outputs": [],
   "source": [
    "with open('class-map-10.json', 'r') as f: # only consider 10 classes of Openmic dataset\n",
    "    class_map = json.load(f)\n",
    "    \n",
    "# use a dict to align the classes between Openmic dataset (key) and Irmas dataset (val)\n",
    "class_align = {'cello': 'cel',\n",
    "               'clarinet': 'cla',\n",
    "               'flute': 'flu',\n",
    "               'guitar': ['gac', 'gel'],\n",
    "               'organ': 'org',\n",
    "               'piano': 'pia',\n",
    "               'saxophone': 'sax',\n",
    "               'trumpet': 'tru',\n",
    "               'violin': 'vio',\n",
    "               'voice': 'voi'}"
   ]
  },
  {
   "cell_type": "code",
   "execution_count": 3,
   "metadata": {},
   "outputs": [],
   "source": [
    "# irmas genre information: country-folk ([cou_fol]), classical ([cla]), pop-rock ([pop-roc]), latin-soul ([lat-sou]).\n",
    "aligned_genre = ['pop_roc', 'jazz_blue', 'classical', 'country_folk', 'latin_soul']"
   ]
  },
  {
   "cell_type": "code",
   "execution_count": 4,
   "metadata": {},
   "outputs": [
    {
     "name": "stdout",
     "output_type": "stream",
     "text": [
      "irmas\n",
      "irmas/openl3\n",
      "irmas/openl3/features\n",
      "irmas/openl3/keys\n",
      "irmas/vggish\n",
      "irmas/vggish/features\n",
      "irmas/vggish/keys\n",
      "irmas/yamnet\n",
      "irmas/yamnet/features\n",
      "irmas/yamnet/keys\n",
      "openmic\n",
      "openmic/openl3\n",
      "openmic/openl3/features\n",
      "openmic/openl3/keys\n",
      "openmic/vggish\n",
      "openmic/vggish/features\n",
      "openmic/vggish/keys\n",
      "openmic/yamnet\n",
      "openmic/yamnet/features\n",
      "openmic/yamnet/keys\n"
     ]
    }
   ],
   "source": [
    "# load embeddings\n",
    "embeddings = h5py.File('../embedding-bias/embeddings.h5', 'r')\n",
    "\n",
    "def printname(name):\n",
    "    print(name)\n",
    "embeddings.visit(printname)"
   ]
  },
  {
   "cell_type": "markdown",
   "metadata": {},
   "source": [
    "# irmas"
   ]
  },
  {
   "cell_type": "code",
   "execution_count": 5,
   "metadata": {},
   "outputs": [],
   "source": [
    "embedding_name = 'openl3'"
   ]
  },
  {
   "cell_type": "code",
   "execution_count": 6,
   "metadata": {},
   "outputs": [
    {
     "name": "stdout",
     "output_type": "stream",
     "text": [
      "(167625, 512) (167625,)\n",
      "(6705,)\n"
     ]
    },
    {
     "data": {
      "application/vnd.jupyter.widget-view+json": {
       "model_id": "fc670aca656b4f7e940e9c4dd917d025",
       "version_major": 2,
       "version_minor": 0
      },
      "text/plain": [
       "  0%|          | 0/6705 [00:00<?, ?it/s]"
      ]
     },
     "metadata": {},
     "output_type": "display_data"
    },
    {
     "name": "stdout",
     "output_type": "stream",
     "text": [
      "(6705, 512) (6705,)\n"
     ]
    }
   ],
   "source": [
    "#########################\n",
    "# irmas: openl3 embedding\n",
    "feature = np.array(embeddings['irmas'][embedding_name]['features'])\n",
    "keys_ori = np.array(embeddings['irmas'][embedding_name]['keys'])\n",
    "print(feature.shape, keys_ori.shape)\n",
    "\n",
    "key_clip = np.unique(keys_ori)\n",
    "print(key_clip.shape)\n",
    "\n",
    "feature_clip = []\n",
    "\n",
    "for key in tqdm(key_clip):\n",
    "    feature_clip.append(np.mean(feature[keys_ori[:]==key,:],axis=0))\n",
    "    \n",
    "feature_clip = np.array(feature_clip)\n",
    "key_clip = np.array([str(k, 'utf-8') for k in key_clip])\n",
    "print(feature_clip.shape, key_clip.shape)"
   ]
  },
  {
   "cell_type": "code",
   "execution_count": 7,
   "metadata": {},
   "outputs": [],
   "source": [
    "key_train = list(pd.read_csv('irmas_train.csv', header=None, squeeze=True))\n",
    "key_test = list(pd.read_csv('irmas_test.csv', header=None, squeeze=True))\n",
    "\n",
    "# key_train = np.array([k[2:-1] for k in key_train])\n",
    "# key_test = np.array([k[2:-1]  for k in key_test])"
   ]
  },
  {
   "cell_type": "code",
   "execution_count": 8,
   "metadata": {},
   "outputs": [],
   "source": [
    "# These loops go through all sample keys, and save their row numbers to either idx_train or idx_test\n",
    "idx_train, idx_test = [], []\n",
    "\n",
    "for k in range(len(key_clip)):\n",
    "    if str(key_clip[k]) in key_train:\n",
    "        idx_train.append(k)\n",
    "    elif str(key_clip[k]) in key_test:\n",
    "        idx_test.append(k)\n",
    "    else:\n",
    "        # This should never happen, but better safe than sorry.\n",
    "        raise RuntimeError('Unknown sample key={}! Abort!'.format(key_clip[k]))\n",
    "        \n",
    "# cast the idx_* arrays to numpy structures\n",
    "idx_train = np.asarray(idx_train)\n",
    "idx_test = np.asarray(idx_test)"
   ]
  },
  {
   "cell_type": "code",
   "execution_count": 9,
   "metadata": {},
   "outputs": [],
   "source": [
    "key_train = np.array(key_clip[idx_train])\n",
    "key_train_genre = [key[key.rindex('[')+1:key.rindex(']')] for key in key_train]\n",
    "\n",
    "key_test = np.array(key_clip[idx_test])\n",
    "key_test_genre = [key[key.rindex('[')+1:key.rindex(']')] for key in key_test]"
   ]
  },
  {
   "cell_type": "code",
   "execution_count": 10,
   "metadata": {},
   "outputs": [
    {
     "data": {
      "text/plain": [
       "{'cla', 'cou_fol', 'jaz_blu', 'lat_sou', 'pop_roc'}"
      ]
     },
     "execution_count": 10,
     "metadata": {},
     "output_type": "execute_result"
    }
   ],
   "source": [
    "set(key_train_genre)"
   ]
  },
  {
   "cell_type": "code",
   "execution_count": 11,
   "metadata": {},
   "outputs": [],
   "source": [
    "#keys = np.array([str(k, 'utf-8') for k in key_clip])\n",
    "key_train = np.array(key_clip[idx_train])\n",
    "key_train_inst = [key[key.index('[')+1:key.index(']')] for key in key_train]\n",
    "\n",
    "for key in class_align:\n",
    "    key_train_inst = [key if x in class_align[key] else x for x in key_train_inst]"
   ]
  },
  {
   "cell_type": "code",
   "execution_count": 12,
   "metadata": {},
   "outputs": [
    {
     "data": {
      "text/plain": [
       "{'cello',\n",
       " 'clarinet',\n",
       " 'flute',\n",
       " 'guitar',\n",
       " 'organ',\n",
       " 'piano',\n",
       " 'saxophone',\n",
       " 'trumpet',\n",
       " 'violin',\n",
       " 'voice'}"
      ]
     },
     "execution_count": 12,
     "metadata": {},
     "output_type": "execute_result"
    }
   ],
   "source": [
    "set(key_train_inst)"
   ]
  },
  {
   "cell_type": "code",
   "execution_count": 13,
   "metadata": {},
   "outputs": [],
   "source": [
    "genre_ir_inst = {key:[] for key in class_align} \n",
    "\n",
    "for k in range(len(key_train)):\n",
    "    genre_ir_inst[key_train_inst[k]].append(key_train[k][key_train[k].rindex('[')+1:key_train[k].rindex(']')])"
   ]
  },
  {
   "cell_type": "code",
   "execution_count": 14,
   "metadata": {},
   "outputs": [],
   "source": [
    "for inst in genre_ir_inst:\n",
    "    genre_ir_inst[inst] = ['jazz_blue' if item =='jaz_blu' else item for item in genre_ir_inst[inst]]\n",
    "    genre_ir_inst[inst] = ['classical' if item =='cla' else item for item in genre_ir_inst[inst]]\n",
    "    genre_ir_inst[inst] = ['country_folk' if item =='cou_fol' else item for item in genre_ir_inst[inst]]\n",
    "    genre_ir_inst[inst] = ['latin_soul' if item =='lat_sou' else item for item in genre_ir_inst[inst]]"
   ]
  },
  {
   "cell_type": "code",
   "execution_count": 15,
   "metadata": {},
   "outputs": [
    {
     "data": {
      "text/plain": [
       "Counter({'pop_roc': 320,\n",
       "         'country_folk': 192,\n",
       "         'latin_soul': 42,\n",
       "         'jazz_blue': 33})"
      ]
     },
     "execution_count": 15,
     "metadata": {},
     "output_type": "execute_result"
    }
   ],
   "source": [
    "collections.Counter(genre_ir_inst[inst])"
   ]
  },
  {
   "cell_type": "code",
   "execution_count": 16,
   "metadata": {},
   "outputs": [
    {
     "data": {
      "text/html": [
       "<div>\n",
       "<style scoped>\n",
       "    .dataframe tbody tr th:only-of-type {\n",
       "        vertical-align: middle;\n",
       "    }\n",
       "\n",
       "    .dataframe tbody tr th {\n",
       "        vertical-align: top;\n",
       "    }\n",
       "\n",
       "    .dataframe thead th {\n",
       "        text-align: right;\n",
       "    }\n",
       "</style>\n",
       "<table border=\"1\" class=\"dataframe\">\n",
       "  <thead>\n",
       "    <tr style=\"text-align: right;\">\n",
       "      <th></th>\n",
       "      <th>cello</th>\n",
       "      <th>clarinet</th>\n",
       "      <th>flute</th>\n",
       "      <th>guitar</th>\n",
       "      <th>organ</th>\n",
       "      <th>piano</th>\n",
       "      <th>saxophone</th>\n",
       "      <th>trumpet</th>\n",
       "      <th>violin</th>\n",
       "      <th>voice</th>\n",
       "    </tr>\n",
       "  </thead>\n",
       "  <tbody>\n",
       "    <tr>\n",
       "      <th>pop_roc</th>\n",
       "      <td>84</td>\n",
       "      <td>100</td>\n",
       "      <td>104</td>\n",
       "      <td>581</td>\n",
       "      <td>218</td>\n",
       "      <td>99</td>\n",
       "      <td>114</td>\n",
       "      <td>119</td>\n",
       "      <td>114</td>\n",
       "      <td>320</td>\n",
       "    </tr>\n",
       "    <tr>\n",
       "      <th>jazz_blue</th>\n",
       "      <td>23</td>\n",
       "      <td>104</td>\n",
       "      <td>95</td>\n",
       "      <td>246</td>\n",
       "      <td>287</td>\n",
       "      <td>237</td>\n",
       "      <td>203</td>\n",
       "      <td>200</td>\n",
       "      <td>111</td>\n",
       "      <td>33</td>\n",
       "    </tr>\n",
       "    <tr>\n",
       "      <th>classical</th>\n",
       "      <td>187</td>\n",
       "      <td>174</td>\n",
       "      <td>110</td>\n",
       "      <td>116</td>\n",
       "      <td>0</td>\n",
       "      <td>206</td>\n",
       "      <td>156</td>\n",
       "      <td>108</td>\n",
       "      <td>183</td>\n",
       "      <td>0</td>\n",
       "    </tr>\n",
       "    <tr>\n",
       "      <th>country_folk</th>\n",
       "      <td>0</td>\n",
       "      <td>0</td>\n",
       "      <td>21</td>\n",
       "      <td>108</td>\n",
       "      <td>3</td>\n",
       "      <td>9</td>\n",
       "      <td>3</td>\n",
       "      <td>0</td>\n",
       "      <td>29</td>\n",
       "      <td>192</td>\n",
       "    </tr>\n",
       "    <tr>\n",
       "      <th>latin_soul</th>\n",
       "      <td>0</td>\n",
       "      <td>0</td>\n",
       "      <td>0</td>\n",
       "      <td>0</td>\n",
       "      <td>0</td>\n",
       "      <td>0</td>\n",
       "      <td>0</td>\n",
       "      <td>0</td>\n",
       "      <td>0</td>\n",
       "      <td>42</td>\n",
       "    </tr>\n",
       "  </tbody>\n",
       "</table>\n",
       "</div>"
      ],
      "text/plain": [
       "             cello clarinet flute guitar organ piano saxophone trumpet violin  \\\n",
       "pop_roc         84      100   104    581   218    99       114     119    114   \n",
       "jazz_blue       23      104    95    246   287   237       203     200    111   \n",
       "classical      187      174   110    116     0   206       156     108    183   \n",
       "country_folk     0        0    21    108     3     9         3       0     29   \n",
       "latin_soul       0        0     0      0     0     0         0       0      0   \n",
       "\n",
       "             voice  \n",
       "pop_roc        320  \n",
       "jazz_blue       33  \n",
       "classical        0  \n",
       "country_folk   192  \n",
       "latin_soul      42  "
      ]
     },
     "execution_count": 16,
     "metadata": {},
     "output_type": "execute_result"
    }
   ],
   "source": [
    "genre_ir_inst_df =pd.DataFrame(columns=[key for key in class_align], index=aligned_genre)\n",
    "for inst in genre_ir_inst:\n",
    "    for genre in aligned_genre:\n",
    "        genre_ir_inst_df[inst][genre] = collections.Counter(genre_ir_inst[inst])[genre]\n",
    "\n",
    "genre_ir_inst_df "
   ]
  },
  {
   "cell_type": "code",
   "execution_count": 17,
   "metadata": {},
   "outputs": [
    {
     "data": {
      "text/html": [
       "<div>\n",
       "<style scoped>\n",
       "    .dataframe tbody tr th:only-of-type {\n",
       "        vertical-align: middle;\n",
       "    }\n",
       "\n",
       "    .dataframe tbody tr th {\n",
       "        vertical-align: top;\n",
       "    }\n",
       "\n",
       "    .dataframe thead th {\n",
       "        text-align: right;\n",
       "    }\n",
       "</style>\n",
       "<table border=\"1\" class=\"dataframe\">\n",
       "  <thead>\n",
       "    <tr style=\"text-align: right;\">\n",
       "      <th></th>\n",
       "      <th>instrument</th>\n",
       "      <th>genre</th>\n",
       "      <th>examples</th>\n",
       "      <th>train_set</th>\n",
       "    </tr>\n",
       "  </thead>\n",
       "  <tbody>\n",
       "    <tr>\n",
       "      <th>0</th>\n",
       "      <td>cello</td>\n",
       "      <td>pop_roc</td>\n",
       "      <td>84</td>\n",
       "      <td>irmas</td>\n",
       "    </tr>\n",
       "    <tr>\n",
       "      <th>1</th>\n",
       "      <td>cello</td>\n",
       "      <td>jazz_blue</td>\n",
       "      <td>23</td>\n",
       "      <td>irmas</td>\n",
       "    </tr>\n",
       "    <tr>\n",
       "      <th>2</th>\n",
       "      <td>cello</td>\n",
       "      <td>classical</td>\n",
       "      <td>187</td>\n",
       "      <td>irmas</td>\n",
       "    </tr>\n",
       "    <tr>\n",
       "      <th>3</th>\n",
       "      <td>cello</td>\n",
       "      <td>country_folk</td>\n",
       "      <td>0</td>\n",
       "      <td>irmas</td>\n",
       "    </tr>\n",
       "    <tr>\n",
       "      <th>4</th>\n",
       "      <td>cello</td>\n",
       "      <td>latin_soul</td>\n",
       "      <td>0</td>\n",
       "      <td>irmas</td>\n",
       "    </tr>\n",
       "    <tr>\n",
       "      <th>5</th>\n",
       "      <td>clarinet</td>\n",
       "      <td>pop_roc</td>\n",
       "      <td>100</td>\n",
       "      <td>irmas</td>\n",
       "    </tr>\n",
       "    <tr>\n",
       "      <th>6</th>\n",
       "      <td>clarinet</td>\n",
       "      <td>jazz_blue</td>\n",
       "      <td>104</td>\n",
       "      <td>irmas</td>\n",
       "    </tr>\n",
       "    <tr>\n",
       "      <th>7</th>\n",
       "      <td>clarinet</td>\n",
       "      <td>classical</td>\n",
       "      <td>174</td>\n",
       "      <td>irmas</td>\n",
       "    </tr>\n",
       "    <tr>\n",
       "      <th>8</th>\n",
       "      <td>clarinet</td>\n",
       "      <td>country_folk</td>\n",
       "      <td>0</td>\n",
       "      <td>irmas</td>\n",
       "    </tr>\n",
       "    <tr>\n",
       "      <th>9</th>\n",
       "      <td>clarinet</td>\n",
       "      <td>latin_soul</td>\n",
       "      <td>0</td>\n",
       "      <td>irmas</td>\n",
       "    </tr>\n",
       "    <tr>\n",
       "      <th>10</th>\n",
       "      <td>flute</td>\n",
       "      <td>pop_roc</td>\n",
       "      <td>104</td>\n",
       "      <td>irmas</td>\n",
       "    </tr>\n",
       "    <tr>\n",
       "      <th>11</th>\n",
       "      <td>flute</td>\n",
       "      <td>jazz_blue</td>\n",
       "      <td>95</td>\n",
       "      <td>irmas</td>\n",
       "    </tr>\n",
       "    <tr>\n",
       "      <th>12</th>\n",
       "      <td>flute</td>\n",
       "      <td>classical</td>\n",
       "      <td>110</td>\n",
       "      <td>irmas</td>\n",
       "    </tr>\n",
       "    <tr>\n",
       "      <th>13</th>\n",
       "      <td>flute</td>\n",
       "      <td>country_folk</td>\n",
       "      <td>21</td>\n",
       "      <td>irmas</td>\n",
       "    </tr>\n",
       "    <tr>\n",
       "      <th>14</th>\n",
       "      <td>flute</td>\n",
       "      <td>latin_soul</td>\n",
       "      <td>0</td>\n",
       "      <td>irmas</td>\n",
       "    </tr>\n",
       "    <tr>\n",
       "      <th>15</th>\n",
       "      <td>guitar</td>\n",
       "      <td>pop_roc</td>\n",
       "      <td>581</td>\n",
       "      <td>irmas</td>\n",
       "    </tr>\n",
       "    <tr>\n",
       "      <th>16</th>\n",
       "      <td>guitar</td>\n",
       "      <td>jazz_blue</td>\n",
       "      <td>246</td>\n",
       "      <td>irmas</td>\n",
       "    </tr>\n",
       "    <tr>\n",
       "      <th>17</th>\n",
       "      <td>guitar</td>\n",
       "      <td>classical</td>\n",
       "      <td>116</td>\n",
       "      <td>irmas</td>\n",
       "    </tr>\n",
       "    <tr>\n",
       "      <th>18</th>\n",
       "      <td>guitar</td>\n",
       "      <td>country_folk</td>\n",
       "      <td>108</td>\n",
       "      <td>irmas</td>\n",
       "    </tr>\n",
       "    <tr>\n",
       "      <th>19</th>\n",
       "      <td>guitar</td>\n",
       "      <td>latin_soul</td>\n",
       "      <td>0</td>\n",
       "      <td>irmas</td>\n",
       "    </tr>\n",
       "    <tr>\n",
       "      <th>20</th>\n",
       "      <td>organ</td>\n",
       "      <td>pop_roc</td>\n",
       "      <td>218</td>\n",
       "      <td>irmas</td>\n",
       "    </tr>\n",
       "    <tr>\n",
       "      <th>21</th>\n",
       "      <td>organ</td>\n",
       "      <td>jazz_blue</td>\n",
       "      <td>287</td>\n",
       "      <td>irmas</td>\n",
       "    </tr>\n",
       "    <tr>\n",
       "      <th>22</th>\n",
       "      <td>organ</td>\n",
       "      <td>classical</td>\n",
       "      <td>0</td>\n",
       "      <td>irmas</td>\n",
       "    </tr>\n",
       "    <tr>\n",
       "      <th>23</th>\n",
       "      <td>organ</td>\n",
       "      <td>country_folk</td>\n",
       "      <td>3</td>\n",
       "      <td>irmas</td>\n",
       "    </tr>\n",
       "    <tr>\n",
       "      <th>24</th>\n",
       "      <td>organ</td>\n",
       "      <td>latin_soul</td>\n",
       "      <td>0</td>\n",
       "      <td>irmas</td>\n",
       "    </tr>\n",
       "    <tr>\n",
       "      <th>25</th>\n",
       "      <td>piano</td>\n",
       "      <td>pop_roc</td>\n",
       "      <td>99</td>\n",
       "      <td>irmas</td>\n",
       "    </tr>\n",
       "    <tr>\n",
       "      <th>26</th>\n",
       "      <td>piano</td>\n",
       "      <td>jazz_blue</td>\n",
       "      <td>237</td>\n",
       "      <td>irmas</td>\n",
       "    </tr>\n",
       "    <tr>\n",
       "      <th>27</th>\n",
       "      <td>piano</td>\n",
       "      <td>classical</td>\n",
       "      <td>206</td>\n",
       "      <td>irmas</td>\n",
       "    </tr>\n",
       "    <tr>\n",
       "      <th>28</th>\n",
       "      <td>piano</td>\n",
       "      <td>country_folk</td>\n",
       "      <td>9</td>\n",
       "      <td>irmas</td>\n",
       "    </tr>\n",
       "    <tr>\n",
       "      <th>29</th>\n",
       "      <td>piano</td>\n",
       "      <td>latin_soul</td>\n",
       "      <td>0</td>\n",
       "      <td>irmas</td>\n",
       "    </tr>\n",
       "    <tr>\n",
       "      <th>30</th>\n",
       "      <td>saxophone</td>\n",
       "      <td>pop_roc</td>\n",
       "      <td>114</td>\n",
       "      <td>irmas</td>\n",
       "    </tr>\n",
       "    <tr>\n",
       "      <th>31</th>\n",
       "      <td>saxophone</td>\n",
       "      <td>jazz_blue</td>\n",
       "      <td>203</td>\n",
       "      <td>irmas</td>\n",
       "    </tr>\n",
       "    <tr>\n",
       "      <th>32</th>\n",
       "      <td>saxophone</td>\n",
       "      <td>classical</td>\n",
       "      <td>156</td>\n",
       "      <td>irmas</td>\n",
       "    </tr>\n",
       "    <tr>\n",
       "      <th>33</th>\n",
       "      <td>saxophone</td>\n",
       "      <td>country_folk</td>\n",
       "      <td>3</td>\n",
       "      <td>irmas</td>\n",
       "    </tr>\n",
       "    <tr>\n",
       "      <th>34</th>\n",
       "      <td>saxophone</td>\n",
       "      <td>latin_soul</td>\n",
       "      <td>0</td>\n",
       "      <td>irmas</td>\n",
       "    </tr>\n",
       "    <tr>\n",
       "      <th>35</th>\n",
       "      <td>trumpet</td>\n",
       "      <td>pop_roc</td>\n",
       "      <td>119</td>\n",
       "      <td>irmas</td>\n",
       "    </tr>\n",
       "    <tr>\n",
       "      <th>36</th>\n",
       "      <td>trumpet</td>\n",
       "      <td>jazz_blue</td>\n",
       "      <td>200</td>\n",
       "      <td>irmas</td>\n",
       "    </tr>\n",
       "    <tr>\n",
       "      <th>37</th>\n",
       "      <td>trumpet</td>\n",
       "      <td>classical</td>\n",
       "      <td>108</td>\n",
       "      <td>irmas</td>\n",
       "    </tr>\n",
       "    <tr>\n",
       "      <th>38</th>\n",
       "      <td>trumpet</td>\n",
       "      <td>country_folk</td>\n",
       "      <td>0</td>\n",
       "      <td>irmas</td>\n",
       "    </tr>\n",
       "    <tr>\n",
       "      <th>39</th>\n",
       "      <td>trumpet</td>\n",
       "      <td>latin_soul</td>\n",
       "      <td>0</td>\n",
       "      <td>irmas</td>\n",
       "    </tr>\n",
       "    <tr>\n",
       "      <th>40</th>\n",
       "      <td>violin</td>\n",
       "      <td>pop_roc</td>\n",
       "      <td>114</td>\n",
       "      <td>irmas</td>\n",
       "    </tr>\n",
       "    <tr>\n",
       "      <th>41</th>\n",
       "      <td>violin</td>\n",
       "      <td>jazz_blue</td>\n",
       "      <td>111</td>\n",
       "      <td>irmas</td>\n",
       "    </tr>\n",
       "    <tr>\n",
       "      <th>42</th>\n",
       "      <td>violin</td>\n",
       "      <td>classical</td>\n",
       "      <td>183</td>\n",
       "      <td>irmas</td>\n",
       "    </tr>\n",
       "    <tr>\n",
       "      <th>43</th>\n",
       "      <td>violin</td>\n",
       "      <td>country_folk</td>\n",
       "      <td>29</td>\n",
       "      <td>irmas</td>\n",
       "    </tr>\n",
       "    <tr>\n",
       "      <th>44</th>\n",
       "      <td>violin</td>\n",
       "      <td>latin_soul</td>\n",
       "      <td>0</td>\n",
       "      <td>irmas</td>\n",
       "    </tr>\n",
       "    <tr>\n",
       "      <th>45</th>\n",
       "      <td>voice</td>\n",
       "      <td>pop_roc</td>\n",
       "      <td>320</td>\n",
       "      <td>irmas</td>\n",
       "    </tr>\n",
       "    <tr>\n",
       "      <th>46</th>\n",
       "      <td>voice</td>\n",
       "      <td>jazz_blue</td>\n",
       "      <td>33</td>\n",
       "      <td>irmas</td>\n",
       "    </tr>\n",
       "    <tr>\n",
       "      <th>47</th>\n",
       "      <td>voice</td>\n",
       "      <td>classical</td>\n",
       "      <td>0</td>\n",
       "      <td>irmas</td>\n",
       "    </tr>\n",
       "    <tr>\n",
       "      <th>48</th>\n",
       "      <td>voice</td>\n",
       "      <td>country_folk</td>\n",
       "      <td>192</td>\n",
       "      <td>irmas</td>\n",
       "    </tr>\n",
       "    <tr>\n",
       "      <th>49</th>\n",
       "      <td>voice</td>\n",
       "      <td>latin_soul</td>\n",
       "      <td>42</td>\n",
       "      <td>irmas</td>\n",
       "    </tr>\n",
       "  </tbody>\n",
       "</table>\n",
       "</div>"
      ],
      "text/plain": [
       "   instrument         genre  examples train_set\n",
       "0       cello       pop_roc        84     irmas\n",
       "1       cello     jazz_blue        23     irmas\n",
       "2       cello     classical       187     irmas\n",
       "3       cello  country_folk         0     irmas\n",
       "4       cello    latin_soul         0     irmas\n",
       "5    clarinet       pop_roc       100     irmas\n",
       "6    clarinet     jazz_blue       104     irmas\n",
       "7    clarinet     classical       174     irmas\n",
       "8    clarinet  country_folk         0     irmas\n",
       "9    clarinet    latin_soul         0     irmas\n",
       "10      flute       pop_roc       104     irmas\n",
       "11      flute     jazz_blue        95     irmas\n",
       "12      flute     classical       110     irmas\n",
       "13      flute  country_folk        21     irmas\n",
       "14      flute    latin_soul         0     irmas\n",
       "15     guitar       pop_roc       581     irmas\n",
       "16     guitar     jazz_blue       246     irmas\n",
       "17     guitar     classical       116     irmas\n",
       "18     guitar  country_folk       108     irmas\n",
       "19     guitar    latin_soul         0     irmas\n",
       "20      organ       pop_roc       218     irmas\n",
       "21      organ     jazz_blue       287     irmas\n",
       "22      organ     classical         0     irmas\n",
       "23      organ  country_folk         3     irmas\n",
       "24      organ    latin_soul         0     irmas\n",
       "25      piano       pop_roc        99     irmas\n",
       "26      piano     jazz_blue       237     irmas\n",
       "27      piano     classical       206     irmas\n",
       "28      piano  country_folk         9     irmas\n",
       "29      piano    latin_soul         0     irmas\n",
       "30  saxophone       pop_roc       114     irmas\n",
       "31  saxophone     jazz_blue       203     irmas\n",
       "32  saxophone     classical       156     irmas\n",
       "33  saxophone  country_folk         3     irmas\n",
       "34  saxophone    latin_soul         0     irmas\n",
       "35    trumpet       pop_roc       119     irmas\n",
       "36    trumpet     jazz_blue       200     irmas\n",
       "37    trumpet     classical       108     irmas\n",
       "38    trumpet  country_folk         0     irmas\n",
       "39    trumpet    latin_soul         0     irmas\n",
       "40     violin       pop_roc       114     irmas\n",
       "41     violin     jazz_blue       111     irmas\n",
       "42     violin     classical       183     irmas\n",
       "43     violin  country_folk        29     irmas\n",
       "44     violin    latin_soul         0     irmas\n",
       "45      voice       pop_roc       320     irmas\n",
       "46      voice     jazz_blue        33     irmas\n",
       "47      voice     classical         0     irmas\n",
       "48      voice  country_folk       192     irmas\n",
       "49      voice    latin_soul        42     irmas"
      ]
     },
     "execution_count": 17,
     "metadata": {},
     "output_type": "execute_result"
    }
   ],
   "source": [
    "genre_ir_inst_save =pd.DataFrame({'instrument': [], 'genre': [], 'examples': [], 'train_set':[]})\n",
    "\n",
    "col_exmp = []; col_inst = []\n",
    "for inst in class_align:\n",
    "    col_exmp.extend(list(genre_ir_inst_df[inst]))\n",
    "    col_inst.extend([inst] * len(aligned_genre))\n",
    "    \n",
    "genre_ir_inst_save['examples'] = col_exmp\n",
    "genre_ir_inst_save['instrument'] = col_inst\n",
    "genre_ir_inst_save['genre'] = aligned_genre * len(list(genre_ir_inst_df.keys()))\n",
    "genre_ir_inst_save['train_set'] = ['irmas'] * len(aligned_genre) * len(list(genre_ir_inst_df.keys()))\n",
    "\n",
    "genre_ir_inst_save"
   ]
  },
  {
   "cell_type": "markdown",
   "metadata": {},
   "source": [
    "# openmic"
   ]
  },
  {
   "cell_type": "code",
   "execution_count": 18,
   "metadata": {},
   "outputs": [
    {
     "name": "stdout",
     "output_type": "stream",
     "text": [
      "(1900000, 512) (1900000,)\n"
     ]
    },
    {
     "data": {
      "application/vnd.jupyter.widget-view+json": {
       "model_id": "5fcead4a344140a6925717c876bc6e7b",
       "version_major": 2,
       "version_minor": 0
      },
      "text/plain": [
       "  0%|          | 0/20000 [00:00<?, ?it/s]"
      ]
     },
     "metadata": {},
     "output_type": "display_data"
    },
    {
     "name": "stdout",
     "output_type": "stream",
     "text": [
      "(20000, 512) (20000,)\n"
     ]
    }
   ],
   "source": [
    "#########################\n",
    "# openmic: openl3 embedding\n",
    "feature = np.array(embeddings['openmic'][embedding_name]['features'])\n",
    "keys = np.array(embeddings['openmic'][embedding_name]['keys'])\n",
    "print(feature.shape, keys.shape)\n",
    "\n",
    "key_clip = np.unique(keys)\n",
    "\n",
    "X = []\n",
    "\n",
    "for key in tqdm(key_clip):\n",
    "    X.append(np.mean(feature[keys[:]==key,:],axis=0))\n",
    "    \n",
    "X = np.array(X)\n",
    "print(X.shape, key_clip.shape)\n",
    "\n",
    "key_clip = np.array([str(k, 'utf-8') for k in key_clip])"
   ]
  },
  {
   "cell_type": "code",
   "execution_count": 19,
   "metadata": {},
   "outputs": [
    {
     "name": "stdout",
     "output_type": "stream",
     "text": [
      "(20000, 20) (20000, 20) (20000,)\n"
     ]
    }
   ],
   "source": [
    "# key-label map using the information from the dataset source\n",
    "data_root = '../datasets/openmic-2018/'\n",
    "# Replaced the above by a local symbolic link within the github repo\n",
    "# data_root = 'openmic-2018/'\n",
    "\n",
    "np_load_old = np.load   # save np.load\n",
    "np.load = lambda *a,**k: np_load_old(*a, allow_pickle=True,**k)   # modify the default parameters of np.load\n",
    "\n",
    "Ytrue = np.load(os.path.join(data_root, 'openmic-2018.npz'))['Y_true']\n",
    "Ymask = np.load(os.path.join(data_root, 'openmic-2018.npz'))['Y_mask']\n",
    "sample_key = np.load(os.path.join(data_root, 'openmic-2018.npz'))['sample_key']\n",
    "\n",
    "np.load = np_load_old   # restore np.load for future normal usage\n",
    "del(np_load_old)\n",
    "\n",
    "print(Ytrue.shape, Ymask.shape, sample_key.shape)"
   ]
  },
  {
   "cell_type": "code",
   "execution_count": 20,
   "metadata": {},
   "outputs": [
    {
     "data": {
      "application/vnd.jupyter.widget-view+json": {
       "model_id": "e53f3f25ce274504924696b875d6c6de",
       "version_major": 2,
       "version_minor": 0
      },
      "text/plain": [
       "  0%|          | 0/20000 [00:00<?, ?it/s]"
      ]
     },
     "metadata": {},
     "output_type": "display_data"
    },
    {
     "name": "stdout",
     "output_type": "stream",
     "text": [
      "(20000, 512) (20000, 20) (20000, 20)\n"
     ]
    }
   ],
   "source": [
    "Y_true = []\n",
    "Y_mask = []\n",
    "\n",
    "for key in tqdm(key_clip):\n",
    "    Y_true.append(Ytrue[sample_key==key])\n",
    "    Y_mask.append(Ymask[sample_key==key])\n",
    "    \n",
    "Y_true = np.squeeze(np.array(Y_true))\n",
    "Y_mask = np.squeeze(np.array(Y_mask))\n",
    "\n",
    "print(X.shape, Y_true.shape, Y_mask.shape)"
   ]
  },
  {
   "cell_type": "code",
   "execution_count": 21,
   "metadata": {},
   "outputs": [
    {
     "name": "stdout",
     "output_type": "stream",
     "text": [
      "# Train: 14915,  # Test: 5085\n"
     ]
    }
   ],
   "source": [
    "# train-test split\n",
    "split_train = pd.read_csv('openmic2018_train.csv', header=None, squeeze=True)\n",
    "split_test = pd.read_csv('openmic2018_test.csv', header=None, squeeze=True)\n",
    "\n",
    "print('# Train: {},  # Test: {}'.format(len(split_train), len(split_test)))\n",
    "\n",
    "train_set = set(split_train)\n",
    "test_set = set(split_test)\n",
    "\n",
    "idx_train, idx_test = [], []\n",
    "\n",
    "for idx, n in enumerate(key_clip):\n",
    "    if n in train_set:\n",
    "        idx_train.append(idx)\n",
    "    elif n in test_set:\n",
    "        idx_test.append(idx)\n",
    "    else:\n",
    "        raise RuntimeError('Unknown sample key={}! Abort!'.format(key_clip[n]))\n",
    "        \n",
    "idx_train = np.asarray(idx_train)\n",
    "idx_test = np.asarray(idx_test)"
   ]
  },
  {
   "cell_type": "code",
   "execution_count": 22,
   "metadata": {},
   "outputs": [
    {
     "name": "stdout",
     "output_type": "stream",
     "text": [
      "(14915, 20) (14915, 20)\n"
     ]
    }
   ],
   "source": [
    "Y_true_train = Y_true[idx_train]\n",
    "Y_mask_train = Y_mask[idx_train]\n",
    "print(Y_true_train.shape, Y_mask_train.shape)"
   ]
  },
  {
   "cell_type": "code",
   "execution_count": 23,
   "metadata": {},
   "outputs": [],
   "source": [
    "# key-label map using the information from the dataset source\n",
    "# data_root = '/import/c4dm-datasets/openmic-2018/openmic-2018/'\n",
    "# Replaced the above by a local symbolic link within the github repo\n",
    "# data_root = 'openmic-2018/'\n",
    "\n",
    "meta = pd.read_csv(data_root + 'openmic-2018-metadata.csv')"
   ]
  },
  {
   "cell_type": "code",
   "execution_count": 24,
   "metadata": {},
   "outputs": [
    {
     "data": {
      "text/plain": [
       "14915"
      ]
     },
     "execution_count": 24,
     "metadata": {},
     "output_type": "execute_result"
    }
   ],
   "source": [
    "train_genre_meta = list(meta['track_genres'][idx_train])\n",
    "len(train_genre_meta)\n",
    "# train_genre_meta"
   ]
  },
  {
   "cell_type": "code",
   "execution_count": 25,
   "metadata": {},
   "outputs": [
    {
     "data": {
      "application/vnd.jupyter.widget-view+json": {
       "model_id": "6eab8e474d0c4e69aeacb11f7ac68dd9",
       "version_major": 2,
       "version_minor": 0
      },
      "text/plain": [
       "  0%|          | 0/14915 [00:00<?, ?it/s]"
      ]
     },
     "metadata": {},
     "output_type": "display_data"
    }
   ],
   "source": [
    "key_genre_om = []\n",
    "\n",
    "for k in tqdm(range(len(train_genre_meta))):\n",
    "    if isinstance(train_genre_meta[k], str):\n",
    "        key_genre_om.append(literal_eval(train_genre_meta[k])[0]['genre_title'])\n",
    "    else:\n",
    "        key_genre_om.append('other')\n",
    "        \n",
    "Y_om = np.array(key_genre_om)"
   ]
  },
  {
   "cell_type": "code",
   "execution_count": 26,
   "metadata": {},
   "outputs": [],
   "source": [
    "def list_match(A, B):\n",
    "    ele_A = set(map(str.lower, A))\n",
    "    ele_B = set(map(str.lower, B))\n",
    "    return bool(ele_A & ele_B)\n",
    "\n",
    "Y_om_align = []\n",
    "\n",
    "for item in Y_om:\n",
    "    Y_om_item = re.split('[^a-zA-Z]', item)\n",
    "    genre_match = 'other'\n",
    "    for genre in aligned_genre:\n",
    "        genre_item = re.split('[^a-zA-Z]', genre)\n",
    "        if list_match(Y_om_item, genre_item):\n",
    "            genre_match = genre\n",
    "            continue\n",
    "    Y_om_align.append(genre_match)\n",
    "\n",
    "Y_om_align = np.array(Y_om_align)"
   ]
  },
  {
   "cell_type": "code",
   "execution_count": 27,
   "metadata": {},
   "outputs": [
    {
     "data": {
      "text/plain": [
       "{'cello': [],\n",
       " 'clarinet': [],\n",
       " 'flute': [],\n",
       " 'guitar': [],\n",
       " 'organ': [],\n",
       " 'piano': [],\n",
       " 'saxophone': [],\n",
       " 'trumpet': [],\n",
       " 'violin': [],\n",
       " 'voice': []}"
      ]
     },
     "execution_count": 27,
     "metadata": {},
     "output_type": "execute_result"
    }
   ],
   "source": [
    "genre_om_inst = {key:[] for key in class_align} \n",
    "genre_om_inst"
   ]
  },
  {
   "cell_type": "code",
   "execution_count": 28,
   "metadata": {},
   "outputs": [
    {
     "data": {
      "application/vnd.jupyter.widget-view+json": {
       "model_id": "aed1c76b03994fbfbfa9e276676585ac",
       "version_major": 2,
       "version_minor": 0
      },
      "text/plain": [
       "  0%|          | 0/10 [00:00<?, ?it/s]"
      ]
     },
     "metadata": {},
     "output_type": "display_data"
    }
   ],
   "source": [
    "for inst in tqdm(genre_om_inst):\n",
    "    inst_num = class_map[inst]\n",
    "    train_inst = Y_mask_train[:, inst_num]\n",
    "    Y_true_train_inst = Y_true_train[train_inst, inst_num] >= 0.5\n",
    "    \n",
    "    genre_om_inst_ori = Y_om[train_inst]\n",
    "\n",
    "    for item in genre_om_inst_ori:\n",
    "        genre_om_inst_item = re.split('[^a-zA-Z]', item)\n",
    "        genre_match = 'other'\n",
    "        for genre in aligned_genre:\n",
    "            genre_item = re.split('[^a-zA-Z]', genre)\n",
    "            if list_match(genre_om_inst_item, genre_item):\n",
    "                genre_match = genre\n",
    "                continue\n",
    "        genre_om_inst[inst].append(genre_match)"
   ]
  },
  {
   "cell_type": "code",
   "execution_count": 29,
   "metadata": {},
   "outputs": [],
   "source": [
    "genre_om_inst_df =pd.DataFrame(columns=[key for key in class_align], index=aligned_genre+['other'])\n",
    "for inst in genre_om_inst:\n",
    "    for genre in aligned_genre:\n",
    "        genre_om_inst_df[inst][genre] = collections.Counter(genre_om_inst[inst])[genre]\n",
    "    genre_om_inst_df[inst]['other'] = collections.Counter(genre_om_inst[inst])['other']\n",
    "\n",
    "# genre_om_inst_df "
   ]
  },
  {
   "cell_type": "code",
   "execution_count": 30,
   "metadata": {},
   "outputs": [
    {
     "data": {
      "text/html": [
       "<div>\n",
       "<style scoped>\n",
       "    .dataframe tbody tr th:only-of-type {\n",
       "        vertical-align: middle;\n",
       "    }\n",
       "\n",
       "    .dataframe tbody tr th {\n",
       "        vertical-align: top;\n",
       "    }\n",
       "\n",
       "    .dataframe thead th {\n",
       "        text-align: right;\n",
       "    }\n",
       "</style>\n",
       "<table border=\"1\" class=\"dataframe\">\n",
       "  <thead>\n",
       "    <tr style=\"text-align: right;\">\n",
       "      <th></th>\n",
       "      <th>cello</th>\n",
       "      <th>clarinet</th>\n",
       "      <th>flute</th>\n",
       "      <th>guitar</th>\n",
       "      <th>organ</th>\n",
       "      <th>piano</th>\n",
       "      <th>saxophone</th>\n",
       "      <th>trumpet</th>\n",
       "      <th>violin</th>\n",
       "      <th>voice</th>\n",
       "    </tr>\n",
       "  </thead>\n",
       "  <tbody>\n",
       "    <tr>\n",
       "      <th>pop_roc</th>\n",
       "      <td>68</td>\n",
       "      <td>76</td>\n",
       "      <td>55</td>\n",
       "      <td>89</td>\n",
       "      <td>78</td>\n",
       "      <td>67</td>\n",
       "      <td>79</td>\n",
       "      <td>100</td>\n",
       "      <td>62</td>\n",
       "      <td>94</td>\n",
       "    </tr>\n",
       "    <tr>\n",
       "      <th>jazz_blue</th>\n",
       "      <td>51</td>\n",
       "      <td>216</td>\n",
       "      <td>91</td>\n",
       "      <td>34</td>\n",
       "      <td>23</td>\n",
       "      <td>81</td>\n",
       "      <td>320</td>\n",
       "      <td>206</td>\n",
       "      <td>56</td>\n",
       "      <td>15</td>\n",
       "    </tr>\n",
       "    <tr>\n",
       "      <th>classical</th>\n",
       "      <td>145</td>\n",
       "      <td>87</td>\n",
       "      <td>55</td>\n",
       "      <td>95</td>\n",
       "      <td>257</td>\n",
       "      <td>252</td>\n",
       "      <td>17</td>\n",
       "      <td>77</td>\n",
       "      <td>152</td>\n",
       "      <td>45</td>\n",
       "    </tr>\n",
       "    <tr>\n",
       "      <th>country_folk</th>\n",
       "      <td>57</td>\n",
       "      <td>80</td>\n",
       "      <td>79</td>\n",
       "      <td>188</td>\n",
       "      <td>69</td>\n",
       "      <td>76</td>\n",
       "      <td>114</td>\n",
       "      <td>110</td>\n",
       "      <td>100</td>\n",
       "      <td>74</td>\n",
       "    </tr>\n",
       "    <tr>\n",
       "      <th>latin_soul</th>\n",
       "      <td>1</td>\n",
       "      <td>3</td>\n",
       "      <td>5</td>\n",
       "      <td>6</td>\n",
       "      <td>3</td>\n",
       "      <td>5</td>\n",
       "      <td>15</td>\n",
       "      <td>12</td>\n",
       "      <td>6</td>\n",
       "      <td>8</td>\n",
       "    </tr>\n",
       "    <tr>\n",
       "      <th>other</th>\n",
       "      <td>1142</td>\n",
       "      <td>1283</td>\n",
       "      <td>1237</td>\n",
       "      <td>802</td>\n",
       "      <td>1029</td>\n",
       "      <td>824</td>\n",
       "      <td>1191</td>\n",
       "      <td>1626</td>\n",
       "      <td>1026</td>\n",
       "      <td>954</td>\n",
       "    </tr>\n",
       "  </tbody>\n",
       "</table>\n",
       "</div>"
      ],
      "text/plain": [
       "             cello clarinet flute guitar organ piano saxophone trumpet violin  \\\n",
       "pop_roc         68       76    55     89    78    67        79     100     62   \n",
       "jazz_blue       51      216    91     34    23    81       320     206     56   \n",
       "classical      145       87    55     95   257   252        17      77    152   \n",
       "country_folk    57       80    79    188    69    76       114     110    100   \n",
       "latin_soul       1        3     5      6     3     5        15      12      6   \n",
       "other         1142     1283  1237    802  1029   824      1191    1626   1026   \n",
       "\n",
       "             voice  \n",
       "pop_roc         94  \n",
       "jazz_blue       15  \n",
       "classical       45  \n",
       "country_folk    74  \n",
       "latin_soul       8  \n",
       "other          954  "
      ]
     },
     "execution_count": 30,
     "metadata": {},
     "output_type": "execute_result"
    }
   ],
   "source": [
    "genre_om_inst_df"
   ]
  },
  {
   "cell_type": "code",
   "execution_count": 31,
   "metadata": {},
   "outputs": [],
   "source": [
    "genre_om_inst_save =pd.DataFrame({'instrument': [], 'genre': [], 'examples': [], 'train_set':[]})\n",
    "\n",
    "col_exmp = []; col_inst = []\n",
    "for inst in class_align:\n",
    "    col_exmp.extend(list(genre_om_inst_df[inst]))\n",
    "    col_inst.extend([inst] * len(genre_om_inst_df.index))\n",
    "    \n",
    "genre_om_inst_save['examples'] = col_exmp\n",
    "genre_om_inst_save['instrument'] = col_inst\n",
    "genre_om_inst_save['genre'] = list(genre_om_inst_df.index) * len(list(genre_om_inst_df.keys()))\n",
    "genre_om_inst_save['train_set'] = ['openmic'] * len(genre_om_inst_df.index) * len(list(genre_om_inst_df.keys()))\n",
    "\n",
    "# genre_om_inst_save"
   ]
  },
  {
   "cell_type": "code",
   "execution_count": 32,
   "metadata": {},
   "outputs": [
    {
     "data": {
      "text/html": [
       "<div>\n",
       "<style scoped>\n",
       "    .dataframe tbody tr th:only-of-type {\n",
       "        vertical-align: middle;\n",
       "    }\n",
       "\n",
       "    .dataframe tbody tr th {\n",
       "        vertical-align: top;\n",
       "    }\n",
       "\n",
       "    .dataframe thead th {\n",
       "        text-align: right;\n",
       "    }\n",
       "</style>\n",
       "<table border=\"1\" class=\"dataframe\">\n",
       "  <thead>\n",
       "    <tr style=\"text-align: right;\">\n",
       "      <th></th>\n",
       "      <th>instrument</th>\n",
       "      <th>genre</th>\n",
       "      <th>examples</th>\n",
       "      <th>train_set</th>\n",
       "    </tr>\n",
       "  </thead>\n",
       "  <tbody>\n",
       "    <tr>\n",
       "      <th>0</th>\n",
       "      <td>cello</td>\n",
       "      <td>pop_roc</td>\n",
       "      <td>84</td>\n",
       "      <td>irmas</td>\n",
       "    </tr>\n",
       "    <tr>\n",
       "      <th>1</th>\n",
       "      <td>cello</td>\n",
       "      <td>jazz_blue</td>\n",
       "      <td>23</td>\n",
       "      <td>irmas</td>\n",
       "    </tr>\n",
       "    <tr>\n",
       "      <th>2</th>\n",
       "      <td>cello</td>\n",
       "      <td>classical</td>\n",
       "      <td>187</td>\n",
       "      <td>irmas</td>\n",
       "    </tr>\n",
       "    <tr>\n",
       "      <th>3</th>\n",
       "      <td>cello</td>\n",
       "      <td>country_folk</td>\n",
       "      <td>0</td>\n",
       "      <td>irmas</td>\n",
       "    </tr>\n",
       "    <tr>\n",
       "      <th>4</th>\n",
       "      <td>cello</td>\n",
       "      <td>latin_soul</td>\n",
       "      <td>0</td>\n",
       "      <td>irmas</td>\n",
       "    </tr>\n",
       "    <tr>\n",
       "      <th>...</th>\n",
       "      <td>...</td>\n",
       "      <td>...</td>\n",
       "      <td>...</td>\n",
       "      <td>...</td>\n",
       "    </tr>\n",
       "    <tr>\n",
       "      <th>55</th>\n",
       "      <td>voice</td>\n",
       "      <td>jazz_blue</td>\n",
       "      <td>15</td>\n",
       "      <td>openmic</td>\n",
       "    </tr>\n",
       "    <tr>\n",
       "      <th>56</th>\n",
       "      <td>voice</td>\n",
       "      <td>classical</td>\n",
       "      <td>45</td>\n",
       "      <td>openmic</td>\n",
       "    </tr>\n",
       "    <tr>\n",
       "      <th>57</th>\n",
       "      <td>voice</td>\n",
       "      <td>country_folk</td>\n",
       "      <td>74</td>\n",
       "      <td>openmic</td>\n",
       "    </tr>\n",
       "    <tr>\n",
       "      <th>58</th>\n",
       "      <td>voice</td>\n",
       "      <td>latin_soul</td>\n",
       "      <td>8</td>\n",
       "      <td>openmic</td>\n",
       "    </tr>\n",
       "    <tr>\n",
       "      <th>59</th>\n",
       "      <td>voice</td>\n",
       "      <td>other</td>\n",
       "      <td>954</td>\n",
       "      <td>openmic</td>\n",
       "    </tr>\n",
       "  </tbody>\n",
       "</table>\n",
       "<p>110 rows × 4 columns</p>\n",
       "</div>"
      ],
      "text/plain": [
       "   instrument         genre  examples train_set\n",
       "0       cello       pop_roc        84     irmas\n",
       "1       cello     jazz_blue        23     irmas\n",
       "2       cello     classical       187     irmas\n",
       "3       cello  country_folk         0     irmas\n",
       "4       cello    latin_soul         0     irmas\n",
       "..        ...           ...       ...       ...\n",
       "55      voice     jazz_blue        15   openmic\n",
       "56      voice     classical        45   openmic\n",
       "57      voice  country_folk        74   openmic\n",
       "58      voice    latin_soul         8   openmic\n",
       "59      voice         other       954   openmic\n",
       "\n",
       "[110 rows x 4 columns]"
      ]
     },
     "execution_count": 32,
     "metadata": {},
     "output_type": "execute_result"
    }
   ],
   "source": [
    "genre_inst = genre_ir_inst_save.append(genre_om_inst_save)\n",
    "genre_inst"
   ]
  },
  {
   "cell_type": "code",
   "execution_count": 33,
   "metadata": {},
   "outputs": [],
   "source": [
    "genre_inst.to_csv('genre_information.csv', index=False)"
   ]
  },
  {
   "cell_type": "code",
   "execution_count": 34,
   "metadata": {},
   "outputs": [
    {
     "data": {
      "image/png": "[encoded data removed]",
      "text/plain": [
       "<Figure size 876.825x648 with 2 Axes>"
      ]
     },
     "metadata": {},
     "output_type": "display_data"
    }
   ],
   "source": [
    "genre_inst = genre_inst[((genre_inst.genre != 'other'))]\n",
    "\n",
    "sns.set_theme(context='notebook', style='whitegrid', palette='deep')\n",
    "sns.catplot(data=genre_inst, col='train_set', y='instrument', x='examples', hue='genre', kind='bar', height=9, aspect=.6);\n",
    "plt.savefig('genre_information.png')"
   ]
  }
 ],
 "metadata": {
  "kernelspec": {
   "display_name": "Python 3 (ipykernel)",
   "language": "python",
   "name": "python3"
  },
  "language_info": {
   "codemirror_mode": {
    "name": "ipython",
    "version": 3
   },
   "file_extension": ".py",
   "mimetype": "text/x-python",
   "name": "python",
   "nbconvert_exporter": "python",
   "pygments_lexer": "ipython3",
   "version": "3.9.7"
  },
  "toc": {
   "base_numbering": 1,
   "nav_menu": {},
   "number_sections": true,
   "sideBar": false,
   "skip_h1_title": false,
   "title_cell": "Table of Contents",
   "title_sidebar": "Contents",
   "toc_cell": false,
   "toc_position": {
    "height": "621.778px",
    "left": "22px",
    "top": "111.139px",
    "width": "165px"
   },
   "toc_section_display": true,
   "toc_window_display": true
  }
 },
 "nbformat": 4,
 "nbformat_minor": 2
}
