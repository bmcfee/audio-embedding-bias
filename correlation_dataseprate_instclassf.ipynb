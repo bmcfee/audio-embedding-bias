{
 "cells": [
  {
   "cell_type": "code",
   "execution_count": 1,
   "metadata": {},
   "outputs": [],
   "source": [
    "%matplotlib inline\n",
    "import matplotlib.pyplot as plt\n",
    "import seaborn as sns\n",
    "import numpy as np\n",
    "from tqdm import tqdm_notebook as tqdm\n",
    "import json\n",
    "import pandas as pd\n",
    "import os\n",
    "import h5py\n",
    "import pickle\n",
    "import warnings\n",
    "warnings.filterwarnings('ignore')\n",
    "\n",
    "from sklearn.discriminant_analysis import LinearDiscriminantAnalysis\n",
    "from sklearn.metrics.pairwise import cosine_similarity"
   ]
  },
  {
   "cell_type": "code",
   "execution_count": 2,
   "metadata": {},
   "outputs": [],
   "source": [
    "with open('class-map-10.json', 'r') as f: # only consider 10 classes of Openmic dataset\n",
    "    class_map = json.load(f)\n",
    "    \n",
    "# use a dict to align the classes between Openmic dataset (key) and Irmas dataset (val)\n",
    "class_align = {'cello': 'cel',\n",
    "               'clarinet': 'cla',\n",
    "               'flute': 'flu',\n",
    "               'guitar': ['gac', 'gel'],\n",
    "               'organ': 'org',\n",
    "               'piano': 'pia',\n",
    "               'saxophone': 'sax',\n",
    "               'trumpet': 'tru',\n",
    "               'violin': 'vio',\n",
    "               'voice': 'voi'}"
   ]
  },
  {
   "cell_type": "code",
   "execution_count": 3,
   "metadata": {},
   "outputs": [
    {
     "name": "stdout",
     "output_type": "stream",
     "text": [
      "irmas\n",
      "irmas/openl3\n",
      "irmas/openl3/features\n",
      "irmas/openl3/keys\n",
      "irmas/vggish\n",
      "irmas/vggish/features\n",
      "irmas/vggish/keys\n",
      "irmas/yamnet\n",
      "irmas/yamnet/features\n",
      "irmas/yamnet/keys\n",
      "openmic\n",
      "openmic/openl3\n",
      "openmic/openl3/features\n",
      "openmic/openl3/keys\n",
      "openmic/vggish\n",
      "openmic/vggish/features\n",
      "openmic/vggish/keys\n",
      "openmic/yamnet\n",
      "openmic/yamnet/features\n",
      "openmic/yamnet/keys\n"
     ]
    }
   ],
   "source": [
    "# load embeddings\n",
    "embeddings = h5py.File('../embedding-bias/embeddings.h5', 'r')\n",
    "\n",
    "def printname(name):\n",
    "    print(name)\n",
    "embeddings.visit(printname)"
   ]
  },
  {
   "cell_type": "markdown",
   "metadata": {},
   "source": [
    "# OpenL3"
   ]
  },
  {
   "cell_type": "code",
   "execution_count": 4,
   "metadata": {},
   "outputs": [],
   "source": [
    "embedding_name = 'openl3'"
   ]
  },
  {
   "cell_type": "markdown",
   "metadata": {},
   "source": [
    "## load embedding"
   ]
  },
  {
   "cell_type": "code",
   "execution_count": 5,
   "metadata": {},
   "outputs": [
    {
     "name": "stdout",
     "output_type": "stream",
     "text": [
      "(167625, 512) (167625,)\n",
      "(6705,)\n"
     ]
    },
    {
     "data": {
      "application/vnd.jupyter.widget-view+json": {
       "model_id": "aefeb6bcb4a0423b831480b4cd813219",
       "version_major": 2,
       "version_minor": 0
      },
      "text/plain": [
       "  0%|          | 0/6705 [00:00<?, ?it/s]"
      ]
     },
     "metadata": {},
     "output_type": "display_data"
    },
    {
     "name": "stdout",
     "output_type": "stream",
     "text": [
      "(6705, 512) (6705,)\n"
     ]
    }
   ],
   "source": [
    "#########################\n",
    "# irmas: openl3 embedding\n",
    "feature = np.array(embeddings['irmas'][embedding_name]['features'])\n",
    "keys_ori = np.array(embeddings['irmas'][embedding_name]['keys'])\n",
    "print(feature.shape, keys_ori.shape)\n",
    "\n",
    "key_clip = np.unique(keys_ori)\n",
    "print(key_clip.shape)\n",
    "\n",
    "feature_clip = []\n",
    "\n",
    "for key in tqdm(key_clip):\n",
    "    feature_clip.append(np.mean(feature[keys_ori[:]==key,:],axis=0))\n",
    "    \n",
    "feature_clip = np.array(feature_clip)\n",
    "key_clip = np.array([str(k, 'utf-8') for k in key_clip])\n",
    "print(feature_clip.shape, key_clip.shape)"
   ]
  },
  {
   "cell_type": "code",
   "execution_count": 6,
   "metadata": {},
   "outputs": [],
   "source": [
    "key_train = list(pd.read_csv('irmas_train.csv', header=None, squeeze=True))\n",
    "key_test = list(pd.read_csv('irmas_test.csv', header=None, squeeze=True))\n",
    "\n",
    "# key_train = np.array([k[2:-1] for k in key_train])\n",
    "# key_test = np.array([k[2:-1]  for k in key_test])"
   ]
  },
  {
   "cell_type": "code",
   "execution_count": 7,
   "metadata": {},
   "outputs": [],
   "source": [
    "# These loops go through all sample keys, and save their row numbers to either idx_train or idx_test\n",
    "idx_train, idx_test = [], []\n",
    "\n",
    "for k in range(len(key_clip)):\n",
    "    if str(key_clip[k]) in key_train:\n",
    "        idx_train.append(k)\n",
    "    elif str(key_clip[k]) in key_test:\n",
    "        idx_test.append(k)\n",
    "    else:\n",
    "        # This should never happen, but better safe than sorry.\n",
    "        raise RuntimeError('Unknown sample key={}! Abort!'.format(key_clip[k]))\n",
    "        \n",
    "# cast the idx_* arrays to numpy structures\n",
    "idx_train = np.asarray(idx_train)\n",
    "idx_test = np.asarray(idx_test)"
   ]
  },
  {
   "cell_type": "code",
   "execution_count": 8,
   "metadata": {},
   "outputs": [
    {
     "data": {
      "text/plain": [
       "array(['cello', 'clarinet', 'flute', 'guitar', 'organ', 'piano',\n",
       "       'saxophone', 'trumpet', 'violin', 'voice'], dtype='<U9')"
      ]
     },
     "execution_count": 8,
     "metadata": {},
     "output_type": "execute_result"
    }
   ],
   "source": [
    "keys = [key[key.index('[')+1:key.index(']')] for key in key_clip]\n",
    "\n",
    "for key in class_align:\n",
    "    keys = [key if x in class_align[key] else x for x in keys]\n",
    "    \n",
    "keys = np.array(keys)\n",
    "np.unique(keys)"
   ]
  },
  {
   "cell_type": "code",
   "execution_count": 9,
   "metadata": {},
   "outputs": [
    {
     "name": "stdout",
     "output_type": "stream",
     "text": [
      "(5039, 512) (5039,)\n"
     ]
    }
   ],
   "source": [
    "X_train = feature_clip[idx_train,:]\n",
    "Y_ir = np.zeros(len(X_train))\n",
    "\n",
    "print(X_train.shape, Y_ir.shape)"
   ]
  },
  {
   "cell_type": "code",
   "execution_count": 10,
   "metadata": {},
   "outputs": [
    {
     "name": "stdout",
     "output_type": "stream",
     "text": [
      "(1900000, 512) (1900000,)\n"
     ]
    },
    {
     "data": {
      "application/vnd.jupyter.widget-view+json": {
       "model_id": "944512358d944e8eaf13a9029e2f40de",
       "version_major": 2,
       "version_minor": 0
      },
      "text/plain": [
       "  0%|          | 0/20000 [00:00<?, ?it/s]"
      ]
     },
     "metadata": {},
     "output_type": "display_data"
    },
    {
     "name": "stdout",
     "output_type": "stream",
     "text": [
      "(20000, 512) (20000,)\n"
     ]
    },
    {
     "data": {
      "text/plain": [
       "array([b'000046_3840', b'000135_483840', b'000139_119040', ...,\n",
       "       b'155307_211200', b'155310_372480', b'155311_453120'], dtype=object)"
      ]
     },
     "execution_count": 10,
     "metadata": {},
     "output_type": "execute_result"
    }
   ],
   "source": [
    "#########################\n",
    "# openmic: openl3 embedding\n",
    "feature = np.array(embeddings['openmic'][embedding_name]['features'])\n",
    "keys = np.array(embeddings['openmic'][embedding_name]['keys'])\n",
    "print(feature.shape, keys.shape)\n",
    "\n",
    "key_clip = np.unique(keys)\n",
    "\n",
    "X = []\n",
    "\n",
    "for key in tqdm(key_clip):\n",
    "    X.append(np.mean(feature[keys[:]==key,:],axis=0))\n",
    "    \n",
    "X = np.array(X)\n",
    "print(X.shape, key_clip.shape)\n",
    "\n",
    "key_clip = np.array([str(k, 'utf-8') for k in key_clip])"
   ]
  },
  {
   "cell_type": "code",
   "execution_count": 13,
   "metadata": {},
   "outputs": [],
   "source": [
    "key_clip = np.array([str(k, 'utf-8') for k in key_clip])"
   ]
  },
  {
   "cell_type": "code",
   "execution_count": 14,
   "metadata": {},
   "outputs": [
    {
     "name": "stdout",
     "output_type": "stream",
     "text": [
      "# Train: 14915,  # Test: 5085\n"
     ]
    }
   ],
   "source": [
    "# train-test split\n",
    "split_train = pd.read_csv('openmic2018_train.csv', header=None, squeeze=True)\n",
    "split_test = pd.read_csv('openmic2018_test.csv', header=None, squeeze=True)\n",
    "\n",
    "print('# Train: {},  # Test: {}'.format(len(split_train), len(split_test)))\n",
    "\n",
    "train_set = set(split_train)\n",
    "test_set = set(split_test)"
   ]
  },
  {
   "cell_type": "code",
   "execution_count": 15,
   "metadata": {},
   "outputs": [],
   "source": [
    "idx_train, idx_test = [], []\n",
    "\n",
    "for idx, n in enumerate(key_clip):\n",
    "    if n in train_set:\n",
    "        idx_train.append(idx)\n",
    "    elif n in test_set:\n",
    "        idx_test.append(idx)\n",
    "    else:\n",
    "        raise RuntimeError('Unknown sample key={}! Abort!'.format(key_clip[n]))\n",
    "        \n",
    "idx_train = np.asarray(idx_train)\n",
    "idx_test = np.asarray(idx_test)"
   ]
  },
  {
   "cell_type": "code",
   "execution_count": 16,
   "metadata": {},
   "outputs": [],
   "source": [
    "X_train = np.vstack((X_train, X[idx_train]))\n",
    "\n",
    "Y_om = np.ones(len(X[idx_train]))\n",
    "Y = np.hstack((Y_ir, Y_om))"
   ]
  },
  {
   "cell_type": "markdown",
   "metadata": {},
   "source": [
    "## LDA"
   ]
  },
  {
   "cell_type": "code",
   "execution_count": 17,
   "metadata": {},
   "outputs": [],
   "source": [
    "LDA = LinearDiscriminantAnalysis(solver='eigen', shrinkage='auto')\n",
    "LDA.fit(X_train, Y)\n",
    "\n",
    "v = LDA.coef_.copy()\n",
    "v /= np.sqrt(np.sum(v**2))\n",
    "A = np.outer(v, v)\n",
    "\n",
    "Xdeb = X_train.dot(np.eye(len(A)) - A)\n",
    "Xsproj = LDA.transform(X_train)\n",
    "Xdproj = LDA.transform(Xdeb)"
   ]
  },
  {
   "cell_type": "code",
   "execution_count": 18,
   "metadata": {},
   "outputs": [],
   "source": [
    "with open('LDA_' + embedding_name + '_coef.pickle', 'wb') as fdesc:\n",
    "    pickle.dump(LDA.coef_, fdesc)"
   ]
  },
  {
   "cell_type": "code",
   "execution_count": 19,
   "metadata": {},
   "outputs": [],
   "source": [
    "colors = ['#0271AE', '#DC2830']\n",
    "dataset_name = ['IRMAS', 'OpenMIC']"
   ]
  },
  {
   "cell_type": "code",
   "execution_count": 20,
   "metadata": {},
   "outputs": [
    {
     "data": {
      "text/plain": [
       "<matplotlib.legend.Legend at 0x7f0e37e59cd0>"
      ]
     },
     "execution_count": 20,
     "metadata": {},
     "output_type": "execute_result"
    },
    {
     "data": {
      "image/png": "[encoded data removed]",
      "text/plain": [
       "<Figure size 432x288 with 1 Axes>"
      ]
     },
     "metadata": {
      "needs_background": "light"
     },
     "output_type": "display_data"
    }
   ],
   "source": [
    "FEATURES = 'OpenL3'\n",
    "plt.title(f'{FEATURES} - raw')\n",
    "plt.hist(Xsproj[Y==0], color=colors[0], alpha=0.5, label=dataset_name[0], bins=30)\n",
    "plt.hist(Xsproj[Y==1], color=colors[1], alpha=0.5, label=dataset_name[1], bins=30)\n",
    "plt.axvline(Xsproj[Y==0].mean(), color=colors[0], linestyle='--', label='{} mean'.format(dataset_name[0]))\n",
    "plt.axvline(Xsproj[Y==1].mean(), color=colors[1], linestyle=':', label='{} mean'.format(dataset_name[1]))\n",
    "plt.legend(ncol=2)"
   ]
  },
  {
   "cell_type": "code",
   "execution_count": 21,
   "metadata": {},
   "outputs": [
    {
     "data": {
      "text/plain": [
       "<matplotlib.legend.Legend at 0x7f0e2bb38eb0>"
      ]
     },
     "execution_count": 21,
     "metadata": {},
     "output_type": "execute_result"
    },
    {
     "data": {
      "image/png": "[encoded data removed]",
      "text/plain": [
       "<Figure size 432x288 with 1 Axes>"
      ]
     },
     "metadata": {
      "needs_background": "light"
     },
     "output_type": "display_data"
    }
   ],
   "source": [
    "plt.title(f'{FEATURES} - debiased')\n",
    "plt.hist(Xdproj[Y==0], color=colors[0], alpha=0.5, label=dataset_name[0], bins=30)\n",
    "plt.hist(Xdproj[Y==1], color=colors[1], alpha=0.5, label=dataset_name[1], bins=30)\n",
    "plt.axvline(Xdproj[Y==0].mean(), color=colors[0], linestyle='--', label='{} mean'.format(dataset_name[0]))\n",
    "plt.axvline(Xdproj[Y==1].mean(), color=colors[1], linestyle=':', label='{} mean'.format(dataset_name[1]))\n",
    "plt.legend(ncol=2)"
   ]
  },
  {
   "cell_type": "markdown",
   "metadata": {},
   "source": [
    "## cosine similarity"
   ]
  },
  {
   "cell_type": "code",
   "execution_count": 22,
   "metadata": {},
   "outputs": [
    {
     "name": "stdout",
     "output_type": "stream",
     "text": [
      "Showing the pickled data:\n",
      "Model  0  is :  cello\n",
      "Model  1  is :  clarinet\n",
      "Model  2  is :  flute\n",
      "Model  3  is :  guitar\n",
      "Model  4  is :  organ\n",
      "Model  5  is :  piano\n",
      "Model  6  is :  saxophone\n",
      "Model  7  is :  trumpet\n",
      "Model  8  is :  violin\n",
      "Model  9  is :  voice\n",
      "Cosine similarity between dataset-separation and instrument classification using OpenL3:\n",
      "Trained on irmas: [0.03, -0.04, -0.02, 0.02, -0.0, -0.03, 0.03, -0.01, 0.02, 0.0]\n",
      "Trained on openmic: [0.0, -0.05, -0.05, -0.03, 0.0, 0.0, -0.05, -0.03, 0.03, 0.01]\n"
     ]
    }
   ],
   "source": [
    "# load the trained instrument classification model\n",
    "file = open('models_irmas_openl3.pickle', 'rb')\n",
    "inst_models_irmas = pickle.load(file)\n",
    "file.close()\n",
    "\n",
    "file = open('models_openmic_openl3.pickle', 'rb')\n",
    "inst_models_openmic = pickle.load(file)\n",
    "file.close()\n",
    "\n",
    "print('Showing the pickled data:')\n",
    "cnt = 0\n",
    "for item in inst_models_irmas:\n",
    "    print('Model ', cnt, ' is : ', item)\n",
    "    cnt += 1\n",
    "\n",
    "# compute cosine similarity between the dataset-separation LDA coef and the instrument Logistic Regression Classifier coef\n",
    "cosine_sim_openl3_irmas = []\n",
    "cosine_sim_openl3_openmic = []\n",
    "for key in class_align:\n",
    "    cosine_sim_openl3_irmas.append(cosine_similarity(inst_models_irmas[key].best_estimator_.coef_, LDA.coef_)[0][0])\n",
    "    cosine_sim_openl3_openmic.append(cosine_similarity(inst_models_openmic[key].best_estimator_.coef_, LDA.coef_)[0][0])\n",
    "\n",
    "print('Cosine similarity between dataset-separation and instrument classification using OpenL3:')\n",
    "print('Trained on irmas: {}'.format(list(np.array(cosine_sim_openl3_irmas).round(2))))\n",
    "print('Trained on openmic: {}'.format(list(np.array(cosine_sim_openl3_openmic).round(2))))"
   ]
  },
  {
   "cell_type": "markdown",
   "metadata": {},
   "source": [
    "# VGGish"
   ]
  },
  {
   "cell_type": "code",
   "execution_count": 23,
   "metadata": {},
   "outputs": [],
   "source": [
    "embedding_name = 'vggish'"
   ]
  },
  {
   "cell_type": "markdown",
   "metadata": {},
   "source": [
    "## Load embedding"
   ]
  },
  {
   "cell_type": "code",
   "execution_count": 24,
   "metadata": {},
   "outputs": [
    {
     "name": "stdout",
     "output_type": "stream",
     "text": [
      "(13410, 128) (13410,)\n",
      "(6705,)\n"
     ]
    },
    {
     "data": {
      "application/vnd.jupyter.widget-view+json": {
       "model_id": "c21afb4d704d4ebd9faf299b3609ed09",
       "version_major": 2,
       "version_minor": 0
      },
      "text/plain": [
       "  0%|          | 0/6705 [00:00<?, ?it/s]"
      ]
     },
     "metadata": {},
     "output_type": "display_data"
    },
    {
     "name": "stdout",
     "output_type": "stream",
     "text": [
      "(6705, 128) (6705,)\n"
     ]
    }
   ],
   "source": [
    "#########################\n",
    "# irmas: vggish embedding\n",
    "feature = np.array(embeddings['irmas'][embedding_name]['features'])\n",
    "keys_ori = np.array(embeddings['irmas'][embedding_name]['keys'])\n",
    "print(feature.shape, keys_ori.shape)\n",
    "\n",
    "key_clip = np.unique(keys_ori)\n",
    "print(key_clip.shape)\n",
    "\n",
    "feature_clip = []\n",
    "\n",
    "for key in tqdm(key_clip):\n",
    "    feature_clip.append(np.mean(feature[keys_ori[:]==key,:],axis=0))\n",
    "    \n",
    "feature_clip = np.array(feature_clip)\n",
    "key_clip = np.array([str(k, 'utf-8') for k in key_clip])\n",
    "print(feature_clip.shape, key_clip.shape)"
   ]
  },
  {
   "cell_type": "code",
   "execution_count": 25,
   "metadata": {},
   "outputs": [],
   "source": [
    "key_train = list(pd.read_csv('irmas_train.csv', header=None, squeeze=True))\n",
    "key_test = list(pd.read_csv('irmas_test.csv', header=None, squeeze=True))\n",
    "\n",
    "# key_train = np.array([k[2:-1] for k in key_train])\n",
    "# key_test = np.array([k[2:-1]  for k in key_test])"
   ]
  },
  {
   "cell_type": "code",
   "execution_count": 26,
   "metadata": {},
   "outputs": [],
   "source": [
    "# These loops go through all sample keys, and save their row numbers to either idx_train or idx_test\n",
    "idx_train, idx_test = [], []\n",
    "\n",
    "for k in range(len(key_clip)):\n",
    "    if str(key_clip[k]) in key_train:\n",
    "        idx_train.append(k)\n",
    "    elif str(key_clip[k]) in key_test:\n",
    "        idx_test.append(k)\n",
    "    else:\n",
    "        # This should never happen, but better safe than sorry.\n",
    "        raise RuntimeError('Unknown sample key={}! Abort!'.format(key_clip[k]))\n",
    "        \n",
    "# cast the idx_* arrays to numpy structures\n",
    "idx_train = np.asarray(idx_train)\n",
    "idx_test = np.asarray(idx_test)"
   ]
  },
  {
   "cell_type": "code",
   "execution_count": 27,
   "metadata": {},
   "outputs": [
    {
     "data": {
      "text/plain": [
       "array(['cello', 'clarinet', 'flute', 'guitar', 'organ', 'piano',\n",
       "       'saxophone', 'trumpet', 'violin', 'voice'], dtype='<U9')"
      ]
     },
     "execution_count": 27,
     "metadata": {},
     "output_type": "execute_result"
    }
   ],
   "source": [
    "keys = [key[key.index('[')+1:key.index(']')] for key in key_clip]\n",
    "\n",
    "for key in class_align:\n",
    "    keys = [key if x in class_align[key] else x for x in keys]\n",
    "    \n",
    "keys = np.array(keys)\n",
    "np.unique(keys)"
   ]
  },
  {
   "cell_type": "code",
   "execution_count": 28,
   "metadata": {},
   "outputs": [
    {
     "name": "stdout",
     "output_type": "stream",
     "text": [
      "(5039, 128) (5039,)\n"
     ]
    }
   ],
   "source": [
    "# use the split indices to partition the features, labels, and masks\n",
    "X_train = feature_clip[idx_train,:]\n",
    "Y_ir = np.zeros(len(X_train))\n",
    "\n",
    "print(X_train.shape, Y_ir.shape)"
   ]
  },
  {
   "cell_type": "code",
   "execution_count": 29,
   "metadata": {},
   "outputs": [
    {
     "name": "stdout",
     "output_type": "stream",
     "text": [
      "(180000, 128) (180000,)\n"
     ]
    },
    {
     "data": {
      "application/vnd.jupyter.widget-view+json": {
       "model_id": "24bad5966b3a4c2d97212dd4b30406ec",
       "version_major": 2,
       "version_minor": 0
      },
      "text/plain": [
       "  0%|          | 0/20000 [00:00<?, ?it/s]"
      ]
     },
     "metadata": {},
     "output_type": "display_data"
    },
    {
     "name": "stdout",
     "output_type": "stream",
     "text": [
      "(20000, 128) (20000,)\n"
     ]
    }
   ],
   "source": [
    "#########################\n",
    "# openmic: vggish embedding\n",
    "feature = np.array(embeddings['openmic'][embedding_name]['features'])\n",
    "keys = np.array(embeddings['openmic'][embedding_name]['keys'])\n",
    "print(feature.shape, keys.shape)\n",
    "\n",
    "key_clip = np.unique(keys)\n",
    "\n",
    "X = []\n",
    "\n",
    "for key in tqdm(key_clip):\n",
    "    X.append(np.mean(feature[keys[:]==key,:],axis=0))\n",
    "    \n",
    "X = np.array(X)\n",
    "print(X.shape, key_clip.shape)\n",
    "\n",
    "key_clip = np.array([str(k, 'utf-8') for k in key_clip])"
   ]
  },
  {
   "cell_type": "code",
   "execution_count": 30,
   "metadata": {},
   "outputs": [
    {
     "name": "stdout",
     "output_type": "stream",
     "text": [
      "# Train: 14915,  # Test: 5085\n"
     ]
    }
   ],
   "source": [
    "# train-test split\n",
    "split_train = pd.read_csv('openmic2018_train.csv', header=None, squeeze=True)\n",
    "split_test = pd.read_csv('openmic2018_test.csv', header=None, squeeze=True)\n",
    "\n",
    "print('# Train: {},  # Test: {}'.format(len(split_train), len(split_test)))\n",
    "\n",
    "train_set = set(split_train)\n",
    "test_set = set(split_test)"
   ]
  },
  {
   "cell_type": "code",
   "execution_count": 31,
   "metadata": {},
   "outputs": [],
   "source": [
    "idx_train, idx_test = [], []\n",
    "\n",
    "for idx, n in enumerate(key_clip):\n",
    "    if n in train_set:\n",
    "        idx_train.append(idx)\n",
    "    elif n in test_set:\n",
    "        idx_test.append(idx)\n",
    "    else:\n",
    "        raise RuntimeError('Unknown sample key={}! Abort!'.format(key_clip[n]))\n",
    "        \n",
    "idx_train = np.asarray(idx_train)\n",
    "idx_test = np.asarray(idx_test)"
   ]
  },
  {
   "cell_type": "code",
   "execution_count": 32,
   "metadata": {},
   "outputs": [],
   "source": [
    "X_train = np.vstack((X_train, X[idx_train]))\n",
    "\n",
    "Y_om = np.ones(len(X[idx_train]))\n",
    "Y = np.hstack((Y_ir, Y_om))"
   ]
  },
  {
   "cell_type": "markdown",
   "metadata": {},
   "source": [
    "## LDA"
   ]
  },
  {
   "cell_type": "code",
   "execution_count": 33,
   "metadata": {},
   "outputs": [],
   "source": [
    "LDA = LinearDiscriminantAnalysis(solver='eigen', shrinkage='auto')\n",
    "LDA.fit(X_train, Y)\n",
    "\n",
    "v = LDA.coef_.copy()\n",
    "v /= np.sqrt(np.sum(v**2))\n",
    "A = np.outer(v, v)\n",
    "\n",
    "Xdeb = X_train.dot(np.eye(len(A)) - A)\n",
    "Xsproj = LDA.transform(X_train)\n",
    "Xdproj = LDA.transform(Xdeb)"
   ]
  },
  {
   "cell_type": "code",
   "execution_count": 34,
   "metadata": {},
   "outputs": [],
   "source": [
    "with open('LDA_' + embedding_name + '_coef.pickle', 'wb') as fdesc:\n",
    "    pickle.dump(LDA.coef_, fdesc)"
   ]
  },
  {
   "cell_type": "code",
   "execution_count": 35,
   "metadata": {},
   "outputs": [
    {
     "data": {
      "text/plain": [
       "<matplotlib.legend.Legend at 0x7f0e3139ba60>"
      ]
     },
     "execution_count": 35,
     "metadata": {},
     "output_type": "execute_result"
    },
    {
     "data": {
      "image/png": "[encoded data removed]",
      "text/plain": [
       "<Figure size 432x288 with 1 Axes>"
      ]
     },
     "metadata": {
      "needs_background": "light"
     },
     "output_type": "display_data"
    }
   ],
   "source": [
    "FEATURES = 'VGGish'\n",
    "plt.title(f'{FEATURES} - raw')\n",
    "plt.hist(Xsproj[Y==0], color=colors[0], alpha=0.5, label=dataset_name[0], bins=30)\n",
    "plt.hist(Xsproj[Y==1], color=colors[1], alpha=0.5, label=dataset_name[1], bins=30)\n",
    "plt.axvline(Xsproj[Y==0].mean(), color=colors[0], linestyle='--', label='{} mean'.format(dataset_name[0]))\n",
    "plt.axvline(Xsproj[Y==1].mean(), color=colors[1], linestyle=':', label='{} mean'.format(dataset_name[1]))\n",
    "plt.legend(ncol=2)"
   ]
  },
  {
   "cell_type": "code",
   "execution_count": 36,
   "metadata": {},
   "outputs": [
    {
     "data": {
      "text/plain": [
       "<matplotlib.legend.Legend at 0x7f0e31402ca0>"
      ]
     },
     "execution_count": 36,
     "metadata": {},
     "output_type": "execute_result"
    },
    {
     "data": {
      "image/png": "[encoded data removed]",
      "text/plain": [
       "<Figure size 432x288 with 1 Axes>"
      ]
     },
     "metadata": {
      "needs_background": "light"
     },
     "output_type": "display_data"
    }
   ],
   "source": [
    "plt.title(f'{FEATURES} - debiased')\n",
    "plt.hist(Xdproj[Y==0], color=colors[0], alpha=0.5, label=dataset_name[0], bins=30)\n",
    "plt.hist(Xdproj[Y==1], color=colors[1], alpha=0.5, label=dataset_name[1], bins=30)\n",
    "plt.axvline(Xdproj[Y==0].mean(), color=colors[0], linestyle='--', label='{} mean'.format(dataset_name[0]))\n",
    "plt.axvline(Xdproj[Y==1].mean(), color=colors[1], linestyle=':', label='{} mean'.format(dataset_name[1]))\n",
    "plt.legend(ncol=2)"
   ]
  },
  {
   "cell_type": "markdown",
   "metadata": {},
   "source": [
    "## cosine similarity"
   ]
  },
  {
   "cell_type": "code",
   "execution_count": 37,
   "metadata": {},
   "outputs": [
    {
     "name": "stdout",
     "output_type": "stream",
     "text": [
      "Showing the pickled data:\n",
      "Model  0  is :  cello\n",
      "Model  1  is :  clarinet\n",
      "Model  2  is :  flute\n",
      "Model  3  is :  guitar\n",
      "Model  4  is :  organ\n",
      "Model  5  is :  piano\n",
      "Model  6  is :  saxophone\n",
      "Model  7  is :  trumpet\n",
      "Model  8  is :  violin\n",
      "Model  9  is :  voice\n",
      "Cosine similarity between dataset-separation and instrument classification using VGGish:\n",
      "Trained on irmas: [0.35, 0.05, -0.13, 0.03, 0.19, 0.11, 0.24, 0.55, 0.09, 0.13]\n",
      "Trained on openmic: [-0.11, 0.18, 0.24, -0.08, 0.13, -0.09, 0.08, -0.01, 0.16, 0.07]\n"
     ]
    }
   ],
   "source": [
    "# load the trained instrument classification model\n",
    "file = open('models_irmas_vggish.pickle', 'rb')\n",
    "inst_models_irmas = pickle.load(file)\n",
    "file.close()\n",
    "\n",
    "file = open('models_openmic_vggish.pickle', 'rb')\n",
    "inst_models_openmic = pickle.load(file)\n",
    "file.close()\n",
    "\n",
    "print('Showing the pickled data:')\n",
    "cnt = 0\n",
    "for item in inst_models_irmas:\n",
    "    print('Model ', cnt, ' is : ', item)\n",
    "    cnt += 1\n",
    "\n",
    "# compute cosine similarity between the dataset-separation LDA coef and the instrument Logistic Regression Classifier coef\n",
    "cosine_sim_vggish_irmas = []\n",
    "cosine_sim_vggish_openmic = []\n",
    "for key in class_align:\n",
    "    cosine_sim_vggish_irmas.append(cosine_similarity(inst_models_irmas[key].best_estimator_.coef_, LDA.coef_)[0][0])\n",
    "    cosine_sim_vggish_openmic.append(cosine_similarity(inst_models_openmic[key].best_estimator_.coef_, LDA.coef_)[0][0])\n",
    "\n",
    "print('Cosine similarity between dataset-separation and instrument classification using VGGish:')\n",
    "print('Trained on irmas: {}'.format(list(np.array(cosine_sim_vggish_irmas).round(2))))\n",
    "print('Trained on openmic: {}'.format(list(np.array(cosine_sim_vggish_openmic).round(2))))"
   ]
  },
  {
   "cell_type": "code",
   "execution_count": 38,
   "metadata": {},
   "outputs": [
    {
     "data": {
      "text/html": [
       "<div>\n",
       "<style scoped>\n",
       "    .dataframe tbody tr th:only-of-type {\n",
       "        vertical-align: middle;\n",
       "    }\n",
       "\n",
       "    .dataframe tbody tr th {\n",
       "        vertical-align: top;\n",
       "    }\n",
       "\n",
       "    .dataframe thead th {\n",
       "        text-align: right;\n",
       "    }\n",
       "</style>\n",
       "<table border=\"1\" class=\"dataframe\">\n",
       "  <thead>\n",
       "    <tr style=\"text-align: right;\">\n",
       "      <th></th>\n",
       "      <th>instrument</th>\n",
       "      <th>embedding</th>\n",
       "      <th>train_set</th>\n",
       "      <th>cosine_similarity</th>\n",
       "    </tr>\n",
       "  </thead>\n",
       "  <tbody>\n",
       "    <tr>\n",
       "      <th>0</th>\n",
       "      <td>cello</td>\n",
       "      <td>openl3</td>\n",
       "      <td>irmas</td>\n",
       "      <td>0.027765</td>\n",
       "    </tr>\n",
       "    <tr>\n",
       "      <th>1</th>\n",
       "      <td>clarinet</td>\n",
       "      <td>openl3</td>\n",
       "      <td>irmas</td>\n",
       "      <td>-0.038729</td>\n",
       "    </tr>\n",
       "    <tr>\n",
       "      <th>2</th>\n",
       "      <td>flute</td>\n",
       "      <td>openl3</td>\n",
       "      <td>irmas</td>\n",
       "      <td>-0.022631</td>\n",
       "    </tr>\n",
       "    <tr>\n",
       "      <th>3</th>\n",
       "      <td>guitar</td>\n",
       "      <td>openl3</td>\n",
       "      <td>irmas</td>\n",
       "      <td>0.021069</td>\n",
       "    </tr>\n",
       "    <tr>\n",
       "      <th>4</th>\n",
       "      <td>organ</td>\n",
       "      <td>openl3</td>\n",
       "      <td>irmas</td>\n",
       "      <td>-0.000063</td>\n",
       "    </tr>\n",
       "    <tr>\n",
       "      <th>5</th>\n",
       "      <td>piano</td>\n",
       "      <td>openl3</td>\n",
       "      <td>irmas</td>\n",
       "      <td>-0.033103</td>\n",
       "    </tr>\n",
       "    <tr>\n",
       "      <th>6</th>\n",
       "      <td>saxophone</td>\n",
       "      <td>openl3</td>\n",
       "      <td>irmas</td>\n",
       "      <td>0.026126</td>\n",
       "    </tr>\n",
       "    <tr>\n",
       "      <th>7</th>\n",
       "      <td>trumpet</td>\n",
       "      <td>openl3</td>\n",
       "      <td>irmas</td>\n",
       "      <td>-0.006180</td>\n",
       "    </tr>\n",
       "    <tr>\n",
       "      <th>8</th>\n",
       "      <td>violin</td>\n",
       "      <td>openl3</td>\n",
       "      <td>irmas</td>\n",
       "      <td>0.019590</td>\n",
       "    </tr>\n",
       "    <tr>\n",
       "      <th>9</th>\n",
       "      <td>voice</td>\n",
       "      <td>openl3</td>\n",
       "      <td>irmas</td>\n",
       "      <td>0.002898</td>\n",
       "    </tr>\n",
       "    <tr>\n",
       "      <th>10</th>\n",
       "      <td>cello</td>\n",
       "      <td>openl3</td>\n",
       "      <td>openmic</td>\n",
       "      <td>0.001346</td>\n",
       "    </tr>\n",
       "    <tr>\n",
       "      <th>11</th>\n",
       "      <td>clarinet</td>\n",
       "      <td>openl3</td>\n",
       "      <td>openmic</td>\n",
       "      <td>-0.054904</td>\n",
       "    </tr>\n",
       "    <tr>\n",
       "      <th>12</th>\n",
       "      <td>flute</td>\n",
       "      <td>openl3</td>\n",
       "      <td>openmic</td>\n",
       "      <td>-0.054391</td>\n",
       "    </tr>\n",
       "    <tr>\n",
       "      <th>13</th>\n",
       "      <td>guitar</td>\n",
       "      <td>openl3</td>\n",
       "      <td>openmic</td>\n",
       "      <td>-0.025782</td>\n",
       "    </tr>\n",
       "    <tr>\n",
       "      <th>14</th>\n",
       "      <td>organ</td>\n",
       "      <td>openl3</td>\n",
       "      <td>openmic</td>\n",
       "      <td>0.004000</td>\n",
       "    </tr>\n",
       "    <tr>\n",
       "      <th>15</th>\n",
       "      <td>piano</td>\n",
       "      <td>openl3</td>\n",
       "      <td>openmic</td>\n",
       "      <td>0.001539</td>\n",
       "    </tr>\n",
       "    <tr>\n",
       "      <th>16</th>\n",
       "      <td>saxophone</td>\n",
       "      <td>openl3</td>\n",
       "      <td>openmic</td>\n",
       "      <td>-0.053895</td>\n",
       "    </tr>\n",
       "    <tr>\n",
       "      <th>17</th>\n",
       "      <td>trumpet</td>\n",
       "      <td>openl3</td>\n",
       "      <td>openmic</td>\n",
       "      <td>-0.029238</td>\n",
       "    </tr>\n",
       "    <tr>\n",
       "      <th>18</th>\n",
       "      <td>violin</td>\n",
       "      <td>openl3</td>\n",
       "      <td>openmic</td>\n",
       "      <td>0.029545</td>\n",
       "    </tr>\n",
       "    <tr>\n",
       "      <th>19</th>\n",
       "      <td>voice</td>\n",
       "      <td>openl3</td>\n",
       "      <td>openmic</td>\n",
       "      <td>0.013093</td>\n",
       "    </tr>\n",
       "    <tr>\n",
       "      <th>20</th>\n",
       "      <td>cello</td>\n",
       "      <td>vggish</td>\n",
       "      <td>irmas</td>\n",
       "      <td>0.350636</td>\n",
       "    </tr>\n",
       "    <tr>\n",
       "      <th>21</th>\n",
       "      <td>clarinet</td>\n",
       "      <td>vggish</td>\n",
       "      <td>irmas</td>\n",
       "      <td>0.047342</td>\n",
       "    </tr>\n",
       "    <tr>\n",
       "      <th>22</th>\n",
       "      <td>flute</td>\n",
       "      <td>vggish</td>\n",
       "      <td>irmas</td>\n",
       "      <td>-0.128952</td>\n",
       "    </tr>\n",
       "    <tr>\n",
       "      <th>23</th>\n",
       "      <td>guitar</td>\n",
       "      <td>vggish</td>\n",
       "      <td>irmas</td>\n",
       "      <td>0.032993</td>\n",
       "    </tr>\n",
       "    <tr>\n",
       "      <th>24</th>\n",
       "      <td>organ</td>\n",
       "      <td>vggish</td>\n",
       "      <td>irmas</td>\n",
       "      <td>0.187951</td>\n",
       "    </tr>\n",
       "    <tr>\n",
       "      <th>25</th>\n",
       "      <td>piano</td>\n",
       "      <td>vggish</td>\n",
       "      <td>irmas</td>\n",
       "      <td>0.111706</td>\n",
       "    </tr>\n",
       "    <tr>\n",
       "      <th>26</th>\n",
       "      <td>saxophone</td>\n",
       "      <td>vggish</td>\n",
       "      <td>irmas</td>\n",
       "      <td>0.235070</td>\n",
       "    </tr>\n",
       "    <tr>\n",
       "      <th>27</th>\n",
       "      <td>trumpet</td>\n",
       "      <td>vggish</td>\n",
       "      <td>irmas</td>\n",
       "      <td>0.545035</td>\n",
       "    </tr>\n",
       "    <tr>\n",
       "      <th>28</th>\n",
       "      <td>violin</td>\n",
       "      <td>vggish</td>\n",
       "      <td>irmas</td>\n",
       "      <td>0.092179</td>\n",
       "    </tr>\n",
       "    <tr>\n",
       "      <th>29</th>\n",
       "      <td>voice</td>\n",
       "      <td>vggish</td>\n",
       "      <td>irmas</td>\n",
       "      <td>0.129823</td>\n",
       "    </tr>\n",
       "    <tr>\n",
       "      <th>30</th>\n",
       "      <td>cello</td>\n",
       "      <td>vggish</td>\n",
       "      <td>openmic</td>\n",
       "      <td>-0.109455</td>\n",
       "    </tr>\n",
       "    <tr>\n",
       "      <th>31</th>\n",
       "      <td>clarinet</td>\n",
       "      <td>vggish</td>\n",
       "      <td>openmic</td>\n",
       "      <td>0.180490</td>\n",
       "    </tr>\n",
       "    <tr>\n",
       "      <th>32</th>\n",
       "      <td>flute</td>\n",
       "      <td>vggish</td>\n",
       "      <td>openmic</td>\n",
       "      <td>0.236700</td>\n",
       "    </tr>\n",
       "    <tr>\n",
       "      <th>33</th>\n",
       "      <td>guitar</td>\n",
       "      <td>vggish</td>\n",
       "      <td>openmic</td>\n",
       "      <td>-0.077577</td>\n",
       "    </tr>\n",
       "    <tr>\n",
       "      <th>34</th>\n",
       "      <td>organ</td>\n",
       "      <td>vggish</td>\n",
       "      <td>openmic</td>\n",
       "      <td>0.128082</td>\n",
       "    </tr>\n",
       "    <tr>\n",
       "      <th>35</th>\n",
       "      <td>piano</td>\n",
       "      <td>vggish</td>\n",
       "      <td>openmic</td>\n",
       "      <td>-0.091723</td>\n",
       "    </tr>\n",
       "    <tr>\n",
       "      <th>36</th>\n",
       "      <td>saxophone</td>\n",
       "      <td>vggish</td>\n",
       "      <td>openmic</td>\n",
       "      <td>0.083623</td>\n",
       "    </tr>\n",
       "    <tr>\n",
       "      <th>37</th>\n",
       "      <td>trumpet</td>\n",
       "      <td>vggish</td>\n",
       "      <td>openmic</td>\n",
       "      <td>-0.011077</td>\n",
       "    </tr>\n",
       "    <tr>\n",
       "      <th>38</th>\n",
       "      <td>violin</td>\n",
       "      <td>vggish</td>\n",
       "      <td>openmic</td>\n",
       "      <td>0.163550</td>\n",
       "    </tr>\n",
       "    <tr>\n",
       "      <th>39</th>\n",
       "      <td>voice</td>\n",
       "      <td>vggish</td>\n",
       "      <td>openmic</td>\n",
       "      <td>0.074924</td>\n",
       "    </tr>\n",
       "  </tbody>\n",
       "</table>\n",
       "</div>"
      ],
      "text/plain": [
       "   instrument embedding train_set  cosine_similarity\n",
       "0       cello    openl3     irmas           0.027765\n",
       "1    clarinet    openl3     irmas          -0.038729\n",
       "2       flute    openl3     irmas          -0.022631\n",
       "3      guitar    openl3     irmas           0.021069\n",
       "4       organ    openl3     irmas          -0.000063\n",
       "5       piano    openl3     irmas          -0.033103\n",
       "6   saxophone    openl3     irmas           0.026126\n",
       "7     trumpet    openl3     irmas          -0.006180\n",
       "8      violin    openl3     irmas           0.019590\n",
       "9       voice    openl3     irmas           0.002898\n",
       "10      cello    openl3   openmic           0.001346\n",
       "11   clarinet    openl3   openmic          -0.054904\n",
       "12      flute    openl3   openmic          -0.054391\n",
       "13     guitar    openl3   openmic          -0.025782\n",
       "14      organ    openl3   openmic           0.004000\n",
       "15      piano    openl3   openmic           0.001539\n",
       "16  saxophone    openl3   openmic          -0.053895\n",
       "17    trumpet    openl3   openmic          -0.029238\n",
       "18     violin    openl3   openmic           0.029545\n",
       "19      voice    openl3   openmic           0.013093\n",
       "20      cello    vggish     irmas           0.350636\n",
       "21   clarinet    vggish     irmas           0.047342\n",
       "22      flute    vggish     irmas          -0.128952\n",
       "23     guitar    vggish     irmas           0.032993\n",
       "24      organ    vggish     irmas           0.187951\n",
       "25      piano    vggish     irmas           0.111706\n",
       "26  saxophone    vggish     irmas           0.235070\n",
       "27    trumpet    vggish     irmas           0.545035\n",
       "28     violin    vggish     irmas           0.092179\n",
       "29      voice    vggish     irmas           0.129823\n",
       "30      cello    vggish   openmic          -0.109455\n",
       "31   clarinet    vggish   openmic           0.180490\n",
       "32      flute    vggish   openmic           0.236700\n",
       "33     guitar    vggish   openmic          -0.077577\n",
       "34      organ    vggish   openmic           0.128082\n",
       "35      piano    vggish   openmic          -0.091723\n",
       "36  saxophone    vggish   openmic           0.083623\n",
       "37    trumpet    vggish   openmic          -0.011077\n",
       "38     violin    vggish   openmic           0.163550\n",
       "39      voice    vggish   openmic           0.074924"
      ]
     },
     "execution_count": 38,
     "metadata": {},
     "output_type": "execute_result"
    }
   ],
   "source": [
    "# use a Pandas DataFrame to record cosine_similarity results and save into a csv file later\n",
    "cosine_sim = pd.DataFrame({'instrument': [],\n",
    "                           'embedding': [],\n",
    "                           'train_set': [],\n",
    "                          'cosine_similarity': [],\n",
    "                         })\n",
    "\n",
    "cosine_sim['instrument'] = [key for key in class_align] * 4\n",
    "cosine_sim['embedding'] = ['openl3'] * len(class_align) * 2 +  ['vggish'] * len(class_align) * 2\n",
    "cosine_sim['train_set'] = ['irmas'] * len(class_align) +  ['openmic'] * len(class_align) + \\\n",
    "                            ['irmas'] * len(class_align) + ['openmic'] * len(class_align)\n",
    "cosine_sim['cosine_similarity'] = cosine_sim_openl3_irmas + cosine_sim_openl3_openmic + \\\n",
    "                                    cosine_sim_vggish_irmas + cosine_sim_vggish_openmic\n",
    "\n",
    "cosine_sim.to_csv('cosine_similarity.csv', index=False)\n",
    "cosine_sim"
   ]
  },
  {
   "cell_type": "code",
   "execution_count": 39,
   "metadata": {},
   "outputs": [
    {
     "data": {
      "image/png": "[encoded data removed]",
      "text/plain": [
       "<Figure size 792.725x360 with 2 Axes>"
      ]
     },
     "metadata": {},
     "output_type": "display_data"
    }
   ],
   "source": [
    "# save cosine similarity into a csv file\n",
    "import seaborn as sns\n",
    "import pandas as pd\n",
    "sns.set_theme(context='notebook', style='whitegrid', palette='deep')\n",
    "\n",
    "df = pd.read_csv('cosine_similarity.csv')\n",
    "sns.catplot(data=df, col='train_set', y='instrument', x='cosine_similarity', hue='embedding', kind='bar');\n",
    "plt.savefig('cosine_similarity.png')"
   ]
  },
  {
   "cell_type": "markdown",
   "metadata": {},
   "source": [
    "# YAMnet"
   ]
  },
  {
   "cell_type": "code",
   "execution_count": 40,
   "metadata": {},
   "outputs": [],
   "source": [
    "embedding_name = 'yamnet'"
   ]
  },
  {
   "cell_type": "markdown",
   "metadata": {},
   "source": [
    "## Load embedding"
   ]
  },
  {
   "cell_type": "code",
   "execution_count": 41,
   "metadata": {},
   "outputs": [
    {
     "name": "stdout",
     "output_type": "stream",
     "text": [
      "(33525, 1024) (33525,)\n",
      "(6705,)\n"
     ]
    },
    {
     "data": {
      "application/vnd.jupyter.widget-view+json": {
       "model_id": "833e6827b26542659de54c4f083a2ba6",
       "version_major": 2,
       "version_minor": 0
      },
      "text/plain": [
       "  0%|          | 0/6705 [00:00<?, ?it/s]"
      ]
     },
     "metadata": {},
     "output_type": "display_data"
    },
    {
     "name": "stdout",
     "output_type": "stream",
     "text": [
      "(6705, 1024) (6705,)\n"
     ]
    }
   ],
   "source": [
    "#########################\n",
    "# irmas: vggish embedding\n",
    "feature = np.array(embeddings['irmas'][embedding_name]['features'])\n",
    "keys_ori = np.array(embeddings['irmas'][embedding_name]['keys'])\n",
    "print(feature.shape, keys_ori.shape)\n",
    "\n",
    "key_clip = np.unique(keys_ori)\n",
    "print(key_clip.shape)\n",
    "\n",
    "feature_clip = []\n",
    "\n",
    "for key in tqdm(key_clip):\n",
    "    feature_clip.append(np.mean(feature[keys_ori[:]==key,:],axis=0))\n",
    "    \n",
    "feature_clip = np.array(feature_clip)\n",
    "key_clip = np.array([str(k, 'utf-8') for k in key_clip])\n",
    "print(feature_clip.shape, key_clip.shape)"
   ]
  },
  {
   "cell_type": "code",
   "execution_count": 42,
   "metadata": {},
   "outputs": [],
   "source": [
    "key_train = list(pd.read_csv('irmas_train.csv', header=None, squeeze=True))\n",
    "key_test = list(pd.read_csv('irmas_test.csv', header=None, squeeze=True))\n",
    "\n",
    "# key_train = np.array([k[2:-1] for k in key_train])\n",
    "# key_test = np.array([k[2:-1]  for k in key_test])"
   ]
  },
  {
   "cell_type": "code",
   "execution_count": 43,
   "metadata": {},
   "outputs": [],
   "source": [
    "# These loops go through all sample keys, and save their row numbers to either idx_train or idx_test\n",
    "idx_train, idx_test = [], []\n",
    "\n",
    "for k in range(len(key_clip)):\n",
    "    if str(key_clip[k]) in key_train:\n",
    "        idx_train.append(k)\n",
    "    elif str(key_clip[k]) in key_test:\n",
    "        idx_test.append(k)\n",
    "    else:\n",
    "        # This should never happen, but better safe than sorry.\n",
    "        raise RuntimeError('Unknown sample key={}! Abort!'.format(key_clip[k]))\n",
    "        \n",
    "# cast the idx_* arrays to numpy structures\n",
    "idx_train = np.asarray(idx_train)\n",
    "idx_test = np.asarray(idx_test)"
   ]
  },
  {
   "cell_type": "code",
   "execution_count": 44,
   "metadata": {},
   "outputs": [
    {
     "data": {
      "text/plain": [
       "array(['cello', 'clarinet', 'flute', 'guitar', 'organ', 'piano',\n",
       "       'saxophone', 'trumpet', 'violin', 'voice'], dtype='<U9')"
      ]
     },
     "execution_count": 44,
     "metadata": {},
     "output_type": "execute_result"
    }
   ],
   "source": [
    "keys = [key[key.index('[')+1:key.index(']')] for key in key_clip]\n",
    "\n",
    "for key in class_align:\n",
    "    keys = [key if x in class_align[key] else x for x in keys]\n",
    "    \n",
    "keys = np.array(keys)\n",
    "np.unique(keys)"
   ]
  },
  {
   "cell_type": "code",
   "execution_count": 45,
   "metadata": {},
   "outputs": [
    {
     "name": "stdout",
     "output_type": "stream",
     "text": [
      "(5039, 1024) (5039,)\n"
     ]
    }
   ],
   "source": [
    "# use the split indices to partition the features, labels, and masks\n",
    "X_train = feature_clip[idx_train,:]\n",
    "Y_ir = np.zeros(len(X_train))\n",
    "\n",
    "print(X_train.shape, Y_ir.shape)"
   ]
  },
  {
   "cell_type": "code",
   "execution_count": 46,
   "metadata": {},
   "outputs": [
    {
     "name": "stdout",
     "output_type": "stream",
     "text": [
      "(380000, 1024) (380000,)\n"
     ]
    },
    {
     "data": {
      "application/vnd.jupyter.widget-view+json": {
       "model_id": "54d3e10975f949f6b1da42a4402697ce",
       "version_major": 2,
       "version_minor": 0
      },
      "text/plain": [
       "  0%|          | 0/20000 [00:00<?, ?it/s]"
      ]
     },
     "metadata": {},
     "output_type": "display_data"
    },
    {
     "name": "stdout",
     "output_type": "stream",
     "text": [
      "(20000, 1024) (20000,)\n"
     ]
    }
   ],
   "source": [
    "#########################\n",
    "# openmic: vggish embedding\n",
    "feature = np.array(embeddings['openmic'][embedding_name]['features'])\n",
    "keys = np.array(embeddings['openmic'][embedding_name]['keys'])\n",
    "print(feature.shape, keys.shape)\n",
    "\n",
    "key_clip = np.unique(keys)\n",
    "\n",
    "X = []\n",
    "\n",
    "for key in tqdm(key_clip):\n",
    "    X.append(np.mean(feature[keys[:]==key,:],axis=0))\n",
    "    \n",
    "X = np.array(X)\n",
    "print(X.shape, key_clip.shape)\n",
    "\n",
    "key_clip = np.array([str(k, 'utf-8') for k in key_clip])"
   ]
  },
  {
   "cell_type": "code",
   "execution_count": 47,
   "metadata": {},
   "outputs": [
    {
     "name": "stdout",
     "output_type": "stream",
     "text": [
      "# Train: 14915,  # Test: 5085\n"
     ]
    }
   ],
   "source": [
    "# train-test split\n",
    "split_train = pd.read_csv('openmic2018_train.csv', header=None, squeeze=True)\n",
    "split_test = pd.read_csv('openmic2018_test.csv', header=None, squeeze=True)\n",
    "\n",
    "print('# Train: {},  # Test: {}'.format(len(split_train), len(split_test)))\n",
    "\n",
    "train_set = set(split_train)\n",
    "test_set = set(split_test)"
   ]
  },
  {
   "cell_type": "code",
   "execution_count": 48,
   "metadata": {},
   "outputs": [],
   "source": [
    "idx_train, idx_test = [], []\n",
    "\n",
    "for idx, n in enumerate(key_clip):\n",
    "    if n in train_set:\n",
    "        idx_train.append(idx)\n",
    "    elif n in test_set:\n",
    "        idx_test.append(idx)\n",
    "    else:\n",
    "        raise RuntimeError('Unknown sample key={}! Abort!'.format(key_clip[n]))\n",
    "        \n",
    "idx_train = np.asarray(idx_train)\n",
    "idx_test = np.asarray(idx_test)"
   ]
  },
  {
   "cell_type": "code",
   "execution_count": 49,
   "metadata": {},
   "outputs": [],
   "source": [
    "X_train = np.vstack((X_train, X[idx_train]))\n",
    "\n",
    "Y_om = np.ones(len(X[idx_train]))\n",
    "Y = np.hstack((Y_ir, Y_om))"
   ]
  },
  {
   "cell_type": "markdown",
   "metadata": {},
   "source": [
    "## LDA"
   ]
  },
  {
   "cell_type": "code",
   "execution_count": 50,
   "metadata": {},
   "outputs": [],
   "source": [
    "LDA = LinearDiscriminantAnalysis(solver='eigen', shrinkage='auto')\n",
    "LDA.fit(X_train, Y)\n",
    "\n",
    "v = LDA.coef_.copy()\n",
    "v /= np.sqrt(np.sum(v**2))\n",
    "A = np.outer(v, v)\n",
    "\n",
    "Xdeb = X_train.dot(np.eye(len(A)) - A)\n",
    "Xsproj = LDA.transform(X_train)\n",
    "Xdproj = LDA.transform(Xdeb)"
   ]
  },
  {
   "cell_type": "code",
   "execution_count": 51,
   "metadata": {},
   "outputs": [],
   "source": [
    "with open('LDA_' + embedding_name + '_coef.pickle', 'wb') as fdesc:\n",
    "    pickle.dump(LDA.coef_, fdesc)"
   ]
  },
  {
   "cell_type": "code",
   "execution_count": 52,
   "metadata": {},
   "outputs": [
    {
     "data": {
      "text/plain": [
       "<matplotlib.legend.Legend at 0x7f0e31e94370>"
      ]
     },
     "execution_count": 52,
     "metadata": {},
     "output_type": "execute_result"
    },
    {
     "data": {
      "image/png": "[encoded data removed]",
      "text/plain": [
       "<Figure size 432x288 with 1 Axes>"
      ]
     },
     "metadata": {},
     "output_type": "display_data"
    }
   ],
   "source": [
    "FEATURES = 'YAMnet'\n",
    "plt.title(f'{FEATURES} - raw')\n",
    "plt.hist(Xsproj[Y==0], color=colors[0], alpha=0.5, label=dataset_name[0], bins=30)\n",
    "plt.hist(Xsproj[Y==1], color=colors[1], alpha=0.5, label=dataset_name[1], bins=30)\n",
    "plt.axvline(Xsproj[Y==0].mean(), color=colors[0], linestyle='--', label='{} mean'.format(dataset_name[0]))\n",
    "plt.axvline(Xsproj[Y==1].mean(), color=colors[1], linestyle=':', label='{} mean'.format(dataset_name[1]))\n",
    "plt.legend(ncol=2)"
   ]
  },
  {
   "cell_type": "code",
   "execution_count": 53,
   "metadata": {},
   "outputs": [
    {
     "data": {
      "text/plain": [
       "<matplotlib.legend.Legend at 0x7f0e31efb700>"
      ]
     },
     "execution_count": 53,
     "metadata": {},
     "output_type": "execute_result"
    },
    {
     "data": {
      "image/png": "[encoded data removed]",
      "text/plain": [
       "<Figure size 432x288 with 1 Axes>"
      ]
     },
     "metadata": {},
     "output_type": "display_data"
    }
   ],
   "source": [
    "plt.title(f'{FEATURES} - debiased')\n",
    "plt.hist(Xdproj[Y==0], color=colors[0], alpha=0.5, label=dataset_name[0], bins=30)\n",
    "plt.hist(Xdproj[Y==1], color=colors[1], alpha=0.5, label=dataset_name[1], bins=30)\n",
    "plt.axvline(Xdproj[Y==0].mean(), color=colors[0], linestyle='--', label='{} mean'.format(dataset_name[0]))\n",
    "plt.axvline(Xdproj[Y==1].mean(), color=colors[1], linestyle=':', label='{} mean'.format(dataset_name[1]))\n",
    "plt.legend(ncol=2)"
   ]
  },
  {
   "cell_type": "markdown",
   "metadata": {},
   "source": [
    "## cosine similarity"
   ]
  },
  {
   "cell_type": "code",
   "execution_count": 54,
   "metadata": {},
   "outputs": [
    {
     "name": "stdout",
     "output_type": "stream",
     "text": [
      "Showing the pickled data:\n",
      "Model  0  is :  cello\n",
      "Model  1  is :  clarinet\n",
      "Model  2  is :  flute\n",
      "Model  3  is :  guitar\n",
      "Model  4  is :  organ\n",
      "Model  5  is :  piano\n",
      "Model  6  is :  saxophone\n",
      "Model  7  is :  trumpet\n",
      "Model  8  is :  violin\n",
      "Model  9  is :  voice\n",
      "Cosine similarity between dataset-separation and instrument classification using VGGish:\n",
      "Trained on irmas: [0.0, 0.0, 0.0, 0.0, 0.0, -0.0, 0.01, 0.0, 0.0, 0.0]\n",
      "Trained on openmic: [0.0, 0.0, -0.0, -0.0, 0.0, -0.0, 0.0, -0.0, -0.0, 0.0]\n"
     ]
    }
   ],
   "source": [
    "# load the trained instrument classification model\n",
    "file = open('models_irmas_yamnet.pickle', 'rb')\n",
    "inst_models_irmas = pickle.load(file)\n",
    "file.close()\n",
    "\n",
    "file = open('models_openmic_yamnet.pickle', 'rb')\n",
    "inst_models_openmic = pickle.load(file)\n",
    "file.close()\n",
    "\n",
    "print('Showing the pickled data:')\n",
    "cnt = 0\n",
    "for item in inst_models_irmas:\n",
    "    print('Model ', cnt, ' is : ', item)\n",
    "    cnt += 1\n",
    "\n",
    "# compute cosine similarity between the dataset-separation LDA coef and the instrument Logistic Regression Classifier coef\n",
    "cosine_sim_yamnet_irmas = []\n",
    "cosine_sim_yamnet_openmic = []\n",
    "for key in class_align:\n",
    "    cosine_sim_yamnet_irmas.append(cosine_similarity(inst_models_irmas[key].best_estimator_.coef_, LDA.coef_)[0][0])\n",
    "    cosine_sim_yamnet_openmic.append(cosine_similarity(inst_models_openmic[key].best_estimator_.coef_, LDA.coef_)[0][0])\n",
    "\n",
    "print('Cosine similarity between dataset-separation and instrument classification using VGGish:')\n",
    "print('Trained on irmas: {}'.format(list(np.array(cosine_sim_yamnet_irmas).round(2))))\n",
    "print('Trained on openmic: {}'.format(list(np.array(cosine_sim_yamnet_openmic).round(2))))"
   ]
  },
  {
   "cell_type": "code",
   "execution_count": 55,
   "metadata": {},
   "outputs": [
    {
     "data": {
      "text/html": [
       "<div>\n",
       "<style scoped>\n",
       "    .dataframe tbody tr th:only-of-type {\n",
       "        vertical-align: middle;\n",
       "    }\n",
       "\n",
       "    .dataframe tbody tr th {\n",
       "        vertical-align: top;\n",
       "    }\n",
       "\n",
       "    .dataframe thead th {\n",
       "        text-align: right;\n",
       "    }\n",
       "</style>\n",
       "<table border=\"1\" class=\"dataframe\">\n",
       "  <thead>\n",
       "    <tr style=\"text-align: right;\">\n",
       "      <th></th>\n",
       "      <th>instrument</th>\n",
       "      <th>embedding</th>\n",
       "      <th>train set</th>\n",
       "      <th>cosine similarity</th>\n",
       "    </tr>\n",
       "  </thead>\n",
       "  <tbody>\n",
       "    <tr>\n",
       "      <th>0</th>\n",
       "      <td>cello</td>\n",
       "      <td>openl3</td>\n",
       "      <td>irmas</td>\n",
       "      <td>0.027765</td>\n",
       "    </tr>\n",
       "    <tr>\n",
       "      <th>1</th>\n",
       "      <td>clarinet</td>\n",
       "      <td>openl3</td>\n",
       "      <td>irmas</td>\n",
       "      <td>-0.038729</td>\n",
       "    </tr>\n",
       "    <tr>\n",
       "      <th>2</th>\n",
       "      <td>flute</td>\n",
       "      <td>openl3</td>\n",
       "      <td>irmas</td>\n",
       "      <td>-0.022631</td>\n",
       "    </tr>\n",
       "    <tr>\n",
       "      <th>3</th>\n",
       "      <td>guitar</td>\n",
       "      <td>openl3</td>\n",
       "      <td>irmas</td>\n",
       "      <td>0.021069</td>\n",
       "    </tr>\n",
       "    <tr>\n",
       "      <th>4</th>\n",
       "      <td>organ</td>\n",
       "      <td>openl3</td>\n",
       "      <td>irmas</td>\n",
       "      <td>-0.000063</td>\n",
       "    </tr>\n",
       "    <tr>\n",
       "      <th>5</th>\n",
       "      <td>piano</td>\n",
       "      <td>openl3</td>\n",
       "      <td>irmas</td>\n",
       "      <td>-0.033103</td>\n",
       "    </tr>\n",
       "    <tr>\n",
       "      <th>6</th>\n",
       "      <td>saxophone</td>\n",
       "      <td>openl3</td>\n",
       "      <td>irmas</td>\n",
       "      <td>0.026126</td>\n",
       "    </tr>\n",
       "    <tr>\n",
       "      <th>7</th>\n",
       "      <td>trumpet</td>\n",
       "      <td>openl3</td>\n",
       "      <td>irmas</td>\n",
       "      <td>-0.006180</td>\n",
       "    </tr>\n",
       "    <tr>\n",
       "      <th>8</th>\n",
       "      <td>violin</td>\n",
       "      <td>openl3</td>\n",
       "      <td>irmas</td>\n",
       "      <td>0.019590</td>\n",
       "    </tr>\n",
       "    <tr>\n",
       "      <th>9</th>\n",
       "      <td>voice</td>\n",
       "      <td>openl3</td>\n",
       "      <td>irmas</td>\n",
       "      <td>0.002898</td>\n",
       "    </tr>\n",
       "    <tr>\n",
       "      <th>10</th>\n",
       "      <td>cello</td>\n",
       "      <td>openl3</td>\n",
       "      <td>openmic</td>\n",
       "      <td>0.001346</td>\n",
       "    </tr>\n",
       "    <tr>\n",
       "      <th>11</th>\n",
       "      <td>clarinet</td>\n",
       "      <td>openl3</td>\n",
       "      <td>openmic</td>\n",
       "      <td>-0.054904</td>\n",
       "    </tr>\n",
       "    <tr>\n",
       "      <th>12</th>\n",
       "      <td>flute</td>\n",
       "      <td>openl3</td>\n",
       "      <td>openmic</td>\n",
       "      <td>-0.054391</td>\n",
       "    </tr>\n",
       "    <tr>\n",
       "      <th>13</th>\n",
       "      <td>guitar</td>\n",
       "      <td>openl3</td>\n",
       "      <td>openmic</td>\n",
       "      <td>-0.025782</td>\n",
       "    </tr>\n",
       "    <tr>\n",
       "      <th>14</th>\n",
       "      <td>organ</td>\n",
       "      <td>openl3</td>\n",
       "      <td>openmic</td>\n",
       "      <td>0.004000</td>\n",
       "    </tr>\n",
       "    <tr>\n",
       "      <th>15</th>\n",
       "      <td>piano</td>\n",
       "      <td>openl3</td>\n",
       "      <td>openmic</td>\n",
       "      <td>0.001539</td>\n",
       "    </tr>\n",
       "    <tr>\n",
       "      <th>16</th>\n",
       "      <td>saxophone</td>\n",
       "      <td>openl3</td>\n",
       "      <td>openmic</td>\n",
       "      <td>-0.053895</td>\n",
       "    </tr>\n",
       "    <tr>\n",
       "      <th>17</th>\n",
       "      <td>trumpet</td>\n",
       "      <td>openl3</td>\n",
       "      <td>openmic</td>\n",
       "      <td>-0.029238</td>\n",
       "    </tr>\n",
       "    <tr>\n",
       "      <th>18</th>\n",
       "      <td>violin</td>\n",
       "      <td>openl3</td>\n",
       "      <td>openmic</td>\n",
       "      <td>0.029545</td>\n",
       "    </tr>\n",
       "    <tr>\n",
       "      <th>19</th>\n",
       "      <td>voice</td>\n",
       "      <td>openl3</td>\n",
       "      <td>openmic</td>\n",
       "      <td>0.013093</td>\n",
       "    </tr>\n",
       "    <tr>\n",
       "      <th>20</th>\n",
       "      <td>cello</td>\n",
       "      <td>vggish</td>\n",
       "      <td>irmas</td>\n",
       "      <td>0.350636</td>\n",
       "    </tr>\n",
       "    <tr>\n",
       "      <th>21</th>\n",
       "      <td>clarinet</td>\n",
       "      <td>vggish</td>\n",
       "      <td>irmas</td>\n",
       "      <td>0.047342</td>\n",
       "    </tr>\n",
       "    <tr>\n",
       "      <th>22</th>\n",
       "      <td>flute</td>\n",
       "      <td>vggish</td>\n",
       "      <td>irmas</td>\n",
       "      <td>-0.128952</td>\n",
       "    </tr>\n",
       "    <tr>\n",
       "      <th>23</th>\n",
       "      <td>guitar</td>\n",
       "      <td>vggish</td>\n",
       "      <td>irmas</td>\n",
       "      <td>0.032993</td>\n",
       "    </tr>\n",
       "    <tr>\n",
       "      <th>24</th>\n",
       "      <td>organ</td>\n",
       "      <td>vggish</td>\n",
       "      <td>irmas</td>\n",
       "      <td>0.187951</td>\n",
       "    </tr>\n",
       "    <tr>\n",
       "      <th>25</th>\n",
       "      <td>piano</td>\n",
       "      <td>vggish</td>\n",
       "      <td>irmas</td>\n",
       "      <td>0.111706</td>\n",
       "    </tr>\n",
       "    <tr>\n",
       "      <th>26</th>\n",
       "      <td>saxophone</td>\n",
       "      <td>vggish</td>\n",
       "      <td>irmas</td>\n",
       "      <td>0.235070</td>\n",
       "    </tr>\n",
       "    <tr>\n",
       "      <th>27</th>\n",
       "      <td>trumpet</td>\n",
       "      <td>vggish</td>\n",
       "      <td>irmas</td>\n",
       "      <td>0.545035</td>\n",
       "    </tr>\n",
       "    <tr>\n",
       "      <th>28</th>\n",
       "      <td>violin</td>\n",
       "      <td>vggish</td>\n",
       "      <td>irmas</td>\n",
       "      <td>0.092179</td>\n",
       "    </tr>\n",
       "    <tr>\n",
       "      <th>29</th>\n",
       "      <td>voice</td>\n",
       "      <td>vggish</td>\n",
       "      <td>irmas</td>\n",
       "      <td>0.129823</td>\n",
       "    </tr>\n",
       "    <tr>\n",
       "      <th>30</th>\n",
       "      <td>cello</td>\n",
       "      <td>vggish</td>\n",
       "      <td>openmic</td>\n",
       "      <td>-0.109455</td>\n",
       "    </tr>\n",
       "    <tr>\n",
       "      <th>31</th>\n",
       "      <td>clarinet</td>\n",
       "      <td>vggish</td>\n",
       "      <td>openmic</td>\n",
       "      <td>0.180490</td>\n",
       "    </tr>\n",
       "    <tr>\n",
       "      <th>32</th>\n",
       "      <td>flute</td>\n",
       "      <td>vggish</td>\n",
       "      <td>openmic</td>\n",
       "      <td>0.236700</td>\n",
       "    </tr>\n",
       "    <tr>\n",
       "      <th>33</th>\n",
       "      <td>guitar</td>\n",
       "      <td>vggish</td>\n",
       "      <td>openmic</td>\n",
       "      <td>-0.077577</td>\n",
       "    </tr>\n",
       "    <tr>\n",
       "      <th>34</th>\n",
       "      <td>organ</td>\n",
       "      <td>vggish</td>\n",
       "      <td>openmic</td>\n",
       "      <td>0.128082</td>\n",
       "    </tr>\n",
       "    <tr>\n",
       "      <th>35</th>\n",
       "      <td>piano</td>\n",
       "      <td>vggish</td>\n",
       "      <td>openmic</td>\n",
       "      <td>-0.091723</td>\n",
       "    </tr>\n",
       "    <tr>\n",
       "      <th>36</th>\n",
       "      <td>saxophone</td>\n",
       "      <td>vggish</td>\n",
       "      <td>openmic</td>\n",
       "      <td>0.083623</td>\n",
       "    </tr>\n",
       "    <tr>\n",
       "      <th>37</th>\n",
       "      <td>trumpet</td>\n",
       "      <td>vggish</td>\n",
       "      <td>openmic</td>\n",
       "      <td>-0.011077</td>\n",
       "    </tr>\n",
       "    <tr>\n",
       "      <th>38</th>\n",
       "      <td>violin</td>\n",
       "      <td>vggish</td>\n",
       "      <td>openmic</td>\n",
       "      <td>0.163550</td>\n",
       "    </tr>\n",
       "    <tr>\n",
       "      <th>39</th>\n",
       "      <td>voice</td>\n",
       "      <td>vggish</td>\n",
       "      <td>openmic</td>\n",
       "      <td>0.074924</td>\n",
       "    </tr>\n",
       "    <tr>\n",
       "      <th>40</th>\n",
       "      <td>cello</td>\n",
       "      <td>yamnet</td>\n",
       "      <td>irmas</td>\n",
       "      <td>0.001973</td>\n",
       "    </tr>\n",
       "    <tr>\n",
       "      <th>41</th>\n",
       "      <td>clarinet</td>\n",
       "      <td>yamnet</td>\n",
       "      <td>irmas</td>\n",
       "      <td>0.000423</td>\n",
       "    </tr>\n",
       "    <tr>\n",
       "      <th>42</th>\n",
       "      <td>flute</td>\n",
       "      <td>yamnet</td>\n",
       "      <td>irmas</td>\n",
       "      <td>0.002631</td>\n",
       "    </tr>\n",
       "    <tr>\n",
       "      <th>43</th>\n",
       "      <td>guitar</td>\n",
       "      <td>yamnet</td>\n",
       "      <td>irmas</td>\n",
       "      <td>0.000519</td>\n",
       "    </tr>\n",
       "    <tr>\n",
       "      <th>44</th>\n",
       "      <td>organ</td>\n",
       "      <td>yamnet</td>\n",
       "      <td>irmas</td>\n",
       "      <td>0.001622</td>\n",
       "    </tr>\n",
       "    <tr>\n",
       "      <th>45</th>\n",
       "      <td>piano</td>\n",
       "      <td>yamnet</td>\n",
       "      <td>irmas</td>\n",
       "      <td>-0.002543</td>\n",
       "    </tr>\n",
       "    <tr>\n",
       "      <th>46</th>\n",
       "      <td>saxophone</td>\n",
       "      <td>yamnet</td>\n",
       "      <td>irmas</td>\n",
       "      <td>0.006824</td>\n",
       "    </tr>\n",
       "    <tr>\n",
       "      <th>47</th>\n",
       "      <td>trumpet</td>\n",
       "      <td>yamnet</td>\n",
       "      <td>irmas</td>\n",
       "      <td>0.001636</td>\n",
       "    </tr>\n",
       "    <tr>\n",
       "      <th>48</th>\n",
       "      <td>violin</td>\n",
       "      <td>yamnet</td>\n",
       "      <td>irmas</td>\n",
       "      <td>0.003988</td>\n",
       "    </tr>\n",
       "    <tr>\n",
       "      <th>49</th>\n",
       "      <td>voice</td>\n",
       "      <td>yamnet</td>\n",
       "      <td>irmas</td>\n",
       "      <td>0.003649</td>\n",
       "    </tr>\n",
       "    <tr>\n",
       "      <th>50</th>\n",
       "      <td>cello</td>\n",
       "      <td>yamnet</td>\n",
       "      <td>openmic</td>\n",
       "      <td>0.000410</td>\n",
       "    </tr>\n",
       "    <tr>\n",
       "      <th>51</th>\n",
       "      <td>clarinet</td>\n",
       "      <td>yamnet</td>\n",
       "      <td>openmic</td>\n",
       "      <td>0.001264</td>\n",
       "    </tr>\n",
       "    <tr>\n",
       "      <th>52</th>\n",
       "      <td>flute</td>\n",
       "      <td>yamnet</td>\n",
       "      <td>openmic</td>\n",
       "      <td>-0.002810</td>\n",
       "    </tr>\n",
       "    <tr>\n",
       "      <th>53</th>\n",
       "      <td>guitar</td>\n",
       "      <td>yamnet</td>\n",
       "      <td>openmic</td>\n",
       "      <td>-0.002246</td>\n",
       "    </tr>\n",
       "    <tr>\n",
       "      <th>54</th>\n",
       "      <td>organ</td>\n",
       "      <td>yamnet</td>\n",
       "      <td>openmic</td>\n",
       "      <td>0.000235</td>\n",
       "    </tr>\n",
       "    <tr>\n",
       "      <th>55</th>\n",
       "      <td>piano</td>\n",
       "      <td>yamnet</td>\n",
       "      <td>openmic</td>\n",
       "      <td>-0.000927</td>\n",
       "    </tr>\n",
       "    <tr>\n",
       "      <th>56</th>\n",
       "      <td>saxophone</td>\n",
       "      <td>yamnet</td>\n",
       "      <td>openmic</td>\n",
       "      <td>0.001434</td>\n",
       "    </tr>\n",
       "    <tr>\n",
       "      <th>57</th>\n",
       "      <td>trumpet</td>\n",
       "      <td>yamnet</td>\n",
       "      <td>openmic</td>\n",
       "      <td>-0.002395</td>\n",
       "    </tr>\n",
       "    <tr>\n",
       "      <th>58</th>\n",
       "      <td>violin</td>\n",
       "      <td>yamnet</td>\n",
       "      <td>openmic</td>\n",
       "      <td>-0.001437</td>\n",
       "    </tr>\n",
       "    <tr>\n",
       "      <th>59</th>\n",
       "      <td>voice</td>\n",
       "      <td>yamnet</td>\n",
       "      <td>openmic</td>\n",
       "      <td>0.000805</td>\n",
       "    </tr>\n",
       "  </tbody>\n",
       "</table>\n",
       "</div>"
      ],
      "text/plain": [
       "   instrument embedding train set  cosine similarity\n",
       "0       cello    openl3     irmas           0.027765\n",
       "1    clarinet    openl3     irmas          -0.038729\n",
       "2       flute    openl3     irmas          -0.022631\n",
       "3      guitar    openl3     irmas           0.021069\n",
       "4       organ    openl3     irmas          -0.000063\n",
       "5       piano    openl3     irmas          -0.033103\n",
       "6   saxophone    openl3     irmas           0.026126\n",
       "7     trumpet    openl3     irmas          -0.006180\n",
       "8      violin    openl3     irmas           0.019590\n",
       "9       voice    openl3     irmas           0.002898\n",
       "10      cello    openl3   openmic           0.001346\n",
       "11   clarinet    openl3   openmic          -0.054904\n",
       "12      flute    openl3   openmic          -0.054391\n",
       "13     guitar    openl3   openmic          -0.025782\n",
       "14      organ    openl3   openmic           0.004000\n",
       "15      piano    openl3   openmic           0.001539\n",
       "16  saxophone    openl3   openmic          -0.053895\n",
       "17    trumpet    openl3   openmic          -0.029238\n",
       "18     violin    openl3   openmic           0.029545\n",
       "19      voice    openl3   openmic           0.013093\n",
       "20      cello    vggish     irmas           0.350636\n",
       "21   clarinet    vggish     irmas           0.047342\n",
       "22      flute    vggish     irmas          -0.128952\n",
       "23     guitar    vggish     irmas           0.032993\n",
       "24      organ    vggish     irmas           0.187951\n",
       "25      piano    vggish     irmas           0.111706\n",
       "26  saxophone    vggish     irmas           0.235070\n",
       "27    trumpet    vggish     irmas           0.545035\n",
       "28     violin    vggish     irmas           0.092179\n",
       "29      voice    vggish     irmas           0.129823\n",
       "30      cello    vggish   openmic          -0.109455\n",
       "31   clarinet    vggish   openmic           0.180490\n",
       "32      flute    vggish   openmic           0.236700\n",
       "33     guitar    vggish   openmic          -0.077577\n",
       "34      organ    vggish   openmic           0.128082\n",
       "35      piano    vggish   openmic          -0.091723\n",
       "36  saxophone    vggish   openmic           0.083623\n",
       "37    trumpet    vggish   openmic          -0.011077\n",
       "38     violin    vggish   openmic           0.163550\n",
       "39      voice    vggish   openmic           0.074924\n",
       "40      cello    yamnet     irmas           0.001973\n",
       "41   clarinet    yamnet     irmas           0.000423\n",
       "42      flute    yamnet     irmas           0.002631\n",
       "43     guitar    yamnet     irmas           0.000519\n",
       "44      organ    yamnet     irmas           0.001622\n",
       "45      piano    yamnet     irmas          -0.002543\n",
       "46  saxophone    yamnet     irmas           0.006824\n",
       "47    trumpet    yamnet     irmas           0.001636\n",
       "48     violin    yamnet     irmas           0.003988\n",
       "49      voice    yamnet     irmas           0.003649\n",
       "50      cello    yamnet   openmic           0.000410\n",
       "51   clarinet    yamnet   openmic           0.001264\n",
       "52      flute    yamnet   openmic          -0.002810\n",
       "53     guitar    yamnet   openmic          -0.002246\n",
       "54      organ    yamnet   openmic           0.000235\n",
       "55      piano    yamnet   openmic          -0.000927\n",
       "56  saxophone    yamnet   openmic           0.001434\n",
       "57    trumpet    yamnet   openmic          -0.002395\n",
       "58     violin    yamnet   openmic          -0.001437\n",
       "59      voice    yamnet   openmic           0.000805"
      ]
     },
     "execution_count": 55,
     "metadata": {},
     "output_type": "execute_result"
    }
   ],
   "source": [
    "# use a Pandas DataFrame to record cosine_similarity results and save into a csv file later\n",
    "cosine_sim = pd.DataFrame({'instrument': [],\n",
    "                           'embedding': [],\n",
    "                           'train set': [],\n",
    "                          'cosine similarity': [],\n",
    "                         })\n",
    "\n",
    "cosine_sim['instrument'] = [key for key in class_align] * 6\n",
    "cosine_sim['embedding'] = ['openl3'] * len(class_align) * 2 +  ['vggish'] * len(class_align) * 2 + \\\n",
    "                            ['yamnet'] * len(class_align) * 2\n",
    "cosine_sim['train set'] = ['irmas'] * len(class_align) +  ['openmic'] * len(class_align) + \\\n",
    "                            ['irmas'] * len(class_align) + ['openmic'] * len(class_align) + \\\n",
    "                            ['irmas'] * len(class_align) + ['openmic'] * len(class_align)\n",
    "cosine_sim['cosine similarity'] = cosine_sim_openl3_irmas + cosine_sim_openl3_openmic + \\\n",
    "                                    cosine_sim_vggish_irmas + cosine_sim_vggish_openmic + \\\n",
    "                                        cosine_sim_yamnet_irmas + cosine_sim_yamnet_openmic\n",
    "\n",
    "cosine_sim.to_csv('cosine_similarity.csv', index=False)\n",
    "cosine_sim"
   ]
  },
  {
   "cell_type": "code",
   "execution_count": 56,
   "metadata": {},
   "outputs": [
    {
     "data": {
      "image/png": "[encoded data removed]",
      "text/plain": [
       "<Figure size 720x360 with 2 Axes>"
      ]
     },
     "metadata": {},
     "output_type": "display_data"
    }
   ],
   "source": [
    "# save cosine similarity into a csv file\n",
    "import seaborn as sns\n",
    "import pandas as pd\n",
    "sns.set_theme(context='notebook', style='whitegrid', palette='deep', font_scale=1.2)\n",
    "\n",
    "df = pd.read_csv('cosine_similarity.csv')\n",
    "ax = sns.catplot(data=df, col='train set', y='instrument', x='cosine similarity', hue='embedding', kind='bar', aspect=12/12, \n",
    "               legend_out=False);\n",
    "# g.fig.get_axes()[1].legend(loc='right', bbox_to_anchor=(1.25, 0.5), ncol=1)\n",
    "# plt.legend(bbox_to_anchor=(1.05, 1), loc=2, borderaxespad=0.)\n",
    "# g._legend.set_bbox_to_anchor((2.5, 0.5))\n",
    "# g.fig.get_axes()[1].legend(loc='lower right')\n",
    "# plt.legend(loc='lower right')\n",
    "lgd = sns.move_legend(ax, \"lower center\", bbox_to_anchor=(.54, -0.1), ncol=3, title=None, frameon=False)\n",
    "# plt.tight_layout()\n",
    "plt.savefig('cosine_similarity.png', bbox_inches='tight')"
   ]
  },
  {
   "cell_type": "code",
   "execution_count": null,
   "metadata": {},
   "outputs": [],
   "source": []
  }
 ],
 "metadata": {
  "kernelspec": {
   "display_name": "Python 3 (ipykernel)",
   "language": "python",
   "name": "python3"
  },
  "language_info": {
   "codemirror_mode": {
    "name": "ipython",
    "version": 3
   },
   "file_extension": ".py",
   "mimetype": "text/x-python",
   "name": "python",
   "nbconvert_exporter": "python",
   "pygments_lexer": "ipython3",
   "version": "3.9.7"
  },
  "toc": {
   "base_numbering": 1,
   "nav_menu": {},
   "number_sections": true,
   "sideBar": false,
   "skip_h1_title": false,
   "title_cell": "Table of Contents",
   "title_sidebar": "Contents",
   "toc_cell": false,
   "toc_position": {
    "height": "621.773px",
    "left": "24px",
    "top": "111.136px",
    "width": "177px"
   },
   "toc_section_display": true,
   "toc_window_display": true
  }
 },
 "nbformat": 4,
 "nbformat_minor": 2
}
