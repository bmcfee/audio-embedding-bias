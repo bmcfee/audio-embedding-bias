{
 "cells": [
  {
   "cell_type": "code",
   "execution_count": 15,
   "id": "aa144ce7",
   "metadata": {},
   "outputs": [],
   "source": [
    "import pandas as pd\n",
    "import warnings\n",
    "warnings.filterwarnings('ignore')\n",
    "\n",
    "from deem import deem # proposed module, deem is in short for 'de'-biasing 'em'beddings"
   ]
  },
  {
   "cell_type": "code",
   "execution_count": 16,
   "id": "e91d2840",
   "metadata": {},
   "outputs": [],
   "source": [
    "classf_param = {'C': [10**k for k in range(-10, 4, 1)], \n",
    "                'metric': 'roc_auc', 'cv': 3}  "
   ]
  },
  {
   "cell_type": "code",
   "execution_count": 17,
   "id": "d599b26f",
   "metadata": {},
   "outputs": [],
   "source": [
    "def debias(irmas_train, irmas_test, openmic_train, openmic_test, openmic_mask):\n",
    "    \n",
    "    X_train, X_test = deem.projection(irmas_train, irmas_test)\n",
    "    train, test = (X_train, irmas_train[1]), (X_test, irmas_test[1])\n",
    "    irmas_irmas = deem.irmas_irmas(train, test)\n",
    "\n",
    "    X_train, X_test = deem.projection(openmic_train, openmic_test)\n",
    "    train, test = (X_train, openmic_train[1]), (X_test, openmic_test[1])\n",
    "    openmic_openmic = deem.openmic_openmic(train, test, openmic_mask)\n",
    "    \n",
    "    X_train, X_test = deem.projection(irmas_train, openmic_test)\n",
    "    train, test = (X_train, irmas_train[1]), (X_test, openmic_test[1])\n",
    "    irmas_openmic = deem.irmas_openmic(train, test, openmic_mask)\n",
    "    \n",
    "    X_train, X_test = deem.projection(openmic_train, irmas_test)\n",
    "    train, test = (X_train, openmic_train[1]), (X_test, irmas_test[1])\n",
    "    openmic_irmas = deem.openmic_irmas(train, test)\n",
    "    \n",
    "    result = pd.concat([irmas_irmas, openmic_openmic, irmas_openmic, openmic_irmas], ignore_index=True)\n",
    "    result['embedding'] = [deem.embedding + deem.debias_method] * len(result)\n",
    "\n",
    "    print(deem.debias_method)\n",
    "    return result"
   ]
  },
  {
   "cell_type": "markdown",
   "id": "5edc971c",
   "metadata": {},
   "source": [
    "# VGGish"
   ]
  },
  {
   "cell_type": "code",
   "execution_count": 18,
   "id": "3dd0b041",
   "metadata": {},
   "outputs": [
    {
     "name": "stdout",
     "output_type": "stream",
     "text": [
      "Loading irmas data:\n"
     ]
    },
    {
     "data": {
      "application/vnd.jupyter.widget-view+json": {
       "model_id": "ea28749615a3411a866319379b69c33f",
       "version_major": 2,
       "version_minor": 0
      },
      "text/plain": [
       "  0%|          | 0/6705 [00:00<?, ?it/s]"
      ]
     },
     "metadata": {},
     "output_type": "display_data"
    },
    {
     "name": "stdout",
     "output_type": "stream",
     "text": [
      "Loading openmic data:\n"
     ]
    },
    {
     "data": {
      "application/vnd.jupyter.widget-view+json": {
       "model_id": "33396c72061e44abac993be1e5790114",
       "version_major": 2,
       "version_minor": 0
      },
      "text/plain": [
       "  0%|          | 0/20000 [00:00<?, ?it/s]"
      ]
     },
     "metadata": {},
     "output_type": "display_data"
    }
   ],
   "source": [
    "embedding = 'vggish'\n",
    "deem = deem(embedding, classf_param)\n",
    "\n",
    "irmas_train, irmas_test = deem.data_loader(dataset='irmas', data_root='')\n",
    "openmic_train, openmic_test, openmic_mask = deem.data_loader(dataset='openmic', data_root='openmic-2018/')"
   ]
  },
  {
   "cell_type": "code",
   "execution_count": 32,
   "id": "a0fcbeca",
   "metadata": {},
   "outputs": [
    {
     "name": "stdout",
     "output_type": "stream",
     "text": [
      "\n"
     ]
    }
   ],
   "source": [
    "deem.debias_method = ''  # '' = orginal, no debiasing\n",
    "result_all = debias(irmas_train, irmas_test, openmic_train, openmic_test, openmic_mask)  # original"
   ]
  },
  {
   "cell_type": "code",
   "execution_count": 33,
   "id": "2e00c30e",
   "metadata": {},
   "outputs": [
    {
     "name": "stdout",
     "output_type": "stream",
     "text": [
      "-lda\n",
      "-lda-genre\n",
      "-k\n",
      "-klda\n",
      "-klda-genre\n"
     ]
    }
   ],
   "source": [
    "debias_methods = ['', '-lda', '-lda-genre', '-k', '-klda', '-klda-genre']\n",
    "\n",
    "for method in debias_methods[1:]:\n",
    "    deem.debias_method = method \n",
    "    result_all = result_all.append(debias(irmas_train, irmas_test, openmic_train, openmic_test, openmic_mask))"
   ]
  },
  {
   "cell_type": "markdown",
   "id": "1e3da15d",
   "metadata": {},
   "source": [
    "# OpenL3"
   ]
  },
  {
   "cell_type": "code",
   "execution_count": 7,
   "id": "d4d0b6e0",
   "metadata": {},
   "outputs": [
    {
     "name": "stdout",
     "output_type": "stream",
     "text": [
      "Loading irmas data:\n"
     ]
    },
    {
     "data": {
      "application/vnd.jupyter.widget-view+json": {
       "model_id": "1de837e6126943c3ad5a8000033198bd",
       "version_major": 2,
       "version_minor": 0
      },
      "text/plain": [
       "  0%|          | 0/6705 [00:00<?, ?it/s]"
      ]
     },
     "metadata": {},
     "output_type": "display_data"
    },
    {
     "name": "stdout",
     "output_type": "stream",
     "text": [
      "Loading openmic data:\n"
     ]
    },
    {
     "data": {
      "application/vnd.jupyter.widget-view+json": {
       "model_id": "341bdaaa32584752be2e40123c594a6c",
       "version_major": 2,
       "version_minor": 0
      },
      "text/plain": [
       "  0%|          | 0/20000 [00:00<?, ?it/s]"
      ]
     },
     "metadata": {},
     "output_type": "display_data"
    }
   ],
   "source": [
    "embedding = 'openl3'\n",
    "deem.embedding = embedding\n",
    "\n",
    "irmas_train, irmas_test = deem.data_loader(dataset='irmas', data_root='')\n",
    "openmic_train, openmic_test, openmic_mask = deem.data_loader(dataset='openmic', data_root='openmic-2018/')"
   ]
  },
  {
   "cell_type": "code",
   "execution_count": 8,
   "id": "912ff65e",
   "metadata": {},
   "outputs": [
    {
     "name": "stdout",
     "output_type": "stream",
     "text": [
      "\n",
      "-lda\n",
      "-lda-genre\n",
      "-k\n",
      "-klda\n",
      "-klda-genre\n"
     ]
    }
   ],
   "source": [
    "debias_methods = ['', '-lda', '-lda-genre', '-k', '-klda', '-klda-genre']\n",
    "\n",
    "for method in debias_methods:\n",
    "    deem.debias_method = method \n",
    "    result_all = result_all.append(debias(irmas_train, irmas_test, openmic_train, openmic_test, openmic_mask))"
   ]
  },
  {
   "cell_type": "markdown",
   "id": "34bbdee2",
   "metadata": {},
   "source": [
    "# YAMNet"
   ]
  },
  {
   "cell_type": "code",
   "execution_count": 9,
   "id": "8b910ec8",
   "metadata": {},
   "outputs": [
    {
     "name": "stdout",
     "output_type": "stream",
     "text": [
      "Loading irmas data:\n"
     ]
    },
    {
     "data": {
      "application/vnd.jupyter.widget-view+json": {
       "model_id": "036137627ede4117a4a540f9a5afdfd0",
       "version_major": 2,
       "version_minor": 0
      },
      "text/plain": [
       "  0%|          | 0/6705 [00:00<?, ?it/s]"
      ]
     },
     "metadata": {},
     "output_type": "display_data"
    },
    {
     "name": "stdout",
     "output_type": "stream",
     "text": [
      "Loading openmic data:\n"
     ]
    },
    {
     "data": {
      "application/vnd.jupyter.widget-view+json": {
       "model_id": "e29675adc43b48c2b15de6d38026835f",
       "version_major": 2,
       "version_minor": 0
      },
      "text/plain": [
       "  0%|          | 0/20000 [00:00<?, ?it/s]"
      ]
     },
     "metadata": {},
     "output_type": "display_data"
    }
   ],
   "source": [
    "embedding = 'yamnet'\n",
    "deem.embedding = embedding\n",
    "\n",
    "irmas_train, irmas_test = deem.data_loader(dataset='irmas', data_root='')\n",
    "openmic_train, openmic_test, openmic_mask = deem.data_loader(dataset='openmic', data_root='openmic-2018/')"
   ]
  },
  {
   "cell_type": "code",
   "execution_count": 10,
   "id": "7cdbfc25",
   "metadata": {},
   "outputs": [
    {
     "name": "stdout",
     "output_type": "stream",
     "text": [
      "\n",
      "-lda\n",
      "-lda-genre\n",
      "-k\n",
      "-klda\n",
      "-klda-genre\n"
     ]
    }
   ],
   "source": [
    "for method in debias_methods:\n",
    "    deem.debias_method = method\n",
    "    result_all = result_all.append(debias(irmas_train, irmas_test, openmic_train, openmic_test, openmic_mask))"
   ]
  },
  {
   "cell_type": "code",
   "execution_count": 31,
   "id": "618aa244",
   "metadata": {},
   "outputs": [],
   "source": [
    "result_all.to_csv('results/result_all.csv', index=False)  "
   ]
  },
  {
   "cell_type": "code",
   "execution_count": null,
   "id": "9e55f1ec",
   "metadata": {},
   "outputs": [],
   "source": []
  }
 ],
 "metadata": {
  "kernelspec": {
   "display_name": "Python 3 (ipykernel)",
   "language": "python",
   "name": "python3"
  },
  "language_info": {
   "codemirror_mode": {
    "name": "ipython",
    "version": 3
   },
   "file_extension": ".py",
   "mimetype": "text/x-python",
   "name": "python",
   "nbconvert_exporter": "python",
   "pygments_lexer": "ipython3",
   "version": "3.9.7"
  },
  "toc": {
   "base_numbering": 1,
   "nav_menu": {},
   "number_sections": true,
   "sideBar": true,
   "skip_h1_title": false,
   "title_cell": "Table of Contents",
   "title_sidebar": "Contents",
   "toc_cell": false,
   "toc_position": {
    "height": "calc(100% - 180px)",
    "left": "10px",
    "top": "150px",
    "width": "165px"
   },
   "toc_section_display": true,
   "toc_window_display": true
  }
 },
 "nbformat": 4,
 "nbformat_minor": 5
}
