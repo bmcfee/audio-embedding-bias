{
 "cells": [
  {
   "cell_type": "code",
   "execution_count": 1,
   "id": "aa144ce7",
   "metadata": {},
   "outputs": [],
   "source": [
    "import pandas as pd\n",
    "import warnings\n",
    "warnings.filterwarnings('ignore')\n",
    "\n",
    "from deem import deem # proposed module, deem is in short for 'de'-biasing 'em'beddings"
   ]
  },
  {
   "cell_type": "code",
   "execution_count": 2,
   "id": "e91d2840",
   "metadata": {},
   "outputs": [],
   "source": [
    "classf_param = {'C': [10**(-6), 10**(-4), 10**(-2), 10**(0), 10**(2)], \n",
    "                'metric': 'roc_auc', 'cv': 3,\n",
    "                'gamma': [10**(-6), 10**(-4), 10**(-2), 10**(0), 10**(2)]}  "
   ]
  },
  {
   "cell_type": "code",
   "execution_count": 3,
   "id": "d599b26f",
   "metadata": {},
   "outputs": [],
   "source": [
    "def debias(irmas_train, irmas_test, openmic_train, openmic_test, openmic_mask):\n",
    "    \n",
    "    X_train, X_test = deem.projection(irmas_train, irmas_test)\n",
    "    train, test = (X_train, irmas_train[1]), (X_test, irmas_test[1])\n",
    "    irmas_irmas = deem.irmas_irmas(train, test)\n",
    "\n",
    "    X_train, X_test = deem.projection(openmic_train, openmic_test)\n",
    "    train, test = (X_train, openmic_train[1]), (X_test, openmic_test[1])\n",
    "    openmic_openmic = deem.openmic_openmic(train, test, openmic_mask)\n",
    "    \n",
    "    X_train, X_test = deem.projection(irmas_train, openmic_test)\n",
    "    train, test = (X_train, irmas_train[1]), (X_test, openmic_test[1])\n",
    "    irmas_openmic = deem.irmas_openmic(train, test, openmic_mask)\n",
    "    \n",
    "    X_train, X_test = deem.projection(openmic_train, irmas_test)\n",
    "    train, test = (X_train, openmic_train[1]), (X_test, irmas_test[1])\n",
    "    openmic_irmas = deem.openmic_irmas(train, test)\n",
    "    \n",
    "    result = pd.concat([irmas_irmas, openmic_openmic, irmas_openmic, openmic_irmas], ignore_index=True)\n",
    "    result['embedding'] = [deem.embedding + deem.debias_method] * len(result)\n",
    "\n",
    "    print(deem.debias_method)\n",
    "    return result"
   ]
  },
  {
   "cell_type": "markdown",
   "id": "5edc971c",
   "metadata": {},
   "source": [
    "# VGGish"
   ]
  },
  {
   "cell_type": "code",
   "execution_count": 4,
   "id": "3dd0b041",
   "metadata": {},
   "outputs": [
    {
     "name": "stdout",
     "output_type": "stream",
     "text": [
      "Loading irmas data:\n"
     ]
    },
    {
     "data": {
      "application/vnd.jupyter.widget-view+json": {
       "model_id": "ff3442872d274ce083bc1bf4aef3257b",
       "version_major": 2,
       "version_minor": 0
      },
      "text/plain": [
       "  0%|          | 0/6705 [00:00<?, ?it/s]"
      ]
     },
     "metadata": {},
     "output_type": "display_data"
    },
    {
     "name": "stdout",
     "output_type": "stream",
     "text": [
      "Loading openmic data:\n"
     ]
    },
    {
     "data": {
      "application/vnd.jupyter.widget-view+json": {
       "model_id": "68b5fda03c1c41b6970f7d490491652a",
       "version_major": 2,
       "version_minor": 0
      },
      "text/plain": [
       "  0%|          | 0/20000 [00:00<?, ?it/s]"
      ]
     },
     "metadata": {},
     "output_type": "display_data"
    }
   ],
   "source": [
    "embedding = 'vggish'\n",
    "deem = deem(embedding, classf_param)\n",
    "\n",
    "irmas_train, irmas_test = deem.data_loader(dataset='irmas', data_root='')\n",
    "openmic_train, openmic_test, openmic_mask = deem.data_loader(dataset='openmic', data_root='openmic-2018/')"
   ]
  },
  {
   "cell_type": "code",
   "execution_count": 5,
   "id": "a0fcbeca",
   "metadata": {},
   "outputs": [
    {
     "name": "stdout",
     "output_type": "stream",
     "text": [
      "\n"
     ]
    }
   ],
   "source": [
    "deem.debias_method = ''  # '' = orginal, no debiasing\n",
    "result_all = debias(irmas_train, irmas_test, openmic_train, openmic_test, openmic_mask)  # original"
   ]
  },
  {
   "cell_type": "code",
   "execution_count": 6,
   "id": "2e00c30e",
   "metadata": {},
   "outputs": [
    {
     "name": "stdout",
     "output_type": "stream",
     "text": [
      "-lda\n",
      "-lda-genre\n",
      "-k\n",
      "-klda\n",
      "-klda-genre\n"
     ]
    }
   ],
   "source": [
    "debias_methods = ['', '-lda', '-lda-genre', '-k', '-klda', '-klda-genre']\n",
    "\n",
    "for method in debias_methods[1:]:\n",
    "    deem.debias_method = method \n",
    "    result_all = result_all.append(debias(irmas_train, irmas_test, openmic_train, openmic_test, openmic_mask))"
   ]
  },
  {
   "cell_type": "markdown",
   "id": "1e3da15d",
   "metadata": {},
   "source": [
    "# OpenL3"
   ]
  },
  {
   "cell_type": "code",
   "execution_count": 7,
   "id": "d4d0b6e0",
   "metadata": {},
   "outputs": [
    {
     "name": "stdout",
     "output_type": "stream",
     "text": [
      "Loading irmas data:\n"
     ]
    },
    {
     "data": {
      "application/vnd.jupyter.widget-view+json": {
       "model_id": "fb50e46be5074cc585a2ca3af9896822",
       "version_major": 2,
       "version_minor": 0
      },
      "text/plain": [
       "  0%|          | 0/6705 [00:00<?, ?it/s]"
      ]
     },
     "metadata": {},
     "output_type": "display_data"
    },
    {
     "name": "stdout",
     "output_type": "stream",
     "text": [
      "Loading openmic data:\n"
     ]
    },
    {
     "data": {
      "application/vnd.jupyter.widget-view+json": {
       "model_id": "979ff47fae7242c7b4154bbcd9f658ab",
       "version_major": 2,
       "version_minor": 0
      },
      "text/plain": [
       "  0%|          | 0/20000 [00:00<?, ?it/s]"
      ]
     },
     "metadata": {},
     "output_type": "display_data"
    }
   ],
   "source": [
    "embedding = 'openl3'\n",
    "deem.embedding = embedding\n",
    "\n",
    "irmas_train, irmas_test = deem.data_loader(dataset='irmas', data_root='')\n",
    "openmic_train, openmic_test, openmic_mask = deem.data_loader(dataset='openmic', data_root='openmic-2018/')"
   ]
  },
  {
   "cell_type": "code",
   "execution_count": 8,
   "id": "912ff65e",
   "metadata": {},
   "outputs": [
    {
     "name": "stdout",
     "output_type": "stream",
     "text": [
      "\n",
      "-lda\n",
      "-lda-genre\n",
      "-k\n",
      "-klda\n",
      "-klda-genre\n"
     ]
    }
   ],
   "source": [
    "for method in debias_methods:\n",
    "    deem.debias_method = method \n",
    "    result_all = result_all.append(debias(irmas_train, irmas_test, openmic_train, openmic_test, openmic_mask))"
   ]
  },
  {
   "cell_type": "markdown",
   "id": "34bbdee2",
   "metadata": {},
   "source": [
    "# YAMNet"
   ]
  },
  {
   "cell_type": "code",
   "execution_count": 9,
   "id": "8b910ec8",
   "metadata": {},
   "outputs": [
    {
     "name": "stdout",
     "output_type": "stream",
     "text": [
      "Loading irmas data:\n"
     ]
    },
    {
     "data": {
      "application/vnd.jupyter.widget-view+json": {
       "model_id": "d9df1c0afb4347c1bf81ef412794d42c",
       "version_major": 2,
       "version_minor": 0
      },
      "text/plain": [
       "  0%|          | 0/6705 [00:00<?, ?it/s]"
      ]
     },
     "metadata": {},
     "output_type": "display_data"
    },
    {
     "name": "stdout",
     "output_type": "stream",
     "text": [
      "Loading openmic data:\n"
     ]
    },
    {
     "data": {
      "application/vnd.jupyter.widget-view+json": {
       "model_id": "4339539e1cd7406e951bc7e6c99a993c",
       "version_major": 2,
       "version_minor": 0
      },
      "text/plain": [
       "  0%|          | 0/20000 [00:00<?, ?it/s]"
      ]
     },
     "metadata": {},
     "output_type": "display_data"
    }
   ],
   "source": [
    "embedding = 'yamnet'\n",
    "deem.embedding = embedding\n",
    "\n",
    "irmas_train, irmas_test = deem.data_loader(dataset='irmas', data_root='')\n",
    "openmic_train, openmic_test, openmic_mask = deem.data_loader(dataset='openmic', data_root='openmic-2018/')"
   ]
  },
  {
   "cell_type": "code",
   "execution_count": 10,
   "id": "7cdbfc25",
   "metadata": {},
   "outputs": [
    {
     "name": "stdout",
     "output_type": "stream",
     "text": [
      "\n",
      "-lda\n",
      "-lda-genre\n",
      "-k\n",
      "-klda\n",
      "-klda-genre\n"
     ]
    }
   ],
   "source": [
    "for method in debias_methods:\n",
    "    deem.debias_method = method \n",
    "    result_all = result_all.append(debias(irmas_train, irmas_test, openmic_train, openmic_test, openmic_mask))"
   ]
  },
  {
   "cell_type": "code",
   "execution_count": 11,
   "id": "67e1ecf5",
   "metadata": {},
   "outputs": [
    {
     "data": {
      "text/plain": [
       "720"
      ]
     },
     "execution_count": 11,
     "metadata": {},
     "output_type": "execute_result"
    }
   ],
   "source": [
    "len(result_all)"
   ]
  },
  {
   "cell_type": "code",
   "execution_count": 12,
   "id": "622241e5",
   "metadata": {},
   "outputs": [
    {
     "data": {
      "text/html": [
       "<div>\n",
       "<style scoped>\n",
       "    .dataframe tbody tr th:only-of-type {\n",
       "        vertical-align: middle;\n",
       "    }\n",
       "\n",
       "    .dataframe tbody tr th {\n",
       "        vertical-align: top;\n",
       "    }\n",
       "\n",
       "    .dataframe thead th {\n",
       "        text-align: right;\n",
       "    }\n",
       "</style>\n",
       "<table border=\"1\" class=\"dataframe\">\n",
       "  <thead>\n",
       "    <tr style=\"text-align: right;\">\n",
       "      <th></th>\n",
       "      <th>instrument</th>\n",
       "      <th>train_set</th>\n",
       "      <th>test_set</th>\n",
       "      <th>precision</th>\n",
       "      <th>recall</th>\n",
       "      <th>f1-score</th>\n",
       "      <th>support</th>\n",
       "      <th>accuracy</th>\n",
       "      <th>roc_auc</th>\n",
       "      <th>ap</th>\n",
       "      <th>embedding</th>\n",
       "    </tr>\n",
       "  </thead>\n",
       "  <tbody>\n",
       "    <tr>\n",
       "      <th>0</th>\n",
       "      <td>cello</td>\n",
       "      <td>irmas</td>\n",
       "      <td>irmas</td>\n",
       "      <td>0.29454545454545455</td>\n",
       "      <td>0.8617021276595744</td>\n",
       "      <td>0.43902439024390244</td>\n",
       "      <td>94.0</td>\n",
       "      <td>0.8757503001200481</td>\n",
       "      <td>0.9384305126955769</td>\n",
       "      <td>0.6305397835914646</td>\n",
       "      <td>vggish</td>\n",
       "    </tr>\n",
       "    <tr>\n",
       "      <th>1</th>\n",
       "      <td>clarinet</td>\n",
       "      <td>irmas</td>\n",
       "      <td>irmas</td>\n",
       "      <td>0.27906976744186046</td>\n",
       "      <td>0.8503937007874016</td>\n",
       "      <td>0.4202334630350194</td>\n",
       "      <td>127.0</td>\n",
       "      <td>0.8211284513805522</td>\n",
       "      <td>0.9022015522913438</td>\n",
       "      <td>0.5982413610664756</td>\n",
       "      <td>vggish</td>\n",
       "    </tr>\n",
       "    <tr>\n",
       "      <th>2</th>\n",
       "      <td>flute</td>\n",
       "      <td>irmas</td>\n",
       "      <td>irmas</td>\n",
       "      <td>0.32413793103448274</td>\n",
       "      <td>0.7768595041322314</td>\n",
       "      <td>0.45742092457420924</td>\n",
       "      <td>121.0</td>\n",
       "      <td>0.8661464585834334</td>\n",
       "      <td>0.9055818556259861</td>\n",
       "      <td>0.6286379602499996</td>\n",
       "      <td>vggish</td>\n",
       "    </tr>\n",
       "    <tr>\n",
       "      <th>3</th>\n",
       "      <td>guitar</td>\n",
       "      <td>irmas</td>\n",
       "      <td>irmas</td>\n",
       "      <td>0.6519721577726219</td>\n",
       "      <td>0.8121387283236994</td>\n",
       "      <td>0.7232947232947232</td>\n",
       "      <td>346.0</td>\n",
       "      <td>0.8709483793517407</td>\n",
       "      <td>0.9351550183920125</td>\n",
       "      <td>0.8289173972627856</td>\n",
       "      <td>vggish</td>\n",
       "    </tr>\n",
       "    <tr>\n",
       "      <th>4</th>\n",
       "      <td>organ</td>\n",
       "      <td>irmas</td>\n",
       "      <td>irmas</td>\n",
       "      <td>0.45738636363636365</td>\n",
       "      <td>0.9252873563218391</td>\n",
       "      <td>0.612167300380228</td>\n",
       "      <td>174.0</td>\n",
       "      <td>0.8775510204081632</td>\n",
       "      <td>0.9679054574589382</td>\n",
       "      <td>0.7637821887905603</td>\n",
       "      <td>vggish</td>\n",
       "    </tr>\n",
       "    <tr>\n",
       "      <th>...</th>\n",
       "      <td>...</td>\n",
       "      <td>...</td>\n",
       "      <td>...</td>\n",
       "      <td>...</td>\n",
       "      <td>...</td>\n",
       "      <td>...</td>\n",
       "      <td>...</td>\n",
       "      <td>...</td>\n",
       "      <td>...</td>\n",
       "      <td>...</td>\n",
       "      <td>...</td>\n",
       "    </tr>\n",
       "    <tr>\n",
       "      <th>35</th>\n",
       "      <td>piano</td>\n",
       "      <td>openmic</td>\n",
       "      <td>irmas</td>\n",
       "      <td>0.22592592592592592</td>\n",
       "      <td>0.7176470588235294</td>\n",
       "      <td>0.3436619718309859</td>\n",
       "      <td>170.0</td>\n",
       "      <td>0.7202881152460985</td>\n",
       "      <td>0.8256016042780749</td>\n",
       "      <td>0.5704009098702709</td>\n",
       "      <td>yamnet-klda-genre</td>\n",
       "    </tr>\n",
       "    <tr>\n",
       "      <th>36</th>\n",
       "      <td>saxophone</td>\n",
       "      <td>openmic</td>\n",
       "      <td>irmas</td>\n",
       "      <td>0.1900369003690037</td>\n",
       "      <td>0.6866666666666666</td>\n",
       "      <td>0.2976878612716763</td>\n",
       "      <td>150.0</td>\n",
       "      <td>0.7082833133253301</td>\n",
       "      <td>0.7909014951627088</td>\n",
       "      <td>0.3382633894288481</td>\n",
       "      <td>yamnet-klda-genre</td>\n",
       "    </tr>\n",
       "    <tr>\n",
       "      <th>37</th>\n",
       "      <td>trumpet</td>\n",
       "      <td>openmic</td>\n",
       "      <td>irmas</td>\n",
       "      <td>0.2454212454212454</td>\n",
       "      <td>0.8933333333333333</td>\n",
       "      <td>0.3850574712643678</td>\n",
       "      <td>150.0</td>\n",
       "      <td>0.7430972388955582</td>\n",
       "      <td>0.8996437994722956</td>\n",
       "      <td>0.4910551759999126</td>\n",
       "      <td>yamnet-klda-genre</td>\n",
       "    </tr>\n",
       "    <tr>\n",
       "      <th>38</th>\n",
       "      <td>violin</td>\n",
       "      <td>openmic</td>\n",
       "      <td>irmas</td>\n",
       "      <td>0.1837748344370861</td>\n",
       "      <td>0.7762237762237763</td>\n",
       "      <td>0.2971887550200803</td>\n",
       "      <td>143.0</td>\n",
       "      <td>0.6848739495798319</td>\n",
       "      <td>0.8161615141260579</td>\n",
       "      <td>0.3465298066694271</td>\n",
       "      <td>yamnet-klda-genre</td>\n",
       "    </tr>\n",
       "    <tr>\n",
       "      <th>39</th>\n",
       "      <td>voice</td>\n",
       "      <td>openmic</td>\n",
       "      <td>irmas</td>\n",
       "      <td>0.5505952380952381</td>\n",
       "      <td>0.9685863874345549</td>\n",
       "      <td>0.7020872865275144</td>\n",
       "      <td>191.0</td>\n",
       "      <td>0.9057623049219687</td>\n",
       "      <td>0.9820463217676813</td>\n",
       "      <td>0.891766950860644</td>\n",
       "      <td>yamnet-klda-genre</td>\n",
       "    </tr>\n",
       "  </tbody>\n",
       "</table>\n",
       "<p>720 rows × 11 columns</p>\n",
       "</div>"
      ],
      "text/plain": [
       "   instrument train_set test_set            precision              recall  \\\n",
       "0       cello     irmas    irmas  0.29454545454545455  0.8617021276595744   \n",
       "1    clarinet     irmas    irmas  0.27906976744186046  0.8503937007874016   \n",
       "2       flute     irmas    irmas  0.32413793103448274  0.7768595041322314   \n",
       "3      guitar     irmas    irmas   0.6519721577726219  0.8121387283236994   \n",
       "4       organ     irmas    irmas  0.45738636363636365  0.9252873563218391   \n",
       "..        ...       ...      ...                  ...                 ...   \n",
       "35      piano   openmic    irmas  0.22592592592592592  0.7176470588235294   \n",
       "36  saxophone   openmic    irmas   0.1900369003690037  0.6866666666666666   \n",
       "37    trumpet   openmic    irmas   0.2454212454212454  0.8933333333333333   \n",
       "38     violin   openmic    irmas   0.1837748344370861  0.7762237762237763   \n",
       "39      voice   openmic    irmas   0.5505952380952381  0.9685863874345549   \n",
       "\n",
       "               f1-score support            accuracy             roc_auc  \\\n",
       "0   0.43902439024390244    94.0  0.8757503001200481  0.9384305126955769   \n",
       "1    0.4202334630350194   127.0  0.8211284513805522  0.9022015522913438   \n",
       "2   0.45742092457420924   121.0  0.8661464585834334  0.9055818556259861   \n",
       "3    0.7232947232947232   346.0  0.8709483793517407  0.9351550183920125   \n",
       "4     0.612167300380228   174.0  0.8775510204081632  0.9679054574589382   \n",
       "..                  ...     ...                 ...                 ...   \n",
       "35   0.3436619718309859   170.0  0.7202881152460985  0.8256016042780749   \n",
       "36   0.2976878612716763   150.0  0.7082833133253301  0.7909014951627088   \n",
       "37   0.3850574712643678   150.0  0.7430972388955582  0.8996437994722956   \n",
       "38   0.2971887550200803   143.0  0.6848739495798319  0.8161615141260579   \n",
       "39   0.7020872865275144   191.0  0.9057623049219687  0.9820463217676813   \n",
       "\n",
       "                    ap          embedding  \n",
       "0   0.6305397835914646             vggish  \n",
       "1   0.5982413610664756             vggish  \n",
       "2   0.6286379602499996             vggish  \n",
       "3   0.8289173972627856             vggish  \n",
       "4   0.7637821887905603             vggish  \n",
       "..                 ...                ...  \n",
       "35  0.5704009098702709  yamnet-klda-genre  \n",
       "36  0.3382633894288481  yamnet-klda-genre  \n",
       "37  0.4910551759999126  yamnet-klda-genre  \n",
       "38  0.3465298066694271  yamnet-klda-genre  \n",
       "39   0.891766950860644  yamnet-klda-genre  \n",
       "\n",
       "[720 rows x 11 columns]"
      ]
     },
     "execution_count": 12,
     "metadata": {},
     "output_type": "execute_result"
    }
   ],
   "source": [
    "result_all"
   ]
  },
  {
   "cell_type": "code",
   "execution_count": 13,
   "id": "618aa244",
   "metadata": {},
   "outputs": [],
   "source": [
    "result_all.to_csv('results/result_all.csv', index=False)  "
   ]
  }
 ],
 "metadata": {
  "kernelspec": {
   "display_name": "Python 3 (ipykernel)",
   "language": "python",
   "name": "python3"
  },
  "language_info": {
   "codemirror_mode": {
    "name": "ipython",
    "version": 3
   },
   "file_extension": ".py",
   "mimetype": "text/x-python",
   "name": "python",
   "nbconvert_exporter": "python",
   "pygments_lexer": "ipython3",
   "version": "3.9.7"
  },
  "toc": {
   "base_numbering": 1,
   "nav_menu": {},
   "number_sections": true,
   "sideBar": true,
   "skip_h1_title": false,
   "title_cell": "Table of Contents",
   "title_sidebar": "Contents",
   "toc_cell": false,
   "toc_position": {
    "height": "calc(100% - 180px)",
    "left": "10px",
    "top": "150px",
    "width": "165px"
   },
   "toc_section_display": true,
   "toc_window_display": true
  }
 },
 "nbformat": 4,
 "nbformat_minor": 5
}
