{
 "cells": [
  {
   "cell_type": "code",
   "execution_count": 1,
   "metadata": {},
   "outputs": [],
   "source": [
    "%matplotlib inline\n",
    "import matplotlib.pyplot as plt\n",
    "import seaborn as sns\n",
    "import numpy as np\n",
    "import librosa\n",
    "from tqdm import tqdm_notebook as tqdm\n",
    "import json\n",
    "import pandas as pd\n",
    "import pickle\n",
    "import os\n",
    "import h5py\n",
    "import collections as cl\n",
    "from ast import literal_eval\n",
    "import warnings\n",
    "warnings.filterwarnings('ignore')\n",
    "\n",
    "from sklearn.linear_model import LogisticRegression\n",
    "from sklearn.model_selection import GridSearchCV\n",
    "from sklearn.metrics import classification_report, roc_auc_score, average_precision_score\n",
    "from sklearn.preprocessing import StandardScaler\n",
    "import random\n",
    "import re\n",
    "from sklearn.preprocessing import LabelEncoder\n",
    "from sklearn.discriminant_analysis import LinearDiscriminantAnalysis\n",
    "from deem import deem"
   ]
  },
  {
   "cell_type": "code",
   "execution_count": 2,
   "metadata": {},
   "outputs": [],
   "source": [
    "param_grid = {'LR_param': {'C':[10**k for k in range(-10, 6, 2)]}, 'scoring': 'roc_auc', 'cv': 3, 'random_state': 42}\n",
    "\n",
    "with open(\"openmic_classmap_10.json\", \"r\") as f: # only consider 10 classes of Openmic dataset\n",
    "    class_map = json.load(f)\n",
    "    \n",
    "# use a dict to align the classes between Openmic dataset (key) and Irmas dataset (val)\n",
    "with open(\"class_align.json\", \"r\") as f: # only consider 10 classes of Openmic dataset\n",
    "    class_align = json.load(f)\n",
    "\n",
    "with open(\"genre_map.json\", \"r\") as f: # only consider 10 classes of Openmic dataset\n",
    "    genre_map = json.load(f)\n",
    "aligned_genre = list(genre_map)[:-1]\n",
    "\n",
    "with open(\"instrument_map.json\", \"r\") as f: # only consider 10 classes of Openmic dataset\n",
    "    instrument_map = json.load(f)"
   ]
  },
  {
   "cell_type": "markdown",
   "metadata": {},
   "source": [
    "# Load embeddings and align classes"
   ]
  },
  {
   "cell_type": "code",
   "execution_count": 3,
   "metadata": {},
   "outputs": [
    {
     "name": "stdout",
     "output_type": "stream",
     "text": [
      "(13410, 128) (13410,)\n",
      "(6705,)\n"
     ]
    },
    {
     "name": "stderr",
     "output_type": "stream",
     "text": [
      "100%|██████████| 6705/6705 [00:01<00:00, 4644.74it/s]\n"
     ]
    },
    {
     "name": "stdout",
     "output_type": "stream",
     "text": [
      "(6705, 128) (6705,)\n",
      "(180000, 128) (180000,)\n"
     ]
    },
    {
     "name": "stderr",
     "output_type": "stream",
     "text": [
      "100%|██████████| 20000/20000 [00:56<00:00, 355.11it/s]\n"
     ]
    },
    {
     "name": "stdout",
     "output_type": "stream",
     "text": [
      "(20000, 128) (20000,)\n",
      "(20000, 20) (20000, 20) (20000,)\n"
     ]
    },
    {
     "name": "stderr",
     "output_type": "stream",
     "text": [
      "100%|██████████| 20000/20000 [00:17<00:00, 1114.62it/s]\n"
     ]
    },
    {
     "name": "stdout",
     "output_type": "stream",
     "text": [
      "(20000, 128) (20000, 20) (20000, 20)\n",
      "# Train: 14915,  # Test: 5085\n"
     ]
    },
    {
     "name": "stderr",
     "output_type": "stream",
     "text": [
      "100%|██████████| 14915/14915 [00:00<00:00, 35360.59it/s]\n",
      "100%|██████████| 5085/5085 [00:00<00:00, 32028.17it/s]\n"
     ]
    }
   ],
   "source": [
    "embedding = 'vggish'\n",
    "debias_method = ''\n",
    "\n",
    "deb = deem(embedding = embedding, debias_method = debias_method, feature_dir='./embeddings.h5', \n",
    "           instrument_map=instrument_map, genre_map=genre_map, param_grid=param_grid, class_align=class_align)\n",
    "\n",
    "(X_train_irmas, Y_train_irmas), (X_test_irmas, Y_test_irmas), (genre_train_irmas, genre_test_irmas) = deb.load_irmas()\n",
    "(X_train_openmic, Y_train_openmic), (X_test_openmic, Y_test_openmic), \\\n",
    "(Y_mask_train, Y_mask_test), (genre_train_openmic, genre_test_openmic) = deb.load_openmic()"
   ]
  },
  {
   "cell_type": "code",
   "execution_count": 4,
   "metadata": {},
   "outputs": [
    {
     "data": {
      "text/plain": [
       "Counter({'guitar': 1051,\n",
       "         'piano': 551,\n",
       "         'trumpet': 427,\n",
       "         'violin': 437,\n",
       "         'voice': 587,\n",
       "         'clarinet': 378,\n",
       "         'saxophone': 476,\n",
       "         'flute': 330,\n",
       "         'cello': 294,\n",
       "         'organ': 508})"
      ]
     },
     "execution_count": 4,
     "metadata": {},
     "output_type": "execute_result"
    }
   ],
   "source": [
    "cl.Counter(Y_train_irmas)"
   ]
  },
  {
   "cell_type": "code",
   "execution_count": 5,
   "metadata": {},
   "outputs": [
    {
     "data": {
      "text/plain": [
       "Counter({'pop_rock': 2981,\n",
       "         'country_folk': 1564,\n",
       "         'jazz_blue': 1247,\n",
       "         'latin_soul': 103,\n",
       "         'classical': 1022})"
      ]
     },
     "execution_count": 5,
     "metadata": {},
     "output_type": "execute_result"
    }
   ],
   "source": [
    "cl.Counter(genre_train_openmic)"
   ]
  },
  {
   "cell_type": "code",
   "execution_count": 6,
   "metadata": {},
   "outputs": [],
   "source": [
    "def resample_data(feature, genre, num):\n",
    "    \"\"\"\n",
    "    select \"num\" number of samples from original feature with the same genre distribution\n",
    "    ------\n",
    "    feature: original feature\n",
    "    genre: original genre\n",
    "    num: target number of samples\n",
    "    \"\"\"\n",
    "    \n",
    "    feature_all = feature[0,:]\n",
    "    genre_all = genre[0]\n",
    "    ratio =  num / len(feature)  # ratio between target and original => using this ratio to get sample from each genre\n",
    "    \n",
    "    for genre_item in aligned_genre:\n",
    "        genre_target = genre == genre_item  \n",
    "\n",
    "        len_target = genre_target.sum()  # number of samples of this specific genre\n",
    "        idx_shuffle = random.sample(range(len_target), len_target)  # shuffle the idx to select randomly  \n",
    "        idx_keep = idx_shuffle[:int(len_target * ratio)]  # select \"total * ratio\" samples from this genre\n",
    "\n",
    "        feature_new = feature[genre_target][idx_keep]\n",
    "        genre_new = genre[genre_target][idx_keep]\n",
    "\n",
    "        feature_all = np.vstack((feature_all, feature_new))\n",
    "        genre_all = np.hstack((genre_all, genre_new))\n",
    "\n",
    "    return feature_all[1:,], genre_all[1:]"
   ]
  },
  {
   "cell_type": "markdown",
   "metadata": {},
   "source": [
    "# data composition"
   ]
  },
  {
   "cell_type": "code",
   "execution_count": 7,
   "metadata": {},
   "outputs": [],
   "source": [
    "class_list = list(class_map.keys())\n",
    "data = ['OpenMIC', 'IRMAS']"
   ]
  },
  {
   "cell_type": "code",
   "execution_count": 10,
   "metadata": {},
   "outputs": [],
   "source": [
    "# check data amount\n",
    "openmic_inst = []\n",
    "openmic_noninst = []\n",
    "openmic_inst_genre = {inst:[] for inst in class_list}\n",
    "irmas_inst = []\n",
    "irmas_noninst = []\n",
    "irmas_inst_genre = {inst:[] for inst in class_list}\n",
    "\n",
    "for inst in class_list:\n",
    "    ###### openmic ######\n",
    "    # Map the instrument name to its column number\n",
    "    inst_num = class_map[inst]\n",
    "    train_inst = Y_mask_train[:, inst_num]\n",
    "    \n",
    "    genre_train_inst_openmic = genre_train_openmic[train_inst]\n",
    "    X_train_inst_openmic = X_train_openmic[train_inst]\n",
    "    Y_train_inst_openmic = Y_train_openmic[train_inst, inst_num] >= 0.5\n",
    "    Y_train_noninst_openmic = Y_train_openmic[train_inst, inst_num] < 0.5\n",
    "    \n",
    "    ###### irmas ######\n",
    "    X_train_inst_irmas = X_train_irmas\n",
    "    genre_train_inst_irmas = genre_train_irmas\n",
    "\n",
    "    # get the training and testing labels for each instrument\n",
    "    Y_train_inst_irmas = Y_train_irmas==inst\n",
    "    Y_train_noninst_irmas = Y_train_irmas!=inst\n",
    "\n",
    "    ###### classification ######\n",
    "    X_train_inst_openmic_true = X_train_inst_openmic[Y_train_inst_openmic]\n",
    "    X_train_inst_openmic_false = X_train_inst_openmic[Y_train_noninst_openmic]\n",
    "\n",
    "    X_train_inst_irmas_true = X_train_inst_irmas[Y_train_inst_irmas]\n",
    "    X_train_inst_irmas_false = X_train_inst_irmas[Y_train_noninst_irmas]\n",
    "\n",
    "    genre_train_inst_openmic_true = genre_train_inst_openmic[Y_train_inst_openmic]\n",
    "    genre_train_inst_openmic_false = genre_train_inst_openmic[Y_train_noninst_openmic]\n",
    "\n",
    "    genre_train_inst_irmas_true = genre_train_inst_irmas[Y_train_inst_irmas]\n",
    "    genre_train_inst_irmas_false = genre_train_inst_irmas[Y_train_noninst_irmas]\n",
    "\n",
    "    dim_inst = min(X_train_inst_openmic_true.shape[0], X_train_inst_irmas_true.shape[0])\n",
    "    dim_noninst = min(X_train_inst_openmic_false.shape[0], X_train_inst_irmas_false.shape[0])\n",
    "\n",
    "    X_train_inst_openmic_true, genre_train_inst_openmic_true = resample_data(X_train_inst_openmic_true, genre_train_inst_openmic_true, dim_inst)\n",
    "    X_train_inst_irmas_true, genre_train_inst_irmas_true = resample_data(X_train_inst_irmas_true, genre_train_inst_irmas_true, dim_inst)\n",
    "\n",
    "    X_train_inst_openmic_false, genre_train_inst_openmic_false = resample_data(X_train_inst_openmic_false, genre_train_inst_openmic_false, dim_noninst)\n",
    "    X_train_inst_irmas_false, genre_train_inst_irmas_false = resample_data(X_train_inst_irmas_false, genre_train_inst_irmas_false, dim_noninst)\n",
    "\n",
    "    openmic_inst.append(X_train_inst_openmic_true.shape[0])\n",
    "    openmic_noninst.append(X_train_inst_openmic_false.shape[0])\n",
    "    irmas_inst.append(X_train_inst_irmas_true.shape[0])\n",
    "    irmas_noninst.append(X_train_inst_irmas_false.shape[0])\n",
    "\n",
    "    openmic_inst_genre[inst] = genre_train_inst_openmic_true\n",
    "    irmas_inst_genre[inst] = genre_train_inst_irmas_true"
   ]
  },
  {
   "cell_type": "code",
   "execution_count": 11,
   "metadata": {},
   "outputs": [
    {
     "data": {
      "image/png": "[encoded data removed]",
      "text/plain": [
       "<Figure size 800x300 with 1 Axes>"
      ]
     },
     "metadata": {},
     "output_type": "display_data"
    }
   ],
   "source": [
    "sns.set_theme(context='notebook', style='whitegrid')\n",
    "plt.rcParams['figure.constrained_layout.use'] = True\n",
    "df = pd.DataFrame({'instrument': class_list, \n",
    "                    'openmic_inst': openmic_inst,\n",
    "                    'openmic_noninst': openmic_noninst,\n",
    "                    'irmas_inst': irmas_inst,\n",
    "                    'irmas_noninst': irmas_noninst})\n",
    "\n",
    "fig, ax = plt.subplots(figsize=(8,3))\n",
    "# colors = ['#0271AE', '#DC2830']\n",
    "colors = ['tab:green', 'tab:blue']\n",
    "# colors = ['green', 'blue', 'tab:green', 'tab:blue']\n",
    "df.plot(stacked=True, kind='bar', x='instrument', y=['irmas_inst','irmas_noninst'], ax=ax, position=1, width=0.4, color=colors, alpha=.5)\n",
    "df.plot(stacked=True, kind='bar', x='instrument', y=['openmic_inst','openmic_noninst'], ax=ax, position=0, width=0.4, color=colors)\n",
    "plt.xlim([-.6, len(df) - .4])\n",
    "plt.xticks(rotation=30)\n",
    "plt.xlabel('')\n",
    "plt.ylabel('number of examples')\n",
    "plt.savefig('results/train_set_distribution_ori_sameamount.pdf', bbox_inches='tight')"
   ]
  },
  {
   "cell_type": "code",
   "execution_count": 12,
   "metadata": {},
   "outputs": [],
   "source": [
    "with open(\"genre_map.json\", \"r\") as f: # only consider 10 classes of Openmic dataset\n",
    "    genre_map = json.load(f)"
   ]
  },
  {
   "cell_type": "code",
   "execution_count": 13,
   "metadata": {},
   "outputs": [],
   "source": [
    "genre_info = pd.DataFrame(columns=['instrument', 'genre', 'examples', 'train_set'])\n",
    "\n",
    "for inst in class_list:\n",
    "    inst_genre_num = []\n",
    "    for genre in list(genre_map):\n",
    "        inst_genre_num.append(len(irmas_inst_genre[inst][irmas_inst_genre[inst] == genre]))\n",
    "\n",
    "    genre_inst = pd.DataFrame(columns=['instrument', 'genre', 'examples', 'train_set'])\n",
    "    genre_inst['instrument'] = [inst] * len(list(genre_map))\n",
    "    genre_inst['genre'] = list(genre_map)\n",
    "    genre_inst['examples'] = inst_genre_num\n",
    "    genre_inst['train_set'] = ['irmas'] * len(list(genre_map))\n",
    "\n",
    "    genre_info = genre_info.append(genre_inst)\n",
    "    \n",
    "for inst in class_list:\n",
    "    inst_genre_num = []\n",
    "    for genre in list(genre_map):\n",
    "        inst_genre_num.append(len(openmic_inst_genre[inst][openmic_inst_genre[inst] == genre]))\n",
    "\n",
    "    genre_inst = pd.DataFrame(columns=['instrument', 'genre', 'examples', 'train_set'])\n",
    "    genre_inst['instrument'] = [inst] * len(list(genre_map))\n",
    "    genre_inst['genre'] = list(genre_map)\n",
    "    genre_inst['examples'] = inst_genre_num\n",
    "    genre_inst['train_set'] = ['openmic'] * len(list(genre_map))\n",
    "\n",
    "    genre_info = genre_info.append(genre_inst)"
   ]
  },
  {
   "cell_type": "code",
   "execution_count": 14,
   "metadata": {},
   "outputs": [
    {
     "data": {
      "text/html": [
       "<div>\n",
       "<style scoped>\n",
       "    .dataframe tbody tr th:only-of-type {\n",
       "        vertical-align: middle;\n",
       "    }\n",
       "\n",
       "    .dataframe tbody tr th {\n",
       "        vertical-align: top;\n",
       "    }\n",
       "\n",
       "    .dataframe thead th {\n",
       "        text-align: right;\n",
       "    }\n",
       "</style>\n",
       "<table border=\"1\" class=\"dataframe\">\n",
       "  <thead>\n",
       "    <tr style=\"text-align: right;\">\n",
       "      <th></th>\n",
       "      <th>instrument</th>\n",
       "      <th>genre</th>\n",
       "      <th>examples</th>\n",
       "      <th>train_set</th>\n",
       "    </tr>\n",
       "  </thead>\n",
       "  <tbody>\n",
       "    <tr>\n",
       "      <th>0</th>\n",
       "      <td>cello</td>\n",
       "      <td>pop_rock</td>\n",
       "      <td>82</td>\n",
       "      <td>irmas</td>\n",
       "    </tr>\n",
       "    <tr>\n",
       "      <th>1</th>\n",
       "      <td>cello</td>\n",
       "      <td>jazz_blue</td>\n",
       "      <td>22</td>\n",
       "      <td>irmas</td>\n",
       "    </tr>\n",
       "    <tr>\n",
       "      <th>2</th>\n",
       "      <td>cello</td>\n",
       "      <td>classical</td>\n",
       "      <td>184</td>\n",
       "      <td>irmas</td>\n",
       "    </tr>\n",
       "    <tr>\n",
       "      <th>3</th>\n",
       "      <td>cello</td>\n",
       "      <td>country_folk</td>\n",
       "      <td>0</td>\n",
       "      <td>irmas</td>\n",
       "    </tr>\n",
       "    <tr>\n",
       "      <th>4</th>\n",
       "      <td>cello</td>\n",
       "      <td>latin_soul</td>\n",
       "      <td>0</td>\n",
       "      <td>irmas</td>\n",
       "    </tr>\n",
       "    <tr>\n",
       "      <th>0</th>\n",
       "      <td>clarinet</td>\n",
       "      <td>pop_rock</td>\n",
       "      <td>58</td>\n",
       "      <td>irmas</td>\n",
       "    </tr>\n",
       "    <tr>\n",
       "      <th>1</th>\n",
       "      <td>clarinet</td>\n",
       "      <td>jazz_blue</td>\n",
       "      <td>61</td>\n",
       "      <td>irmas</td>\n",
       "    </tr>\n",
       "    <tr>\n",
       "      <th>2</th>\n",
       "      <td>clarinet</td>\n",
       "      <td>classical</td>\n",
       "      <td>102</td>\n",
       "      <td>irmas</td>\n",
       "    </tr>\n",
       "    <tr>\n",
       "      <th>3</th>\n",
       "      <td>clarinet</td>\n",
       "      <td>country_folk</td>\n",
       "      <td>0</td>\n",
       "      <td>irmas</td>\n",
       "    </tr>\n",
       "    <tr>\n",
       "      <th>4</th>\n",
       "      <td>clarinet</td>\n",
       "      <td>latin_soul</td>\n",
       "      <td>0</td>\n",
       "      <td>irmas</td>\n",
       "    </tr>\n",
       "  </tbody>\n",
       "</table>\n",
       "</div>"
      ],
      "text/plain": [
       "  instrument         genre examples train_set\n",
       "0      cello      pop_rock       82     irmas\n",
       "1      cello     jazz_blue       22     irmas\n",
       "2      cello     classical      184     irmas\n",
       "3      cello  country_folk        0     irmas\n",
       "4      cello    latin_soul        0     irmas\n",
       "0   clarinet      pop_rock       58     irmas\n",
       "1   clarinet     jazz_blue       61     irmas\n",
       "2   clarinet     classical      102     irmas\n",
       "3   clarinet  country_folk        0     irmas\n",
       "4   clarinet    latin_soul        0     irmas"
      ]
     },
     "execution_count": 14,
     "metadata": {},
     "output_type": "execute_result"
    }
   ],
   "source": [
    "genre_info[:10]"
   ]
  },
  {
   "cell_type": "code",
   "execution_count": 15,
   "metadata": {},
   "outputs": [
    {
     "data": {
      "text/plain": [
       "array([288, 223, 179, 577, 292, 546, 466, 416, 387, 360])"
      ]
     },
     "execution_count": 15,
     "metadata": {},
     "output_type": "execute_result"
    }
   ],
   "source": [
    "openmic_perinst = []\n",
    "for instrument in class_list:\n",
    "    openmic_perinst.append(list(genre_info.loc[(genre_info['train_set'] == 'openmic') & (genre_info['instrument'] == instrument)]['examples']))\n",
    "\n",
    "openmic_perinst = np.array(openmic_perinst)\n",
    "np.transpose(openmic_perinst)[:-1,:].sum(0)"
   ]
  },
  {
   "cell_type": "code",
   "execution_count": 16,
   "metadata": {},
   "outputs": [
    {
     "data": {
      "text/plain": [
       "array([288, 221, 181, 578, 290, 551, 476, 427, 386, 340])"
      ]
     },
     "execution_count": 16,
     "metadata": {},
     "output_type": "execute_result"
    }
   ],
   "source": [
    "irmas_perinst = []\n",
    "for instrument in class_list:\n",
    "    irmas_perinst.append(list(genre_info.loc[(genre_info['train_set'] == 'irmas') & (genre_info['instrument'] == instrument)]['examples']))\n",
    "\n",
    "irmas_perinst = np.array(irmas_perinst)\n",
    "np.transpose(irmas_perinst)[:-1,:].sum(0)"
   ]
  },
  {
   "cell_type": "code",
   "execution_count": 17,
   "metadata": {},
   "outputs": [
    {
     "name": "stdout",
     "output_type": "stream",
     "text": [
      "['cello', 'clarinet', 'flute', 'guitar', 'organ', 'piano', 'saxophone', 'trumpet', 'violin', 'voice']\n",
      "[288, 223, 179, 577, 292, 546, 466, 416, 387, 360]\n",
      "[288, 221, 181, 578, 290, 551, 476, 427, 386, 340]\n"
     ]
    }
   ],
   "source": [
    "openmic_inst = []; irmas_inst = []\n",
    "for inst in class_list:\n",
    "    openmic_inst.append(genre_info.loc[(genre_info['instrument'] == inst) & (genre_info['train_set'] == 'openmic')]['examples'].sum())\n",
    "    irmas_inst.append(genre_info.loc[(genre_info['instrument'] == inst) & (genre_info['train_set'] == 'irmas')]['examples'].sum())\n",
    "print(class_list)\n",
    "print(openmic_inst)\n",
    "print(irmas_inst)"
   ]
  },
  {
   "cell_type": "code",
   "execution_count": 18,
   "metadata": {},
   "outputs": [
    {
     "data": {
      "image/png": "[encoded data removed]",
      "text/plain": [
       "<Figure size 880x440 with 2 Axes>"
      ]
     },
     "metadata": {},
     "output_type": "display_data"
    }
   ],
   "source": [
    "# save cosine similarity into a csv file\n",
    "sns.set_theme(context='notebook', style='whitegrid') # , font_scale=1.6)\n",
    "\n",
    "ax = sns.catplot(data=genre_info, row='train_set', x='instrument', y='examples', hue='genre', kind='bar', height=2.2, aspect=4,\n",
    "               legend_out=False, palette=\"ch:s=.25,rot=-.25\")\n",
    "\n",
    "a0 = ax.fig.axes[0]\n",
    "a0.set_title(\"irmas inst\")\n",
    "# a0.set_ylim([0,400])\n",
    "a1 = ax.fig.axes[1]\n",
    "a1.set_title(\"openmic inst\")\n",
    "# a1.set_ylim([0,400])\n",
    "\n",
    "ax.set(ylabel='number of examples')\n",
    "ax.set(xlabel=None)\n",
    "lgd = sns.move_legend(ax, \"lower center\", bbox_to_anchor=(.54, -.11), ncol=6, title=None, frameon=False)\n",
    "plt.subplots_adjust(wspace=0.1)\n",
    "ax.set_xticklabels(rotation=30)\n",
    "# plt.title('Genre information per instrument')\n",
    "plt.savefig('results/genre_information_ori_sameamount.pdf', bbox_inches='tight')"
   ]
  },
  {
   "attachments": {},
   "cell_type": "markdown",
   "metadata": {},
   "source": [
    "## A-distance: original"
   ]
  },
  {
   "cell_type": "code",
   "execution_count": 4,
   "metadata": {},
   "outputs": [],
   "source": [
    "from proxy_A_distance import proxy_a_distance"
   ]
  },
  {
   "cell_type": "code",
   "execution_count": 5,
   "metadata": {},
   "outputs": [
    {
     "data": {
      "text/plain": [
       "0.8292356581368121"
      ]
     },
     "execution_count": 5,
     "metadata": {},
     "output_type": "execute_result"
    }
   ],
   "source": [
    "proxy_a_distance(X_train_irmas, X_train_openmic, verbose=False)"
   ]
  },
  {
   "cell_type": "code",
   "execution_count": 10,
   "metadata": {},
   "outputs": [
    {
     "data": {
      "text/plain": [
       "0.8292356581368121"
      ]
     },
     "execution_count": 10,
     "metadata": {},
     "output_type": "execute_result"
    }
   ],
   "source": [
    "proxy_a_distance(X_train_openmic, X_train_irmas, verbose=False)"
   ]
  },
  {
   "cell_type": "code",
   "execution_count": 9,
   "metadata": {},
   "outputs": [],
   "source": [
    "# check data amount\n",
    "openmic_inst = []\n",
    "openmic_noninst = []\n",
    "openmic_inst_genre = {inst:[] for inst in instrument_map}\n",
    "irmas_inst = []\n",
    "irmas_noninst = []\n",
    "irmas_inst_genre = {inst:[] for inst in instrument_map}\n",
    "\n",
    "Adiance_inst = []\n",
    "Adiance_inst_true = []\n",
    "\n",
    "for inst in instrument_map:\n",
    "    ###### openmic ######\n",
    "    # Map the instrument name to its column number\n",
    "    inst_num = class_map[inst]\n",
    "    train_inst = Y_mask_train[:, inst_num]\n",
    "    \n",
    "    genre_train_inst_openmic = genre_train_openmic[train_inst]\n",
    "    X_train_inst_openmic = X_train_openmic[train_inst]\n",
    "    Y_train_inst_openmic = Y_train_openmic[train_inst, inst_num] >= 0.5\n",
    "    Y_train_noninst_openmic = Y_train_openmic[train_inst, inst_num] < 0.5\n",
    "    \n",
    "    ###### irmas ######\n",
    "    X_train_inst_irmas = X_train_irmas\n",
    "    genre_train_inst_irmas = genre_train_irmas\n",
    "\n",
    "    # get the training and testing labels for each instrument\n",
    "    Y_train_inst_irmas = Y_train_irmas==inst\n",
    "    Y_train_noninst_irmas = Y_train_irmas!=inst\n",
    "\n",
    "    ###### classification ######\n",
    "    X_train_inst_openmic_true = X_train_inst_openmic[Y_train_inst_openmic]\n",
    "    X_train_inst_openmic_false = X_train_inst_openmic[Y_train_noninst_openmic]\n",
    "\n",
    "    X_train_inst_irmas_true = X_train_inst_irmas[Y_train_inst_irmas]\n",
    "    X_train_inst_irmas_false = X_train_inst_irmas[Y_train_noninst_irmas]\n",
    "\n",
    "    genre_train_inst_openmic_true = genre_train_inst_openmic[Y_train_inst_openmic]\n",
    "    genre_train_inst_openmic_false = genre_train_inst_openmic[Y_train_noninst_openmic]\n",
    "\n",
    "    genre_train_inst_irmas_true = genre_train_inst_irmas[Y_train_inst_irmas]\n",
    "    genre_train_inst_irmas_false = genre_train_inst_irmas[Y_train_noninst_irmas]\n",
    "\n",
    "    dim_inst = min(X_train_inst_openmic_true.shape[0], X_train_inst_irmas_true.shape[0])\n",
    "    dim_noninst = min(X_train_inst_openmic_false.shape[0], X_train_inst_irmas_false.shape[0])\n",
    "\n",
    "    X_train_inst_openmic_true, genre_train_inst_openmic_true = deb.resample_data(X_train_inst_openmic_true, genre_train_inst_openmic_true, dim_inst)\n",
    "    X_train_inst_irmas_true, genre_train_inst_irmas_true = deb.resample_data(X_train_inst_irmas_true, genre_train_inst_irmas_true, dim_inst)\n",
    "\n",
    "    X_train_inst_openmic_false, genre_train_inst_openmic_false = deb.resample_data(X_train_inst_openmic_false, genre_train_inst_openmic_false, dim_noninst)\n",
    "    X_train_inst_irmas_false, genre_train_inst_irmas_false = deb.resample_data(X_train_inst_irmas_false, genre_train_inst_irmas_false, dim_noninst)\n",
    "\n",
    "    X_train_inst_openmic = np.vstack((X_train_inst_openmic_true, X_train_inst_openmic_false))\n",
    "    X_train_inst_irmas = np.vstack((X_train_inst_irmas_true, X_train_inst_irmas_false))\n",
    "\n",
    "    Adiance_inst.append(proxy_a_distance(X_train_inst_irmas, X_train_inst_openmic, verbose=False))\n",
    "    Adiance_inst_true.append(proxy_a_distance(X_train_inst_irmas_true, X_train_inst_openmic_true, verbose=False))"
   ]
  },
  {
   "cell_type": "code",
   "execution_count": 11,
   "metadata": {},
   "outputs": [
    {
     "data": {
      "text/plain": [
       "[0.8945686900958467,\n",
       " 1.0225225225225225,\n",
       " 1.0984974958263773,\n",
       " 1.0053475935828877,\n",
       " 0.7601683029453015,\n",
       " 0.3008849557522124,\n",
       " 0.8522483940042827,\n",
       " 0.8829568788501028,\n",
       " 0.4072948328267476,\n",
       " 0.8648648648648649]"
      ]
     },
     "execution_count": 11,
     "metadata": {},
     "output_type": "execute_result"
    }
   ],
   "source": [
    "Adiance_inst"
   ]
  },
  {
   "cell_type": "code",
   "execution_count": 14,
   "metadata": {},
   "outputs": [
    {
     "data": {
      "text/plain": [
       "[0.7603833865814698,\n",
       " 0.954954954954955,\n",
       " 1.0784641068447414,\n",
       " 0.9679144385026739,\n",
       " 0.5133239831697054,\n",
       " 0.23514538558786335,\n",
       " 0.7152034261241971,\n",
       " 0.8788501026694044,\n",
       " 0.32826747720364735,\n",
       " 0.8108108108108107]"
      ]
     },
     "execution_count": 14,
     "metadata": {},
     "output_type": "execute_result"
    }
   ],
   "source": [
    "Adiance_inst  # after LDA"
   ]
  },
  {
   "cell_type": "code",
   "execution_count": 12,
   "metadata": {},
   "outputs": [
    {
     "data": {
      "text/plain": [
       "[1.1141868512110726,\n",
       " 0.5291479820627802,\n",
       " 0.4918032786885247,\n",
       " 0.9222797927461139,\n",
       " 1.8350515463917525,\n",
       " 0.5963636363636364,\n",
       " 0.7004219409282701,\n",
       " 0.8758782201405153,\n",
       " 0.3979328165374678,\n",
       " 1.346049046321526]"
      ]
     },
     "execution_count": 12,
     "metadata": {},
     "output_type": "execute_result"
    }
   ],
   "source": [
    "Adiance_inst_true"
   ]
  },
  {
   "cell_type": "code",
   "execution_count": 15,
   "metadata": {},
   "outputs": [
    {
     "data": {
      "text/plain": [
       "[0.8927335640138407,\n",
       " 0.3677130044843049,\n",
       " 0.2295081967213115,\n",
       " 0.8048359240069085,\n",
       " 1.8762886597938144,\n",
       " 0.6545454545454545,\n",
       " 0.5822784810126582,\n",
       " 0.7728337236533958,\n",
       " 0.3979328165374678,\n",
       " 1.346049046321526]"
      ]
     },
     "execution_count": 15,
     "metadata": {},
     "output_type": "execute_result"
    }
   ],
   "source": [
    "Adiance_inst_true # after LDA"
   ]
  },
  {
   "cell_type": "markdown",
   "metadata": {},
   "source": [
    "## A-distance: after LDA"
   ]
  },
  {
   "cell_type": "code",
   "execution_count": 13,
   "metadata": {},
   "outputs": [],
   "source": [
    "# check data amount\n",
    "openmic_inst = []\n",
    "openmic_noninst = []\n",
    "openmic_inst_genre = {inst:[] for inst in instrument_map}\n",
    "irmas_inst = []\n",
    "irmas_noninst = []\n",
    "irmas_inst_genre = {inst:[] for inst in instrument_map}\n",
    "\n",
    "Adiance_inst = []\n",
    "Adiance_inst_true = []\n",
    "\n",
    "for inst in instrument_map:\n",
    "    ###### openmic ######\n",
    "    # Map the instrument name to its column number\n",
    "    inst_num = class_map[inst]\n",
    "    train_inst = Y_mask_train[:, inst_num]\n",
    "    \n",
    "    genre_train_inst_openmic = genre_train_openmic[train_inst]\n",
    "    X_train_inst_openmic = X_train_openmic[train_inst]\n",
    "    Y_train_inst_openmic = Y_train_openmic[train_inst, inst_num] >= 0.5\n",
    "    Y_train_noninst_openmic = Y_train_openmic[train_inst, inst_num] < 0.5\n",
    "    \n",
    "    ###### irmas ######\n",
    "    X_train_inst_irmas = X_train_irmas\n",
    "    genre_train_inst_irmas = genre_train_irmas\n",
    "\n",
    "    # get the training and testing labels for each instrument\n",
    "    Y_train_inst_irmas = Y_train_irmas==inst\n",
    "    Y_train_noninst_irmas = Y_train_irmas!=inst\n",
    "\n",
    "    ###### classification ######\n",
    "    X_train_inst_openmic_true = X_train_inst_openmic[Y_train_inst_openmic]\n",
    "    X_train_inst_openmic_false = X_train_inst_openmic[Y_train_noninst_openmic]\n",
    "\n",
    "    X_train_inst_irmas_true = X_train_inst_irmas[Y_train_inst_irmas]\n",
    "    X_train_inst_irmas_false = X_train_inst_irmas[Y_train_noninst_irmas]\n",
    "\n",
    "    genre_train_inst_openmic_true = genre_train_inst_openmic[Y_train_inst_openmic]\n",
    "    genre_train_inst_openmic_false = genre_train_inst_openmic[Y_train_noninst_openmic]\n",
    "\n",
    "    genre_train_inst_irmas_true = genre_train_inst_irmas[Y_train_inst_irmas]\n",
    "    genre_train_inst_irmas_false = genre_train_inst_irmas[Y_train_noninst_irmas]\n",
    "\n",
    "    dim_inst = min(X_train_inst_openmic_true.shape[0], X_train_inst_irmas_true.shape[0])\n",
    "    dim_noninst = min(X_train_inst_openmic_false.shape[0], X_train_inst_irmas_false.shape[0])\n",
    "\n",
    "    X_train_inst_openmic_true, genre_train_inst_openmic_true = deb.resample_data(X_train_inst_openmic_true, genre_train_inst_openmic_true, dim_inst)\n",
    "    X_train_inst_irmas_true, genre_train_inst_irmas_true = deb.resample_data(X_train_inst_irmas_true, genre_train_inst_irmas_true, dim_inst)\n",
    "\n",
    "    X_train_inst_openmic_false, genre_train_inst_openmic_false = deb.resample_data(X_train_inst_openmic_false, genre_train_inst_openmic_false, dim_noninst)\n",
    "    X_train_inst_irmas_false, genre_train_inst_irmas_false = deb.resample_data(X_train_inst_irmas_false, genre_train_inst_irmas_false, dim_noninst)\n",
    "\n",
    "    X_train_inst_openmic = np.vstack((X_train_inst_openmic_true, X_train_inst_openmic_false))\n",
    "    X_train_inst_irmas = np.vstack((X_train_inst_irmas_true, X_train_inst_irmas_false))\n",
    "\n",
    "    ############### LDA ###############\n",
    "    # project the separation direction of the instrument class\n",
    "    X_train_conca = np.vstack((X_train_inst_irmas_true, X_train_inst_openmic_true))\n",
    "    Y_A = np.zeros(len(X_train_inst_irmas_true))\n",
    "    Y_B = np.ones(len(X_train_inst_openmic_true))\n",
    "    Y_conca = np.hstack((Y_A, Y_B))\n",
    "\n",
    "    LDA = LinearDiscriminantAnalysis(solver='eigen', shrinkage='auto')\n",
    "    LDA.fit(X_train_conca, Y_conca)\n",
    "\n",
    "    v = LDA.coef_.copy()\n",
    "    v /= np.sqrt(np.sum(v**2))\n",
    "    A = np.outer(v, v)\n",
    "\n",
    "    X_train_inst_irmas = X_train_inst_irmas.copy().dot(np.eye(len(A)) - A)\n",
    "    X_train_inst_openmic = X_train_inst_openmic.copy().dot(np.eye(len(A)) - A)\n",
    "    X_train_inst_irmas_true = X_train_inst_irmas_true.copy().dot(np.eye(len(A)) - A)\n",
    "    X_train_inst_openmic_true = X_train_inst_openmic_true.copy().dot(np.eye(len(A)) - A)\n",
    "\n",
    "    Adiance_inst.append(proxy_a_distance(X_train_inst_irmas, X_train_inst_openmic, verbose=False))\n",
    "    Adiance_inst_true.append(proxy_a_distance(X_train_inst_irmas_true, X_train_inst_openmic_true, verbose=False))"
   ]
  },
  {
   "cell_type": "code",
   "execution_count": null,
   "metadata": {},
   "outputs": [],
   "source": []
  }
 ],
 "metadata": {
  "kernelspec": {
   "display_name": "ismir2022embedding",
   "language": "python",
   "name": "python3"
  },
  "language_info": {
   "codemirror_mode": {
    "name": "ipython",
    "version": 3
   },
   "file_extension": ".py",
   "mimetype": "text/x-python",
   "name": "python",
   "nbconvert_exporter": "python",
   "pygments_lexer": "ipython3",
   "version": "3.9.0"
  },
  "toc": {
   "base_numbering": 1,
   "nav_menu": {},
   "number_sections": true,
   "sideBar": true,
   "skip_h1_title": false,
   "title_cell": "Table of Contents",
   "title_sidebar": "Contents",
   "toc_cell": false,
   "toc_position": {
    "height": "621.778px",
    "left": "21px",
    "top": "111.139px",
    "width": "165px"
   },
   "toc_section_display": true,
   "toc_window_display": true
  },
  "vscode": {
   "interpreter": {
    "hash": "e2e45284a6c14b0a92859aa6111181c4542423174f88d2070b0d025532226888"
   }
  }
 },
 "nbformat": 4,
 "nbformat_minor": 4
}
